{
 "cells": [
  {
   "cell_type": "code",
   "execution_count": 1,
   "metadata": {},
   "outputs": [
    {
     "name": "stdout",
     "output_type": "stream",
     "text": [
      "    symbol   contractSymbol lastPrice priceChange openPrice highPrice  \\\n",
      "0    CLH25  CLH25 (Mar '25)     71.25       +0.22     71.18     71.31   \n",
      "1    CLJ25  CLJ25 (Apr '25)     70.92       +0.18     70.88     70.97   \n",
      "2    CLK25  CLK25 (May '25)     70.47       +0.13     70.37     70.51   \n",
      "3    CLM25  CLM25 (Jun '25)     69.99       +0.10     69.85     70.03   \n",
      "4    CLN25  CLN25 (Jul '25)     69.54       +0.12     69.38     69.54   \n",
      "..     ...              ...       ...         ...       ...       ...   \n",
      "127  CLV35  CLV35 (Oct '35)    60.66s       +0.27      0.00     60.66   \n",
      "128  CLX35  CLX35 (Nov '35)    60.64s       +0.27      0.00     60.64   \n",
      "129  CLZ35  CLZ35 (Dec '35)    60.61s       +0.27      0.00     60.61   \n",
      "130  CLF36  CLF36 (Jan '36)    60.54s       +0.27      0.00     60.54   \n",
      "131  CLG36  CLG36 (Feb '36)    60.48s       +0.27      0.00     60.48   \n",
      "\n",
      "    lowPrice previousPrice volume openInterest  ... raw.openPrice  \\\n",
      "0      71.04         71.03  1,453      276,301  ...         71.18   \n",
      "1      70.72         70.74  1,106      169,388  ...         70.88   \n",
      "2      70.30         70.34    743      128,304  ...         70.37   \n",
      "3      69.85         69.89  1,109      173,519  ...         69.85   \n",
      "4      69.38         69.42    338       87,379  ...         69.38   \n",
      "..       ...           ...    ...          ...  ...           ...   \n",
      "127    60.66         60.39      0            0  ...          0.00   \n",
      "128    60.64         60.37      0            0  ...          0.00   \n",
      "129    60.61         60.34      0            0  ...          0.00   \n",
      "130    60.54         60.27      0            0  ...          0.00   \n",
      "131    60.48         60.21      0            0  ...          0.00   \n",
      "\n",
      "    raw.highPrice  raw.lowPrice raw.previousPrice raw.volume raw.openInterest  \\\n",
      "0           71.31         71.04             71.03     1453.0         276301.0   \n",
      "1           70.97         70.72             70.74     1106.0         169388.0   \n",
      "2           70.51         70.30             70.34      743.0         128304.0   \n",
      "3           70.03         69.85             69.89     1109.0         173519.0   \n",
      "4           69.54         69.38             69.42      338.0          87379.0   \n",
      "..            ...           ...               ...        ...              ...   \n",
      "127         60.66         60.66             60.39        0.0              0.0   \n",
      "128         60.64         60.64             60.37        0.0              0.0   \n",
      "129         60.61         60.61             60.34        0.0              0.0   \n",
      "130         60.54         60.54             60.27        0.0              0.0   \n",
      "131         60.48         60.48             60.21        0.0              0.0   \n",
      "\n",
      "     raw.tradeTime  raw.symbolCode  raw.symbolType  raw.hasOptions  \n",
      "0       1738802401             FUT               2            True  \n",
      "1       1738802417             FUT               2            True  \n",
      "2       1738802227             FUT               2            True  \n",
      "3       1738801802             FUT               2            True  \n",
      "4       1738800543             FUT               2            True  \n",
      "..             ...             ...             ...             ...  \n",
      "127     1738795080             FUT               2            True  \n",
      "128     1738795020             FUT               2            True  \n",
      "129     1738795020             FUT               2            True  \n",
      "130     1738795020             FUT               2            True  \n",
      "131     1738795020             FUT               2            True  \n",
      "\n",
      "[132 rows x 28 columns]\n",
      "['CLH25', 'CLJ25', 'CLK25', 'CLM25', 'CLN25', 'CLQ25', 'CLU25', 'CLV25', 'CLX25', 'CLZ25']\n"
     ]
    },
    {
     "data": {
      "application/vnd.plotly.v1+json": {
       "config": {
        "plotlyServerURL": "https://plot.ly"
       },
       "data": [
        {
         "hovertemplate": "Contract Symbol=%{x}<br>Last Price=%{y}<extra></extra>",
         "legendgroup": "",
         "marker": {
          "color": "#636efa",
          "symbol": "circle"
         },
         "mode": "markers",
         "name": "",
         "orientation": "v",
         "showlegend": false,
         "type": "scatter",
         "x": [
          "CLH25",
          "CLJ25",
          "CLK25",
          "CLM25",
          "CLN25",
          "CLQ25",
          "CLU25",
          "CLV25",
          "CLX25",
          "CLZ25",
          "CLF26",
          "CLG26",
          "CLH26",
          "CLJ26",
          "CLK26",
          "CLM26",
          "CLN26",
          "CLQ26",
          "CLU26",
          "CLV26",
          "CLX26",
          "CLZ26",
          "CLF27",
          "CLG27",
          "CLH27",
          "CLJ27",
          "CLK27",
          "CLM27",
          "CLN27",
          "CLQ27",
          "CLU27",
          "CLV27",
          "CLX27",
          "CLZ27",
          "CLF28",
          "CLG28",
          "CLH28",
          "CLJ28",
          "CLK28",
          "CLM28",
          "CLN28",
          "CLQ28",
          "CLU28",
          "CLV28",
          "CLX28",
          "CLZ28",
          "CLF29",
          "CLG29",
          "CLH29",
          "CLJ29",
          "CLK29",
          "CLM29",
          "CLN29",
          "CLQ29",
          "CLU29",
          "CLV29",
          "CLX29",
          "CLZ29",
          "CLF30",
          "CLG30",
          "CLH30",
          "CLJ30",
          "CLK30",
          "CLM30",
          "CLN30",
          "CLQ30",
          "CLU30",
          "CLV30",
          "CLX30",
          "CLZ30",
          "CLF31",
          "CLG31",
          "CLH31",
          "CLJ31",
          "CLK31",
          "CLM31",
          "CLN31",
          "CLQ31",
          "CLU31",
          "CLV31",
          "CLX31",
          "CLZ31",
          "CLF32",
          "CLG32",
          "CLH32",
          "CLJ32",
          "CLK32",
          "CLM32",
          "CLN32",
          "CLQ32",
          "CLU32",
          "CLV32",
          "CLX32",
          "CLZ32",
          "CLF33",
          "CLG33",
          "CLH33",
          "CLJ33",
          "CLK33",
          "CLM33",
          "CLN33",
          "CLQ33",
          "CLU33",
          "CLV33",
          "CLX33",
          "CLZ33",
          "CLF34",
          "CLG34",
          "CLH34",
          "CLJ34",
          "CLK34",
          "CLM34",
          "CLN34",
          "CLQ34",
          "CLU34",
          "CLV34",
          "CLX34",
          "CLZ34",
          "CLF35",
          "CLG35",
          "CLH35",
          "CLJ35",
          "CLK35",
          "CLM35",
          "CLN35",
          "CLQ35",
          "CLU35",
          "CLV35",
          "CLX35",
          "CLZ35",
          "CLF36",
          "CLG36"
         ],
         "xaxis": "x",
         "y": [
          71.25,
          70.92,
          70.47,
          69.99,
          69.54,
          69.02,
          68.4,
          68,
          67.6,
          67.29,
          66.89,
          66.59,
          66.33,
          66.11,
          65.94,
          65.84,
          65.6,
          65.42,
          65.27,
          65.13,
          65.02,
          64.99,
          64.77,
          64.63,
          64.52,
          64.42,
          64.34,
          64.27,
          64.15,
          64.06,
          63.99,
          63.93,
          63.89,
          63.83,
          63.73,
          63.65,
          63.59,
          63.54,
          63.52,
          63.48,
          63.43,
          63.37,
          63.33,
          63.3,
          63.25,
          63.2,
          63.11,
          63.05,
          63.01,
          62.99,
          62.97,
          62.95,
          62.91,
          62.86,
          62.84,
          62.81,
          62.79,
          62.77,
          62.7,
          62.65,
          62.62,
          62.59,
          62.57,
          62.55,
          62.52,
          62.45,
          62.43,
          62.43,
          62.4,
          62.42,
          62.34,
          62.29,
          62.24,
          62.22,
          62.23,
          62.23,
          62.2,
          62.18,
          62.19,
          62.17,
          62.16,
          62.14,
          62.07,
          62.02,
          61.96,
          61.93,
          61.9,
          61.89,
          61.87,
          61.84,
          61.84,
          61.82,
          61.8,
          61.82,
          61.76,
          61.72,
          61.68,
          61.65,
          61.63,
          61.63,
          61.6,
          61.58,
          61.56,
          61.53,
          61.5,
          61.48,
          61.41,
          61.37,
          61.33,
          61.3,
          61.27,
          61.26,
          61.22,
          61.19,
          61.16,
          61.12,
          61.09,
          61.06,
          60.99,
          60.94,
          60.89,
          60.86,
          60.84,
          60.82,
          60.77,
          60.73,
          60.69,
          60.66,
          60.64,
          60.61,
          60.54,
          60.48
         ],
         "yaxis": "y"
        }
       ],
       "layout": {
        "legend": {
         "tracegroupgap": 0
        },
        "template": {
         "data": {
          "bar": [
           {
            "error_x": {
             "color": "#2a3f5f"
            },
            "error_y": {
             "color": "#2a3f5f"
            },
            "marker": {
             "line": {
              "color": "#E5ECF6",
              "width": 0.5
             },
             "pattern": {
              "fillmode": "overlay",
              "size": 10,
              "solidity": 0.2
             }
            },
            "type": "bar"
           }
          ],
          "barpolar": [
           {
            "marker": {
             "line": {
              "color": "#E5ECF6",
              "width": 0.5
             },
             "pattern": {
              "fillmode": "overlay",
              "size": 10,
              "solidity": 0.2
             }
            },
            "type": "barpolar"
           }
          ],
          "carpet": [
           {
            "aaxis": {
             "endlinecolor": "#2a3f5f",
             "gridcolor": "white",
             "linecolor": "white",
             "minorgridcolor": "white",
             "startlinecolor": "#2a3f5f"
            },
            "baxis": {
             "endlinecolor": "#2a3f5f",
             "gridcolor": "white",
             "linecolor": "white",
             "minorgridcolor": "white",
             "startlinecolor": "#2a3f5f"
            },
            "type": "carpet"
           }
          ],
          "choropleth": [
           {
            "colorbar": {
             "outlinewidth": 0,
             "ticks": ""
            },
            "type": "choropleth"
           }
          ],
          "contour": [
           {
            "colorbar": {
             "outlinewidth": 0,
             "ticks": ""
            },
            "colorscale": [
             [
              0,
              "#0d0887"
             ],
             [
              0.1111111111111111,
              "#46039f"
             ],
             [
              0.2222222222222222,
              "#7201a8"
             ],
             [
              0.3333333333333333,
              "#9c179e"
             ],
             [
              0.4444444444444444,
              "#bd3786"
             ],
             [
              0.5555555555555556,
              "#d8576b"
             ],
             [
              0.6666666666666666,
              "#ed7953"
             ],
             [
              0.7777777777777778,
              "#fb9f3a"
             ],
             [
              0.8888888888888888,
              "#fdca26"
             ],
             [
              1,
              "#f0f921"
             ]
            ],
            "type": "contour"
           }
          ],
          "contourcarpet": [
           {
            "colorbar": {
             "outlinewidth": 0,
             "ticks": ""
            },
            "type": "contourcarpet"
           }
          ],
          "heatmap": [
           {
            "colorbar": {
             "outlinewidth": 0,
             "ticks": ""
            },
            "colorscale": [
             [
              0,
              "#0d0887"
             ],
             [
              0.1111111111111111,
              "#46039f"
             ],
             [
              0.2222222222222222,
              "#7201a8"
             ],
             [
              0.3333333333333333,
              "#9c179e"
             ],
             [
              0.4444444444444444,
              "#bd3786"
             ],
             [
              0.5555555555555556,
              "#d8576b"
             ],
             [
              0.6666666666666666,
              "#ed7953"
             ],
             [
              0.7777777777777778,
              "#fb9f3a"
             ],
             [
              0.8888888888888888,
              "#fdca26"
             ],
             [
              1,
              "#f0f921"
             ]
            ],
            "type": "heatmap"
           }
          ],
          "heatmapgl": [
           {
            "colorbar": {
             "outlinewidth": 0,
             "ticks": ""
            },
            "colorscale": [
             [
              0,
              "#0d0887"
             ],
             [
              0.1111111111111111,
              "#46039f"
             ],
             [
              0.2222222222222222,
              "#7201a8"
             ],
             [
              0.3333333333333333,
              "#9c179e"
             ],
             [
              0.4444444444444444,
              "#bd3786"
             ],
             [
              0.5555555555555556,
              "#d8576b"
             ],
             [
              0.6666666666666666,
              "#ed7953"
             ],
             [
              0.7777777777777778,
              "#fb9f3a"
             ],
             [
              0.8888888888888888,
              "#fdca26"
             ],
             [
              1,
              "#f0f921"
             ]
            ],
            "type": "heatmapgl"
           }
          ],
          "histogram": [
           {
            "marker": {
             "pattern": {
              "fillmode": "overlay",
              "size": 10,
              "solidity": 0.2
             }
            },
            "type": "histogram"
           }
          ],
          "histogram2d": [
           {
            "colorbar": {
             "outlinewidth": 0,
             "ticks": ""
            },
            "colorscale": [
             [
              0,
              "#0d0887"
             ],
             [
              0.1111111111111111,
              "#46039f"
             ],
             [
              0.2222222222222222,
              "#7201a8"
             ],
             [
              0.3333333333333333,
              "#9c179e"
             ],
             [
              0.4444444444444444,
              "#bd3786"
             ],
             [
              0.5555555555555556,
              "#d8576b"
             ],
             [
              0.6666666666666666,
              "#ed7953"
             ],
             [
              0.7777777777777778,
              "#fb9f3a"
             ],
             [
              0.8888888888888888,
              "#fdca26"
             ],
             [
              1,
              "#f0f921"
             ]
            ],
            "type": "histogram2d"
           }
          ],
          "histogram2dcontour": [
           {
            "colorbar": {
             "outlinewidth": 0,
             "ticks": ""
            },
            "colorscale": [
             [
              0,
              "#0d0887"
             ],
             [
              0.1111111111111111,
              "#46039f"
             ],
             [
              0.2222222222222222,
              "#7201a8"
             ],
             [
              0.3333333333333333,
              "#9c179e"
             ],
             [
              0.4444444444444444,
              "#bd3786"
             ],
             [
              0.5555555555555556,
              "#d8576b"
             ],
             [
              0.6666666666666666,
              "#ed7953"
             ],
             [
              0.7777777777777778,
              "#fb9f3a"
             ],
             [
              0.8888888888888888,
              "#fdca26"
             ],
             [
              1,
              "#f0f921"
             ]
            ],
            "type": "histogram2dcontour"
           }
          ],
          "mesh3d": [
           {
            "colorbar": {
             "outlinewidth": 0,
             "ticks": ""
            },
            "type": "mesh3d"
           }
          ],
          "parcoords": [
           {
            "line": {
             "colorbar": {
              "outlinewidth": 0,
              "ticks": ""
             }
            },
            "type": "parcoords"
           }
          ],
          "pie": [
           {
            "automargin": true,
            "type": "pie"
           }
          ],
          "scatter": [
           {
            "fillpattern": {
             "fillmode": "overlay",
             "size": 10,
             "solidity": 0.2
            },
            "type": "scatter"
           }
          ],
          "scatter3d": [
           {
            "line": {
             "colorbar": {
              "outlinewidth": 0,
              "ticks": ""
             }
            },
            "marker": {
             "colorbar": {
              "outlinewidth": 0,
              "ticks": ""
             }
            },
            "type": "scatter3d"
           }
          ],
          "scattercarpet": [
           {
            "marker": {
             "colorbar": {
              "outlinewidth": 0,
              "ticks": ""
             }
            },
            "type": "scattercarpet"
           }
          ],
          "scattergeo": [
           {
            "marker": {
             "colorbar": {
              "outlinewidth": 0,
              "ticks": ""
             }
            },
            "type": "scattergeo"
           }
          ],
          "scattergl": [
           {
            "marker": {
             "colorbar": {
              "outlinewidth": 0,
              "ticks": ""
             }
            },
            "type": "scattergl"
           }
          ],
          "scattermapbox": [
           {
            "marker": {
             "colorbar": {
              "outlinewidth": 0,
              "ticks": ""
             }
            },
            "type": "scattermapbox"
           }
          ],
          "scatterpolar": [
           {
            "marker": {
             "colorbar": {
              "outlinewidth": 0,
              "ticks": ""
             }
            },
            "type": "scatterpolar"
           }
          ],
          "scatterpolargl": [
           {
            "marker": {
             "colorbar": {
              "outlinewidth": 0,
              "ticks": ""
             }
            },
            "type": "scatterpolargl"
           }
          ],
          "scatterternary": [
           {
            "marker": {
             "colorbar": {
              "outlinewidth": 0,
              "ticks": ""
             }
            },
            "type": "scatterternary"
           }
          ],
          "surface": [
           {
            "colorbar": {
             "outlinewidth": 0,
             "ticks": ""
            },
            "colorscale": [
             [
              0,
              "#0d0887"
             ],
             [
              0.1111111111111111,
              "#46039f"
             ],
             [
              0.2222222222222222,
              "#7201a8"
             ],
             [
              0.3333333333333333,
              "#9c179e"
             ],
             [
              0.4444444444444444,
              "#bd3786"
             ],
             [
              0.5555555555555556,
              "#d8576b"
             ],
             [
              0.6666666666666666,
              "#ed7953"
             ],
             [
              0.7777777777777778,
              "#fb9f3a"
             ],
             [
              0.8888888888888888,
              "#fdca26"
             ],
             [
              1,
              "#f0f921"
             ]
            ],
            "type": "surface"
           }
          ],
          "table": [
           {
            "cells": {
             "fill": {
              "color": "#EBF0F8"
             },
             "line": {
              "color": "white"
             }
            },
            "header": {
             "fill": {
              "color": "#C8D4E3"
             },
             "line": {
              "color": "white"
             }
            },
            "type": "table"
           }
          ]
         },
         "layout": {
          "annotationdefaults": {
           "arrowcolor": "#2a3f5f",
           "arrowhead": 0,
           "arrowwidth": 1
          },
          "autotypenumbers": "strict",
          "coloraxis": {
           "colorbar": {
            "outlinewidth": 0,
            "ticks": ""
           }
          },
          "colorscale": {
           "diverging": [
            [
             0,
             "#8e0152"
            ],
            [
             0.1,
             "#c51b7d"
            ],
            [
             0.2,
             "#de77ae"
            ],
            [
             0.3,
             "#f1b6da"
            ],
            [
             0.4,
             "#fde0ef"
            ],
            [
             0.5,
             "#f7f7f7"
            ],
            [
             0.6,
             "#e6f5d0"
            ],
            [
             0.7,
             "#b8e186"
            ],
            [
             0.8,
             "#7fbc41"
            ],
            [
             0.9,
             "#4d9221"
            ],
            [
             1,
             "#276419"
            ]
           ],
           "sequential": [
            [
             0,
             "#0d0887"
            ],
            [
             0.1111111111111111,
             "#46039f"
            ],
            [
             0.2222222222222222,
             "#7201a8"
            ],
            [
             0.3333333333333333,
             "#9c179e"
            ],
            [
             0.4444444444444444,
             "#bd3786"
            ],
            [
             0.5555555555555556,
             "#d8576b"
            ],
            [
             0.6666666666666666,
             "#ed7953"
            ],
            [
             0.7777777777777778,
             "#fb9f3a"
            ],
            [
             0.8888888888888888,
             "#fdca26"
            ],
            [
             1,
             "#f0f921"
            ]
           ],
           "sequentialminus": [
            [
             0,
             "#0d0887"
            ],
            [
             0.1111111111111111,
             "#46039f"
            ],
            [
             0.2222222222222222,
             "#7201a8"
            ],
            [
             0.3333333333333333,
             "#9c179e"
            ],
            [
             0.4444444444444444,
             "#bd3786"
            ],
            [
             0.5555555555555556,
             "#d8576b"
            ],
            [
             0.6666666666666666,
             "#ed7953"
            ],
            [
             0.7777777777777778,
             "#fb9f3a"
            ],
            [
             0.8888888888888888,
             "#fdca26"
            ],
            [
             1,
             "#f0f921"
            ]
           ]
          },
          "colorway": [
           "#636efa",
           "#EF553B",
           "#00cc96",
           "#ab63fa",
           "#FFA15A",
           "#19d3f3",
           "#FF6692",
           "#B6E880",
           "#FF97FF",
           "#FECB52"
          ],
          "font": {
           "color": "#2a3f5f"
          },
          "geo": {
           "bgcolor": "white",
           "lakecolor": "white",
           "landcolor": "#E5ECF6",
           "showlakes": true,
           "showland": true,
           "subunitcolor": "white"
          },
          "hoverlabel": {
           "align": "left"
          },
          "hovermode": "closest",
          "mapbox": {
           "style": "light"
          },
          "paper_bgcolor": "white",
          "plot_bgcolor": "#E5ECF6",
          "polar": {
           "angularaxis": {
            "gridcolor": "white",
            "linecolor": "white",
            "ticks": ""
           },
           "bgcolor": "#E5ECF6",
           "radialaxis": {
            "gridcolor": "white",
            "linecolor": "white",
            "ticks": ""
           }
          },
          "scene": {
           "xaxis": {
            "backgroundcolor": "#E5ECF6",
            "gridcolor": "white",
            "gridwidth": 2,
            "linecolor": "white",
            "showbackground": true,
            "ticks": "",
            "zerolinecolor": "white"
           },
           "yaxis": {
            "backgroundcolor": "#E5ECF6",
            "gridcolor": "white",
            "gridwidth": 2,
            "linecolor": "white",
            "showbackground": true,
            "ticks": "",
            "zerolinecolor": "white"
           },
           "zaxis": {
            "backgroundcolor": "#E5ECF6",
            "gridcolor": "white",
            "gridwidth": 2,
            "linecolor": "white",
            "showbackground": true,
            "ticks": "",
            "zerolinecolor": "white"
           }
          },
          "shapedefaults": {
           "line": {
            "color": "#2a3f5f"
           }
          },
          "ternary": {
           "aaxis": {
            "gridcolor": "white",
            "linecolor": "white",
            "ticks": ""
           },
           "baxis": {
            "gridcolor": "white",
            "linecolor": "white",
            "ticks": ""
           },
           "bgcolor": "#E5ECF6",
           "caxis": {
            "gridcolor": "white",
            "linecolor": "white",
            "ticks": ""
           }
          },
          "title": {
           "x": 0.05
          },
          "xaxis": {
           "automargin": true,
           "gridcolor": "white",
           "linecolor": "white",
           "ticks": "",
           "title": {
            "standoff": 15
           },
           "zerolinecolor": "white",
           "zerolinewidth": 2
          },
          "yaxis": {
           "automargin": true,
           "gridcolor": "white",
           "linecolor": "white",
           "ticks": "",
           "title": {
            "standoff": 15
           },
           "zerolinecolor": "white",
           "zerolinewidth": 2
          }
         }
        },
        "title": {
         "text": "Forward Curve"
        },
        "xaxis": {
         "anchor": "y",
         "domain": [
          0,
          1
         ],
         "title": {
          "text": "Contract Symbol"
         }
        },
        "yaxis": {
         "anchor": "x",
         "domain": [
          0,
          1
         ],
         "title": {
          "text": "Last Price"
         }
        }
       }
      }
     },
     "metadata": {},
     "output_type": "display_data"
    }
   ],
   "source": [
    "import requests\n",
    "import pandas as pd\n",
    "from urllib.parse import unquote\n",
    "import plotly.express as px\n",
    "\n",
    "# URLs and headers\n",
    "geturl = 'https://www.barchart.com/futures/quotes/CLF25/options/jan-25?futuresOptionsView=merged'\n",
    "apiurl = 'https://www.barchart.com/proxies/core-api/v1/quotes/get'\n",
    "\n",
    "getheaders = {\n",
    "    'accept': 'text/html,application/xhtml+xml,application/xml;q=0.9,image/webp,image/apng,*/*;q=0.8',\n",
    "    'accept-encoding': 'gzip, deflate, br',\n",
    "    'accept-language': 'en-US,en;q=0.9',\n",
    "    'cache-control': 'max-age=0',\n",
    "    'upgrade-insecure-requests': '1',\n",
    "    'user-agent': 'Mozilla/5.0 (Windows NT 10.0; Win64; x64) AppleWebKit/537.36 (KHTML, like Gecko) Chrome/72.0.3626.119 Safari/537.36'\n",
    "}\n",
    "\n",
    "getpay = {\n",
    "    'page': 'all'\n",
    "}\n",
    "\n",
    "s = requests.Session()\n",
    "r = s.get(geturl, params=getpay, headers=getheaders)\n",
    "\n",
    "headers = {\n",
    "    'accept': 'application/json',\n",
    "    'accept-encoding': 'gzip, deflate, br',\n",
    "    'accept-language': 'en-US,en;q=0.9',\n",
    "    'referer': 'https://www.barchart.com/futures/quotes/CLF25/options/oct-24?futuresOptionsView=merged',\n",
    "    'user-agent': 'Mozilla/5.0 (Windows NT 10.0; Win64; x64) AppleWebKit/537.36 (KHTML, like Gecko) Chrome/72.0.3626.119 Safari/537.36',\n",
    "    'x-xsrf-token': unquote(unquote(s.cookies.get_dict()['XSRF-TOKEN']))\n",
    "}\n",
    "\n",
    "payload = {\n",
    "    'fields': 'symbol,contractSymbol,lastPrice,priceChange,openPrice,highPrice,lowPrice,previousPrice,volume,openInterest,tradeTime,symbolCode,symbolType,hasOptions',\n",
    "    'list': 'futures.contractInRoot',\n",
    "    'root': 'CL',\n",
    "    'meta': 'field.shortName,field.type,field.description',\n",
    "    'hasOptions': 'true',\n",
    "    'raw': '1'\n",
    "}\n",
    "\n",
    "r = s.get(apiurl, params=payload, headers=headers)\n",
    "j = r.json()\n",
    "\n",
    "# Convert JSON to DataFrame\n",
    "df = pd.json_normalize(j['data'])  # Adjust the key based on the actual structure of your JSON\n",
    "df = df.drop(0).reset_index(drop=True)\n",
    "# Print DataFrame\n",
    "print(df)\n",
    "first_10_symbols = df['symbol'].iloc[:10].tolist()\n",
    "print(first_10_symbols)\n",
    "\n",
    "\n",
    "# Clean the 'lastPrice' column: remove non-numeric characters and convert to float\n",
    "df['lastPrice'] = df['lastPrice'].str.replace('s', '', regex=False).astype(float)\n",
    "\n",
    "# Plot using Plotly\n",
    "fig = px.scatter(df, x='symbol', y='lastPrice', \n",
    "                 title='Forward Curve',\n",
    "                 labels={'symbol': 'Contract Symbol', 'lastPrice': 'Last Price'},)\n",
    "\n",
    "# Show the plot\n",
    "fig.show()"
   ]
  },
  {
   "cell_type": "code",
   "execution_count": 2,
   "metadata": {},
   "outputs": [
    {
     "name": "stdout",
     "output_type": "stream",
     "text": [
      "  Contract  Last Price Expiration Date  Options Days to Expiry  \\\n",
      "0    CLH25       71.25        02/14/25                       9   \n",
      "1    CLJ25       70.92        03/17/25                      40   \n",
      "2    CLK25       70.47        04/16/25                      70   \n",
      "3    CLM25       69.99        05/15/25                      99   \n",
      "4    CLN25       69.54        06/16/25                     131   \n",
      "5    CLQ25       69.02        07/17/25                     162   \n",
      "6    CLU25       68.40        08/15/25                     191   \n",
      "7    CLV25       68.00        09/17/25                     224   \n",
      "8    CLX25       67.60        10/16/25                     253   \n",
      "9    CLZ25       67.29        11/17/25                     285   \n",
      "\n",
      "    Futures Implied Volatility  \n",
      "0                        30.00  \n",
      "1                        28.30  \n",
      "2                        28.22  \n",
      "3                        27.76  \n",
      "4                        27.54  \n",
      "5                        27.32  \n",
      "6                        27.19  \n",
      "7                        26.94  \n",
      "8                        26.71  \n",
      "9                        26.46  \n"
     ]
    }
   ],
   "source": [
    "import requests\n",
    "import pandas as pd\n",
    "import sqlite3\n",
    "from bs4 import BeautifulSoup\n",
    "import datetime\n",
    "\n",
    "\n",
    "# Base URL format\n",
    "base_url = \"https://www.barchart.com/futures/quotes/{}/options/\"\n",
    "\n",
    "# Headers to avoid 403 errors\n",
    "headers = {\n",
    "    'User-Agent': 'Mozilla/5.0 (Windows NT 10.0; Win64; x64) AppleWebKit/537.36 (KHTML, like Gecko) Chrome/91.0.4472.124 Safari/537.36',\n",
    "    'Referer': 'https://www.google.com/',\n",
    "    'Accept-Language': 'en-US,en;q=0.9',\n",
    "}\n",
    "\n",
    "# List to store extracted data\n",
    "data = []\n",
    "\n",
    "# Scrape data for each contract\n",
    "for contract in first_10_symbols:\n",
    "    url = base_url.format(contract)\n",
    "    response = requests.get(url, headers=headers)\n",
    "\n",
    "    if response.status_code == 200:\n",
    "        soup = BeautifulSoup(response.content, 'html.parser')\n",
    "        toolbar = soup.find('div', class_='row bc-options-toolbar__second-row')\n",
    "\n",
    "        if toolbar:\n",
    "            columns = toolbar.find_all('div', class_='column')\n",
    "        \n",
    "\n",
    "            days_to_expiry = columns[0].get_text(strip=True)\n",
    "            implied_volatility = columns[1].get_text(strip=True)\n",
    "\n",
    "            # Extract only numerical values\n",
    "            expiration_date = days_to_expiry.split()[3][2:]\n",
    "            days_to_expiry = int(days_to_expiry.split()[0])\n",
    "            \n",
    "            implied_volatility = float(implied_volatility.split(\":\")[1].replace(\"%\", \"\").strip())\n",
    "\n",
    "            # Get last price from df\n",
    "            last_price = df.loc[df[\"symbol\"] == contract, \"lastPrice\"].values[0]\n",
    "\n",
    "            # Append data\n",
    "            data.append([contract, last_price,expiration_date, days_to_expiry, implied_volatility])\n",
    "        else:\n",
    "            print(f\"Could not find options toolbar for {contract}.\")\n",
    "    else:\n",
    "        print(f\"Failed to fetch data for {contract}. Status code: {response.status_code}\")\n",
    "\n",
    "# Create DataFrame\n",
    "futures_df = pd.DataFrame(data, columns=[\"Contract\", \"Last Price\",\"Expiration Date\", \"Options Days to Expiry\", \" Futures Implied Volatility\"])\n",
    "\n",
    "\n",
    "# Display the DataFrame\n",
    "print(futures_df)\n"
   ]
  },
  {
   "cell_type": "code",
   "execution_count": 3,
   "metadata": {},
   "outputs": [],
   "source": [
    "import requests\n",
    "from urllib.parse import unquote\n",
    "import pandas as pd\n",
    "\n",
    "headers = {\n",
    "    \"User-Agent\": \"Mozilla/5.0 (Windows NT 10.0; Win64; x64; rv:90.0) Gecko/20100101 Firefox/90.0\",\n",
    "}\n",
    "\n",
    "def main(url, symbols):\n",
    "    with requests.Session() as req:\n",
    "        req.headers.update(headers)\n",
    "        r = req.get(url[:25])\n",
    "        req.headers.update(\n",
    "            {'X-XSRF-TOKEN': unquote(r.cookies.get_dict()['XSRF-TOKEN'])})\n",
    "        \n",
    "\n",
    "        results = {}\n",
    "        for i, symbol in enumerate(symbols, start=1):\n",
    "            params = {\n",
    "                \"symbol\": symbol,\n",
    "                \"list\": \"futures.options\",\n",
    "                \"fields\": \"strike,openPrice,highPrice,lowPrice,lastPrice,priceChange,bidPrice,askPrice,volume,openInterest,premium,tradeTime,longSymbol,optionType,symbol\",\n",
    "                \"orderBy\": \"strike\",\n",
    "                \"orderDir\": \"asc\",\n",
    "                \"meta\": \"field.shortName,field.description,field.type\",\n",
    "                \"futureOptions\": \"true\",\n",
    "                \"noPagination\": \"true\",\n",
    "                \"showExpandLink\": \"false\"\n",
    "            }\n",
    "            \n",
    "            r = req.get(url, params=params).json()\n",
    "            \n",
    "            df = pd.DataFrame(r['data'])\n",
    "            df['strike'] = df['strike'].astype(str).str.replace(r'[CP]', '', regex=True)\n",
    "            df['volume'] = pd.to_numeric(df['volume'], errors='coerce').fillna(0).astype(int)\n",
    "            df['openInterest'] = pd.to_numeric(df['openInterest'], errors='coerce').fillna(0).astype(int)\n",
    "            df['lastPrice'] = df['lastPrice'].str.replace(r'[a-zA-Z]', '', regex=True).astype(float)\n",
    "\n",
    "            \n",
    "            \n",
    "            calls_df = df[df['optionType'] == 'Call']\n",
    "            puts_df = df[df['optionType'] == 'Put']\n",
    "            \n",
    "            results[symbol] = (calls_df, puts_df)\n",
    "\n",
    "        return results\n",
    "                \n",
    "\n",
    "# Specify the URL and the output file path\n",
    "url = 'https://www.barchart.com/proxies/core-api/v1/quotes/get?'\n",
    "\n",
    "\n",
    "\n",
    "# Call the main function with the list of symbols and output file\n",
    "results = main(url, first_10_symbols)\n",
    "\n"
   ]
  },
  {
   "cell_type": "code",
   "execution_count": 4,
   "metadata": {},
   "outputs": [
    {
     "name": "stdout",
     "output_type": "stream",
     "text": [
      "['CLH25', 'CLJ25', 'CLK25', 'CLM25', 'CLN25', 'CLQ25', 'CLU25', 'CLV25', 'CLX25', 'CLZ25']\n",
      "Symbol: CLH25\n",
      "DataFrame Columns:\n",
      "Index(['strike', 'openPrice', 'highPrice', 'lowPrice', 'lastPrice',\n",
      "       'priceChange', 'bidPrice', 'askPrice', 'volume', 'openInterest',\n",
      "       'premium', 'tradeTime', 'longSymbol', 'optionType', 'symbol'],\n",
      "      dtype='object')\n",
      "Calls DataFrame Sample:\n",
      "   strike openPrice highPrice lowPrice  lastPrice priceChange bidPrice  \\\n",
      "6   25.00       N/A     46.03    46.03      46.03       -1.67      N/A   \n",
      "57  51.00       N/A     20.03    20.03      20.03       -1.67      N/A   \n",
      "60  52.00       N/A     19.03    19.03      19.03       -1.67      N/A   \n",
      "62  52.50       N/A     18.53    18.53      18.53       -1.67      N/A   \n",
      "68  55.00       N/A     16.03    16.03      16.03       -1.67      N/A   \n",
      "\n",
      "   askPrice  volume  openInterest    premium tradeTime longSymbol optionType  \\\n",
      "6       N/A       0             0  46,030.00  02/05/25  CLH5|250C       Call   \n",
      "57      N/A       0             1  20,030.00  02/05/25  CLH5|510C       Call   \n",
      "60      N/A       0             1  19,030.00  02/05/25  CLH5|520C       Call   \n",
      "62      N/A       0             3  18,530.00  02/05/25  CLH5|525C       Call   \n",
      "68      N/A       0           132  16,030.00  02/05/25  CLH5|550C       Call   \n",
      "\n",
      "       symbol  \n",
      "6   CLH5|250C  \n",
      "57  CLH5|510C  \n",
      "60  CLH5|520C  \n",
      "62  CLH5|525C  \n",
      "68  CLH5|550C  \n",
      "Puts DataFrame Sample:\n",
      "  strike openPrice highPrice lowPrice  lastPrice priceChange bidPrice  \\\n",
      "0  20.50       N/A      0.01     0.01       0.01        unch      N/A   \n",
      "1  21.00       N/A      0.01     0.01       0.01        unch      N/A   \n",
      "2  21.50       N/A      0.01     0.01       0.01        unch      N/A   \n",
      "3  22.00       N/A      0.01     0.01       0.01        unch      N/A   \n",
      "4  23.50       N/A      0.01     0.01       0.01        unch      N/A   \n",
      "\n",
      "  askPrice  volume  openInterest premium tradeTime longSymbol optionType  \\\n",
      "0     0.02       0            17   10.00  02/05/25  CLH5|205P        Put   \n",
      "1     0.02       0            15   10.00  02/05/25  CLH5|210P        Put   \n",
      "2     0.02       0             2   10.00  02/05/25  CLH5|215P        Put   \n",
      "3     0.02       0            19   10.00  02/05/25  CLH5|220P        Put   \n",
      "4     0.02       0            20   10.00  02/05/25  CLH5|235P        Put   \n",
      "\n",
      "      symbol  \n",
      "0  CLH5|205P  \n",
      "1  CLH5|210P  \n",
      "2  CLH5|215P  \n",
      "3  CLH5|220P  \n",
      "4  CLH5|235P  \n",
      "Symbol: CLJ25\n",
      "DataFrame Columns:\n",
      "Index(['strike', 'openPrice', 'highPrice', 'lowPrice', 'lastPrice',\n",
      "       'priceChange', 'bidPrice', 'askPrice', 'volume', 'openInterest',\n",
      "       'premium', 'tradeTime', 'longSymbol', 'optionType', 'symbol'],\n",
      "      dtype='object')\n",
      "Calls DataFrame Sample:\n",
      "   strike openPrice highPrice lowPrice  lastPrice priceChange bidPrice  \\\n",
      "51  50.00       N/A     20.75    20.75      20.75       -1.60    19.03   \n",
      "56  52.00       N/A     18.77    18.77      18.77       -1.59    17.27   \n",
      "58  52.50       N/A     18.27    18.27      18.27       -1.59    16.83   \n",
      "60  53.00       N/A     17.78    17.78      17.78       -1.59    16.39   \n",
      "63  54.00       N/A     16.79    16.79      16.79       -1.59    15.53   \n",
      "\n",
      "   askPrice  volume  openInterest    premium tradeTime longSymbol optionType  \\\n",
      "51    22.82       0           179  20,750.00  02/05/25  CLJ5|500C       Call   \n",
      "56    20.61       0           195  18,770.00  02/05/25  CLJ5|520C       Call   \n",
      "58    20.05       0           300  18,270.00  02/05/25  CLJ5|525C       Call   \n",
      "60    19.50       0           315  17,780.00  02/05/25  CLJ5|530C       Call   \n",
      "63    18.39       0            50  16,790.00  02/05/25  CLJ5|540C       Call   \n",
      "\n",
      "       symbol  \n",
      "51  CLJ5|500C  \n",
      "56  CLJ5|520C  \n",
      "58  CLJ5|525C  \n",
      "60  CLJ5|530C  \n",
      "63  CLJ5|540C  \n",
      "Puts DataFrame Sample:\n",
      "  strike openPrice highPrice lowPrice  lastPrice priceChange bidPrice  \\\n",
      "0  20.50       N/A      0.01     0.01       0.01        unch      N/A   \n",
      "1  21.00       N/A      0.01     0.01       0.01        unch      N/A   \n",
      "2  21.50       N/A      0.01     0.01       0.01        unch      N/A   \n",
      "3  23.50       N/A      0.01     0.01       0.01        unch      N/A   \n",
      "4  24.00       N/A      0.01     0.01       0.01        unch      N/A   \n",
      "\n",
      "  askPrice  volume  openInterest premium tradeTime longSymbol optionType  \\\n",
      "0      N/A       0             7   10.00  02/05/25  CLJ5|205P        Put   \n",
      "1      N/A       0            23   10.00  02/05/25  CLJ5|210P        Put   \n",
      "2      N/A       0             1   10.00  02/05/25  CLJ5|215P        Put   \n",
      "3      N/A       0             2   10.00  02/05/25  CLJ5|235P        Put   \n",
      "4      N/A       0             7   10.00  02/05/25  CLJ5|240P        Put   \n",
      "\n",
      "      symbol  \n",
      "0  CLJ5|205P  \n",
      "1  CLJ5|210P  \n",
      "2  CLJ5|215P  \n",
      "3  CLJ5|235P  \n",
      "4  CLJ5|240P  \n",
      "Symbol: CLK25\n",
      "DataFrame Columns:\n",
      "Index(['strike', 'openPrice', 'highPrice', 'lowPrice', 'lastPrice',\n",
      "       'priceChange', 'bidPrice', 'askPrice', 'volume', 'openInterest',\n",
      "       'premium', 'tradeTime', 'longSymbol', 'optionType', 'symbol'],\n",
      "      dtype='object')\n",
      "Calls DataFrame Sample:\n",
      "   strike openPrice highPrice lowPrice  lastPrice priceChange bidPrice  \\\n",
      "32  39.50       N/A     30.84    30.84      30.84       -1.53    26.15   \n",
      "43  44.50       N/A     25.85    25.85      25.85       -1.53    22.13   \n",
      "49  47.00       N/A     23.37    23.37      23.37       -1.52    20.18   \n",
      "56  50.00       N/A     20.41    20.41      20.41       -1.52    20.44   \n",
      "60  51.50       N/A     18.95    18.95      18.95       -1.51    19.00   \n",
      "\n",
      "   askPrice  volume  openInterest    premium tradeTime longSymbol optionType  \\\n",
      "32    35.72       0            29  30,840.00  02/05/25  CLK5|395C       Call   \n",
      "43    29.77       0             1  25,850.00  02/05/25  CLK5|445C       Call   \n",
      "49    26.75       0             2  23,370.00  02/05/25  CLK5|470C       Call   \n",
      "56    20.63       0             1  20,410.00  02/05/25  CLK5|500C       Call   \n",
      "60    19.10       0             2  18,950.00  02/05/25  CLK5|515C       Call   \n",
      "\n",
      "       symbol  \n",
      "32  CLK5|395C  \n",
      "43  CLK5|445C  \n",
      "49  CLK5|470C  \n",
      "56  CLK5|500C  \n",
      "60  CLK5|515C  \n",
      "Puts DataFrame Sample:\n",
      "  strike openPrice highPrice lowPrice  lastPrice priceChange bidPrice  \\\n",
      "0  21.50       N/A      0.01     0.01       0.01        unch      N/A   \n",
      "1  23.50       N/A      0.01     0.01       0.01        unch      N/A   \n",
      "2  24.00       N/A      0.01     0.01       0.01        unch      N/A   \n",
      "3  24.50       N/A      0.01     0.01       0.01        unch      N/A   \n",
      "4  25.00       N/A      0.01     0.01       0.01        unch      N/A   \n",
      "\n",
      "  askPrice  volume  openInterest premium tradeTime longSymbol optionType  \\\n",
      "0      N/A       0             6   10.00  02/05/25  CLK5|215P        Put   \n",
      "1      N/A       0            72   10.00  02/05/25  CLK5|235P        Put   \n",
      "2     0.02       0            26   10.00  02/05/25  CLK5|240P        Put   \n",
      "3     0.02       0            36   10.00  02/05/25  CLK5|245P        Put   \n",
      "4     0.01       0            11   10.00  02/05/25  CLK5|250P        Put   \n",
      "\n",
      "      symbol  \n",
      "0  CLK5|215P  \n",
      "1  CLK5|235P  \n",
      "2  CLK5|240P  \n",
      "3  CLK5|245P  \n",
      "4  CLK5|250P  \n",
      "Symbol: CLM25\n",
      "DataFrame Columns:\n",
      "Index(['strike', 'openPrice', 'highPrice', 'lowPrice', 'lastPrice',\n",
      "       'priceChange', 'bidPrice', 'askPrice', 'volume', 'openInterest',\n",
      "       'premium', 'tradeTime', 'longSymbol', 'optionType', 'symbol'],\n",
      "      dtype='object')\n",
      "Calls DataFrame Sample:\n",
      "   strike openPrice highPrice lowPrice  lastPrice priceChange bidPrice  \\\n",
      "26  35.00       N/A     34.89    34.89      34.89       -1.45    27.33   \n",
      "32  37.50       N/A     32.39    32.39      32.39       -1.45    25.41   \n",
      "46  44.00       N/A     25.92    25.92      25.92       -1.44    20.88   \n",
      "49  45.00       N/A     24.93    24.93      24.93       -1.44    20.23   \n",
      "52  46.00       N/A     23.95    24.05      23.95       -1.44    23.94   \n",
      "\n",
      "   askPrice  volume  openInterest    premium tradeTime longSymbol optionType  \\\n",
      "26    42.58       0            96  34,890.00  02/05/25  CLM5|350C       Call   \n",
      "32    39.51       0           476  32,390.00  02/05/25  CLM5|375C       Call   \n",
      "46    31.09       0            10  25,920.00  02/05/25  CLM5|440C       Call   \n",
      "49    29.76       0           230  24,930.00  02/05/25  CLM5|450C       Call   \n",
      "52    24.13       0            50  23,950.00  02/05/25  CLM5|460C       Call   \n",
      "\n",
      "       symbol  \n",
      "26  CLM5|350C  \n",
      "32  CLM5|375C  \n",
      "46  CLM5|440C  \n",
      "49  CLM5|450C  \n",
      "52  CLM5|460C  \n",
      "Puts DataFrame Sample:\n",
      "  strike openPrice highPrice lowPrice  lastPrice priceChange bidPrice  \\\n",
      "0  21.00       N/A      0.01     0.01       0.01        unch      N/A   \n",
      "1  21.50       N/A      0.01     0.01       0.01        unch      N/A   \n",
      "2  22.50       N/A      0.01     0.01       0.01        unch      N/A   \n",
      "3  23.00       N/A      0.01     0.01       0.01        unch      N/A   \n",
      "4  23.50       N/A      0.01     0.01       0.01        unch      N/A   \n",
      "\n",
      "  askPrice  volume  openInterest premium tradeTime longSymbol optionType  \\\n",
      "0     0.03       0            72   10.00  02/05/25  CLM5|210P        Put   \n",
      "1     0.03       0            30   10.00  02/05/25  CLM5|215P        Put   \n",
      "2     0.03       0           107   10.00  02/05/25  CLM5|225P        Put   \n",
      "3     0.03       0           194   10.00  02/05/25  CLM5|230P        Put   \n",
      "4     0.03       0            45   10.00  02/05/25  CLM5|235P        Put   \n",
      "\n",
      "      symbol  \n",
      "0  CLM5|210P  \n",
      "1  CLM5|215P  \n",
      "2  CLM5|225P  \n",
      "3  CLM5|230P  \n",
      "4  CLM5|235P  \n",
      "Symbol: CLN25\n",
      "DataFrame Columns:\n",
      "Index(['strike', 'openPrice', 'highPrice', 'lowPrice', 'lastPrice',\n",
      "       'priceChange', 'bidPrice', 'askPrice', 'volume', 'openInterest',\n",
      "       'premium', 'tradeTime', 'longSymbol', 'optionType', 'symbol'],\n",
      "      dtype='object')\n",
      "Calls DataFrame Sample:\n",
      "   strike openPrice highPrice lowPrice  lastPrice priceChange bidPrice  \\\n",
      "22  43.00       N/A     26.47    26.47      26.47       -1.36    26.45   \n",
      "25  44.00       N/A     25.49    25.49      25.49       -1.35    25.47   \n",
      "27  44.50       N/A     25.00    25.00      25.00       -1.35    24.98   \n",
      "29  45.00       N/A     24.52    24.52      24.52       -1.34    24.50   \n",
      "31  45.50       N/A     24.03    24.03      24.03       -1.35    24.02   \n",
      "\n",
      "   askPrice  volume  openInterest    premium tradeTime longSymbol optionType  \\\n",
      "22    26.65       0           100  26,470.00  02/05/25  CLN5|430C       Call   \n",
      "25    25.67       0           150  25,490.00  02/05/25  CLN5|440C       Call   \n",
      "27    25.12       0           300  25,000.00  02/05/25  CLN5|445C       Call   \n",
      "29    24.64       0             0  24,520.00  02/05/25  CLN5|450C       Call   \n",
      "31    24.14       0           360  24,030.00  02/05/25  CLN5|455C       Call   \n",
      "\n",
      "       symbol  \n",
      "22  CLN5|430C  \n",
      "25  CLN5|440C  \n",
      "27  CLN5|445C  \n",
      "29  CLN5|450C  \n",
      "31  CLN5|455C  \n",
      "Puts DataFrame Sample:\n",
      "  strike openPrice highPrice lowPrice  lastPrice priceChange bidPrice  \\\n",
      "0  27.00       N/A      0.03     0.03       0.03        unch     0.02   \n",
      "1  28.50       N/A      0.04     0.04       0.04        unch     0.03   \n",
      "2  29.00       N/A      0.04     0.04       0.04        unch     0.03   \n",
      "3  29.50       N/A      0.04     0.04       0.04        unch     0.03   \n",
      "4  30.00       N/A      0.05     0.05       0.05        unch     0.04   \n",
      "\n",
      "  askPrice  volume  openInterest premium tradeTime longSymbol optionType  \\\n",
      "0     0.04       0             6   30.00  02/05/25  CLN5|270P        Put   \n",
      "1     0.05       0             1   40.00  02/05/25  CLN5|285P        Put   \n",
      "2     0.05       0             5   40.00  02/05/25  CLN5|290P        Put   \n",
      "3     0.05       0            10   40.00  02/05/25  CLN5|295P        Put   \n",
      "4     0.06       0           267   50.00  02/05/25  CLN5|300P        Put   \n",
      "\n",
      "      symbol  \n",
      "0  CLN5|270P  \n",
      "1  CLN5|285P  \n",
      "2  CLN5|290P  \n",
      "3  CLN5|295P  \n",
      "4  CLN5|300P  \n",
      "Symbol: CLQ25\n",
      "DataFrame Columns:\n",
      "Index(['strike', 'openPrice', 'highPrice', 'lowPrice', 'lastPrice',\n",
      "       'priceChange', 'bidPrice', 'askPrice', 'volume', 'openInterest',\n",
      "       'premium', 'tradeTime', 'longSymbol', 'optionType', 'symbol'],\n",
      "      dtype='object')\n",
      "Calls DataFrame Sample:\n",
      "   strike openPrice highPrice lowPrice  lastPrice priceChange bidPrice  \\\n",
      "32  52.50       N/A     17.09    17.09      17.09       -1.21    17.06   \n",
      "34  53.00       N/A     16.64    16.64      16.64       -1.21    16.62   \n",
      "49  60.00       N/A     10.76    10.76      10.76       -1.09    10.74   \n",
      "52  61.00       N/A     10.00    10.00      10.00       -1.07     9.98   \n",
      "60  64.50       N/A      7.54     7.54       7.54       -0.97     7.54   \n",
      "\n",
      "   askPrice  volume  openInterest    premium tradeTime longSymbol optionType  \\\n",
      "32    17.18       0             1  17,090.00  02/05/25  CLQ5|525C       Call   \n",
      "34    16.74       0             1  16,640.00  02/05/25  CLQ5|530C       Call   \n",
      "49    10.84       0             1  10,760.00  02/05/25  CLQ5|600C       Call   \n",
      "52    10.08       0             2  10,000.00  02/05/25  CLQ5|610C       Call   \n",
      "60     7.61       0            12   7,540.00  02/05/25  CLQ5|645C       Call   \n",
      "\n",
      "       symbol  \n",
      "32  CLQ5|525C  \n",
      "34  CLQ5|530C  \n",
      "49  CLQ5|600C  \n",
      "52  CLQ5|610C  \n",
      "60  CLQ5|645C  \n",
      "Puts DataFrame Sample:\n",
      "  strike openPrice highPrice lowPrice  lastPrice priceChange bidPrice  \\\n",
      "0  25.00       N/A      0.04     0.04       0.04       +0.01     0.02   \n",
      "1  27.50       N/A      0.05     0.05       0.05        unch     0.04   \n",
      "2  30.00       N/A      0.07     0.07       0.07        unch     0.06   \n",
      "3  30.50       N/A      0.08     0.08       0.08       +0.01     0.06   \n",
      "4  31.00       N/A      0.08     0.08       0.08        unch     0.07   \n",
      "\n",
      "  askPrice  volume  openInterest premium tradeTime longSymbol optionType  \\\n",
      "0     0.06       0             8   40.00  02/05/25  CLQ5|250P        Put   \n",
      "1     0.06       0             5   50.00  02/05/25  CLQ5|275P        Put   \n",
      "2     0.08       0            30   70.00  02/05/25  CLQ5|300P        Put   \n",
      "3     0.08       0            20   80.00  02/05/25  CLQ5|305P        Put   \n",
      "4     0.09       0            30   80.00  02/05/25  CLQ5|310P        Put   \n",
      "\n",
      "      symbol  \n",
      "0  CLQ5|250P  \n",
      "1  CLQ5|275P  \n",
      "2  CLQ5|300P  \n",
      "3  CLQ5|305P  \n",
      "4  CLQ5|310P  \n",
      "Symbol: CLU25\n",
      "DataFrame Columns:\n",
      "Index(['strike', 'openPrice', 'highPrice', 'lowPrice', 'lastPrice',\n",
      "       'priceChange', 'bidPrice', 'askPrice', 'volume', 'openInterest',\n",
      "       'premium', 'tradeTime', 'longSymbol', 'optionType', 'symbol'],\n",
      "      dtype='object')\n",
      "Calls DataFrame Sample:\n",
      "   strike openPrice highPrice lowPrice  lastPrice priceChange bidPrice  \\\n",
      "12  40.00       N/A     28.51    28.51      28.51       -1.23    28.46   \n",
      "24  50.00       N/A     19.04    19.04      19.04       -1.17    19.02   \n",
      "27  51.50       N/A     17.69    17.69      17.69       -1.16    17.66   \n",
      "28  52.00       N/A     17.25    17.25      17.25       -1.15    17.22   \n",
      "33  55.00       N/A     14.65    14.65      14.65       -1.12    14.64   \n",
      "\n",
      "   askPrice  volume  openInterest    premium tradeTime longSymbol optionType  \\\n",
      "12    28.67       0             6  28,510.00  02/05/25  CLU5|400C       Call   \n",
      "24    19.14       0            22  19,040.00  02/05/25  CLU5|500C       Call   \n",
      "27    17.78       0            26  17,690.00  02/05/25  CLU5|515C       Call   \n",
      "28    17.34       0             1  17,250.00  02/05/25  CLU5|520C       Call   \n",
      "33    14.74       0            90  14,650.00  02/05/25  CLU5|550C       Call   \n",
      "\n",
      "       symbol  \n",
      "12  CLU5|400C  \n",
      "24  CLU5|500C  \n",
      "27  CLU5|515C  \n",
      "28  CLU5|520C  \n",
      "33  CLU5|550C  \n",
      "Puts DataFrame Sample:\n",
      "  strike openPrice highPrice lowPrice  lastPrice priceChange bidPrice  \\\n",
      "0  26.50       N/A      0.07     0.07       0.07       +0.01     0.05   \n",
      "1  29.00       N/A      0.09     0.09       0.09       +0.01     0.06   \n",
      "2  29.50       N/A      0.09     0.09       0.09        unch     0.06   \n",
      "3  30.00       N/A      0.10     0.10       0.10       +0.01     0.07   \n",
      "4  30.50       N/A      0.10     0.10       0.10        unch     0.09   \n",
      "\n",
      "  askPrice  volume  openInterest premium tradeTime longSymbol optionType  \\\n",
      "0     0.07       0            15   70.00  02/05/25  CLU5|265P        Put   \n",
      "1     0.10       0             5   90.00  02/05/25  CLU5|290P        Put   \n",
      "2     0.10       0            20   90.00  02/05/25  CLU5|295P        Put   \n",
      "3     0.11       0            31  100.00  02/05/25  CLU5|300P        Put   \n",
      "4     0.11       0            30  100.00  02/05/25  CLU5|305P        Put   \n",
      "\n",
      "      symbol  \n",
      "0  CLU5|265P  \n",
      "1  CLU5|290P  \n",
      "2  CLU5|295P  \n",
      "3  CLU5|300P  \n",
      "4  CLU5|305P  \n",
      "Symbol: CLV25\n",
      "DataFrame Columns:\n",
      "Index(['strike', 'openPrice', 'highPrice', 'lowPrice', 'lastPrice',\n",
      "       'priceChange', 'bidPrice', 'askPrice', 'volume', 'openInterest',\n",
      "       'premium', 'tradeTime', 'longSymbol', 'optionType', 'symbol'],\n",
      "      dtype='object')\n",
      "Calls DataFrame Sample:\n",
      "   strike openPrice highPrice lowPrice  lastPrice priceChange bidPrice  \\\n",
      "18  51.50       N/A     17.41    17.41      17.41       -1.11    17.34   \n",
      "20  52.00       N/A     16.98    16.98      16.98       -1.10    16.91   \n",
      "38  65.00       N/A      7.32     7.32       7.32       -0.82     7.25   \n",
      "44  67.50      6.03      6.03     5.94       5.94       -0.74     5.87   \n",
      "46  68.00      5.77      5.77     5.68       5.68       -0.72     5.62   \n",
      "\n",
      "   askPrice  volume  openInterest    premium tradeTime longSymbol optionType  \\\n",
      "18    17.51       0             1  17,410.00  02/05/25  CLV5|515C       Call   \n",
      "20    17.08       0             1  16,980.00  02/05/25  CLV5|520C       Call   \n",
      "38     7.37       0             3   7,320.00  02/05/25  CLV5|650C       Call   \n",
      "44     5.98      27             4   5,940.00  02/05/25  CLV5|675C       Call   \n",
      "46     5.73      23            10   5,680.00  02/05/25  CLV5|680C       Call   \n",
      "\n",
      "       symbol  \n",
      "18  CLV5|515C  \n",
      "20  CLV5|520C  \n",
      "38  CLV5|650C  \n",
      "44  CLV5|675C  \n",
      "46  CLV5|680C  \n",
      "Puts DataFrame Sample:\n",
      "  strike openPrice highPrice lowPrice  lastPrice priceChange bidPrice  \\\n",
      "0  26.50       N/A      0.08     0.08       0.08        unch     0.06   \n",
      "1  30.00       N/A      0.12     0.12       0.12        unch     0.10   \n",
      "2  31.00       N/A      0.14     0.14       0.14       +0.01     0.12   \n",
      "3  32.00       N/A      0.16     0.16       0.16       +0.01     0.13   \n",
      "4  33.00       N/A      0.17     0.17       0.17       +0.01     0.15   \n",
      "\n",
      "  askPrice  volume  openInterest premium tradeTime longSymbol optionType  \\\n",
      "0     0.10       0             1   80.00  02/05/25  CLV5|265P        Put   \n",
      "1     0.14       0            31  120.00  02/05/25  CLV5|300P        Put   \n",
      "2     0.15       0            20  140.00  02/05/25  CLV5|310P        Put   \n",
      "3     0.17       0            40  160.00  02/05/25  CLV5|320P        Put   \n",
      "4     0.19       0            31  170.00  02/05/25  CLV5|330P        Put   \n",
      "\n",
      "      symbol  \n",
      "0  CLV5|265P  \n",
      "1  CLV5|300P  \n",
      "2  CLV5|310P  \n",
      "3  CLV5|320P  \n",
      "4  CLV5|330P  \n",
      "Symbol: CLX25\n",
      "DataFrame Columns:\n",
      "Index(['strike', 'openPrice', 'highPrice', 'lowPrice', 'lastPrice',\n",
      "       'priceChange', 'bidPrice', 'askPrice', 'volume', 'openInterest',\n",
      "       'premium', 'tradeTime', 'longSymbol', 'optionType', 'symbol'],\n",
      "      dtype='object')\n",
      "Calls DataFrame Sample:\n",
      "   strike openPrice highPrice lowPrice  lastPrice priceChange bidPrice  \\\n",
      "18  51.00       N/A     17.63    17.63      17.63       -1.04    17.53   \n",
      "19  51.50       N/A     17.20    17.20      17.20       -1.03    17.10   \n",
      "34  64.50       N/A      7.63     7.63       7.63       -0.79     7.55   \n",
      "40  67.00       N/A      6.26     6.26       6.26       -0.71     6.18   \n",
      "43  68.00       N/A      5.75     5.75       5.75       -0.68     5.67   \n",
      "\n",
      "   askPrice  volume  openInterest    premium tradeTime longSymbol optionType  \\\n",
      "18    17.71       0             1  17,630.00  02/05/25  CLX5|510C       Call   \n",
      "19    17.28       0             1  17,200.00  02/05/25  CLX5|515C       Call   \n",
      "34     7.70       0             3   7,630.00  02/05/25  CLX5|645C       Call   \n",
      "40     6.30       0           200   6,260.00  02/05/25  CLX5|670C       Call   \n",
      "43     5.80       0             2   5,750.00  02/05/25  CLX5|680C       Call   \n",
      "\n",
      "       symbol  \n",
      "18  CLX5|510C  \n",
      "19  CLX5|515C  \n",
      "34  CLX5|645C  \n",
      "40  CLX5|670C  \n",
      "43  CLX5|680C  \n",
      "Puts DataFrame Sample:\n",
      "  strike openPrice highPrice lowPrice  lastPrice priceChange bidPrice  \\\n",
      "0  28.50       N/A      0.13     0.13       0.13       +0.01     0.10   \n",
      "1  30.00       N/A      0.15     0.15       0.15       +0.01     0.13   \n",
      "2  31.00       N/A      0.17     0.17       0.17       +0.01     0.15   \n",
      "3  32.00       N/A      0.19     0.19       0.19       +0.01     0.17   \n",
      "4  33.00       N/A      0.21     0.21       0.21       +0.01     0.18   \n",
      "\n",
      "  askPrice  volume  openInterest premium tradeTime longSymbol optionType  \\\n",
      "0     0.15       0             1  130.00  02/05/25  CLX5|285P        Put   \n",
      "1     0.17       0            40  150.00  02/05/25  CLX5|300P        Put   \n",
      "2     0.18       0            39  170.00  02/05/25  CLX5|310P        Put   \n",
      "3     0.20       0            20  190.00  02/05/25  CLX5|320P        Put   \n",
      "4     0.22       0            44  210.00  02/05/25  CLX5|330P        Put   \n",
      "\n",
      "      symbol  \n",
      "0  CLX5|285P  \n",
      "1  CLX5|300P  \n",
      "2  CLX5|310P  \n",
      "3  CLX5|320P  \n",
      "4  CLX5|330P  \n",
      "Symbol: CLZ25\n",
      "DataFrame Columns:\n",
      "Index(['strike', 'openPrice', 'highPrice', 'lowPrice', 'lastPrice',\n",
      "       'priceChange', 'bidPrice', 'askPrice', 'volume', 'openInterest',\n",
      "       'premium', 'tradeTime', 'longSymbol', 'optionType', 'symbol'],\n",
      "      dtype='object')\n",
      "Calls DataFrame Sample:\n",
      "   strike openPrice highPrice lowPrice  lastPrice priceChange bidPrice  \\\n",
      "8   40.00       N/A     27.39    27.46      27.39       -1.07    27.29   \n",
      "14  45.00       N/A     22.73    22.77      22.73       -1.03    22.61   \n",
      "21  50.00       N/A     18.30    18.32      18.30       -0.99    18.19   \n",
      "23  50.50       N/A     17.87    17.89      17.87       -0.99    17.76   \n",
      "27  54.00       N/A     14.98    15.00      14.98       -0.95    14.87   \n",
      "\n",
      "   askPrice  volume  openInterest    premium tradeTime longSymbol optionType  \\\n",
      "8     27.54       0             3  27,390.00  02/05/25  CLZ5|400C       Call   \n",
      "14    22.84       0            13  22,730.00  02/05/25  CLZ5|450C       Call   \n",
      "21    18.37       0            23  18,300.00  02/05/25  CLZ5|500C       Call   \n",
      "23    17.94       0             1  17,870.00  02/05/25  CLZ5|505C       Call   \n",
      "27    15.05       0             1  14,980.00  02/05/25  CLZ5|540C       Call   \n",
      "\n",
      "       symbol  \n",
      "8   CLZ5|400C  \n",
      "14  CLZ5|450C  \n",
      "21  CLZ5|500C  \n",
      "23  CLZ5|505C  \n",
      "27  CLZ5|540C  \n",
      "Puts DataFrame Sample:\n",
      "  strike openPrice highPrice lowPrice  lastPrice priceChange bidPrice  \\\n",
      "0  25.00       N/A      0.10     0.10       0.10       +0.01     0.07   \n",
      "1  28.00       N/A      0.15     0.15       0.15       +0.01     0.12   \n",
      "2  30.00       N/A      0.18     0.18       0.18       +0.01     0.16   \n",
      "3  31.00       N/A      0.20     0.20       0.20       +0.01     0.18   \n",
      "4  35.00       N/A      0.31     0.31       0.31       +0.02     0.30   \n",
      "\n",
      "  askPrice  volume  openInterest premium tradeTime longSymbol optionType  \\\n",
      "0     0.12       0            26  100.00  02/05/25  CLZ5|250P        Put   \n",
      "1     0.17       0             3  150.00  02/05/25  CLZ5|280P        Put   \n",
      "2     0.20       0            56  180.00  02/05/25  CLZ5|300P        Put   \n",
      "3     0.22       0            28  200.00  02/05/25  CLZ5|310P        Put   \n",
      "4     0.32       0           522  310.00  02/05/25  CLZ5|350P        Put   \n",
      "\n",
      "      symbol  \n",
      "0  CLZ5|250P  \n",
      "1  CLZ5|280P  \n",
      "2  CLZ5|300P  \n",
      "3  CLZ5|310P  \n",
      "4  CLZ5|350P  \n"
     ]
    }
   ],
   "source": [
    "symbols = results.keys()\n",
    "print(list(symbols))\n",
    "\n",
    "for symbol, (calls_df, puts_df) in results.items():\n",
    "    print(f\"Symbol: {symbol}\")\n",
    "    \n",
    "    print(\"DataFrame Columns:\")\n",
    "    print(calls_df.columns)  # Prints column names of calls DataFrame\n",
    "    \n",
    "    print(\"Calls DataFrame Sample:\")\n",
    "    print(calls_df.head())  # Prints first five rows of calls DataFrame\n",
    "    \n",
    "    print(\"Puts DataFrame Sample:\")\n",
    "    print(puts_df.head())  # Prints first five rows of puts DataFrame\n"
   ]
  },
  {
   "cell_type": "code",
   "execution_count": 13,
   "metadata": {},
   "outputs": [
    {
     "name": "stdout",
     "output_type": "stream",
     "text": [
      "    strike openPrice highPrice lowPrice  lastPrice priceChange bidPrice  \\\n",
      "101  64.00      1.20      1.30     1.20        1.3       +0.23     1.22   \n",
      "\n",
      "    askPrice  volume  openInterest   premium tradeTime longSymbol optionType  \\\n",
      "101     1.25     292             0  1,300.00  02/05/25  CLK5|640P        Put   \n",
      "\n",
      "        symbol  \n",
      "101  CLK5|640P  \n"
     ]
    }
   ],
   "source": [
    "def get_option_data(results, symbol, strike, option_type):\n",
    "    \"\"\"\n",
    "    Retrieves the row of options data for a given symbol, strike price, and option type.\n",
    "\n",
    "    Parameters:\n",
    "    - results (dict): Dictionary containing options data.\n",
    "    - symbol (str): The symbol to filter.\n",
    "    - strike (float): The strike price to filter.\n",
    "    - option_type (str): Either 'call' or 'put'.\n",
    "\n",
    "    Returns:\n",
    "    - DataFrame: The filtered row(s) if found, otherwise None.\n",
    "    \"\"\"\n",
    "    if symbol not in results:\n",
    "        print(f\"Symbol '{symbol}' not found.\")\n",
    "        return None\n",
    "\n",
    "    calls_df, puts_df = results[symbol]\n",
    "\n",
    "    # Select the appropriate DataFrame\n",
    "    df = calls_df if option_type.lower() == \"call\" else puts_df if option_type.lower() == \"put\" else None\n",
    "    \n",
    "    if df is None:\n",
    "        print(\"Invalid option type. Choose 'call' or 'put'.\")\n",
    "        return None\n",
    "\n",
    "    if \"strike\" not in df.columns:\n",
    "        print(\"Strike column not found in the DataFrame.\")\n",
    "        return None\n",
    "\n",
    "    # Filter by strike price\n",
    "    filtered_row = df[df[\"strike\"] == strike]\n",
    "\n",
    "    if filtered_row.empty:\n",
    "        print(f\"No data found for {symbol} {option_type.upper()} with Strike: {strike}\")\n",
    "        return None\n",
    "\n",
    "    return filtered_row\n",
    "\n",
    "# Example usage:\n",
    "result = get_option_data(results, \"CLK25\", \"64.00\", \"put\")  \n",
    "if result is not None:\n",
    "    print(result)\n"
   ]
  },
  {
   "cell_type": "code",
   "execution_count": 14,
   "metadata": {},
   "outputs": [
    {
     "name": "stdout",
     "output_type": "stream",
     "text": [
      "  Symbol  Type  Strike  Time to Expiry  Market Price  Implied Volatility\n",
      "0  CLH25  Call    25.0        0.024658         46.03                 NaN\n",
      "1  CLH25  Call    51.0        0.024658         20.03                 NaN\n",
      "2  CLH25  Call    52.0        0.024658         19.03                 NaN\n",
      "3  CLH25  Call    52.5        0.024658         18.53                 NaN\n",
      "4  CLH25  Call    55.0        0.024658         16.03                 NaN\n"
     ]
    }
   ],
   "source": [
    "import numpy as np\n",
    "import pandas as pd\n",
    "from scipy.optimize import brentq\n",
    "from scipy.stats import norm\n",
    "\n",
    "# Black model price function\n",
    "def black_model_price(F, K, T, r, sigma, option_type):\n",
    "    F = float(F)\n",
    "    K = float(K)\n",
    "    T = float(T)\n",
    "    sigma = float(sigma)\n",
    "    \n",
    "    d1 = (np.log(F / K) + (0.5 * sigma ** 2) * T) / (sigma * np.sqrt(T))\n",
    "    d2 = d1 - sigma * np.sqrt(T)\n",
    "    \n",
    "    if option_type == \"C\":  # Call option\n",
    "        return F * norm.cdf(d1) - K * np.exp(-r * T) * norm.cdf(d2)\n",
    "    elif option_type == \"P\":  # Put option\n",
    "        return K * np.exp(-r * T) * norm.cdf(-d2) - F * norm.cdf(-d1)\n",
    "    else:\n",
    "        raise ValueError(\"Invalid option type: must be 'C' or 'P'\")\n",
    "\n",
    "\n",
    "# Function to calculate implied volatility\n",
    "def implied_volatility(option_price, F, K, T, r, option_type):\n",
    "    try:\n",
    "        return brentq(lambda sigma: black_model_price(F, K, T, r, sigma, option_type) - float(option_price), \n",
    "                      0.001, 3.0, xtol=1e-6)\n",
    "    except ValueError:\n",
    "        return np.nan  # Return NaN if IV cannot be solved\n",
    "\n",
    "# Assume a constant risk-free rate (adjust as needed)\n",
    "risk_free_rate = 0.03  # Example: 3%\n",
    "\n",
    "# Merging futures data with options data\n",
    "merged_data = []\n",
    "\n",
    "for symbol, (calls_df, puts_df) in results.items():\n",
    "    future_row = futures_df[futures_df['Contract'] == symbol]\n",
    "    if future_row.empty:\n",
    "        continue  # Skip if no matching future found\n",
    "    \n",
    "    F = future_row['Last Price'].values[0]  # Futures price\n",
    "    T = future_row['Options Days to Expiry'].values[0] / 365.0  # Convert to years\n",
    "    \n",
    "    # Process Call Options\n",
    "    for _, row in calls_df.iterrows():\n",
    "        K = float(row['strike'])  # Ensure K is a float\n",
    "\n",
    "        option_price = float(row['lastPrice'])\n",
    "        iv = implied_volatility(option_price, F, K, T, risk_free_rate, \"C\")\n",
    "        merged_data.append((symbol, \"Call\", K, T, option_price, iv))\n",
    "    \n",
    "    # Process Put Options\n",
    "    for _, row in puts_df.iterrows():\n",
    "        K = float(row['strike'])  # Ensure K is a float\n",
    "\n",
    "        option_price = float(row['lastPrice'])\n",
    "        iv = implied_volatility(option_price, F, K, T, risk_free_rate, \"P\")\n",
    "        merged_data.append((symbol, \"Put\", K, T, option_price, iv))\n",
    "\n",
    "# Convert to DataFrame\n",
    "implied_vol_df = pd.DataFrame(merged_data, columns=[\"Symbol\", \"Type\", \"Strike\", \"Time to Expiry\", \"Market Price\", \"Implied Volatility\"])\n",
    "\n",
    "# Display Results\n",
    "print(implied_vol_df.head())\n"
   ]
  },
  {
   "cell_type": "code",
   "execution_count": 15,
   "metadata": {},
   "outputs": [
    {
     "name": "stdout",
     "output_type": "stream",
     "text": [
      "CLH25 71.25\n",
      "CLH25 - Left Skew (Put IV > Call IV)\n"
     ]
    },
    {
     "data": {
      "application/vnd.plotly.v1+json": {
       "config": {
        "plotlyServerURL": "https://plot.ly"
       },
       "data": [
        {
         "marker": {
          "color": "blue",
          "opacity": 0.7,
          "size": 8,
          "symbol": "circle"
         },
         "mode": "markers",
         "name": "Call Options - CLH25",
         "type": "scatter",
         "x": [
          57,
          57.5,
          58,
          58.5,
          59,
          59.5,
          60,
          60.5,
          61,
          61.5,
          62,
          62.5,
          63,
          63.5,
          64,
          64.5,
          65,
          65.5,
          66,
          66.5,
          67,
          67.5,
          68,
          68.5,
          69,
          69.5,
          70,
          70.5,
          71,
          71.5,
          72,
          72.5,
          73,
          73.5,
          74,
          74.5,
          75,
          75.5,
          76,
          76.5,
          77,
          77.5,
          78,
          78.5,
          79,
          79.5,
          80,
          80.5,
          81,
          81.5,
          82,
          82.5,
          83,
          83.5,
          84,
          84.5,
          85,
          85.5,
          86
         ],
         "y": [
          null,
          null,
          null,
          null,
          null,
          null,
          null,
          null,
          null,
          null,
          null,
          null,
          null,
          null,
          null,
          null,
          null,
          null,
          null,
          null,
          null,
          0.18085644306508858,
          0.2236374046973081,
          0.23825397700271866,
          0.24967875616288568,
          0.25597947873001475,
          0.261046274213767,
          0.2626113204249652,
          0.263319899245677,
          0.2653988174129964,
          0.266765057236864,
          0.26776309315771996,
          0.26891089592413453,
          0.2710372926063849,
          0.27865585649487273,
          0.27716117670446244,
          0.28440211273086585,
          0.28677829306315383,
          0.2942995621906137,
          0.2977826465408158,
          0.3039155965506823,
          0.3060656935492659,
          0.3142973344729187,
          0.31996051379581986,
          0.3222037791828097,
          0.33874702016302094,
          0.33485881609268037,
          0.35027553512218385,
          0.36550354357847337,
          0.38055027318934626,
          0.3625848975915379,
          0.37633897240788194,
          0.38994843337908525,
          0.4034186067496296,
          0.4167538155271822,
          0.42995811016204655,
          0.44303518253167823,
          0.45598894006680224,
          0.4688223933516
         ]
        },
        {
         "marker": {
          "color": "red",
          "opacity": 0.7,
          "size": 8,
          "symbol": "x"
         },
         "mode": "markers",
         "name": "Put Options - CLH25",
         "type": "scatter",
         "x": [
          56,
          56.5,
          57,
          57.5,
          58,
          58.5,
          59,
          59.5,
          60,
          60.5,
          61,
          61.5,
          62,
          62.5,
          63,
          63.5,
          64,
          64.5,
          65,
          65.5,
          66,
          66.5,
          67,
          67.5,
          68,
          68.5,
          69,
          69.5,
          70,
          70.5,
          71,
          71.5,
          72,
          72.5,
          73,
          73.5,
          74,
          74.5,
          75,
          75.5,
          76,
          76.5,
          77,
          77.5,
          78,
          78.5,
          79,
          79.5,
          80,
          80.5,
          81,
          81.5,
          82,
          82.5,
          83,
          83.5,
          84,
          84.5,
          85,
          85.5,
          86
         ],
         "y": [
          0.6017102506122345,
          0.5816944605924291,
          0.5618042014555086,
          0.5420347447080024,
          0.5223810709912543,
          0.5468793981695487,
          0.5260542551456278,
          0.5053301901215411,
          0.5124364791983814,
          0.4909621155548279,
          0.4695678906542662,
          0.448245806920628,
          0.4462095574376905,
          0.4242693385288783,
          0.4175261058101633,
          0.3950341674549366,
          0.3960608259771821,
          0.3823962207328355,
          0.35839255920606156,
          0.3505854331370419,
          0.35236028112540707,
          0.3480161631637737,
          0.34376819388375923,
          0.3388539025764683,
          0.31507696101670524,
          0.3345445722787716,
          0.33008838002386376,
          0.3281244693951116,
          0.3276615280150374,
          0.325826524443593,
          0.3247733983219947,
          0.3265670941602442,
          0.32904218591028206,
          0.3325271669415887,
          0.3375638488696572,
          0.29181696213232217,
          0.3530484850952527,
          0.3656306947392347,
          0.37804391116251823,
          0.39419502960542646,
          0.4082201144119239,
          0.4238979324747133,
          0.44189624101107755,
          0.4628519423982439,
          0.4786659867731021,
          0.49789706414304363,
          0.5211059669478157,
          0.5391012639915097,
          0.5614301077721583,
          0.5782984476142597,
          0.5998432764741746,
          0.6210789146928921,
          0.6420202083955816,
          0.6570634611408096,
          0.6773564665012143,
          0.6973946319230208,
          0.7171880405265588,
          0.7367460137623808,
          0.7560772155670696,
          0.7751898665276473,
          0.7940909567046087
         ]
        },
        {
         "line": {
          "color": "green",
          "dash": "dash"
         },
         "mode": "lines",
         "name": "Current Price (F) - CLH25",
         "type": "scatter",
         "x": [
          71.25,
          71.25
         ],
         "y": [
          0,
          null
         ]
        }
       ],
       "layout": {
        "annotations": [
         {
          "align": "center",
          "bgcolor": "white",
          "bordercolor": "black",
          "borderpad": 4,
          "borderwidth": 1,
          "font": {
           "color": "black",
           "size": 12
          },
          "showarrow": false,
          "text": "Left Skew (Put IV > Call IV)",
          "x": 71,
          "y": null
         }
        ],
        "template": {
         "data": {
          "bar": [
           {
            "error_x": {
             "color": "#2a3f5f"
            },
            "error_y": {
             "color": "#2a3f5f"
            },
            "marker": {
             "line": {
              "color": "#E5ECF6",
              "width": 0.5
             },
             "pattern": {
              "fillmode": "overlay",
              "size": 10,
              "solidity": 0.2
             }
            },
            "type": "bar"
           }
          ],
          "barpolar": [
           {
            "marker": {
             "line": {
              "color": "#E5ECF6",
              "width": 0.5
             },
             "pattern": {
              "fillmode": "overlay",
              "size": 10,
              "solidity": 0.2
             }
            },
            "type": "barpolar"
           }
          ],
          "carpet": [
           {
            "aaxis": {
             "endlinecolor": "#2a3f5f",
             "gridcolor": "white",
             "linecolor": "white",
             "minorgridcolor": "white",
             "startlinecolor": "#2a3f5f"
            },
            "baxis": {
             "endlinecolor": "#2a3f5f",
             "gridcolor": "white",
             "linecolor": "white",
             "minorgridcolor": "white",
             "startlinecolor": "#2a3f5f"
            },
            "type": "carpet"
           }
          ],
          "choropleth": [
           {
            "colorbar": {
             "outlinewidth": 0,
             "ticks": ""
            },
            "type": "choropleth"
           }
          ],
          "contour": [
           {
            "colorbar": {
             "outlinewidth": 0,
             "ticks": ""
            },
            "colorscale": [
             [
              0,
              "#0d0887"
             ],
             [
              0.1111111111111111,
              "#46039f"
             ],
             [
              0.2222222222222222,
              "#7201a8"
             ],
             [
              0.3333333333333333,
              "#9c179e"
             ],
             [
              0.4444444444444444,
              "#bd3786"
             ],
             [
              0.5555555555555556,
              "#d8576b"
             ],
             [
              0.6666666666666666,
              "#ed7953"
             ],
             [
              0.7777777777777778,
              "#fb9f3a"
             ],
             [
              0.8888888888888888,
              "#fdca26"
             ],
             [
              1,
              "#f0f921"
             ]
            ],
            "type": "contour"
           }
          ],
          "contourcarpet": [
           {
            "colorbar": {
             "outlinewidth": 0,
             "ticks": ""
            },
            "type": "contourcarpet"
           }
          ],
          "heatmap": [
           {
            "colorbar": {
             "outlinewidth": 0,
             "ticks": ""
            },
            "colorscale": [
             [
              0,
              "#0d0887"
             ],
             [
              0.1111111111111111,
              "#46039f"
             ],
             [
              0.2222222222222222,
              "#7201a8"
             ],
             [
              0.3333333333333333,
              "#9c179e"
             ],
             [
              0.4444444444444444,
              "#bd3786"
             ],
             [
              0.5555555555555556,
              "#d8576b"
             ],
             [
              0.6666666666666666,
              "#ed7953"
             ],
             [
              0.7777777777777778,
              "#fb9f3a"
             ],
             [
              0.8888888888888888,
              "#fdca26"
             ],
             [
              1,
              "#f0f921"
             ]
            ],
            "type": "heatmap"
           }
          ],
          "heatmapgl": [
           {
            "colorbar": {
             "outlinewidth": 0,
             "ticks": ""
            },
            "colorscale": [
             [
              0,
              "#0d0887"
             ],
             [
              0.1111111111111111,
              "#46039f"
             ],
             [
              0.2222222222222222,
              "#7201a8"
             ],
             [
              0.3333333333333333,
              "#9c179e"
             ],
             [
              0.4444444444444444,
              "#bd3786"
             ],
             [
              0.5555555555555556,
              "#d8576b"
             ],
             [
              0.6666666666666666,
              "#ed7953"
             ],
             [
              0.7777777777777778,
              "#fb9f3a"
             ],
             [
              0.8888888888888888,
              "#fdca26"
             ],
             [
              1,
              "#f0f921"
             ]
            ],
            "type": "heatmapgl"
           }
          ],
          "histogram": [
           {
            "marker": {
             "pattern": {
              "fillmode": "overlay",
              "size": 10,
              "solidity": 0.2
             }
            },
            "type": "histogram"
           }
          ],
          "histogram2d": [
           {
            "colorbar": {
             "outlinewidth": 0,
             "ticks": ""
            },
            "colorscale": [
             [
              0,
              "#0d0887"
             ],
             [
              0.1111111111111111,
              "#46039f"
             ],
             [
              0.2222222222222222,
              "#7201a8"
             ],
             [
              0.3333333333333333,
              "#9c179e"
             ],
             [
              0.4444444444444444,
              "#bd3786"
             ],
             [
              0.5555555555555556,
              "#d8576b"
             ],
             [
              0.6666666666666666,
              "#ed7953"
             ],
             [
              0.7777777777777778,
              "#fb9f3a"
             ],
             [
              0.8888888888888888,
              "#fdca26"
             ],
             [
              1,
              "#f0f921"
             ]
            ],
            "type": "histogram2d"
           }
          ],
          "histogram2dcontour": [
           {
            "colorbar": {
             "outlinewidth": 0,
             "ticks": ""
            },
            "colorscale": [
             [
              0,
              "#0d0887"
             ],
             [
              0.1111111111111111,
              "#46039f"
             ],
             [
              0.2222222222222222,
              "#7201a8"
             ],
             [
              0.3333333333333333,
              "#9c179e"
             ],
             [
              0.4444444444444444,
              "#bd3786"
             ],
             [
              0.5555555555555556,
              "#d8576b"
             ],
             [
              0.6666666666666666,
              "#ed7953"
             ],
             [
              0.7777777777777778,
              "#fb9f3a"
             ],
             [
              0.8888888888888888,
              "#fdca26"
             ],
             [
              1,
              "#f0f921"
             ]
            ],
            "type": "histogram2dcontour"
           }
          ],
          "mesh3d": [
           {
            "colorbar": {
             "outlinewidth": 0,
             "ticks": ""
            },
            "type": "mesh3d"
           }
          ],
          "parcoords": [
           {
            "line": {
             "colorbar": {
              "outlinewidth": 0,
              "ticks": ""
             }
            },
            "type": "parcoords"
           }
          ],
          "pie": [
           {
            "automargin": true,
            "type": "pie"
           }
          ],
          "scatter": [
           {
            "fillpattern": {
             "fillmode": "overlay",
             "size": 10,
             "solidity": 0.2
            },
            "type": "scatter"
           }
          ],
          "scatter3d": [
           {
            "line": {
             "colorbar": {
              "outlinewidth": 0,
              "ticks": ""
             }
            },
            "marker": {
             "colorbar": {
              "outlinewidth": 0,
              "ticks": ""
             }
            },
            "type": "scatter3d"
           }
          ],
          "scattercarpet": [
           {
            "marker": {
             "colorbar": {
              "outlinewidth": 0,
              "ticks": ""
             }
            },
            "type": "scattercarpet"
           }
          ],
          "scattergeo": [
           {
            "marker": {
             "colorbar": {
              "outlinewidth": 0,
              "ticks": ""
             }
            },
            "type": "scattergeo"
           }
          ],
          "scattergl": [
           {
            "marker": {
             "colorbar": {
              "outlinewidth": 0,
              "ticks": ""
             }
            },
            "type": "scattergl"
           }
          ],
          "scattermapbox": [
           {
            "marker": {
             "colorbar": {
              "outlinewidth": 0,
              "ticks": ""
             }
            },
            "type": "scattermapbox"
           }
          ],
          "scatterpolar": [
           {
            "marker": {
             "colorbar": {
              "outlinewidth": 0,
              "ticks": ""
             }
            },
            "type": "scatterpolar"
           }
          ],
          "scatterpolargl": [
           {
            "marker": {
             "colorbar": {
              "outlinewidth": 0,
              "ticks": ""
             }
            },
            "type": "scatterpolargl"
           }
          ],
          "scatterternary": [
           {
            "marker": {
             "colorbar": {
              "outlinewidth": 0,
              "ticks": ""
             }
            },
            "type": "scatterternary"
           }
          ],
          "surface": [
           {
            "colorbar": {
             "outlinewidth": 0,
             "ticks": ""
            },
            "colorscale": [
             [
              0,
              "#0d0887"
             ],
             [
              0.1111111111111111,
              "#46039f"
             ],
             [
              0.2222222222222222,
              "#7201a8"
             ],
             [
              0.3333333333333333,
              "#9c179e"
             ],
             [
              0.4444444444444444,
              "#bd3786"
             ],
             [
              0.5555555555555556,
              "#d8576b"
             ],
             [
              0.6666666666666666,
              "#ed7953"
             ],
             [
              0.7777777777777778,
              "#fb9f3a"
             ],
             [
              0.8888888888888888,
              "#fdca26"
             ],
             [
              1,
              "#f0f921"
             ]
            ],
            "type": "surface"
           }
          ],
          "table": [
           {
            "cells": {
             "fill": {
              "color": "#EBF0F8"
             },
             "line": {
              "color": "white"
             }
            },
            "header": {
             "fill": {
              "color": "#C8D4E3"
             },
             "line": {
              "color": "white"
             }
            },
            "type": "table"
           }
          ]
         },
         "layout": {
          "annotationdefaults": {
           "arrowcolor": "#2a3f5f",
           "arrowhead": 0,
           "arrowwidth": 1
          },
          "autotypenumbers": "strict",
          "coloraxis": {
           "colorbar": {
            "outlinewidth": 0,
            "ticks": ""
           }
          },
          "colorscale": {
           "diverging": [
            [
             0,
             "#8e0152"
            ],
            [
             0.1,
             "#c51b7d"
            ],
            [
             0.2,
             "#de77ae"
            ],
            [
             0.3,
             "#f1b6da"
            ],
            [
             0.4,
             "#fde0ef"
            ],
            [
             0.5,
             "#f7f7f7"
            ],
            [
             0.6,
             "#e6f5d0"
            ],
            [
             0.7,
             "#b8e186"
            ],
            [
             0.8,
             "#7fbc41"
            ],
            [
             0.9,
             "#4d9221"
            ],
            [
             1,
             "#276419"
            ]
           ],
           "sequential": [
            [
             0,
             "#0d0887"
            ],
            [
             0.1111111111111111,
             "#46039f"
            ],
            [
             0.2222222222222222,
             "#7201a8"
            ],
            [
             0.3333333333333333,
             "#9c179e"
            ],
            [
             0.4444444444444444,
             "#bd3786"
            ],
            [
             0.5555555555555556,
             "#d8576b"
            ],
            [
             0.6666666666666666,
             "#ed7953"
            ],
            [
             0.7777777777777778,
             "#fb9f3a"
            ],
            [
             0.8888888888888888,
             "#fdca26"
            ],
            [
             1,
             "#f0f921"
            ]
           ],
           "sequentialminus": [
            [
             0,
             "#0d0887"
            ],
            [
             0.1111111111111111,
             "#46039f"
            ],
            [
             0.2222222222222222,
             "#7201a8"
            ],
            [
             0.3333333333333333,
             "#9c179e"
            ],
            [
             0.4444444444444444,
             "#bd3786"
            ],
            [
             0.5555555555555556,
             "#d8576b"
            ],
            [
             0.6666666666666666,
             "#ed7953"
            ],
            [
             0.7777777777777778,
             "#fb9f3a"
            ],
            [
             0.8888888888888888,
             "#fdca26"
            ],
            [
             1,
             "#f0f921"
            ]
           ]
          },
          "colorway": [
           "#636efa",
           "#EF553B",
           "#00cc96",
           "#ab63fa",
           "#FFA15A",
           "#19d3f3",
           "#FF6692",
           "#B6E880",
           "#FF97FF",
           "#FECB52"
          ],
          "font": {
           "color": "#2a3f5f"
          },
          "geo": {
           "bgcolor": "white",
           "lakecolor": "white",
           "landcolor": "#E5ECF6",
           "showlakes": true,
           "showland": true,
           "subunitcolor": "white"
          },
          "hoverlabel": {
           "align": "left"
          },
          "hovermode": "closest",
          "mapbox": {
           "style": "light"
          },
          "paper_bgcolor": "white",
          "plot_bgcolor": "#E5ECF6",
          "polar": {
           "angularaxis": {
            "gridcolor": "white",
            "linecolor": "white",
            "ticks": ""
           },
           "bgcolor": "#E5ECF6",
           "radialaxis": {
            "gridcolor": "white",
            "linecolor": "white",
            "ticks": ""
           }
          },
          "scene": {
           "xaxis": {
            "backgroundcolor": "#E5ECF6",
            "gridcolor": "white",
            "gridwidth": 2,
            "linecolor": "white",
            "showbackground": true,
            "ticks": "",
            "zerolinecolor": "white"
           },
           "yaxis": {
            "backgroundcolor": "#E5ECF6",
            "gridcolor": "white",
            "gridwidth": 2,
            "linecolor": "white",
            "showbackground": true,
            "ticks": "",
            "zerolinecolor": "white"
           },
           "zaxis": {
            "backgroundcolor": "#E5ECF6",
            "gridcolor": "white",
            "gridwidth": 2,
            "linecolor": "white",
            "showbackground": true,
            "ticks": "",
            "zerolinecolor": "white"
           }
          },
          "shapedefaults": {
           "line": {
            "color": "#2a3f5f"
           }
          },
          "ternary": {
           "aaxis": {
            "gridcolor": "white",
            "linecolor": "white",
            "ticks": ""
           },
           "baxis": {
            "gridcolor": "white",
            "linecolor": "white",
            "ticks": ""
           },
           "bgcolor": "#E5ECF6",
           "caxis": {
            "gridcolor": "white",
            "linecolor": "white",
            "ticks": ""
           }
          },
          "title": {
           "x": 0.05
          },
          "xaxis": {
           "automargin": true,
           "gridcolor": "white",
           "linecolor": "white",
           "ticks": "",
           "title": {
            "standoff": 15
           },
           "zerolinecolor": "white",
           "zerolinewidth": 2
          },
          "yaxis": {
           "automargin": true,
           "gridcolor": "white",
           "linecolor": "white",
           "ticks": "",
           "title": {
            "standoff": 15
           },
           "zerolinecolor": "white",
           "zerolinewidth": 2
          }
         }
        },
        "title": {
         "text": "Implied Volatility Smile for CLH25"
        },
        "xaxis": {
         "title": {
          "text": "Strike Price"
         }
        },
        "yaxis": {
         "title": {
          "text": "Implied Volatility"
         }
        }
       }
      }
     },
     "metadata": {},
     "output_type": "display_data"
    },
    {
     "name": "stdout",
     "output_type": "stream",
     "text": [
      "CLJ25 70.92\n",
      "CLJ25 - Left Skew (Put IV > Call IV)\n"
     ]
    },
    {
     "data": {
      "application/vnd.plotly.v1+json": {
       "config": {
        "plotlyServerURL": "https://plot.ly"
       },
       "data": [
        {
         "marker": {
          "color": "blue",
          "opacity": 0.7,
          "size": 8,
          "symbol": "circle"
         },
         "mode": "markers",
         "name": "Call Options - CLJ25",
         "type": "scatter",
         "x": [
          56,
          59,
          60,
          60.5,
          61,
          62,
          62.5,
          63,
          63.5,
          64,
          64.5,
          65,
          65.5,
          66,
          66.5,
          67,
          67.5,
          68,
          68.5,
          69,
          69.5,
          70,
          70.5,
          71,
          71.5,
          72,
          72.5,
          73,
          73.5,
          74,
          74.5,
          75,
          75.5,
          76,
          76.5,
          77,
          77.5,
          78,
          78.5,
          79,
          79.5,
          80,
          80.5,
          81,
          81.5,
          82,
          82.5,
          83,
          83.5,
          84,
          84.5,
          85,
          85.5,
          86
         ],
         "y": [
          null,
          null,
          null,
          null,
          null,
          0.16453474336400736,
          0.20960600127352064,
          0.2237892770778646,
          0.23372520321332454,
          0.23846234601212235,
          0.24468260504779749,
          0.2474499142700895,
          0.2513747435787937,
          0.25265440829672314,
          0.25487801218204675,
          0.25631682938334066,
          0.25704212793856407,
          0.2571019232015469,
          0.256526650313972,
          0.25649058032048055,
          0.2557692069908788,
          0.2565739569582469,
          0.25664222934090275,
          0.25814561585076096,
          0.25895093264146135,
          0.25909980149085643,
          0.2607849437568953,
          0.2619273397622356,
          0.2625711909572981,
          0.26275408090633295,
          0.2625083477048629,
          0.2631134716219868,
          0.2660743607062258,
          0.2650056423736215,
          0.2651384691237671,
          0.26680061711845354,
          0.26714108253515767,
          0.2694962160822706,
          0.2706986937774526,
          0.27261059837137747,
          0.27551259652449694,
          0.27972506376030326,
          0.2832128580617836,
          0.2859197625400942,
          0.28776987025134,
          0.29162259305065563,
          0.2948555989871043,
          0.3007353755866099,
          0.30281103963984796,
          0.30786317027401655,
          0.308585453084693,
          0.31268636602449634,
          0.3163725119475986,
          0.3196142482801081
         ]
        },
        {
         "marker": {
          "color": "red",
          "opacity": 0.7,
          "size": 8,
          "symbol": "x"
         },
         "mode": "markers",
         "name": "Put Options - CLJ25",
         "type": "scatter",
         "x": [
          56,
          56.5,
          57,
          57.5,
          58,
          58.5,
          59,
          59.5,
          60,
          60.5,
          61,
          61.5,
          62,
          62.5,
          63,
          63.5,
          64,
          64.5,
          65,
          65.5,
          66,
          66.5,
          67,
          67.5,
          68,
          68.5,
          69,
          69.5,
          70,
          70.5,
          71,
          71.5,
          72,
          72.5,
          73,
          73.5,
          74,
          74.5,
          75,
          75.5,
          76,
          76.5,
          77,
          77.5,
          78,
          78.5,
          79,
          79.5,
          80,
          80.5,
          81,
          81.5,
          82,
          82.5,
          83,
          84,
          85,
          86
         ],
         "y": [
          0.40839331904868653,
          0.4065304460005102,
          0.3986173219224304,
          0.3949219121828881,
          0.37732960863975107,
          0.38099472715779753,
          0.3751488191597245,
          0.3720411848118576,
          0.3647474058728726,
          0.3598942211768407,
          0.3542062241824291,
          0.3503227147314732,
          0.3454398591866316,
          0.34187764962421,
          0.3372399556544265,
          0.33164012176915175,
          0.32880291610534007,
          0.3247457612911914,
          0.322800189324591,
          0.31950531549479344,
          0.31642493081588347,
          0.31481410892571765,
          0.31179001730343425,
          0.309964286887484,
          0.2982452658225407,
          0.3056504815212369,
          0.303095487819644,
          0.30245707562398305,
          0.30140231902539316,
          0.3010110489560253,
          0.30232421804923254,
          0.30213184548834643,
          0.3036684215219601,
          0.30483751322788566,
          0.3067672054616826,
          0.30843853737012494,
          0.30877375480211844,
          0.31005267578909357,
          0.31240851969473105,
          0.3147860980604308,
          0.3185242177638637,
          0.3212389832307787,
          0.3255952471534467,
          0.32906400773155015,
          0.33306864195981395,
          0.33924084494940276,
          0.34478884627024736,
          0.3497090716355334,
          0.3573025522052548,
          0.36277511559526615,
          0.37123564789161007,
          0.3775843630263097,
          0.3853789706198505,
          0.39287245400836746,
          0.40007017506860504,
          0.41564066726050225,
          0.4302763401835924,
          0.44623521266797506
         ]
        },
        {
         "line": {
          "color": "green",
          "dash": "dash"
         },
         "mode": "lines",
         "name": "Current Price (F) - CLJ25",
         "type": "scatter",
         "x": [
          70.92,
          70.92
         ],
         "y": [
          0,
          null
         ]
        }
       ],
       "layout": {
        "annotations": [
         {
          "align": "center",
          "bgcolor": "white",
          "bordercolor": "black",
          "borderpad": 4,
          "borderwidth": 1,
          "font": {
           "color": "black",
           "size": 12
          },
          "showarrow": false,
          "text": "Left Skew (Put IV > Call IV)",
          "x": 71,
          "y": null
         }
        ],
        "template": {
         "data": {
          "bar": [
           {
            "error_x": {
             "color": "#2a3f5f"
            },
            "error_y": {
             "color": "#2a3f5f"
            },
            "marker": {
             "line": {
              "color": "#E5ECF6",
              "width": 0.5
             },
             "pattern": {
              "fillmode": "overlay",
              "size": 10,
              "solidity": 0.2
             }
            },
            "type": "bar"
           }
          ],
          "barpolar": [
           {
            "marker": {
             "line": {
              "color": "#E5ECF6",
              "width": 0.5
             },
             "pattern": {
              "fillmode": "overlay",
              "size": 10,
              "solidity": 0.2
             }
            },
            "type": "barpolar"
           }
          ],
          "carpet": [
           {
            "aaxis": {
             "endlinecolor": "#2a3f5f",
             "gridcolor": "white",
             "linecolor": "white",
             "minorgridcolor": "white",
             "startlinecolor": "#2a3f5f"
            },
            "baxis": {
             "endlinecolor": "#2a3f5f",
             "gridcolor": "white",
             "linecolor": "white",
             "minorgridcolor": "white",
             "startlinecolor": "#2a3f5f"
            },
            "type": "carpet"
           }
          ],
          "choropleth": [
           {
            "colorbar": {
             "outlinewidth": 0,
             "ticks": ""
            },
            "type": "choropleth"
           }
          ],
          "contour": [
           {
            "colorbar": {
             "outlinewidth": 0,
             "ticks": ""
            },
            "colorscale": [
             [
              0,
              "#0d0887"
             ],
             [
              0.1111111111111111,
              "#46039f"
             ],
             [
              0.2222222222222222,
              "#7201a8"
             ],
             [
              0.3333333333333333,
              "#9c179e"
             ],
             [
              0.4444444444444444,
              "#bd3786"
             ],
             [
              0.5555555555555556,
              "#d8576b"
             ],
             [
              0.6666666666666666,
              "#ed7953"
             ],
             [
              0.7777777777777778,
              "#fb9f3a"
             ],
             [
              0.8888888888888888,
              "#fdca26"
             ],
             [
              1,
              "#f0f921"
             ]
            ],
            "type": "contour"
           }
          ],
          "contourcarpet": [
           {
            "colorbar": {
             "outlinewidth": 0,
             "ticks": ""
            },
            "type": "contourcarpet"
           }
          ],
          "heatmap": [
           {
            "colorbar": {
             "outlinewidth": 0,
             "ticks": ""
            },
            "colorscale": [
             [
              0,
              "#0d0887"
             ],
             [
              0.1111111111111111,
              "#46039f"
             ],
             [
              0.2222222222222222,
              "#7201a8"
             ],
             [
              0.3333333333333333,
              "#9c179e"
             ],
             [
              0.4444444444444444,
              "#bd3786"
             ],
             [
              0.5555555555555556,
              "#d8576b"
             ],
             [
              0.6666666666666666,
              "#ed7953"
             ],
             [
              0.7777777777777778,
              "#fb9f3a"
             ],
             [
              0.8888888888888888,
              "#fdca26"
             ],
             [
              1,
              "#f0f921"
             ]
            ],
            "type": "heatmap"
           }
          ],
          "heatmapgl": [
           {
            "colorbar": {
             "outlinewidth": 0,
             "ticks": ""
            },
            "colorscale": [
             [
              0,
              "#0d0887"
             ],
             [
              0.1111111111111111,
              "#46039f"
             ],
             [
              0.2222222222222222,
              "#7201a8"
             ],
             [
              0.3333333333333333,
              "#9c179e"
             ],
             [
              0.4444444444444444,
              "#bd3786"
             ],
             [
              0.5555555555555556,
              "#d8576b"
             ],
             [
              0.6666666666666666,
              "#ed7953"
             ],
             [
              0.7777777777777778,
              "#fb9f3a"
             ],
             [
              0.8888888888888888,
              "#fdca26"
             ],
             [
              1,
              "#f0f921"
             ]
            ],
            "type": "heatmapgl"
           }
          ],
          "histogram": [
           {
            "marker": {
             "pattern": {
              "fillmode": "overlay",
              "size": 10,
              "solidity": 0.2
             }
            },
            "type": "histogram"
           }
          ],
          "histogram2d": [
           {
            "colorbar": {
             "outlinewidth": 0,
             "ticks": ""
            },
            "colorscale": [
             [
              0,
              "#0d0887"
             ],
             [
              0.1111111111111111,
              "#46039f"
             ],
             [
              0.2222222222222222,
              "#7201a8"
             ],
             [
              0.3333333333333333,
              "#9c179e"
             ],
             [
              0.4444444444444444,
              "#bd3786"
             ],
             [
              0.5555555555555556,
              "#d8576b"
             ],
             [
              0.6666666666666666,
              "#ed7953"
             ],
             [
              0.7777777777777778,
              "#fb9f3a"
             ],
             [
              0.8888888888888888,
              "#fdca26"
             ],
             [
              1,
              "#f0f921"
             ]
            ],
            "type": "histogram2d"
           }
          ],
          "histogram2dcontour": [
           {
            "colorbar": {
             "outlinewidth": 0,
             "ticks": ""
            },
            "colorscale": [
             [
              0,
              "#0d0887"
             ],
             [
              0.1111111111111111,
              "#46039f"
             ],
             [
              0.2222222222222222,
              "#7201a8"
             ],
             [
              0.3333333333333333,
              "#9c179e"
             ],
             [
              0.4444444444444444,
              "#bd3786"
             ],
             [
              0.5555555555555556,
              "#d8576b"
             ],
             [
              0.6666666666666666,
              "#ed7953"
             ],
             [
              0.7777777777777778,
              "#fb9f3a"
             ],
             [
              0.8888888888888888,
              "#fdca26"
             ],
             [
              1,
              "#f0f921"
             ]
            ],
            "type": "histogram2dcontour"
           }
          ],
          "mesh3d": [
           {
            "colorbar": {
             "outlinewidth": 0,
             "ticks": ""
            },
            "type": "mesh3d"
           }
          ],
          "parcoords": [
           {
            "line": {
             "colorbar": {
              "outlinewidth": 0,
              "ticks": ""
             }
            },
            "type": "parcoords"
           }
          ],
          "pie": [
           {
            "automargin": true,
            "type": "pie"
           }
          ],
          "scatter": [
           {
            "fillpattern": {
             "fillmode": "overlay",
             "size": 10,
             "solidity": 0.2
            },
            "type": "scatter"
           }
          ],
          "scatter3d": [
           {
            "line": {
             "colorbar": {
              "outlinewidth": 0,
              "ticks": ""
             }
            },
            "marker": {
             "colorbar": {
              "outlinewidth": 0,
              "ticks": ""
             }
            },
            "type": "scatter3d"
           }
          ],
          "scattercarpet": [
           {
            "marker": {
             "colorbar": {
              "outlinewidth": 0,
              "ticks": ""
             }
            },
            "type": "scattercarpet"
           }
          ],
          "scattergeo": [
           {
            "marker": {
             "colorbar": {
              "outlinewidth": 0,
              "ticks": ""
             }
            },
            "type": "scattergeo"
           }
          ],
          "scattergl": [
           {
            "marker": {
             "colorbar": {
              "outlinewidth": 0,
              "ticks": ""
             }
            },
            "type": "scattergl"
           }
          ],
          "scattermapbox": [
           {
            "marker": {
             "colorbar": {
              "outlinewidth": 0,
              "ticks": ""
             }
            },
            "type": "scattermapbox"
           }
          ],
          "scatterpolar": [
           {
            "marker": {
             "colorbar": {
              "outlinewidth": 0,
              "ticks": ""
             }
            },
            "type": "scatterpolar"
           }
          ],
          "scatterpolargl": [
           {
            "marker": {
             "colorbar": {
              "outlinewidth": 0,
              "ticks": ""
             }
            },
            "type": "scatterpolargl"
           }
          ],
          "scatterternary": [
           {
            "marker": {
             "colorbar": {
              "outlinewidth": 0,
              "ticks": ""
             }
            },
            "type": "scatterternary"
           }
          ],
          "surface": [
           {
            "colorbar": {
             "outlinewidth": 0,
             "ticks": ""
            },
            "colorscale": [
             [
              0,
              "#0d0887"
             ],
             [
              0.1111111111111111,
              "#46039f"
             ],
             [
              0.2222222222222222,
              "#7201a8"
             ],
             [
              0.3333333333333333,
              "#9c179e"
             ],
             [
              0.4444444444444444,
              "#bd3786"
             ],
             [
              0.5555555555555556,
              "#d8576b"
             ],
             [
              0.6666666666666666,
              "#ed7953"
             ],
             [
              0.7777777777777778,
              "#fb9f3a"
             ],
             [
              0.8888888888888888,
              "#fdca26"
             ],
             [
              1,
              "#f0f921"
             ]
            ],
            "type": "surface"
           }
          ],
          "table": [
           {
            "cells": {
             "fill": {
              "color": "#EBF0F8"
             },
             "line": {
              "color": "white"
             }
            },
            "header": {
             "fill": {
              "color": "#C8D4E3"
             },
             "line": {
              "color": "white"
             }
            },
            "type": "table"
           }
          ]
         },
         "layout": {
          "annotationdefaults": {
           "arrowcolor": "#2a3f5f",
           "arrowhead": 0,
           "arrowwidth": 1
          },
          "autotypenumbers": "strict",
          "coloraxis": {
           "colorbar": {
            "outlinewidth": 0,
            "ticks": ""
           }
          },
          "colorscale": {
           "diverging": [
            [
             0,
             "#8e0152"
            ],
            [
             0.1,
             "#c51b7d"
            ],
            [
             0.2,
             "#de77ae"
            ],
            [
             0.3,
             "#f1b6da"
            ],
            [
             0.4,
             "#fde0ef"
            ],
            [
             0.5,
             "#f7f7f7"
            ],
            [
             0.6,
             "#e6f5d0"
            ],
            [
             0.7,
             "#b8e186"
            ],
            [
             0.8,
             "#7fbc41"
            ],
            [
             0.9,
             "#4d9221"
            ],
            [
             1,
             "#276419"
            ]
           ],
           "sequential": [
            [
             0,
             "#0d0887"
            ],
            [
             0.1111111111111111,
             "#46039f"
            ],
            [
             0.2222222222222222,
             "#7201a8"
            ],
            [
             0.3333333333333333,
             "#9c179e"
            ],
            [
             0.4444444444444444,
             "#bd3786"
            ],
            [
             0.5555555555555556,
             "#d8576b"
            ],
            [
             0.6666666666666666,
             "#ed7953"
            ],
            [
             0.7777777777777778,
             "#fb9f3a"
            ],
            [
             0.8888888888888888,
             "#fdca26"
            ],
            [
             1,
             "#f0f921"
            ]
           ],
           "sequentialminus": [
            [
             0,
             "#0d0887"
            ],
            [
             0.1111111111111111,
             "#46039f"
            ],
            [
             0.2222222222222222,
             "#7201a8"
            ],
            [
             0.3333333333333333,
             "#9c179e"
            ],
            [
             0.4444444444444444,
             "#bd3786"
            ],
            [
             0.5555555555555556,
             "#d8576b"
            ],
            [
             0.6666666666666666,
             "#ed7953"
            ],
            [
             0.7777777777777778,
             "#fb9f3a"
            ],
            [
             0.8888888888888888,
             "#fdca26"
            ],
            [
             1,
             "#f0f921"
            ]
           ]
          },
          "colorway": [
           "#636efa",
           "#EF553B",
           "#00cc96",
           "#ab63fa",
           "#FFA15A",
           "#19d3f3",
           "#FF6692",
           "#B6E880",
           "#FF97FF",
           "#FECB52"
          ],
          "font": {
           "color": "#2a3f5f"
          },
          "geo": {
           "bgcolor": "white",
           "lakecolor": "white",
           "landcolor": "#E5ECF6",
           "showlakes": true,
           "showland": true,
           "subunitcolor": "white"
          },
          "hoverlabel": {
           "align": "left"
          },
          "hovermode": "closest",
          "mapbox": {
           "style": "light"
          },
          "paper_bgcolor": "white",
          "plot_bgcolor": "#E5ECF6",
          "polar": {
           "angularaxis": {
            "gridcolor": "white",
            "linecolor": "white",
            "ticks": ""
           },
           "bgcolor": "#E5ECF6",
           "radialaxis": {
            "gridcolor": "white",
            "linecolor": "white",
            "ticks": ""
           }
          },
          "scene": {
           "xaxis": {
            "backgroundcolor": "#E5ECF6",
            "gridcolor": "white",
            "gridwidth": 2,
            "linecolor": "white",
            "showbackground": true,
            "ticks": "",
            "zerolinecolor": "white"
           },
           "yaxis": {
            "backgroundcolor": "#E5ECF6",
            "gridcolor": "white",
            "gridwidth": 2,
            "linecolor": "white",
            "showbackground": true,
            "ticks": "",
            "zerolinecolor": "white"
           },
           "zaxis": {
            "backgroundcolor": "#E5ECF6",
            "gridcolor": "white",
            "gridwidth": 2,
            "linecolor": "white",
            "showbackground": true,
            "ticks": "",
            "zerolinecolor": "white"
           }
          },
          "shapedefaults": {
           "line": {
            "color": "#2a3f5f"
           }
          },
          "ternary": {
           "aaxis": {
            "gridcolor": "white",
            "linecolor": "white",
            "ticks": ""
           },
           "baxis": {
            "gridcolor": "white",
            "linecolor": "white",
            "ticks": ""
           },
           "bgcolor": "#E5ECF6",
           "caxis": {
            "gridcolor": "white",
            "linecolor": "white",
            "ticks": ""
           }
          },
          "title": {
           "x": 0.05
          },
          "xaxis": {
           "automargin": true,
           "gridcolor": "white",
           "linecolor": "white",
           "ticks": "",
           "title": {
            "standoff": 15
           },
           "zerolinecolor": "white",
           "zerolinewidth": 2
          },
          "yaxis": {
           "automargin": true,
           "gridcolor": "white",
           "linecolor": "white",
           "ticks": "",
           "title": {
            "standoff": 15
           },
           "zerolinecolor": "white",
           "zerolinewidth": 2
          }
         }
        },
        "title": {
         "text": "Implied Volatility Smile for CLJ25"
        },
        "xaxis": {
         "title": {
          "text": "Strike Price"
         }
        },
        "yaxis": {
         "title": {
          "text": "Implied Volatility"
         }
        }
       }
      }
     },
     "metadata": {},
     "output_type": "display_data"
    },
    {
     "name": "stdout",
     "output_type": "stream",
     "text": [
      "CLK25 70.47\n",
      "CLK25 - Left Skew (Put IV > Call IV)\n"
     ]
    },
    {
     "data": {
      "application/vnd.plotly.v1+json": {
       "config": {
        "plotlyServerURL": "https://plot.ly"
       },
       "data": [
        {
         "marker": {
          "color": "blue",
          "opacity": 0.7,
          "size": 8,
          "symbol": "circle"
         },
         "mode": "markers",
         "name": "Call Options - CLK25",
         "type": "scatter",
         "x": [
          56.5,
          57.5,
          58.5,
          60,
          60.5,
          61,
          61.5,
          62,
          62.5,
          63,
          63.5,
          64,
          64.5,
          65,
          65.5,
          66,
          66.5,
          67,
          67.5,
          68,
          68.5,
          69,
          69.5,
          70,
          70.5,
          71,
          71.5,
          72,
          72.5,
          73,
          73.5,
          74,
          74.5,
          75,
          75.5,
          76,
          76.5,
          77,
          77.5,
          78,
          78.5,
          79,
          79.5,
          80,
          80.5,
          81,
          81.5,
          82,
          82.5,
          83,
          83.5,
          84,
          84.5,
          85,
          85.5
         ],
         "y": [
          null,
          null,
          null,
          0.23123478492384772,
          0.23910169702019846,
          0.24591703770840345,
          0.24784019765002913,
          0.25180970062907726,
          0.25382062430388214,
          0.25579912189637694,
          0.25767561217279705,
          0.25940638428424245,
          0.2597673482914023,
          0.2612148339665587,
          0.2603151335300585,
          0.26043699030646117,
          0.2604288346014873,
          0.2602764669837385,
          0.2599690083047199,
          0.2594987875615467,
          0.2597235615398069,
          0.2597375359001123,
          0.25954774944501013,
          0.25915929169494023,
          0.2585766953089204,
          0.25861612765704994,
          0.25846767858304426,
          0.2589574144623393,
          0.25929415593025823,
          0.25867049104057727,
          0.25959249840853615,
          0.2595981738322747,
          0.2595404161697654,
          0.26034161925629223,
          0.2602698999863364,
          0.2611814640323873,
          0.2622360722035775,
          0.26248484540217915,
          0.26398314151254015,
          0.2647464012763253,
          0.26586869865774504,
          0.2662610827019445,
          0.2683558521127631,
          0.26984644119554646,
          0.27069654314179736,
          0.27228556374906954,
          0.2747733863844538,
          0.27677441703226247,
          0.27825969607357653,
          0.28091498118493935,
          0.2831549350734515,
          0.28495540066965314,
          0.28628611305590107,
          0.2892056087303214,
          0.2917989111548466
         ]
        },
        {
         "marker": {
          "color": "red",
          "opacity": 0.7,
          "size": 8,
          "symbol": "x"
         },
         "mode": "markers",
         "name": "Put Options - CLK25",
         "type": "scatter",
         "x": [
          55.5,
          56,
          56.5,
          57,
          57.5,
          58,
          58.5,
          59,
          59.5,
          60,
          60.5,
          61,
          61.5,
          62,
          62.5,
          63,
          63.5,
          64,
          64.5,
          65,
          65.5,
          66,
          66.5,
          67,
          67.5,
          68,
          68.5,
          69,
          69.5,
          70,
          70.5,
          71,
          71.5,
          72,
          72.5,
          73,
          73.5,
          74,
          74.5,
          75,
          75.5,
          76,
          76.5,
          77,
          77.5,
          78,
          78.5,
          79,
          79.5,
          80,
          81.5,
          82.5,
          84,
          85
         ],
         "y": [
          0.38157567451195223,
          0.37560980028887775,
          0.3717629992771485,
          0.36965117706636347,
          0.3646846188289205,
          0.3613153277802569,
          0.3573527616034345,
          0.35285260521366696,
          0.34957460923062905,
          0.34567625496108173,
          0.34275276327108045,
          0.33916144720047475,
          0.3363520067928825,
          0.3328518369011358,
          0.32998299168855927,
          0.32762680778740294,
          0.3245221163324158,
          0.32294950656708965,
          0.3205580788765196,
          0.3184362544629189,
          0.3155290964784483,
          0.3128454759617322,
          0.31127156690221264,
          0.30977687189067754,
          0.3083337908056709,
          0.30691923574750407,
          0.30551455682030243,
          0.3041043981760177,
          0.30350681498094756,
          0.30286471803914744,
          0.30217790130342864,
          0.30226001724994284,
          0.3022989178720928,
          0.3023059627130689,
          0.30229392979580677,
          0.3030988726851268,
          0.3031025705329888,
          0.3039788827684908,
          0.30578536857173405,
          0.30686634788752426,
          0.30809635712920624,
          0.3104114783786283,
          0.31208177034255274,
          0.3140359670860395,
          0.3163279547312519,
          0.3190178182458368,
          0.32217011982377597,
          0.3248236448683375,
          0.3280304447429366,
          0.3318668985781547,
          0.34328835990169854,
          0.352331487042845,
          0.36765341916427524,
          0.3780892211570945
         ]
        },
        {
         "line": {
          "color": "green",
          "dash": "dash"
         },
         "mode": "lines",
         "name": "Current Price (F) - CLK25",
         "type": "scatter",
         "x": [
          70.47,
          70.47
         ],
         "y": [
          0,
          null
         ]
        }
       ],
       "layout": {
        "annotations": [
         {
          "align": "center",
          "bgcolor": "white",
          "bordercolor": "black",
          "borderpad": 4,
          "borderwidth": 1,
          "font": {
           "color": "black",
           "size": 12
          },
          "showarrow": false,
          "text": "Left Skew (Put IV > Call IV)",
          "x": 70.5,
          "y": null
         }
        ],
        "template": {
         "data": {
          "bar": [
           {
            "error_x": {
             "color": "#2a3f5f"
            },
            "error_y": {
             "color": "#2a3f5f"
            },
            "marker": {
             "line": {
              "color": "#E5ECF6",
              "width": 0.5
             },
             "pattern": {
              "fillmode": "overlay",
              "size": 10,
              "solidity": 0.2
             }
            },
            "type": "bar"
           }
          ],
          "barpolar": [
           {
            "marker": {
             "line": {
              "color": "#E5ECF6",
              "width": 0.5
             },
             "pattern": {
              "fillmode": "overlay",
              "size": 10,
              "solidity": 0.2
             }
            },
            "type": "barpolar"
           }
          ],
          "carpet": [
           {
            "aaxis": {
             "endlinecolor": "#2a3f5f",
             "gridcolor": "white",
             "linecolor": "white",
             "minorgridcolor": "white",
             "startlinecolor": "#2a3f5f"
            },
            "baxis": {
             "endlinecolor": "#2a3f5f",
             "gridcolor": "white",
             "linecolor": "white",
             "minorgridcolor": "white",
             "startlinecolor": "#2a3f5f"
            },
            "type": "carpet"
           }
          ],
          "choropleth": [
           {
            "colorbar": {
             "outlinewidth": 0,
             "ticks": ""
            },
            "type": "choropleth"
           }
          ],
          "contour": [
           {
            "colorbar": {
             "outlinewidth": 0,
             "ticks": ""
            },
            "colorscale": [
             [
              0,
              "#0d0887"
             ],
             [
              0.1111111111111111,
              "#46039f"
             ],
             [
              0.2222222222222222,
              "#7201a8"
             ],
             [
              0.3333333333333333,
              "#9c179e"
             ],
             [
              0.4444444444444444,
              "#bd3786"
             ],
             [
              0.5555555555555556,
              "#d8576b"
             ],
             [
              0.6666666666666666,
              "#ed7953"
             ],
             [
              0.7777777777777778,
              "#fb9f3a"
             ],
             [
              0.8888888888888888,
              "#fdca26"
             ],
             [
              1,
              "#f0f921"
             ]
            ],
            "type": "contour"
           }
          ],
          "contourcarpet": [
           {
            "colorbar": {
             "outlinewidth": 0,
             "ticks": ""
            },
            "type": "contourcarpet"
           }
          ],
          "heatmap": [
           {
            "colorbar": {
             "outlinewidth": 0,
             "ticks": ""
            },
            "colorscale": [
             [
              0,
              "#0d0887"
             ],
             [
              0.1111111111111111,
              "#46039f"
             ],
             [
              0.2222222222222222,
              "#7201a8"
             ],
             [
              0.3333333333333333,
              "#9c179e"
             ],
             [
              0.4444444444444444,
              "#bd3786"
             ],
             [
              0.5555555555555556,
              "#d8576b"
             ],
             [
              0.6666666666666666,
              "#ed7953"
             ],
             [
              0.7777777777777778,
              "#fb9f3a"
             ],
             [
              0.8888888888888888,
              "#fdca26"
             ],
             [
              1,
              "#f0f921"
             ]
            ],
            "type": "heatmap"
           }
          ],
          "heatmapgl": [
           {
            "colorbar": {
             "outlinewidth": 0,
             "ticks": ""
            },
            "colorscale": [
             [
              0,
              "#0d0887"
             ],
             [
              0.1111111111111111,
              "#46039f"
             ],
             [
              0.2222222222222222,
              "#7201a8"
             ],
             [
              0.3333333333333333,
              "#9c179e"
             ],
             [
              0.4444444444444444,
              "#bd3786"
             ],
             [
              0.5555555555555556,
              "#d8576b"
             ],
             [
              0.6666666666666666,
              "#ed7953"
             ],
             [
              0.7777777777777778,
              "#fb9f3a"
             ],
             [
              0.8888888888888888,
              "#fdca26"
             ],
             [
              1,
              "#f0f921"
             ]
            ],
            "type": "heatmapgl"
           }
          ],
          "histogram": [
           {
            "marker": {
             "pattern": {
              "fillmode": "overlay",
              "size": 10,
              "solidity": 0.2
             }
            },
            "type": "histogram"
           }
          ],
          "histogram2d": [
           {
            "colorbar": {
             "outlinewidth": 0,
             "ticks": ""
            },
            "colorscale": [
             [
              0,
              "#0d0887"
             ],
             [
              0.1111111111111111,
              "#46039f"
             ],
             [
              0.2222222222222222,
              "#7201a8"
             ],
             [
              0.3333333333333333,
              "#9c179e"
             ],
             [
              0.4444444444444444,
              "#bd3786"
             ],
             [
              0.5555555555555556,
              "#d8576b"
             ],
             [
              0.6666666666666666,
              "#ed7953"
             ],
             [
              0.7777777777777778,
              "#fb9f3a"
             ],
             [
              0.8888888888888888,
              "#fdca26"
             ],
             [
              1,
              "#f0f921"
             ]
            ],
            "type": "histogram2d"
           }
          ],
          "histogram2dcontour": [
           {
            "colorbar": {
             "outlinewidth": 0,
             "ticks": ""
            },
            "colorscale": [
             [
              0,
              "#0d0887"
             ],
             [
              0.1111111111111111,
              "#46039f"
             ],
             [
              0.2222222222222222,
              "#7201a8"
             ],
             [
              0.3333333333333333,
              "#9c179e"
             ],
             [
              0.4444444444444444,
              "#bd3786"
             ],
             [
              0.5555555555555556,
              "#d8576b"
             ],
             [
              0.6666666666666666,
              "#ed7953"
             ],
             [
              0.7777777777777778,
              "#fb9f3a"
             ],
             [
              0.8888888888888888,
              "#fdca26"
             ],
             [
              1,
              "#f0f921"
             ]
            ],
            "type": "histogram2dcontour"
           }
          ],
          "mesh3d": [
           {
            "colorbar": {
             "outlinewidth": 0,
             "ticks": ""
            },
            "type": "mesh3d"
           }
          ],
          "parcoords": [
           {
            "line": {
             "colorbar": {
              "outlinewidth": 0,
              "ticks": ""
             }
            },
            "type": "parcoords"
           }
          ],
          "pie": [
           {
            "automargin": true,
            "type": "pie"
           }
          ],
          "scatter": [
           {
            "fillpattern": {
             "fillmode": "overlay",
             "size": 10,
             "solidity": 0.2
            },
            "type": "scatter"
           }
          ],
          "scatter3d": [
           {
            "line": {
             "colorbar": {
              "outlinewidth": 0,
              "ticks": ""
             }
            },
            "marker": {
             "colorbar": {
              "outlinewidth": 0,
              "ticks": ""
             }
            },
            "type": "scatter3d"
           }
          ],
          "scattercarpet": [
           {
            "marker": {
             "colorbar": {
              "outlinewidth": 0,
              "ticks": ""
             }
            },
            "type": "scattercarpet"
           }
          ],
          "scattergeo": [
           {
            "marker": {
             "colorbar": {
              "outlinewidth": 0,
              "ticks": ""
             }
            },
            "type": "scattergeo"
           }
          ],
          "scattergl": [
           {
            "marker": {
             "colorbar": {
              "outlinewidth": 0,
              "ticks": ""
             }
            },
            "type": "scattergl"
           }
          ],
          "scattermapbox": [
           {
            "marker": {
             "colorbar": {
              "outlinewidth": 0,
              "ticks": ""
             }
            },
            "type": "scattermapbox"
           }
          ],
          "scatterpolar": [
           {
            "marker": {
             "colorbar": {
              "outlinewidth": 0,
              "ticks": ""
             }
            },
            "type": "scatterpolar"
           }
          ],
          "scatterpolargl": [
           {
            "marker": {
             "colorbar": {
              "outlinewidth": 0,
              "ticks": ""
             }
            },
            "type": "scatterpolargl"
           }
          ],
          "scatterternary": [
           {
            "marker": {
             "colorbar": {
              "outlinewidth": 0,
              "ticks": ""
             }
            },
            "type": "scatterternary"
           }
          ],
          "surface": [
           {
            "colorbar": {
             "outlinewidth": 0,
             "ticks": ""
            },
            "colorscale": [
             [
              0,
              "#0d0887"
             ],
             [
              0.1111111111111111,
              "#46039f"
             ],
             [
              0.2222222222222222,
              "#7201a8"
             ],
             [
              0.3333333333333333,
              "#9c179e"
             ],
             [
              0.4444444444444444,
              "#bd3786"
             ],
             [
              0.5555555555555556,
              "#d8576b"
             ],
             [
              0.6666666666666666,
              "#ed7953"
             ],
             [
              0.7777777777777778,
              "#fb9f3a"
             ],
             [
              0.8888888888888888,
              "#fdca26"
             ],
             [
              1,
              "#f0f921"
             ]
            ],
            "type": "surface"
           }
          ],
          "table": [
           {
            "cells": {
             "fill": {
              "color": "#EBF0F8"
             },
             "line": {
              "color": "white"
             }
            },
            "header": {
             "fill": {
              "color": "#C8D4E3"
             },
             "line": {
              "color": "white"
             }
            },
            "type": "table"
           }
          ]
         },
         "layout": {
          "annotationdefaults": {
           "arrowcolor": "#2a3f5f",
           "arrowhead": 0,
           "arrowwidth": 1
          },
          "autotypenumbers": "strict",
          "coloraxis": {
           "colorbar": {
            "outlinewidth": 0,
            "ticks": ""
           }
          },
          "colorscale": {
           "diverging": [
            [
             0,
             "#8e0152"
            ],
            [
             0.1,
             "#c51b7d"
            ],
            [
             0.2,
             "#de77ae"
            ],
            [
             0.3,
             "#f1b6da"
            ],
            [
             0.4,
             "#fde0ef"
            ],
            [
             0.5,
             "#f7f7f7"
            ],
            [
             0.6,
             "#e6f5d0"
            ],
            [
             0.7,
             "#b8e186"
            ],
            [
             0.8,
             "#7fbc41"
            ],
            [
             0.9,
             "#4d9221"
            ],
            [
             1,
             "#276419"
            ]
           ],
           "sequential": [
            [
             0,
             "#0d0887"
            ],
            [
             0.1111111111111111,
             "#46039f"
            ],
            [
             0.2222222222222222,
             "#7201a8"
            ],
            [
             0.3333333333333333,
             "#9c179e"
            ],
            [
             0.4444444444444444,
             "#bd3786"
            ],
            [
             0.5555555555555556,
             "#d8576b"
            ],
            [
             0.6666666666666666,
             "#ed7953"
            ],
            [
             0.7777777777777778,
             "#fb9f3a"
            ],
            [
             0.8888888888888888,
             "#fdca26"
            ],
            [
             1,
             "#f0f921"
            ]
           ],
           "sequentialminus": [
            [
             0,
             "#0d0887"
            ],
            [
             0.1111111111111111,
             "#46039f"
            ],
            [
             0.2222222222222222,
             "#7201a8"
            ],
            [
             0.3333333333333333,
             "#9c179e"
            ],
            [
             0.4444444444444444,
             "#bd3786"
            ],
            [
             0.5555555555555556,
             "#d8576b"
            ],
            [
             0.6666666666666666,
             "#ed7953"
            ],
            [
             0.7777777777777778,
             "#fb9f3a"
            ],
            [
             0.8888888888888888,
             "#fdca26"
            ],
            [
             1,
             "#f0f921"
            ]
           ]
          },
          "colorway": [
           "#636efa",
           "#EF553B",
           "#00cc96",
           "#ab63fa",
           "#FFA15A",
           "#19d3f3",
           "#FF6692",
           "#B6E880",
           "#FF97FF",
           "#FECB52"
          ],
          "font": {
           "color": "#2a3f5f"
          },
          "geo": {
           "bgcolor": "white",
           "lakecolor": "white",
           "landcolor": "#E5ECF6",
           "showlakes": true,
           "showland": true,
           "subunitcolor": "white"
          },
          "hoverlabel": {
           "align": "left"
          },
          "hovermode": "closest",
          "mapbox": {
           "style": "light"
          },
          "paper_bgcolor": "white",
          "plot_bgcolor": "#E5ECF6",
          "polar": {
           "angularaxis": {
            "gridcolor": "white",
            "linecolor": "white",
            "ticks": ""
           },
           "bgcolor": "#E5ECF6",
           "radialaxis": {
            "gridcolor": "white",
            "linecolor": "white",
            "ticks": ""
           }
          },
          "scene": {
           "xaxis": {
            "backgroundcolor": "#E5ECF6",
            "gridcolor": "white",
            "gridwidth": 2,
            "linecolor": "white",
            "showbackground": true,
            "ticks": "",
            "zerolinecolor": "white"
           },
           "yaxis": {
            "backgroundcolor": "#E5ECF6",
            "gridcolor": "white",
            "gridwidth": 2,
            "linecolor": "white",
            "showbackground": true,
            "ticks": "",
            "zerolinecolor": "white"
           },
           "zaxis": {
            "backgroundcolor": "#E5ECF6",
            "gridcolor": "white",
            "gridwidth": 2,
            "linecolor": "white",
            "showbackground": true,
            "ticks": "",
            "zerolinecolor": "white"
           }
          },
          "shapedefaults": {
           "line": {
            "color": "#2a3f5f"
           }
          },
          "ternary": {
           "aaxis": {
            "gridcolor": "white",
            "linecolor": "white",
            "ticks": ""
           },
           "baxis": {
            "gridcolor": "white",
            "linecolor": "white",
            "ticks": ""
           },
           "bgcolor": "#E5ECF6",
           "caxis": {
            "gridcolor": "white",
            "linecolor": "white",
            "ticks": ""
           }
          },
          "title": {
           "x": 0.05
          },
          "xaxis": {
           "automargin": true,
           "gridcolor": "white",
           "linecolor": "white",
           "ticks": "",
           "title": {
            "standoff": 15
           },
           "zerolinecolor": "white",
           "zerolinewidth": 2
          },
          "yaxis": {
           "automargin": true,
           "gridcolor": "white",
           "linecolor": "white",
           "ticks": "",
           "title": {
            "standoff": 15
           },
           "zerolinecolor": "white",
           "zerolinewidth": 2
          }
         }
        },
        "title": {
         "text": "Implied Volatility Smile for CLK25"
        },
        "xaxis": {
         "title": {
          "text": "Strike Price"
         }
        },
        "yaxis": {
         "title": {
          "text": "Implied Volatility"
         }
        }
       }
      }
     },
     "metadata": {},
     "output_type": "display_data"
    },
    {
     "name": "stdout",
     "output_type": "stream",
     "text": [
      "CLM25 69.99\n",
      "CLM25 - Left Skew (Put IV > Call IV)\n"
     ]
    },
    {
     "data": {
      "application/vnd.plotly.v1+json": {
       "config": {
        "plotlyServerURL": "https://plot.ly"
       },
       "data": [
        {
         "marker": {
          "color": "blue",
          "opacity": 0.7,
          "size": 8,
          "symbol": "circle"
         },
         "mode": "markers",
         "name": "Call Options - CLM25",
         "type": "scatter",
         "x": [
          55,
          57.5,
          58,
          58.5,
          59,
          59.5,
          60,
          60.5,
          61,
          61.5,
          62,
          62.5,
          63,
          63.5,
          64,
          64.5,
          65,
          65.5,
          66,
          66.5,
          67,
          67.5,
          68,
          68.5,
          69,
          69.5,
          70,
          70.5,
          71,
          71.5,
          72,
          72.5,
          73,
          73.5,
          74,
          74.5,
          75,
          75.5,
          76,
          76.5,
          77,
          77.5,
          78,
          78.5,
          79,
          79.5,
          80,
          80.5,
          81,
          81.5,
          82,
          82.5,
          83,
          83.5,
          84,
          84.5,
          85
         ],
         "y": [
          null,
          0.2114785504401582,
          0.22402978039290283,
          0.23148488436459866,
          0.23601485528568386,
          0.24047635714902477,
          0.24476784550602998,
          0.24733180476885783,
          0.24854898929369842,
          0.2512435671654351,
          0.25146743906437435,
          0.2530129769904185,
          0.2534989258176141,
          0.254063697832047,
          0.2546651915142355,
          0.2552729471585646,
          0.25499737026491004,
          0.2547551229730723,
          0.25533064361796765,
          0.2550660748844243,
          0.25478381243561793,
          0.2544728465374304,
          0.2541257299684794,
          0.25445303100239486,
          0.2540093813231429,
          0.25352116840929456,
          0.25368027175008806,
          0.2537880555340984,
          0.2531660110906848,
          0.2531963985550486,
          0.25320178946994115,
          0.2531940740059232,
          0.2531871808530736,
          0.25319616127482364,
          0.2532394481798295,
          0.2533373994153577,
          0.25351388428727445,
          0.2537958799292899,
          0.25421504957333146,
          0.25480770037717926,
          0.2556147570248713,
          0.2566838645570228,
          0.25720237595052675,
          0.2580418899977795,
          0.259264991067401,
          0.2599859940145994,
          0.26117228283088373,
          0.2618786506133814,
          0.26421386854811546,
          0.26507672658248294,
          0.2666203902026353,
          0.2677616137782277,
          0.26972228529603953,
          0.27133779251689444,
          0.2739315419521584,
          0.27625191500807506,
          0.2782904264576095
         ]
        },
        {
         "marker": {
          "color": "red",
          "opacity": 0.7,
          "size": 8,
          "symbol": "x"
         },
         "mode": "markers",
         "name": "Put Options - CLM25",
         "type": "scatter",
         "x": [
          55,
          55.5,
          56,
          56.5,
          57,
          57.5,
          58,
          58.5,
          59,
          59.5,
          60,
          60.5,
          61,
          61.5,
          62,
          62.5,
          63,
          63.5,
          64,
          64.5,
          65,
          65.5,
          66,
          66.5,
          67,
          67.5,
          68,
          68.5,
          69,
          69.5,
          70,
          70.5,
          71,
          71.5,
          72,
          72.5,
          73,
          73.5,
          74,
          74.5,
          75,
          75.5,
          76,
          76.5,
          77,
          77.5,
          78,
          78.5,
          79,
          79.5,
          80,
          80.5,
          81,
          81.5,
          82,
          82.5,
          83,
          83.5,
          84,
          84.5,
          85
         ],
         "y": [
          0.36698672562744217,
          0.3637951210629034,
          0.3601715874073344,
          0.3561539975176718,
          0.35328372943932906,
          0.3499451583183955,
          0.34617698206498443,
          0.34332811914858885,
          0.3400005668096235,
          0.3374366117106197,
          0.33436443805063737,
          0.33193000585319116,
          0.3289717518611976,
          0.32655072759092707,
          0.3235989200251377,
          0.3211028779340298,
          0.31899544234928434,
          0.31721805207982146,
          0.3148566783361658,
          0.31278314961522613,
          0.3109548192365968,
          0.3093358446169606,
          0.30789547890401514,
          0.30660859128089063,
          0.30545383743301474,
          0.30368144395447255,
          0.30275406942566724,
          0.30191576867642395,
          0.30115842644433843,
          0.30047686065238205,
          0.2998681643547568,
          0.29933178149023526,
          0.29886881015666455,
          0.29916954661594053,
          0.29886725185796303,
          0.2993466609549757,
          0.2992413357084522,
          0.2999498273959363,
          0.3000956065026171,
          0.30110182636943505,
          0.30229349660146704,
          0.3029666990843384,
          0.30460063787478964,
          0.3065066714424833,
          0.30795503546186576,
          0.3097220570158127,
          0.31184685240159477,
          0.31437111927479944,
          0.31651590514731043,
          0.31912019484852144,
          0.3222325592457456,
          0.32502957339274063,
          0.3284027011237045,
          0.33149637742810817,
          0.3352386285084386,
          0.33873947201141547,
          0.3419996298598659,
          0.34600315240693563,
          0.349805879891603,
          0.354427537486787,
          0.3588878647266071
         ]
        },
        {
         "line": {
          "color": "green",
          "dash": "dash"
         },
         "mode": "lines",
         "name": "Current Price (F) - CLM25",
         "type": "scatter",
         "x": [
          69.99,
          69.99
         ],
         "y": [
          0,
          null
         ]
        }
       ],
       "layout": {
        "annotations": [
         {
          "align": "center",
          "bgcolor": "white",
          "bordercolor": "black",
          "borderpad": 4,
          "borderwidth": 1,
          "font": {
           "color": "black",
           "size": 12
          },
          "showarrow": false,
          "text": "Left Skew (Put IV > Call IV)",
          "x": 70,
          "y": null
         }
        ],
        "template": {
         "data": {
          "bar": [
           {
            "error_x": {
             "color": "#2a3f5f"
            },
            "error_y": {
             "color": "#2a3f5f"
            },
            "marker": {
             "line": {
              "color": "#E5ECF6",
              "width": 0.5
             },
             "pattern": {
              "fillmode": "overlay",
              "size": 10,
              "solidity": 0.2
             }
            },
            "type": "bar"
           }
          ],
          "barpolar": [
           {
            "marker": {
             "line": {
              "color": "#E5ECF6",
              "width": 0.5
             },
             "pattern": {
              "fillmode": "overlay",
              "size": 10,
              "solidity": 0.2
             }
            },
            "type": "barpolar"
           }
          ],
          "carpet": [
           {
            "aaxis": {
             "endlinecolor": "#2a3f5f",
             "gridcolor": "white",
             "linecolor": "white",
             "minorgridcolor": "white",
             "startlinecolor": "#2a3f5f"
            },
            "baxis": {
             "endlinecolor": "#2a3f5f",
             "gridcolor": "white",
             "linecolor": "white",
             "minorgridcolor": "white",
             "startlinecolor": "#2a3f5f"
            },
            "type": "carpet"
           }
          ],
          "choropleth": [
           {
            "colorbar": {
             "outlinewidth": 0,
             "ticks": ""
            },
            "type": "choropleth"
           }
          ],
          "contour": [
           {
            "colorbar": {
             "outlinewidth": 0,
             "ticks": ""
            },
            "colorscale": [
             [
              0,
              "#0d0887"
             ],
             [
              0.1111111111111111,
              "#46039f"
             ],
             [
              0.2222222222222222,
              "#7201a8"
             ],
             [
              0.3333333333333333,
              "#9c179e"
             ],
             [
              0.4444444444444444,
              "#bd3786"
             ],
             [
              0.5555555555555556,
              "#d8576b"
             ],
             [
              0.6666666666666666,
              "#ed7953"
             ],
             [
              0.7777777777777778,
              "#fb9f3a"
             ],
             [
              0.8888888888888888,
              "#fdca26"
             ],
             [
              1,
              "#f0f921"
             ]
            ],
            "type": "contour"
           }
          ],
          "contourcarpet": [
           {
            "colorbar": {
             "outlinewidth": 0,
             "ticks": ""
            },
            "type": "contourcarpet"
           }
          ],
          "heatmap": [
           {
            "colorbar": {
             "outlinewidth": 0,
             "ticks": ""
            },
            "colorscale": [
             [
              0,
              "#0d0887"
             ],
             [
              0.1111111111111111,
              "#46039f"
             ],
             [
              0.2222222222222222,
              "#7201a8"
             ],
             [
              0.3333333333333333,
              "#9c179e"
             ],
             [
              0.4444444444444444,
              "#bd3786"
             ],
             [
              0.5555555555555556,
              "#d8576b"
             ],
             [
              0.6666666666666666,
              "#ed7953"
             ],
             [
              0.7777777777777778,
              "#fb9f3a"
             ],
             [
              0.8888888888888888,
              "#fdca26"
             ],
             [
              1,
              "#f0f921"
             ]
            ],
            "type": "heatmap"
           }
          ],
          "heatmapgl": [
           {
            "colorbar": {
             "outlinewidth": 0,
             "ticks": ""
            },
            "colorscale": [
             [
              0,
              "#0d0887"
             ],
             [
              0.1111111111111111,
              "#46039f"
             ],
             [
              0.2222222222222222,
              "#7201a8"
             ],
             [
              0.3333333333333333,
              "#9c179e"
             ],
             [
              0.4444444444444444,
              "#bd3786"
             ],
             [
              0.5555555555555556,
              "#d8576b"
             ],
             [
              0.6666666666666666,
              "#ed7953"
             ],
             [
              0.7777777777777778,
              "#fb9f3a"
             ],
             [
              0.8888888888888888,
              "#fdca26"
             ],
             [
              1,
              "#f0f921"
             ]
            ],
            "type": "heatmapgl"
           }
          ],
          "histogram": [
           {
            "marker": {
             "pattern": {
              "fillmode": "overlay",
              "size": 10,
              "solidity": 0.2
             }
            },
            "type": "histogram"
           }
          ],
          "histogram2d": [
           {
            "colorbar": {
             "outlinewidth": 0,
             "ticks": ""
            },
            "colorscale": [
             [
              0,
              "#0d0887"
             ],
             [
              0.1111111111111111,
              "#46039f"
             ],
             [
              0.2222222222222222,
              "#7201a8"
             ],
             [
              0.3333333333333333,
              "#9c179e"
             ],
             [
              0.4444444444444444,
              "#bd3786"
             ],
             [
              0.5555555555555556,
              "#d8576b"
             ],
             [
              0.6666666666666666,
              "#ed7953"
             ],
             [
              0.7777777777777778,
              "#fb9f3a"
             ],
             [
              0.8888888888888888,
              "#fdca26"
             ],
             [
              1,
              "#f0f921"
             ]
            ],
            "type": "histogram2d"
           }
          ],
          "histogram2dcontour": [
           {
            "colorbar": {
             "outlinewidth": 0,
             "ticks": ""
            },
            "colorscale": [
             [
              0,
              "#0d0887"
             ],
             [
              0.1111111111111111,
              "#46039f"
             ],
             [
              0.2222222222222222,
              "#7201a8"
             ],
             [
              0.3333333333333333,
              "#9c179e"
             ],
             [
              0.4444444444444444,
              "#bd3786"
             ],
             [
              0.5555555555555556,
              "#d8576b"
             ],
             [
              0.6666666666666666,
              "#ed7953"
             ],
             [
              0.7777777777777778,
              "#fb9f3a"
             ],
             [
              0.8888888888888888,
              "#fdca26"
             ],
             [
              1,
              "#f0f921"
             ]
            ],
            "type": "histogram2dcontour"
           }
          ],
          "mesh3d": [
           {
            "colorbar": {
             "outlinewidth": 0,
             "ticks": ""
            },
            "type": "mesh3d"
           }
          ],
          "parcoords": [
           {
            "line": {
             "colorbar": {
              "outlinewidth": 0,
              "ticks": ""
             }
            },
            "type": "parcoords"
           }
          ],
          "pie": [
           {
            "automargin": true,
            "type": "pie"
           }
          ],
          "scatter": [
           {
            "fillpattern": {
             "fillmode": "overlay",
             "size": 10,
             "solidity": 0.2
            },
            "type": "scatter"
           }
          ],
          "scatter3d": [
           {
            "line": {
             "colorbar": {
              "outlinewidth": 0,
              "ticks": ""
             }
            },
            "marker": {
             "colorbar": {
              "outlinewidth": 0,
              "ticks": ""
             }
            },
            "type": "scatter3d"
           }
          ],
          "scattercarpet": [
           {
            "marker": {
             "colorbar": {
              "outlinewidth": 0,
              "ticks": ""
             }
            },
            "type": "scattercarpet"
           }
          ],
          "scattergeo": [
           {
            "marker": {
             "colorbar": {
              "outlinewidth": 0,
              "ticks": ""
             }
            },
            "type": "scattergeo"
           }
          ],
          "scattergl": [
           {
            "marker": {
             "colorbar": {
              "outlinewidth": 0,
              "ticks": ""
             }
            },
            "type": "scattergl"
           }
          ],
          "scattermapbox": [
           {
            "marker": {
             "colorbar": {
              "outlinewidth": 0,
              "ticks": ""
             }
            },
            "type": "scattermapbox"
           }
          ],
          "scatterpolar": [
           {
            "marker": {
             "colorbar": {
              "outlinewidth": 0,
              "ticks": ""
             }
            },
            "type": "scatterpolar"
           }
          ],
          "scatterpolargl": [
           {
            "marker": {
             "colorbar": {
              "outlinewidth": 0,
              "ticks": ""
             }
            },
            "type": "scatterpolargl"
           }
          ],
          "scatterternary": [
           {
            "marker": {
             "colorbar": {
              "outlinewidth": 0,
              "ticks": ""
             }
            },
            "type": "scatterternary"
           }
          ],
          "surface": [
           {
            "colorbar": {
             "outlinewidth": 0,
             "ticks": ""
            },
            "colorscale": [
             [
              0,
              "#0d0887"
             ],
             [
              0.1111111111111111,
              "#46039f"
             ],
             [
              0.2222222222222222,
              "#7201a8"
             ],
             [
              0.3333333333333333,
              "#9c179e"
             ],
             [
              0.4444444444444444,
              "#bd3786"
             ],
             [
              0.5555555555555556,
              "#d8576b"
             ],
             [
              0.6666666666666666,
              "#ed7953"
             ],
             [
              0.7777777777777778,
              "#fb9f3a"
             ],
             [
              0.8888888888888888,
              "#fdca26"
             ],
             [
              1,
              "#f0f921"
             ]
            ],
            "type": "surface"
           }
          ],
          "table": [
           {
            "cells": {
             "fill": {
              "color": "#EBF0F8"
             },
             "line": {
              "color": "white"
             }
            },
            "header": {
             "fill": {
              "color": "#C8D4E3"
             },
             "line": {
              "color": "white"
             }
            },
            "type": "table"
           }
          ]
         },
         "layout": {
          "annotationdefaults": {
           "arrowcolor": "#2a3f5f",
           "arrowhead": 0,
           "arrowwidth": 1
          },
          "autotypenumbers": "strict",
          "coloraxis": {
           "colorbar": {
            "outlinewidth": 0,
            "ticks": ""
           }
          },
          "colorscale": {
           "diverging": [
            [
             0,
             "#8e0152"
            ],
            [
             0.1,
             "#c51b7d"
            ],
            [
             0.2,
             "#de77ae"
            ],
            [
             0.3,
             "#f1b6da"
            ],
            [
             0.4,
             "#fde0ef"
            ],
            [
             0.5,
             "#f7f7f7"
            ],
            [
             0.6,
             "#e6f5d0"
            ],
            [
             0.7,
             "#b8e186"
            ],
            [
             0.8,
             "#7fbc41"
            ],
            [
             0.9,
             "#4d9221"
            ],
            [
             1,
             "#276419"
            ]
           ],
           "sequential": [
            [
             0,
             "#0d0887"
            ],
            [
             0.1111111111111111,
             "#46039f"
            ],
            [
             0.2222222222222222,
             "#7201a8"
            ],
            [
             0.3333333333333333,
             "#9c179e"
            ],
            [
             0.4444444444444444,
             "#bd3786"
            ],
            [
             0.5555555555555556,
             "#d8576b"
            ],
            [
             0.6666666666666666,
             "#ed7953"
            ],
            [
             0.7777777777777778,
             "#fb9f3a"
            ],
            [
             0.8888888888888888,
             "#fdca26"
            ],
            [
             1,
             "#f0f921"
            ]
           ],
           "sequentialminus": [
            [
             0,
             "#0d0887"
            ],
            [
             0.1111111111111111,
             "#46039f"
            ],
            [
             0.2222222222222222,
             "#7201a8"
            ],
            [
             0.3333333333333333,
             "#9c179e"
            ],
            [
             0.4444444444444444,
             "#bd3786"
            ],
            [
             0.5555555555555556,
             "#d8576b"
            ],
            [
             0.6666666666666666,
             "#ed7953"
            ],
            [
             0.7777777777777778,
             "#fb9f3a"
            ],
            [
             0.8888888888888888,
             "#fdca26"
            ],
            [
             1,
             "#f0f921"
            ]
           ]
          },
          "colorway": [
           "#636efa",
           "#EF553B",
           "#00cc96",
           "#ab63fa",
           "#FFA15A",
           "#19d3f3",
           "#FF6692",
           "#B6E880",
           "#FF97FF",
           "#FECB52"
          ],
          "font": {
           "color": "#2a3f5f"
          },
          "geo": {
           "bgcolor": "white",
           "lakecolor": "white",
           "landcolor": "#E5ECF6",
           "showlakes": true,
           "showland": true,
           "subunitcolor": "white"
          },
          "hoverlabel": {
           "align": "left"
          },
          "hovermode": "closest",
          "mapbox": {
           "style": "light"
          },
          "paper_bgcolor": "white",
          "plot_bgcolor": "#E5ECF6",
          "polar": {
           "angularaxis": {
            "gridcolor": "white",
            "linecolor": "white",
            "ticks": ""
           },
           "bgcolor": "#E5ECF6",
           "radialaxis": {
            "gridcolor": "white",
            "linecolor": "white",
            "ticks": ""
           }
          },
          "scene": {
           "xaxis": {
            "backgroundcolor": "#E5ECF6",
            "gridcolor": "white",
            "gridwidth": 2,
            "linecolor": "white",
            "showbackground": true,
            "ticks": "",
            "zerolinecolor": "white"
           },
           "yaxis": {
            "backgroundcolor": "#E5ECF6",
            "gridcolor": "white",
            "gridwidth": 2,
            "linecolor": "white",
            "showbackground": true,
            "ticks": "",
            "zerolinecolor": "white"
           },
           "zaxis": {
            "backgroundcolor": "#E5ECF6",
            "gridcolor": "white",
            "gridwidth": 2,
            "linecolor": "white",
            "showbackground": true,
            "ticks": "",
            "zerolinecolor": "white"
           }
          },
          "shapedefaults": {
           "line": {
            "color": "#2a3f5f"
           }
          },
          "ternary": {
           "aaxis": {
            "gridcolor": "white",
            "linecolor": "white",
            "ticks": ""
           },
           "baxis": {
            "gridcolor": "white",
            "linecolor": "white",
            "ticks": ""
           },
           "bgcolor": "#E5ECF6",
           "caxis": {
            "gridcolor": "white",
            "linecolor": "white",
            "ticks": ""
           }
          },
          "title": {
           "x": 0.05
          },
          "xaxis": {
           "automargin": true,
           "gridcolor": "white",
           "linecolor": "white",
           "ticks": "",
           "title": {
            "standoff": 15
           },
           "zerolinecolor": "white",
           "zerolinewidth": 2
          },
          "yaxis": {
           "automargin": true,
           "gridcolor": "white",
           "linecolor": "white",
           "ticks": "",
           "title": {
            "standoff": 15
           },
           "zerolinecolor": "white",
           "zerolinewidth": 2
          }
         }
        },
        "title": {
         "text": "Implied Volatility Smile for CLM25"
        },
        "xaxis": {
         "title": {
          "text": "Strike Price"
         }
        },
        "yaxis": {
         "title": {
          "text": "Implied Volatility"
         }
        }
       }
      }
     },
     "metadata": {},
     "output_type": "display_data"
    },
    {
     "name": "stdout",
     "output_type": "stream",
     "text": [
      "CLN25 69.54\n",
      "CLN25 - Left Skew (Put IV > Call IV)\n"
     ]
    },
    {
     "data": {
      "application/vnd.plotly.v1+json": {
       "config": {
        "plotlyServerURL": "https://plot.ly"
       },
       "data": [
        {
         "marker": {
          "color": "blue",
          "opacity": 0.7,
          "size": 8,
          "symbol": "circle"
         },
         "mode": "markers",
         "name": "Call Options - CLN25",
         "type": "scatter",
         "x": [
          55,
          60,
          60.5,
          63,
          63.5,
          64,
          64.5,
          65,
          65.5,
          66,
          66.5,
          67,
          67.5,
          68,
          68.5,
          69,
          69.5,
          70,
          70.5,
          71,
          71.5,
          72,
          72.5,
          73,
          73.5,
          74,
          74.5,
          75,
          75.5,
          76,
          76.5,
          77,
          77.5,
          78,
          78.5,
          79,
          79.5,
          80,
          80.5,
          81,
          81.5,
          82,
          82.5,
          83,
          83.5,
          84,
          84.5
         ],
         "y": [
          null,
          0.24379727851193234,
          0.24538053095135925,
          0.24916446223429925,
          0.24953364032923808,
          0.24997660490785292,
          0.25047258835411673,
          0.25028898787068127,
          0.2501736969675477,
          0.25078982535487093,
          0.25075327852378815,
          0.2507520964486849,
          0.25014362771027443,
          0.2502079651176233,
          0.24967666026766863,
          0.24918207437060555,
          0.248722088377663,
          0.24829543997198,
          0.24790369876988566,
          0.24815034373054676,
          0.2478391355284731,
          0.24757799019191487,
          0.24737479661263218,
          0.247849554054568,
          0.24780032926475,
          0.2478466016914787,
          0.24800531582007143,
          0.24765468466713847,
          0.24808876286414114,
          0.24870145749796074,
          0.24884380192978642,
          0.2491968445303713,
          0.24979451228689314,
          0.25067370459358,
          0.2511304999935356,
          0.25191817428467234,
          0.25229577104417755,
          0.2530610353983961,
          0.25427058590911394,
          0.25512267715101816,
          0.25649530713398316,
          0.2575395471350497,
          0.25919270624680546,
          0.2595727538092428,
          0.26161414456497073,
          0.26235886480003595,
          0.26386073191606035
         ]
        },
        {
         "marker": {
          "color": "red",
          "opacity": 0.7,
          "size": 8,
          "symbol": "x"
         },
         "mode": "markers",
         "name": "Put Options - CLN25",
         "type": "scatter",
         "x": [
          54.5,
          55,
          55.5,
          56,
          56.5,
          57,
          57.5,
          58,
          58.5,
          59,
          59.5,
          60,
          60.5,
          61,
          61.5,
          62,
          62.5,
          63,
          63.5,
          64,
          64.5,
          65,
          65.5,
          66,
          66.5,
          67,
          67.5,
          68,
          68.5,
          69,
          69.5,
          70,
          70.5,
          71,
          71.5,
          72,
          72.5,
          73,
          73.5,
          74,
          74.5,
          75,
          75.5,
          76,
          76.5,
          77,
          77.5,
          78,
          78.5,
          79,
          79.5,
          80,
          82
         ],
         "y": [
          0.36198126338305225,
          0.3576435021678014,
          0.35559548316894557,
          0.35191637954872096,
          0.3491091045895092,
          0.3459404441209412,
          0.3435131516991998,
          0.3406935033644489,
          0.3385079820917734,
          0.3349462441989566,
          0.3329292641399362,
          0.33048691120651896,
          0.3276462751426465,
          0.3252744831151393,
          0.3233153608613882,
          0.3209236865088527,
          0.31889578188452467,
          0.3171902312976926,
          0.31576964805177377,
          0.3138864460469985,
          0.31226190898562606,
          0.3108698352145473,
          0.30968673502078564,
          0.30869347394191143,
          0.3072251812114686,
          0.30593705249271524,
          0.3048161704825292,
          0.3038510257698233,
          0.3030335304612853,
          0.30174526544844493,
          0.3012107423633252,
          0.300206789555211,
          0.29994429417793006,
          0.2998182223693615,
          0.29983267426816157,
          0.29939200298246527,
          0.299705612376992,
          0.30018226783286023,
          0.30022550870440584,
          0.30106177809850015,
          0.3014843179619714,
          0.3021168345270559,
          0.30297686158382625,
          0.3040840491356409,
          0.3054606773664438,
          0.30712988844134326,
          0.3084577817766941,
          0.31011426353045474,
          0.31212794247102366,
          0.3145296274577753,
          0.31664998871365424,
          0.318490300630201,
          0.3291263397948685
         ]
        },
        {
         "line": {
          "color": "green",
          "dash": "dash"
         },
         "mode": "lines",
         "name": "Current Price (F) - CLN25",
         "type": "scatter",
         "x": [
          69.54,
          69.54
         ],
         "y": [
          0,
          null
         ]
        }
       ],
       "layout": {
        "annotations": [
         {
          "align": "center",
          "bgcolor": "white",
          "bordercolor": "black",
          "borderpad": 4,
          "borderwidth": 1,
          "font": {
           "color": "black",
           "size": 12
          },
          "showarrow": false,
          "text": "Left Skew (Put IV > Call IV)",
          "x": 69.5,
          "y": null
         }
        ],
        "template": {
         "data": {
          "bar": [
           {
            "error_x": {
             "color": "#2a3f5f"
            },
            "error_y": {
             "color": "#2a3f5f"
            },
            "marker": {
             "line": {
              "color": "#E5ECF6",
              "width": 0.5
             },
             "pattern": {
              "fillmode": "overlay",
              "size": 10,
              "solidity": 0.2
             }
            },
            "type": "bar"
           }
          ],
          "barpolar": [
           {
            "marker": {
             "line": {
              "color": "#E5ECF6",
              "width": 0.5
             },
             "pattern": {
              "fillmode": "overlay",
              "size": 10,
              "solidity": 0.2
             }
            },
            "type": "barpolar"
           }
          ],
          "carpet": [
           {
            "aaxis": {
             "endlinecolor": "#2a3f5f",
             "gridcolor": "white",
             "linecolor": "white",
             "minorgridcolor": "white",
             "startlinecolor": "#2a3f5f"
            },
            "baxis": {
             "endlinecolor": "#2a3f5f",
             "gridcolor": "white",
             "linecolor": "white",
             "minorgridcolor": "white",
             "startlinecolor": "#2a3f5f"
            },
            "type": "carpet"
           }
          ],
          "choropleth": [
           {
            "colorbar": {
             "outlinewidth": 0,
             "ticks": ""
            },
            "type": "choropleth"
           }
          ],
          "contour": [
           {
            "colorbar": {
             "outlinewidth": 0,
             "ticks": ""
            },
            "colorscale": [
             [
              0,
              "#0d0887"
             ],
             [
              0.1111111111111111,
              "#46039f"
             ],
             [
              0.2222222222222222,
              "#7201a8"
             ],
             [
              0.3333333333333333,
              "#9c179e"
             ],
             [
              0.4444444444444444,
              "#bd3786"
             ],
             [
              0.5555555555555556,
              "#d8576b"
             ],
             [
              0.6666666666666666,
              "#ed7953"
             ],
             [
              0.7777777777777778,
              "#fb9f3a"
             ],
             [
              0.8888888888888888,
              "#fdca26"
             ],
             [
              1,
              "#f0f921"
             ]
            ],
            "type": "contour"
           }
          ],
          "contourcarpet": [
           {
            "colorbar": {
             "outlinewidth": 0,
             "ticks": ""
            },
            "type": "contourcarpet"
           }
          ],
          "heatmap": [
           {
            "colorbar": {
             "outlinewidth": 0,
             "ticks": ""
            },
            "colorscale": [
             [
              0,
              "#0d0887"
             ],
             [
              0.1111111111111111,
              "#46039f"
             ],
             [
              0.2222222222222222,
              "#7201a8"
             ],
             [
              0.3333333333333333,
              "#9c179e"
             ],
             [
              0.4444444444444444,
              "#bd3786"
             ],
             [
              0.5555555555555556,
              "#d8576b"
             ],
             [
              0.6666666666666666,
              "#ed7953"
             ],
             [
              0.7777777777777778,
              "#fb9f3a"
             ],
             [
              0.8888888888888888,
              "#fdca26"
             ],
             [
              1,
              "#f0f921"
             ]
            ],
            "type": "heatmap"
           }
          ],
          "heatmapgl": [
           {
            "colorbar": {
             "outlinewidth": 0,
             "ticks": ""
            },
            "colorscale": [
             [
              0,
              "#0d0887"
             ],
             [
              0.1111111111111111,
              "#46039f"
             ],
             [
              0.2222222222222222,
              "#7201a8"
             ],
             [
              0.3333333333333333,
              "#9c179e"
             ],
             [
              0.4444444444444444,
              "#bd3786"
             ],
             [
              0.5555555555555556,
              "#d8576b"
             ],
             [
              0.6666666666666666,
              "#ed7953"
             ],
             [
              0.7777777777777778,
              "#fb9f3a"
             ],
             [
              0.8888888888888888,
              "#fdca26"
             ],
             [
              1,
              "#f0f921"
             ]
            ],
            "type": "heatmapgl"
           }
          ],
          "histogram": [
           {
            "marker": {
             "pattern": {
              "fillmode": "overlay",
              "size": 10,
              "solidity": 0.2
             }
            },
            "type": "histogram"
           }
          ],
          "histogram2d": [
           {
            "colorbar": {
             "outlinewidth": 0,
             "ticks": ""
            },
            "colorscale": [
             [
              0,
              "#0d0887"
             ],
             [
              0.1111111111111111,
              "#46039f"
             ],
             [
              0.2222222222222222,
              "#7201a8"
             ],
             [
              0.3333333333333333,
              "#9c179e"
             ],
             [
              0.4444444444444444,
              "#bd3786"
             ],
             [
              0.5555555555555556,
              "#d8576b"
             ],
             [
              0.6666666666666666,
              "#ed7953"
             ],
             [
              0.7777777777777778,
              "#fb9f3a"
             ],
             [
              0.8888888888888888,
              "#fdca26"
             ],
             [
              1,
              "#f0f921"
             ]
            ],
            "type": "histogram2d"
           }
          ],
          "histogram2dcontour": [
           {
            "colorbar": {
             "outlinewidth": 0,
             "ticks": ""
            },
            "colorscale": [
             [
              0,
              "#0d0887"
             ],
             [
              0.1111111111111111,
              "#46039f"
             ],
             [
              0.2222222222222222,
              "#7201a8"
             ],
             [
              0.3333333333333333,
              "#9c179e"
             ],
             [
              0.4444444444444444,
              "#bd3786"
             ],
             [
              0.5555555555555556,
              "#d8576b"
             ],
             [
              0.6666666666666666,
              "#ed7953"
             ],
             [
              0.7777777777777778,
              "#fb9f3a"
             ],
             [
              0.8888888888888888,
              "#fdca26"
             ],
             [
              1,
              "#f0f921"
             ]
            ],
            "type": "histogram2dcontour"
           }
          ],
          "mesh3d": [
           {
            "colorbar": {
             "outlinewidth": 0,
             "ticks": ""
            },
            "type": "mesh3d"
           }
          ],
          "parcoords": [
           {
            "line": {
             "colorbar": {
              "outlinewidth": 0,
              "ticks": ""
             }
            },
            "type": "parcoords"
           }
          ],
          "pie": [
           {
            "automargin": true,
            "type": "pie"
           }
          ],
          "scatter": [
           {
            "fillpattern": {
             "fillmode": "overlay",
             "size": 10,
             "solidity": 0.2
            },
            "type": "scatter"
           }
          ],
          "scatter3d": [
           {
            "line": {
             "colorbar": {
              "outlinewidth": 0,
              "ticks": ""
             }
            },
            "marker": {
             "colorbar": {
              "outlinewidth": 0,
              "ticks": ""
             }
            },
            "type": "scatter3d"
           }
          ],
          "scattercarpet": [
           {
            "marker": {
             "colorbar": {
              "outlinewidth": 0,
              "ticks": ""
             }
            },
            "type": "scattercarpet"
           }
          ],
          "scattergeo": [
           {
            "marker": {
             "colorbar": {
              "outlinewidth": 0,
              "ticks": ""
             }
            },
            "type": "scattergeo"
           }
          ],
          "scattergl": [
           {
            "marker": {
             "colorbar": {
              "outlinewidth": 0,
              "ticks": ""
             }
            },
            "type": "scattergl"
           }
          ],
          "scattermapbox": [
           {
            "marker": {
             "colorbar": {
              "outlinewidth": 0,
              "ticks": ""
             }
            },
            "type": "scattermapbox"
           }
          ],
          "scatterpolar": [
           {
            "marker": {
             "colorbar": {
              "outlinewidth": 0,
              "ticks": ""
             }
            },
            "type": "scatterpolar"
           }
          ],
          "scatterpolargl": [
           {
            "marker": {
             "colorbar": {
              "outlinewidth": 0,
              "ticks": ""
             }
            },
            "type": "scatterpolargl"
           }
          ],
          "scatterternary": [
           {
            "marker": {
             "colorbar": {
              "outlinewidth": 0,
              "ticks": ""
             }
            },
            "type": "scatterternary"
           }
          ],
          "surface": [
           {
            "colorbar": {
             "outlinewidth": 0,
             "ticks": ""
            },
            "colorscale": [
             [
              0,
              "#0d0887"
             ],
             [
              0.1111111111111111,
              "#46039f"
             ],
             [
              0.2222222222222222,
              "#7201a8"
             ],
             [
              0.3333333333333333,
              "#9c179e"
             ],
             [
              0.4444444444444444,
              "#bd3786"
             ],
             [
              0.5555555555555556,
              "#d8576b"
             ],
             [
              0.6666666666666666,
              "#ed7953"
             ],
             [
              0.7777777777777778,
              "#fb9f3a"
             ],
             [
              0.8888888888888888,
              "#fdca26"
             ],
             [
              1,
              "#f0f921"
             ]
            ],
            "type": "surface"
           }
          ],
          "table": [
           {
            "cells": {
             "fill": {
              "color": "#EBF0F8"
             },
             "line": {
              "color": "white"
             }
            },
            "header": {
             "fill": {
              "color": "#C8D4E3"
             },
             "line": {
              "color": "white"
             }
            },
            "type": "table"
           }
          ]
         },
         "layout": {
          "annotationdefaults": {
           "arrowcolor": "#2a3f5f",
           "arrowhead": 0,
           "arrowwidth": 1
          },
          "autotypenumbers": "strict",
          "coloraxis": {
           "colorbar": {
            "outlinewidth": 0,
            "ticks": ""
           }
          },
          "colorscale": {
           "diverging": [
            [
             0,
             "#8e0152"
            ],
            [
             0.1,
             "#c51b7d"
            ],
            [
             0.2,
             "#de77ae"
            ],
            [
             0.3,
             "#f1b6da"
            ],
            [
             0.4,
             "#fde0ef"
            ],
            [
             0.5,
             "#f7f7f7"
            ],
            [
             0.6,
             "#e6f5d0"
            ],
            [
             0.7,
             "#b8e186"
            ],
            [
             0.8,
             "#7fbc41"
            ],
            [
             0.9,
             "#4d9221"
            ],
            [
             1,
             "#276419"
            ]
           ],
           "sequential": [
            [
             0,
             "#0d0887"
            ],
            [
             0.1111111111111111,
             "#46039f"
            ],
            [
             0.2222222222222222,
             "#7201a8"
            ],
            [
             0.3333333333333333,
             "#9c179e"
            ],
            [
             0.4444444444444444,
             "#bd3786"
            ],
            [
             0.5555555555555556,
             "#d8576b"
            ],
            [
             0.6666666666666666,
             "#ed7953"
            ],
            [
             0.7777777777777778,
             "#fb9f3a"
            ],
            [
             0.8888888888888888,
             "#fdca26"
            ],
            [
             1,
             "#f0f921"
            ]
           ],
           "sequentialminus": [
            [
             0,
             "#0d0887"
            ],
            [
             0.1111111111111111,
             "#46039f"
            ],
            [
             0.2222222222222222,
             "#7201a8"
            ],
            [
             0.3333333333333333,
             "#9c179e"
            ],
            [
             0.4444444444444444,
             "#bd3786"
            ],
            [
             0.5555555555555556,
             "#d8576b"
            ],
            [
             0.6666666666666666,
             "#ed7953"
            ],
            [
             0.7777777777777778,
             "#fb9f3a"
            ],
            [
             0.8888888888888888,
             "#fdca26"
            ],
            [
             1,
             "#f0f921"
            ]
           ]
          },
          "colorway": [
           "#636efa",
           "#EF553B",
           "#00cc96",
           "#ab63fa",
           "#FFA15A",
           "#19d3f3",
           "#FF6692",
           "#B6E880",
           "#FF97FF",
           "#FECB52"
          ],
          "font": {
           "color": "#2a3f5f"
          },
          "geo": {
           "bgcolor": "white",
           "lakecolor": "white",
           "landcolor": "#E5ECF6",
           "showlakes": true,
           "showland": true,
           "subunitcolor": "white"
          },
          "hoverlabel": {
           "align": "left"
          },
          "hovermode": "closest",
          "mapbox": {
           "style": "light"
          },
          "paper_bgcolor": "white",
          "plot_bgcolor": "#E5ECF6",
          "polar": {
           "angularaxis": {
            "gridcolor": "white",
            "linecolor": "white",
            "ticks": ""
           },
           "bgcolor": "#E5ECF6",
           "radialaxis": {
            "gridcolor": "white",
            "linecolor": "white",
            "ticks": ""
           }
          },
          "scene": {
           "xaxis": {
            "backgroundcolor": "#E5ECF6",
            "gridcolor": "white",
            "gridwidth": 2,
            "linecolor": "white",
            "showbackground": true,
            "ticks": "",
            "zerolinecolor": "white"
           },
           "yaxis": {
            "backgroundcolor": "#E5ECF6",
            "gridcolor": "white",
            "gridwidth": 2,
            "linecolor": "white",
            "showbackground": true,
            "ticks": "",
            "zerolinecolor": "white"
           },
           "zaxis": {
            "backgroundcolor": "#E5ECF6",
            "gridcolor": "white",
            "gridwidth": 2,
            "linecolor": "white",
            "showbackground": true,
            "ticks": "",
            "zerolinecolor": "white"
           }
          },
          "shapedefaults": {
           "line": {
            "color": "#2a3f5f"
           }
          },
          "ternary": {
           "aaxis": {
            "gridcolor": "white",
            "linecolor": "white",
            "ticks": ""
           },
           "baxis": {
            "gridcolor": "white",
            "linecolor": "white",
            "ticks": ""
           },
           "bgcolor": "#E5ECF6",
           "caxis": {
            "gridcolor": "white",
            "linecolor": "white",
            "ticks": ""
           }
          },
          "title": {
           "x": 0.05
          },
          "xaxis": {
           "automargin": true,
           "gridcolor": "white",
           "linecolor": "white",
           "ticks": "",
           "title": {
            "standoff": 15
           },
           "zerolinecolor": "white",
           "zerolinewidth": 2
          },
          "yaxis": {
           "automargin": true,
           "gridcolor": "white",
           "linecolor": "white",
           "ticks": "",
           "title": {
            "standoff": 15
           },
           "zerolinecolor": "white",
           "zerolinewidth": 2
          }
         }
        },
        "title": {
         "text": "Implied Volatility Smile for CLN25"
        },
        "xaxis": {
         "title": {
          "text": "Strike Price"
         }
        },
        "yaxis": {
         "title": {
          "text": "Implied Volatility"
         }
        }
       }
      }
     },
     "metadata": {},
     "output_type": "display_data"
    },
    {
     "name": "stdout",
     "output_type": "stream",
     "text": [
      "CLQ25 69.02\n",
      "CLQ25 - Left Skew (Put IV > Call IV)\n"
     ]
    },
    {
     "data": {
      "application/vnd.plotly.v1+json": {
       "config": {
        "plotlyServerURL": "https://plot.ly"
       },
       "data": [
        {
         "marker": {
          "color": "blue",
          "opacity": 0.7,
          "size": 8,
          "symbol": "circle"
         },
         "mode": "markers",
         "name": "Call Options - CLQ25",
         "type": "scatter",
         "x": [
          60,
          61,
          64.5,
          65,
          65.5,
          66,
          66.5,
          67,
          67.5,
          68,
          68.5,
          69,
          69.5,
          70,
          70.5,
          71,
          71.5,
          72,
          72.5,
          73,
          73.5,
          74,
          74.5,
          75,
          75.5,
          76,
          76.5,
          77,
          77.5,
          78,
          78.5,
          79,
          79.5,
          80,
          80.5,
          81,
          81.5,
          82,
          82.5,
          83,
          83.5,
          84
         ],
         "y": [
          0.2435081521748548,
          0.24536360459876447,
          0.24706235900685705,
          0.24713942941991118,
          0.24729635328161395,
          0.24692662441486415,
          0.24723012267044053,
          0.24701627004762644,
          0.24687681879455006,
          0.24624646624031202,
          0.246251531855368,
          0.245773043708128,
          0.24591802434026375,
          0.24558947473475062,
          0.245339518753237,
          0.24517236568477097,
          0.24509255754122944,
          0.24510751659247007,
          0.24467709147678657,
          0.24435293066382577,
          0.24470225683207444,
          0.24462761013799478,
          0.24469550050430433,
          0.24492214276925103,
          0.2447401089824178,
          0.2447381502167453,
          0.2455435974811202,
          0.24536146220496366,
          0.24603939161203608,
          0.24635668097726912,
          0.24696393599261937,
          0.2472214067696282,
          0.24781059454031984,
          0.24877209486059731,
          0.249422625981214,
          0.2505005735805284,
          0.2512887334462376,
          0.2525675363130481,
          0.25358201865364083,
          0.2543236600284598,
          0.2556441126056865,
          0.2567233313460751
         ]
        },
        {
         "marker": {
          "color": "red",
          "opacity": 0.7,
          "size": 8,
          "symbol": "x"
         },
         "mode": "markers",
         "name": "Put Options - CLQ25",
         "type": "scatter",
         "x": [
          54,
          54.5,
          55,
          55.5,
          56,
          56.5,
          57,
          57.5,
          58,
          58.5,
          59,
          59.5,
          60,
          60.5,
          61,
          61.5,
          62,
          62.5,
          63,
          63.5,
          64,
          65,
          65.5,
          66,
          66.5,
          67,
          67.5,
          68,
          68.5,
          69,
          69.5,
          70,
          70.5,
          71,
          71.5,
          72,
          72.5,
          73,
          73.5,
          74.5,
          75,
          76,
          76.5,
          77,
          79,
          79.5,
          80,
          81.5,
          82
         ],
         "y": [
          0.35428288988802453,
          0.35176199073683795,
          0.3489274419836929,
          0.3458013895856319,
          0.3433866558671963,
          0.34064989669235796,
          0.3385297242373456,
          0.33606712692290225,
          0.3341421581366952,
          0.33186220421189816,
          0.3292492791419172,
          0.3271038116207646,
          0.3246155994725187,
          0.32328124361816574,
          0.3208401090655858,
          0.3194712988793047,
          0.3170346372214227,
          0.31560091737347856,
          0.31378722379111484,
          0.31224968018750765,
          0.3109645799621582,
          0.3084654787065842,
          0.30723839926981306,
          0.30562821942641527,
          0.30480255694316605,
          0.303585415142244,
          0.3031177180340653,
          0.3022554700531239,
          0.3015640655554063,
          0.30048731687979235,
          0.30012950946527106,
          0.2999346643238051,
          0.29935884429246773,
          0.29895167247517157,
          0.29871555037950154,
          0.2986544599662725,
          0.29877442779051483,
          0.2990827750097933,
          0.29958862639163497,
          0.300124327810295,
          0.30072476051170444,
          0.3026615987715387,
          0.30403133775725205,
          0.30511093503111053,
          0.31142260951032497,
          0.3129712735706723,
          0.3149058033769059,
          0.3219794963612972,
          0.3243815662654909
         ]
        },
        {
         "line": {
          "color": "green",
          "dash": "dash"
         },
         "mode": "lines",
         "name": "Current Price (F) - CLQ25",
         "type": "scatter",
         "x": [
          69.02,
          69.02
         ],
         "y": [
          0,
          0.35428288988802453
         ]
        }
       ],
       "layout": {
        "annotations": [
         {
          "align": "center",
          "bgcolor": "white",
          "bordercolor": "black",
          "borderpad": 4,
          "borderwidth": 1,
          "font": {
           "color": "black",
           "size": 12
          },
          "showarrow": false,
          "text": "Left Skew (Put IV > Call IV)",
          "x": 69,
          "y": 0.35428288988802453
         }
        ],
        "template": {
         "data": {
          "bar": [
           {
            "error_x": {
             "color": "#2a3f5f"
            },
            "error_y": {
             "color": "#2a3f5f"
            },
            "marker": {
             "line": {
              "color": "#E5ECF6",
              "width": 0.5
             },
             "pattern": {
              "fillmode": "overlay",
              "size": 10,
              "solidity": 0.2
             }
            },
            "type": "bar"
           }
          ],
          "barpolar": [
           {
            "marker": {
             "line": {
              "color": "#E5ECF6",
              "width": 0.5
             },
             "pattern": {
              "fillmode": "overlay",
              "size": 10,
              "solidity": 0.2
             }
            },
            "type": "barpolar"
           }
          ],
          "carpet": [
           {
            "aaxis": {
             "endlinecolor": "#2a3f5f",
             "gridcolor": "white",
             "linecolor": "white",
             "minorgridcolor": "white",
             "startlinecolor": "#2a3f5f"
            },
            "baxis": {
             "endlinecolor": "#2a3f5f",
             "gridcolor": "white",
             "linecolor": "white",
             "minorgridcolor": "white",
             "startlinecolor": "#2a3f5f"
            },
            "type": "carpet"
           }
          ],
          "choropleth": [
           {
            "colorbar": {
             "outlinewidth": 0,
             "ticks": ""
            },
            "type": "choropleth"
           }
          ],
          "contour": [
           {
            "colorbar": {
             "outlinewidth": 0,
             "ticks": ""
            },
            "colorscale": [
             [
              0,
              "#0d0887"
             ],
             [
              0.1111111111111111,
              "#46039f"
             ],
             [
              0.2222222222222222,
              "#7201a8"
             ],
             [
              0.3333333333333333,
              "#9c179e"
             ],
             [
              0.4444444444444444,
              "#bd3786"
             ],
             [
              0.5555555555555556,
              "#d8576b"
             ],
             [
              0.6666666666666666,
              "#ed7953"
             ],
             [
              0.7777777777777778,
              "#fb9f3a"
             ],
             [
              0.8888888888888888,
              "#fdca26"
             ],
             [
              1,
              "#f0f921"
             ]
            ],
            "type": "contour"
           }
          ],
          "contourcarpet": [
           {
            "colorbar": {
             "outlinewidth": 0,
             "ticks": ""
            },
            "type": "contourcarpet"
           }
          ],
          "heatmap": [
           {
            "colorbar": {
             "outlinewidth": 0,
             "ticks": ""
            },
            "colorscale": [
             [
              0,
              "#0d0887"
             ],
             [
              0.1111111111111111,
              "#46039f"
             ],
             [
              0.2222222222222222,
              "#7201a8"
             ],
             [
              0.3333333333333333,
              "#9c179e"
             ],
             [
              0.4444444444444444,
              "#bd3786"
             ],
             [
              0.5555555555555556,
              "#d8576b"
             ],
             [
              0.6666666666666666,
              "#ed7953"
             ],
             [
              0.7777777777777778,
              "#fb9f3a"
             ],
             [
              0.8888888888888888,
              "#fdca26"
             ],
             [
              1,
              "#f0f921"
             ]
            ],
            "type": "heatmap"
           }
          ],
          "heatmapgl": [
           {
            "colorbar": {
             "outlinewidth": 0,
             "ticks": ""
            },
            "colorscale": [
             [
              0,
              "#0d0887"
             ],
             [
              0.1111111111111111,
              "#46039f"
             ],
             [
              0.2222222222222222,
              "#7201a8"
             ],
             [
              0.3333333333333333,
              "#9c179e"
             ],
             [
              0.4444444444444444,
              "#bd3786"
             ],
             [
              0.5555555555555556,
              "#d8576b"
             ],
             [
              0.6666666666666666,
              "#ed7953"
             ],
             [
              0.7777777777777778,
              "#fb9f3a"
             ],
             [
              0.8888888888888888,
              "#fdca26"
             ],
             [
              1,
              "#f0f921"
             ]
            ],
            "type": "heatmapgl"
           }
          ],
          "histogram": [
           {
            "marker": {
             "pattern": {
              "fillmode": "overlay",
              "size": 10,
              "solidity": 0.2
             }
            },
            "type": "histogram"
           }
          ],
          "histogram2d": [
           {
            "colorbar": {
             "outlinewidth": 0,
             "ticks": ""
            },
            "colorscale": [
             [
              0,
              "#0d0887"
             ],
             [
              0.1111111111111111,
              "#46039f"
             ],
             [
              0.2222222222222222,
              "#7201a8"
             ],
             [
              0.3333333333333333,
              "#9c179e"
             ],
             [
              0.4444444444444444,
              "#bd3786"
             ],
             [
              0.5555555555555556,
              "#d8576b"
             ],
             [
              0.6666666666666666,
              "#ed7953"
             ],
             [
              0.7777777777777778,
              "#fb9f3a"
             ],
             [
              0.8888888888888888,
              "#fdca26"
             ],
             [
              1,
              "#f0f921"
             ]
            ],
            "type": "histogram2d"
           }
          ],
          "histogram2dcontour": [
           {
            "colorbar": {
             "outlinewidth": 0,
             "ticks": ""
            },
            "colorscale": [
             [
              0,
              "#0d0887"
             ],
             [
              0.1111111111111111,
              "#46039f"
             ],
             [
              0.2222222222222222,
              "#7201a8"
             ],
             [
              0.3333333333333333,
              "#9c179e"
             ],
             [
              0.4444444444444444,
              "#bd3786"
             ],
             [
              0.5555555555555556,
              "#d8576b"
             ],
             [
              0.6666666666666666,
              "#ed7953"
             ],
             [
              0.7777777777777778,
              "#fb9f3a"
             ],
             [
              0.8888888888888888,
              "#fdca26"
             ],
             [
              1,
              "#f0f921"
             ]
            ],
            "type": "histogram2dcontour"
           }
          ],
          "mesh3d": [
           {
            "colorbar": {
             "outlinewidth": 0,
             "ticks": ""
            },
            "type": "mesh3d"
           }
          ],
          "parcoords": [
           {
            "line": {
             "colorbar": {
              "outlinewidth": 0,
              "ticks": ""
             }
            },
            "type": "parcoords"
           }
          ],
          "pie": [
           {
            "automargin": true,
            "type": "pie"
           }
          ],
          "scatter": [
           {
            "fillpattern": {
             "fillmode": "overlay",
             "size": 10,
             "solidity": 0.2
            },
            "type": "scatter"
           }
          ],
          "scatter3d": [
           {
            "line": {
             "colorbar": {
              "outlinewidth": 0,
              "ticks": ""
             }
            },
            "marker": {
             "colorbar": {
              "outlinewidth": 0,
              "ticks": ""
             }
            },
            "type": "scatter3d"
           }
          ],
          "scattercarpet": [
           {
            "marker": {
             "colorbar": {
              "outlinewidth": 0,
              "ticks": ""
             }
            },
            "type": "scattercarpet"
           }
          ],
          "scattergeo": [
           {
            "marker": {
             "colorbar": {
              "outlinewidth": 0,
              "ticks": ""
             }
            },
            "type": "scattergeo"
           }
          ],
          "scattergl": [
           {
            "marker": {
             "colorbar": {
              "outlinewidth": 0,
              "ticks": ""
             }
            },
            "type": "scattergl"
           }
          ],
          "scattermapbox": [
           {
            "marker": {
             "colorbar": {
              "outlinewidth": 0,
              "ticks": ""
             }
            },
            "type": "scattermapbox"
           }
          ],
          "scatterpolar": [
           {
            "marker": {
             "colorbar": {
              "outlinewidth": 0,
              "ticks": ""
             }
            },
            "type": "scatterpolar"
           }
          ],
          "scatterpolargl": [
           {
            "marker": {
             "colorbar": {
              "outlinewidth": 0,
              "ticks": ""
             }
            },
            "type": "scatterpolargl"
           }
          ],
          "scatterternary": [
           {
            "marker": {
             "colorbar": {
              "outlinewidth": 0,
              "ticks": ""
             }
            },
            "type": "scatterternary"
           }
          ],
          "surface": [
           {
            "colorbar": {
             "outlinewidth": 0,
             "ticks": ""
            },
            "colorscale": [
             [
              0,
              "#0d0887"
             ],
             [
              0.1111111111111111,
              "#46039f"
             ],
             [
              0.2222222222222222,
              "#7201a8"
             ],
             [
              0.3333333333333333,
              "#9c179e"
             ],
             [
              0.4444444444444444,
              "#bd3786"
             ],
             [
              0.5555555555555556,
              "#d8576b"
             ],
             [
              0.6666666666666666,
              "#ed7953"
             ],
             [
              0.7777777777777778,
              "#fb9f3a"
             ],
             [
              0.8888888888888888,
              "#fdca26"
             ],
             [
              1,
              "#f0f921"
             ]
            ],
            "type": "surface"
           }
          ],
          "table": [
           {
            "cells": {
             "fill": {
              "color": "#EBF0F8"
             },
             "line": {
              "color": "white"
             }
            },
            "header": {
             "fill": {
              "color": "#C8D4E3"
             },
             "line": {
              "color": "white"
             }
            },
            "type": "table"
           }
          ]
         },
         "layout": {
          "annotationdefaults": {
           "arrowcolor": "#2a3f5f",
           "arrowhead": 0,
           "arrowwidth": 1
          },
          "autotypenumbers": "strict",
          "coloraxis": {
           "colorbar": {
            "outlinewidth": 0,
            "ticks": ""
           }
          },
          "colorscale": {
           "diverging": [
            [
             0,
             "#8e0152"
            ],
            [
             0.1,
             "#c51b7d"
            ],
            [
             0.2,
             "#de77ae"
            ],
            [
             0.3,
             "#f1b6da"
            ],
            [
             0.4,
             "#fde0ef"
            ],
            [
             0.5,
             "#f7f7f7"
            ],
            [
             0.6,
             "#e6f5d0"
            ],
            [
             0.7,
             "#b8e186"
            ],
            [
             0.8,
             "#7fbc41"
            ],
            [
             0.9,
             "#4d9221"
            ],
            [
             1,
             "#276419"
            ]
           ],
           "sequential": [
            [
             0,
             "#0d0887"
            ],
            [
             0.1111111111111111,
             "#46039f"
            ],
            [
             0.2222222222222222,
             "#7201a8"
            ],
            [
             0.3333333333333333,
             "#9c179e"
            ],
            [
             0.4444444444444444,
             "#bd3786"
            ],
            [
             0.5555555555555556,
             "#d8576b"
            ],
            [
             0.6666666666666666,
             "#ed7953"
            ],
            [
             0.7777777777777778,
             "#fb9f3a"
            ],
            [
             0.8888888888888888,
             "#fdca26"
            ],
            [
             1,
             "#f0f921"
            ]
           ],
           "sequentialminus": [
            [
             0,
             "#0d0887"
            ],
            [
             0.1111111111111111,
             "#46039f"
            ],
            [
             0.2222222222222222,
             "#7201a8"
            ],
            [
             0.3333333333333333,
             "#9c179e"
            ],
            [
             0.4444444444444444,
             "#bd3786"
            ],
            [
             0.5555555555555556,
             "#d8576b"
            ],
            [
             0.6666666666666666,
             "#ed7953"
            ],
            [
             0.7777777777777778,
             "#fb9f3a"
            ],
            [
             0.8888888888888888,
             "#fdca26"
            ],
            [
             1,
             "#f0f921"
            ]
           ]
          },
          "colorway": [
           "#636efa",
           "#EF553B",
           "#00cc96",
           "#ab63fa",
           "#FFA15A",
           "#19d3f3",
           "#FF6692",
           "#B6E880",
           "#FF97FF",
           "#FECB52"
          ],
          "font": {
           "color": "#2a3f5f"
          },
          "geo": {
           "bgcolor": "white",
           "lakecolor": "white",
           "landcolor": "#E5ECF6",
           "showlakes": true,
           "showland": true,
           "subunitcolor": "white"
          },
          "hoverlabel": {
           "align": "left"
          },
          "hovermode": "closest",
          "mapbox": {
           "style": "light"
          },
          "paper_bgcolor": "white",
          "plot_bgcolor": "#E5ECF6",
          "polar": {
           "angularaxis": {
            "gridcolor": "white",
            "linecolor": "white",
            "ticks": ""
           },
           "bgcolor": "#E5ECF6",
           "radialaxis": {
            "gridcolor": "white",
            "linecolor": "white",
            "ticks": ""
           }
          },
          "scene": {
           "xaxis": {
            "backgroundcolor": "#E5ECF6",
            "gridcolor": "white",
            "gridwidth": 2,
            "linecolor": "white",
            "showbackground": true,
            "ticks": "",
            "zerolinecolor": "white"
           },
           "yaxis": {
            "backgroundcolor": "#E5ECF6",
            "gridcolor": "white",
            "gridwidth": 2,
            "linecolor": "white",
            "showbackground": true,
            "ticks": "",
            "zerolinecolor": "white"
           },
           "zaxis": {
            "backgroundcolor": "#E5ECF6",
            "gridcolor": "white",
            "gridwidth": 2,
            "linecolor": "white",
            "showbackground": true,
            "ticks": "",
            "zerolinecolor": "white"
           }
          },
          "shapedefaults": {
           "line": {
            "color": "#2a3f5f"
           }
          },
          "ternary": {
           "aaxis": {
            "gridcolor": "white",
            "linecolor": "white",
            "ticks": ""
           },
           "baxis": {
            "gridcolor": "white",
            "linecolor": "white",
            "ticks": ""
           },
           "bgcolor": "#E5ECF6",
           "caxis": {
            "gridcolor": "white",
            "linecolor": "white",
            "ticks": ""
           }
          },
          "title": {
           "x": 0.05
          },
          "xaxis": {
           "automargin": true,
           "gridcolor": "white",
           "linecolor": "white",
           "ticks": "",
           "title": {
            "standoff": 15
           },
           "zerolinecolor": "white",
           "zerolinewidth": 2
          },
          "yaxis": {
           "automargin": true,
           "gridcolor": "white",
           "linecolor": "white",
           "ticks": "",
           "title": {
            "standoff": 15
           },
           "zerolinecolor": "white",
           "zerolinewidth": 2
          }
         }
        },
        "title": {
         "text": "Implied Volatility Smile for CLQ25"
        },
        "xaxis": {
         "title": {
          "text": "Strike Price"
         }
        },
        "yaxis": {
         "title": {
          "text": "Implied Volatility"
         }
        }
       }
      }
     },
     "metadata": {},
     "output_type": "display_data"
    },
    {
     "name": "stdout",
     "output_type": "stream",
     "text": [
      "CLU25 68.4\n",
      "CLU25 - Left Skew (Put IV > Call IV)\n"
     ]
    },
    {
     "data": {
      "application/vnd.plotly.v1+json": {
       "config": {
        "plotlyServerURL": "https://plot.ly"
       },
       "data": [
        {
         "marker": {
          "color": "blue",
          "opacity": 0.7,
          "size": 8,
          "symbol": "circle"
         },
         "mode": "markers",
         "name": "Call Options - CLU25",
         "type": "scatter",
         "x": [
          55,
          56,
          60,
          64,
          65,
          66,
          66.5,
          67,
          67.5,
          68,
          68.5,
          69,
          69.5,
          70,
          70.5,
          71,
          71.5,
          72,
          72.5,
          73,
          74,
          74.5,
          75,
          76,
          76.5,
          77,
          77.5,
          78,
          78.5,
          79,
          80,
          80.5,
          81,
          81.5,
          82,
          83
         ],
         "y": [
          0.23514632114893033,
          0.24122203099865966,
          0.24979379141643995,
          0.2497239190629488,
          0.2489933589972314,
          0.2481911420318184,
          0.2482242353184744,
          0.2478271946389392,
          0.24701510181010408,
          0.24683126257184515,
          0.24674723670691445,
          0.24625398743197746,
          0.2458669982375358,
          0.24558662223140984,
          0.24541549746079647,
          0.24485261129886488,
          0.24491237266967264,
          0.24458961357166156,
          0.2443957819539072,
          0.24433919212693453,
          0.24415813989639376,
          0.24404798744659725,
          0.24411406442609634,
          0.24429051945273547,
          0.2444223646872825,
          0.2447893885885056,
          0.2448344109836138,
          0.24514287745367844,
          0.24574185015535346,
          0.24604429849750944,
          0.24702005056703424,
          0.24773523922963717,
          0.24818168631617907,
          0.24904607962727815,
          0.2496606542610885,
          0.2508583196030083
         ]
        },
        {
         "marker": {
          "color": "red",
          "opacity": 0.7,
          "size": 8,
          "symbol": "x"
         },
         "mode": "markers",
         "name": "Put Options - CLU25",
         "type": "scatter",
         "x": [
          53.5,
          54,
          55,
          56,
          57,
          57.5,
          58,
          58.5,
          59,
          60,
          60.5,
          61,
          62,
          62.5,
          63,
          63.5,
          64,
          64.5,
          65,
          65.5,
          66,
          66.5,
          67,
          67.5,
          68,
          68.5,
          69,
          69.5,
          70,
          70.5,
          71,
          71.5,
          72,
          72.5,
          73,
          75,
          75.5,
          76,
          76.5,
          77,
          77.5,
          78,
          78.5,
          80
         ],
         "y": [
          0.350328730097757,
          0.34726519841073566,
          0.3422418751443222,
          0.3378473831673071,
          0.33311323061700476,
          0.3307117631897724,
          0.32877482061772906,
          0.32653198739204686,
          0.3247041416276909,
          0.32079842060446856,
          0.3187180574511354,
          0.3169758961556178,
          0.3137802814616169,
          0.3117033413081273,
          0.31049876309191576,
          0.30895860310081985,
          0.307662701720485,
          0.30603617951167933,
          0.30463970237527266,
          0.3034592086838653,
          0.30248321520339977,
          0.30170178809513526,
          0.3005823279019783,
          0.29965335906568324,
          0.298908661666919,
          0.29834407482446695,
          0.2974464957064813,
          0.29672948846116354,
          0.2966986749414295,
          0.29633990011594674,
          0.2956579469390017,
          0.29566648448781807,
          0.2953585011941989,
          0.2957515513318104,
          0.295838499804195,
          0.29732101586380144,
          0.2980195966883,
          0.2984463619558096,
          0.29967138561640855,
          0.3006454861273883,
          0.3019157947156306,
          0.3029481339479975,
          0.3043013611861574,
          0.3087536377109148
         ]
        },
        {
         "line": {
          "color": "green",
          "dash": "dash"
         },
         "mode": "lines",
         "name": "Current Price (F) - CLU25",
         "type": "scatter",
         "x": [
          68.4,
          68.4
         ],
         "y": [
          0,
          0.350328730097757
         ]
        }
       ],
       "layout": {
        "annotations": [
         {
          "align": "center",
          "bgcolor": "white",
          "bordercolor": "black",
          "borderpad": 4,
          "borderwidth": 1,
          "font": {
           "color": "black",
           "size": 12
          },
          "showarrow": false,
          "text": "Left Skew (Put IV > Call IV)",
          "x": 68.5,
          "y": 0.350328730097757
         }
        ],
        "template": {
         "data": {
          "bar": [
           {
            "error_x": {
             "color": "#2a3f5f"
            },
            "error_y": {
             "color": "#2a3f5f"
            },
            "marker": {
             "line": {
              "color": "#E5ECF6",
              "width": 0.5
             },
             "pattern": {
              "fillmode": "overlay",
              "size": 10,
              "solidity": 0.2
             }
            },
            "type": "bar"
           }
          ],
          "barpolar": [
           {
            "marker": {
             "line": {
              "color": "#E5ECF6",
              "width": 0.5
             },
             "pattern": {
              "fillmode": "overlay",
              "size": 10,
              "solidity": 0.2
             }
            },
            "type": "barpolar"
           }
          ],
          "carpet": [
           {
            "aaxis": {
             "endlinecolor": "#2a3f5f",
             "gridcolor": "white",
             "linecolor": "white",
             "minorgridcolor": "white",
             "startlinecolor": "#2a3f5f"
            },
            "baxis": {
             "endlinecolor": "#2a3f5f",
             "gridcolor": "white",
             "linecolor": "white",
             "minorgridcolor": "white",
             "startlinecolor": "#2a3f5f"
            },
            "type": "carpet"
           }
          ],
          "choropleth": [
           {
            "colorbar": {
             "outlinewidth": 0,
             "ticks": ""
            },
            "type": "choropleth"
           }
          ],
          "contour": [
           {
            "colorbar": {
             "outlinewidth": 0,
             "ticks": ""
            },
            "colorscale": [
             [
              0,
              "#0d0887"
             ],
             [
              0.1111111111111111,
              "#46039f"
             ],
             [
              0.2222222222222222,
              "#7201a8"
             ],
             [
              0.3333333333333333,
              "#9c179e"
             ],
             [
              0.4444444444444444,
              "#bd3786"
             ],
             [
              0.5555555555555556,
              "#d8576b"
             ],
             [
              0.6666666666666666,
              "#ed7953"
             ],
             [
              0.7777777777777778,
              "#fb9f3a"
             ],
             [
              0.8888888888888888,
              "#fdca26"
             ],
             [
              1,
              "#f0f921"
             ]
            ],
            "type": "contour"
           }
          ],
          "contourcarpet": [
           {
            "colorbar": {
             "outlinewidth": 0,
             "ticks": ""
            },
            "type": "contourcarpet"
           }
          ],
          "heatmap": [
           {
            "colorbar": {
             "outlinewidth": 0,
             "ticks": ""
            },
            "colorscale": [
             [
              0,
              "#0d0887"
             ],
             [
              0.1111111111111111,
              "#46039f"
             ],
             [
              0.2222222222222222,
              "#7201a8"
             ],
             [
              0.3333333333333333,
              "#9c179e"
             ],
             [
              0.4444444444444444,
              "#bd3786"
             ],
             [
              0.5555555555555556,
              "#d8576b"
             ],
             [
              0.6666666666666666,
              "#ed7953"
             ],
             [
              0.7777777777777778,
              "#fb9f3a"
             ],
             [
              0.8888888888888888,
              "#fdca26"
             ],
             [
              1,
              "#f0f921"
             ]
            ],
            "type": "heatmap"
           }
          ],
          "heatmapgl": [
           {
            "colorbar": {
             "outlinewidth": 0,
             "ticks": ""
            },
            "colorscale": [
             [
              0,
              "#0d0887"
             ],
             [
              0.1111111111111111,
              "#46039f"
             ],
             [
              0.2222222222222222,
              "#7201a8"
             ],
             [
              0.3333333333333333,
              "#9c179e"
             ],
             [
              0.4444444444444444,
              "#bd3786"
             ],
             [
              0.5555555555555556,
              "#d8576b"
             ],
             [
              0.6666666666666666,
              "#ed7953"
             ],
             [
              0.7777777777777778,
              "#fb9f3a"
             ],
             [
              0.8888888888888888,
              "#fdca26"
             ],
             [
              1,
              "#f0f921"
             ]
            ],
            "type": "heatmapgl"
           }
          ],
          "histogram": [
           {
            "marker": {
             "pattern": {
              "fillmode": "overlay",
              "size": 10,
              "solidity": 0.2
             }
            },
            "type": "histogram"
           }
          ],
          "histogram2d": [
           {
            "colorbar": {
             "outlinewidth": 0,
             "ticks": ""
            },
            "colorscale": [
             [
              0,
              "#0d0887"
             ],
             [
              0.1111111111111111,
              "#46039f"
             ],
             [
              0.2222222222222222,
              "#7201a8"
             ],
             [
              0.3333333333333333,
              "#9c179e"
             ],
             [
              0.4444444444444444,
              "#bd3786"
             ],
             [
              0.5555555555555556,
              "#d8576b"
             ],
             [
              0.6666666666666666,
              "#ed7953"
             ],
             [
              0.7777777777777778,
              "#fb9f3a"
             ],
             [
              0.8888888888888888,
              "#fdca26"
             ],
             [
              1,
              "#f0f921"
             ]
            ],
            "type": "histogram2d"
           }
          ],
          "histogram2dcontour": [
           {
            "colorbar": {
             "outlinewidth": 0,
             "ticks": ""
            },
            "colorscale": [
             [
              0,
              "#0d0887"
             ],
             [
              0.1111111111111111,
              "#46039f"
             ],
             [
              0.2222222222222222,
              "#7201a8"
             ],
             [
              0.3333333333333333,
              "#9c179e"
             ],
             [
              0.4444444444444444,
              "#bd3786"
             ],
             [
              0.5555555555555556,
              "#d8576b"
             ],
             [
              0.6666666666666666,
              "#ed7953"
             ],
             [
              0.7777777777777778,
              "#fb9f3a"
             ],
             [
              0.8888888888888888,
              "#fdca26"
             ],
             [
              1,
              "#f0f921"
             ]
            ],
            "type": "histogram2dcontour"
           }
          ],
          "mesh3d": [
           {
            "colorbar": {
             "outlinewidth": 0,
             "ticks": ""
            },
            "type": "mesh3d"
           }
          ],
          "parcoords": [
           {
            "line": {
             "colorbar": {
              "outlinewidth": 0,
              "ticks": ""
             }
            },
            "type": "parcoords"
           }
          ],
          "pie": [
           {
            "automargin": true,
            "type": "pie"
           }
          ],
          "scatter": [
           {
            "fillpattern": {
             "fillmode": "overlay",
             "size": 10,
             "solidity": 0.2
            },
            "type": "scatter"
           }
          ],
          "scatter3d": [
           {
            "line": {
             "colorbar": {
              "outlinewidth": 0,
              "ticks": ""
             }
            },
            "marker": {
             "colorbar": {
              "outlinewidth": 0,
              "ticks": ""
             }
            },
            "type": "scatter3d"
           }
          ],
          "scattercarpet": [
           {
            "marker": {
             "colorbar": {
              "outlinewidth": 0,
              "ticks": ""
             }
            },
            "type": "scattercarpet"
           }
          ],
          "scattergeo": [
           {
            "marker": {
             "colorbar": {
              "outlinewidth": 0,
              "ticks": ""
             }
            },
            "type": "scattergeo"
           }
          ],
          "scattergl": [
           {
            "marker": {
             "colorbar": {
              "outlinewidth": 0,
              "ticks": ""
             }
            },
            "type": "scattergl"
           }
          ],
          "scattermapbox": [
           {
            "marker": {
             "colorbar": {
              "outlinewidth": 0,
              "ticks": ""
             }
            },
            "type": "scattermapbox"
           }
          ],
          "scatterpolar": [
           {
            "marker": {
             "colorbar": {
              "outlinewidth": 0,
              "ticks": ""
             }
            },
            "type": "scatterpolar"
           }
          ],
          "scatterpolargl": [
           {
            "marker": {
             "colorbar": {
              "outlinewidth": 0,
              "ticks": ""
             }
            },
            "type": "scatterpolargl"
           }
          ],
          "scatterternary": [
           {
            "marker": {
             "colorbar": {
              "outlinewidth": 0,
              "ticks": ""
             }
            },
            "type": "scatterternary"
           }
          ],
          "surface": [
           {
            "colorbar": {
             "outlinewidth": 0,
             "ticks": ""
            },
            "colorscale": [
             [
              0,
              "#0d0887"
             ],
             [
              0.1111111111111111,
              "#46039f"
             ],
             [
              0.2222222222222222,
              "#7201a8"
             ],
             [
              0.3333333333333333,
              "#9c179e"
             ],
             [
              0.4444444444444444,
              "#bd3786"
             ],
             [
              0.5555555555555556,
              "#d8576b"
             ],
             [
              0.6666666666666666,
              "#ed7953"
             ],
             [
              0.7777777777777778,
              "#fb9f3a"
             ],
             [
              0.8888888888888888,
              "#fdca26"
             ],
             [
              1,
              "#f0f921"
             ]
            ],
            "type": "surface"
           }
          ],
          "table": [
           {
            "cells": {
             "fill": {
              "color": "#EBF0F8"
             },
             "line": {
              "color": "white"
             }
            },
            "header": {
             "fill": {
              "color": "#C8D4E3"
             },
             "line": {
              "color": "white"
             }
            },
            "type": "table"
           }
          ]
         },
         "layout": {
          "annotationdefaults": {
           "arrowcolor": "#2a3f5f",
           "arrowhead": 0,
           "arrowwidth": 1
          },
          "autotypenumbers": "strict",
          "coloraxis": {
           "colorbar": {
            "outlinewidth": 0,
            "ticks": ""
           }
          },
          "colorscale": {
           "diverging": [
            [
             0,
             "#8e0152"
            ],
            [
             0.1,
             "#c51b7d"
            ],
            [
             0.2,
             "#de77ae"
            ],
            [
             0.3,
             "#f1b6da"
            ],
            [
             0.4,
             "#fde0ef"
            ],
            [
             0.5,
             "#f7f7f7"
            ],
            [
             0.6,
             "#e6f5d0"
            ],
            [
             0.7,
             "#b8e186"
            ],
            [
             0.8,
             "#7fbc41"
            ],
            [
             0.9,
             "#4d9221"
            ],
            [
             1,
             "#276419"
            ]
           ],
           "sequential": [
            [
             0,
             "#0d0887"
            ],
            [
             0.1111111111111111,
             "#46039f"
            ],
            [
             0.2222222222222222,
             "#7201a8"
            ],
            [
             0.3333333333333333,
             "#9c179e"
            ],
            [
             0.4444444444444444,
             "#bd3786"
            ],
            [
             0.5555555555555556,
             "#d8576b"
            ],
            [
             0.6666666666666666,
             "#ed7953"
            ],
            [
             0.7777777777777778,
             "#fb9f3a"
            ],
            [
             0.8888888888888888,
             "#fdca26"
            ],
            [
             1,
             "#f0f921"
            ]
           ],
           "sequentialminus": [
            [
             0,
             "#0d0887"
            ],
            [
             0.1111111111111111,
             "#46039f"
            ],
            [
             0.2222222222222222,
             "#7201a8"
            ],
            [
             0.3333333333333333,
             "#9c179e"
            ],
            [
             0.4444444444444444,
             "#bd3786"
            ],
            [
             0.5555555555555556,
             "#d8576b"
            ],
            [
             0.6666666666666666,
             "#ed7953"
            ],
            [
             0.7777777777777778,
             "#fb9f3a"
            ],
            [
             0.8888888888888888,
             "#fdca26"
            ],
            [
             1,
             "#f0f921"
            ]
           ]
          },
          "colorway": [
           "#636efa",
           "#EF553B",
           "#00cc96",
           "#ab63fa",
           "#FFA15A",
           "#19d3f3",
           "#FF6692",
           "#B6E880",
           "#FF97FF",
           "#FECB52"
          ],
          "font": {
           "color": "#2a3f5f"
          },
          "geo": {
           "bgcolor": "white",
           "lakecolor": "white",
           "landcolor": "#E5ECF6",
           "showlakes": true,
           "showland": true,
           "subunitcolor": "white"
          },
          "hoverlabel": {
           "align": "left"
          },
          "hovermode": "closest",
          "mapbox": {
           "style": "light"
          },
          "paper_bgcolor": "white",
          "plot_bgcolor": "#E5ECF6",
          "polar": {
           "angularaxis": {
            "gridcolor": "white",
            "linecolor": "white",
            "ticks": ""
           },
           "bgcolor": "#E5ECF6",
           "radialaxis": {
            "gridcolor": "white",
            "linecolor": "white",
            "ticks": ""
           }
          },
          "scene": {
           "xaxis": {
            "backgroundcolor": "#E5ECF6",
            "gridcolor": "white",
            "gridwidth": 2,
            "linecolor": "white",
            "showbackground": true,
            "ticks": "",
            "zerolinecolor": "white"
           },
           "yaxis": {
            "backgroundcolor": "#E5ECF6",
            "gridcolor": "white",
            "gridwidth": 2,
            "linecolor": "white",
            "showbackground": true,
            "ticks": "",
            "zerolinecolor": "white"
           },
           "zaxis": {
            "backgroundcolor": "#E5ECF6",
            "gridcolor": "white",
            "gridwidth": 2,
            "linecolor": "white",
            "showbackground": true,
            "ticks": "",
            "zerolinecolor": "white"
           }
          },
          "shapedefaults": {
           "line": {
            "color": "#2a3f5f"
           }
          },
          "ternary": {
           "aaxis": {
            "gridcolor": "white",
            "linecolor": "white",
            "ticks": ""
           },
           "baxis": {
            "gridcolor": "white",
            "linecolor": "white",
            "ticks": ""
           },
           "bgcolor": "#E5ECF6",
           "caxis": {
            "gridcolor": "white",
            "linecolor": "white",
            "ticks": ""
           }
          },
          "title": {
           "x": 0.05
          },
          "xaxis": {
           "automargin": true,
           "gridcolor": "white",
           "linecolor": "white",
           "ticks": "",
           "title": {
            "standoff": 15
           },
           "zerolinecolor": "white",
           "zerolinewidth": 2
          },
          "yaxis": {
           "automargin": true,
           "gridcolor": "white",
           "linecolor": "white",
           "ticks": "",
           "title": {
            "standoff": 15
           },
           "zerolinecolor": "white",
           "zerolinewidth": 2
          }
         }
        },
        "title": {
         "text": "Implied Volatility Smile for CLU25"
        },
        "xaxis": {
         "title": {
          "text": "Strike Price"
         }
        },
        "yaxis": {
         "title": {
          "text": "Implied Volatility"
         }
        }
       }
      }
     },
     "metadata": {},
     "output_type": "display_data"
    },
    {
     "name": "stdout",
     "output_type": "stream",
     "text": [
      "CLV25 68.0\n",
      "CLV25 - Left Skew (Put IV > Call IV)\n"
     ]
    },
    {
     "data": {
      "application/vnd.plotly.v1+json": {
       "config": {
        "plotlyServerURL": "https://plot.ly"
       },
       "data": [
        {
         "marker": {
          "color": "blue",
          "opacity": 0.7,
          "size": 8,
          "symbol": "circle"
         },
         "mode": "markers",
         "name": "Call Options - CLV25",
         "type": "scatter",
         "x": [
          65,
          67.5,
          68,
          69,
          69.5,
          70,
          70.5,
          71,
          71.5,
          72,
          72.5,
          73,
          73.5,
          74,
          74.5,
          75,
          76,
          77,
          78,
          79,
          80,
          81.5,
          82
         ],
         "y": [
          0.2418208146774162,
          0.2411103923586795,
          0.24063285861753975,
          0.24002876600200695,
          0.23990142506034287,
          0.23942405377397544,
          0.23906937413281448,
          0.23884030058483433,
          0.23874116687743438,
          0.2387780325828867,
          0.23848446780982738,
          0.2388142284819057,
          0.23834573231425768,
          0.2385198801092714,
          0.23838231585975742,
          0.23793023012898792,
          0.23809748309138448,
          0.2386272886784979,
          0.2385437059003876,
          0.2389830313394323,
          0.23949950990293095,
          0.24110012069691988,
          0.2417981299675526
         ]
        },
        {
         "marker": {
          "color": "red",
          "opacity": 0.7,
          "size": 8,
          "symbol": "x"
         },
         "mode": "markers",
         "name": "Put Options - CLV25",
         "type": "scatter",
         "x": [
          53,
          54,
          55,
          57.5,
          58,
          59,
          59.5,
          60,
          60.5,
          61,
          61.5,
          62,
          62.5,
          63,
          64,
          64.5,
          65,
          65.5,
          66,
          66.5,
          67,
          67.5,
          68,
          69,
          70,
          70.5,
          71,
          72,
          73,
          73.5,
          74,
          75,
          76.5,
          77,
          78.5
         ],
         "y": [
          0.3461279054432201,
          0.34096948195003074,
          0.3364875542456454,
          0.3260351611459027,
          0.32426069234699517,
          0.3205399613760996,
          0.3185900779874326,
          0.31697838021157054,
          0.31508938655008384,
          0.3135110475261704,
          0.312219518185834,
          0.3111943820855102,
          0.30987257820812725,
          0.3088010715665365,
          0.30683016484736436,
          0.3059203550747031,
          0.3047190832784755,
          0.30373376936904256,
          0.30295535809391316,
          0.301887082687843,
          0.30102106749767843,
          0.30035125693798553,
          0.29987332713307074,
          0.29853767845873574,
          0.2974957404563758,
          0.2974977865600602,
          0.29722454690949746,
          0.29727409881392386,
          0.29767780369384356,
          0.2979662740541986,
          0.2980028218510641,
          0.2987682954218677,
          0.30081454442532607,
          0.30187065906106075,
          0.3047963131746554
         ]
        },
        {
         "line": {
          "color": "green",
          "dash": "dash"
         },
         "mode": "lines",
         "name": "Current Price (F) - CLV25",
         "type": "scatter",
         "x": [
          68,
          68
         ],
         "y": [
          0,
          0.3461279054432201
         ]
        }
       ],
       "layout": {
        "annotations": [
         {
          "align": "center",
          "bgcolor": "white",
          "bordercolor": "black",
          "borderpad": 4,
          "borderwidth": 1,
          "font": {
           "color": "black",
           "size": 12
          },
          "showarrow": false,
          "text": "Left Skew (Put IV > Call IV)",
          "x": 68,
          "y": 0.3461279054432201
         }
        ],
        "template": {
         "data": {
          "bar": [
           {
            "error_x": {
             "color": "#2a3f5f"
            },
            "error_y": {
             "color": "#2a3f5f"
            },
            "marker": {
             "line": {
              "color": "#E5ECF6",
              "width": 0.5
             },
             "pattern": {
              "fillmode": "overlay",
              "size": 10,
              "solidity": 0.2
             }
            },
            "type": "bar"
           }
          ],
          "barpolar": [
           {
            "marker": {
             "line": {
              "color": "#E5ECF6",
              "width": 0.5
             },
             "pattern": {
              "fillmode": "overlay",
              "size": 10,
              "solidity": 0.2
             }
            },
            "type": "barpolar"
           }
          ],
          "carpet": [
           {
            "aaxis": {
             "endlinecolor": "#2a3f5f",
             "gridcolor": "white",
             "linecolor": "white",
             "minorgridcolor": "white",
             "startlinecolor": "#2a3f5f"
            },
            "baxis": {
             "endlinecolor": "#2a3f5f",
             "gridcolor": "white",
             "linecolor": "white",
             "minorgridcolor": "white",
             "startlinecolor": "#2a3f5f"
            },
            "type": "carpet"
           }
          ],
          "choropleth": [
           {
            "colorbar": {
             "outlinewidth": 0,
             "ticks": ""
            },
            "type": "choropleth"
           }
          ],
          "contour": [
           {
            "colorbar": {
             "outlinewidth": 0,
             "ticks": ""
            },
            "colorscale": [
             [
              0,
              "#0d0887"
             ],
             [
              0.1111111111111111,
              "#46039f"
             ],
             [
              0.2222222222222222,
              "#7201a8"
             ],
             [
              0.3333333333333333,
              "#9c179e"
             ],
             [
              0.4444444444444444,
              "#bd3786"
             ],
             [
              0.5555555555555556,
              "#d8576b"
             ],
             [
              0.6666666666666666,
              "#ed7953"
             ],
             [
              0.7777777777777778,
              "#fb9f3a"
             ],
             [
              0.8888888888888888,
              "#fdca26"
             ],
             [
              1,
              "#f0f921"
             ]
            ],
            "type": "contour"
           }
          ],
          "contourcarpet": [
           {
            "colorbar": {
             "outlinewidth": 0,
             "ticks": ""
            },
            "type": "contourcarpet"
           }
          ],
          "heatmap": [
           {
            "colorbar": {
             "outlinewidth": 0,
             "ticks": ""
            },
            "colorscale": [
             [
              0,
              "#0d0887"
             ],
             [
              0.1111111111111111,
              "#46039f"
             ],
             [
              0.2222222222222222,
              "#7201a8"
             ],
             [
              0.3333333333333333,
              "#9c179e"
             ],
             [
              0.4444444444444444,
              "#bd3786"
             ],
             [
              0.5555555555555556,
              "#d8576b"
             ],
             [
              0.6666666666666666,
              "#ed7953"
             ],
             [
              0.7777777777777778,
              "#fb9f3a"
             ],
             [
              0.8888888888888888,
              "#fdca26"
             ],
             [
              1,
              "#f0f921"
             ]
            ],
            "type": "heatmap"
           }
          ],
          "heatmapgl": [
           {
            "colorbar": {
             "outlinewidth": 0,
             "ticks": ""
            },
            "colorscale": [
             [
              0,
              "#0d0887"
             ],
             [
              0.1111111111111111,
              "#46039f"
             ],
             [
              0.2222222222222222,
              "#7201a8"
             ],
             [
              0.3333333333333333,
              "#9c179e"
             ],
             [
              0.4444444444444444,
              "#bd3786"
             ],
             [
              0.5555555555555556,
              "#d8576b"
             ],
             [
              0.6666666666666666,
              "#ed7953"
             ],
             [
              0.7777777777777778,
              "#fb9f3a"
             ],
             [
              0.8888888888888888,
              "#fdca26"
             ],
             [
              1,
              "#f0f921"
             ]
            ],
            "type": "heatmapgl"
           }
          ],
          "histogram": [
           {
            "marker": {
             "pattern": {
              "fillmode": "overlay",
              "size": 10,
              "solidity": 0.2
             }
            },
            "type": "histogram"
           }
          ],
          "histogram2d": [
           {
            "colorbar": {
             "outlinewidth": 0,
             "ticks": ""
            },
            "colorscale": [
             [
              0,
              "#0d0887"
             ],
             [
              0.1111111111111111,
              "#46039f"
             ],
             [
              0.2222222222222222,
              "#7201a8"
             ],
             [
              0.3333333333333333,
              "#9c179e"
             ],
             [
              0.4444444444444444,
              "#bd3786"
             ],
             [
              0.5555555555555556,
              "#d8576b"
             ],
             [
              0.6666666666666666,
              "#ed7953"
             ],
             [
              0.7777777777777778,
              "#fb9f3a"
             ],
             [
              0.8888888888888888,
              "#fdca26"
             ],
             [
              1,
              "#f0f921"
             ]
            ],
            "type": "histogram2d"
           }
          ],
          "histogram2dcontour": [
           {
            "colorbar": {
             "outlinewidth": 0,
             "ticks": ""
            },
            "colorscale": [
             [
              0,
              "#0d0887"
             ],
             [
              0.1111111111111111,
              "#46039f"
             ],
             [
              0.2222222222222222,
              "#7201a8"
             ],
             [
              0.3333333333333333,
              "#9c179e"
             ],
             [
              0.4444444444444444,
              "#bd3786"
             ],
             [
              0.5555555555555556,
              "#d8576b"
             ],
             [
              0.6666666666666666,
              "#ed7953"
             ],
             [
              0.7777777777777778,
              "#fb9f3a"
             ],
             [
              0.8888888888888888,
              "#fdca26"
             ],
             [
              1,
              "#f0f921"
             ]
            ],
            "type": "histogram2dcontour"
           }
          ],
          "mesh3d": [
           {
            "colorbar": {
             "outlinewidth": 0,
             "ticks": ""
            },
            "type": "mesh3d"
           }
          ],
          "parcoords": [
           {
            "line": {
             "colorbar": {
              "outlinewidth": 0,
              "ticks": ""
             }
            },
            "type": "parcoords"
           }
          ],
          "pie": [
           {
            "automargin": true,
            "type": "pie"
           }
          ],
          "scatter": [
           {
            "fillpattern": {
             "fillmode": "overlay",
             "size": 10,
             "solidity": 0.2
            },
            "type": "scatter"
           }
          ],
          "scatter3d": [
           {
            "line": {
             "colorbar": {
              "outlinewidth": 0,
              "ticks": ""
             }
            },
            "marker": {
             "colorbar": {
              "outlinewidth": 0,
              "ticks": ""
             }
            },
            "type": "scatter3d"
           }
          ],
          "scattercarpet": [
           {
            "marker": {
             "colorbar": {
              "outlinewidth": 0,
              "ticks": ""
             }
            },
            "type": "scattercarpet"
           }
          ],
          "scattergeo": [
           {
            "marker": {
             "colorbar": {
              "outlinewidth": 0,
              "ticks": ""
             }
            },
            "type": "scattergeo"
           }
          ],
          "scattergl": [
           {
            "marker": {
             "colorbar": {
              "outlinewidth": 0,
              "ticks": ""
             }
            },
            "type": "scattergl"
           }
          ],
          "scattermapbox": [
           {
            "marker": {
             "colorbar": {
              "outlinewidth": 0,
              "ticks": ""
             }
            },
            "type": "scattermapbox"
           }
          ],
          "scatterpolar": [
           {
            "marker": {
             "colorbar": {
              "outlinewidth": 0,
              "ticks": ""
             }
            },
            "type": "scatterpolar"
           }
          ],
          "scatterpolargl": [
           {
            "marker": {
             "colorbar": {
              "outlinewidth": 0,
              "ticks": ""
             }
            },
            "type": "scatterpolargl"
           }
          ],
          "scatterternary": [
           {
            "marker": {
             "colorbar": {
              "outlinewidth": 0,
              "ticks": ""
             }
            },
            "type": "scatterternary"
           }
          ],
          "surface": [
           {
            "colorbar": {
             "outlinewidth": 0,
             "ticks": ""
            },
            "colorscale": [
             [
              0,
              "#0d0887"
             ],
             [
              0.1111111111111111,
              "#46039f"
             ],
             [
              0.2222222222222222,
              "#7201a8"
             ],
             [
              0.3333333333333333,
              "#9c179e"
             ],
             [
              0.4444444444444444,
              "#bd3786"
             ],
             [
              0.5555555555555556,
              "#d8576b"
             ],
             [
              0.6666666666666666,
              "#ed7953"
             ],
             [
              0.7777777777777778,
              "#fb9f3a"
             ],
             [
              0.8888888888888888,
              "#fdca26"
             ],
             [
              1,
              "#f0f921"
             ]
            ],
            "type": "surface"
           }
          ],
          "table": [
           {
            "cells": {
             "fill": {
              "color": "#EBF0F8"
             },
             "line": {
              "color": "white"
             }
            },
            "header": {
             "fill": {
              "color": "#C8D4E3"
             },
             "line": {
              "color": "white"
             }
            },
            "type": "table"
           }
          ]
         },
         "layout": {
          "annotationdefaults": {
           "arrowcolor": "#2a3f5f",
           "arrowhead": 0,
           "arrowwidth": 1
          },
          "autotypenumbers": "strict",
          "coloraxis": {
           "colorbar": {
            "outlinewidth": 0,
            "ticks": ""
           }
          },
          "colorscale": {
           "diverging": [
            [
             0,
             "#8e0152"
            ],
            [
             0.1,
             "#c51b7d"
            ],
            [
             0.2,
             "#de77ae"
            ],
            [
             0.3,
             "#f1b6da"
            ],
            [
             0.4,
             "#fde0ef"
            ],
            [
             0.5,
             "#f7f7f7"
            ],
            [
             0.6,
             "#e6f5d0"
            ],
            [
             0.7,
             "#b8e186"
            ],
            [
             0.8,
             "#7fbc41"
            ],
            [
             0.9,
             "#4d9221"
            ],
            [
             1,
             "#276419"
            ]
           ],
           "sequential": [
            [
             0,
             "#0d0887"
            ],
            [
             0.1111111111111111,
             "#46039f"
            ],
            [
             0.2222222222222222,
             "#7201a8"
            ],
            [
             0.3333333333333333,
             "#9c179e"
            ],
            [
             0.4444444444444444,
             "#bd3786"
            ],
            [
             0.5555555555555556,
             "#d8576b"
            ],
            [
             0.6666666666666666,
             "#ed7953"
            ],
            [
             0.7777777777777778,
             "#fb9f3a"
            ],
            [
             0.8888888888888888,
             "#fdca26"
            ],
            [
             1,
             "#f0f921"
            ]
           ],
           "sequentialminus": [
            [
             0,
             "#0d0887"
            ],
            [
             0.1111111111111111,
             "#46039f"
            ],
            [
             0.2222222222222222,
             "#7201a8"
            ],
            [
             0.3333333333333333,
             "#9c179e"
            ],
            [
             0.4444444444444444,
             "#bd3786"
            ],
            [
             0.5555555555555556,
             "#d8576b"
            ],
            [
             0.6666666666666666,
             "#ed7953"
            ],
            [
             0.7777777777777778,
             "#fb9f3a"
            ],
            [
             0.8888888888888888,
             "#fdca26"
            ],
            [
             1,
             "#f0f921"
            ]
           ]
          },
          "colorway": [
           "#636efa",
           "#EF553B",
           "#00cc96",
           "#ab63fa",
           "#FFA15A",
           "#19d3f3",
           "#FF6692",
           "#B6E880",
           "#FF97FF",
           "#FECB52"
          ],
          "font": {
           "color": "#2a3f5f"
          },
          "geo": {
           "bgcolor": "white",
           "lakecolor": "white",
           "landcolor": "#E5ECF6",
           "showlakes": true,
           "showland": true,
           "subunitcolor": "white"
          },
          "hoverlabel": {
           "align": "left"
          },
          "hovermode": "closest",
          "mapbox": {
           "style": "light"
          },
          "paper_bgcolor": "white",
          "plot_bgcolor": "#E5ECF6",
          "polar": {
           "angularaxis": {
            "gridcolor": "white",
            "linecolor": "white",
            "ticks": ""
           },
           "bgcolor": "#E5ECF6",
           "radialaxis": {
            "gridcolor": "white",
            "linecolor": "white",
            "ticks": ""
           }
          },
          "scene": {
           "xaxis": {
            "backgroundcolor": "#E5ECF6",
            "gridcolor": "white",
            "gridwidth": 2,
            "linecolor": "white",
            "showbackground": true,
            "ticks": "",
            "zerolinecolor": "white"
           },
           "yaxis": {
            "backgroundcolor": "#E5ECF6",
            "gridcolor": "white",
            "gridwidth": 2,
            "linecolor": "white",
            "showbackground": true,
            "ticks": "",
            "zerolinecolor": "white"
           },
           "zaxis": {
            "backgroundcolor": "#E5ECF6",
            "gridcolor": "white",
            "gridwidth": 2,
            "linecolor": "white",
            "showbackground": true,
            "ticks": "",
            "zerolinecolor": "white"
           }
          },
          "shapedefaults": {
           "line": {
            "color": "#2a3f5f"
           }
          },
          "ternary": {
           "aaxis": {
            "gridcolor": "white",
            "linecolor": "white",
            "ticks": ""
           },
           "baxis": {
            "gridcolor": "white",
            "linecolor": "white",
            "ticks": ""
           },
           "bgcolor": "#E5ECF6",
           "caxis": {
            "gridcolor": "white",
            "linecolor": "white",
            "ticks": ""
           }
          },
          "title": {
           "x": 0.05
          },
          "xaxis": {
           "automargin": true,
           "gridcolor": "white",
           "linecolor": "white",
           "ticks": "",
           "title": {
            "standoff": 15
           },
           "zerolinecolor": "white",
           "zerolinewidth": 2
          },
          "yaxis": {
           "automargin": true,
           "gridcolor": "white",
           "linecolor": "white",
           "ticks": "",
           "title": {
            "standoff": 15
           },
           "zerolinecolor": "white",
           "zerolinewidth": 2
          }
         }
        },
        "title": {
         "text": "Implied Volatility Smile for CLV25"
        },
        "xaxis": {
         "title": {
          "text": "Strike Price"
         }
        },
        "yaxis": {
         "title": {
          "text": "Implied Volatility"
         }
        }
       }
      }
     },
     "metadata": {},
     "output_type": "display_data"
    },
    {
     "name": "stdout",
     "output_type": "stream",
     "text": [
      "CLX25 67.6\n"
     ]
    },
    {
     "data": {
      "application/vnd.plotly.v1+json": {
       "config": {
        "plotlyServerURL": "https://plot.ly"
       },
       "data": [
        {
         "marker": {
          "color": "blue",
          "opacity": 0.7,
          "size": 8,
          "symbol": "circle"
         },
         "mode": "markers",
         "name": "Call Options - CLX25",
         "type": "scatter",
         "x": [
          64.5,
          67,
          68,
          69,
          70,
          71,
          71.5,
          72,
          72.5,
          73,
          74,
          75,
          78,
          79,
          80,
          81
         ],
         "y": [
          0.23730354745076226,
          0.2372502655648423,
          0.23659891468253064,
          0.23643933829404076,
          0.2358933688569292,
          0.2354309317460763,
          0.2351842229009286,
          0.235081293324374,
          0.23512836887877153,
          0.2348822836782316,
          0.23488246854992076,
          0.2346737227174596,
          0.23523159359211462,
          0.23573596067740243,
          0.2363601276467756,
          0.23661611628123144
         ]
        },
        {
         "marker": {
          "color": "red",
          "opacity": 0.7,
          "size": 8,
          "symbol": "x"
         },
         "mode": "markers",
         "name": "Put Options - CLX25",
         "type": "scatter",
         "x": [
          53,
          54,
          55,
          57,
          58,
          59,
          59.5,
          60,
          60.5,
          61,
          62,
          63,
          63.5,
          64,
          64.5,
          65,
          65.5,
          66,
          66.5,
          67,
          67.5,
          68,
          68.5,
          69,
          70,
          71,
          71.5,
          72,
          74,
          79
         ],
         "y": [
          0.34137417122054337,
          0.3369293645571803,
          0.33302900567979843,
          0.32509912007366853,
          0.3216033403459079,
          0.3183125648469087,
          0.3165825017494295,
          0.3151640728325006,
          0.314034916527424,
          0.3126410422508582,
          0.31013305318633416,
          0.30761374010225917,
          0.3064661760272584,
          0.3055477335448831,
          0.3043684014095457,
          0.3038839155906908,
          0.30266270170762405,
          0.30212038137907987,
          0.30131673439215184,
          0.30071429286519924,
          0.29985539406084455,
          0.2991964806180629,
          0.29873428356659315,
          0.2984674508338316,
          0.29762940276217675,
          0.29758632668113966,
          0.2974242993156958,
          0.2974696351904183,
          0.2980196462946091,
          0.30622036453828616
         ]
        },
        {
         "line": {
          "color": "green",
          "dash": "dash"
         },
         "mode": "lines",
         "name": "Current Price (F) - CLX25",
         "type": "scatter",
         "x": [
          67.6,
          67.6
         ],
         "y": [
          0,
          0.34137417122054337
         ]
        }
       ],
       "layout": {
        "template": {
         "data": {
          "bar": [
           {
            "error_x": {
             "color": "#2a3f5f"
            },
            "error_y": {
             "color": "#2a3f5f"
            },
            "marker": {
             "line": {
              "color": "#E5ECF6",
              "width": 0.5
             },
             "pattern": {
              "fillmode": "overlay",
              "size": 10,
              "solidity": 0.2
             }
            },
            "type": "bar"
           }
          ],
          "barpolar": [
           {
            "marker": {
             "line": {
              "color": "#E5ECF6",
              "width": 0.5
             },
             "pattern": {
              "fillmode": "overlay",
              "size": 10,
              "solidity": 0.2
             }
            },
            "type": "barpolar"
           }
          ],
          "carpet": [
           {
            "aaxis": {
             "endlinecolor": "#2a3f5f",
             "gridcolor": "white",
             "linecolor": "white",
             "minorgridcolor": "white",
             "startlinecolor": "#2a3f5f"
            },
            "baxis": {
             "endlinecolor": "#2a3f5f",
             "gridcolor": "white",
             "linecolor": "white",
             "minorgridcolor": "white",
             "startlinecolor": "#2a3f5f"
            },
            "type": "carpet"
           }
          ],
          "choropleth": [
           {
            "colorbar": {
             "outlinewidth": 0,
             "ticks": ""
            },
            "type": "choropleth"
           }
          ],
          "contour": [
           {
            "colorbar": {
             "outlinewidth": 0,
             "ticks": ""
            },
            "colorscale": [
             [
              0,
              "#0d0887"
             ],
             [
              0.1111111111111111,
              "#46039f"
             ],
             [
              0.2222222222222222,
              "#7201a8"
             ],
             [
              0.3333333333333333,
              "#9c179e"
             ],
             [
              0.4444444444444444,
              "#bd3786"
             ],
             [
              0.5555555555555556,
              "#d8576b"
             ],
             [
              0.6666666666666666,
              "#ed7953"
             ],
             [
              0.7777777777777778,
              "#fb9f3a"
             ],
             [
              0.8888888888888888,
              "#fdca26"
             ],
             [
              1,
              "#f0f921"
             ]
            ],
            "type": "contour"
           }
          ],
          "contourcarpet": [
           {
            "colorbar": {
             "outlinewidth": 0,
             "ticks": ""
            },
            "type": "contourcarpet"
           }
          ],
          "heatmap": [
           {
            "colorbar": {
             "outlinewidth": 0,
             "ticks": ""
            },
            "colorscale": [
             [
              0,
              "#0d0887"
             ],
             [
              0.1111111111111111,
              "#46039f"
             ],
             [
              0.2222222222222222,
              "#7201a8"
             ],
             [
              0.3333333333333333,
              "#9c179e"
             ],
             [
              0.4444444444444444,
              "#bd3786"
             ],
             [
              0.5555555555555556,
              "#d8576b"
             ],
             [
              0.6666666666666666,
              "#ed7953"
             ],
             [
              0.7777777777777778,
              "#fb9f3a"
             ],
             [
              0.8888888888888888,
              "#fdca26"
             ],
             [
              1,
              "#f0f921"
             ]
            ],
            "type": "heatmap"
           }
          ],
          "heatmapgl": [
           {
            "colorbar": {
             "outlinewidth": 0,
             "ticks": ""
            },
            "colorscale": [
             [
              0,
              "#0d0887"
             ],
             [
              0.1111111111111111,
              "#46039f"
             ],
             [
              0.2222222222222222,
              "#7201a8"
             ],
             [
              0.3333333333333333,
              "#9c179e"
             ],
             [
              0.4444444444444444,
              "#bd3786"
             ],
             [
              0.5555555555555556,
              "#d8576b"
             ],
             [
              0.6666666666666666,
              "#ed7953"
             ],
             [
              0.7777777777777778,
              "#fb9f3a"
             ],
             [
              0.8888888888888888,
              "#fdca26"
             ],
             [
              1,
              "#f0f921"
             ]
            ],
            "type": "heatmapgl"
           }
          ],
          "histogram": [
           {
            "marker": {
             "pattern": {
              "fillmode": "overlay",
              "size": 10,
              "solidity": 0.2
             }
            },
            "type": "histogram"
           }
          ],
          "histogram2d": [
           {
            "colorbar": {
             "outlinewidth": 0,
             "ticks": ""
            },
            "colorscale": [
             [
              0,
              "#0d0887"
             ],
             [
              0.1111111111111111,
              "#46039f"
             ],
             [
              0.2222222222222222,
              "#7201a8"
             ],
             [
              0.3333333333333333,
              "#9c179e"
             ],
             [
              0.4444444444444444,
              "#bd3786"
             ],
             [
              0.5555555555555556,
              "#d8576b"
             ],
             [
              0.6666666666666666,
              "#ed7953"
             ],
             [
              0.7777777777777778,
              "#fb9f3a"
             ],
             [
              0.8888888888888888,
              "#fdca26"
             ],
             [
              1,
              "#f0f921"
             ]
            ],
            "type": "histogram2d"
           }
          ],
          "histogram2dcontour": [
           {
            "colorbar": {
             "outlinewidth": 0,
             "ticks": ""
            },
            "colorscale": [
             [
              0,
              "#0d0887"
             ],
             [
              0.1111111111111111,
              "#46039f"
             ],
             [
              0.2222222222222222,
              "#7201a8"
             ],
             [
              0.3333333333333333,
              "#9c179e"
             ],
             [
              0.4444444444444444,
              "#bd3786"
             ],
             [
              0.5555555555555556,
              "#d8576b"
             ],
             [
              0.6666666666666666,
              "#ed7953"
             ],
             [
              0.7777777777777778,
              "#fb9f3a"
             ],
             [
              0.8888888888888888,
              "#fdca26"
             ],
             [
              1,
              "#f0f921"
             ]
            ],
            "type": "histogram2dcontour"
           }
          ],
          "mesh3d": [
           {
            "colorbar": {
             "outlinewidth": 0,
             "ticks": ""
            },
            "type": "mesh3d"
           }
          ],
          "parcoords": [
           {
            "line": {
             "colorbar": {
              "outlinewidth": 0,
              "ticks": ""
             }
            },
            "type": "parcoords"
           }
          ],
          "pie": [
           {
            "automargin": true,
            "type": "pie"
           }
          ],
          "scatter": [
           {
            "fillpattern": {
             "fillmode": "overlay",
             "size": 10,
             "solidity": 0.2
            },
            "type": "scatter"
           }
          ],
          "scatter3d": [
           {
            "line": {
             "colorbar": {
              "outlinewidth": 0,
              "ticks": ""
             }
            },
            "marker": {
             "colorbar": {
              "outlinewidth": 0,
              "ticks": ""
             }
            },
            "type": "scatter3d"
           }
          ],
          "scattercarpet": [
           {
            "marker": {
             "colorbar": {
              "outlinewidth": 0,
              "ticks": ""
             }
            },
            "type": "scattercarpet"
           }
          ],
          "scattergeo": [
           {
            "marker": {
             "colorbar": {
              "outlinewidth": 0,
              "ticks": ""
             }
            },
            "type": "scattergeo"
           }
          ],
          "scattergl": [
           {
            "marker": {
             "colorbar": {
              "outlinewidth": 0,
              "ticks": ""
             }
            },
            "type": "scattergl"
           }
          ],
          "scattermapbox": [
           {
            "marker": {
             "colorbar": {
              "outlinewidth": 0,
              "ticks": ""
             }
            },
            "type": "scattermapbox"
           }
          ],
          "scatterpolar": [
           {
            "marker": {
             "colorbar": {
              "outlinewidth": 0,
              "ticks": ""
             }
            },
            "type": "scatterpolar"
           }
          ],
          "scatterpolargl": [
           {
            "marker": {
             "colorbar": {
              "outlinewidth": 0,
              "ticks": ""
             }
            },
            "type": "scatterpolargl"
           }
          ],
          "scatterternary": [
           {
            "marker": {
             "colorbar": {
              "outlinewidth": 0,
              "ticks": ""
             }
            },
            "type": "scatterternary"
           }
          ],
          "surface": [
           {
            "colorbar": {
             "outlinewidth": 0,
             "ticks": ""
            },
            "colorscale": [
             [
              0,
              "#0d0887"
             ],
             [
              0.1111111111111111,
              "#46039f"
             ],
             [
              0.2222222222222222,
              "#7201a8"
             ],
             [
              0.3333333333333333,
              "#9c179e"
             ],
             [
              0.4444444444444444,
              "#bd3786"
             ],
             [
              0.5555555555555556,
              "#d8576b"
             ],
             [
              0.6666666666666666,
              "#ed7953"
             ],
             [
              0.7777777777777778,
              "#fb9f3a"
             ],
             [
              0.8888888888888888,
              "#fdca26"
             ],
             [
              1,
              "#f0f921"
             ]
            ],
            "type": "surface"
           }
          ],
          "table": [
           {
            "cells": {
             "fill": {
              "color": "#EBF0F8"
             },
             "line": {
              "color": "white"
             }
            },
            "header": {
             "fill": {
              "color": "#C8D4E3"
             },
             "line": {
              "color": "white"
             }
            },
            "type": "table"
           }
          ]
         },
         "layout": {
          "annotationdefaults": {
           "arrowcolor": "#2a3f5f",
           "arrowhead": 0,
           "arrowwidth": 1
          },
          "autotypenumbers": "strict",
          "coloraxis": {
           "colorbar": {
            "outlinewidth": 0,
            "ticks": ""
           }
          },
          "colorscale": {
           "diverging": [
            [
             0,
             "#8e0152"
            ],
            [
             0.1,
             "#c51b7d"
            ],
            [
             0.2,
             "#de77ae"
            ],
            [
             0.3,
             "#f1b6da"
            ],
            [
             0.4,
             "#fde0ef"
            ],
            [
             0.5,
             "#f7f7f7"
            ],
            [
             0.6,
             "#e6f5d0"
            ],
            [
             0.7,
             "#b8e186"
            ],
            [
             0.8,
             "#7fbc41"
            ],
            [
             0.9,
             "#4d9221"
            ],
            [
             1,
             "#276419"
            ]
           ],
           "sequential": [
            [
             0,
             "#0d0887"
            ],
            [
             0.1111111111111111,
             "#46039f"
            ],
            [
             0.2222222222222222,
             "#7201a8"
            ],
            [
             0.3333333333333333,
             "#9c179e"
            ],
            [
             0.4444444444444444,
             "#bd3786"
            ],
            [
             0.5555555555555556,
             "#d8576b"
            ],
            [
             0.6666666666666666,
             "#ed7953"
            ],
            [
             0.7777777777777778,
             "#fb9f3a"
            ],
            [
             0.8888888888888888,
             "#fdca26"
            ],
            [
             1,
             "#f0f921"
            ]
           ],
           "sequentialminus": [
            [
             0,
             "#0d0887"
            ],
            [
             0.1111111111111111,
             "#46039f"
            ],
            [
             0.2222222222222222,
             "#7201a8"
            ],
            [
             0.3333333333333333,
             "#9c179e"
            ],
            [
             0.4444444444444444,
             "#bd3786"
            ],
            [
             0.5555555555555556,
             "#d8576b"
            ],
            [
             0.6666666666666666,
             "#ed7953"
            ],
            [
             0.7777777777777778,
             "#fb9f3a"
            ],
            [
             0.8888888888888888,
             "#fdca26"
            ],
            [
             1,
             "#f0f921"
            ]
           ]
          },
          "colorway": [
           "#636efa",
           "#EF553B",
           "#00cc96",
           "#ab63fa",
           "#FFA15A",
           "#19d3f3",
           "#FF6692",
           "#B6E880",
           "#FF97FF",
           "#FECB52"
          ],
          "font": {
           "color": "#2a3f5f"
          },
          "geo": {
           "bgcolor": "white",
           "lakecolor": "white",
           "landcolor": "#E5ECF6",
           "showlakes": true,
           "showland": true,
           "subunitcolor": "white"
          },
          "hoverlabel": {
           "align": "left"
          },
          "hovermode": "closest",
          "mapbox": {
           "style": "light"
          },
          "paper_bgcolor": "white",
          "plot_bgcolor": "#E5ECF6",
          "polar": {
           "angularaxis": {
            "gridcolor": "white",
            "linecolor": "white",
            "ticks": ""
           },
           "bgcolor": "#E5ECF6",
           "radialaxis": {
            "gridcolor": "white",
            "linecolor": "white",
            "ticks": ""
           }
          },
          "scene": {
           "xaxis": {
            "backgroundcolor": "#E5ECF6",
            "gridcolor": "white",
            "gridwidth": 2,
            "linecolor": "white",
            "showbackground": true,
            "ticks": "",
            "zerolinecolor": "white"
           },
           "yaxis": {
            "backgroundcolor": "#E5ECF6",
            "gridcolor": "white",
            "gridwidth": 2,
            "linecolor": "white",
            "showbackground": true,
            "ticks": "",
            "zerolinecolor": "white"
           },
           "zaxis": {
            "backgroundcolor": "#E5ECF6",
            "gridcolor": "white",
            "gridwidth": 2,
            "linecolor": "white",
            "showbackground": true,
            "ticks": "",
            "zerolinecolor": "white"
           }
          },
          "shapedefaults": {
           "line": {
            "color": "#2a3f5f"
           }
          },
          "ternary": {
           "aaxis": {
            "gridcolor": "white",
            "linecolor": "white",
            "ticks": ""
           },
           "baxis": {
            "gridcolor": "white",
            "linecolor": "white",
            "ticks": ""
           },
           "bgcolor": "#E5ECF6",
           "caxis": {
            "gridcolor": "white",
            "linecolor": "white",
            "ticks": ""
           }
          },
          "title": {
           "x": 0.05
          },
          "xaxis": {
           "automargin": true,
           "gridcolor": "white",
           "linecolor": "white",
           "ticks": "",
           "title": {
            "standoff": 15
           },
           "zerolinecolor": "white",
           "zerolinewidth": 2
          },
          "yaxis": {
           "automargin": true,
           "gridcolor": "white",
           "linecolor": "white",
           "ticks": "",
           "title": {
            "standoff": 15
           },
           "zerolinecolor": "white",
           "zerolinewidth": 2
          }
         }
        },
        "title": {
         "text": "Implied Volatility Smile for CLX25"
        },
        "xaxis": {
         "title": {
          "text": "Strike Price"
         }
        },
        "yaxis": {
         "title": {
          "text": "Implied Volatility"
         }
        }
       }
      }
     },
     "metadata": {},
     "output_type": "display_data"
    },
    {
     "name": "stdout",
     "output_type": "stream",
     "text": [
      "CLZ25 67.29\n",
      "CLZ25 - Left Skew (Put IV > Call IV)\n"
     ]
    },
    {
     "data": {
      "application/vnd.plotly.v1+json": {
       "config": {
        "plotlyServerURL": "https://plot.ly"
       },
       "data": [
        {
         "marker": {
          "color": "blue",
          "opacity": 0.7,
          "size": 8,
          "symbol": "circle"
         },
         "mode": "markers",
         "name": "Call Options - CLZ25",
         "type": "scatter",
         "x": [
          54,
          54.5,
          55,
          57.5,
          59,
          60,
          61,
          61.5,
          62,
          62.5,
          63,
          63.5,
          64,
          65,
          65.5,
          66,
          66.5,
          67,
          67.5,
          68,
          68.5,
          69,
          69.5,
          70,
          70.5,
          71,
          71.5,
          72,
          72.5,
          73,
          73.5,
          74,
          74.5,
          75,
          75.5,
          76,
          77,
          77.5,
          78,
          79,
          79.5,
          80,
          80.5,
          81,
          81.5,
          82,
          82.5
         ],
         "y": [
          0.2061937897278015,
          0.20997697508385238,
          0.21368882640998962,
          0.22415692858861955,
          0.22753505473160796,
          0.22865700459977475,
          0.22978714084393928,
          0.23054146515724824,
          0.23089858849923045,
          0.23088596138855363,
          0.2314962771132638,
          0.23126489447729606,
          0.23163760390461569,
          0.2318166769969566,
          0.23164114726995091,
          0.23159151243022433,
          0.2316641086674069,
          0.23142544864092895,
          0.2313126709623594,
          0.23132441840192725,
          0.23103810488484322,
          0.23088101729755894,
          0.23043448569693312,
          0.23054042767898117,
          0.23036283841149646,
          0.22990522267372127,
          0.23000972971024336,
          0.2298416359664273,
          0.22940225014297635,
          0.2295438261238791,
          0.22942397072746193,
          0.2290413371989869,
          0.22926845160866063,
          0.2292458079705297,
          0.2289715386493013,
          0.2288942477682886,
          0.22938686265223715,
          0.2295175896635062,
          0.22941640034305527,
          0.22998514460504907,
          0.23019271292741825,
          0.23069776320254412,
          0.23100144120859017,
          0.23109931049898955,
          0.231531264280499,
          0.23232660175298092,
          0.2329470585179241
         ]
        },
        {
         "marker": {
          "color": "red",
          "opacity": 0.7,
          "size": 8,
          "symbol": "x"
         },
         "mode": "markers",
         "name": "Put Options - CLZ25",
         "type": "scatter",
         "x": [
          52.5,
          53,
          54,
          54.5,
          55,
          57,
          58,
          59,
          59.5,
          60,
          60.5,
          61,
          61.5,
          62,
          62.5,
          63,
          63.5,
          64,
          64.5,
          65,
          65.5,
          66,
          66.5,
          67,
          67.5,
          68,
          68.5,
          69,
          69.5,
          70,
          70.5,
          71,
          72,
          72.5,
          73,
          74,
          75,
          75.5,
          76.5,
          77.5,
          79.5,
          80
         ],
         "y": [
          0.34128918147426995,
          0.33897534892570313,
          0.3351295330805148,
          0.33354729739281797,
          0.33109696845015646,
          0.32418162501367065,
          0.3211335009305464,
          0.3177388246296847,
          0.31624257990129456,
          0.31503686900797095,
          0.31359834479227255,
          0.312432448212987,
          0.31103440441667823,
          0.3098937852628416,
          0.3089968074675622,
          0.3078637812186276,
          0.30696361346377565,
          0.3058305934584259,
          0.30492230820125577,
          0.3042303260650745,
          0.3033054611005645,
          0.3025921464502569,
          0.301649222717594,
          0.30091416121788706,
          0.30038241598813803,
          0.3000513115510009,
          0.2994936388734827,
          0.2991370167921993,
          0.29855873554105883,
          0.29818300500279993,
          0.29801023142728816,
          0.29804186433798224,
          0.29788879634579024,
          0.29813019845859084,
          0.2981678328507289,
          0.29891147766972154,
          0.2997322030366536,
          0.30007536736571416,
          0.30194765968395126,
          0.3035733170854973,
          0.3084663482864392,
          0.3100024518535883
         ]
        },
        {
         "line": {
          "color": "green",
          "dash": "dash"
         },
         "mode": "lines",
         "name": "Current Price (F) - CLZ25",
         "type": "scatter",
         "x": [
          67.29,
          67.29
         ],
         "y": [
          0,
          0.34128918147426995
         ]
        }
       ],
       "layout": {
        "annotations": [
         {
          "align": "center",
          "bgcolor": "white",
          "bordercolor": "black",
          "borderpad": 4,
          "borderwidth": 1,
          "font": {
           "color": "black",
           "size": 12
          },
          "showarrow": false,
          "text": "Left Skew (Put IV > Call IV)",
          "x": 67.5,
          "y": 0.34128918147426995
         }
        ],
        "template": {
         "data": {
          "bar": [
           {
            "error_x": {
             "color": "#2a3f5f"
            },
            "error_y": {
             "color": "#2a3f5f"
            },
            "marker": {
             "line": {
              "color": "#E5ECF6",
              "width": 0.5
             },
             "pattern": {
              "fillmode": "overlay",
              "size": 10,
              "solidity": 0.2
             }
            },
            "type": "bar"
           }
          ],
          "barpolar": [
           {
            "marker": {
             "line": {
              "color": "#E5ECF6",
              "width": 0.5
             },
             "pattern": {
              "fillmode": "overlay",
              "size": 10,
              "solidity": 0.2
             }
            },
            "type": "barpolar"
           }
          ],
          "carpet": [
           {
            "aaxis": {
             "endlinecolor": "#2a3f5f",
             "gridcolor": "white",
             "linecolor": "white",
             "minorgridcolor": "white",
             "startlinecolor": "#2a3f5f"
            },
            "baxis": {
             "endlinecolor": "#2a3f5f",
             "gridcolor": "white",
             "linecolor": "white",
             "minorgridcolor": "white",
             "startlinecolor": "#2a3f5f"
            },
            "type": "carpet"
           }
          ],
          "choropleth": [
           {
            "colorbar": {
             "outlinewidth": 0,
             "ticks": ""
            },
            "type": "choropleth"
           }
          ],
          "contour": [
           {
            "colorbar": {
             "outlinewidth": 0,
             "ticks": ""
            },
            "colorscale": [
             [
              0,
              "#0d0887"
             ],
             [
              0.1111111111111111,
              "#46039f"
             ],
             [
              0.2222222222222222,
              "#7201a8"
             ],
             [
              0.3333333333333333,
              "#9c179e"
             ],
             [
              0.4444444444444444,
              "#bd3786"
             ],
             [
              0.5555555555555556,
              "#d8576b"
             ],
             [
              0.6666666666666666,
              "#ed7953"
             ],
             [
              0.7777777777777778,
              "#fb9f3a"
             ],
             [
              0.8888888888888888,
              "#fdca26"
             ],
             [
              1,
              "#f0f921"
             ]
            ],
            "type": "contour"
           }
          ],
          "contourcarpet": [
           {
            "colorbar": {
             "outlinewidth": 0,
             "ticks": ""
            },
            "type": "contourcarpet"
           }
          ],
          "heatmap": [
           {
            "colorbar": {
             "outlinewidth": 0,
             "ticks": ""
            },
            "colorscale": [
             [
              0,
              "#0d0887"
             ],
             [
              0.1111111111111111,
              "#46039f"
             ],
             [
              0.2222222222222222,
              "#7201a8"
             ],
             [
              0.3333333333333333,
              "#9c179e"
             ],
             [
              0.4444444444444444,
              "#bd3786"
             ],
             [
              0.5555555555555556,
              "#d8576b"
             ],
             [
              0.6666666666666666,
              "#ed7953"
             ],
             [
              0.7777777777777778,
              "#fb9f3a"
             ],
             [
              0.8888888888888888,
              "#fdca26"
             ],
             [
              1,
              "#f0f921"
             ]
            ],
            "type": "heatmap"
           }
          ],
          "heatmapgl": [
           {
            "colorbar": {
             "outlinewidth": 0,
             "ticks": ""
            },
            "colorscale": [
             [
              0,
              "#0d0887"
             ],
             [
              0.1111111111111111,
              "#46039f"
             ],
             [
              0.2222222222222222,
              "#7201a8"
             ],
             [
              0.3333333333333333,
              "#9c179e"
             ],
             [
              0.4444444444444444,
              "#bd3786"
             ],
             [
              0.5555555555555556,
              "#d8576b"
             ],
             [
              0.6666666666666666,
              "#ed7953"
             ],
             [
              0.7777777777777778,
              "#fb9f3a"
             ],
             [
              0.8888888888888888,
              "#fdca26"
             ],
             [
              1,
              "#f0f921"
             ]
            ],
            "type": "heatmapgl"
           }
          ],
          "histogram": [
           {
            "marker": {
             "pattern": {
              "fillmode": "overlay",
              "size": 10,
              "solidity": 0.2
             }
            },
            "type": "histogram"
           }
          ],
          "histogram2d": [
           {
            "colorbar": {
             "outlinewidth": 0,
             "ticks": ""
            },
            "colorscale": [
             [
              0,
              "#0d0887"
             ],
             [
              0.1111111111111111,
              "#46039f"
             ],
             [
              0.2222222222222222,
              "#7201a8"
             ],
             [
              0.3333333333333333,
              "#9c179e"
             ],
             [
              0.4444444444444444,
              "#bd3786"
             ],
             [
              0.5555555555555556,
              "#d8576b"
             ],
             [
              0.6666666666666666,
              "#ed7953"
             ],
             [
              0.7777777777777778,
              "#fb9f3a"
             ],
             [
              0.8888888888888888,
              "#fdca26"
             ],
             [
              1,
              "#f0f921"
             ]
            ],
            "type": "histogram2d"
           }
          ],
          "histogram2dcontour": [
           {
            "colorbar": {
             "outlinewidth": 0,
             "ticks": ""
            },
            "colorscale": [
             [
              0,
              "#0d0887"
             ],
             [
              0.1111111111111111,
              "#46039f"
             ],
             [
              0.2222222222222222,
              "#7201a8"
             ],
             [
              0.3333333333333333,
              "#9c179e"
             ],
             [
              0.4444444444444444,
              "#bd3786"
             ],
             [
              0.5555555555555556,
              "#d8576b"
             ],
             [
              0.6666666666666666,
              "#ed7953"
             ],
             [
              0.7777777777777778,
              "#fb9f3a"
             ],
             [
              0.8888888888888888,
              "#fdca26"
             ],
             [
              1,
              "#f0f921"
             ]
            ],
            "type": "histogram2dcontour"
           }
          ],
          "mesh3d": [
           {
            "colorbar": {
             "outlinewidth": 0,
             "ticks": ""
            },
            "type": "mesh3d"
           }
          ],
          "parcoords": [
           {
            "line": {
             "colorbar": {
              "outlinewidth": 0,
              "ticks": ""
             }
            },
            "type": "parcoords"
           }
          ],
          "pie": [
           {
            "automargin": true,
            "type": "pie"
           }
          ],
          "scatter": [
           {
            "fillpattern": {
             "fillmode": "overlay",
             "size": 10,
             "solidity": 0.2
            },
            "type": "scatter"
           }
          ],
          "scatter3d": [
           {
            "line": {
             "colorbar": {
              "outlinewidth": 0,
              "ticks": ""
             }
            },
            "marker": {
             "colorbar": {
              "outlinewidth": 0,
              "ticks": ""
             }
            },
            "type": "scatter3d"
           }
          ],
          "scattercarpet": [
           {
            "marker": {
             "colorbar": {
              "outlinewidth": 0,
              "ticks": ""
             }
            },
            "type": "scattercarpet"
           }
          ],
          "scattergeo": [
           {
            "marker": {
             "colorbar": {
              "outlinewidth": 0,
              "ticks": ""
             }
            },
            "type": "scattergeo"
           }
          ],
          "scattergl": [
           {
            "marker": {
             "colorbar": {
              "outlinewidth": 0,
              "ticks": ""
             }
            },
            "type": "scattergl"
           }
          ],
          "scattermapbox": [
           {
            "marker": {
             "colorbar": {
              "outlinewidth": 0,
              "ticks": ""
             }
            },
            "type": "scattermapbox"
           }
          ],
          "scatterpolar": [
           {
            "marker": {
             "colorbar": {
              "outlinewidth": 0,
              "ticks": ""
             }
            },
            "type": "scatterpolar"
           }
          ],
          "scatterpolargl": [
           {
            "marker": {
             "colorbar": {
              "outlinewidth": 0,
              "ticks": ""
             }
            },
            "type": "scatterpolargl"
           }
          ],
          "scatterternary": [
           {
            "marker": {
             "colorbar": {
              "outlinewidth": 0,
              "ticks": ""
             }
            },
            "type": "scatterternary"
           }
          ],
          "surface": [
           {
            "colorbar": {
             "outlinewidth": 0,
             "ticks": ""
            },
            "colorscale": [
             [
              0,
              "#0d0887"
             ],
             [
              0.1111111111111111,
              "#46039f"
             ],
             [
              0.2222222222222222,
              "#7201a8"
             ],
             [
              0.3333333333333333,
              "#9c179e"
             ],
             [
              0.4444444444444444,
              "#bd3786"
             ],
             [
              0.5555555555555556,
              "#d8576b"
             ],
             [
              0.6666666666666666,
              "#ed7953"
             ],
             [
              0.7777777777777778,
              "#fb9f3a"
             ],
             [
              0.8888888888888888,
              "#fdca26"
             ],
             [
              1,
              "#f0f921"
             ]
            ],
            "type": "surface"
           }
          ],
          "table": [
           {
            "cells": {
             "fill": {
              "color": "#EBF0F8"
             },
             "line": {
              "color": "white"
             }
            },
            "header": {
             "fill": {
              "color": "#C8D4E3"
             },
             "line": {
              "color": "white"
             }
            },
            "type": "table"
           }
          ]
         },
         "layout": {
          "annotationdefaults": {
           "arrowcolor": "#2a3f5f",
           "arrowhead": 0,
           "arrowwidth": 1
          },
          "autotypenumbers": "strict",
          "coloraxis": {
           "colorbar": {
            "outlinewidth": 0,
            "ticks": ""
           }
          },
          "colorscale": {
           "diverging": [
            [
             0,
             "#8e0152"
            ],
            [
             0.1,
             "#c51b7d"
            ],
            [
             0.2,
             "#de77ae"
            ],
            [
             0.3,
             "#f1b6da"
            ],
            [
             0.4,
             "#fde0ef"
            ],
            [
             0.5,
             "#f7f7f7"
            ],
            [
             0.6,
             "#e6f5d0"
            ],
            [
             0.7,
             "#b8e186"
            ],
            [
             0.8,
             "#7fbc41"
            ],
            [
             0.9,
             "#4d9221"
            ],
            [
             1,
             "#276419"
            ]
           ],
           "sequential": [
            [
             0,
             "#0d0887"
            ],
            [
             0.1111111111111111,
             "#46039f"
            ],
            [
             0.2222222222222222,
             "#7201a8"
            ],
            [
             0.3333333333333333,
             "#9c179e"
            ],
            [
             0.4444444444444444,
             "#bd3786"
            ],
            [
             0.5555555555555556,
             "#d8576b"
            ],
            [
             0.6666666666666666,
             "#ed7953"
            ],
            [
             0.7777777777777778,
             "#fb9f3a"
            ],
            [
             0.8888888888888888,
             "#fdca26"
            ],
            [
             1,
             "#f0f921"
            ]
           ],
           "sequentialminus": [
            [
             0,
             "#0d0887"
            ],
            [
             0.1111111111111111,
             "#46039f"
            ],
            [
             0.2222222222222222,
             "#7201a8"
            ],
            [
             0.3333333333333333,
             "#9c179e"
            ],
            [
             0.4444444444444444,
             "#bd3786"
            ],
            [
             0.5555555555555556,
             "#d8576b"
            ],
            [
             0.6666666666666666,
             "#ed7953"
            ],
            [
             0.7777777777777778,
             "#fb9f3a"
            ],
            [
             0.8888888888888888,
             "#fdca26"
            ],
            [
             1,
             "#f0f921"
            ]
           ]
          },
          "colorway": [
           "#636efa",
           "#EF553B",
           "#00cc96",
           "#ab63fa",
           "#FFA15A",
           "#19d3f3",
           "#FF6692",
           "#B6E880",
           "#FF97FF",
           "#FECB52"
          ],
          "font": {
           "color": "#2a3f5f"
          },
          "geo": {
           "bgcolor": "white",
           "lakecolor": "white",
           "landcolor": "#E5ECF6",
           "showlakes": true,
           "showland": true,
           "subunitcolor": "white"
          },
          "hoverlabel": {
           "align": "left"
          },
          "hovermode": "closest",
          "mapbox": {
           "style": "light"
          },
          "paper_bgcolor": "white",
          "plot_bgcolor": "#E5ECF6",
          "polar": {
           "angularaxis": {
            "gridcolor": "white",
            "linecolor": "white",
            "ticks": ""
           },
           "bgcolor": "#E5ECF6",
           "radialaxis": {
            "gridcolor": "white",
            "linecolor": "white",
            "ticks": ""
           }
          },
          "scene": {
           "xaxis": {
            "backgroundcolor": "#E5ECF6",
            "gridcolor": "white",
            "gridwidth": 2,
            "linecolor": "white",
            "showbackground": true,
            "ticks": "",
            "zerolinecolor": "white"
           },
           "yaxis": {
            "backgroundcolor": "#E5ECF6",
            "gridcolor": "white",
            "gridwidth": 2,
            "linecolor": "white",
            "showbackground": true,
            "ticks": "",
            "zerolinecolor": "white"
           },
           "zaxis": {
            "backgroundcolor": "#E5ECF6",
            "gridcolor": "white",
            "gridwidth": 2,
            "linecolor": "white",
            "showbackground": true,
            "ticks": "",
            "zerolinecolor": "white"
           }
          },
          "shapedefaults": {
           "line": {
            "color": "#2a3f5f"
           }
          },
          "ternary": {
           "aaxis": {
            "gridcolor": "white",
            "linecolor": "white",
            "ticks": ""
           },
           "baxis": {
            "gridcolor": "white",
            "linecolor": "white",
            "ticks": ""
           },
           "bgcolor": "#E5ECF6",
           "caxis": {
            "gridcolor": "white",
            "linecolor": "white",
            "ticks": ""
           }
          },
          "title": {
           "x": 0.05
          },
          "xaxis": {
           "automargin": true,
           "gridcolor": "white",
           "linecolor": "white",
           "ticks": "",
           "title": {
            "standoff": 15
           },
           "zerolinecolor": "white",
           "zerolinewidth": 2
          },
          "yaxis": {
           "automargin": true,
           "gridcolor": "white",
           "linecolor": "white",
           "ticks": "",
           "title": {
            "standoff": 15
           },
           "zerolinecolor": "white",
           "zerolinewidth": 2
          }
         }
        },
        "title": {
         "text": "Implied Volatility Smile for CLZ25"
        },
        "xaxis": {
         "title": {
          "text": "Strike Price"
         }
        },
        "yaxis": {
         "title": {
          "text": "Implied Volatility"
         }
        }
       }
      }
     },
     "metadata": {},
     "output_type": "display_data"
    }
   ],
   "source": [
    "import plotly.graph_objects as go\n",
    "import numpy as np\n",
    "\n",
    "# Loop through unique symbols\n",
    "for symbol in implied_vol_df['Symbol'].unique():\n",
    "    # Filter the data for the specific symbol\n",
    "    symbol_data = implied_vol_df[implied_vol_df['Symbol'] == symbol]\n",
    "    \n",
    "    # Get the current futures price (F) for the symbol\n",
    "    future_row = futures_df[futures_df['Contract'] == symbol]\n",
    "    F = future_row['Last Price'].values[0]  # Futures price\n",
    "    print(symbol, F)\n",
    "    \n",
    "    # Find the ATM strike (closest to F)\n",
    "    atm_strike = min(symbol_data['Strike'], key=lambda x: abs(x - F))\n",
    "    \n",
    "    # Limit strikes to ±15 from ATM\n",
    "    symbol_data = symbol_data[symbol_data['Strike'].between(atm_strike - 15, atm_strike + 15)]\n",
    "    \n",
    "    # Separate Call and Put data\n",
    "    call_data = symbol_data[symbol_data['Type'] == 'Call']\n",
    "    put_data = symbol_data[symbol_data['Type'] == 'Put']\n",
    "    \n",
    "    # Create figure\n",
    "    fig = go.Figure()\n",
    "\n",
    "    # Plot for Call Options\n",
    "    fig.add_trace(go.Scatter(x=call_data['Strike'], y=call_data['Implied Volatility'], \n",
    "                             mode='markers', name=f'Call Options - {symbol}', \n",
    "                             marker=dict(symbol='circle', color='blue', size=8, opacity=0.7)))\n",
    "\n",
    "    # Plot for Put Options\n",
    "    fig.add_trace(go.Scatter(x=put_data['Strike'], y=put_data['Implied Volatility'], \n",
    "                             mode='markers', name=f'Put Options - {symbol}', \n",
    "                             marker=dict(symbol='x', color='red', size=8, opacity=0.7)))\n",
    "\n",
    "    # Add vertical line for Current Price (F)\n",
    "    fig.add_trace(go.Scatter(x=[F, F], y=[0, max(symbol_data['Implied Volatility'])], \n",
    "                             mode='lines', name=f'Current Price (F) - {symbol}', \n",
    "                             line=dict(color='green', dash='dash')))\n",
    "\n",
    "    # Check for Skew and Smile\n",
    "    atm_call_iv = call_data[call_data['Strike'] == atm_strike]['Implied Volatility'].values\n",
    "    atm_put_iv = put_data[put_data['Strike'] == atm_strike]['Implied Volatility'].values\n",
    "\n",
    "    if len(atm_call_iv) > 0 and len(atm_put_iv) > 0:\n",
    "        atm_call_iv = atm_call_iv[0]\n",
    "        atm_put_iv = atm_put_iv[0]\n",
    "\n",
    "        if atm_put_iv > atm_call_iv:\n",
    "            skew_type = \"Left Skew (Put IV > Call IV)\"\n",
    "        elif atm_put_iv < atm_call_iv:\n",
    "            skew_type = \"Right Skew (Call IV > Put IV)\"\n",
    "        else:\n",
    "            skew_type = \"Balanced Smile\"\n",
    "        \n",
    "        print(f\"{symbol} - {skew_type}\")\n",
    "\n",
    "        # Add Skew Type Annotation to the Plot\n",
    "        fig.add_annotation(\n",
    "            x=atm_strike, \n",
    "            y=max(symbol_data['Implied Volatility']), \n",
    "            text=skew_type, \n",
    "            showarrow=False, \n",
    "            font=dict(size=12, color=\"black\"),\n",
    "            align=\"center\",\n",
    "            bordercolor=\"black\",\n",
    "            borderwidth=1,\n",
    "            borderpad=4,\n",
    "            bgcolor=\"white\",\n",
    "        )\n",
    "\n",
    "    # Update layout\n",
    "    fig.update_layout(\n",
    "        title=f'Implied Volatility Smile for {symbol}',\n",
    "        xaxis_title='Strike Price',\n",
    "        yaxis_title='Implied Volatility',\n",
    "    )\n",
    "    \n",
    "    # Show the plot\n",
    "    fig.show()\n"
   ]
  },
  {
   "cell_type": "code",
   "execution_count": 16,
   "metadata": {},
   "outputs": [
    {
     "data": {
      "application/vnd.plotly.v1+json": {
       "config": {
        "plotlyServerURL": "https://plot.ly"
       },
       "data": [
        {
         "hovertemplate": "Symbol=CLH25<br>Time to Expiry=%{x}<br>Implied Volatility=%{y}<extra></extra>",
         "legendgroup": "CLH25",
         "line": {
          "color": "#636efa",
          "dash": "solid"
         },
         "marker": {
          "symbol": "circle"
         },
         "mode": "lines+markers",
         "name": "CLH25",
         "showlegend": true,
         "type": "scattergl",
         "x": [
          0.024657534246575342,
          0.024657534246575342,
          0.024657534246575342,
          0.024657534246575342,
          0.024657534246575342,
          0.024657534246575342,
          0.024657534246575342,
          0.024657534246575342,
          0.024657534246575342,
          0.024657534246575342,
          0.024657534246575342,
          0.024657534246575342,
          0.024657534246575342,
          0.024657534246575342,
          0.024657534246575342,
          0.024657534246575342,
          0.024657534246575342,
          0.024657534246575342,
          0.024657534246575342,
          0.024657534246575342,
          0.024657534246575342,
          0.024657534246575342,
          0.024657534246575342,
          0.024657534246575342,
          0.024657534246575342,
          0.024657534246575342,
          0.024657534246575342,
          0.024657534246575342,
          0.024657534246575342,
          0.024657534246575342,
          0.024657534246575342,
          0.024657534246575342,
          0.024657534246575342,
          0.024657534246575342,
          0.024657534246575342,
          0.024657534246575342,
          0.024657534246575342,
          0.024657534246575342,
          0.024657534246575342,
          0.024657534246575342,
          0.024657534246575342,
          0.024657534246575342,
          0.024657534246575342,
          0.024657534246575342,
          0.024657534246575342,
          0.024657534246575342,
          0.024657534246575342,
          0.024657534246575342,
          0.024657534246575342,
          0.024657534246575342,
          0.024657534246575342,
          0.024657534246575342,
          0.024657534246575342,
          0.024657534246575342,
          0.024657534246575342,
          0.024657534246575342,
          0.024657534246575342,
          0.024657534246575342,
          0.024657534246575342,
          0.024657534246575342,
          0.024657534246575342,
          0.024657534246575342,
          0.024657534246575342,
          0.024657534246575342,
          0.024657534246575342,
          0.024657534246575342,
          0.024657534246575342,
          0.024657534246575342,
          0.024657534246575342,
          0.024657534246575342,
          0.024657534246575342,
          0.024657534246575342,
          0.024657534246575342,
          0.024657534246575342,
          0.024657534246575342,
          0.024657534246575342,
          0.024657534246575342,
          0.024657534246575342,
          0.024657534246575342,
          0.024657534246575342,
          0.024657534246575342,
          0.024657534246575342,
          0.024657534246575342,
          0.024657534246575342,
          0.024657534246575342,
          0.024657534246575342,
          0.024657534246575342,
          0.024657534246575342,
          0.024657534246575342,
          0.024657534246575342,
          0.024657534246575342,
          0.024657534246575342,
          0.024657534246575342,
          0.024657534246575342,
          0.024657534246575342,
          0.024657534246575342,
          0.024657534246575342,
          0.024657534246575342,
          0.024657534246575342,
          0.024657534246575342,
          0.024657534246575342,
          0.024657534246575342,
          0.024657534246575342,
          0.024657534246575342,
          0.024657534246575342,
          0.024657534246575342,
          0.024657534246575342,
          0.024657534246575342,
          0.024657534246575342,
          0.024657534246575342,
          0.024657534246575342,
          0.024657534246575342,
          0.024657534246575342,
          0.024657534246575342,
          0.024657534246575342,
          0.024657534246575342,
          0.024657534246575342,
          0.024657534246575342,
          0.024657534246575342,
          0.024657534246575342,
          0.024657534246575342,
          0.024657534246575342,
          0.024657534246575342,
          0.024657534246575342,
          0.024657534246575342,
          0.024657534246575342,
          0.024657534246575342,
          0.024657534246575342,
          0.024657534246575342,
          0.024657534246575342,
          0.024657534246575342,
          0.024657534246575342,
          0.024657534246575342,
          0.024657534246575342,
          0.024657534246575342,
          0.024657534246575342,
          0.024657534246575342,
          0.024657534246575342,
          0.024657534246575342,
          0.024657534246575342,
          0.024657534246575342,
          0.024657534246575342,
          0.024657534246575342,
          0.024657534246575342,
          0.024657534246575342,
          0.024657534246575342,
          0.024657534246575342,
          0.024657534246575342,
          0.024657534246575342,
          0.024657534246575342,
          0.024657534246575342,
          0.024657534246575342,
          0.024657534246575342,
          0.024657534246575342,
          0.024657534246575342,
          0.024657534246575342,
          0.024657534246575342,
          0.024657534246575342,
          0.024657534246575342,
          0.024657534246575342,
          0.024657534246575342,
          0.024657534246575342,
          0.024657534246575342,
          0.024657534246575342,
          0.024657534246575342,
          0.024657534246575342,
          0.024657534246575342,
          0.024657534246575342,
          0.024657534246575342,
          0.024657534246575342,
          0.024657534246575342,
          0.024657534246575342,
          0.024657534246575342,
          0.024657534246575342,
          0.024657534246575342,
          0.024657534246575342,
          0.024657534246575342,
          0.024657534246575342,
          0.024657534246575342,
          0.024657534246575342,
          0.024657534246575342,
          0.024657534246575342,
          0.024657534246575342,
          0.024657534246575342,
          0.024657534246575342,
          0.024657534246575342,
          0.024657534246575342,
          0.024657534246575342,
          0.024657534246575342,
          0.024657534246575342,
          0.024657534246575342,
          0.024657534246575342,
          0.024657534246575342,
          0.024657534246575342,
          0.024657534246575342,
          0.024657534246575342,
          0.024657534246575342,
          0.024657534246575342,
          0.024657534246575342,
          0.024657534246575342,
          0.024657534246575342,
          0.024657534246575342,
          0.024657534246575342,
          0.024657534246575342,
          0.024657534246575342,
          0.024657534246575342,
          0.024657534246575342,
          0.024657534246575342,
          0.024657534246575342,
          0.024657534246575342,
          0.024657534246575342,
          0.024657534246575342,
          0.024657534246575342,
          0.024657534246575342,
          0.024657534246575342,
          0.024657534246575342,
          0.024657534246575342,
          0.024657534246575342,
          0.024657534246575342,
          0.024657534246575342,
          0.024657534246575342,
          0.024657534246575342,
          0.024657534246575342,
          0.024657534246575342,
          0.024657534246575342,
          0.024657534246575342,
          0.024657534246575342,
          0.024657534246575342,
          0.024657534246575342,
          0.024657534246575342,
          0.024657534246575342,
          0.024657534246575342,
          0.024657534246575342,
          0.024657534246575342,
          0.024657534246575342,
          0.024657534246575342,
          0.024657534246575342,
          0.024657534246575342,
          0.024657534246575342,
          0.024657534246575342,
          0.024657534246575342,
          0.024657534246575342,
          0.024657534246575342,
          0.024657534246575342,
          0.024657534246575342,
          0.024657534246575342,
          0.024657534246575342,
          0.024657534246575342,
          0.024657534246575342,
          0.024657534246575342,
          0.024657534246575342,
          0.024657534246575342,
          0.024657534246575342,
          0.024657534246575342,
          0.024657534246575342,
          0.024657534246575342,
          0.024657534246575342,
          0.024657534246575342,
          0.024657534246575342,
          0.024657534246575342,
          0.024657534246575342,
          0.024657534246575342,
          0.024657534246575342,
          0.024657534246575342,
          0.024657534246575342,
          0.024657534246575342,
          0.024657534246575342,
          0.024657534246575342,
          0.024657534246575342,
          0.024657534246575342,
          0.024657534246575342,
          0.024657534246575342,
          0.024657534246575342,
          0.024657534246575342,
          0.024657534246575342,
          0.024657534246575342,
          0.024657534246575342,
          0.024657534246575342,
          0.024657534246575342,
          0.024657534246575342,
          0.024657534246575342,
          0.024657534246575342,
          0.024657534246575342,
          0.024657534246575342,
          0.024657534246575342,
          0.024657534246575342,
          0.024657534246575342,
          0.024657534246575342,
          0.024657534246575342,
          0.024657534246575342,
          0.024657534246575342,
          0.024657534246575342,
          0.024657534246575342,
          0.024657534246575342,
          0.024657534246575342,
          0.024657534246575342,
          0.024657534246575342,
          0.024657534246575342,
          0.024657534246575342,
          0.024657534246575342,
          0.024657534246575342,
          0.024657534246575342,
          0.024657534246575342,
          0.024657534246575342,
          0.024657534246575342,
          0.024657534246575342,
          0.024657534246575342,
          0.024657534246575342,
          0.024657534246575342,
          0.024657534246575342,
          0.024657534246575342,
          0.024657534246575342,
          0.024657534246575342,
          0.024657534246575342,
          0.024657534246575342,
          0.024657534246575342,
          0.024657534246575342
         ],
         "xaxis": "x",
         "y": [
          null,
          null,
          null,
          null,
          null,
          null,
          null,
          null,
          null,
          null,
          null,
          null,
          null,
          null,
          null,
          null,
          null,
          null,
          null,
          null,
          null,
          null,
          null,
          null,
          null,
          null,
          0.18085644306508858,
          0.2236374046973081,
          0.23825397700271866,
          0.24967875616288568,
          0.25597947873001475,
          0.261046274213767,
          0.2626113204249652,
          0.263319899245677,
          0.2653988174129964,
          0.266765057236864,
          0.26776309315771996,
          0.26891089592413453,
          0.2710372926063849,
          0.27865585649487273,
          0.27716117670446244,
          0.28440211273086585,
          0.28677829306315383,
          0.2942995621906137,
          0.2977826465408158,
          0.3039155965506823,
          0.3060656935492659,
          0.3142973344729187,
          0.31996051379581986,
          0.3222037791828097,
          0.33874702016302094,
          0.33485881609268037,
          0.35027553512218385,
          0.36550354357847337,
          0.38055027318934626,
          0.3625848975915379,
          0.37633897240788194,
          0.38994843337908525,
          0.4034186067496296,
          0.4167538155271822,
          0.42995811016204655,
          0.44303518253167823,
          0.45598894006680224,
          0.4688223933516,
          0.4815390329572371,
          0.494141526162839,
          0.5066328208142669,
          0.5190153830869185,
          0.5312922824768483,
          0.5434653315018034,
          0.5555369255790248,
          0.5675095836896373,
          0.5793848924220513,
          0.591165398021368,
          0.602852675520342,
          0.614448338913019,
          0.62595436093104,
          0.6373727985967351,
          0.6487047744640297,
          0.6599520210451796,
          0.6711160700202143,
          0.6821983642364317,
          0.693200313252056,
          0.7041233735806902,
          0.7149686014966753,
          0.7257374909571161,
          0.7364312441802906,
          0.7470510053943576,
          0.7575981304248344,
          0.7680734604545815,
          0.7784782661541598,
          0.7888135889080947,
          0.7990804502299717,
          0.8092798704998128,
          0.8194128673459364,
          0.8294800566859025,
          0.8394831174055523,
          0.8494223007251586,
          0.8592986495374738,
          0.8691133882441048,
          0.8788666459846686,
          0.8885598122886496,
          0.8981935295793502,
          0.9077685859696475,
          0.9172857339702033,
          0.926745737588723,
          0.9361493232088164,
          0.9454972134047566,
          0.9547901049060693,
          0.9640288402247523,
          0.9732134906760773,
          0.9823455364147632,
          0.9914251856413059,
          1.0004531039692695,
          1.00942969736488,
          1.018356291988725,
          1.0272327050406336,
          1.0360598368365879,
          1.0448381437234862,
          1.053568633501289,
          1.0622510486707961,
          1.0708865496330129,
          1.0794754903747037,
          1.0880183875021257,
          1.0965157528206462,
          1.1049680862735038,
          1.1133757037337222,
          1.1217395685284377,
          1.1300597564622017,
          1.1383367980010302,
          1.1465713329535347,
          1.1547633512364714,
          1.1629137333695947,
          1.1710226295606934,
          1.1790907442386103,
          1.1871186138673446,
          1.1951060648982095,
          1.2030541702553652,
          1.2109628432098904,
          1.2188326397129692,
          1.226663932940025,
          1.2344570707988556,
          1.2422128710013518,
          1.2499309222800596,
          1.2576119912879518,
          1.2652564732409946,
          1.2728646996214772,
          1.2804369908899043,
          1.2879736890576479,
          1.3103737374050017,
          1.3470252988296094,
          1.382858758085416,
          1.417909111563141,
          1.4522105782137875,
          1.4857941943195363,
          1.518689466200103,
          1.550923826365823,
          1.5825231295539466,
          1.6135116837631893,
          1.6439124226827835,
          1.6737472006138958,
          1.7030362421171164,
          1.731799185592841,
          1.760053685508055,
          1.7878177747327735,
          1.8151075336407894,
          1.8419391734471027,
          1.8683271094420622,
          1.8942855832783774,
          1.9198282780719533,
          2.018087721560386,
          2.065030084107887,
          2.110623674737968,
          2.772094375611246,
          2.7202006492473427,
          2.669562802184752,
          2.620120854645186,
          2.478425937106031,
          2.4332418378680187,
          2.3456836269945938,
          2.2616167974103663,
          2.2208048558097624,
          2.1807652116431444,
          2.1414675417286904,
          2.102883971895283,
          2.0277543224154706,
          1.9911591853727846,
          1.9551799292445937,
          1.9197952459204963,
          1.8849844963331066,
          1.8507283241002583,
          1.8170082189216206,
          1.7838065413435569,
          1.7511064568358268,
          1.7188919231202753,
          1.6871475135793632,
          1.6558587749952374,
          1.625011616510125,
          1.5945921868785675,
          1.5645880697116572,
          1.534986768993122,
          1.5057764678997354,
          1.4769456590792351,
          1.4484835284288382,
          1.42037939825925,
          1.3926232535185783,
          1.3652057322230182,
          1.3381167982115127,
          1.3113476630068452,
          1.284889612892489,
          1.2587342933093943,
          1.232873394204814,
          1.2072990698643928,
          1.1820039976133108,
          1.1569801246297708,
          1.1322207276100098,
          1.1077191860913227,
          1.0834679718409248,
          1.0594612223177657,
          1.0356924133433807,
          1.0121552287957825,
          0.9888437509261083,
          0.9657523761342178,
          0.9428747033576217,
          0.9202057551560714,
          0.8977398858224345,
          0.8754717137934398,
          0.8533961334506419,
          0.8315079459278523,
          0.8098019875798587,
          0.7882734158247514,
          0.766917438687057,
          0.7457293438356436,
          0.7247036698460388,
          0.703836613888063,
          0.6831227466868246,
          0.6625579190521368,
          0.6421375539579697,
          0.6218563108519639,
          0.6017102506122345,
          0.5816944605924291,
          0.5618042014555086,
          0.5420347447080024,
          0.5223810709912543,
          0.5468793981695487,
          0.5260542551456278,
          0.5053301901215411,
          0.5124364791983814,
          0.4909621155548279,
          0.4695678906542662,
          0.448245806920628,
          0.4462095574376905,
          0.4242693385288783,
          0.4175261058101633,
          0.3950341674549366,
          0.3960608259771821,
          0.3823962207328355,
          0.35839255920606156,
          0.3505854331370419,
          0.35236028112540707,
          0.3480161631637737,
          0.34376819388375923,
          0.3388539025764683,
          0.31507696101670524,
          0.3345445722787716,
          0.33008838002386376,
          0.3281244693951116,
          0.3276615280150374,
          0.325826524443593,
          0.3247733983219947,
          0.3265670941602442,
          0.32904218591028206,
          0.3325271669415887,
          0.3375638488696572,
          0.29181696213232217,
          0.3530484850952527,
          0.3656306947392347,
          0.37804391116251823,
          0.39419502960542646,
          0.4082201144119239,
          0.4238979324747133,
          0.44189624101107755,
          0.4628519423982439,
          0.4786659867731021,
          0.49789706414304363,
          0.5211059669478157,
          0.5391012639915097,
          0.5614301077721583,
          0.5782984476142597,
          0.5998432764741746,
          0.6210789146928921,
          0.6420202083955816,
          0.6570634611408096,
          0.6773564665012143,
          0.6973946319230208,
          0.7171880405265588,
          0.7367460137623808,
          0.7560772155670696,
          0.7751898665276473,
          0.7940909567046087,
          0.8127874149881457,
          0.8312861507143724,
          0.8495928254495809,
          0.8677132074156122,
          0.9384345689049538,
          1.006554638380258,
          1.0232076679559552,
          1.0560857148206733,
          1.0723168871329347,
          1.0884134917626973,
          1.1043783586067641,
          1.13592364587658,
          1.1669732797916557,
          1.197546308897372,
          1.2573321864520273,
          1.3718910383263714,
          1.532708300802742
         ],
         "yaxis": "y"
        },
        {
         "hovertemplate": "Symbol=CLJ25<br>Time to Expiry=%{x}<br>Implied Volatility=%{y}<extra></extra>",
         "legendgroup": "CLJ25",
         "line": {
          "color": "#EF553B",
          "dash": "solid"
         },
         "marker": {
          "symbol": "circle"
         },
         "mode": "lines+markers",
         "name": "CLJ25",
         "showlegend": true,
         "type": "scattergl",
         "x": [
          0.1095890410958904,
          0.1095890410958904,
          0.1095890410958904,
          0.1095890410958904,
          0.1095890410958904,
          0.1095890410958904,
          0.1095890410958904,
          0.1095890410958904,
          0.1095890410958904,
          0.1095890410958904,
          0.1095890410958904,
          0.1095890410958904,
          0.1095890410958904,
          0.1095890410958904,
          0.1095890410958904,
          0.1095890410958904,
          0.1095890410958904,
          0.1095890410958904,
          0.1095890410958904,
          0.1095890410958904,
          0.1095890410958904,
          0.1095890410958904,
          0.1095890410958904,
          0.1095890410958904,
          0.1095890410958904,
          0.1095890410958904,
          0.1095890410958904,
          0.1095890410958904,
          0.1095890410958904,
          0.1095890410958904,
          0.1095890410958904,
          0.1095890410958904,
          0.1095890410958904,
          0.1095890410958904,
          0.1095890410958904,
          0.1095890410958904,
          0.1095890410958904,
          0.1095890410958904,
          0.1095890410958904,
          0.1095890410958904,
          0.1095890410958904,
          0.1095890410958904,
          0.1095890410958904,
          0.1095890410958904,
          0.1095890410958904,
          0.1095890410958904,
          0.1095890410958904,
          0.1095890410958904,
          0.1095890410958904,
          0.1095890410958904,
          0.1095890410958904,
          0.1095890410958904,
          0.1095890410958904,
          0.1095890410958904,
          0.1095890410958904,
          0.1095890410958904,
          0.1095890410958904,
          0.1095890410958904,
          0.1095890410958904,
          0.1095890410958904,
          0.1095890410958904,
          0.1095890410958904,
          0.1095890410958904,
          0.1095890410958904,
          0.1095890410958904,
          0.1095890410958904,
          0.1095890410958904,
          0.1095890410958904,
          0.1095890410958904,
          0.1095890410958904,
          0.1095890410958904,
          0.1095890410958904,
          0.1095890410958904,
          0.1095890410958904,
          0.1095890410958904,
          0.1095890410958904,
          0.1095890410958904,
          0.1095890410958904,
          0.1095890410958904,
          0.1095890410958904,
          0.1095890410958904,
          0.1095890410958904,
          0.1095890410958904,
          0.1095890410958904,
          0.1095890410958904,
          0.1095890410958904,
          0.1095890410958904,
          0.1095890410958904,
          0.1095890410958904,
          0.1095890410958904,
          0.1095890410958904,
          0.1095890410958904,
          0.1095890410958904,
          0.1095890410958904,
          0.1095890410958904,
          0.1095890410958904,
          0.1095890410958904,
          0.1095890410958904,
          0.1095890410958904,
          0.1095890410958904,
          0.1095890410958904,
          0.1095890410958904,
          0.1095890410958904,
          0.1095890410958904,
          0.1095890410958904,
          0.1095890410958904,
          0.1095890410958904,
          0.1095890410958904,
          0.1095890410958904,
          0.1095890410958904,
          0.1095890410958904,
          0.1095890410958904,
          0.1095890410958904,
          0.1095890410958904,
          0.1095890410958904,
          0.1095890410958904,
          0.1095890410958904,
          0.1095890410958904,
          0.1095890410958904,
          0.1095890410958904,
          0.1095890410958904,
          0.1095890410958904,
          0.1095890410958904,
          0.1095890410958904,
          0.1095890410958904,
          0.1095890410958904,
          0.1095890410958904,
          0.1095890410958904,
          0.1095890410958904,
          0.1095890410958904,
          0.1095890410958904,
          0.1095890410958904,
          0.1095890410958904,
          0.1095890410958904,
          0.1095890410958904,
          0.1095890410958904,
          0.1095890410958904,
          0.1095890410958904,
          0.1095890410958904,
          0.1095890410958904,
          0.1095890410958904,
          0.1095890410958904,
          0.1095890410958904,
          0.1095890410958904,
          0.1095890410958904,
          0.1095890410958904,
          0.1095890410958904,
          0.1095890410958904,
          0.1095890410958904,
          0.1095890410958904,
          0.1095890410958904,
          0.1095890410958904,
          0.1095890410958904,
          0.1095890410958904,
          0.1095890410958904,
          0.1095890410958904,
          0.1095890410958904,
          0.1095890410958904,
          0.1095890410958904,
          0.1095890410958904,
          0.1095890410958904,
          0.1095890410958904,
          0.1095890410958904,
          0.1095890410958904,
          0.1095890410958904,
          0.1095890410958904,
          0.1095890410958904,
          0.1095890410958904,
          0.1095890410958904,
          0.1095890410958904,
          0.1095890410958904,
          0.1095890410958904,
          0.1095890410958904,
          0.1095890410958904,
          0.1095890410958904,
          0.1095890410958904,
          0.1095890410958904,
          0.1095890410958904,
          0.1095890410958904,
          0.1095890410958904,
          0.1095890410958904,
          0.1095890410958904,
          0.1095890410958904,
          0.1095890410958904,
          0.1095890410958904,
          0.1095890410958904,
          0.1095890410958904,
          0.1095890410958904,
          0.1095890410958904,
          0.1095890410958904,
          0.1095890410958904,
          0.1095890410958904,
          0.1095890410958904,
          0.1095890410958904,
          0.1095890410958904,
          0.1095890410958904,
          0.1095890410958904,
          0.1095890410958904,
          0.1095890410958904,
          0.1095890410958904,
          0.1095890410958904,
          0.1095890410958904,
          0.1095890410958904,
          0.1095890410958904,
          0.1095890410958904,
          0.1095890410958904,
          0.1095890410958904,
          0.1095890410958904,
          0.1095890410958904,
          0.1095890410958904,
          0.1095890410958904,
          0.1095890410958904,
          0.1095890410958904,
          0.1095890410958904,
          0.1095890410958904,
          0.1095890410958904,
          0.1095890410958904,
          0.1095890410958904,
          0.1095890410958904,
          0.1095890410958904,
          0.1095890410958904,
          0.1095890410958904,
          0.1095890410958904,
          0.1095890410958904,
          0.1095890410958904,
          0.1095890410958904,
          0.1095890410958904,
          0.1095890410958904,
          0.1095890410958904,
          0.1095890410958904,
          0.1095890410958904,
          0.1095890410958904,
          0.1095890410958904,
          0.1095890410958904,
          0.1095890410958904,
          0.1095890410958904,
          0.1095890410958904,
          0.1095890410958904,
          0.1095890410958904,
          0.1095890410958904,
          0.1095890410958904,
          0.1095890410958904,
          0.1095890410958904,
          0.1095890410958904,
          0.1095890410958904,
          0.1095890410958904,
          0.1095890410958904,
          0.1095890410958904,
          0.1095890410958904,
          0.1095890410958904,
          0.1095890410958904,
          0.1095890410958904,
          0.1095890410958904,
          0.1095890410958904,
          0.1095890410958904,
          0.1095890410958904,
          0.1095890410958904,
          0.1095890410958904,
          0.1095890410958904,
          0.1095890410958904,
          0.1095890410958904,
          0.1095890410958904,
          0.1095890410958904,
          0.1095890410958904,
          0.1095890410958904,
          0.1095890410958904,
          0.1095890410958904,
          0.1095890410958904,
          0.1095890410958904,
          0.1095890410958904,
          0.1095890410958904,
          0.1095890410958904,
          0.1095890410958904,
          0.1095890410958904,
          0.1095890410958904,
          0.1095890410958904,
          0.1095890410958904,
          0.1095890410958904,
          0.1095890410958904,
          0.1095890410958904,
          0.1095890410958904,
          0.1095890410958904,
          0.1095890410958904,
          0.1095890410958904,
          0.1095890410958904,
          0.1095890410958904,
          0.1095890410958904,
          0.1095890410958904,
          0.1095890410958904,
          0.1095890410958904,
          0.1095890410958904,
          0.1095890410958904,
          0.1095890410958904,
          0.1095890410958904,
          0.1095890410958904,
          0.1095890410958904,
          0.1095890410958904,
          0.1095890410958904,
          0.1095890410958904
         ],
         "xaxis": "x",
         "y": [
          null,
          null,
          null,
          null,
          null,
          null,
          null,
          null,
          null,
          null,
          null,
          null,
          0.16453474336400736,
          0.20960600127352064,
          0.2237892770778646,
          0.23372520321332454,
          0.23846234601212235,
          0.24468260504779749,
          0.2474499142700895,
          0.2513747435787937,
          0.25265440829672314,
          0.25487801218204675,
          0.25631682938334066,
          0.25704212793856407,
          0.2571019232015469,
          0.256526650313972,
          0.25649058032048055,
          0.2557692069908788,
          0.2565739569582469,
          0.25664222934090275,
          0.25814561585076096,
          0.25895093264146135,
          0.25909980149085643,
          0.2607849437568953,
          0.2619273397622356,
          0.2625711909572981,
          0.26275408090633295,
          0.2625083477048629,
          0.2631134716219868,
          0.2660743607062258,
          0.2650056423736215,
          0.2651384691237671,
          0.26680061711845354,
          0.26714108253515767,
          0.2694962160822706,
          0.2706986937774526,
          0.27261059837137747,
          0.27551259652449694,
          0.27972506376030326,
          0.2832128580617836,
          0.2859197625400942,
          0.28776987025134,
          0.29162259305065563,
          0.2948555989871043,
          0.3007353755866099,
          0.30281103963984796,
          0.30786317027401655,
          0.308585453084693,
          0.31268636602449634,
          0.3163725119475986,
          0.3196142482801081,
          0.3223743150059239,
          0.33002002791813184,
          0.33208731758778676,
          0.3335604532276065,
          0.3408079872066371,
          0.34143747278919084,
          0.34845507745214144,
          0.3481180564756739,
          0.3549080003773478,
          0.3616385055407488,
          0.368310692460894,
          0.3664951722835146,
          0.3729474942887263,
          0.37934666073786777,
          0.3759283622421706,
          0.3821069087628649,
          0.3882366055430136,
          0.3943185144537931,
          0.40035339815713106,
          0.39450354908069935,
          0.40031774656655106,
          0.40608892274654224,
          0.4118177463844116,
          0.4175048446709242,
          0.4231510801296825,
          0.4287569817528519,
          0.4343232495465717,
          0.42455999931923893,
          0.42990423485107304,
          0.43521209217518686,
          0.4404841305416726,
          0.4457209029869439,
          0.4509229615908711,
          0.4560903618675221,
          0.4612243741812353,
          0.4663249980749172,
          0.47139280209015166,
          0.45515797781821726,
          0.4599889730609978,
          0.46479036592749995,
          0.4695616121001114,
          0.474303898549548,
          0.47901737283278006,
          0.48370240827428734,
          0.4883593699414908,
          0.4929885598123774,
          0.4975904663271238,
          0.5021653332530828,
          0.5067135015496471,
          0.5112353028849581,
          0.5157309000330517,
          0.5202012159993074,
          0.5246457375848693,
          0.5290652001509217,
          0.5334598638139256,
          0.5378300026585263,
          0.5421758320578285,
          0.5464978219084133,
          0.5143169145373148,
          0.5183678644120522,
          0.5223972089593936,
          0.526405147188591,
          0.5303924399653145,
          0.53435837089185,
          0.5383037604076885,
          0.5422287655028845,
          0.5461335590702726,
          0.5500183549275847,
          0.5538834284020893,
          0.5577286704519834,
          0.5615547939588849,
          0.5653616809525521,
          0.5729188450219328,
          0.5766691511302524,
          0.5804011775227174,
          0.5878107627508756,
          0.5914888978550845,
          0.5951488280363157,
          0.5987914082138986,
          0.6024168800400813,
          0.6060248872466136,
          0.609615954720927,
          0.6238129472625571,
          0.6411953524938659,
          0.6581890684289929,
          0.6748123406426758,
          0.6910805683406299,
          0.7070081353472634,
          0.7226095358557589,
          0.7378976206980581,
          0.7528846590800731,
          0.7675821218197927,
          0.7820009430295506,
          0.8100430388943256,
          0.8236851348292175,
          0.8370864485921835,
          0.850255082971803,
          0.8631989406482538,
          0.8759251501221913,
          0.8884412125522627,
          0.9007535554607656,
          0.9128691338442756,
          0.9365317937756698,
          0.959475557782956,
          0.9817411768158422,
          1.0033673789020499,
          1.3133836862180814,
          1.288760814392021,
          1.2647334172929459,
          1.174039232431423,
          1.152599597197528,
          1.1316105439074466,
          1.1110534914171892,
          1.0909098425614265,
          1.0711634187693113,
          1.0517979354048652,
          0.9958441975862687,
          0.9257577609132436,
          0.9089674069652662,
          0.8924493915579481,
          0.87619449718319,
          0.8601937009972008,
          0.8444393444672742,
          0.8289227700916162,
          0.8136365890505473,
          0.798573409068115,
          0.7837265936147,
          0.7690887397922436,
          0.7546545110733107,
          0.7404168989370634,
          0.7263705261830692,
          0.7125095452070211,
          0.6988290008111546,
          0.6853229496805844,
          0.6719869463570067,
          0.6588160470434475,
          0.6458056373829955,
          0.6329513028347489,
          0.6202486684925561,
          0.6076935984676284,
          0.6404003386416081,
          0.6273170112140485,
          0.6143777556936821,
          0.6015790583274637,
          0.5889167092626064,
          0.5763875549165026,
          0.563987644759716,
          0.5787205254762576,
          0.5660619825368062,
          0.5535270746368297,
          0.5411126178877961,
          0.528815225663036,
          0.5359562836106005,
          0.5235058316776612,
          0.5111659488555576,
          0.4989335836635199,
          0.5018247787978432,
          0.48949312632479486,
          0.4898709286066711,
          0.4774766368126385,
          0.4760216702189766,
          0.46358812199598975,
          0.4607261607712657,
          0.44826717610841743,
          0.4442842586036959,
          0.4318088971697457,
          0.426904045217458,
          0.4213057447495719,
          0.41511053381484764,
          0.40839331904868653,
          0.4065304460005102,
          0.3986173219224304,
          0.3949219121828881,
          0.37732960863975107,
          0.38099472715779753,
          0.3751488191597245,
          0.3720411848118576,
          0.3647474058728726,
          0.3598942211768407,
          0.3542062241824291,
          0.3503227147314732,
          0.3454398591866316,
          0.34187764962421,
          0.3372399556544265,
          0.33164012176915175,
          0.32880291610534007,
          0.3247457612911914,
          0.322800189324591,
          0.31950531549479344,
          0.31642493081588347,
          0.31481410892571765,
          0.31179001730343425,
          0.309964286887484,
          0.2982452658225407,
          0.3056504815212369,
          0.303095487819644,
          0.30245707562398305,
          0.30140231902539316,
          0.3010110489560253,
          0.30232421804923254,
          0.30213184548834643,
          0.3036684215219601,
          0.30483751322788566,
          0.3067672054616826,
          0.30843853737012494,
          0.30877375480211844,
          0.31005267578909357,
          0.31240851969473105,
          0.3147860980604308,
          0.3185242177638637,
          0.3212389832307787,
          0.3255952471534467,
          0.32906400773155015,
          0.33306864195981395,
          0.33924084494940276,
          0.34478884627024736,
          0.3497090716355334,
          0.3573025522052548,
          0.36277511559526615,
          0.37123564789161007,
          0.3775843630263097,
          0.3853789706198505,
          0.39287245400836746,
          0.40007017506860504,
          0.41564066726050225,
          0.4302763401835924,
          0.44623521266797506,
          0.4539543284299763,
          0.49500262465861006,
          0.5110553070393877,
          0.5201809188020572,
          0.553294211963886,
          0.5593663139204119,
          0.6319374338081034,
          0.6399944286999197,
          0.65594022545534,
          0.6716675238498993,
          1.5438366441906795
         ],
         "yaxis": "y"
        },
        {
         "hovertemplate": "Symbol=CLK25<br>Time to Expiry=%{x}<br>Implied Volatility=%{y}<extra></extra>",
         "legendgroup": "CLK25",
         "line": {
          "color": "#00cc96",
          "dash": "solid"
         },
         "marker": {
          "symbol": "circle"
         },
         "mode": "lines+markers",
         "name": "CLK25",
         "showlegend": true,
         "type": "scattergl",
         "x": [
          0.1917808219178082,
          0.1917808219178082,
          0.1917808219178082,
          0.1917808219178082,
          0.1917808219178082,
          0.1917808219178082,
          0.1917808219178082,
          0.1917808219178082,
          0.1917808219178082,
          0.1917808219178082,
          0.1917808219178082,
          0.1917808219178082,
          0.1917808219178082,
          0.1917808219178082,
          0.1917808219178082,
          0.1917808219178082,
          0.1917808219178082,
          0.1917808219178082,
          0.1917808219178082,
          0.1917808219178082,
          0.1917808219178082,
          0.1917808219178082,
          0.1917808219178082,
          0.1917808219178082,
          0.1917808219178082,
          0.1917808219178082,
          0.1917808219178082,
          0.1917808219178082,
          0.1917808219178082,
          0.1917808219178082,
          0.1917808219178082,
          0.1917808219178082,
          0.1917808219178082,
          0.1917808219178082,
          0.1917808219178082,
          0.1917808219178082,
          0.1917808219178082,
          0.1917808219178082,
          0.1917808219178082,
          0.1917808219178082,
          0.1917808219178082,
          0.1917808219178082,
          0.1917808219178082,
          0.1917808219178082,
          0.1917808219178082,
          0.1917808219178082,
          0.1917808219178082,
          0.1917808219178082,
          0.1917808219178082,
          0.1917808219178082,
          0.1917808219178082,
          0.1917808219178082,
          0.1917808219178082,
          0.1917808219178082,
          0.1917808219178082,
          0.1917808219178082,
          0.1917808219178082,
          0.1917808219178082,
          0.1917808219178082,
          0.1917808219178082,
          0.1917808219178082,
          0.1917808219178082,
          0.1917808219178082,
          0.1917808219178082,
          0.1917808219178082,
          0.1917808219178082,
          0.1917808219178082,
          0.1917808219178082,
          0.1917808219178082,
          0.1917808219178082,
          0.1917808219178082,
          0.1917808219178082,
          0.1917808219178082,
          0.1917808219178082,
          0.1917808219178082,
          0.1917808219178082,
          0.1917808219178082,
          0.1917808219178082,
          0.1917808219178082,
          0.1917808219178082,
          0.1917808219178082,
          0.1917808219178082,
          0.1917808219178082,
          0.1917808219178082,
          0.1917808219178082,
          0.1917808219178082,
          0.1917808219178082,
          0.1917808219178082,
          0.1917808219178082,
          0.1917808219178082,
          0.1917808219178082,
          0.1917808219178082,
          0.1917808219178082,
          0.1917808219178082,
          0.1917808219178082,
          0.1917808219178082,
          0.1917808219178082,
          0.1917808219178082,
          0.1917808219178082,
          0.1917808219178082,
          0.1917808219178082,
          0.1917808219178082,
          0.1917808219178082,
          0.1917808219178082,
          0.1917808219178082,
          0.1917808219178082,
          0.1917808219178082,
          0.1917808219178082,
          0.1917808219178082,
          0.1917808219178082,
          0.1917808219178082,
          0.1917808219178082,
          0.1917808219178082,
          0.1917808219178082,
          0.1917808219178082,
          0.1917808219178082,
          0.1917808219178082,
          0.1917808219178082,
          0.1917808219178082,
          0.1917808219178082,
          0.1917808219178082,
          0.1917808219178082,
          0.1917808219178082,
          0.1917808219178082,
          0.1917808219178082,
          0.1917808219178082,
          0.1917808219178082,
          0.1917808219178082,
          0.1917808219178082,
          0.1917808219178082,
          0.1917808219178082,
          0.1917808219178082,
          0.1917808219178082,
          0.1917808219178082,
          0.1917808219178082,
          0.1917808219178082,
          0.1917808219178082,
          0.1917808219178082,
          0.1917808219178082,
          0.1917808219178082,
          0.1917808219178082,
          0.1917808219178082,
          0.1917808219178082,
          0.1917808219178082,
          0.1917808219178082,
          0.1917808219178082,
          0.1917808219178082,
          0.1917808219178082,
          0.1917808219178082,
          0.1917808219178082,
          0.1917808219178082,
          0.1917808219178082,
          0.1917808219178082,
          0.1917808219178082,
          0.1917808219178082,
          0.1917808219178082,
          0.1917808219178082,
          0.1917808219178082,
          0.1917808219178082,
          0.1917808219178082,
          0.1917808219178082,
          0.1917808219178082,
          0.1917808219178082,
          0.1917808219178082,
          0.1917808219178082,
          0.1917808219178082,
          0.1917808219178082,
          0.1917808219178082,
          0.1917808219178082,
          0.1917808219178082,
          0.1917808219178082,
          0.1917808219178082,
          0.1917808219178082,
          0.1917808219178082,
          0.1917808219178082,
          0.1917808219178082,
          0.1917808219178082,
          0.1917808219178082,
          0.1917808219178082,
          0.1917808219178082,
          0.1917808219178082,
          0.1917808219178082,
          0.1917808219178082,
          0.1917808219178082,
          0.1917808219178082,
          0.1917808219178082,
          0.1917808219178082,
          0.1917808219178082,
          0.1917808219178082,
          0.1917808219178082,
          0.1917808219178082,
          0.1917808219178082,
          0.1917808219178082,
          0.1917808219178082,
          0.1917808219178082,
          0.1917808219178082,
          0.1917808219178082,
          0.1917808219178082,
          0.1917808219178082,
          0.1917808219178082,
          0.1917808219178082,
          0.1917808219178082,
          0.1917808219178082,
          0.1917808219178082,
          0.1917808219178082,
          0.1917808219178082,
          0.1917808219178082,
          0.1917808219178082,
          0.1917808219178082,
          0.1917808219178082,
          0.1917808219178082,
          0.1917808219178082,
          0.1917808219178082,
          0.1917808219178082,
          0.1917808219178082,
          0.1917808219178082,
          0.1917808219178082,
          0.1917808219178082,
          0.1917808219178082,
          0.1917808219178082,
          0.1917808219178082,
          0.1917808219178082,
          0.1917808219178082,
          0.1917808219178082,
          0.1917808219178082,
          0.1917808219178082,
          0.1917808219178082,
          0.1917808219178082,
          0.1917808219178082,
          0.1917808219178082,
          0.1917808219178082,
          0.1917808219178082,
          0.1917808219178082,
          0.1917808219178082,
          0.1917808219178082,
          0.1917808219178082,
          0.1917808219178082,
          0.1917808219178082,
          0.1917808219178082,
          0.1917808219178082,
          0.1917808219178082,
          0.1917808219178082,
          0.1917808219178082,
          0.1917808219178082,
          0.1917808219178082,
          0.1917808219178082,
          0.1917808219178082,
          0.1917808219178082,
          0.1917808219178082,
          0.1917808219178082,
          0.1917808219178082,
          0.1917808219178082,
          0.1917808219178082,
          0.1917808219178082,
          0.1917808219178082,
          0.1917808219178082,
          0.1917808219178082,
          0.1917808219178082,
          0.1917808219178082,
          0.1917808219178082,
          0.1917808219178082,
          0.1917808219178082,
          0.1917808219178082,
          0.1917808219178082,
          0.1917808219178082,
          0.1917808219178082,
          0.1917808219178082,
          0.1917808219178082,
          0.1917808219178082,
          0.1917808219178082,
          0.1917808219178082,
          0.1917808219178082,
          0.1917808219178082,
          0.1917808219178082,
          0.1917808219178082,
          0.1917808219178082,
          0.1917808219178082,
          0.1917808219178082,
          0.1917808219178082,
          0.1917808219178082,
          0.1917808219178082,
          0.1917808219178082,
          0.1917808219178082,
          0.1917808219178082,
          0.1917808219178082,
          0.1917808219178082,
          0.1917808219178082,
          0.1917808219178082,
          0.1917808219178082,
          0.1917808219178082,
          0.1917808219178082,
          0.1917808219178082,
          0.1917808219178082,
          0.1917808219178082,
          0.1917808219178082,
          0.1917808219178082,
          0.1917808219178082,
          0.1917808219178082,
          0.1917808219178082,
          0.1917808219178082,
          0.1917808219178082,
          0.1917808219178082,
          0.1917808219178082,
          0.1917808219178082,
          0.1917808219178082
         ],
         "xaxis": "x",
         "y": [
          null,
          null,
          null,
          null,
          null,
          null,
          null,
          null,
          null,
          null,
          null,
          0.23123478492384772,
          0.23910169702019846,
          0.24591703770840345,
          0.24784019765002913,
          0.25180970062907726,
          0.25382062430388214,
          0.25579912189637694,
          0.25767561217279705,
          0.25940638428424245,
          0.2597673482914023,
          0.2612148339665587,
          0.2603151335300585,
          0.26043699030646117,
          0.2604288346014873,
          0.2602764669837385,
          0.2599690083047199,
          0.2594987875615467,
          0.2597235615398069,
          0.2597375359001123,
          0.25954774944501013,
          0.25915929169494023,
          0.2585766953089204,
          0.25861612765704994,
          0.25846767858304426,
          0.2589574144623393,
          0.25929415593025823,
          0.25867049104057727,
          0.25959249840853615,
          0.2595981738322747,
          0.2595404161697654,
          0.26034161925629223,
          0.2602698999863364,
          0.2611814640323873,
          0.2622360722035775,
          0.26248484540217915,
          0.26398314151254015,
          0.2647464012763253,
          0.26586869865774504,
          0.2662610827019445,
          0.2683558521127631,
          0.26984644119554646,
          0.27069654314179736,
          0.27228556374906954,
          0.2747733863844538,
          0.27677441703226247,
          0.27825969607357653,
          0.28091498118493935,
          0.2831549350734515,
          0.28495540066965314,
          0.28628611305590107,
          0.2892056087303214,
          0.2917989111548466,
          0.29404952939833756,
          0.2959369013286706,
          0.2999467081497469,
          0.30117112391517054,
          0.3047130100218603,
          0.3080567495388004,
          0.31409766522336374,
          0.3141275412109869,
          0.31684042733033596,
          0.31932685434374436,
          0.32157542777027326,
          0.32357309422395336,
          0.3290593434663429,
          0.33070002421225864,
          0.3320548384704161,
          0.33731554343013914,
          0.3382719193996396,
          0.3434009174586868,
          0.34848803629825786,
          0.35353385721615194,
          0.35389095456253833,
          0.35386882972222616,
          0.3587049503678312,
          0.363504028001376,
          0.36288308279774406,
          0.3675612165552395,
          0.37220455967281446,
          0.37681409319943004,
          0.37544472313759264,
          0.37993730735786124,
          0.38439796038500645,
          0.3822745133182779,
          0.3866197965478713,
          0.3909347681981753,
          0.39522055774547826,
          0.3921309618788337,
          0.39630256185992485,
          0.4004469091380437,
          0.40456380158413385,
          0.40032067564973456,
          0.40432361059466937,
          0.40830093149049396,
          0.412253107585384,
          0.41618039205490814,
          0.41040609090009317,
          0.4142184942374846,
          0.41800742399984747,
          0.4217737245144422,
          0.42551708931837245,
          0.43293679710180916,
          0.4249599515910028,
          0.4285421931812083,
          0.432103679689889,
          0.43564466449597955,
          0.43916539757802453,
          0.44266612640924785,
          0.44614709692444277,
          0.44960855444583925,
          0.4564733429592512,
          0.4598774072033994,
          0.46326280516234647,
          0.4549335506806545,
          0.4581833008078658,
          0.4614157728195275,
          0.4646311500134241,
          0.46782956651799035,
          0.47101176381713245,
          0.47732574739443623,
          0.48045846707590234,
          0.4835751673443326,
          0.4866760146913234,
          0.4928308028323624,
          0.49588506305150437,
          0.4989240861188213,
          0.501948081260344,
          0.5079514811393038,
          0.48985099174824687,
          0.49272201336022664,
          0.506873539337975,
          0.5206975109058717,
          0.5342088482828999,
          0.5474214725615744,
          0.5603482114774412,
          0.5374977175058099,
          0.5492861968547846,
          0.5608380999216982,
          0.5721628504782291,
          0.5832687809770294,
          0.5941641908602656,
          0.6048572830015995,
          0.6153549805356477,
          0.6256639309407366,
          0.6357911092051742,
          0.6457425894598967,
          0.6555244659428248,
          0.6651416624451232,
          0.6746003227382834,
          0.6930609546193451,
          0.7109437790770405,
          0.7282833172924545,
          0.74511085496047,
          0.7614554323528007,
          0.9536693728341658,
          0.8850840895999936,
          0.8688706507560576,
          0.8529978750338175,
          0.8374519017208526,
          0.8222185725663655,
          0.8072856926746045,
          0.7926408746398855,
          0.7782729444322043,
          0.7641713219662508,
          0.7503259976348995,
          0.7367272502485045,
          0.7233661553348326,
          0.7102341243478015,
          0.6973232440312647,
          0.6846252977097167,
          0.6721334223314643,
          0.7077928781737329,
          0.6948959911282444,
          0.6696908660470167,
          0.6573699614951775,
          0.6452288534858813,
          0.6332617789233472,
          0.6214636602553277,
          0.6382437065397393,
          0.62629420154813,
          0.6145047975708893,
          0.6028707074540279,
          0.6122237790671706,
          0.6005379298054203,
          0.5889985332493664,
          0.5776011630817033,
          0.5826707058841242,
          0.5712692162574668,
          0.5600011516353128,
          0.5488627257341578,
          0.5511406191870818,
          0.540022102797745,
          0.5405010067154242,
          0.5294233188121319,
          0.5184623384391194,
          0.517522214271872,
          0.5066106685329382,
          0.5046235947147458,
          0.49376986796819505,
          0.4909410500149588,
          0.48015018746176424,
          0.4766293694809033,
          0.46590366687088686,
          0.4552725879905869,
          0.4572344701815198,
          0.45225593546038495,
          0.4469174613858807,
          0.4362002404944439,
          0.43531340224990767,
          0.4291094218598086,
          0.42267052314943104,
          0.41601734773984866,
          0.4091663163716595,
          0.4057726655034208,
          0.40182003850109393,
          0.39417337338117836,
          0.3894716372548158,
          0.38435583313440785,
          0.38157567451195223,
          0.37560980028887775,
          0.3717629992771485,
          0.36965117706636347,
          0.3646846188289205,
          0.3613153277802569,
          0.3573527616034345,
          0.35285260521366696,
          0.34957460923062905,
          0.34567625496108173,
          0.34275276327108045,
          0.33916144720047475,
          0.3363520067928825,
          0.3328518369011358,
          0.32998299168855927,
          0.32762680778740294,
          0.3245221163324158,
          0.32294950656708965,
          0.3205580788765196,
          0.3184362544629189,
          0.3155290964784483,
          0.3128454759617322,
          0.31127156690221264,
          0.30977687189067754,
          0.3083337908056709,
          0.30691923574750407,
          0.30551455682030243,
          0.3041043981760177,
          0.30350681498094756,
          0.30286471803914744,
          0.30217790130342864,
          0.30226001724994284,
          0.3022989178720928,
          0.3023059627130689,
          0.30229392979580677,
          0.3030988726851268,
          0.3031025705329888,
          0.3039788827684908,
          0.30578536857173405,
          0.30686634788752426,
          0.30809635712920624,
          0.3104114783786283,
          0.31208177034255274,
          0.3140359670860395,
          0.3163279547312519,
          0.3190178182458368,
          0.32217011982377597,
          0.3248236448683375,
          0.3280304447429366,
          0.3318668985781547,
          0.34328835990169854,
          0.352331487042845,
          0.36765341916427524,
          0.3780892211570945,
          0.433545288183927,
          0.4466811696761065,
          0.45785126769890205,
          0.46498724154805193,
          0.47566658882354246,
          0.4877652371968348,
          0.494600356912863,
          0.5013849166889279,
          0.5130123351948052,
          0.5196427997395169,
          0.5374195029437926,
          0.5778184144280522,
          0.5900660640068682,
          0.5961337056095009,
          0.6021646757985074,
          0.6081593468654501,
          0.6200432178888005,
          0.6259329732850604,
          0.6317887631831774,
          0.6376110697218047,
          0.6434003668718024,
          0.6491569117097322
         ],
         "yaxis": "y"
        },
        {
         "hovertemplate": "Symbol=CLM25<br>Time to Expiry=%{x}<br>Implied Volatility=%{y}<extra></extra>",
         "legendgroup": "CLM25",
         "line": {
          "color": "#ab63fa",
          "dash": "solid"
         },
         "marker": {
          "symbol": "circle"
         },
         "mode": "lines+markers",
         "name": "CLM25",
         "showlegend": true,
         "type": "scattergl",
         "x": [
          0.27123287671232876,
          0.27123287671232876,
          0.27123287671232876,
          0.27123287671232876,
          0.27123287671232876,
          0.27123287671232876,
          0.27123287671232876,
          0.27123287671232876,
          0.27123287671232876,
          0.27123287671232876,
          0.27123287671232876,
          0.27123287671232876,
          0.27123287671232876,
          0.27123287671232876,
          0.27123287671232876,
          0.27123287671232876,
          0.27123287671232876,
          0.27123287671232876,
          0.27123287671232876,
          0.27123287671232876,
          0.27123287671232876,
          0.27123287671232876,
          0.27123287671232876,
          0.27123287671232876,
          0.27123287671232876,
          0.27123287671232876,
          0.27123287671232876,
          0.27123287671232876,
          0.27123287671232876,
          0.27123287671232876,
          0.27123287671232876,
          0.27123287671232876,
          0.27123287671232876,
          0.27123287671232876,
          0.27123287671232876,
          0.27123287671232876,
          0.27123287671232876,
          0.27123287671232876,
          0.27123287671232876,
          0.27123287671232876,
          0.27123287671232876,
          0.27123287671232876,
          0.27123287671232876,
          0.27123287671232876,
          0.27123287671232876,
          0.27123287671232876,
          0.27123287671232876,
          0.27123287671232876,
          0.27123287671232876,
          0.27123287671232876,
          0.27123287671232876,
          0.27123287671232876,
          0.27123287671232876,
          0.27123287671232876,
          0.27123287671232876,
          0.27123287671232876,
          0.27123287671232876,
          0.27123287671232876,
          0.27123287671232876,
          0.27123287671232876,
          0.27123287671232876,
          0.27123287671232876,
          0.27123287671232876,
          0.27123287671232876,
          0.27123287671232876,
          0.27123287671232876,
          0.27123287671232876,
          0.27123287671232876,
          0.27123287671232876,
          0.27123287671232876,
          0.27123287671232876,
          0.27123287671232876,
          0.27123287671232876,
          0.27123287671232876,
          0.27123287671232876,
          0.27123287671232876,
          0.27123287671232876,
          0.27123287671232876,
          0.27123287671232876,
          0.27123287671232876,
          0.27123287671232876,
          0.27123287671232876,
          0.27123287671232876,
          0.27123287671232876,
          0.27123287671232876,
          0.27123287671232876,
          0.27123287671232876,
          0.27123287671232876,
          0.27123287671232876,
          0.27123287671232876,
          0.27123287671232876,
          0.27123287671232876,
          0.27123287671232876,
          0.27123287671232876,
          0.27123287671232876,
          0.27123287671232876,
          0.27123287671232876,
          0.27123287671232876,
          0.27123287671232876,
          0.27123287671232876,
          0.27123287671232876,
          0.27123287671232876,
          0.27123287671232876,
          0.27123287671232876,
          0.27123287671232876,
          0.27123287671232876,
          0.27123287671232876,
          0.27123287671232876,
          0.27123287671232876,
          0.27123287671232876,
          0.27123287671232876,
          0.27123287671232876,
          0.27123287671232876,
          0.27123287671232876,
          0.27123287671232876,
          0.27123287671232876,
          0.27123287671232876,
          0.27123287671232876,
          0.27123287671232876,
          0.27123287671232876,
          0.27123287671232876,
          0.27123287671232876,
          0.27123287671232876,
          0.27123287671232876,
          0.27123287671232876,
          0.27123287671232876,
          0.27123287671232876,
          0.27123287671232876,
          0.27123287671232876,
          0.27123287671232876,
          0.27123287671232876,
          0.27123287671232876,
          0.27123287671232876,
          0.27123287671232876,
          0.27123287671232876,
          0.27123287671232876,
          0.27123287671232876,
          0.27123287671232876,
          0.27123287671232876,
          0.27123287671232876,
          0.27123287671232876,
          0.27123287671232876,
          0.27123287671232876,
          0.27123287671232876,
          0.27123287671232876,
          0.27123287671232876,
          0.27123287671232876,
          0.27123287671232876,
          0.27123287671232876,
          0.27123287671232876,
          0.27123287671232876,
          0.27123287671232876,
          0.27123287671232876,
          0.27123287671232876,
          0.27123287671232876,
          0.27123287671232876,
          0.27123287671232876,
          0.27123287671232876,
          0.27123287671232876,
          0.27123287671232876,
          0.27123287671232876,
          0.27123287671232876,
          0.27123287671232876,
          0.27123287671232876,
          0.27123287671232876,
          0.27123287671232876,
          0.27123287671232876,
          0.27123287671232876,
          0.27123287671232876,
          0.27123287671232876,
          0.27123287671232876,
          0.27123287671232876,
          0.27123287671232876,
          0.27123287671232876,
          0.27123287671232876,
          0.27123287671232876,
          0.27123287671232876,
          0.27123287671232876,
          0.27123287671232876,
          0.27123287671232876,
          0.27123287671232876,
          0.27123287671232876,
          0.27123287671232876,
          0.27123287671232876,
          0.27123287671232876,
          0.27123287671232876,
          0.27123287671232876,
          0.27123287671232876,
          0.27123287671232876,
          0.27123287671232876,
          0.27123287671232876,
          0.27123287671232876,
          0.27123287671232876,
          0.27123287671232876,
          0.27123287671232876,
          0.27123287671232876,
          0.27123287671232876,
          0.27123287671232876,
          0.27123287671232876,
          0.27123287671232876,
          0.27123287671232876,
          0.27123287671232876,
          0.27123287671232876,
          0.27123287671232876,
          0.27123287671232876,
          0.27123287671232876,
          0.27123287671232876,
          0.27123287671232876,
          0.27123287671232876,
          0.27123287671232876,
          0.27123287671232876,
          0.27123287671232876,
          0.27123287671232876,
          0.27123287671232876,
          0.27123287671232876,
          0.27123287671232876,
          0.27123287671232876,
          0.27123287671232876,
          0.27123287671232876,
          0.27123287671232876,
          0.27123287671232876,
          0.27123287671232876,
          0.27123287671232876,
          0.27123287671232876,
          0.27123287671232876,
          0.27123287671232876,
          0.27123287671232876,
          0.27123287671232876,
          0.27123287671232876,
          0.27123287671232876,
          0.27123287671232876,
          0.27123287671232876,
          0.27123287671232876,
          0.27123287671232876,
          0.27123287671232876,
          0.27123287671232876,
          0.27123287671232876,
          0.27123287671232876,
          0.27123287671232876,
          0.27123287671232876,
          0.27123287671232876,
          0.27123287671232876,
          0.27123287671232876,
          0.27123287671232876,
          0.27123287671232876,
          0.27123287671232876,
          0.27123287671232876,
          0.27123287671232876,
          0.27123287671232876,
          0.27123287671232876,
          0.27123287671232876,
          0.27123287671232876,
          0.27123287671232876,
          0.27123287671232876,
          0.27123287671232876,
          0.27123287671232876,
          0.27123287671232876,
          0.27123287671232876,
          0.27123287671232876,
          0.27123287671232876,
          0.27123287671232876,
          0.27123287671232876,
          0.27123287671232876,
          0.27123287671232876,
          0.27123287671232876,
          0.27123287671232876,
          0.27123287671232876,
          0.27123287671232876,
          0.27123287671232876,
          0.27123287671232876,
          0.27123287671232876,
          0.27123287671232876,
          0.27123287671232876,
          0.27123287671232876,
          0.27123287671232876,
          0.27123287671232876,
          0.27123287671232876,
          0.27123287671232876,
          0.27123287671232876,
          0.27123287671232876,
          0.27123287671232876,
          0.27123287671232876,
          0.27123287671232876,
          0.27123287671232876,
          0.27123287671232876,
          0.27123287671232876,
          0.27123287671232876,
          0.27123287671232876,
          0.27123287671232876,
          0.27123287671232876,
          0.27123287671232876,
          0.27123287671232876,
          0.27123287671232876,
          0.27123287671232876,
          0.27123287671232876,
          0.27123287671232876,
          0.27123287671232876,
          0.27123287671232876,
          0.27123287671232876,
          0.27123287671232876,
          0.27123287671232876,
          0.27123287671232876,
          0.27123287671232876,
          0.27123287671232876,
          0.27123287671232876,
          0.27123287671232876,
          0.27123287671232876,
          0.27123287671232876,
          0.27123287671232876,
          0.27123287671232876,
          0.27123287671232876,
          0.27123287671232876,
          0.27123287671232876,
          0.27123287671232876,
          0.27123287671232876
         ],
         "xaxis": "x",
         "y": [
          null,
          null,
          null,
          null,
          null,
          null,
          null,
          null,
          null,
          null,
          null,
          0.2114785504401582,
          0.22402978039290283,
          0.23148488436459866,
          0.23601485528568386,
          0.24047635714902477,
          0.24476784550602998,
          0.24733180476885783,
          0.24854898929369842,
          0.2512435671654351,
          0.25146743906437435,
          0.2530129769904185,
          0.2534989258176141,
          0.254063697832047,
          0.2546651915142355,
          0.2552729471585646,
          0.25499737026491004,
          0.2547551229730723,
          0.25533064361796765,
          0.2550660748844243,
          0.25478381243561793,
          0.2544728465374304,
          0.2541257299684794,
          0.25445303100239486,
          0.2540093813231429,
          0.25352116840929456,
          0.25368027175008806,
          0.2537880555340984,
          0.2531660110906848,
          0.2531963985550486,
          0.25320178946994115,
          0.2531940740059232,
          0.2531871808530736,
          0.25319616127482364,
          0.2532394481798295,
          0.2533373994153577,
          0.25351388428727445,
          0.2537958799292899,
          0.25421504957333146,
          0.25480770037717926,
          0.2556147570248713,
          0.2566838645570228,
          0.25720237595052675,
          0.2580418899977795,
          0.259264991067401,
          0.2599859940145994,
          0.26117228283088373,
          0.2618786506133814,
          0.26421386854811546,
          0.26507672658248294,
          0.2666203902026353,
          0.2677616137782277,
          0.26972228529603953,
          0.27133779251689444,
          0.2739315419521584,
          0.27625191500807506,
          0.2782904264576095,
          0.2800358946424439,
          0.2814746433337845,
          0.2842058131684502,
          0.2867245768974622,
          0.28902629024963533,
          0.2911032575813739,
          0.29294674641811513,
          0.2964655113867312,
          0.29789019055274035,
          0.30110756879188433,
          0.30419726976998956,
          0.30498414649700717,
          0.3077511509698178,
          0.31038266982311513,
          0.31287577866954,
          0.31522726360201697,
          0.3174333334902366,
          0.31948951954132193,
          0.3213910337694336,
          0.3259347883374361,
          0.3276121187415467,
          0.3291220457556472,
          0.33350442765323784,
          0.33477737935064095,
          0.335865407631563,
          0.34009218712627626,
          0.34092377936425733,
          0.34505879221924207,
          0.34562136912681624,
          0.34966677226473497,
          0.34994467031136767,
          0.353902668484666,
          0.35783182137626235,
          0.357748341061479,
          0.36159264514960343,
          0.36541015879490335,
          0.368677458075848,
          0.37238694250053056,
          0.37150551682664884,
          0.37513471912716695,
          0.37873988003813186,
          0.3823214083090659,
          0.38093271314511273,
          0.38443610994938493,
          0.3879171852867894,
          0.39137603682223276,
          0.3894306726477018,
          0.3928135705819059,
          0.3961754953669577,
          0.39951673294617274,
          0.402837784378342,
          0.4002147365189701,
          0.40346149290009986,
          0.409897470980538,
          0.4130870785381388,
          0.4096949441709675,
          0.4128116815848926,
          0.41591079077688764,
          0.4189921151858774,
          0.42205597426680164,
          0.41776551378544,
          0.4207570488795899,
          0.4266908826000785,
          0.42963337027639537,
          0.4299805924443826,
          0.4328197581666842,
          0.43564389806113385,
          0.4384531744980211,
          0.44124774723443344,
          0.44402777354930384,
          0.44679340838146847,
          0.44954480446499695,
          0.4425011959298762,
          0.4451810156695418,
          0.4478473400272571,
          0.455766278723401,
          0.45837991921646165,
          0.46098065655110804,
          0.46356867535840623,
          0.46614410059862377,
          0.4687070552653155,
          0.46192401626535473,
          0.47420278893915646,
          0.48620013204284485,
          0.48284234162868567,
          0.4940511757920832,
          0.5050207329376368,
          0.5157612461272283,
          0.5262815406806085,
          0.5155438341983237,
          0.5253471847567107,
          0.5349625445886005,
          0.5443974252254737,
          0.5536578984922703,
          0.5627501798057384,
          0.5716804084287828,
          0.5804540967551073,
          0.5890764896624315,
          0.5975526498434247,
          0.6058873892901415,
          0.5779581609592467,
          0.5856542905627027,
          0.6006863548344199,
          0.6152619689410893,
          0.6294074224280747,
          0.6431468620934695,
          0.8149034223364086,
          0.7996186846050654,
          0.7701149841104993,
          0.7558632293881028,
          0.7419248337524235,
          0.7282862247644643,
          0.7149339335348548,
          0.7018565811078624,
          0.689042277878977,
          0.6764805311926664,
          0.6641611972918299,
          0.6520748019301141,
          0.6862007342739134,
          0.673783645333179,
          0.6615882548089143,
          0.6496064021371095,
          0.6262527153093337,
          0.642997543473618,
          0.6313329432118112,
          0.61985433607032,
          0.6085559257870963,
          0.5974312060902384,
          0.6067563128811096,
          0.5956300219881167,
          0.5846664149849373,
          0.590026405835285,
          0.5791078899499678,
          0.5683406549801401,
          0.5711157602419875,
          0.5604180257234048,
          0.5614334291087589,
          0.5508234242584804,
          0.540348285834959,
          0.5400128836659173,
          0.5296307014600127,
          0.5282902014742304,
          0.5180074497441406,
          0.5158675376924677,
          0.5130869291173745,
          0.5028982785979837,
          0.49957625423953844,
          0.48949627877821505,
          0.48572054044447277,
          0.48155641654433073,
          0.4715870345133815,
          0.4670908547021891,
          0.46229891390999117,
          0.4572449901006362,
          0.4519562385902782,
          0.44645702803358334,
          0.4407672270195026,
          0.43490461686675286,
          0.42888416896040665,
          0.4227189589684538,
          0.41979926579927246,
          0.4132444019318699,
          0.4096417769552015,
          0.4056604838592295,
          0.39580769975303826,
          0.39671424959107643,
          0.39180903083390906,
          0.38664878748522935,
          0.38349497367389007,
          0.37778819563915256,
          0.3739254320230969,
          0.37162723115482915,
          0.36698672562744217,
          0.3637951210629034,
          0.3601715874073344,
          0.3561539975176718,
          0.35328372943932906,
          0.3499451583183955,
          0.34617698206498443,
          0.34332811914858885,
          0.3400005668096235,
          0.3374366117106197,
          0.33436443805063737,
          0.33193000585319116,
          0.3289717518611976,
          0.32655072759092707,
          0.3235989200251377,
          0.3211028779340298,
          0.31899544234928434,
          0.31721805207982146,
          0.3148566783361658,
          0.31278314961522613,
          0.3109548192365968,
          0.3093358446169606,
          0.30789547890401514,
          0.30660859128089063,
          0.30545383743301474,
          0.30368144395447255,
          0.30275406942566724,
          0.30191576867642395,
          0.30115842644433843,
          0.30047686065238205,
          0.2998681643547568,
          0.29933178149023526,
          0.29886881015666455,
          0.29916954661594053,
          0.29886725185796303,
          0.2993466609549757,
          0.2992413357084522,
          0.2999498273959363,
          0.3000956065026171,
          0.30110182636943505,
          0.30229349660146704,
          0.3029666990843384,
          0.30460063787478964,
          0.3065066714424833,
          0.30795503546186576,
          0.3097220570158127,
          0.31184685240159477,
          0.31437111927479944,
          0.31651590514731043,
          0.31912019484852144,
          0.3222325592457456,
          0.32502957339274063,
          0.3284027011237045,
          0.33149637742810817,
          0.3352386285084386,
          0.33873947201141547,
          0.3419996298598659,
          0.34600315240693563,
          0.349805879891603,
          0.354427537486787,
          0.3588878647266071,
          0.38108881538126865,
          0.3857976966092668,
          0.404721011629862,
          0.43963459547437356,
          0.44451753991023757,
          0.4554040726043928,
          0.47521465714305033,
          0.48986393665767014,
          0.49557473085647896,
          0.5054863632991081,
          0.5262345789574846,
          0.5570088311248683,
          0.5917089049929033,
          0.5967611718391891,
          0.6017862279322039
         ],
         "yaxis": "y"
        },
        {
         "hovertemplate": "Symbol=CLN25<br>Time to Expiry=%{x}<br>Implied Volatility=%{y}<extra></extra>",
         "legendgroup": "CLN25",
         "line": {
          "color": "#FFA15A",
          "dash": "solid"
         },
         "marker": {
          "symbol": "circle"
         },
         "mode": "lines+markers",
         "name": "CLN25",
         "showlegend": true,
         "type": "scattergl",
         "x": [
          0.3589041095890411,
          0.3589041095890411,
          0.3589041095890411,
          0.3589041095890411,
          0.3589041095890411,
          0.3589041095890411,
          0.3589041095890411,
          0.3589041095890411,
          0.3589041095890411,
          0.3589041095890411,
          0.3589041095890411,
          0.3589041095890411,
          0.3589041095890411,
          0.3589041095890411,
          0.3589041095890411,
          0.3589041095890411,
          0.3589041095890411,
          0.3589041095890411,
          0.3589041095890411,
          0.3589041095890411,
          0.3589041095890411,
          0.3589041095890411,
          0.3589041095890411,
          0.3589041095890411,
          0.3589041095890411,
          0.3589041095890411,
          0.3589041095890411,
          0.3589041095890411,
          0.3589041095890411,
          0.3589041095890411,
          0.3589041095890411,
          0.3589041095890411,
          0.3589041095890411,
          0.3589041095890411,
          0.3589041095890411,
          0.3589041095890411,
          0.3589041095890411,
          0.3589041095890411,
          0.3589041095890411,
          0.3589041095890411,
          0.3589041095890411,
          0.3589041095890411,
          0.3589041095890411,
          0.3589041095890411,
          0.3589041095890411,
          0.3589041095890411,
          0.3589041095890411,
          0.3589041095890411,
          0.3589041095890411,
          0.3589041095890411,
          0.3589041095890411,
          0.3589041095890411,
          0.3589041095890411,
          0.3589041095890411,
          0.3589041095890411,
          0.3589041095890411,
          0.3589041095890411,
          0.3589041095890411,
          0.3589041095890411,
          0.3589041095890411,
          0.3589041095890411,
          0.3589041095890411,
          0.3589041095890411,
          0.3589041095890411,
          0.3589041095890411,
          0.3589041095890411,
          0.3589041095890411,
          0.3589041095890411,
          0.3589041095890411,
          0.3589041095890411,
          0.3589041095890411,
          0.3589041095890411,
          0.3589041095890411,
          0.3589041095890411,
          0.3589041095890411,
          0.3589041095890411,
          0.3589041095890411,
          0.3589041095890411,
          0.3589041095890411,
          0.3589041095890411,
          0.3589041095890411,
          0.3589041095890411,
          0.3589041095890411,
          0.3589041095890411,
          0.3589041095890411,
          0.3589041095890411,
          0.3589041095890411,
          0.3589041095890411,
          0.3589041095890411,
          0.3589041095890411,
          0.3589041095890411,
          0.3589041095890411,
          0.3589041095890411,
          0.3589041095890411,
          0.3589041095890411,
          0.3589041095890411,
          0.3589041095890411,
          0.3589041095890411,
          0.3589041095890411,
          0.3589041095890411,
          0.3589041095890411,
          0.3589041095890411,
          0.3589041095890411,
          0.3589041095890411,
          0.3589041095890411,
          0.3589041095890411,
          0.3589041095890411,
          0.3589041095890411,
          0.3589041095890411,
          0.3589041095890411,
          0.3589041095890411,
          0.3589041095890411,
          0.3589041095890411,
          0.3589041095890411,
          0.3589041095890411,
          0.3589041095890411,
          0.3589041095890411,
          0.3589041095890411,
          0.3589041095890411,
          0.3589041095890411,
          0.3589041095890411,
          0.3589041095890411,
          0.3589041095890411,
          0.3589041095890411,
          0.3589041095890411,
          0.3589041095890411,
          0.3589041095890411,
          0.3589041095890411,
          0.3589041095890411,
          0.3589041095890411,
          0.3589041095890411,
          0.3589041095890411,
          0.3589041095890411,
          0.3589041095890411,
          0.3589041095890411,
          0.3589041095890411,
          0.3589041095890411,
          0.3589041095890411,
          0.3589041095890411,
          0.3589041095890411,
          0.3589041095890411,
          0.3589041095890411,
          0.3589041095890411,
          0.3589041095890411,
          0.3589041095890411,
          0.3589041095890411,
          0.3589041095890411,
          0.3589041095890411,
          0.3589041095890411,
          0.3589041095890411,
          0.3589041095890411,
          0.3589041095890411,
          0.3589041095890411,
          0.3589041095890411,
          0.3589041095890411,
          0.3589041095890411,
          0.3589041095890411,
          0.3589041095890411,
          0.3589041095890411,
          0.3589041095890411,
          0.3589041095890411,
          0.3589041095890411,
          0.3589041095890411,
          0.3589041095890411,
          0.3589041095890411,
          0.3589041095890411,
          0.3589041095890411,
          0.3589041095890411,
          0.3589041095890411,
          0.3589041095890411,
          0.3589041095890411,
          0.3589041095890411,
          0.3589041095890411,
          0.3589041095890411,
          0.3589041095890411,
          0.3589041095890411,
          0.3589041095890411,
          0.3589041095890411,
          0.3589041095890411,
          0.3589041095890411,
          0.3589041095890411,
          0.3589041095890411,
          0.3589041095890411,
          0.3589041095890411,
          0.3589041095890411,
          0.3589041095890411,
          0.3589041095890411,
          0.3589041095890411,
          0.3589041095890411,
          0.3589041095890411,
          0.3589041095890411,
          0.3589041095890411,
          0.3589041095890411,
          0.3589041095890411,
          0.3589041095890411,
          0.3589041095890411,
          0.3589041095890411,
          0.3589041095890411,
          0.3589041095890411,
          0.3589041095890411,
          0.3589041095890411,
          0.3589041095890411,
          0.3589041095890411,
          0.3589041095890411,
          0.3589041095890411,
          0.3589041095890411,
          0.3589041095890411,
          0.3589041095890411,
          0.3589041095890411,
          0.3589041095890411,
          0.3589041095890411,
          0.3589041095890411,
          0.3589041095890411,
          0.3589041095890411,
          0.3589041095890411,
          0.3589041095890411,
          0.3589041095890411,
          0.3589041095890411,
          0.3589041095890411,
          0.3589041095890411,
          0.3589041095890411,
          0.3589041095890411,
          0.3589041095890411,
          0.3589041095890411,
          0.3589041095890411,
          0.3589041095890411,
          0.3589041095890411,
          0.3589041095890411,
          0.3589041095890411,
          0.3589041095890411,
          0.3589041095890411,
          0.3589041095890411,
          0.3589041095890411,
          0.3589041095890411
         ],
         "xaxis": "x",
         "y": [
          null,
          null,
          null,
          null,
          null,
          null,
          null,
          null,
          null,
          null,
          0.24379727851193234,
          0.24538053095135925,
          0.24916446223429925,
          0.24953364032923808,
          0.24997660490785292,
          0.25047258835411673,
          0.25028898787068127,
          0.2501736969675477,
          0.25078982535487093,
          0.25075327852378815,
          0.2507520964486849,
          0.25014362771027443,
          0.2502079651176233,
          0.24967666026766863,
          0.24918207437060555,
          0.248722088377663,
          0.24829543997198,
          0.24790369876988566,
          0.24815034373054676,
          0.2478391355284731,
          0.24757799019191487,
          0.24737479661263218,
          0.247849554054568,
          0.24780032926475,
          0.2478466016914787,
          0.24800531582007143,
          0.24765468466713847,
          0.24808876286414114,
          0.24870145749796074,
          0.24884380192978642,
          0.2491968445303713,
          0.24979451228689314,
          0.25067370459358,
          0.2511304999935356,
          0.25191817428467234,
          0.25229577104417755,
          0.2530610353983961,
          0.25427058590911394,
          0.25512267715101816,
          0.25649530713398316,
          0.2575395471350497,
          0.25919270624680546,
          0.2595727538092428,
          0.26161414456497073,
          0.26235886480003595,
          0.26386073191606035,
          0.2662151063594973,
          0.26721164334603265,
          0.2691179683058426,
          0.2708080553078496,
          0.2722744407699292,
          0.2748267436219222,
          0.2758678580513622,
          0.2780672971389727,
          0.28010335537831516,
          0.2819720643594749,
          0.2836685673071154,
          0.2851865793017336,
          0.2881589585798085,
          0.2893600068013146,
          0.2921031396837005,
          0.2947492346618024,
          0.2954729307146204,
          0.29787771560960485,
          0.3001808339417222,
          0.30238098626382365,
          0.3044768191477551,
          0.30646605871017896,
          0.3083469657773672,
          0.31011643123382027,
          0.3117716098870206,
          0.31563506185368273,
          0.31712404576462017,
          0.31849169960702617,
          0.3222291338326953,
          0.32342381796980263,
          0.3244879363966906,
          0.328103964818781,
          0.328985363298526,
          0.33252926112727177,
          0.3332219562898654,
          0.3366955126839267,
          0.33719220944062067,
          0.34059705099837084,
          0.34088891485748707,
          0.3442265051061839,
          0.347541387558314,
          0.3508241239952097,
          0.3506296272009291,
          0.3538153505206943,
          0.356980376079195,
          0.35649947963509765,
          0.36268538887233853,
          0.3619000493797257,
          0.36492236872395517,
          0.36385098389702786,
          0.3668129318316385,
          0.37408071476984595,
          0.377860133914034,
          0.38105008031441046,
          0.3864420038715692,
          0.3917741568526028,
          0.3914416485812352,
          0.3940301843935591,
          0.39660485795743616,
          0.3955556793164821,
          0.40055338305395266,
          0.4079522251841385,
          0.40350445538816365,
          0.408289657659583,
          0.42352009710303024,
          0.4360191241072528,
          0.44539658323952147,
          0.4551484717835415,
          0.4689474436520057,
          0.4863407302982783,
          0.48368182142738886,
          0.4839275239312332,
          0.5244094730937224,
          0.5613099899704616,
          0.6332015692538175,
          0.619863917391636,
          0.6086753214103957,
          0.59767940714693,
          0.6031231551842062,
          0.5922274677172505,
          0.5844222390046285,
          0.5738226165343564,
          0.5645444653274548,
          0.5542344994522047,
          0.5541298830218653,
          0.5439544627056337,
          0.5428806152937037,
          0.5310061407084176,
          0.5186569762951111,
          0.5156886015066471,
          0.48515401022051735,
          0.4808162014885747,
          0.47623238282166724,
          0.47142999967017146,
          0.466433477958569,
          0.4612628436031136,
          0.45593566204170055,
          0.45046714333415583,
          0.444870099187949,
          0.4391563878901698,
          0.4366222349862561,
          0.4305803217032845,
          0.4274426765012417,
          0.42113679641409657,
          0.4174999253024207,
          0.4135781049786886,
          0.40939901648456806,
          0.4049862860422123,
          0.40036001660005494,
          0.3976861328604372,
          0.39259818813750175,
          0.3893129171582641,
          0.38571398215739083,
          0.38182995499890676,
          0.3776838382301869,
          0.3749325663436217,
          0.3718205758059823,
          0.36837886390754954,
          0.36463418058267666,
          0.36198126338305225,
          0.3576435021678014,
          0.35559548316894557,
          0.35191637954872096,
          0.3491091045895092,
          0.3459404441209412,
          0.3435131516991998,
          0.3406935033644489,
          0.3385079820917734,
          0.3349462441989566,
          0.3329292641399362,
          0.33048691120651896,
          0.3276462751426465,
          0.3252744831151393,
          0.3233153608613882,
          0.3209236865088527,
          0.31889578188452467,
          0.3171902312976926,
          0.31576964805177377,
          0.3138864460469985,
          0.31226190898562606,
          0.3108698352145473,
          0.30968673502078564,
          0.30869347394191143,
          0.3072251812114686,
          0.30593705249271524,
          0.3048161704825292,
          0.3038510257698233,
          0.3030335304612853,
          0.30174526544844493,
          0.3012107423633252,
          0.300206789555211,
          0.29994429417793006,
          0.2998182223693615,
          0.29983267426816157,
          0.29939200298246527,
          0.299705612376992,
          0.30018226783286023,
          0.30022550870440584,
          0.30106177809850015,
          0.3014843179619714,
          0.3021168345270559,
          0.30297686158382625,
          0.3040840491356409,
          0.3054606773664438,
          0.30712988844134326,
          0.3084577817766941,
          0.31011426353045474,
          0.31212794247102366,
          0.3145296274577753,
          0.31664998871365424,
          0.318490300630201,
          0.3291263397948685,
          0.3490471035623497,
          0.35661867497583855,
          0.43245077521360736,
          0.560102789308878,
          0.5692678769655292,
          0.5783365467556143
         ],
         "yaxis": "y"
        },
        {
         "hovertemplate": "Symbol=CLQ25<br>Time to Expiry=%{x}<br>Implied Volatility=%{y}<extra></extra>",
         "legendgroup": "CLQ25",
         "line": {
          "color": "#19d3f3",
          "dash": "solid"
         },
         "marker": {
          "symbol": "circle"
         },
         "mode": "lines+markers",
         "name": "CLQ25",
         "showlegend": true,
         "type": "scattergl",
         "x": [
          0.4438356164383562,
          0.4438356164383562,
          0.4438356164383562,
          0.4438356164383562,
          0.4438356164383562,
          0.4438356164383562,
          0.4438356164383562,
          0.4438356164383562,
          0.4438356164383562,
          0.4438356164383562,
          0.4438356164383562,
          0.4438356164383562,
          0.4438356164383562,
          0.4438356164383562,
          0.4438356164383562,
          0.4438356164383562,
          0.4438356164383562,
          0.4438356164383562,
          0.4438356164383562,
          0.4438356164383562,
          0.4438356164383562,
          0.4438356164383562,
          0.4438356164383562,
          0.4438356164383562,
          0.4438356164383562,
          0.4438356164383562,
          0.4438356164383562,
          0.4438356164383562,
          0.4438356164383562,
          0.4438356164383562,
          0.4438356164383562,
          0.4438356164383562,
          0.4438356164383562,
          0.4438356164383562,
          0.4438356164383562,
          0.4438356164383562,
          0.4438356164383562,
          0.4438356164383562,
          0.4438356164383562,
          0.4438356164383562,
          0.4438356164383562,
          0.4438356164383562,
          0.4438356164383562,
          0.4438356164383562,
          0.4438356164383562,
          0.4438356164383562,
          0.4438356164383562,
          0.4438356164383562,
          0.4438356164383562,
          0.4438356164383562,
          0.4438356164383562,
          0.4438356164383562,
          0.4438356164383562,
          0.4438356164383562,
          0.4438356164383562,
          0.4438356164383562,
          0.4438356164383562,
          0.4438356164383562,
          0.4438356164383562,
          0.4438356164383562,
          0.4438356164383562,
          0.4438356164383562,
          0.4438356164383562,
          0.4438356164383562,
          0.4438356164383562,
          0.4438356164383562,
          0.4438356164383562,
          0.4438356164383562,
          0.4438356164383562,
          0.4438356164383562,
          0.4438356164383562,
          0.4438356164383562,
          0.4438356164383562,
          0.4438356164383562,
          0.4438356164383562,
          0.4438356164383562,
          0.4438356164383562,
          0.4438356164383562,
          0.4438356164383562,
          0.4438356164383562,
          0.4438356164383562,
          0.4438356164383562,
          0.4438356164383562,
          0.4438356164383562,
          0.4438356164383562,
          0.4438356164383562,
          0.4438356164383562,
          0.4438356164383562,
          0.4438356164383562,
          0.4438356164383562,
          0.4438356164383562,
          0.4438356164383562,
          0.4438356164383562,
          0.4438356164383562,
          0.4438356164383562,
          0.4438356164383562,
          0.4438356164383562,
          0.4438356164383562,
          0.4438356164383562,
          0.4438356164383562,
          0.4438356164383562,
          0.4438356164383562,
          0.4438356164383562,
          0.4438356164383562,
          0.4438356164383562,
          0.4438356164383562,
          0.4438356164383562,
          0.4438356164383562,
          0.4438356164383562,
          0.4438356164383562,
          0.4438356164383562,
          0.4438356164383562,
          0.4438356164383562,
          0.4438356164383562,
          0.4438356164383562,
          0.4438356164383562,
          0.4438356164383562,
          0.4438356164383562,
          0.4438356164383562,
          0.4438356164383562,
          0.4438356164383562,
          0.4438356164383562,
          0.4438356164383562,
          0.4438356164383562,
          0.4438356164383562,
          0.4438356164383562,
          0.4438356164383562,
          0.4438356164383562,
          0.4438356164383562,
          0.4438356164383562,
          0.4438356164383562,
          0.4438356164383562,
          0.4438356164383562,
          0.4438356164383562,
          0.4438356164383562,
          0.4438356164383562,
          0.4438356164383562,
          0.4438356164383562,
          0.4438356164383562,
          0.4438356164383562,
          0.4438356164383562,
          0.4438356164383562,
          0.4438356164383562,
          0.4438356164383562,
          0.4438356164383562,
          0.4438356164383562,
          0.4438356164383562,
          0.4438356164383562,
          0.4438356164383562,
          0.4438356164383562,
          0.4438356164383562,
          0.4438356164383562,
          0.4438356164383562,
          0.4438356164383562,
          0.4438356164383562,
          0.4438356164383562,
          0.4438356164383562,
          0.4438356164383562,
          0.4438356164383562,
          0.4438356164383562,
          0.4438356164383562,
          0.4438356164383562,
          0.4438356164383562,
          0.4438356164383562,
          0.4438356164383562,
          0.4438356164383562,
          0.4438356164383562,
          0.4438356164383562,
          0.4438356164383562,
          0.4438356164383562,
          0.4438356164383562,
          0.4438356164383562,
          0.4438356164383562,
          0.4438356164383562,
          0.4438356164383562,
          0.4438356164383562,
          0.4438356164383562,
          0.4438356164383562,
          0.4438356164383562,
          0.4438356164383562,
          0.4438356164383562,
          0.4438356164383562,
          0.4438356164383562,
          0.4438356164383562,
          0.4438356164383562,
          0.4438356164383562,
          0.4438356164383562,
          0.4438356164383562,
          0.4438356164383562,
          0.4438356164383562,
          0.4438356164383562,
          0.4438356164383562,
          0.4438356164383562,
          0.4438356164383562,
          0.4438356164383562,
          0.4438356164383562,
          0.4438356164383562,
          0.4438356164383562,
          0.4438356164383562,
          0.4438356164383562
         ],
         "xaxis": "x",
         "y": [
          null,
          null,
          0.2435081521748548,
          0.24536360459876447,
          0.24706235900685705,
          0.24713942941991118,
          0.24729635328161395,
          0.24692662441486415,
          0.24723012267044053,
          0.24701627004762644,
          0.24687681879455006,
          0.24624646624031202,
          0.246251531855368,
          0.245773043708128,
          0.24591802434026375,
          0.24558947473475062,
          0.245339518753237,
          0.24517236568477097,
          0.24509255754122944,
          0.24510751659247007,
          0.24467709147678657,
          0.24435293066382577,
          0.24470225683207444,
          0.24462761013799478,
          0.24469550050430433,
          0.24492214276925103,
          0.2447401089824178,
          0.2447381502167453,
          0.2455435974811202,
          0.24536146220496366,
          0.24603939161203608,
          0.24635668097726912,
          0.24696393599261937,
          0.2472214067696282,
          0.24781059454031984,
          0.24877209486059731,
          0.249422625981214,
          0.2505005735805284,
          0.2512887334462376,
          0.2525675363130481,
          0.25358201865364083,
          0.2543236600284598,
          0.2556441126056865,
          0.2567233313460751,
          0.25906711065414906,
          0.26037058099226246,
          0.26245380403552926,
          0.26334870203847033,
          0.26507030737545834,
          0.2666184251502933,
          0.2679887071851744,
          0.2703243135863991,
          0.27135815300243,
          0.2734140226601918,
          0.27534107649101563,
          0.27879949429999323,
          0.2803250562367341,
          0.2817100678911828,
          0.28294965794584526,
          0.285510749996201,
          0.2864934170785697,
          0.288868737616258,
          0.2911654368058481,
          0.2917637188921929,
          0.29588705490989514,
          0.2996803610149779,
          0.30145114822642344,
          0.3066360862571769,
          0.30819177947748744,
          0.31103354608432393,
          0.3156304795576179,
          0.3200293335135713,
          0.3219456014737021,
          0.32651603360259795,
          0.3295755118482259,
          0.33307858856554257,
          0.33342110755752147,
          0.33363487327433866,
          0.3365470161486787,
          0.339440222612817,
          0.34228697097553246,
          0.342113117509141,
          0.34490075803030956,
          0.3472714896316427,
          0.3564578582826331,
          0.3616199576320947,
          0.3679938799308832,
          0.3762282250612824,
          0.37435435868778755,
          0.37907180833184334,
          0.38141152756413177,
          0.3791466198599645,
          0.38144197569159594,
          0.3899417147118238,
          0.4037295414159562,
          0.40790261188960386,
          0.4222903083176804,
          0.44815670997734547,
          0.44551004444650266,
          0.4534240004047645,
          0.4688059916696426,
          0.47677325902637235,
          0.4837086590407651,
          0.49052614872832534,
          0.4784633418360507,
          0.6310933893326994,
          0.5916873816410372,
          0.5640457245113203,
          0.5639511753338643,
          0.5537609376468788,
          0.5427133247561144,
          0.5311066736742628,
          0.5190864484935097,
          0.5162609671193426,
          0.5130146203069629,
          0.478382971547889,
          0.4691185751874727,
          0.459207478871317,
          0.44677772085631123,
          0.4411756988330168,
          0.4326964177275681,
          0.4295744384264229,
          0.4261655785761651,
          0.419966536266807,
          0.41618374826467575,
          0.4144946412088827,
          0.41019644398264027,
          0.40311118393146517,
          0.3982541464639783,
          0.39512192726268197,
          0.3863711250426385,
          0.38420216921355077,
          0.3801225846770081,
          0.37735342147466405,
          0.37284833670129075,
          0.36956979606919765,
          0.36736742515959997,
          0.3635490703454588,
          0.3607451152661413,
          0.357649373878261,
          0.35428288988802453,
          0.35176199073683795,
          0.3489274419836929,
          0.3458013895856319,
          0.3433866558671963,
          0.34064989669235796,
          0.3385297242373456,
          0.33606712692290225,
          0.3341421581366952,
          0.33186220421189816,
          0.3292492791419172,
          0.3271038116207646,
          0.3246155994725187,
          0.32328124361816574,
          0.3208401090655858,
          0.3194712988793047,
          0.3170346372214227,
          0.31560091737347856,
          0.31378722379111484,
          0.31224968018750765,
          0.3109645799621582,
          0.3084654787065842,
          0.30723839926981306,
          0.30562821942641527,
          0.30480255694316605,
          0.303585415142244,
          0.3031177180340653,
          0.3022554700531239,
          0.3015640655554063,
          0.30048731687979235,
          0.30012950946527106,
          0.2999346643238051,
          0.29935884429246773,
          0.29895167247517157,
          0.29871555037950154,
          0.2986544599662725,
          0.29877442779051483,
          0.2990827750097933,
          0.29958862639163497,
          0.300124327810295,
          0.30072476051170444,
          0.3026615987715387,
          0.30403133775725205,
          0.30511093503111053,
          0.31142260951032497,
          0.3129712735706723,
          0.3149058033769059,
          0.3219794963612972,
          0.3243815662654909,
          0.3768570770941992,
          0.4445396774393326,
          0.45723234555581216,
          0.47429604451028645,
          0.482639184657872,
          0.5113999399413999,
          0.5192351709868529,
          0.5235977690325171,
          0.5322530082185774,
          0.5576811172481754,
          0.5659857262446771
         ],
         "yaxis": "y"
        },
        {
         "hovertemplate": "Symbol=CLU25<br>Time to Expiry=%{x}<br>Implied Volatility=%{y}<extra></extra>",
         "legendgroup": "CLU25",
         "line": {
          "color": "#FF6692",
          "dash": "solid"
         },
         "marker": {
          "symbol": "circle"
         },
         "mode": "lines+markers",
         "name": "CLU25",
         "showlegend": true,
         "type": "scattergl",
         "x": [
          0.5232876712328767,
          0.5232876712328767,
          0.5232876712328767,
          0.5232876712328767,
          0.5232876712328767,
          0.5232876712328767,
          0.5232876712328767,
          0.5232876712328767,
          0.5232876712328767,
          0.5232876712328767,
          0.5232876712328767,
          0.5232876712328767,
          0.5232876712328767,
          0.5232876712328767,
          0.5232876712328767,
          0.5232876712328767,
          0.5232876712328767,
          0.5232876712328767,
          0.5232876712328767,
          0.5232876712328767,
          0.5232876712328767,
          0.5232876712328767,
          0.5232876712328767,
          0.5232876712328767,
          0.5232876712328767,
          0.5232876712328767,
          0.5232876712328767,
          0.5232876712328767,
          0.5232876712328767,
          0.5232876712328767,
          0.5232876712328767,
          0.5232876712328767,
          0.5232876712328767,
          0.5232876712328767,
          0.5232876712328767,
          0.5232876712328767,
          0.5232876712328767,
          0.5232876712328767,
          0.5232876712328767,
          0.5232876712328767,
          0.5232876712328767,
          0.5232876712328767,
          0.5232876712328767,
          0.5232876712328767,
          0.5232876712328767,
          0.5232876712328767,
          0.5232876712328767,
          0.5232876712328767,
          0.5232876712328767,
          0.5232876712328767,
          0.5232876712328767,
          0.5232876712328767,
          0.5232876712328767,
          0.5232876712328767,
          0.5232876712328767,
          0.5232876712328767,
          0.5232876712328767,
          0.5232876712328767,
          0.5232876712328767,
          0.5232876712328767,
          0.5232876712328767,
          0.5232876712328767,
          0.5232876712328767,
          0.5232876712328767,
          0.5232876712328767,
          0.5232876712328767,
          0.5232876712328767,
          0.5232876712328767,
          0.5232876712328767,
          0.5232876712328767,
          0.5232876712328767,
          0.5232876712328767,
          0.5232876712328767,
          0.5232876712328767,
          0.5232876712328767,
          0.5232876712328767,
          0.5232876712328767,
          0.5232876712328767,
          0.5232876712328767,
          0.5232876712328767,
          0.5232876712328767,
          0.5232876712328767,
          0.5232876712328767,
          0.5232876712328767,
          0.5232876712328767,
          0.5232876712328767,
          0.5232876712328767,
          0.5232876712328767,
          0.5232876712328767,
          0.5232876712328767,
          0.5232876712328767,
          0.5232876712328767,
          0.5232876712328767,
          0.5232876712328767,
          0.5232876712328767,
          0.5232876712328767,
          0.5232876712328767,
          0.5232876712328767,
          0.5232876712328767,
          0.5232876712328767,
          0.5232876712328767,
          0.5232876712328767,
          0.5232876712328767,
          0.5232876712328767,
          0.5232876712328767,
          0.5232876712328767,
          0.5232876712328767,
          0.5232876712328767,
          0.5232876712328767,
          0.5232876712328767,
          0.5232876712328767,
          0.5232876712328767,
          0.5232876712328767,
          0.5232876712328767,
          0.5232876712328767,
          0.5232876712328767,
          0.5232876712328767,
          0.5232876712328767,
          0.5232876712328767,
          0.5232876712328767,
          0.5232876712328767,
          0.5232876712328767,
          0.5232876712328767,
          0.5232876712328767,
          0.5232876712328767,
          0.5232876712328767,
          0.5232876712328767,
          0.5232876712328767,
          0.5232876712328767,
          0.5232876712328767,
          0.5232876712328767,
          0.5232876712328767,
          0.5232876712328767,
          0.5232876712328767,
          0.5232876712328767,
          0.5232876712328767,
          0.5232876712328767,
          0.5232876712328767,
          0.5232876712328767,
          0.5232876712328767,
          0.5232876712328767,
          0.5232876712328767,
          0.5232876712328767,
          0.5232876712328767,
          0.5232876712328767,
          0.5232876712328767,
          0.5232876712328767,
          0.5232876712328767,
          0.5232876712328767,
          0.5232876712328767,
          0.5232876712328767,
          0.5232876712328767,
          0.5232876712328767,
          0.5232876712328767,
          0.5232876712328767,
          0.5232876712328767,
          0.5232876712328767,
          0.5232876712328767,
          0.5232876712328767,
          0.5232876712328767,
          0.5232876712328767,
          0.5232876712328767,
          0.5232876712328767,
          0.5232876712328767,
          0.5232876712328767,
          0.5232876712328767,
          0.5232876712328767,
          0.5232876712328767,
          0.5232876712328767,
          0.5232876712328767,
          0.5232876712328767,
          0.5232876712328767
         ],
         "xaxis": "x",
         "y": [
          null,
          null,
          null,
          0.1849584719318922,
          0.23514632114893033,
          0.24122203099865966,
          0.24979379141643995,
          0.2497239190629488,
          0.2489933589972314,
          0.2481911420318184,
          0.2482242353184744,
          0.2478271946389392,
          0.24701510181010408,
          0.24683126257184515,
          0.24674723670691445,
          0.24625398743197746,
          0.2458669982375358,
          0.24558662223140984,
          0.24541549746079647,
          0.24485261129886488,
          0.24491237266967264,
          0.24458961357166156,
          0.2443957819539072,
          0.24433919212693453,
          0.24415813989639376,
          0.24404798744659725,
          0.24411406442609634,
          0.24429051945273547,
          0.2444223646872825,
          0.2447893885885056,
          0.2448344109836138,
          0.24514287745367844,
          0.24574185015535346,
          0.24604429849750944,
          0.24702005056703424,
          0.24773523922963717,
          0.24818168631617907,
          0.24904607962727815,
          0.2496606542610885,
          0.2508583196030083,
          0.25341361806592055,
          0.2551446526959976,
          0.2577660846172063,
          0.25880541650456534,
          0.25965633543538014,
          0.2612713290328177,
          0.262739444535908,
          0.26405746118223705,
          0.26522194496666235,
          0.26622784040384906,
          0.2681654143437262,
          0.2705621874811951,
          0.2748070884948089,
          0.2761808503509515,
          0.27743486797912276,
          0.2809053520788598,
          0.28181788162000404,
          0.28399915990487956,
          0.28670307169679127,
          0.28865332212222017,
          0.29053464473752405,
          0.2973582898425599,
          0.2988844304491561,
          0.30033715169169234,
          0.3072739630623334,
          0.30940694772284505,
          0.31235612962729703,
          0.3132638895358455,
          0.3169482992005727,
          0.3215080722946682,
          0.32695365393482495,
          0.32726601960090335,
          0.3299321172659159,
          0.33272674385571505,
          0.3377450581739034,
          0.3467959804597454,
          0.35157698123458525,
          0.353191949826843,
          0.35457775783542117,
          0.3579679253732359,
          0.3602040147120189,
          0.36100436340605463,
          0.3679241434214231,
          0.3680139469504627,
          0.370088132908079,
          0.37215111627702824,
          0.3742040000870417,
          0.38518056622858166,
          0.39980845718344077,
          0.40910753538230005,
          0.41633249583136833,
          0.42389266339770215,
          0.4313058402170269,
          0.43524891765036966,
          0.4424804418499196,
          0.5870144009282641,
          0.5544084942740685,
          0.5443862269767306,
          0.5425831958409876,
          0.5327649410416151,
          0.5304057886997912,
          0.517979569962533,
          0.5053807799807676,
          0.4980603912595164,
          0.4848912254901257,
          0.47622847305761395,
          0.4500352531135858,
          0.4421685052698776,
          0.4335787875717448,
          0.42691621216011466,
          0.4170681160941796,
          0.4110859078120269,
          0.40413451559054836,
          0.3994258795839742,
          0.3963839887609304,
          0.389597414177907,
          0.3820010637645601,
          0.37650393046652325,
          0.3700149698255444,
          0.36387193336307355,
          0.3579409451007084,
          0.35314128221908375,
          0.350328730097757,
          0.34726519841073566,
          0.3422418751443222,
          0.3378473831673071,
          0.33311323061700476,
          0.3307117631897724,
          0.32877482061772906,
          0.32653198739204686,
          0.3247041416276909,
          0.32079842060446856,
          0.3187180574511354,
          0.3169758961556178,
          0.3137802814616169,
          0.3117033413081273,
          0.31049876309191576,
          0.30895860310081985,
          0.307662701720485,
          0.30603617951167933,
          0.30463970237527266,
          0.3034592086838653,
          0.30248321520339977,
          0.30170178809513526,
          0.3005823279019783,
          0.29965335906568324,
          0.298908661666919,
          0.29834407482446695,
          0.2974464957064813,
          0.29672948846116354,
          0.2966986749414295,
          0.29633990011594674,
          0.2956579469390017,
          0.29566648448781807,
          0.2953585011941989,
          0.2957515513318104,
          0.295838499804195,
          0.29732101586380144,
          0.2980195966883,
          0.2984463619558096,
          0.29967138561640855,
          0.3006454861273883,
          0.3019157947156306,
          0.3029481339479975,
          0.3043013611861574,
          0.3087536377109148,
          0.3311127176790387,
          0.33437060417085346,
          0.3621735361285084,
          0.39839910679728696,
          0.4674200092975195,
          0.4751295464286845
         ],
         "yaxis": "y"
        },
        {
         "hovertemplate": "Symbol=CLV25<br>Time to Expiry=%{x}<br>Implied Volatility=%{y}<extra></extra>",
         "legendgroup": "CLV25",
         "line": {
          "color": "#B6E880",
          "dash": "solid"
         },
         "marker": {
          "symbol": "circle"
         },
         "mode": "lines+markers",
         "name": "CLV25",
         "showlegend": true,
         "type": "scattergl",
         "x": [
          0.6136986301369863,
          0.6136986301369863,
          0.6136986301369863,
          0.6136986301369863,
          0.6136986301369863,
          0.6136986301369863,
          0.6136986301369863,
          0.6136986301369863,
          0.6136986301369863,
          0.6136986301369863,
          0.6136986301369863,
          0.6136986301369863,
          0.6136986301369863,
          0.6136986301369863,
          0.6136986301369863,
          0.6136986301369863,
          0.6136986301369863,
          0.6136986301369863,
          0.6136986301369863,
          0.6136986301369863,
          0.6136986301369863,
          0.6136986301369863,
          0.6136986301369863,
          0.6136986301369863,
          0.6136986301369863,
          0.6136986301369863,
          0.6136986301369863,
          0.6136986301369863,
          0.6136986301369863,
          0.6136986301369863,
          0.6136986301369863,
          0.6136986301369863,
          0.6136986301369863,
          0.6136986301369863,
          0.6136986301369863,
          0.6136986301369863,
          0.6136986301369863,
          0.6136986301369863,
          0.6136986301369863,
          0.6136986301369863,
          0.6136986301369863,
          0.6136986301369863,
          0.6136986301369863,
          0.6136986301369863,
          0.6136986301369863,
          0.6136986301369863,
          0.6136986301369863,
          0.6136986301369863,
          0.6136986301369863,
          0.6136986301369863,
          0.6136986301369863,
          0.6136986301369863,
          0.6136986301369863,
          0.6136986301369863,
          0.6136986301369863,
          0.6136986301369863,
          0.6136986301369863,
          0.6136986301369863,
          0.6136986301369863,
          0.6136986301369863,
          0.6136986301369863,
          0.6136986301369863,
          0.6136986301369863,
          0.6136986301369863,
          0.6136986301369863,
          0.6136986301369863,
          0.6136986301369863,
          0.6136986301369863,
          0.6136986301369863,
          0.6136986301369863,
          0.6136986301369863,
          0.6136986301369863,
          0.6136986301369863,
          0.6136986301369863,
          0.6136986301369863,
          0.6136986301369863,
          0.6136986301369863,
          0.6136986301369863,
          0.6136986301369863,
          0.6136986301369863,
          0.6136986301369863,
          0.6136986301369863,
          0.6136986301369863,
          0.6136986301369863,
          0.6136986301369863,
          0.6136986301369863,
          0.6136986301369863,
          0.6136986301369863,
          0.6136986301369863,
          0.6136986301369863,
          0.6136986301369863,
          0.6136986301369863,
          0.6136986301369863,
          0.6136986301369863,
          0.6136986301369863,
          0.6136986301369863,
          0.6136986301369863,
          0.6136986301369863,
          0.6136986301369863,
          0.6136986301369863
         ],
         "xaxis": "x",
         "y": [
          null,
          0.16453944764795042,
          0.2418208146774162,
          0.2411103923586795,
          0.24063285861753975,
          0.24002876600200695,
          0.23990142506034287,
          0.23942405377397544,
          0.23906937413281448,
          0.23884030058483433,
          0.23874116687743438,
          0.2387780325828867,
          0.23848446780982738,
          0.2388142284819057,
          0.23834573231425768,
          0.2385198801092714,
          0.23838231585975742,
          0.23793023012898792,
          0.23809748309138448,
          0.2386272886784979,
          0.2385437059003876,
          0.2389830313394323,
          0.23949950990293095,
          0.24110012069691988,
          0.2417981299675526,
          0.24709625880085903,
          0.2520029237968498,
          0.2552573180799779,
          0.2573323957193842,
          0.26799877538563427,
          0.2811647794417197,
          0.2874963784732909,
          0.29028972155647614,
          0.2950960249375178,
          0.2978580961090358,
          0.30064990109937895,
          0.3137283480583129,
          0.31617909399092375,
          0.33218721944761764,
          0.33607312333229944,
          0.3382346079156992,
          0.33968485078834415,
          0.36232880572480836,
          0.3710628433368973,
          0.4162047906726339,
          0.5507170290737543,
          0.513387763591843,
          0.5067073439901989,
          0.49888636150339055,
          0.48564758115367423,
          0.4710950596118316,
          0.460898044327437,
          0.4454437500167162,
          0.42758098296071795,
          0.42023694726729005,
          0.4122372037966451,
          0.3981738511791562,
          0.39175755167872506,
          0.38459481406388263,
          0.3722668022160767,
          0.36674131955797223,
          0.36145786347270453,
          0.35631305443698474,
          0.3538883070235395,
          0.3512246766002243,
          0.3461279054432201,
          0.34096948195003074,
          0.3364875542456454,
          0.3260351611459027,
          0.32426069234699517,
          0.3205399613760996,
          0.3185900779874326,
          0.31697838021157054,
          0.31508938655008384,
          0.3135110475261704,
          0.312219518185834,
          0.3111943820855102,
          0.30987257820812725,
          0.3088010715665365,
          0.30683016484736436,
          0.3059203550747031,
          0.3047190832784755,
          0.30373376936904256,
          0.30295535809391316,
          0.301887082687843,
          0.30102106749767843,
          0.30035125693798553,
          0.29987332713307074,
          0.29853767845873574,
          0.2974957404563758,
          0.2974977865600602,
          0.29722454690949746,
          0.29727409881392386,
          0.29767780369384356,
          0.2979662740541986,
          0.2980028218510641,
          0.2987682954218677,
          0.30081454442532607,
          0.30187065906106075,
          0.3047963131746554
         ],
         "yaxis": "y"
        },
        {
         "hovertemplate": "Symbol=CLX25<br>Time to Expiry=%{x}<br>Implied Volatility=%{y}<extra></extra>",
         "legendgroup": "CLX25",
         "line": {
          "color": "#FF97FF",
          "dash": "solid"
         },
         "marker": {
          "symbol": "circle"
         },
         "mode": "lines+markers",
         "name": "CLX25",
         "showlegend": true,
         "type": "scattergl",
         "x": [
          0.6931506849315069,
          0.6931506849315069,
          0.6931506849315069,
          0.6931506849315069,
          0.6931506849315069,
          0.6931506849315069,
          0.6931506849315069,
          0.6931506849315069,
          0.6931506849315069,
          0.6931506849315069,
          0.6931506849315069,
          0.6931506849315069,
          0.6931506849315069,
          0.6931506849315069,
          0.6931506849315069,
          0.6931506849315069,
          0.6931506849315069,
          0.6931506849315069,
          0.6931506849315069,
          0.6931506849315069,
          0.6931506849315069,
          0.6931506849315069,
          0.6931506849315069,
          0.6931506849315069,
          0.6931506849315069,
          0.6931506849315069,
          0.6931506849315069,
          0.6931506849315069,
          0.6931506849315069,
          0.6931506849315069,
          0.6931506849315069,
          0.6931506849315069,
          0.6931506849315069,
          0.6931506849315069,
          0.6931506849315069,
          0.6931506849315069,
          0.6931506849315069,
          0.6931506849315069,
          0.6931506849315069,
          0.6931506849315069,
          0.6931506849315069,
          0.6931506849315069,
          0.6931506849315069,
          0.6931506849315069,
          0.6931506849315069,
          0.6931506849315069,
          0.6931506849315069,
          0.6931506849315069,
          0.6931506849315069,
          0.6931506849315069,
          0.6931506849315069,
          0.6931506849315069,
          0.6931506849315069,
          0.6931506849315069,
          0.6931506849315069,
          0.6931506849315069,
          0.6931506849315069,
          0.6931506849315069,
          0.6931506849315069,
          0.6931506849315069,
          0.6931506849315069,
          0.6931506849315069,
          0.6931506849315069,
          0.6931506849315069,
          0.6931506849315069,
          0.6931506849315069,
          0.6931506849315069,
          0.6931506849315069,
          0.6931506849315069,
          0.6931506849315069,
          0.6931506849315069,
          0.6931506849315069,
          0.6931506849315069,
          0.6931506849315069,
          0.6931506849315069,
          0.6931506849315069,
          0.6931506849315069,
          0.6931506849315069,
          0.6931506849315069,
          0.6931506849315069,
          0.6931506849315069,
          0.6931506849315069,
          0.6931506849315069,
          0.6931506849315069,
          0.6931506849315069,
          0.6931506849315069,
          0.6931506849315069,
          0.6931506849315069
         ],
         "xaxis": "x",
         "y": [
          null,
          0.16358787590351054,
          0.23730354745076226,
          0.2372502655648423,
          0.23659891468253064,
          0.23643933829404076,
          0.2358933688569292,
          0.2354309317460763,
          0.2351842229009286,
          0.235081293324374,
          0.23512836887877153,
          0.2348822836782316,
          0.23488246854992076,
          0.2346737227174596,
          0.23523159359211462,
          0.23573596067740243,
          0.2363601276467756,
          0.23661611628123144,
          0.24001287208163372,
          0.24110336778006797,
          0.2420342565400845,
          0.24723897425155097,
          0.2513065931462017,
          0.2579265310929091,
          0.260305046619536,
          0.2634185346133343,
          0.266240806867787,
          0.27581307204562483,
          0.2810118994304043,
          0.2836815669877213,
          0.3010433661196452,
          0.3037873041359087,
          0.30639038551800624,
          0.3254846722963941,
          0.3344867908876596,
          0.3363782914507942,
          0.3502825280349994,
          0.3927556102132412,
          0.5150563700200124,
          0.4984932209198616,
          0.4902963472095921,
          0.48140131579879464,
          0.4719768559799211,
          0.45521817807001297,
          0.44751990568797606,
          0.4158945327031278,
          0.41385709673519294,
          0.40268326105220476,
          0.39671079450032987,
          0.38540087892678854,
          0.38274874368669787,
          0.3786254869494179,
          0.36775530898683007,
          0.36221500302561577,
          0.3568815997050065,
          0.354381540922649,
          0.34137417122054337,
          0.3369293645571803,
          0.33302900567979843,
          0.32509912007366853,
          0.3216033403459079,
          0.3183125648469087,
          0.3165825017494295,
          0.3151640728325006,
          0.314034916527424,
          0.3126410422508582,
          0.31013305318633416,
          0.30761374010225917,
          0.3064661760272584,
          0.3055477335448831,
          0.3043684014095457,
          0.3038839155906908,
          0.30266270170762405,
          0.30212038137907987,
          0.30131673439215184,
          0.30071429286519924,
          0.29985539406084455,
          0.2991964806180629,
          0.29873428356659315,
          0.2984674508338316,
          0.29762940276217675,
          0.29758632668113966,
          0.2974242993156958,
          0.2974696351904183,
          0.2980196462946091,
          0.30622036453828616,
          0.32914947120679744,
          0.3889796297574065
         ],
         "yaxis": "y"
        },
        {
         "hovertemplate": "Symbol=CLZ25<br>Time to Expiry=%{x}<br>Implied Volatility=%{y}<extra></extra>",
         "legendgroup": "CLZ25",
         "line": {
          "color": "#FECB52",
          "dash": "solid"
         },
         "marker": {
          "symbol": "circle"
         },
         "mode": "lines+markers",
         "name": "CLZ25",
         "showlegend": true,
         "type": "scattergl",
         "x": [
          0.7808219178082192,
          0.7808219178082192,
          0.7808219178082192,
          0.7808219178082192,
          0.7808219178082192,
          0.7808219178082192,
          0.7808219178082192,
          0.7808219178082192,
          0.7808219178082192,
          0.7808219178082192,
          0.7808219178082192,
          0.7808219178082192,
          0.7808219178082192,
          0.7808219178082192,
          0.7808219178082192,
          0.7808219178082192,
          0.7808219178082192,
          0.7808219178082192,
          0.7808219178082192,
          0.7808219178082192,
          0.7808219178082192,
          0.7808219178082192,
          0.7808219178082192,
          0.7808219178082192,
          0.7808219178082192,
          0.7808219178082192,
          0.7808219178082192,
          0.7808219178082192,
          0.7808219178082192,
          0.7808219178082192,
          0.7808219178082192,
          0.7808219178082192,
          0.7808219178082192,
          0.7808219178082192,
          0.7808219178082192,
          0.7808219178082192,
          0.7808219178082192,
          0.7808219178082192,
          0.7808219178082192,
          0.7808219178082192,
          0.7808219178082192,
          0.7808219178082192,
          0.7808219178082192,
          0.7808219178082192,
          0.7808219178082192,
          0.7808219178082192,
          0.7808219178082192,
          0.7808219178082192,
          0.7808219178082192,
          0.7808219178082192,
          0.7808219178082192,
          0.7808219178082192,
          0.7808219178082192,
          0.7808219178082192,
          0.7808219178082192,
          0.7808219178082192,
          0.7808219178082192,
          0.7808219178082192,
          0.7808219178082192,
          0.7808219178082192,
          0.7808219178082192,
          0.7808219178082192,
          0.7808219178082192,
          0.7808219178082192,
          0.7808219178082192,
          0.7808219178082192,
          0.7808219178082192,
          0.7808219178082192,
          0.7808219178082192,
          0.7808219178082192,
          0.7808219178082192,
          0.7808219178082192,
          0.7808219178082192,
          0.7808219178082192,
          0.7808219178082192,
          0.7808219178082192,
          0.7808219178082192,
          0.7808219178082192,
          0.7808219178082192,
          0.7808219178082192,
          0.7808219178082192,
          0.7808219178082192,
          0.7808219178082192,
          0.7808219178082192,
          0.7808219178082192,
          0.7808219178082192,
          0.7808219178082192,
          0.7808219178082192,
          0.7808219178082192,
          0.7808219178082192,
          0.7808219178082192,
          0.7808219178082192,
          0.7808219178082192,
          0.7808219178082192,
          0.7808219178082192,
          0.7808219178082192,
          0.7808219178082192,
          0.7808219178082192,
          0.7808219178082192,
          0.7808219178082192,
          0.7808219178082192,
          0.7808219178082192,
          0.7808219178082192,
          0.7808219178082192,
          0.7808219178082192,
          0.7808219178082192,
          0.7808219178082192,
          0.7808219178082192,
          0.7808219178082192,
          0.7808219178082192,
          0.7808219178082192,
          0.7808219178082192,
          0.7808219178082192,
          0.7808219178082192,
          0.7808219178082192,
          0.7808219178082192,
          0.7808219178082192,
          0.7808219178082192,
          0.7808219178082192,
          0.7808219178082192,
          0.7808219178082192,
          0.7808219178082192,
          0.7808219178082192,
          0.7808219178082192,
          0.7808219178082192,
          0.7808219178082192,
          0.7808219178082192,
          0.7808219178082192,
          0.7808219178082192,
          0.7808219178082192,
          0.7808219178082192,
          0.7808219178082192,
          0.7808219178082192,
          0.7808219178082192,
          0.7808219178082192,
          0.7808219178082192,
          0.7808219178082192,
          0.7808219178082192,
          0.7808219178082192,
          0.7808219178082192,
          0.7808219178082192,
          0.7808219178082192,
          0.7808219178082192,
          0.7808219178082192,
          0.7808219178082192,
          0.7808219178082192,
          0.7808219178082192,
          0.7808219178082192,
          0.7808219178082192,
          0.7808219178082192,
          0.7808219178082192,
          0.7808219178082192,
          0.7808219178082192,
          0.7808219178082192,
          0.7808219178082192,
          0.7808219178082192,
          0.7808219178082192,
          0.7808219178082192,
          0.7808219178082192,
          0.7808219178082192,
          0.7808219178082192,
          0.7808219178082192,
          0.7808219178082192,
          0.7808219178082192,
          0.7808219178082192,
          0.7808219178082192,
          0.7808219178082192
         ],
         "xaxis": "x",
         "y": [
          null,
          null,
          null,
          null,
          0.2061937897278015,
          0.20997697508385238,
          0.21368882640998962,
          0.22415692858861955,
          0.22753505473160796,
          0.22865700459977475,
          0.22978714084393928,
          0.23054146515724824,
          0.23089858849923045,
          0.23088596138855363,
          0.2314962771132638,
          0.23126489447729606,
          0.23163760390461569,
          0.2318166769969566,
          0.23164114726995091,
          0.23159151243022433,
          0.2316641086674069,
          0.23142544864092895,
          0.2313126709623594,
          0.23132441840192725,
          0.23103810488484322,
          0.23088101729755894,
          0.23043448569693312,
          0.23054042767898117,
          0.23036283841149646,
          0.22990522267372127,
          0.23000972971024336,
          0.2298416359664273,
          0.22940225014297635,
          0.2295438261238791,
          0.22942397072746193,
          0.2290413371989869,
          0.22926845160866063,
          0.2292458079705297,
          0.2289715386493013,
          0.2288942477682886,
          0.22938686265223715,
          0.2295175896635062,
          0.22941640034305527,
          0.22998514460504907,
          0.23019271292741825,
          0.23069776320254412,
          0.23100144120859017,
          0.23109931049898955,
          0.231531264280499,
          0.23232660175298092,
          0.2329470585179241,
          0.23338899025506168,
          0.23432708267950408,
          0.23582025817073687,
          0.23600454247687208,
          0.23667652472803713,
          0.2382587069737368,
          0.23919410604820313,
          0.23999949587252925,
          0.2406716985778539,
          0.24197542341646636,
          0.2434661901761286,
          0.24843191346124657,
          0.24898600993017259,
          0.2503426736524187,
          0.25495629938550673,
          0.25589930586461457,
          0.25929599047088087,
          0.2647411067077688,
          0.26648759283739115,
          0.2740881901903488,
          0.27517175889791623,
          0.27959176025415494,
          0.28740683697863506,
          0.2902658333890621,
          0.2930012432009034,
          0.29809916277153725,
          0.30022791378256847,
          0.30463538981743815,
          0.3068001588709965,
          0.31604587975289444,
          0.3156194866151085,
          0.3242951369069209,
          0.32625364022274783,
          0.33758508849066654,
          0.3471986534339288,
          0.35500753406895286,
          0.36225214543914797,
          0.36521490973384263,
          0.37433754006602044,
          0.38327621888432684,
          0.39927629069181114,
          0.40205251642698886,
          0.41227970803458047,
          0.4126226863671067,
          0.42205573487476483,
          0.4400887390068078,
          0.5303863448243626,
          0.5046444389301767,
          0.4830376757359421,
          0.4739503378653404,
          0.4425770730456699,
          0.4341119005531728,
          0.4144388266066958,
          0.4103055640315279,
          0.4078420723187125,
          0.40226372917621933,
          0.39594761475421447,
          0.38901723206077465,
          0.3841445913366612,
          0.378481500637888,
          0.3753922606855451,
          0.37325815092539494,
          0.36731671594501514,
          0.36269291235866513,
          0.35729279847193796,
          0.3529181545542808,
          0.34339878807254826,
          0.34128918147426995,
          0.33897534892570313,
          0.3351295330805148,
          0.33354729739281797,
          0.33109696845015646,
          0.32418162501367065,
          0.3211335009305464,
          0.3177388246296847,
          0.31624257990129456,
          0.31503686900797095,
          0.31359834479227255,
          0.312432448212987,
          0.31103440441667823,
          0.3098937852628416,
          0.3089968074675622,
          0.3078637812186276,
          0.30696361346377565,
          0.3058305934584259,
          0.30492230820125577,
          0.3042303260650745,
          0.3033054611005645,
          0.3025921464502569,
          0.301649222717594,
          0.30091416121788706,
          0.30038241598813803,
          0.3000513115510009,
          0.2994936388734827,
          0.2991370167921993,
          0.29855873554105883,
          0.29818300500279993,
          0.29801023142728816,
          0.29804186433798224,
          0.29788879634579024,
          0.29813019845859084,
          0.2981678328507289,
          0.29891147766972154,
          0.2997322030366536,
          0.30007536736571416,
          0.30194765968395126,
          0.3035733170854973,
          0.3084663482864392,
          0.3100024518535883,
          0.32906237954393375,
          0.3554639992520144,
          0.3708794702227559,
          0.3737060422063032,
          0.38681686589728265,
          0.42056188799190597,
          0.4562329317113965
         ],
         "yaxis": "y"
        }
       ],
       "layout": {
        "legend": {
         "title": {
          "text": "Symbol"
         },
         "tracegroupgap": 0
        },
        "template": {
         "data": {
          "bar": [
           {
            "error_x": {
             "color": "#2a3f5f"
            },
            "error_y": {
             "color": "#2a3f5f"
            },
            "marker": {
             "line": {
              "color": "#E5ECF6",
              "width": 0.5
             },
             "pattern": {
              "fillmode": "overlay",
              "size": 10,
              "solidity": 0.2
             }
            },
            "type": "bar"
           }
          ],
          "barpolar": [
           {
            "marker": {
             "line": {
              "color": "#E5ECF6",
              "width": 0.5
             },
             "pattern": {
              "fillmode": "overlay",
              "size": 10,
              "solidity": 0.2
             }
            },
            "type": "barpolar"
           }
          ],
          "carpet": [
           {
            "aaxis": {
             "endlinecolor": "#2a3f5f",
             "gridcolor": "white",
             "linecolor": "white",
             "minorgridcolor": "white",
             "startlinecolor": "#2a3f5f"
            },
            "baxis": {
             "endlinecolor": "#2a3f5f",
             "gridcolor": "white",
             "linecolor": "white",
             "minorgridcolor": "white",
             "startlinecolor": "#2a3f5f"
            },
            "type": "carpet"
           }
          ],
          "choropleth": [
           {
            "colorbar": {
             "outlinewidth": 0,
             "ticks": ""
            },
            "type": "choropleth"
           }
          ],
          "contour": [
           {
            "colorbar": {
             "outlinewidth": 0,
             "ticks": ""
            },
            "colorscale": [
             [
              0,
              "#0d0887"
             ],
             [
              0.1111111111111111,
              "#46039f"
             ],
             [
              0.2222222222222222,
              "#7201a8"
             ],
             [
              0.3333333333333333,
              "#9c179e"
             ],
             [
              0.4444444444444444,
              "#bd3786"
             ],
             [
              0.5555555555555556,
              "#d8576b"
             ],
             [
              0.6666666666666666,
              "#ed7953"
             ],
             [
              0.7777777777777778,
              "#fb9f3a"
             ],
             [
              0.8888888888888888,
              "#fdca26"
             ],
             [
              1,
              "#f0f921"
             ]
            ],
            "type": "contour"
           }
          ],
          "contourcarpet": [
           {
            "colorbar": {
             "outlinewidth": 0,
             "ticks": ""
            },
            "type": "contourcarpet"
           }
          ],
          "heatmap": [
           {
            "colorbar": {
             "outlinewidth": 0,
             "ticks": ""
            },
            "colorscale": [
             [
              0,
              "#0d0887"
             ],
             [
              0.1111111111111111,
              "#46039f"
             ],
             [
              0.2222222222222222,
              "#7201a8"
             ],
             [
              0.3333333333333333,
              "#9c179e"
             ],
             [
              0.4444444444444444,
              "#bd3786"
             ],
             [
              0.5555555555555556,
              "#d8576b"
             ],
             [
              0.6666666666666666,
              "#ed7953"
             ],
             [
              0.7777777777777778,
              "#fb9f3a"
             ],
             [
              0.8888888888888888,
              "#fdca26"
             ],
             [
              1,
              "#f0f921"
             ]
            ],
            "type": "heatmap"
           }
          ],
          "heatmapgl": [
           {
            "colorbar": {
             "outlinewidth": 0,
             "ticks": ""
            },
            "colorscale": [
             [
              0,
              "#0d0887"
             ],
             [
              0.1111111111111111,
              "#46039f"
             ],
             [
              0.2222222222222222,
              "#7201a8"
             ],
             [
              0.3333333333333333,
              "#9c179e"
             ],
             [
              0.4444444444444444,
              "#bd3786"
             ],
             [
              0.5555555555555556,
              "#d8576b"
             ],
             [
              0.6666666666666666,
              "#ed7953"
             ],
             [
              0.7777777777777778,
              "#fb9f3a"
             ],
             [
              0.8888888888888888,
              "#fdca26"
             ],
             [
              1,
              "#f0f921"
             ]
            ],
            "type": "heatmapgl"
           }
          ],
          "histogram": [
           {
            "marker": {
             "pattern": {
              "fillmode": "overlay",
              "size": 10,
              "solidity": 0.2
             }
            },
            "type": "histogram"
           }
          ],
          "histogram2d": [
           {
            "colorbar": {
             "outlinewidth": 0,
             "ticks": ""
            },
            "colorscale": [
             [
              0,
              "#0d0887"
             ],
             [
              0.1111111111111111,
              "#46039f"
             ],
             [
              0.2222222222222222,
              "#7201a8"
             ],
             [
              0.3333333333333333,
              "#9c179e"
             ],
             [
              0.4444444444444444,
              "#bd3786"
             ],
             [
              0.5555555555555556,
              "#d8576b"
             ],
             [
              0.6666666666666666,
              "#ed7953"
             ],
             [
              0.7777777777777778,
              "#fb9f3a"
             ],
             [
              0.8888888888888888,
              "#fdca26"
             ],
             [
              1,
              "#f0f921"
             ]
            ],
            "type": "histogram2d"
           }
          ],
          "histogram2dcontour": [
           {
            "colorbar": {
             "outlinewidth": 0,
             "ticks": ""
            },
            "colorscale": [
             [
              0,
              "#0d0887"
             ],
             [
              0.1111111111111111,
              "#46039f"
             ],
             [
              0.2222222222222222,
              "#7201a8"
             ],
             [
              0.3333333333333333,
              "#9c179e"
             ],
             [
              0.4444444444444444,
              "#bd3786"
             ],
             [
              0.5555555555555556,
              "#d8576b"
             ],
             [
              0.6666666666666666,
              "#ed7953"
             ],
             [
              0.7777777777777778,
              "#fb9f3a"
             ],
             [
              0.8888888888888888,
              "#fdca26"
             ],
             [
              1,
              "#f0f921"
             ]
            ],
            "type": "histogram2dcontour"
           }
          ],
          "mesh3d": [
           {
            "colorbar": {
             "outlinewidth": 0,
             "ticks": ""
            },
            "type": "mesh3d"
           }
          ],
          "parcoords": [
           {
            "line": {
             "colorbar": {
              "outlinewidth": 0,
              "ticks": ""
             }
            },
            "type": "parcoords"
           }
          ],
          "pie": [
           {
            "automargin": true,
            "type": "pie"
           }
          ],
          "scatter": [
           {
            "fillpattern": {
             "fillmode": "overlay",
             "size": 10,
             "solidity": 0.2
            },
            "type": "scatter"
           }
          ],
          "scatter3d": [
           {
            "line": {
             "colorbar": {
              "outlinewidth": 0,
              "ticks": ""
             }
            },
            "marker": {
             "colorbar": {
              "outlinewidth": 0,
              "ticks": ""
             }
            },
            "type": "scatter3d"
           }
          ],
          "scattercarpet": [
           {
            "marker": {
             "colorbar": {
              "outlinewidth": 0,
              "ticks": ""
             }
            },
            "type": "scattercarpet"
           }
          ],
          "scattergeo": [
           {
            "marker": {
             "colorbar": {
              "outlinewidth": 0,
              "ticks": ""
             }
            },
            "type": "scattergeo"
           }
          ],
          "scattergl": [
           {
            "marker": {
             "colorbar": {
              "outlinewidth": 0,
              "ticks": ""
             }
            },
            "type": "scattergl"
           }
          ],
          "scattermapbox": [
           {
            "marker": {
             "colorbar": {
              "outlinewidth": 0,
              "ticks": ""
             }
            },
            "type": "scattermapbox"
           }
          ],
          "scatterpolar": [
           {
            "marker": {
             "colorbar": {
              "outlinewidth": 0,
              "ticks": ""
             }
            },
            "type": "scatterpolar"
           }
          ],
          "scatterpolargl": [
           {
            "marker": {
             "colorbar": {
              "outlinewidth": 0,
              "ticks": ""
             }
            },
            "type": "scatterpolargl"
           }
          ],
          "scatterternary": [
           {
            "marker": {
             "colorbar": {
              "outlinewidth": 0,
              "ticks": ""
             }
            },
            "type": "scatterternary"
           }
          ],
          "surface": [
           {
            "colorbar": {
             "outlinewidth": 0,
             "ticks": ""
            },
            "colorscale": [
             [
              0,
              "#0d0887"
             ],
             [
              0.1111111111111111,
              "#46039f"
             ],
             [
              0.2222222222222222,
              "#7201a8"
             ],
             [
              0.3333333333333333,
              "#9c179e"
             ],
             [
              0.4444444444444444,
              "#bd3786"
             ],
             [
              0.5555555555555556,
              "#d8576b"
             ],
             [
              0.6666666666666666,
              "#ed7953"
             ],
             [
              0.7777777777777778,
              "#fb9f3a"
             ],
             [
              0.8888888888888888,
              "#fdca26"
             ],
             [
              1,
              "#f0f921"
             ]
            ],
            "type": "surface"
           }
          ],
          "table": [
           {
            "cells": {
             "fill": {
              "color": "#EBF0F8"
             },
             "line": {
              "color": "white"
             }
            },
            "header": {
             "fill": {
              "color": "#C8D4E3"
             },
             "line": {
              "color": "white"
             }
            },
            "type": "table"
           }
          ]
         },
         "layout": {
          "annotationdefaults": {
           "arrowcolor": "#2a3f5f",
           "arrowhead": 0,
           "arrowwidth": 1
          },
          "autotypenumbers": "strict",
          "coloraxis": {
           "colorbar": {
            "outlinewidth": 0,
            "ticks": ""
           }
          },
          "colorscale": {
           "diverging": [
            [
             0,
             "#8e0152"
            ],
            [
             0.1,
             "#c51b7d"
            ],
            [
             0.2,
             "#de77ae"
            ],
            [
             0.3,
             "#f1b6da"
            ],
            [
             0.4,
             "#fde0ef"
            ],
            [
             0.5,
             "#f7f7f7"
            ],
            [
             0.6,
             "#e6f5d0"
            ],
            [
             0.7,
             "#b8e186"
            ],
            [
             0.8,
             "#7fbc41"
            ],
            [
             0.9,
             "#4d9221"
            ],
            [
             1,
             "#276419"
            ]
           ],
           "sequential": [
            [
             0,
             "#0d0887"
            ],
            [
             0.1111111111111111,
             "#46039f"
            ],
            [
             0.2222222222222222,
             "#7201a8"
            ],
            [
             0.3333333333333333,
             "#9c179e"
            ],
            [
             0.4444444444444444,
             "#bd3786"
            ],
            [
             0.5555555555555556,
             "#d8576b"
            ],
            [
             0.6666666666666666,
             "#ed7953"
            ],
            [
             0.7777777777777778,
             "#fb9f3a"
            ],
            [
             0.8888888888888888,
             "#fdca26"
            ],
            [
             1,
             "#f0f921"
            ]
           ],
           "sequentialminus": [
            [
             0,
             "#0d0887"
            ],
            [
             0.1111111111111111,
             "#46039f"
            ],
            [
             0.2222222222222222,
             "#7201a8"
            ],
            [
             0.3333333333333333,
             "#9c179e"
            ],
            [
             0.4444444444444444,
             "#bd3786"
            ],
            [
             0.5555555555555556,
             "#d8576b"
            ],
            [
             0.6666666666666666,
             "#ed7953"
            ],
            [
             0.7777777777777778,
             "#fb9f3a"
            ],
            [
             0.8888888888888888,
             "#fdca26"
            ],
            [
             1,
             "#f0f921"
            ]
           ]
          },
          "colorway": [
           "#636efa",
           "#EF553B",
           "#00cc96",
           "#ab63fa",
           "#FFA15A",
           "#19d3f3",
           "#FF6692",
           "#B6E880",
           "#FF97FF",
           "#FECB52"
          ],
          "font": {
           "color": "#2a3f5f"
          },
          "geo": {
           "bgcolor": "white",
           "lakecolor": "white",
           "landcolor": "#E5ECF6",
           "showlakes": true,
           "showland": true,
           "subunitcolor": "white"
          },
          "hoverlabel": {
           "align": "left"
          },
          "hovermode": "closest",
          "mapbox": {
           "style": "light"
          },
          "paper_bgcolor": "white",
          "plot_bgcolor": "#E5ECF6",
          "polar": {
           "angularaxis": {
            "gridcolor": "white",
            "linecolor": "white",
            "ticks": ""
           },
           "bgcolor": "#E5ECF6",
           "radialaxis": {
            "gridcolor": "white",
            "linecolor": "white",
            "ticks": ""
           }
          },
          "scene": {
           "xaxis": {
            "backgroundcolor": "#E5ECF6",
            "gridcolor": "white",
            "gridwidth": 2,
            "linecolor": "white",
            "showbackground": true,
            "ticks": "",
            "zerolinecolor": "white"
           },
           "yaxis": {
            "backgroundcolor": "#E5ECF6",
            "gridcolor": "white",
            "gridwidth": 2,
            "linecolor": "white",
            "showbackground": true,
            "ticks": "",
            "zerolinecolor": "white"
           },
           "zaxis": {
            "backgroundcolor": "#E5ECF6",
            "gridcolor": "white",
            "gridwidth": 2,
            "linecolor": "white",
            "showbackground": true,
            "ticks": "",
            "zerolinecolor": "white"
           }
          },
          "shapedefaults": {
           "line": {
            "color": "#2a3f5f"
           }
          },
          "ternary": {
           "aaxis": {
            "gridcolor": "white",
            "linecolor": "white",
            "ticks": ""
           },
           "baxis": {
            "gridcolor": "white",
            "linecolor": "white",
            "ticks": ""
           },
           "bgcolor": "#E5ECF6",
           "caxis": {
            "gridcolor": "white",
            "linecolor": "white",
            "ticks": ""
           }
          },
          "title": {
           "x": 0.05
          },
          "xaxis": {
           "automargin": true,
           "gridcolor": "white",
           "linecolor": "white",
           "ticks": "",
           "title": {
            "standoff": 15
           },
           "zerolinecolor": "white",
           "zerolinewidth": 2
          },
          "yaxis": {
           "automargin": true,
           "gridcolor": "white",
           "linecolor": "white",
           "ticks": "",
           "title": {
            "standoff": 15
           },
           "zerolinecolor": "white",
           "zerolinewidth": 2
          }
         }
        },
        "title": {
         "text": "Implied Volatility Term Structure"
        },
        "xaxis": {
         "anchor": "y",
         "domain": [
          0,
          1
         ],
         "title": {
          "text": "Time to Expiry"
         }
        },
        "yaxis": {
         "anchor": "x",
         "domain": [
          0,
          1
         ],
         "title": {
          "text": "Implied Volatility"
         }
        }
       }
      }
     },
     "metadata": {},
     "output_type": "display_data"
    }
   ],
   "source": [
    "import plotly.express as px\n",
    "\n",
    "fig = px.line(implied_vol_df, x=\"Time to Expiry\", y=\"Implied Volatility\", color=\"Symbol\",\n",
    "              markers=True, title=\"Implied Volatility Term Structure\")\n",
    "\n",
    "fig.show()\n"
   ]
  },
  {
   "cell_type": "code",
   "execution_count": 17,
   "metadata": {},
   "outputs": [
    {
     "data": {
      "application/vnd.plotly.v1+json": {
       "config": {
        "plotlyServerURL": "https://plot.ly"
       },
       "data": [
        {
         "colorbar": {
          "title": {
           "text": "Implied Volatility"
          }
         },
         "colorscale": [
          [
           0,
           "#440154"
          ],
          [
           0.1111111111111111,
           "#482878"
          ],
          [
           0.2222222222222222,
           "#3e4989"
          ],
          [
           0.3333333333333333,
           "#31688e"
          ],
          [
           0.4444444444444444,
           "#26828e"
          ],
          [
           0.5555555555555556,
           "#1f9e89"
          ],
          [
           0.6666666666666666,
           "#35b779"
          ],
          [
           0.7777777777777778,
           "#6ece58"
          ],
          [
           0.8888888888888888,
           "#b5de2b"
          ],
          [
           1,
           "#fde725"
          ]
         ],
         "opacity": 0.8,
         "type": "mesh3d",
         "x": [
          61,
          61.5,
          62,
          62.5,
          63,
          63.5,
          64,
          64.5,
          65,
          65.5,
          66,
          66.5,
          67,
          67.5,
          68,
          68.5,
          69,
          69.5,
          70,
          70.5,
          71,
          71.5,
          72,
          72.5,
          73,
          73.5,
          74,
          74.5,
          75,
          75.5,
          76,
          76.5,
          77,
          77.5,
          78,
          78.5,
          79,
          79.5,
          80,
          80.5,
          81,
          61,
          61.5,
          62,
          62.5,
          63,
          63.5,
          64,
          64.5,
          65,
          65.5,
          66,
          66.5,
          67,
          67.5,
          68,
          68.5,
          69,
          69.5,
          70,
          70.5,
          71,
          71.5,
          72,
          72.5,
          73,
          73.5,
          74,
          74.5,
          75,
          75.5,
          76,
          76.5,
          77,
          77.5,
          78,
          78.5,
          79,
          79.5,
          80,
          80.5,
          81,
          61,
          62,
          62.5,
          63,
          63.5,
          64,
          64.5,
          65,
          65.5,
          66,
          66.5,
          67,
          67.5,
          68,
          68.5,
          69,
          69.5,
          70,
          70.5,
          71,
          71.5,
          72,
          72.5,
          73,
          73.5,
          74,
          74.5,
          75,
          75.5,
          76,
          76.5,
          77,
          77.5,
          78,
          78.5,
          79,
          79.5,
          80,
          80.5,
          81,
          61,
          61.5,
          62,
          62.5,
          63,
          63.5,
          64,
          64.5,
          65,
          65.5,
          66,
          66.5,
          67,
          67.5,
          68,
          68.5,
          69,
          69.5,
          70,
          70.5,
          71,
          71.5,
          72,
          72.5,
          73,
          73.5,
          74,
          74.5,
          75,
          75.5,
          76,
          76.5,
          77,
          77.5,
          78,
          78.5,
          79,
          79.5,
          80,
          80.5,
          81,
          60.5,
          61,
          61.5,
          62,
          62.5,
          63,
          63.5,
          64,
          64.5,
          65,
          65.5,
          66,
          66.5,
          67,
          67.5,
          68,
          68.5,
          69,
          69.5,
          70,
          70.5,
          71,
          71.5,
          72,
          72.5,
          73,
          73.5,
          74,
          74.5,
          75,
          75.5,
          76,
          76.5,
          77,
          77.5,
          78,
          78.5,
          79,
          79.5,
          80,
          80.5,
          60.5,
          61,
          61.5,
          62,
          62.5,
          63,
          63.5,
          64,
          64.5,
          65,
          65.5,
          66,
          66.5,
          67,
          67.5,
          68,
          68.5,
          69,
          69.5,
          70,
          70.5,
          71,
          71.5,
          72,
          72.5,
          73,
          73.5,
          74,
          74.5,
          75,
          75.5,
          76,
          76.5,
          77,
          77.5,
          78,
          78.5,
          79,
          79.5,
          80,
          60,
          60.5,
          61,
          61.5,
          62,
          62.5,
          63,
          63.5,
          64,
          64.5,
          65,
          65.5,
          66,
          66.5,
          67,
          67.5,
          68,
          68.5,
          69,
          69.5,
          70,
          70.5,
          71,
          71.5,
          72,
          72.5,
          73,
          73.5,
          74,
          74.5,
          75,
          75.5,
          76,
          76.5,
          77,
          77.5,
          78,
          78.5,
          79,
          79.5,
          80,
          60,
          60.5,
          61,
          61.5,
          62,
          62.5,
          63,
          63.5,
          64,
          64.5,
          65,
          65.5,
          66,
          66.5,
          67,
          67.5,
          68,
          68.5,
          69,
          69.5,
          70,
          70.5,
          71,
          71.5,
          72,
          72.5,
          73,
          73.5,
          74,
          74.5,
          75,
          75.5,
          76,
          76.5,
          77,
          77.5,
          78,
          78.5,
          79,
          79.5,
          80,
          60,
          60.5,
          63,
          63.5,
          64,
          64.5,
          65,
          65.5,
          66,
          66.5,
          67,
          67.5,
          68,
          68.5,
          69,
          69.5,
          70,
          70.5,
          71,
          71.5,
          72,
          72.5,
          73,
          73.5,
          74,
          74.5,
          75,
          75.5,
          76,
          76.5,
          77,
          77.5,
          78,
          78.5,
          79,
          79.5,
          59.5,
          60,
          60.5,
          61,
          61.5,
          62,
          62.5,
          63,
          63.5,
          64,
          64.5,
          65,
          65.5,
          66,
          66.5,
          67,
          67.5,
          68,
          68.5,
          69,
          69.5,
          70,
          70.5,
          71,
          71.5,
          72,
          72.5,
          73,
          73.5,
          74,
          74.5,
          75,
          75.5,
          76,
          76.5,
          77,
          77.5,
          78,
          78.5,
          79,
          79.5,
          60,
          61,
          64.5,
          65,
          65.5,
          66,
          66.5,
          67,
          67.5,
          68,
          68.5,
          69,
          69.5,
          70,
          70.5,
          71,
          71.5,
          72,
          72.5,
          73,
          73.5,
          74,
          74.5,
          75,
          75.5,
          76,
          76.5,
          77,
          77.5,
          78,
          78.5,
          79,
          59,
          59.5,
          60,
          60.5,
          61,
          61.5,
          62,
          62.5,
          63,
          63.5,
          64,
          65,
          65.5,
          66,
          66.5,
          67,
          67.5,
          68,
          68.5,
          69,
          69.5,
          70,
          70.5,
          71,
          71.5,
          72,
          72.5,
          73,
          73.5,
          74.5,
          75,
          76,
          76.5,
          77,
          79,
          60,
          64,
          65,
          66,
          66.5,
          67,
          67.5,
          68,
          68.5,
          69,
          69.5,
          70,
          70.5,
          71,
          71.5,
          72,
          72.5,
          73,
          74,
          74.5,
          75,
          76,
          76.5,
          77,
          77.5,
          78,
          78.5,
          58.5,
          59,
          60,
          60.5,
          61,
          62,
          62.5,
          63,
          63.5,
          64,
          64.5,
          65,
          65.5,
          66,
          66.5,
          67,
          67.5,
          68,
          68.5,
          69,
          69.5,
          70,
          70.5,
          71,
          71.5,
          72,
          72.5,
          73,
          75,
          75.5,
          76,
          76.5,
          77,
          77.5,
          78,
          78.5,
          65,
          67.5,
          68,
          69,
          69.5,
          70,
          70.5,
          71,
          71.5,
          72,
          72.5,
          73,
          73.5,
          74,
          74.5,
          75,
          76,
          77,
          78,
          58,
          59,
          59.5,
          60,
          60.5,
          61,
          61.5,
          62,
          62.5,
          63,
          64,
          64.5,
          65,
          65.5,
          66,
          66.5,
          67,
          67.5,
          68,
          69,
          70,
          70.5,
          71,
          72,
          73,
          73.5,
          74,
          75,
          76.5,
          77,
          64.5,
          67,
          68,
          69,
          70,
          71,
          71.5,
          72,
          72.5,
          73,
          74,
          75,
          58,
          59,
          59.5,
          60,
          60.5,
          61,
          62,
          63,
          63.5,
          64,
          64.5,
          65,
          65.5,
          66,
          66.5,
          67,
          67.5,
          68,
          68.5,
          69,
          70,
          71,
          71.5,
          72,
          74,
          57.5,
          59,
          60,
          61,
          61.5,
          62,
          62.5,
          63,
          63.5,
          64,
          65,
          65.5,
          66,
          66.5,
          67,
          67.5,
          68,
          68.5,
          69,
          69.5,
          70,
          70.5,
          71,
          71.5,
          72,
          72.5,
          73,
          73.5,
          74,
          74.5,
          75,
          75.5,
          76,
          77,
          77.5,
          58,
          59,
          59.5,
          60,
          60.5,
          61,
          61.5,
          62,
          62.5,
          63,
          63.5,
          64,
          64.5,
          65,
          65.5,
          66,
          66.5,
          67,
          67.5,
          68,
          68.5,
          69,
          69.5,
          70,
          70.5,
          71,
          72,
          72.5,
          73,
          74,
          75,
          75.5,
          76.5,
          77.5
         ],
         "y": [
          0,
          0,
          0,
          0,
          0,
          0,
          0,
          0,
          0,
          0,
          0,
          0,
          0,
          0,
          0,
          0,
          0,
          0,
          0,
          0,
          0,
          0,
          0,
          0,
          0,
          0,
          0,
          0,
          0,
          0,
          0,
          0,
          0,
          0,
          0,
          0,
          0,
          0,
          0,
          0,
          0,
          0,
          0,
          0,
          0,
          0,
          0,
          0,
          0,
          0,
          0,
          0,
          0,
          0,
          0,
          0,
          0,
          0,
          0,
          0,
          0,
          0,
          0,
          0,
          0,
          0,
          0,
          0,
          0,
          0,
          0,
          0,
          0,
          0,
          0,
          0,
          0,
          0,
          0,
          0,
          0,
          0,
          1,
          1,
          1,
          1,
          1,
          1,
          1,
          1,
          1,
          1,
          1,
          1,
          1,
          1,
          1,
          1,
          1,
          1,
          1,
          1,
          1,
          1,
          1,
          1,
          1,
          1,
          1,
          1,
          1,
          1,
          1,
          1,
          1,
          1,
          1,
          1,
          1,
          1,
          1,
          1,
          1,
          1,
          1,
          1,
          1,
          1,
          1,
          1,
          1,
          1,
          1,
          1,
          1,
          1,
          1,
          1,
          1,
          1,
          1,
          1,
          1,
          1,
          1,
          1,
          1,
          1,
          1,
          1,
          1,
          1,
          1,
          1,
          1,
          1,
          1,
          1,
          1,
          1,
          1,
          1,
          1,
          2,
          2,
          2,
          2,
          2,
          2,
          2,
          2,
          2,
          2,
          2,
          2,
          2,
          2,
          2,
          2,
          2,
          2,
          2,
          2,
          2,
          2,
          2,
          2,
          2,
          2,
          2,
          2,
          2,
          2,
          2,
          2,
          2,
          2,
          2,
          2,
          2,
          2,
          2,
          2,
          2,
          2,
          2,
          2,
          2,
          2,
          2,
          2,
          2,
          2,
          2,
          2,
          2,
          2,
          2,
          2,
          2,
          2,
          2,
          2,
          2,
          2,
          2,
          2,
          2,
          2,
          2,
          2,
          2,
          2,
          2,
          2,
          2,
          2,
          2,
          2,
          2,
          2,
          2,
          2,
          2,
          3,
          3,
          3,
          3,
          3,
          3,
          3,
          3,
          3,
          3,
          3,
          3,
          3,
          3,
          3,
          3,
          3,
          3,
          3,
          3,
          3,
          3,
          3,
          3,
          3,
          3,
          3,
          3,
          3,
          3,
          3,
          3,
          3,
          3,
          3,
          3,
          3,
          3,
          3,
          3,
          3,
          3,
          3,
          3,
          3,
          3,
          3,
          3,
          3,
          3,
          3,
          3,
          3,
          3,
          3,
          3,
          3,
          3,
          3,
          3,
          3,
          3,
          3,
          3,
          3,
          3,
          3,
          3,
          3,
          3,
          3,
          3,
          3,
          3,
          3,
          3,
          3,
          3,
          3,
          3,
          3,
          3,
          4,
          4,
          4,
          4,
          4,
          4,
          4,
          4,
          4,
          4,
          4,
          4,
          4,
          4,
          4,
          4,
          4,
          4,
          4,
          4,
          4,
          4,
          4,
          4,
          4,
          4,
          4,
          4,
          4,
          4,
          4,
          4,
          4,
          4,
          4,
          4,
          4,
          4,
          4,
          4,
          4,
          4,
          4,
          4,
          4,
          4,
          4,
          4,
          4,
          4,
          4,
          4,
          4,
          4,
          4,
          4,
          4,
          4,
          4,
          4,
          4,
          4,
          4,
          4,
          4,
          4,
          4,
          4,
          4,
          4,
          4,
          4,
          4,
          4,
          4,
          4,
          4,
          5,
          5,
          5,
          5,
          5,
          5,
          5,
          5,
          5,
          5,
          5,
          5,
          5,
          5,
          5,
          5,
          5,
          5,
          5,
          5,
          5,
          5,
          5,
          5,
          5,
          5,
          5,
          5,
          5,
          5,
          5,
          5,
          5,
          5,
          5,
          5,
          5,
          5,
          5,
          5,
          5,
          5,
          5,
          5,
          5,
          5,
          5,
          5,
          5,
          5,
          5,
          5,
          5,
          5,
          5,
          5,
          5,
          5,
          5,
          5,
          5,
          5,
          5,
          5,
          5,
          5,
          5,
          6,
          6,
          6,
          6,
          6,
          6,
          6,
          6,
          6,
          6,
          6,
          6,
          6,
          6,
          6,
          6,
          6,
          6,
          6,
          6,
          6,
          6,
          6,
          6,
          6,
          6,
          6,
          6,
          6,
          6,
          6,
          6,
          6,
          6,
          6,
          6,
          6,
          6,
          6,
          6,
          6,
          6,
          6,
          6,
          6,
          6,
          6,
          6,
          6,
          6,
          6,
          6,
          6,
          6,
          6,
          6,
          6,
          6,
          6,
          6,
          6,
          6,
          6,
          7,
          7,
          7,
          7,
          7,
          7,
          7,
          7,
          7,
          7,
          7,
          7,
          7,
          7,
          7,
          7,
          7,
          7,
          7,
          7,
          7,
          7,
          7,
          7,
          7,
          7,
          7,
          7,
          7,
          7,
          7,
          7,
          7,
          7,
          7,
          7,
          7,
          7,
          7,
          7,
          7,
          7,
          7,
          7,
          7,
          7,
          7,
          7,
          7,
          8,
          8,
          8,
          8,
          8,
          8,
          8,
          8,
          8,
          8,
          8,
          8,
          8,
          8,
          8,
          8,
          8,
          8,
          8,
          8,
          8,
          8,
          8,
          8,
          8,
          8,
          8,
          8,
          8,
          8,
          8,
          8,
          8,
          8,
          8,
          8,
          8,
          9,
          9,
          9,
          9,
          9,
          9,
          9,
          9,
          9,
          9,
          9,
          9,
          9,
          9,
          9,
          9,
          9,
          9,
          9,
          9,
          9,
          9,
          9,
          9,
          9,
          9,
          9,
          9,
          9,
          9,
          9,
          9,
          9,
          9,
          9,
          9,
          9,
          9,
          9,
          9,
          9,
          9,
          9,
          9,
          9,
          9,
          9,
          9,
          9,
          9,
          9,
          9,
          9,
          9,
          9,
          9,
          9,
          9,
          9,
          9,
          9,
          9,
          9,
          9,
          9,
          9,
          9,
          9,
          9
         ],
         "z": [
          null,
          null,
          null,
          null,
          null,
          null,
          null,
          null,
          null,
          null,
          null,
          null,
          null,
          0.18085644306508858,
          0.2236374046973081,
          0.23825397700271866,
          0.24967875616288568,
          0.25597947873001475,
          0.261046274213767,
          0.2626113204249652,
          0.263319899245677,
          0.2653988174129964,
          0.266765057236864,
          0.26776309315771996,
          0.26891089592413453,
          0.2710372926063849,
          0.27865585649487273,
          0.27716117670446244,
          0.28440211273086585,
          0.28677829306315383,
          0.2942995621906137,
          0.2977826465408158,
          0.3039155965506823,
          0.3060656935492659,
          0.3142973344729187,
          0.31996051379581986,
          0.3222037791828097,
          0.33874702016302094,
          0.33485881609268037,
          0.35027553512218385,
          0.36550354357847337,
          0.4695678906542662,
          0.448245806920628,
          0.4462095574376905,
          0.4242693385288783,
          0.4175261058101633,
          0.3950341674549366,
          0.3960608259771821,
          0.3823962207328355,
          0.35839255920606156,
          0.3505854331370419,
          0.35236028112540707,
          0.3480161631637737,
          0.34376819388375923,
          0.3388539025764683,
          0.31507696101670524,
          0.3345445722787716,
          0.33008838002386376,
          0.3281244693951116,
          0.3276615280150374,
          0.325826524443593,
          0.3247733983219947,
          0.3265670941602442,
          0.32904218591028206,
          0.3325271669415887,
          0.3375638488696572,
          0.29181696213232217,
          0.3530484850952527,
          0.3656306947392347,
          0.37804391116251823,
          0.39419502960542646,
          0.4082201144119239,
          0.4238979324747133,
          0.44189624101107755,
          0.4628519423982439,
          0.4786659867731021,
          0.49789706414304363,
          0.5211059669478157,
          0.5391012639915097,
          0.5614301077721583,
          0.5782984476142597,
          0.5998432764741746,
          null,
          0.16453474336400736,
          0.20960600127352064,
          0.2237892770778646,
          0.23372520321332454,
          0.23846234601212235,
          0.24468260504779749,
          0.2474499142700895,
          0.2513747435787937,
          0.25265440829672314,
          0.25487801218204675,
          0.25631682938334066,
          0.25704212793856407,
          0.2571019232015469,
          0.256526650313972,
          0.25649058032048055,
          0.2557692069908788,
          0.2565739569582469,
          0.25664222934090275,
          0.25814561585076096,
          0.25895093264146135,
          0.25909980149085643,
          0.2607849437568953,
          0.2619273397622356,
          0.2625711909572981,
          0.26275408090633295,
          0.2625083477048629,
          0.2631134716219868,
          0.2660743607062258,
          0.2650056423736215,
          0.2651384691237671,
          0.26680061711845354,
          0.26714108253515767,
          0.2694962160822706,
          0.2706986937774526,
          0.27261059837137747,
          0.27551259652449694,
          0.27972506376030326,
          0.2832128580617836,
          0.2859197625400942,
          0.3542062241824291,
          0.3503227147314732,
          0.3454398591866316,
          0.34187764962421,
          0.3372399556544265,
          0.33164012176915175,
          0.32880291610534007,
          0.3247457612911914,
          0.322800189324591,
          0.31950531549479344,
          0.31642493081588347,
          0.31481410892571765,
          0.31179001730343425,
          0.309964286887484,
          0.2982452658225407,
          0.3056504815212369,
          0.303095487819644,
          0.30245707562398305,
          0.30140231902539316,
          0.3010110489560253,
          0.30232421804923254,
          0.30213184548834643,
          0.3036684215219601,
          0.30483751322788566,
          0.3067672054616826,
          0.30843853737012494,
          0.30877375480211844,
          0.31005267578909357,
          0.31240851969473105,
          0.3147860980604308,
          0.3185242177638637,
          0.3212389832307787,
          0.3255952471534467,
          0.32906400773155015,
          0.33306864195981395,
          0.33924084494940276,
          0.34478884627024736,
          0.3497090716355334,
          0.3573025522052548,
          0.36277511559526615,
          0.37123564789161007,
          0.23910169702019846,
          0.24591703770840345,
          0.24784019765002913,
          0.25180970062907726,
          0.25382062430388214,
          0.25579912189637694,
          0.25767561217279705,
          0.25940638428424245,
          0.2597673482914023,
          0.2612148339665587,
          0.2603151335300585,
          0.26043699030646117,
          0.2604288346014873,
          0.2602764669837385,
          0.2599690083047199,
          0.2594987875615467,
          0.2597235615398069,
          0.2597375359001123,
          0.25954774944501013,
          0.25915929169494023,
          0.2585766953089204,
          0.25861612765704994,
          0.25846767858304426,
          0.2589574144623393,
          0.25929415593025823,
          0.25867049104057727,
          0.25959249840853615,
          0.2595981738322747,
          0.2595404161697654,
          0.26034161925629223,
          0.2602698999863364,
          0.2611814640323873,
          0.2622360722035775,
          0.26248484540217915,
          0.26398314151254015,
          0.2647464012763253,
          0.26586869865774504,
          0.2662610827019445,
          0.2683558521127631,
          0.26984644119554646,
          0.27069654314179736,
          0.34275276327108045,
          0.33916144720047475,
          0.3363520067928825,
          0.3328518369011358,
          0.32998299168855927,
          0.32762680778740294,
          0.3245221163324158,
          0.32294950656708965,
          0.3205580788765196,
          0.3184362544629189,
          0.3155290964784483,
          0.3128454759617322,
          0.31127156690221264,
          0.30977687189067754,
          0.3083337908056709,
          0.30691923574750407,
          0.30551455682030243,
          0.3041043981760177,
          0.30350681498094756,
          0.30286471803914744,
          0.30217790130342864,
          0.30226001724994284,
          0.3022989178720928,
          0.3023059627130689,
          0.30229392979580677,
          0.3030988726851268,
          0.3031025705329888,
          0.3039788827684908,
          0.30578536857173405,
          0.30686634788752426,
          0.30809635712920624,
          0.3104114783786283,
          0.31208177034255274,
          0.3140359670860395,
          0.3163279547312519,
          0.3190178182458368,
          0.32217011982377597,
          0.3248236448683375,
          0.3280304447429366,
          0.3318668985781547,
          0.24476784550602998,
          0.24733180476885783,
          0.24854898929369842,
          0.2512435671654351,
          0.25146743906437435,
          0.2530129769904185,
          0.2534989258176141,
          0.254063697832047,
          0.2546651915142355,
          0.2552729471585646,
          0.25499737026491004,
          0.2547551229730723,
          0.25533064361796765,
          0.2550660748844243,
          0.25478381243561793,
          0.2544728465374304,
          0.2541257299684794,
          0.25445303100239486,
          0.2540093813231429,
          0.25352116840929456,
          0.25368027175008806,
          0.2537880555340984,
          0.2531660110906848,
          0.2531963985550486,
          0.25320178946994115,
          0.2531940740059232,
          0.2531871808530736,
          0.25319616127482364,
          0.2532394481798295,
          0.2533373994153577,
          0.25351388428727445,
          0.2537958799292899,
          0.25421504957333146,
          0.25480770037717926,
          0.2556147570248713,
          0.2566838645570228,
          0.25720237595052675,
          0.2580418899977795,
          0.259264991067401,
          0.2599859940145994,
          0.26117228283088373,
          0.33436443805063737,
          0.33193000585319116,
          0.3289717518611976,
          0.32655072759092707,
          0.3235989200251377,
          0.3211028779340298,
          0.31899544234928434,
          0.31721805207982146,
          0.3148566783361658,
          0.31278314961522613,
          0.3109548192365968,
          0.3093358446169606,
          0.30789547890401514,
          0.30660859128089063,
          0.30545383743301474,
          0.30368144395447255,
          0.30275406942566724,
          0.30191576867642395,
          0.30115842644433843,
          0.30047686065238205,
          0.2998681643547568,
          0.29933178149023526,
          0.29886881015666455,
          0.29916954661594053,
          0.29886725185796303,
          0.2993466609549757,
          0.2992413357084522,
          0.2999498273959363,
          0.3000956065026171,
          0.30110182636943505,
          0.30229349660146704,
          0.3029666990843384,
          0.30460063787478964,
          0.3065066714424833,
          0.30795503546186576,
          0.3097220570158127,
          0.31184685240159477,
          0.31437111927479944,
          0.31651590514731043,
          0.31912019484852144,
          0.3222325592457456,
          0.24379727851193234,
          0.24538053095135925,
          0.24916446223429925,
          0.24953364032923808,
          0.24997660490785292,
          0.25047258835411673,
          0.25028898787068127,
          0.2501736969675477,
          0.25078982535487093,
          0.25075327852378815,
          0.2507520964486849,
          0.25014362771027443,
          0.2502079651176233,
          0.24967666026766863,
          0.24918207437060555,
          0.248722088377663,
          0.24829543997198,
          0.24790369876988566,
          0.24815034373054676,
          0.2478391355284731,
          0.24757799019191487,
          0.24737479661263218,
          0.247849554054568,
          0.24780032926475,
          0.2478466016914787,
          0.24800531582007143,
          0.24765468466713847,
          0.24808876286414114,
          0.24870145749796074,
          0.24884380192978642,
          0.2491968445303713,
          0.24979451228689314,
          0.25067370459358,
          0.2511304999935356,
          0.25191817428467234,
          0.25229577104417755,
          0.3329292641399362,
          0.33048691120651896,
          0.3276462751426465,
          0.3252744831151393,
          0.3233153608613882,
          0.3209236865088527,
          0.31889578188452467,
          0.3171902312976926,
          0.31576964805177377,
          0.3138864460469985,
          0.31226190898562606,
          0.3108698352145473,
          0.30968673502078564,
          0.30869347394191143,
          0.3072251812114686,
          0.30593705249271524,
          0.3048161704825292,
          0.3038510257698233,
          0.3030335304612853,
          0.30174526544844493,
          0.3012107423633252,
          0.300206789555211,
          0.29994429417793006,
          0.2998182223693615,
          0.29983267426816157,
          0.29939200298246527,
          0.299705612376992,
          0.30018226783286023,
          0.30022550870440584,
          0.30106177809850015,
          0.3014843179619714,
          0.3021168345270559,
          0.30297686158382625,
          0.3040840491356409,
          0.3054606773664438,
          0.30712988844134326,
          0.3084577817766941,
          0.31011426353045474,
          0.31212794247102366,
          0.3145296274577753,
          0.31664998871365424,
          0.2435081521748548,
          0.24536360459876447,
          0.24706235900685705,
          0.24713942941991118,
          0.24729635328161395,
          0.24692662441486415,
          0.24723012267044053,
          0.24701627004762644,
          0.24687681879455006,
          0.24624646624031202,
          0.246251531855368,
          0.245773043708128,
          0.24591802434026375,
          0.24558947473475062,
          0.245339518753237,
          0.24517236568477097,
          0.24509255754122944,
          0.24510751659247007,
          0.24467709147678657,
          0.24435293066382577,
          0.24470225683207444,
          0.24462761013799478,
          0.24469550050430433,
          0.24492214276925103,
          0.2447401089824178,
          0.2447381502167453,
          0.2455435974811202,
          0.24536146220496366,
          0.24603939161203608,
          0.24635668097726912,
          0.24696393599261937,
          0.2472214067696282,
          0.3292492791419172,
          0.3271038116207646,
          0.3246155994725187,
          0.32328124361816574,
          0.3208401090655858,
          0.3194712988793047,
          0.3170346372214227,
          0.31560091737347856,
          0.31378722379111484,
          0.31224968018750765,
          0.3109645799621582,
          0.3084654787065842,
          0.30723839926981306,
          0.30562821942641527,
          0.30480255694316605,
          0.303585415142244,
          0.3031177180340653,
          0.3022554700531239,
          0.3015640655554063,
          0.30048731687979235,
          0.30012950946527106,
          0.2999346643238051,
          0.29935884429246773,
          0.29895167247517157,
          0.29871555037950154,
          0.2986544599662725,
          0.29877442779051483,
          0.2990827750097933,
          0.29958862639163497,
          0.300124327810295,
          0.30072476051170444,
          0.3026615987715387,
          0.30403133775725205,
          0.30511093503111053,
          0.31142260951032497,
          0.24979379141643995,
          0.2497239190629488,
          0.2489933589972314,
          0.2481911420318184,
          0.2482242353184744,
          0.2478271946389392,
          0.24701510181010408,
          0.24683126257184515,
          0.24674723670691445,
          0.24625398743197746,
          0.2458669982375358,
          0.24558662223140984,
          0.24541549746079647,
          0.24485261129886488,
          0.24491237266967264,
          0.24458961357166156,
          0.2443957819539072,
          0.24433919212693453,
          0.24415813989639376,
          0.24404798744659725,
          0.24411406442609634,
          0.24429051945273547,
          0.2444223646872825,
          0.2447893885885056,
          0.2448344109836138,
          0.24514287745367844,
          0.24574185015535346,
          0.32653198739204686,
          0.3247041416276909,
          0.32079842060446856,
          0.3187180574511354,
          0.3169758961556178,
          0.3137802814616169,
          0.3117033413081273,
          0.31049876309191576,
          0.30895860310081985,
          0.307662701720485,
          0.30603617951167933,
          0.30463970237527266,
          0.3034592086838653,
          0.30248321520339977,
          0.30170178809513526,
          0.3005823279019783,
          0.29965335906568324,
          0.298908661666919,
          0.29834407482446695,
          0.2974464957064813,
          0.29672948846116354,
          0.2966986749414295,
          0.29633990011594674,
          0.2956579469390017,
          0.29566648448781807,
          0.2953585011941989,
          0.2957515513318104,
          0.295838499804195,
          0.29732101586380144,
          0.2980195966883,
          0.2984463619558096,
          0.29967138561640855,
          0.3006454861273883,
          0.3019157947156306,
          0.3029481339479975,
          0.3043013611861574,
          0.2418208146774162,
          0.2411103923586795,
          0.24063285861753975,
          0.24002876600200695,
          0.23990142506034287,
          0.23942405377397544,
          0.23906937413281448,
          0.23884030058483433,
          0.23874116687743438,
          0.2387780325828867,
          0.23848446780982738,
          0.2388142284819057,
          0.23834573231425768,
          0.2385198801092714,
          0.23838231585975742,
          0.23793023012898792,
          0.23809748309138448,
          0.2386272886784979,
          0.2385437059003876,
          0.32426069234699517,
          0.3205399613760996,
          0.3185900779874326,
          0.31697838021157054,
          0.31508938655008384,
          0.3135110475261704,
          0.312219518185834,
          0.3111943820855102,
          0.30987257820812725,
          0.3088010715665365,
          0.30683016484736436,
          0.3059203550747031,
          0.3047190832784755,
          0.30373376936904256,
          0.30295535809391316,
          0.301887082687843,
          0.30102106749767843,
          0.30035125693798553,
          0.29987332713307074,
          0.29853767845873574,
          0.2974957404563758,
          0.2974977865600602,
          0.29722454690949746,
          0.29727409881392386,
          0.29767780369384356,
          0.2979662740541986,
          0.2980028218510641,
          0.2987682954218677,
          0.30081454442532607,
          0.30187065906106075,
          0.23730354745076226,
          0.2372502655648423,
          0.23659891468253064,
          0.23643933829404076,
          0.2358933688569292,
          0.2354309317460763,
          0.2351842229009286,
          0.235081293324374,
          0.23512836887877153,
          0.2348822836782316,
          0.23488246854992076,
          0.2346737227174596,
          0.3216033403459079,
          0.3183125648469087,
          0.3165825017494295,
          0.3151640728325006,
          0.314034916527424,
          0.3126410422508582,
          0.31013305318633416,
          0.30761374010225917,
          0.3064661760272584,
          0.3055477335448831,
          0.3043684014095457,
          0.3038839155906908,
          0.30266270170762405,
          0.30212038137907987,
          0.30131673439215184,
          0.30071429286519924,
          0.29985539406084455,
          0.2991964806180629,
          0.29873428356659315,
          0.2984674508338316,
          0.29762940276217675,
          0.29758632668113966,
          0.2974242993156958,
          0.2974696351904183,
          0.2980196462946091,
          0.22415692858861955,
          0.22753505473160796,
          0.22865700459977475,
          0.22978714084393928,
          0.23054146515724824,
          0.23089858849923045,
          0.23088596138855363,
          0.2314962771132638,
          0.23126489447729606,
          0.23163760390461569,
          0.2318166769969566,
          0.23164114726995091,
          0.23159151243022433,
          0.2316641086674069,
          0.23142544864092895,
          0.2313126709623594,
          0.23132441840192725,
          0.23103810488484322,
          0.23088101729755894,
          0.23043448569693312,
          0.23054042767898117,
          0.23036283841149646,
          0.22990522267372127,
          0.23000972971024336,
          0.2298416359664273,
          0.22940225014297635,
          0.2295438261238791,
          0.22942397072746193,
          0.2290413371989869,
          0.22926845160866063,
          0.2292458079705297,
          0.2289715386493013,
          0.2288942477682886,
          0.22938686265223715,
          0.2295175896635062,
          0.3211335009305464,
          0.3177388246296847,
          0.31624257990129456,
          0.31503686900797095,
          0.31359834479227255,
          0.312432448212987,
          0.31103440441667823,
          0.3098937852628416,
          0.3089968074675622,
          0.3078637812186276,
          0.30696361346377565,
          0.3058305934584259,
          0.30492230820125577,
          0.3042303260650745,
          0.3033054611005645,
          0.3025921464502569,
          0.301649222717594,
          0.30091416121788706,
          0.30038241598813803,
          0.3000513115510009,
          0.2994936388734827,
          0.2991370167921993,
          0.29855873554105883,
          0.29818300500279993,
          0.29801023142728816,
          0.29804186433798224,
          0.29788879634579024,
          0.29813019845859084,
          0.2981678328507289,
          0.29891147766972154,
          0.2997322030366536,
          0.30007536736571416,
          0.30194765968395126,
          0.3035733170854973
         ]
        }
       ],
       "layout": {
        "height": 700,
        "scene": {
         "camera": {
          "eye": {
           "x": 1.5,
           "y": 1.5,
           "z": 1
          }
         },
         "xaxis": {
          "title": {
           "text": "Strike Price"
          }
         },
         "yaxis": {
          "title": {
           "text": "Contract Month"
          }
         },
         "zaxis": {
          "title": {
           "text": "Implied Volatility"
          }
         }
        },
        "template": {
         "data": {
          "bar": [
           {
            "error_x": {
             "color": "#2a3f5f"
            },
            "error_y": {
             "color": "#2a3f5f"
            },
            "marker": {
             "line": {
              "color": "#E5ECF6",
              "width": 0.5
             },
             "pattern": {
              "fillmode": "overlay",
              "size": 10,
              "solidity": 0.2
             }
            },
            "type": "bar"
           }
          ],
          "barpolar": [
           {
            "marker": {
             "line": {
              "color": "#E5ECF6",
              "width": 0.5
             },
             "pattern": {
              "fillmode": "overlay",
              "size": 10,
              "solidity": 0.2
             }
            },
            "type": "barpolar"
           }
          ],
          "carpet": [
           {
            "aaxis": {
             "endlinecolor": "#2a3f5f",
             "gridcolor": "white",
             "linecolor": "white",
             "minorgridcolor": "white",
             "startlinecolor": "#2a3f5f"
            },
            "baxis": {
             "endlinecolor": "#2a3f5f",
             "gridcolor": "white",
             "linecolor": "white",
             "minorgridcolor": "white",
             "startlinecolor": "#2a3f5f"
            },
            "type": "carpet"
           }
          ],
          "choropleth": [
           {
            "colorbar": {
             "outlinewidth": 0,
             "ticks": ""
            },
            "type": "choropleth"
           }
          ],
          "contour": [
           {
            "colorbar": {
             "outlinewidth": 0,
             "ticks": ""
            },
            "colorscale": [
             [
              0,
              "#0d0887"
             ],
             [
              0.1111111111111111,
              "#46039f"
             ],
             [
              0.2222222222222222,
              "#7201a8"
             ],
             [
              0.3333333333333333,
              "#9c179e"
             ],
             [
              0.4444444444444444,
              "#bd3786"
             ],
             [
              0.5555555555555556,
              "#d8576b"
             ],
             [
              0.6666666666666666,
              "#ed7953"
             ],
             [
              0.7777777777777778,
              "#fb9f3a"
             ],
             [
              0.8888888888888888,
              "#fdca26"
             ],
             [
              1,
              "#f0f921"
             ]
            ],
            "type": "contour"
           }
          ],
          "contourcarpet": [
           {
            "colorbar": {
             "outlinewidth": 0,
             "ticks": ""
            },
            "type": "contourcarpet"
           }
          ],
          "heatmap": [
           {
            "colorbar": {
             "outlinewidth": 0,
             "ticks": ""
            },
            "colorscale": [
             [
              0,
              "#0d0887"
             ],
             [
              0.1111111111111111,
              "#46039f"
             ],
             [
              0.2222222222222222,
              "#7201a8"
             ],
             [
              0.3333333333333333,
              "#9c179e"
             ],
             [
              0.4444444444444444,
              "#bd3786"
             ],
             [
              0.5555555555555556,
              "#d8576b"
             ],
             [
              0.6666666666666666,
              "#ed7953"
             ],
             [
              0.7777777777777778,
              "#fb9f3a"
             ],
             [
              0.8888888888888888,
              "#fdca26"
             ],
             [
              1,
              "#f0f921"
             ]
            ],
            "type": "heatmap"
           }
          ],
          "heatmapgl": [
           {
            "colorbar": {
             "outlinewidth": 0,
             "ticks": ""
            },
            "colorscale": [
             [
              0,
              "#0d0887"
             ],
             [
              0.1111111111111111,
              "#46039f"
             ],
             [
              0.2222222222222222,
              "#7201a8"
             ],
             [
              0.3333333333333333,
              "#9c179e"
             ],
             [
              0.4444444444444444,
              "#bd3786"
             ],
             [
              0.5555555555555556,
              "#d8576b"
             ],
             [
              0.6666666666666666,
              "#ed7953"
             ],
             [
              0.7777777777777778,
              "#fb9f3a"
             ],
             [
              0.8888888888888888,
              "#fdca26"
             ],
             [
              1,
              "#f0f921"
             ]
            ],
            "type": "heatmapgl"
           }
          ],
          "histogram": [
           {
            "marker": {
             "pattern": {
              "fillmode": "overlay",
              "size": 10,
              "solidity": 0.2
             }
            },
            "type": "histogram"
           }
          ],
          "histogram2d": [
           {
            "colorbar": {
             "outlinewidth": 0,
             "ticks": ""
            },
            "colorscale": [
             [
              0,
              "#0d0887"
             ],
             [
              0.1111111111111111,
              "#46039f"
             ],
             [
              0.2222222222222222,
              "#7201a8"
             ],
             [
              0.3333333333333333,
              "#9c179e"
             ],
             [
              0.4444444444444444,
              "#bd3786"
             ],
             [
              0.5555555555555556,
              "#d8576b"
             ],
             [
              0.6666666666666666,
              "#ed7953"
             ],
             [
              0.7777777777777778,
              "#fb9f3a"
             ],
             [
              0.8888888888888888,
              "#fdca26"
             ],
             [
              1,
              "#f0f921"
             ]
            ],
            "type": "histogram2d"
           }
          ],
          "histogram2dcontour": [
           {
            "colorbar": {
             "outlinewidth": 0,
             "ticks": ""
            },
            "colorscale": [
             [
              0,
              "#0d0887"
             ],
             [
              0.1111111111111111,
              "#46039f"
             ],
             [
              0.2222222222222222,
              "#7201a8"
             ],
             [
              0.3333333333333333,
              "#9c179e"
             ],
             [
              0.4444444444444444,
              "#bd3786"
             ],
             [
              0.5555555555555556,
              "#d8576b"
             ],
             [
              0.6666666666666666,
              "#ed7953"
             ],
             [
              0.7777777777777778,
              "#fb9f3a"
             ],
             [
              0.8888888888888888,
              "#fdca26"
             ],
             [
              1,
              "#f0f921"
             ]
            ],
            "type": "histogram2dcontour"
           }
          ],
          "mesh3d": [
           {
            "colorbar": {
             "outlinewidth": 0,
             "ticks": ""
            },
            "type": "mesh3d"
           }
          ],
          "parcoords": [
           {
            "line": {
             "colorbar": {
              "outlinewidth": 0,
              "ticks": ""
             }
            },
            "type": "parcoords"
           }
          ],
          "pie": [
           {
            "automargin": true,
            "type": "pie"
           }
          ],
          "scatter": [
           {
            "fillpattern": {
             "fillmode": "overlay",
             "size": 10,
             "solidity": 0.2
            },
            "type": "scatter"
           }
          ],
          "scatter3d": [
           {
            "line": {
             "colorbar": {
              "outlinewidth": 0,
              "ticks": ""
             }
            },
            "marker": {
             "colorbar": {
              "outlinewidth": 0,
              "ticks": ""
             }
            },
            "type": "scatter3d"
           }
          ],
          "scattercarpet": [
           {
            "marker": {
             "colorbar": {
              "outlinewidth": 0,
              "ticks": ""
             }
            },
            "type": "scattercarpet"
           }
          ],
          "scattergeo": [
           {
            "marker": {
             "colorbar": {
              "outlinewidth": 0,
              "ticks": ""
             }
            },
            "type": "scattergeo"
           }
          ],
          "scattergl": [
           {
            "marker": {
             "colorbar": {
              "outlinewidth": 0,
              "ticks": ""
             }
            },
            "type": "scattergl"
           }
          ],
          "scattermapbox": [
           {
            "marker": {
             "colorbar": {
              "outlinewidth": 0,
              "ticks": ""
             }
            },
            "type": "scattermapbox"
           }
          ],
          "scatterpolar": [
           {
            "marker": {
             "colorbar": {
              "outlinewidth": 0,
              "ticks": ""
             }
            },
            "type": "scatterpolar"
           }
          ],
          "scatterpolargl": [
           {
            "marker": {
             "colorbar": {
              "outlinewidth": 0,
              "ticks": ""
             }
            },
            "type": "scatterpolargl"
           }
          ],
          "scatterternary": [
           {
            "marker": {
             "colorbar": {
              "outlinewidth": 0,
              "ticks": ""
             }
            },
            "type": "scatterternary"
           }
          ],
          "surface": [
           {
            "colorbar": {
             "outlinewidth": 0,
             "ticks": ""
            },
            "colorscale": [
             [
              0,
              "#0d0887"
             ],
             [
              0.1111111111111111,
              "#46039f"
             ],
             [
              0.2222222222222222,
              "#7201a8"
             ],
             [
              0.3333333333333333,
              "#9c179e"
             ],
             [
              0.4444444444444444,
              "#bd3786"
             ],
             [
              0.5555555555555556,
              "#d8576b"
             ],
             [
              0.6666666666666666,
              "#ed7953"
             ],
             [
              0.7777777777777778,
              "#fb9f3a"
             ],
             [
              0.8888888888888888,
              "#fdca26"
             ],
             [
              1,
              "#f0f921"
             ]
            ],
            "type": "surface"
           }
          ],
          "table": [
           {
            "cells": {
             "fill": {
              "color": "#EBF0F8"
             },
             "line": {
              "color": "white"
             }
            },
            "header": {
             "fill": {
              "color": "#C8D4E3"
             },
             "line": {
              "color": "white"
             }
            },
            "type": "table"
           }
          ]
         },
         "layout": {
          "annotationdefaults": {
           "arrowcolor": "#2a3f5f",
           "arrowhead": 0,
           "arrowwidth": 1
          },
          "autotypenumbers": "strict",
          "coloraxis": {
           "colorbar": {
            "outlinewidth": 0,
            "ticks": ""
           }
          },
          "colorscale": {
           "diverging": [
            [
             0,
             "#8e0152"
            ],
            [
             0.1,
             "#c51b7d"
            ],
            [
             0.2,
             "#de77ae"
            ],
            [
             0.3,
             "#f1b6da"
            ],
            [
             0.4,
             "#fde0ef"
            ],
            [
             0.5,
             "#f7f7f7"
            ],
            [
             0.6,
             "#e6f5d0"
            ],
            [
             0.7,
             "#b8e186"
            ],
            [
             0.8,
             "#7fbc41"
            ],
            [
             0.9,
             "#4d9221"
            ],
            [
             1,
             "#276419"
            ]
           ],
           "sequential": [
            [
             0,
             "#0d0887"
            ],
            [
             0.1111111111111111,
             "#46039f"
            ],
            [
             0.2222222222222222,
             "#7201a8"
            ],
            [
             0.3333333333333333,
             "#9c179e"
            ],
            [
             0.4444444444444444,
             "#bd3786"
            ],
            [
             0.5555555555555556,
             "#d8576b"
            ],
            [
             0.6666666666666666,
             "#ed7953"
            ],
            [
             0.7777777777777778,
             "#fb9f3a"
            ],
            [
             0.8888888888888888,
             "#fdca26"
            ],
            [
             1,
             "#f0f921"
            ]
           ],
           "sequentialminus": [
            [
             0,
             "#0d0887"
            ],
            [
             0.1111111111111111,
             "#46039f"
            ],
            [
             0.2222222222222222,
             "#7201a8"
            ],
            [
             0.3333333333333333,
             "#9c179e"
            ],
            [
             0.4444444444444444,
             "#bd3786"
            ],
            [
             0.5555555555555556,
             "#d8576b"
            ],
            [
             0.6666666666666666,
             "#ed7953"
            ],
            [
             0.7777777777777778,
             "#fb9f3a"
            ],
            [
             0.8888888888888888,
             "#fdca26"
            ],
            [
             1,
             "#f0f921"
            ]
           ]
          },
          "colorway": [
           "#636efa",
           "#EF553B",
           "#00cc96",
           "#ab63fa",
           "#FFA15A",
           "#19d3f3",
           "#FF6692",
           "#B6E880",
           "#FF97FF",
           "#FECB52"
          ],
          "font": {
           "color": "#2a3f5f"
          },
          "geo": {
           "bgcolor": "white",
           "lakecolor": "white",
           "landcolor": "#E5ECF6",
           "showlakes": true,
           "showland": true,
           "subunitcolor": "white"
          },
          "hoverlabel": {
           "align": "left"
          },
          "hovermode": "closest",
          "mapbox": {
           "style": "light"
          },
          "paper_bgcolor": "white",
          "plot_bgcolor": "#E5ECF6",
          "polar": {
           "angularaxis": {
            "gridcolor": "white",
            "linecolor": "white",
            "ticks": ""
           },
           "bgcolor": "#E5ECF6",
           "radialaxis": {
            "gridcolor": "white",
            "linecolor": "white",
            "ticks": ""
           }
          },
          "scene": {
           "xaxis": {
            "backgroundcolor": "#E5ECF6",
            "gridcolor": "white",
            "gridwidth": 2,
            "linecolor": "white",
            "showbackground": true,
            "ticks": "",
            "zerolinecolor": "white"
           },
           "yaxis": {
            "backgroundcolor": "#E5ECF6",
            "gridcolor": "white",
            "gridwidth": 2,
            "linecolor": "white",
            "showbackground": true,
            "ticks": "",
            "zerolinecolor": "white"
           },
           "zaxis": {
            "backgroundcolor": "#E5ECF6",
            "gridcolor": "white",
            "gridwidth": 2,
            "linecolor": "white",
            "showbackground": true,
            "ticks": "",
            "zerolinecolor": "white"
           }
          },
          "shapedefaults": {
           "line": {
            "color": "#2a3f5f"
           }
          },
          "ternary": {
           "aaxis": {
            "gridcolor": "white",
            "linecolor": "white",
            "ticks": ""
           },
           "baxis": {
            "gridcolor": "white",
            "linecolor": "white",
            "ticks": ""
           },
           "bgcolor": "#E5ECF6",
           "caxis": {
            "gridcolor": "white",
            "linecolor": "white",
            "ticks": ""
           }
          },
          "title": {
           "x": 0.05
          },
          "xaxis": {
           "automargin": true,
           "gridcolor": "white",
           "linecolor": "white",
           "ticks": "",
           "title": {
            "standoff": 15
           },
           "zerolinecolor": "white",
           "zerolinewidth": 2
          },
          "yaxis": {
           "automargin": true,
           "gridcolor": "white",
           "linecolor": "white",
           "ticks": "",
           "title": {
            "standoff": 15
           },
           "zerolinecolor": "white",
           "zerolinewidth": 2
          }
         }
        },
        "title": {
         "text": "Implied Volatility Surface"
        },
        "width": 1000
       }
      }
     },
     "metadata": {},
     "output_type": "display_data"
    }
   ],
   "source": [
    "import plotly.graph_objects as go\n",
    "import numpy as np\n",
    "import pandas as pd\n",
    "\n",
    "# Initialize lists to store data for the surface plot\n",
    "strike_prices = []\n",
    "contract_months = []\n",
    "implied_vols = []\n",
    "\n",
    "# Loop through unique contract symbols (months)\n",
    "for symbol in implied_vol_df['Symbol'].unique():\n",
    "    # Filter the data for the specific symbol\n",
    "    symbol_data = implied_vol_df[implied_vol_df['Symbol'] == symbol]\n",
    "    \n",
    "    # Get the current futures price (F) for the symbol\n",
    "    future_row = futures_df[futures_df['Contract'] == symbol]\n",
    "    F = future_row['Last Price'].values[0]  # Futures price\n",
    "    \n",
    "    # Find the ATM strike (closest to F)\n",
    "    atm_strike = min(symbol_data['Strike'], key=lambda x: abs(x - F))\n",
    "    \n",
    "    # Limit strikes to ±15 from ATM\n",
    "    symbol_data = symbol_data[symbol_data['Strike'].between(atm_strike - 10, atm_strike + 10)]\n",
    "    \n",
    "    # Append data to lists\n",
    "    for _, row in symbol_data.iterrows():\n",
    "        strike_prices.append(row['Strike'])\n",
    "        contract_months.append(symbol)\n",
    "        implied_vols.append(row['Implied Volatility'])\n",
    "\n",
    "# Convert to NumPy arrays for surface plotting\n",
    "X = np.array(strike_prices)\n",
    "Y = np.array(contract_months)  # This is categorical; it will be converted to numerical\n",
    "Z = np.array(implied_vols)\n",
    "\n",
    "# Create the surface plot\n",
    "fig = go.Figure(data=[go.Mesh3d(\n",
    "    x=X,\n",
    "    y=pd.factorize(Y)[0],  # Convert categorical contract months to numerical indices\n",
    "    z=Z,\n",
    "    colorbar_title='Implied Volatility',\n",
    "    colorscale='Viridis',\n",
    "    opacity=0.8\n",
    ")])\n",
    "\n",
    "# Update layout for better visibility\n",
    "fig.update_layout(\n",
    "    title='Implied Volatility Surface',\n",
    "    width=1000, height=700,  # Increase figure size\n",
    "    scene=dict(\n",
    "        xaxis_title='Strike Price',\n",
    "        yaxis_title='Contract Month',\n",
    "        zaxis_title='Implied Volatility',\n",
    "        camera=dict(eye=dict(x=1.5, y=1.5, z=1.0))  # Adjust viewing angle\n",
    "    )\n",
    ")\n",
    "\n",
    "# Show the plot\n",
    "fig.show()\n"
   ]
  },
  {
   "cell_type": "code",
   "execution_count": 18,
   "metadata": {},
   "outputs": [
    {
     "name": "stdout",
     "output_type": "stream",
     "text": [
      "=== Implied Volatility from American Options ===\n",
      "     Symbol  Type  Strike  Time to Expiry  Market Price  Implied Volatility\n",
      "0     CLH25  Call    25.0        0.024658         46.03                 NaN\n",
      "1     CLH25  Call    51.0        0.024658         20.03                 NaN\n",
      "2     CLH25  Call    52.0        0.024658         19.03                 NaN\n",
      "3     CLH25  Call    52.5        0.024658         18.53                 NaN\n",
      "4     CLH25  Call    55.0        0.024658         16.03                 NaN\n",
      "...     ...   ...     ...             ...           ...                 ...\n",
      "2192  CLZ25   Put    92.5        0.780822         25.60            0.370879\n",
      "2193  CLZ25   Put    93.0        0.780822         26.07            0.373706\n",
      "2194  CLZ25   Put    95.0        0.780822         27.99            0.386817\n",
      "2195  CLZ25   Put   100.0        0.780822         32.85            0.420562\n",
      "2196  CLZ25   Put   105.0        0.780822         37.79            0.456233\n",
      "\n",
      "[2197 rows x 6 columns]\n",
      "\n",
      "=== Asian Option Adjusted IV & Price ===\n",
      "     Symbol  Type  Strike  Time to Expiry  Adjusted Asian IV  \\\n",
      "0     CLH25  Call    25.0        0.024658                NaN   \n",
      "1     CLH25  Call    51.0        0.024658                NaN   \n",
      "2     CLH25  Call    52.0        0.024658                NaN   \n",
      "3     CLH25  Call    52.5        0.024658                NaN   \n",
      "4     CLH25  Call    55.0        0.024658                NaN   \n",
      "...     ...   ...     ...             ...                ...   \n",
      "2192  CLZ25   Put    92.5        0.780822           0.094203   \n",
      "2193  CLZ25   Put    93.0        0.780822           0.094921   \n",
      "2194  CLZ25   Put    95.0        0.780822           0.098252   \n",
      "2195  CLZ25   Put   100.0        0.780822           0.106823   \n",
      "2196  CLZ25   Put   105.0        0.780822           0.115883   \n",
      "\n",
      "      Asian Option Price  \n",
      "0                    NaN  \n",
      "1                    NaN  \n",
      "2                    NaN  \n",
      "3                    NaN  \n",
      "4                    NaN  \n",
      "...                  ...  \n",
      "2192            4.149451  \n",
      "2193            4.203640  \n",
      "2194            4.444511  \n",
      "2195            5.086012  \n",
      "2196            5.792538  \n",
      "\n",
      "[2197 rows x 6 columns]\n"
     ]
    }
   ],
   "source": [
    "import numpy as np\n",
    "import pandas as pd\n",
    "from scipy.stats import norm\n",
    "\n",
    "# Function to adjust implied volatility for Asian options\n",
    "def adjust_iv_for_asian(iv, n):\n",
    "    \"\"\"Adjusts the implied volatility for an Asian option using averaging adjustment.\"\"\"\n",
    "    return iv * np.sqrt(2 / (n + 1))\n",
    "\n",
    "# Asian option pricing (Turnbull-Wakeman approximation for arithmetic average price options)\n",
    "def asian_option_price(F, K, T, r, sigma_asian, option_type):\n",
    "    \"\"\"Computes the price of an Asian option using Turnbull-Wakeman approximation.\"\"\"\n",
    "    sigma_adj = sigma_asian * np.sqrt(3 / (2 * (T + 1/365)))  # Adjusted volatility\n",
    "    d1 = (np.log(F / K) + (0.5 * sigma_adj ** 2) * T) / (sigma_adj * np.sqrt(T))\n",
    "    d2 = d1 - sigma_adj * np.sqrt(T)\n",
    "    \n",
    "    if option_type == \"Call\":  # Call option\n",
    "        return np.exp(-r * T) * (F * norm.cdf(d1) - K * norm.cdf(d2))\n",
    "    elif option_type == \"Put\":  # Put option\n",
    "        return np.exp(-r * T) * (K * norm.cdf(-d2) - F * norm.cdf(-d1))\n",
    "    else:\n",
    "        raise ValueError(\"Invalid option type: must be 'C' or 'P'\")\n",
    "\n",
    "# Assume an averaging period (e.g., 30 days for a monthly Asian option)\n",
    "n = 30  # Number of averaging periods\n",
    "risk_free_rate = 0.03  # Example risk-free rate (3%)\n",
    "\n",
    "\n",
    "# Creating a new DataFrame for Asian option calculations\n",
    "asian_option_data = []\n",
    "\n",
    "for _, row in implied_vol_df.iterrows():\n",
    "    symbol = row[\"Symbol\"]\n",
    "    option_type = row[\"Type\"]\n",
    "    K = row[\"Strike\"]\n",
    "    T = row[\"Time to Expiry\"]\n",
    "    iv = row[\"Implied Volatility\"]\n",
    "    \n",
    "    # Find the corresponding futures price for the option's underlying symbol\n",
    "    future_row = futures_df[futures_df['Contract'] == symbol]\n",
    "    if future_row.empty:\n",
    "        continue  # Skip if no matching future found\n",
    "    \n",
    "    F = future_row['Last Price'].values[0]  # Assign actual futures price\n",
    "    \n",
    "    # Adjust the implied volatility for Asian options\n",
    "    sigma_asian = adjust_iv_for_asian(iv, n)\n",
    "    \n",
    "    # Calculate the Asian option price\n",
    "    asian_price = asian_option_price(F, K, T, risk_free_rate, sigma_asian, option_type)\n",
    "    \n",
    "    # Store results\n",
    "    asian_option_data.append((symbol, option_type, K, T, sigma_asian, asian_price))\n",
    "\n",
    "\n",
    "# Convert to DataFrame\n",
    "asian_option_df = pd.DataFrame(asian_option_data, columns=[\n",
    "    \"Symbol\", \"Type\", \"Strike\", \"Time to Expiry\", \"Adjusted Asian IV\", \"Asian Option Price\"\n",
    "])\n",
    "\n",
    "# Display Results\n",
    "print(\"=== Implied Volatility from American Options ===\")\n",
    "print(implied_vol_df)\n",
    "print(\"\\n=== Asian Option Adjusted IV & Price ===\")\n",
    "print(asian_option_df)\n"
   ]
  },
  {
   "cell_type": "code",
   "execution_count": 20,
   "metadata": {},
   "outputs": [
    {
     "name": "stdout",
     "output_type": "stream",
     "text": [
      "    Symbol Type  Strike  Time to Expiry  Adjusted Asian IV  Asian Option Price\n",
      "888  CLK25  Put    77.0        0.191781           0.079765            2.961494\n"
     ]
    }
   ],
   "source": [
    "def get_asian_option_data(asian_option_df, symbol, strike, option_type):\n",
    "    \"\"\"\n",
    "    Retrieves the row of Asian options data for a given symbol, strike price, and option type.\n",
    "\n",
    "    Parameters:\n",
    "    - asian_option_df (pd.DataFrame): DataFrame containing Asian options data.\n",
    "    - symbol (str): The symbol to filter.\n",
    "    - strike (float): The strike price to filter.\n",
    "    - option_type (str): Either 'Call' or 'Put'.\n",
    "\n",
    "    Returns:\n",
    "    - DataFrame: The filtered row(s) if found, otherwise None.\n",
    "    \"\"\"\n",
    "    # Filter based on symbol, strike, and option type\n",
    "    filtered_row = asian_option_df[\n",
    "        (asian_option_df[\"Symbol\"] == symbol) &\n",
    "        (asian_option_df[\"Strike\"] == strike) &\n",
    "        (asian_option_df[\"Type\"] == option_type)\n",
    "    ]\n",
    "\n",
    "    if filtered_row.empty:\n",
    "        print(f\"No Asian option data found for {symbol} {option_type} with Strike: {strike}\")\n",
    "        return None\n",
    "\n",
    "    return filtered_row\n",
    "\n",
    "# Example usage:\n",
    "result = get_asian_option_data(asian_option_df, \"CLK25\", 77.00, \"Put\")\n",
    "if result is not None:\n",
    "    print(result)\n"
   ]
  }
 ],
 "metadata": {
  "kernelspec": {
   "display_name": "Python 3",
   "language": "python",
   "name": "python3"
  },
  "language_info": {
   "codemirror_mode": {
    "name": "ipython",
    "version": 3
   },
   "file_extension": ".py",
   "mimetype": "text/x-python",
   "name": "python",
   "nbconvert_exporter": "python",
   "pygments_lexer": "ipython3",
   "version": "3.10.9"
  }
 },
 "nbformat": 4,
 "nbformat_minor": 2
}
