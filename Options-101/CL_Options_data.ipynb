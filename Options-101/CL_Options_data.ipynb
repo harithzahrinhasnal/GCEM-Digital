{
 "cells": [
  {
   "cell_type": "code",
   "execution_count": 1,
   "metadata": {},
   "outputs": [
    {
     "name": "stdout",
     "output_type": "stream",
     "text": [
      "    symbol   contractSymbol lastPrice priceChange openPrice highPrice  \\\n",
      "0    CLV25  CLV25 (Oct '25)     63.16       +0.48     62.74     63.18   \n",
      "1    CLX25  CLX25 (Nov '25)     62.80       +0.40     62.30     62.93   \n",
      "2    CLZ25  CLZ25 (Dec '25)     62.37       +0.39     61.92     62.48   \n",
      "3    CLF26  CLF26 (Jan '26)     62.10       +0.40     61.67     62.18   \n",
      "4    CLG26  CLG26 (Feb '26)     61.91       +0.39     61.46     61.99   \n",
      "..     ...              ...       ...         ...       ...       ...   \n",
      "120  CLV35  CLV35 (Oct '35)    61.51s       +0.06      0.00     61.51   \n",
      "121  CLX35  CLX35 (Nov '35)    61.52s       +0.06      0.00     61.52   \n",
      "122  CLZ35  CLZ35 (Dec '35)    61.51s       +0.06      0.00     61.51   \n",
      "123  CLF36  CLF36 (Jan '36)    61.44s       +0.06      0.00     61.44   \n",
      "124  CLG36  CLG36 (Feb '36)    61.38s       +0.06     62.00     62.00   \n",
      "\n",
      "    lowPrice previousPrice  volume openInterest  ... raw.openPrice  \\\n",
      "0      62.74         62.68      58       17,577  ...         62.74   \n",
      "1      62.30         62.40  10,789      333,074  ...         62.30   \n",
      "2      61.90         61.98   8,058      283,551  ...         61.92   \n",
      "3      61.63         61.70   4,540      170,031  ...         61.67   \n",
      "4      61.45         61.52   1,439      108,650  ...         61.46   \n",
      "..       ...           ...     ...          ...  ...           ...   \n",
      "120    61.51         61.45       0            0  ...          0.00   \n",
      "121    61.52         61.46       0            0  ...          0.00   \n",
      "122    61.51         61.45       0            0  ...          0.00   \n",
      "123    61.44         61.38       0            0  ...          0.00   \n",
      "124    61.38         61.32       5           10  ...         62.00   \n",
      "\n",
      "    raw.highPrice  raw.lowPrice raw.previousPrice raw.volume raw.openInterest  \\\n",
      "0           63.18         62.74             62.68       58.0          17577.0   \n",
      "1           62.93         62.30             62.40    10789.0         333074.0   \n",
      "2           62.48         61.90             61.98     8058.0         283551.0   \n",
      "3           62.18         61.63             61.70     4540.0         170031.0   \n",
      "4           61.99         61.45             61.52     1439.0         108650.0   \n",
      "..            ...           ...               ...        ...              ...   \n",
      "120         61.51         61.51             61.45        0.0              0.0   \n",
      "121         61.52         61.52             61.46        0.0              0.0   \n",
      "122         61.51         61.51             61.45        0.0              0.0   \n",
      "123         61.44         61.44             61.38        0.0              0.0   \n",
      "124         62.00         61.38             61.32        5.0             10.0   \n",
      "\n",
      "     raw.tradeTime  raw.symbolCode  raw.symbolType  raw.hasOptions  \n",
      "0       1758518553             FUT               2            True  \n",
      "1       1758519956             FUT               2            True  \n",
      "2       1758519947             FUT               2            True  \n",
      "3       1758519720             FUT               2            True  \n",
      "4       1758519715             FUT               2            True  \n",
      "..             ...             ...             ...             ...  \n",
      "120     1758319320             FUT               2            True  \n",
      "121     1758319380             FUT               2            True  \n",
      "122     1758319320             FUT               2            True  \n",
      "123     1758319320             FUT               2            True  \n",
      "124     1758320820             FUT               2            True  \n",
      "\n",
      "[125 rows x 28 columns]\n",
      "['CLV25', 'CLX25', 'CLZ25', 'CLF26', 'CLG26', 'CLH26', 'CLJ26', 'CLK26', 'CLM26', 'CLN26']\n"
     ]
    },
    {
     "data": {
      "application/vnd.plotly.v1+json": {
       "config": {
        "plotlyServerURL": "https://plot.ly"
       },
       "data": [
        {
         "hovertemplate": "Contract Symbol=%{x}<br>Last Price=%{y}<extra></extra>",
         "legendgroup": "",
         "marker": {
          "color": "#636efa",
          "symbol": "circle"
         },
         "mode": "markers",
         "name": "",
         "orientation": "v",
         "showlegend": false,
         "type": "scatter",
         "x": [
          "CLV25",
          "CLX25",
          "CLZ25",
          "CLF26",
          "CLG26",
          "CLH26",
          "CLJ26",
          "CLK26",
          "CLM26",
          "CLN26",
          "CLQ26",
          "CLU26",
          "CLV26",
          "CLX26",
          "CLZ26",
          "CLF27",
          "CLG27",
          "CLH27",
          "CLJ27",
          "CLK27",
          "CLM27",
          "CLN27",
          "CLQ27",
          "CLU27",
          "CLV27",
          "CLX27",
          "CLZ27",
          "CLF28",
          "CLG28",
          "CLH28",
          "CLJ28",
          "CLK28",
          "CLM28",
          "CLN28",
          "CLQ28",
          "CLU28",
          "CLV28",
          "CLX28",
          "CLZ28",
          "CLF29",
          "CLG29",
          "CLH29",
          "CLJ29",
          "CLK29",
          "CLM29",
          "CLN29",
          "CLQ29",
          "CLU29",
          "CLV29",
          "CLX29",
          "CLZ29",
          "CLF30",
          "CLG30",
          "CLH30",
          "CLJ30",
          "CLK30",
          "CLM30",
          "CLN30",
          "CLQ30",
          "CLU30",
          "CLV30",
          "CLX30",
          "CLZ30",
          "CLF31",
          "CLG31",
          "CLH31",
          "CLJ31",
          "CLK31",
          "CLM31",
          "CLN31",
          "CLQ31",
          "CLU31",
          "CLV31",
          "CLX31",
          "CLZ31",
          "CLF32",
          "CLG32",
          "CLH32",
          "CLJ32",
          "CLK32",
          "CLM32",
          "CLN32",
          "CLQ32",
          "CLU32",
          "CLV32",
          "CLX32",
          "CLZ32",
          "CLF33",
          "CLG33",
          "CLH33",
          "CLJ33",
          "CLK33",
          "CLM33",
          "CLN33",
          "CLQ33",
          "CLU33",
          "CLV33",
          "CLX33",
          "CLZ33",
          "CLF34",
          "CLG34",
          "CLH34",
          "CLJ34",
          "CLK34",
          "CLM34",
          "CLN34",
          "CLQ34",
          "CLU34",
          "CLV34",
          "CLX34",
          "CLZ34",
          "CLF35",
          "CLG35",
          "CLH35",
          "CLJ35",
          "CLK35",
          "CLM35",
          "CLN35",
          "CLQ35",
          "CLU35",
          "CLV35",
          "CLX35",
          "CLZ35",
          "CLF36",
          "CLG36"
         ],
         "xaxis": "x",
         "y": [
          63.16,
          62.8,
          62.37,
          62.1,
          61.91,
          61.8,
          61.79,
          61.8,
          61.69,
          61.64,
          61.23,
          61.53,
          61.14,
          61.13,
          61.44,
          61.1,
          61.08,
          61.09,
          61.13,
          61.2,
          61.26,
          61.28,
          61.31,
          61.37,
          61.43,
          61.52,
          61.83,
          61.65,
          61.68,
          61.72,
          61.78,
          61.87,
          61.95,
          61.98,
          62.01,
          62.07,
          62.14,
          62.23,
          62.31,
          62.34,
          62.37,
          62.43,
          62.5,
          62.48,
          62.59,
          62.64,
          62.65,
          62.69,
          62.73,
          62.78,
          62.85,
          62.85,
          62.86,
          62.87,
          62.9,
          62.93,
          62.98,
          62.98,
          62.95,
          63.01,
          63.05,
          63.08,
          63.12,
          63.09,
          63.04,
          63.03,
          63.07,
          63.08,
          63.12,
          63.14,
          63.1,
          63.15,
          63.16,
          63.12,
          63.14,
          63.09,
          63.07,
          63.07,
          63.07,
          63.08,
          63.06,
          63.02,
          63,
          63,
          63,
          62.96,
          62.97,
          62.93,
          62.92,
          62.9,
          62.9,
          62.82,
          62.8,
          62.76,
          62.7,
          62.67,
          62.6,
          62.63,
          62.63,
          62.53,
          62.51,
          62.41,
          62.38,
          62.33,
          62.32,
          62.26,
          62.23,
          62.19,
          62.15,
          62.12,
          62.12,
          62.05,
          61.99,
          61.9,
          61.85,
          61.8,
          61.74,
          61.65,
          61.58,
          61.53,
          61.51,
          61.52,
          61.51,
          61.44,
          61.38
         ],
         "yaxis": "y"
        }
       ],
       "layout": {
        "legend": {
         "tracegroupgap": 0
        },
        "template": {
         "data": {
          "bar": [
           {
            "error_x": {
             "color": "#2a3f5f"
            },
            "error_y": {
             "color": "#2a3f5f"
            },
            "marker": {
             "line": {
              "color": "#E5ECF6",
              "width": 0.5
             },
             "pattern": {
              "fillmode": "overlay",
              "size": 10,
              "solidity": 0.2
             }
            },
            "type": "bar"
           }
          ],
          "barpolar": [
           {
            "marker": {
             "line": {
              "color": "#E5ECF6",
              "width": 0.5
             },
             "pattern": {
              "fillmode": "overlay",
              "size": 10,
              "solidity": 0.2
             }
            },
            "type": "barpolar"
           }
          ],
          "carpet": [
           {
            "aaxis": {
             "endlinecolor": "#2a3f5f",
             "gridcolor": "white",
             "linecolor": "white",
             "minorgridcolor": "white",
             "startlinecolor": "#2a3f5f"
            },
            "baxis": {
             "endlinecolor": "#2a3f5f",
             "gridcolor": "white",
             "linecolor": "white",
             "minorgridcolor": "white",
             "startlinecolor": "#2a3f5f"
            },
            "type": "carpet"
           }
          ],
          "choropleth": [
           {
            "colorbar": {
             "outlinewidth": 0,
             "ticks": ""
            },
            "type": "choropleth"
           }
          ],
          "contour": [
           {
            "colorbar": {
             "outlinewidth": 0,
             "ticks": ""
            },
            "colorscale": [
             [
              0,
              "#0d0887"
             ],
             [
              0.1111111111111111,
              "#46039f"
             ],
             [
              0.2222222222222222,
              "#7201a8"
             ],
             [
              0.3333333333333333,
              "#9c179e"
             ],
             [
              0.4444444444444444,
              "#bd3786"
             ],
             [
              0.5555555555555556,
              "#d8576b"
             ],
             [
              0.6666666666666666,
              "#ed7953"
             ],
             [
              0.7777777777777778,
              "#fb9f3a"
             ],
             [
              0.8888888888888888,
              "#fdca26"
             ],
             [
              1,
              "#f0f921"
             ]
            ],
            "type": "contour"
           }
          ],
          "contourcarpet": [
           {
            "colorbar": {
             "outlinewidth": 0,
             "ticks": ""
            },
            "type": "contourcarpet"
           }
          ],
          "heatmap": [
           {
            "colorbar": {
             "outlinewidth": 0,
             "ticks": ""
            },
            "colorscale": [
             [
              0,
              "#0d0887"
             ],
             [
              0.1111111111111111,
              "#46039f"
             ],
             [
              0.2222222222222222,
              "#7201a8"
             ],
             [
              0.3333333333333333,
              "#9c179e"
             ],
             [
              0.4444444444444444,
              "#bd3786"
             ],
             [
              0.5555555555555556,
              "#d8576b"
             ],
             [
              0.6666666666666666,
              "#ed7953"
             ],
             [
              0.7777777777777778,
              "#fb9f3a"
             ],
             [
              0.8888888888888888,
              "#fdca26"
             ],
             [
              1,
              "#f0f921"
             ]
            ],
            "type": "heatmap"
           }
          ],
          "heatmapgl": [
           {
            "colorbar": {
             "outlinewidth": 0,
             "ticks": ""
            },
            "colorscale": [
             [
              0,
              "#0d0887"
             ],
             [
              0.1111111111111111,
              "#46039f"
             ],
             [
              0.2222222222222222,
              "#7201a8"
             ],
             [
              0.3333333333333333,
              "#9c179e"
             ],
             [
              0.4444444444444444,
              "#bd3786"
             ],
             [
              0.5555555555555556,
              "#d8576b"
             ],
             [
              0.6666666666666666,
              "#ed7953"
             ],
             [
              0.7777777777777778,
              "#fb9f3a"
             ],
             [
              0.8888888888888888,
              "#fdca26"
             ],
             [
              1,
              "#f0f921"
             ]
            ],
            "type": "heatmapgl"
           }
          ],
          "histogram": [
           {
            "marker": {
             "pattern": {
              "fillmode": "overlay",
              "size": 10,
              "solidity": 0.2
             }
            },
            "type": "histogram"
           }
          ],
          "histogram2d": [
           {
            "colorbar": {
             "outlinewidth": 0,
             "ticks": ""
            },
            "colorscale": [
             [
              0,
              "#0d0887"
             ],
             [
              0.1111111111111111,
              "#46039f"
             ],
             [
              0.2222222222222222,
              "#7201a8"
             ],
             [
              0.3333333333333333,
              "#9c179e"
             ],
             [
              0.4444444444444444,
              "#bd3786"
             ],
             [
              0.5555555555555556,
              "#d8576b"
             ],
             [
              0.6666666666666666,
              "#ed7953"
             ],
             [
              0.7777777777777778,
              "#fb9f3a"
             ],
             [
              0.8888888888888888,
              "#fdca26"
             ],
             [
              1,
              "#f0f921"
             ]
            ],
            "type": "histogram2d"
           }
          ],
          "histogram2dcontour": [
           {
            "colorbar": {
             "outlinewidth": 0,
             "ticks": ""
            },
            "colorscale": [
             [
              0,
              "#0d0887"
             ],
             [
              0.1111111111111111,
              "#46039f"
             ],
             [
              0.2222222222222222,
              "#7201a8"
             ],
             [
              0.3333333333333333,
              "#9c179e"
             ],
             [
              0.4444444444444444,
              "#bd3786"
             ],
             [
              0.5555555555555556,
              "#d8576b"
             ],
             [
              0.6666666666666666,
              "#ed7953"
             ],
             [
              0.7777777777777778,
              "#fb9f3a"
             ],
             [
              0.8888888888888888,
              "#fdca26"
             ],
             [
              1,
              "#f0f921"
             ]
            ],
            "type": "histogram2dcontour"
           }
          ],
          "mesh3d": [
           {
            "colorbar": {
             "outlinewidth": 0,
             "ticks": ""
            },
            "type": "mesh3d"
           }
          ],
          "parcoords": [
           {
            "line": {
             "colorbar": {
              "outlinewidth": 0,
              "ticks": ""
             }
            },
            "type": "parcoords"
           }
          ],
          "pie": [
           {
            "automargin": true,
            "type": "pie"
           }
          ],
          "scatter": [
           {
            "fillpattern": {
             "fillmode": "overlay",
             "size": 10,
             "solidity": 0.2
            },
            "type": "scatter"
           }
          ],
          "scatter3d": [
           {
            "line": {
             "colorbar": {
              "outlinewidth": 0,
              "ticks": ""
             }
            },
            "marker": {
             "colorbar": {
              "outlinewidth": 0,
              "ticks": ""
             }
            },
            "type": "scatter3d"
           }
          ],
          "scattercarpet": [
           {
            "marker": {
             "colorbar": {
              "outlinewidth": 0,
              "ticks": ""
             }
            },
            "type": "scattercarpet"
           }
          ],
          "scattergeo": [
           {
            "marker": {
             "colorbar": {
              "outlinewidth": 0,
              "ticks": ""
             }
            },
            "type": "scattergeo"
           }
          ],
          "scattergl": [
           {
            "marker": {
             "colorbar": {
              "outlinewidth": 0,
              "ticks": ""
             }
            },
            "type": "scattergl"
           }
          ],
          "scattermapbox": [
           {
            "marker": {
             "colorbar": {
              "outlinewidth": 0,
              "ticks": ""
             }
            },
            "type": "scattermapbox"
           }
          ],
          "scatterpolar": [
           {
            "marker": {
             "colorbar": {
              "outlinewidth": 0,
              "ticks": ""
             }
            },
            "type": "scatterpolar"
           }
          ],
          "scatterpolargl": [
           {
            "marker": {
             "colorbar": {
              "outlinewidth": 0,
              "ticks": ""
             }
            },
            "type": "scatterpolargl"
           }
          ],
          "scatterternary": [
           {
            "marker": {
             "colorbar": {
              "outlinewidth": 0,
              "ticks": ""
             }
            },
            "type": "scatterternary"
           }
          ],
          "surface": [
           {
            "colorbar": {
             "outlinewidth": 0,
             "ticks": ""
            },
            "colorscale": [
             [
              0,
              "#0d0887"
             ],
             [
              0.1111111111111111,
              "#46039f"
             ],
             [
              0.2222222222222222,
              "#7201a8"
             ],
             [
              0.3333333333333333,
              "#9c179e"
             ],
             [
              0.4444444444444444,
              "#bd3786"
             ],
             [
              0.5555555555555556,
              "#d8576b"
             ],
             [
              0.6666666666666666,
              "#ed7953"
             ],
             [
              0.7777777777777778,
              "#fb9f3a"
             ],
             [
              0.8888888888888888,
              "#fdca26"
             ],
             [
              1,
              "#f0f921"
             ]
            ],
            "type": "surface"
           }
          ],
          "table": [
           {
            "cells": {
             "fill": {
              "color": "#EBF0F8"
             },
             "line": {
              "color": "white"
             }
            },
            "header": {
             "fill": {
              "color": "#C8D4E3"
             },
             "line": {
              "color": "white"
             }
            },
            "type": "table"
           }
          ]
         },
         "layout": {
          "annotationdefaults": {
           "arrowcolor": "#2a3f5f",
           "arrowhead": 0,
           "arrowwidth": 1
          },
          "autotypenumbers": "strict",
          "coloraxis": {
           "colorbar": {
            "outlinewidth": 0,
            "ticks": ""
           }
          },
          "colorscale": {
           "diverging": [
            [
             0,
             "#8e0152"
            ],
            [
             0.1,
             "#c51b7d"
            ],
            [
             0.2,
             "#de77ae"
            ],
            [
             0.3,
             "#f1b6da"
            ],
            [
             0.4,
             "#fde0ef"
            ],
            [
             0.5,
             "#f7f7f7"
            ],
            [
             0.6,
             "#e6f5d0"
            ],
            [
             0.7,
             "#b8e186"
            ],
            [
             0.8,
             "#7fbc41"
            ],
            [
             0.9,
             "#4d9221"
            ],
            [
             1,
             "#276419"
            ]
           ],
           "sequential": [
            [
             0,
             "#0d0887"
            ],
            [
             0.1111111111111111,
             "#46039f"
            ],
            [
             0.2222222222222222,
             "#7201a8"
            ],
            [
             0.3333333333333333,
             "#9c179e"
            ],
            [
             0.4444444444444444,
             "#bd3786"
            ],
            [
             0.5555555555555556,
             "#d8576b"
            ],
            [
             0.6666666666666666,
             "#ed7953"
            ],
            [
             0.7777777777777778,
             "#fb9f3a"
            ],
            [
             0.8888888888888888,
             "#fdca26"
            ],
            [
             1,
             "#f0f921"
            ]
           ],
           "sequentialminus": [
            [
             0,
             "#0d0887"
            ],
            [
             0.1111111111111111,
             "#46039f"
            ],
            [
             0.2222222222222222,
             "#7201a8"
            ],
            [
             0.3333333333333333,
             "#9c179e"
            ],
            [
             0.4444444444444444,
             "#bd3786"
            ],
            [
             0.5555555555555556,
             "#d8576b"
            ],
            [
             0.6666666666666666,
             "#ed7953"
            ],
            [
             0.7777777777777778,
             "#fb9f3a"
            ],
            [
             0.8888888888888888,
             "#fdca26"
            ],
            [
             1,
             "#f0f921"
            ]
           ]
          },
          "colorway": [
           "#636efa",
           "#EF553B",
           "#00cc96",
           "#ab63fa",
           "#FFA15A",
           "#19d3f3",
           "#FF6692",
           "#B6E880",
           "#FF97FF",
           "#FECB52"
          ],
          "font": {
           "color": "#2a3f5f"
          },
          "geo": {
           "bgcolor": "white",
           "lakecolor": "white",
           "landcolor": "#E5ECF6",
           "showlakes": true,
           "showland": true,
           "subunitcolor": "white"
          },
          "hoverlabel": {
           "align": "left"
          },
          "hovermode": "closest",
          "mapbox": {
           "style": "light"
          },
          "paper_bgcolor": "white",
          "plot_bgcolor": "#E5ECF6",
          "polar": {
           "angularaxis": {
            "gridcolor": "white",
            "linecolor": "white",
            "ticks": ""
           },
           "bgcolor": "#E5ECF6",
           "radialaxis": {
            "gridcolor": "white",
            "linecolor": "white",
            "ticks": ""
           }
          },
          "scene": {
           "xaxis": {
            "backgroundcolor": "#E5ECF6",
            "gridcolor": "white",
            "gridwidth": 2,
            "linecolor": "white",
            "showbackground": true,
            "ticks": "",
            "zerolinecolor": "white"
           },
           "yaxis": {
            "backgroundcolor": "#E5ECF6",
            "gridcolor": "white",
            "gridwidth": 2,
            "linecolor": "white",
            "showbackground": true,
            "ticks": "",
            "zerolinecolor": "white"
           },
           "zaxis": {
            "backgroundcolor": "#E5ECF6",
            "gridcolor": "white",
            "gridwidth": 2,
            "linecolor": "white",
            "showbackground": true,
            "ticks": "",
            "zerolinecolor": "white"
           }
          },
          "shapedefaults": {
           "line": {
            "color": "#2a3f5f"
           }
          },
          "ternary": {
           "aaxis": {
            "gridcolor": "white",
            "linecolor": "white",
            "ticks": ""
           },
           "baxis": {
            "gridcolor": "white",
            "linecolor": "white",
            "ticks": ""
           },
           "bgcolor": "#E5ECF6",
           "caxis": {
            "gridcolor": "white",
            "linecolor": "white",
            "ticks": ""
           }
          },
          "title": {
           "x": 0.05
          },
          "xaxis": {
           "automargin": true,
           "gridcolor": "white",
           "linecolor": "white",
           "ticks": "",
           "title": {
            "standoff": 15
           },
           "zerolinecolor": "white",
           "zerolinewidth": 2
          },
          "yaxis": {
           "automargin": true,
           "gridcolor": "white",
           "linecolor": "white",
           "ticks": "",
           "title": {
            "standoff": 15
           },
           "zerolinecolor": "white",
           "zerolinewidth": 2
          }
         }
        },
        "title": {
         "text": "Forward Curve"
        },
        "xaxis": {
         "anchor": "y",
         "domain": [
          0,
          1
         ],
         "title": {
          "text": "Contract Symbol"
         }
        },
        "yaxis": {
         "anchor": "x",
         "domain": [
          0,
          1
         ],
         "title": {
          "text": "Last Price"
         }
        }
       }
      }
     },
     "metadata": {},
     "output_type": "display_data"
    }
   ],
   "source": [
    "import requests\n",
    "import pandas as pd\n",
    "from urllib.parse import unquote\n",
    "import plotly.express as px\n",
    "\n",
    "# URLs and headers\n",
    "geturl = 'https://www.barchart.com/futures/quotes/CLF25/options/jan-25?futuresOptionsView=merged'\n",
    "apiurl = 'https://www.barchart.com/proxies/core-api/v1/quotes/get'\n",
    "\n",
    "getheaders = {\n",
    "    'accept': 'text/html,application/xhtml+xml,application/xml;q=0.9,image/webp,image/apng,*/*;q=0.8',\n",
    "    'accept-encoding': 'gzip, deflate, br',\n",
    "    'accept-language': 'en-US,en;q=0.9',\n",
    "    'cache-control': 'max-age=0',\n",
    "    'upgrade-insecure-requests': '1',\n",
    "    'user-agent': 'Mozilla/5.0 (Windows NT 10.0; Win64; x64) AppleWebKit/537.36 (KHTML, like Gecko) Chrome/72.0.3626.119 Safari/537.36'\n",
    "}\n",
    "\n",
    "getpay = {\n",
    "    'page': 'all'\n",
    "}\n",
    "\n",
    "s = requests.Session()\n",
    "r = s.get(geturl, params=getpay, headers=getheaders)\n",
    "\n",
    "headers = {\n",
    "    'accept': 'application/json',\n",
    "    'accept-encoding': 'gzip, deflate, br',\n",
    "    'accept-language': 'en-US,en;q=0.9',\n",
    "    'referer': 'https://www.barchart.com/futures/quotes/CLF25/options/oct-24?futuresOptionsView=merged',\n",
    "    'user-agent': 'Mozilla/5.0 (Windows NT 10.0; Win64; x64) AppleWebKit/537.36 (KHTML, like Gecko) Chrome/72.0.3626.119 Safari/537.36',\n",
    "    'x-xsrf-token': unquote(unquote(s.cookies.get_dict()['XSRF-TOKEN']))\n",
    "}\n",
    "\n",
    "payload = {\n",
    "    'fields': 'symbol,contractSymbol,lastPrice,priceChange,openPrice,highPrice,lowPrice,previousPrice,volume,openInterest,tradeTime,symbolCode,symbolType,hasOptions',\n",
    "    'list': 'futures.contractInRoot',\n",
    "    'root': 'CL',\n",
    "    'meta': 'field.shortName,field.type,field.description',\n",
    "    'hasOptions': 'true',\n",
    "    'raw': '1'\n",
    "}\n",
    "\n",
    "r = s.get(apiurl, params=payload, headers=headers)\n",
    "j = r.json()\n",
    "\n",
    "# Convert JSON to DataFrame\n",
    "df = pd.json_normalize(j['data'])  # Adjust the key based on the actual structure of your JSON\n",
    "df = df.drop(0).reset_index(drop=True)\n",
    "# Print DataFrame\n",
    "print(df)\n",
    "first_10_symbols = df['symbol'].iloc[:10].tolist()\n",
    "print(first_10_symbols)\n",
    "\n",
    "\n",
    "# Clean the 'lastPrice' column: remove non-numeric characters and convert to float\n",
    "df['lastPrice'] = df['lastPrice'].str.replace('s', '', regex=False).astype(float)\n",
    "\n",
    "# Plot using Plotly\n",
    "fig = px.scatter(df, x='symbol', y='lastPrice', \n",
    "                 title='Forward Curve',\n",
    "                 labels={'symbol': 'Contract Symbol', 'lastPrice': 'Last Price'},)\n",
    "\n",
    "# Show the plot\n",
    "fig.show()"
   ]
  },
  {
   "cell_type": "code",
   "execution_count": 2,
   "metadata": {},
   "outputs": [
    {
     "name": "stdout",
     "output_type": "stream",
     "text": [
      "Could not find options toolbar for CLV25.\n",
      "  Contract  Last Price Expiration Date  Options Days to Expiry  \\\n",
      "0    CLX25       62.80        10/16/25                      24   \n",
      "1    CLZ25       62.37        11/17/25                      56   \n",
      "2    CLF26       62.10        12/16/25                      85   \n",
      "3    CLG26       61.91        01/14/26                     114   \n",
      "4    CLH26       61.80        02/17/26                     148   \n",
      "5    CLJ26       61.79        03/17/26                     176   \n",
      "6    CLK26       61.80        04/16/26                     206   \n",
      "7    CLM26       61.69        05/14/26                     234   \n",
      "8    CLN26       61.64        06/16/26                     267   \n",
      "\n",
      "    Futures Implied Volatility  \n",
      "0                        26.76  \n",
      "1                        28.33  \n",
      "2                        29.29  \n",
      "3                        29.49  \n",
      "4                        29.70  \n",
      "5                        29.78  \n",
      "6                        29.73  \n",
      "7                        29.58  \n",
      "8                        29.15  \n"
     ]
    }
   ],
   "source": [
    "import requests\n",
    "import pandas as pd\n",
    "import sqlite3\n",
    "from bs4 import BeautifulSoup\n",
    "import datetime\n",
    "\n",
    "\n",
    "# Base URL format\n",
    "base_url = \"https://www.barchart.com/futures/quotes/{}/options/\"\n",
    "\n",
    "# Headers to avoid 403 errors\n",
    "headers = {\n",
    "    'User-Agent': 'Mozilla/5.0 (Windows NT 10.0; Win64; x64) AppleWebKit/537.36 (KHTML, like Gecko) Chrome/91.0.4472.124 Safari/537.36',\n",
    "    'Referer': 'https://www.google.com/',\n",
    "    'Accept-Language': 'en-US,en;q=0.9',\n",
    "}\n",
    "\n",
    "# List to store extracted data\n",
    "data = []\n",
    "\n",
    "# Scrape data for each contract\n",
    "for contract in first_10_symbols:\n",
    "    url = base_url.format(contract)\n",
    "    response = requests.get(url, headers=headers)\n",
    "\n",
    "    if response.status_code == 200:\n",
    "        soup = BeautifulSoup(response.content, 'html.parser')\n",
    "        toolbar = soup.find('div', class_='row bc-options-toolbar__second-row')\n",
    "\n",
    "        if toolbar:\n",
    "            columns = toolbar.find_all('div', class_='column')\n",
    "        \n",
    "\n",
    "            days_to_expiry = columns[0].get_text(strip=True)\n",
    "            implied_volatility = columns[1].get_text(strip=True)\n",
    "\n",
    "            # Extract only numerical values\n",
    "            expiration_date = days_to_expiry.split()[3][2:]\n",
    "            days_to_expiry = int(days_to_expiry.split()[0])\n",
    "            \n",
    "            implied_volatility = float(implied_volatility.split(\":\")[1].replace(\"%\", \"\").strip())\n",
    "\n",
    "            # Get last price from df\n",
    "            last_price = df.loc[df[\"symbol\"] == contract, \"lastPrice\"].values[0]\n",
    "\n",
    "            # Append data\n",
    "            data.append([contract, last_price,expiration_date, days_to_expiry, implied_volatility])\n",
    "        else:\n",
    "            print(f\"Could not find options toolbar for {contract}.\")\n",
    "    else:\n",
    "        print(f\"Failed to fetch data for {contract}. Status code: {response.status_code}\")\n",
    "\n",
    "# Create DataFrame\n",
    "futures_df = pd.DataFrame(data, columns=[\"Contract\", \"Last Price\",\"Expiration Date\", \"Options Days to Expiry\", \" Futures Implied Volatility\"])\n",
    "\n",
    "\n",
    "# Display the DataFrame\n",
    "print(futures_df)\n"
   ]
  },
  {
   "cell_type": "code",
   "execution_count": 3,
   "metadata": {},
   "outputs": [],
   "source": [
    "import requests\n",
    "from urllib.parse import unquote\n",
    "import pandas as pd\n",
    "\n",
    "headers = {\n",
    "    \"User-Agent\": \"Mozilla/5.0 (Windows NT 10.0; Win64; x64; rv:90.0) Gecko/20100101 Firefox/90.0\",\n",
    "}\n",
    "\n",
    "def main(url, symbols):\n",
    "    with requests.Session() as req:\n",
    "        req.headers.update(headers)\n",
    "        r = req.get(url[:25])\n",
    "        req.headers.update(\n",
    "            {'X-XSRF-TOKEN': unquote(r.cookies.get_dict()['XSRF-TOKEN'])})\n",
    "        \n",
    "\n",
    "        results = {}\n",
    "        for i, symbol in enumerate(symbols, start=1):\n",
    "            params = {\n",
    "                \"symbol\": symbol,\n",
    "                \"list\": \"futures.options\",\n",
    "                \"fields\": \"strike,openPrice,highPrice,lowPrice,lastPrice,priceChange,bidPrice,askPrice,volume,openInterest,premium,tradeTime,longSymbol,optionType,symbol\",\n",
    "                \"orderBy\": \"strike\",\n",
    "                \"orderDir\": \"asc\",\n",
    "                \"meta\": \"field.shortName,field.description,field.type\",\n",
    "                \"futureOptions\": \"true\",\n",
    "                \"noPagination\": \"true\",\n",
    "                \"showExpandLink\": \"false\"\n",
    "            }\n",
    "            \n",
    "            r = req.get(url, params=params).json()\n",
    "            \n",
    "            df = pd.DataFrame(r['data'])\n",
    "            df['strike'] = df['strike'].astype(str).str.replace(r'[CP]', '', regex=True)\n",
    "            df['volume'] = pd.to_numeric(df['volume'], errors='coerce').fillna(0).astype(int)\n",
    "            df['openInterest'] = pd.to_numeric(df['openInterest'], errors='coerce').fillna(0).astype(int)\n",
    "            df['lastPrice'] = df['lastPrice'].str.replace(r'[a-zA-Z]', '', regex=True).astype(float)\n",
    "\n",
    "            \n",
    "            \n",
    "            calls_df = df[df['optionType'] == 'Call']\n",
    "            puts_df = df[df['optionType'] == 'Put']\n",
    "            \n",
    "            results[symbol] = (calls_df, puts_df)\n",
    "\n",
    "        return results\n",
    "                \n",
    "\n",
    "# Specify the URL and the output file path\n",
    "url = 'https://www.barchart.com/proxies/core-api/v1/quotes/get?'\n",
    "\n",
    "\n",
    "\n",
    "# Call the main function with the list of symbols and output file\n",
    "results = main(url, first_10_symbols)\n",
    "\n"
   ]
  },
  {
   "cell_type": "code",
   "execution_count": 4,
   "metadata": {},
   "outputs": [
    {
     "name": "stdout",
     "output_type": "stream",
     "text": [
      "['CLQ25', 'CLU25', 'CLV25', 'CLX25', 'CLZ25', 'CLF26', 'CLG26', 'CLH26', 'CLJ26', 'CLK26']\n",
      "Symbol: CLQ25\n",
      "DataFrame Columns:\n",
      "Index(['strike', 'openPrice', 'highPrice', 'lowPrice', 'lastPrice',\n",
      "       'priceChange', 'bidPrice', 'askPrice', 'volume', 'openInterest',\n",
      "       'premium', 'tradeTime', 'longSymbol', 'optionType', 'symbol'],\n",
      "      dtype='object')\n",
      "Calls DataFrame Sample:\n",
      "   strike openPrice highPrice lowPrice  lastPrice priceChange bidPrice  \\\n",
      "17  30.00       N/A     38.38    38.38      38.38       +0.05      N/A   \n",
      "38  40.00       N/A     28.38    28.38      28.38       +0.05     0.25   \n",
      "41  41.00       N/A     27.38    27.38      27.38       +0.05      N/A   \n",
      "54  47.00       N/A     21.38    21.38      21.38       +0.05      N/A   \n",
      "57  48.00       N/A     20.38    20.38      20.38       +0.05      N/A   \n",
      "\n",
      "   askPrice  volume  openInterest    premium tradeTime longSymbol optionType  \\\n",
      "17      N/A       0            29  38,380.00  07/09/25  CLQ5|300C       Call   \n",
      "38      N/A       0            26  28,380.00  07/09/25  CLQ5|400C       Call   \n",
      "41      N/A       0            30  27,380.00  07/09/25  CLQ5|410C       Call   \n",
      "54      N/A       0            20  21,380.00  07/09/25  CLQ5|470C       Call   \n",
      "57      N/A       0             0  20,380.00  07/09/25  CLQ5|480C       Call   \n",
      "\n",
      "       symbol  \n",
      "17  CLQ5|300C  \n",
      "38  CLQ5|400C  \n",
      "41  CLQ5|410C  \n",
      "54  CLQ5|470C  \n",
      "57  CLQ5|480C  \n",
      "Puts DataFrame Sample:\n",
      "  strike openPrice highPrice lowPrice  lastPrice priceChange bidPrice  \\\n",
      "0  21.00       N/A      0.01     0.01       0.01        unch      N/A   \n",
      "1  21.50       N/A      0.01     0.01       0.01        unch      N/A   \n",
      "2  22.00       N/A      0.01     0.01       0.01        unch      N/A   \n",
      "3  22.50       N/A      0.01     0.01       0.01        unch      N/A   \n",
      "4  23.00       N/A      0.01     0.01       0.01        unch      N/A   \n",
      "\n",
      "  askPrice  volume  openInterest premium tradeTime longSymbol optionType  \\\n",
      "0      N/A       0             1   10.00  07/09/25  CLQ5|210P        Put   \n",
      "1      N/A       0             6   10.00  07/09/25  CLQ5|215P        Put   \n",
      "2      N/A       0            12   10.00  07/09/25  CLQ5|220P        Put   \n",
      "3      N/A       0             3   10.00  07/09/25  CLQ5|225P        Put   \n",
      "4      N/A       0            13   10.00  07/09/25  CLQ5|230P        Put   \n",
      "\n",
      "      symbol  \n",
      "0  CLQ5|210P  \n",
      "1  CLQ5|215P  \n",
      "2  CLQ5|220P  \n",
      "3  CLQ5|225P  \n",
      "4  CLQ5|230P  \n",
      "Symbol: CLU25\n",
      "DataFrame Columns:\n",
      "Index(['strike', 'openPrice', 'highPrice', 'lowPrice', 'lastPrice',\n",
      "       'priceChange', 'bidPrice', 'askPrice', 'volume', 'openInterest',\n",
      "       'premium', 'tradeTime', 'longSymbol', 'optionType', 'symbol'],\n",
      "      dtype='object')\n",
      "Calls DataFrame Sample:\n",
      "   strike openPrice highPrice lowPrice  lastPrice priceChange bidPrice  \\\n",
      "37  40.00       N/A     26.97    26.97      26.97       -0.01      N/A   \n",
      "40  41.00       N/A     25.98    25.98      25.98       -0.01      N/A   \n",
      "43  42.00       N/A     24.98    24.98      24.98       -0.01      N/A   \n",
      "46  43.00       N/A     23.99    23.99      23.99       -0.01      N/A   \n",
      "51  45.00       N/A     22.00    22.00      22.00       -0.01      N/A   \n",
      "\n",
      "   askPrice  volume  openInterest    premium tradeTime longSymbol optionType  \\\n",
      "37      N/A       0           202  26,970.00  07/09/25  CLU5|400C       Call   \n",
      "40      N/A       0             6  25,980.00  07/09/25  CLU5|410C       Call   \n",
      "43      N/A       0             5  24,980.00  07/09/25  CLU5|420C       Call   \n",
      "46      N/A       0             1  23,990.00  07/09/25  CLU5|430C       Call   \n",
      "51      N/A       0            55  22,000.00  07/09/25  CLU5|450C       Call   \n",
      "\n",
      "       symbol  \n",
      "37  CLU5|400C  \n",
      "40  CLU5|410C  \n",
      "43  CLU5|420C  \n",
      "46  CLU5|430C  \n",
      "51  CLU5|450C  \n",
      "Puts DataFrame Sample:\n",
      "  strike openPrice highPrice lowPrice  lastPrice priceChange bidPrice  \\\n",
      "0  20.50       N/A      0.01     0.01       0.01        unch      N/A   \n",
      "1  21.00       N/A      0.01     0.01       0.01        unch      N/A   \n",
      "2  21.50       N/A      0.01     0.01       0.01        unch      N/A   \n",
      "3  22.00       N/A      0.01     0.01       0.01        unch      N/A   \n",
      "4  22.50       N/A      0.01     0.01       0.01        unch      N/A   \n",
      "\n",
      "  askPrice  volume  openInterest premium tradeTime longSymbol optionType  \\\n",
      "0      N/A       0            32   10.00  07/09/25  CLU5|205P        Put   \n",
      "1      N/A       0            15   10.00  07/09/25  CLU5|210P        Put   \n",
      "2      N/A       0            85   10.00  07/09/25  CLU5|215P        Put   \n",
      "3      N/A       0            46   10.00  07/09/25  CLU5|220P        Put   \n",
      "4      N/A       0            20   10.00  07/09/25  CLU5|225P        Put   \n",
      "\n",
      "      symbol  \n",
      "0  CLU5|205P  \n",
      "1  CLU5|210P  \n",
      "2  CLU5|215P  \n",
      "3  CLU5|220P  \n",
      "4  CLU5|225P  \n",
      "Symbol: CLV25\n",
      "DataFrame Columns:\n",
      "Index(['strike', 'openPrice', 'highPrice', 'lowPrice', 'lastPrice',\n",
      "       'priceChange', 'bidPrice', 'askPrice', 'volume', 'openInterest',\n",
      "       'premium', 'tradeTime', 'longSymbol', 'optionType', 'symbol'],\n",
      "      dtype='object')\n",
      "Calls DataFrame Sample:\n",
      "   strike openPrice highPrice lowPrice  lastPrice priceChange bidPrice  \\\n",
      "27  35.00       N/A     30.64    30.64      30.64       -0.06      N/A   \n",
      "30  36.00       N/A     29.64    29.64      29.64       -0.06      N/A   \n",
      "39  40.00       N/A     25.67    25.67      25.67       -0.06      N/A   \n",
      "44  42.00       N/A     23.69    23.69      23.69       -0.06      N/A   \n",
      "49  44.00       N/A     21.72    21.72      21.72       -0.06      N/A   \n",
      "\n",
      "   askPrice  volume  openInterest    premium tradeTime longSymbol optionType  \\\n",
      "27      N/A       0            46  30,640.00  07/09/25  CLV5|350C       Call   \n",
      "30      N/A       0            30  29,640.00  07/09/25  CLV5|360C       Call   \n",
      "39      N/A       0             6  25,670.00  07/09/25  CLV5|400C       Call   \n",
      "44      N/A       0             1  23,690.00  07/09/25  CLV5|420C       Call   \n",
      "49      N/A       0             2  21,720.00  07/09/25  CLV5|440C       Call   \n",
      "\n",
      "       symbol  \n",
      "27  CLV5|350C  \n",
      "30  CLV5|360C  \n",
      "39  CLV5|400C  \n",
      "44  CLV5|420C  \n",
      "49  CLV5|440C  \n",
      "Puts DataFrame Sample:\n",
      "  strike openPrice highPrice lowPrice  lastPrice priceChange bidPrice  \\\n",
      "0  20.50       N/A      0.01     0.01       0.01        unch      N/A   \n",
      "1  21.00       N/A      0.01     0.01       0.01        unch      N/A   \n",
      "2  21.50       N/A      0.01     0.01       0.01        unch      N/A   \n",
      "3  22.00       N/A      0.01     0.01       0.01        unch      N/A   \n",
      "4  23.00       N/A      0.01     0.01       0.01        unch      N/A   \n",
      "\n",
      "  askPrice  volume  openInterest premium tradeTime longSymbol optionType  \\\n",
      "0     0.03       0             7   10.00  07/09/25  CLV5|205P        Put   \n",
      "1     0.03       0            24   10.00  07/09/25  CLV5|210P        Put   \n",
      "2     0.03       0             5   10.00  07/09/25  CLV5|215P        Put   \n",
      "3     0.03       0            83   10.00  07/09/25  CLV5|220P        Put   \n",
      "4     0.03       0           338   10.00  07/09/25  CLV5|230P        Put   \n",
      "\n",
      "      symbol  \n",
      "0  CLV5|205P  \n",
      "1  CLV5|210P  \n",
      "2  CLV5|215P  \n",
      "3  CLV5|220P  \n",
      "4  CLV5|230P  \n",
      "Symbol: CLX25\n",
      "DataFrame Columns:\n",
      "Index(['strike', 'openPrice', 'highPrice', 'lowPrice', 'lastPrice',\n",
      "       'priceChange', 'bidPrice', 'askPrice', 'volume', 'openInterest',\n",
      "       'premium', 'tradeTime', 'longSymbol', 'optionType', 'symbol'],\n",
      "      dtype='object')\n",
      "Calls DataFrame Sample:\n",
      "   strike openPrice highPrice lowPrice  lastPrice priceChange bidPrice  \\\n",
      "35  40.50       N/A     24.29    24.29      24.29       -0.11      N/A   \n",
      "37  41.00       N/A     23.80    23.80      23.80       -0.11      N/A   \n",
      "39  41.50       N/A     23.31    23.31      23.31       -0.11      N/A   \n",
      "41  42.00       N/A     22.82    22.82      22.82       -0.11      N/A   \n",
      "45  43.50       N/A     21.36    21.36      21.36       -0.11    21.25   \n",
      "\n",
      "   askPrice  volume  openInterest    premium tradeTime longSymbol optionType  \\\n",
      "35      N/A       0             1  24,290.00  07/09/25  CLX5|405C       Call   \n",
      "37      N/A       0            39  23,800.00  07/09/25  CLX5|410C       Call   \n",
      "39      N/A       0            33  23,310.00  07/09/25  CLX5|415C       Call   \n",
      "41      N/A       0             3  22,820.00  07/09/25  CLX5|420C       Call   \n",
      "45    21.40       0             5  21,360.00  07/09/25  CLX5|435C       Call   \n",
      "\n",
      "       symbol  \n",
      "35  CLX5|405C  \n",
      "37  CLX5|410C  \n",
      "39  CLX5|415C  \n",
      "41  CLX5|420C  \n",
      "45  CLX5|435C  \n",
      "Puts DataFrame Sample:\n",
      "  strike openPrice highPrice lowPrice  lastPrice priceChange bidPrice  \\\n",
      "0  21.50       N/A      0.02     0.02       0.02        unch      N/A   \n",
      "1  22.00       N/A      0.02     0.02       0.02        unch      N/A   \n",
      "2  22.50       N/A      0.02     0.02       0.02        unch      N/A   \n",
      "3  23.00       N/A      0.03     0.03       0.03        unch      N/A   \n",
      "4  23.50       N/A      0.03     0.03       0.03        unch     0.01   \n",
      "\n",
      "  askPrice  volume  openInterest premium tradeTime longSymbol optionType  \\\n",
      "0     0.04       0             5   20.00  07/09/25  CLX5|215P        Put   \n",
      "1     0.04       0            90   20.00  07/09/25  CLX5|220P        Put   \n",
      "2     0.04       0            36   20.00  07/09/25  CLX5|225P        Put   \n",
      "3     0.05       0           180   30.00  07/09/25  CLX5|230P        Put   \n",
      "4     0.05       0             2   30.00  07/09/25  CLX5|235P        Put   \n",
      "\n",
      "      symbol  \n",
      "0  CLX5|215P  \n",
      "1  CLX5|220P  \n",
      "2  CLX5|225P  \n",
      "3  CLX5|230P  \n",
      "4  CLX5|235P  \n",
      "Symbol: CLZ25\n",
      "DataFrame Columns:\n",
      "Index(['strike', 'openPrice', 'highPrice', 'lowPrice', 'lastPrice',\n",
      "       'priceChange', 'bidPrice', 'askPrice', 'volume', 'openInterest',\n",
      "       'premium', 'tradeTime', 'longSymbol', 'optionType', 'symbol'],\n",
      "      dtype='object')\n",
      "Calls DataFrame Sample:\n",
      "   strike openPrice highPrice lowPrice  lastPrice priceChange bidPrice  \\\n",
      "36  39.00     25.36     25.36    24.76      25.36        unch    25.05   \n",
      "39  40.00     24.18     24.67    23.79      24.18       -0.16    24.08   \n",
      "42  41.00       N/A     23.70    22.82      23.22       -0.16    23.11   \n",
      "46  42.50       N/A     22.26    21.38      21.78       -0.15    21.67   \n",
      "48  43.00       N/A     21.78    20.91      21.31       -0.14    21.19   \n",
      "\n",
      "   askPrice  volume  openInterest    premium tradeTime longSymbol optionType  \\\n",
      "36    25.21       1             1  25,360.00  07/09/25  CLZ5|390C       Call   \n",
      "39    24.23       1           474  24,180.00  07/09/25  CLZ5|400C       Call   \n",
      "42    23.27       0             1  23,220.00  07/09/25  CLZ5|410C       Call   \n",
      "46    21.82       0            23  21,780.00  07/09/25  CLZ5|425C       Call   \n",
      "48    21.34       0            30  21,310.00  07/09/25  CLZ5|430C       Call   \n",
      "\n",
      "       symbol  \n",
      "36  CLZ5|390C  \n",
      "39  CLZ5|400C  \n",
      "42  CLZ5|410C  \n",
      "46  CLZ5|425C  \n",
      "48  CLZ5|430C  \n",
      "Puts DataFrame Sample:\n",
      "  strike openPrice highPrice lowPrice  lastPrice priceChange bidPrice  \\\n",
      "0  20.50       N/A      0.03     0.03       0.03        unch     0.01   \n",
      "1  21.00       N/A      0.03     0.03       0.03        unch     0.01   \n",
      "2  21.50       N/A      0.03     0.03       0.03        unch     0.01   \n",
      "3  22.00       N/A      0.04     0.04       0.04       +0.01     0.01   \n",
      "4  23.00       N/A      0.04     0.04       0.04        unch     0.02   \n",
      "\n",
      "  askPrice  volume  openInterest premium tradeTime longSymbol optionType  \\\n",
      "0     0.05       0           116   30.00  07/09/25  CLZ5|205P        Put   \n",
      "1     0.05       0            28   30.00  07/09/25  CLZ5|210P        Put   \n",
      "2     0.05       0             4   30.00  07/09/25  CLZ5|215P        Put   \n",
      "3     0.06       0            83   40.00  07/09/25  CLZ5|220P        Put   \n",
      "4     0.06       0            17   40.00  07/09/25  CLZ5|230P        Put   \n",
      "\n",
      "      symbol  \n",
      "0  CLZ5|205P  \n",
      "1  CLZ5|210P  \n",
      "2  CLZ5|215P  \n",
      "3  CLZ5|220P  \n",
      "4  CLZ5|230P  \n",
      "Symbol: CLF26\n",
      "DataFrame Columns:\n",
      "Index(['strike', 'openPrice', 'highPrice', 'lowPrice', 'lastPrice',\n",
      "       'priceChange', 'bidPrice', 'askPrice', 'volume', 'openInterest',\n",
      "       'premium', 'tradeTime', 'longSymbol', 'optionType', 'symbol'],\n",
      "      dtype='object')\n",
      "Calls DataFrame Sample:\n",
      "   strike openPrice highPrice lowPrice  lastPrice priceChange bidPrice  \\\n",
      "22  37.50     26.11     26.29    26.11      26.11        unch    26.16   \n",
      "23  38.00       N/A     25.80    25.80      25.80       -0.18    25.68   \n",
      "27  39.50       N/A     24.35    24.35      24.35       -0.18    24.23   \n",
      "32  41.50     22.26     22.43    22.26      22.26        unch    22.32   \n",
      "34  42.50       N/A     21.48    21.48      21.48       -0.19    21.37   \n",
      "\n",
      "   askPrice  volume  openInterest    premium tradeTime longSymbol optionType  \\\n",
      "22    26.33       1             1  26,110.00  07/09/25  CLF6|375C       Call   \n",
      "23    25.85       0             1  25,800.00  07/09/25  CLF6|380C       Call   \n",
      "27    24.40       0             1  24,350.00  07/09/25  CLF6|395C       Call   \n",
      "32    22.48       1             1  22,260.00  07/09/25  CLF6|415C       Call   \n",
      "34    21.53       0            16  21,480.00  07/09/25  CLF6|425C       Call   \n",
      "\n",
      "       symbol  \n",
      "22  CLF6|375C  \n",
      "23  CLF6|380C  \n",
      "27  CLF6|395C  \n",
      "32  CLF6|415C  \n",
      "34  CLF6|425C  \n",
      "Puts DataFrame Sample:\n",
      "  strike openPrice highPrice lowPrice  lastPrice priceChange bidPrice  \\\n",
      "0  21.00       N/A      0.05     0.05       0.05       +0.01     0.02   \n",
      "1  22.00       N/A      0.05     0.05       0.05        unch     0.03   \n",
      "2  22.50       N/A      0.06     0.06       0.06       +0.01     0.03   \n",
      "3  24.00       N/A      0.07     0.07       0.07       +0.01     0.04   \n",
      "4  24.50       N/A      0.07     0.07       0.07        unch     0.05   \n",
      "\n",
      "  askPrice  volume  openInterest premium tradeTime longSymbol optionType  \\\n",
      "0     0.06       0             2   50.00  07/09/25  CLF6|210P        Put   \n",
      "1     0.07       0            20   50.00  07/09/25  CLF6|220P        Put   \n",
      "2     0.07       0             1   60.00  07/09/25  CLF6|225P        Put   \n",
      "3     0.09       0             1   70.00  07/09/25  CLF6|240P        Put   \n",
      "4     0.09       0             1   70.00  07/09/25  CLF6|245P        Put   \n",
      "\n",
      "      symbol  \n",
      "0  CLF6|210P  \n",
      "1  CLF6|220P  \n",
      "2  CLF6|225P  \n",
      "3  CLF6|240P  \n",
      "4  CLF6|245P  \n",
      "Symbol: CLG26\n",
      "DataFrame Columns:\n",
      "Index(['strike', 'openPrice', 'highPrice', 'lowPrice', 'lastPrice',\n",
      "       'priceChange', 'bidPrice', 'askPrice', 'volume', 'openInterest',\n",
      "       'premium', 'tradeTime', 'longSymbol', 'optionType', 'symbol'],\n",
      "      dtype='object')\n",
      "Calls DataFrame Sample:\n",
      "   strike openPrice highPrice lowPrice  lastPrice priceChange bidPrice  \\\n",
      "8   36.00       N/A     27.53    27.53      27.53       -0.19    27.40   \n",
      "11  38.00       N/A     25.59    25.59      25.59       -0.19    25.46   \n",
      "14  39.50       N/A     24.15    24.15      24.15       -0.19    24.02   \n",
      "16  40.00       N/A     23.67    23.67      23.67       -0.19    23.55   \n",
      "19  41.00       N/A     22.72    22.72      22.72       -0.19    22.60   \n",
      "\n",
      "   askPrice  volume  openInterest    premium tradeTime longSymbol optionType  \\\n",
      "8     27.59       0             1  27,530.00  07/09/25  CLG6|360C       Call   \n",
      "11    25.66       0             1  25,590.00  07/09/25  CLG6|380C       Call   \n",
      "14    24.22       0             1  24,150.00  07/09/25  CLG6|395C       Call   \n",
      "16    23.74       0            10  23,670.00  07/09/25  CLG6|400C       Call   \n",
      "19    22.79       0             1  22,720.00  07/09/25  CLG6|410C       Call   \n",
      "\n",
      "       symbol  \n",
      "8   CLG6|360C  \n",
      "11  CLG6|380C  \n",
      "14  CLG6|395C  \n",
      "16  CLG6|400C  \n",
      "19  CLG6|410C  \n",
      "Puts DataFrame Sample:\n",
      "  strike openPrice highPrice lowPrice  lastPrice priceChange bidPrice  \\\n",
      "0  23.50       N/A      0.07     0.07       0.07       -0.01     0.05   \n",
      "1  29.00       N/A      0.14     0.14       0.14        unch     0.13   \n",
      "2  29.50       N/A      0.15     0.15       0.15        unch     0.14   \n",
      "3  30.00       N/A      0.16     0.16       0.16        unch     0.15   \n",
      "4  30.50       N/A      0.17     0.17       0.17        unch     0.16   \n",
      "\n",
      "  askPrice  volume  openInterest premium tradeTime longSymbol optionType  \\\n",
      "0     0.10       0             1   70.00  07/09/25  CLG6|235P        Put   \n",
      "1     0.15       0            19  140.00  07/09/25  CLG6|290P        Put   \n",
      "2     0.16       0            30  150.00  07/09/25  CLG6|295P        Put   \n",
      "3     0.17       0           189  160.00  07/09/25  CLG6|300P        Put   \n",
      "4     0.18       0            21  170.00  07/09/25  CLG6|305P        Put   \n",
      "\n",
      "      symbol  \n",
      "0  CLG6|235P  \n",
      "1  CLG6|290P  \n",
      "2  CLG6|295P  \n",
      "3  CLG6|300P  \n",
      "4  CLG6|305P  \n",
      "Symbol: CLH26\n",
      "DataFrame Columns:\n",
      "Index(['strike', 'openPrice', 'highPrice', 'lowPrice', 'lastPrice',\n",
      "       'priceChange', 'bidPrice', 'askPrice', 'volume', 'openInterest',\n",
      "       'premium', 'tradeTime', 'longSymbol', 'optionType', 'symbol'],\n",
      "      dtype='object')\n",
      "Calls DataFrame Sample:\n",
      "   strike openPrice highPrice lowPrice  lastPrice priceChange bidPrice  \\\n",
      "14  36.00       N/A     27.40    27.40      27.40       -0.20    27.27   \n",
      "20  41.00       N/A     22.65    22.65      22.65       -0.19    22.53   \n",
      "30  46.00       N/A     18.13    18.13      18.13       -0.19    18.02   \n",
      "39  50.00       N/A     14.75    14.75      14.75       -0.19    14.65   \n",
      "42  51.00       N/A     13.95    13.95      13.95       -0.18    13.84   \n",
      "\n",
      "   askPrice  volume  openInterest    premium tradeTime longSymbol optionType  \\\n",
      "14    27.48       0             1  27,400.00  07/09/25  CLH6|360C       Call   \n",
      "20    22.73       0             1  22,650.00  07/09/25  CLH6|410C       Call   \n",
      "30    18.20       0             1  18,130.00  07/09/25  CLH6|460C       Call   \n",
      "39    14.81       0             1  14,750.00  07/09/25  CLH6|500C       Call   \n",
      "42    14.01       0             1  13,950.00  07/09/25  CLH6|510C       Call   \n",
      "\n",
      "       symbol  \n",
      "14  CLH6|360C  \n",
      "20  CLH6|410C  \n",
      "30  CLH6|460C  \n",
      "39  CLH6|500C  \n",
      "42  CLH6|510C  \n",
      "Puts DataFrame Sample:\n",
      "  strike openPrice highPrice lowPrice  lastPrice priceChange bidPrice  \\\n",
      "0  25.00       N/A      0.11     0.11       0.11        unch     0.10   \n",
      "1  26.00       N/A      0.12     0.12       0.12        unch     0.11   \n",
      "2  27.00       N/A      0.14     0.14       0.14        unch     0.13   \n",
      "3  27.50       N/A      0.15     0.15       0.15        unch     0.14   \n",
      "4  29.00       N/A      0.17     0.17       0.17       -0.01     0.17   \n",
      "\n",
      "  askPrice  volume  openInterest premium tradeTime longSymbol optionType  \\\n",
      "0     0.12       0           200  110.00  07/09/25  CLH6|250P        Put   \n",
      "1     0.13       0            40  120.00  07/09/25  CLH6|260P        Put   \n",
      "2     0.15       0            41  140.00  07/09/25  CLH6|270P        Put   \n",
      "3     0.16       0            60  150.00  07/09/25  CLH6|275P        Put   \n",
      "4     0.18       0            58  170.00  07/09/25  CLH6|290P        Put   \n",
      "\n",
      "      symbol  \n",
      "0  CLH6|250P  \n",
      "1  CLH6|260P  \n",
      "2  CLH6|270P  \n",
      "3  CLH6|275P  \n",
      "4  CLH6|290P  \n",
      "Symbol: CLJ26\n",
      "DataFrame Columns:\n",
      "Index(['strike', 'openPrice', 'highPrice', 'lowPrice', 'lastPrice',\n",
      "       'priceChange', 'bidPrice', 'askPrice', 'volume', 'openInterest',\n",
      "       'premium', 'tradeTime', 'longSymbol', 'optionType', 'symbol'],\n",
      "      dtype='object')\n",
      "Calls DataFrame Sample:\n",
      "   strike openPrice highPrice lowPrice  lastPrice priceChange bidPrice  \\\n",
      "18  53.00       N/A     12.51    12.51      12.51       -0.18      N/A   \n",
      "25  60.00       N/A      7.82     7.82       7.82       -0.15     7.74   \n",
      "28  65.00       N/A      5.19     5.19       5.19       -0.12     5.14   \n",
      "30  65.50       N/A      4.97     4.97       4.97       -0.12     4.93   \n",
      "32  68.00       N/A      3.95     3.95       3.95       -0.11     3.91   \n",
      "\n",
      "   askPrice  volume  openInterest    premium tradeTime longSymbol optionType  \\\n",
      "18    12.68       0            11  12,510.00  07/09/25  CLJ6|530C       Call   \n",
      "25     7.84       0             2   7,820.00  07/09/25  CLJ6|600C       Call   \n",
      "28     5.21       0             0   5,190.00  07/09/25  CLJ6|650C       Call   \n",
      "30     4.99       0           207   4,970.00  07/09/25  CLJ6|655C       Call   \n",
      "32     3.97       0             7   3,950.00  07/09/25  CLJ6|680C       Call   \n",
      "\n",
      "       symbol  \n",
      "18  CLJ6|530C  \n",
      "25  CLJ6|600C  \n",
      "28  CLJ6|650C  \n",
      "30  CLJ6|655C  \n",
      "32  CLJ6|680C  \n",
      "Puts DataFrame Sample:\n",
      "  strike openPrice highPrice lowPrice  lastPrice priceChange bidPrice  \\\n",
      "0  29.00       N/A      0.20     0.20       0.20        unch     0.19   \n",
      "1  30.00       N/A      0.23     0.23       0.23       +0.01     0.21   \n",
      "2  32.00      0.28      0.28     0.28       0.28        unch     0.27   \n",
      "3  35.00       N/A      0.39     0.39       0.39       +0.01     0.38   \n",
      "4  36.00       N/A      0.43     0.43       0.43        unch     0.42   \n",
      "\n",
      "  askPrice  volume  openInterest premium tradeTime longSymbol optionType  \\\n",
      "0     0.22       0            40  200.00  07/09/25  CLJ6|290P        Put   \n",
      "1     0.24       0             5  230.00  07/09/25  CLJ6|300P        Put   \n",
      "2     0.30      30           100  280.00  07/09/25  CLJ6|320P        Put   \n",
      "3     0.40       0           700  390.00  07/09/25  CLJ6|350P        Put   \n",
      "4     0.45       0             2  430.00  07/09/25  CLJ6|360P        Put   \n",
      "\n",
      "      symbol  \n",
      "0  CLJ6|290P  \n",
      "1  CLJ6|300P  \n",
      "2  CLJ6|320P  \n",
      "3  CLJ6|350P  \n",
      "4  CLJ6|360P  \n",
      "Symbol: CLK26\n",
      "DataFrame Columns:\n",
      "Index(['strike', 'openPrice', 'highPrice', 'lowPrice', 'lastPrice',\n",
      "       'priceChange', 'bidPrice', 'askPrice', 'volume', 'openInterest',\n",
      "       'premium', 'tradeTime', 'longSymbol', 'optionType', 'symbol'],\n",
      "      dtype='object')\n",
      "Calls DataFrame Sample:\n",
      "   strike openPrice highPrice lowPrice  lastPrice priceChange bidPrice  \\\n",
      "11  60.00       N/A      8.02     8.02       8.02       -0.15     7.95   \n",
      "13  60.50       N/A      7.73     7.73       7.73       -0.15     7.67   \n",
      "15  63.00       N/A      6.38     6.38       6.38       -0.13     6.33   \n",
      "17  65.00       N/A      5.41     5.41       5.41       -0.12     5.37   \n",
      "19  70.00       N/A      3.46     3.46       3.46       -0.11     3.42   \n",
      "\n",
      "   askPrice  volume  openInterest   premium tradeTime longSymbol optionType  \\\n",
      "11     8.07       0             7  8,020.00  07/09/25  CLK6|600C       Call   \n",
      "13     7.78       0             5  7,730.00  07/09/25  CLK6|605C       Call   \n",
      "15     6.42       0             1  6,380.00  07/09/25  CLK6|630C       Call   \n",
      "17     5.44       0           503  5,410.00  07/09/25  CLK6|650C       Call   \n",
      "19     3.50       0           201  3,460.00  07/09/25  CLK6|700C       Call   \n",
      "\n",
      "       symbol  \n",
      "11  CLK6|600C  \n",
      "13  CLK6|605C  \n",
      "15  CLK6|630C  \n",
      "17  CLK6|650C  \n",
      "19  CLK6|700C  \n",
      "Puts DataFrame Sample:\n",
      "  strike openPrice highPrice lowPrice  lastPrice priceChange bidPrice  \\\n",
      "0  32.50       N/A      0.34     0.34       0.34        unch     0.33   \n",
      "1  40.00       N/A      0.75     0.75       0.75        unch     0.74   \n",
      "2  42.00       N/A      0.92     0.92       0.92        unch     0.91   \n",
      "3  47.00       N/A      1.54     1.54       1.54       +0.02     1.52   \n",
      "4  48.00       N/A      1.70     1.70       1.70       +0.02     1.68   \n",
      "\n",
      "  askPrice  volume  openInterest   premium tradeTime longSymbol optionType  \\\n",
      "0     0.36       0             1    340.00  07/09/25  CLK6|325P        Put   \n",
      "1     0.77       0           800    750.00  07/09/25  CLK6|400P        Put   \n",
      "2     0.95       0           602    920.00  07/09/25  CLK6|420P        Put   \n",
      "3     1.57       0           600  1,540.00  07/09/25  CLK6|470P        Put   \n",
      "4     1.73       0           800  1,700.00  07/09/25  CLK6|480P        Put   \n",
      "\n",
      "      symbol  \n",
      "0  CLK6|325P  \n",
      "1  CLK6|400P  \n",
      "2  CLK6|420P  \n",
      "3  CLK6|470P  \n",
      "4  CLK6|480P  \n"
     ]
    }
   ],
   "source": [
    "symbols = results.keys()\n",
    "print(list(symbols))\n",
    "\n",
    "for symbol, (calls_df, puts_df) in results.items():\n",
    "    print(f\"Symbol: {symbol}\")\n",
    "    \n",
    "    print(\"DataFrame Columns:\")\n",
    "    print(calls_df.columns)  # Prints column names of calls DataFrame\n",
    "    \n",
    "    print(\"Calls DataFrame Sample:\")\n",
    "    print(calls_df.head())  # Prints first five rows of calls DataFrame\n",
    "    \n",
    "    print(\"Puts DataFrame Sample:\")\n",
    "    print(puts_df.head())  # Prints first five rows of puts DataFrame\n"
   ]
  },
  {
   "cell_type": "code",
   "execution_count": 5,
   "metadata": {},
   "outputs": [
    {
     "name": "stdout",
     "output_type": "stream",
     "text": [
      "Symbol 'CLK25' not found.\n"
     ]
    }
   ],
   "source": [
    "def get_option_data(results, symbol, strike, option_type):\n",
    "    \"\"\"\n",
    "    Retrieves the row of options data for a given symbol, strike price, and option type.\n",
    "\n",
    "    Parameters:\n",
    "    - results (dict): Dictionary containing options data.\n",
    "    - symbol (str): The symbol to filter.\n",
    "    - strike (float): The strike price to filter.\n",
    "    - option_type (str): Either 'call' or 'put'.\n",
    "\n",
    "    Returns:\n",
    "    - DataFrame: The filtered row(s) if found, otherwise None.\n",
    "    \"\"\"\n",
    "    if symbol not in results:\n",
    "        print(f\"Symbol '{symbol}' not found.\")\n",
    "        return None\n",
    "\n",
    "    calls_df, puts_df = results[symbol]\n",
    "\n",
    "    # Select the appropriate DataFrame\n",
    "    df = calls_df if option_type.lower() == \"call\" else puts_df if option_type.lower() == \"put\" else None\n",
    "    \n",
    "    if df is None:\n",
    "        print(\"Invalid option type. Choose 'call' or 'put'.\")\n",
    "        return None\n",
    "\n",
    "    if \"strike\" not in df.columns:\n",
    "        print(\"Strike column not found in the DataFrame.\")\n",
    "        return None\n",
    "\n",
    "    # Filter by strike price\n",
    "    filtered_row = df[df[\"strike\"] == strike]\n",
    "\n",
    "    if filtered_row.empty:\n",
    "        print(f\"No data found for {symbol} {option_type.upper()} with Strike: {strike}\")\n",
    "        return None\n",
    "\n",
    "    return filtered_row\n",
    "\n",
    "# Example usage:\n",
    "result = get_option_data(results, \"CLK25\", \"64.00\", \"put\")  \n",
    "if result is not None:\n",
    "    print(result)\n"
   ]
  },
  {
   "cell_type": "code",
   "execution_count": 6,
   "metadata": {},
   "outputs": [
    {
     "name": "stdout",
     "output_type": "stream",
     "text": [
      "  Symbol  Type  Strike  Time to Expiry  Market Price  Implied Volatility\n",
      "0  CLQ25  Call    30.0        0.021918         38.38            2.534015\n",
      "1  CLQ25  Call    40.0        0.021918         28.38            1.689640\n",
      "2  CLQ25  Call    41.0        0.021918         27.38            1.617503\n",
      "3  CLQ25  Call    47.0        0.021918         21.38            1.219387\n",
      "4  CLQ25  Call    48.0        0.021918         20.38            1.158146\n"
     ]
    }
   ],
   "source": [
    "import numpy as np\n",
    "import pandas as pd\n",
    "from scipy.optimize import brentq\n",
    "\n",
    "# Optimized Binomial Tree Model for American Options\n",
    "def binomial_price_american(F, K, T, r, sigma, option_type, steps=50):  # Reduced steps to 50\n",
    "    dt = T / steps\n",
    "    u = np.exp(sigma * np.sqrt(dt))  \n",
    "    d = 1 / u  \n",
    "    p = (np.exp(r * dt) - d) / (u - d)  \n",
    "\n",
    "    # Terminal stock prices\n",
    "    ST = np.array([F * (u ** j) * (d ** (steps - j)) for j in range(steps + 1)])\n",
    "    \n",
    "    # Terminal option values\n",
    "    if option_type == \"C\":\n",
    "        option_values = np.maximum(ST - K, 0)\n",
    "    else:\n",
    "        option_values = np.maximum(K - ST, 0)\n",
    "\n",
    "    # Backward induction (vectorized)\n",
    "    discount = np.exp(-r * dt)\n",
    "    for i in range(steps - 1, -1, -1):\n",
    "        ST = ST[:-1] * u  # Move one step back\n",
    "        early_exercise = np.maximum(ST - K, 0) if option_type == \"C\" else np.maximum(K - ST, 0)\n",
    "        option_values = np.maximum(early_exercise, discount * (p * option_values[1:] + (1 - p) * option_values[:-1]))\n",
    "\n",
    "    return option_values[0]\n",
    "\n",
    "# Function to calculate implied volatility\n",
    "def implied_volatility(option_price, F, K, T, r, option_type):\n",
    "    try:\n",
    "        return brentq(lambda sigma: binomial_price_american(F, K, T, r, sigma, option_type) - float(option_price), \n",
    "                      0.001, 3.0, xtol=1e-6)\n",
    "    except ValueError:\n",
    "        return np.nan  # Return NaN if IV cannot be solved\n",
    "\n",
    "# Assume a constant risk-free rate\n",
    "risk_free_rate = 0.03  \n",
    "\n",
    "# Merging futures data with options data\n",
    "merged_data = []\n",
    "\n",
    "for symbol, (calls_df, puts_df) in results.items():\n",
    "    future_row = futures_df[futures_df['Contract'] == symbol]\n",
    "    if future_row.empty:\n",
    "        continue  \n",
    "    \n",
    "    F = future_row['Last Price'].values[0]  \n",
    "    T = future_row['Options Days to Expiry'].values[0] / 365.0  \n",
    "    \n",
    "    # Process Call Options\n",
    "    for _, row in calls_df.iterrows():\n",
    "        K = float(row['strike'])  \n",
    "        option_price = float(row['lastPrice'])\n",
    "        iv = implied_volatility(option_price, F, K, T, risk_free_rate, \"C\")\n",
    "        merged_data.append((symbol, \"Call\", K, T, option_price, iv))\n",
    "    \n",
    "    # Process Put Options\n",
    "    for _, row in puts_df.iterrows():\n",
    "        K = float(row['strike'])  \n",
    "        option_price = float(row['lastPrice'])\n",
    "        iv = implied_volatility(option_price, F, K, T, risk_free_rate, \"P\")\n",
    "        merged_data.append((symbol, \"Put\", K, T, option_price, iv))\n",
    "\n",
    "# Convert to DataFrame\n",
    "implied_vol_df = pd.DataFrame(merged_data, columns=[\"Symbol\", \"Type\", \"Strike\", \"Time to Expiry\", \"Market Price\", \"Implied Volatility\"])\n",
    "\n",
    "# Display Results\n",
    "print(implied_vol_df.head())\n"
   ]
  },
  {
   "cell_type": "code",
   "execution_count": 7,
   "metadata": {},
   "outputs": [
    {
     "name": "stdout",
     "output_type": "stream",
     "text": [
      "CLQ25 68.28\n",
      "CLQ25 - Left Skew (Put IV > Call IV)\n"
     ]
    },
    {
     "data": {
      "application/vnd.plotly.v1+json": {
       "config": {
        "plotlyServerURL": "https://plot.ly"
       },
       "data": [
        {
         "marker": {
          "color": "blue",
          "opacity": 0.7,
          "size": 8,
          "symbol": "circle"
         },
         "mode": "markers",
         "name": "Call Options - CLQ25",
         "type": "scatter",
         "x": [
          53.5,
          54,
          54.5,
          55,
          55.5,
          56,
          56.5,
          57,
          57.5,
          58,
          58.5,
          59,
          59.5,
          60,
          60.5,
          61,
          61.5,
          62,
          62.5,
          63,
          63.5,
          64,
          64.5,
          65,
          65.5,
          66,
          66.5,
          67,
          67.5,
          68,
          68.5,
          69,
          69.5,
          70,
          70.5,
          71,
          71.5,
          72,
          72.5,
          73,
          73.5,
          74,
          74.5,
          75,
          75.5,
          76,
          76.5,
          77,
          77.5,
          78,
          78.5,
          79,
          79.5,
          80,
          80.5,
          81,
          81.5,
          82,
          82.5,
          83,
          83.5
         ],
         "y": [
          0.8539667507999031,
          0.824847194193062,
          0.8114540710771617,
          0.7828103795651166,
          0.7544325522281023,
          0.726316141006234,
          0.6984568250312918,
          0.6859725431620352,
          0.6585537268539366,
          0.6463736648248342,
          0.617803541126115,
          0.5974107382181296,
          0.568127194758412,
          0.5481396614405911,
          0.5283338291440582,
          0.49973969524772777,
          0.4803291717075014,
          0.46693633924649575,
          null,
          0.422027544548306,
          0.4086686711514904,
          null,
          0.3748871856759362,
          0.39731062116711247,
          null,
          0.2944227066823517,
          0.3826447853361745,
          0.3247641514849878,
          0.36363992864572836,
          0.3048381769593214,
          0.29031745237079526,
          0.30034272038203824,
          0.30619990916816586,
          0.30788111632375254,
          0.34643862952956106,
          0.32117137109755456,
          0.3197756442673804,
          0.3311265560629531,
          0.3694023359078,
          0.34678793632752364,
          0.3782201169792918,
          0.3988781883159901,
          0.41297813273473527,
          0.403999907276914,
          0.4341812178210007,
          0.44855666815048206,
          0.45505024405566846,
          0.45084025822607715,
          0.4953957492428801,
          0.501976191020684,
          0.5085078941734981,
          0.5149911185398279,
          0.5214269068386204,
          0.5526269510415747,
          0.5567092330667812,
          0.5897850726338957,
          0.5678482541588857,
          0.5842519965028156,
          0.6005541762987117,
          0.6167561083227677,
          0.6112517253612171
         ]
        },
        {
         "marker": {
          "color": "red",
          "opacity": 0.7,
          "size": 8,
          "symbol": "x"
         },
         "mode": "markers",
         "name": "Put Options - CLQ25",
         "type": "scatter",
         "x": [
          53.5,
          54,
          54.5,
          55,
          55.5,
          56,
          56.5,
          57,
          57.5,
          58,
          58.5,
          59,
          59.5,
          60,
          60.5,
          61,
          61.5,
          62,
          62.5,
          63,
          63.5,
          64,
          64.5,
          65,
          65.5,
          66,
          66.5,
          67,
          67.5,
          68,
          68.5,
          69,
          69.5,
          70,
          70.5,
          71,
          71.5,
          72,
          72.5,
          73,
          73.5,
          74,
          74.5,
          75,
          75.5,
          76,
          76.5,
          77,
          77.5,
          78,
          78.5,
          79,
          79.5,
          80,
          80.5,
          81,
          81.5,
          82,
          82.5,
          83,
          83.5
         ],
         "y": [
          0.7096573667886091,
          0.6862798222839898,
          0.6631240971852294,
          0.670252500591063,
          0.6453369065817944,
          0.6478498773765854,
          0.5961887952352388,
          0.5989319770440266,
          0.5748056791029414,
          0.5834616219685607,
          0.5422360670310546,
          0.516271395754128,
          0.5202489198134982,
          0.4946293062429335,
          0.4692345050675711,
          0.4728001320090301,
          0.4358860927265624,
          0.4081981795505484,
          0.3896464213141235,
          0.3932875164033811,
          0.37437881283075447,
          0.36149483392972087,
          0.3462677021645212,
          0.34119754493643023,
          0.34150496609909975,
          0.33113649494337766,
          0.3199565312086084,
          0.31180329490895525,
          0.2837099097581676,
          0.3104680164558243,
          0.308196789811967,
          0.3081850906183407,
          0.2797647812849032,
          0.31857622199495134,
          0.23652015685828043,
          0.31117061886871183,
          0.31068726737477215,
          0.24143964559721673,
          0.32244731139988797,
          0.3266466846823272,
          null,
          0.3249646427253442,
          0.3184674579786218,
          0.32177596859939356,
          null,
          null,
          null,
          null,
          null,
          null,
          null,
          null,
          null,
          null,
          null,
          null,
          null,
          null,
          null,
          null,
          null
         ]
        },
        {
         "line": {
          "color": "green",
          "dash": "dash"
         },
         "mode": "lines",
         "name": "Current Price (F) - CLQ25",
         "type": "scatter",
         "x": [
          68.28,
          68.28
         ],
         "y": [
          0,
          0.8539667507999031
         ]
        }
       ],
       "layout": {
        "annotations": [
         {
          "align": "center",
          "bgcolor": "white",
          "bordercolor": "black",
          "borderpad": 4,
          "borderwidth": 1,
          "font": {
           "color": "black",
           "size": 12
          },
          "showarrow": false,
          "text": "Left Skew (Put IV > Call IV)",
          "x": 68.5,
          "y": 0.8539667507999031
         }
        ],
        "template": {
         "data": {
          "bar": [
           {
            "error_x": {
             "color": "#2a3f5f"
            },
            "error_y": {
             "color": "#2a3f5f"
            },
            "marker": {
             "line": {
              "color": "#E5ECF6",
              "width": 0.5
             },
             "pattern": {
              "fillmode": "overlay",
              "size": 10,
              "solidity": 0.2
             }
            },
            "type": "bar"
           }
          ],
          "barpolar": [
           {
            "marker": {
             "line": {
              "color": "#E5ECF6",
              "width": 0.5
             },
             "pattern": {
              "fillmode": "overlay",
              "size": 10,
              "solidity": 0.2
             }
            },
            "type": "barpolar"
           }
          ],
          "carpet": [
           {
            "aaxis": {
             "endlinecolor": "#2a3f5f",
             "gridcolor": "white",
             "linecolor": "white",
             "minorgridcolor": "white",
             "startlinecolor": "#2a3f5f"
            },
            "baxis": {
             "endlinecolor": "#2a3f5f",
             "gridcolor": "white",
             "linecolor": "white",
             "minorgridcolor": "white",
             "startlinecolor": "#2a3f5f"
            },
            "type": "carpet"
           }
          ],
          "choropleth": [
           {
            "colorbar": {
             "outlinewidth": 0,
             "ticks": ""
            },
            "type": "choropleth"
           }
          ],
          "contour": [
           {
            "colorbar": {
             "outlinewidth": 0,
             "ticks": ""
            },
            "colorscale": [
             [
              0,
              "#0d0887"
             ],
             [
              0.1111111111111111,
              "#46039f"
             ],
             [
              0.2222222222222222,
              "#7201a8"
             ],
             [
              0.3333333333333333,
              "#9c179e"
             ],
             [
              0.4444444444444444,
              "#bd3786"
             ],
             [
              0.5555555555555556,
              "#d8576b"
             ],
             [
              0.6666666666666666,
              "#ed7953"
             ],
             [
              0.7777777777777778,
              "#fb9f3a"
             ],
             [
              0.8888888888888888,
              "#fdca26"
             ],
             [
              1,
              "#f0f921"
             ]
            ],
            "type": "contour"
           }
          ],
          "contourcarpet": [
           {
            "colorbar": {
             "outlinewidth": 0,
             "ticks": ""
            },
            "type": "contourcarpet"
           }
          ],
          "heatmap": [
           {
            "colorbar": {
             "outlinewidth": 0,
             "ticks": ""
            },
            "colorscale": [
             [
              0,
              "#0d0887"
             ],
             [
              0.1111111111111111,
              "#46039f"
             ],
             [
              0.2222222222222222,
              "#7201a8"
             ],
             [
              0.3333333333333333,
              "#9c179e"
             ],
             [
              0.4444444444444444,
              "#bd3786"
             ],
             [
              0.5555555555555556,
              "#d8576b"
             ],
             [
              0.6666666666666666,
              "#ed7953"
             ],
             [
              0.7777777777777778,
              "#fb9f3a"
             ],
             [
              0.8888888888888888,
              "#fdca26"
             ],
             [
              1,
              "#f0f921"
             ]
            ],
            "type": "heatmap"
           }
          ],
          "heatmapgl": [
           {
            "colorbar": {
             "outlinewidth": 0,
             "ticks": ""
            },
            "colorscale": [
             [
              0,
              "#0d0887"
             ],
             [
              0.1111111111111111,
              "#46039f"
             ],
             [
              0.2222222222222222,
              "#7201a8"
             ],
             [
              0.3333333333333333,
              "#9c179e"
             ],
             [
              0.4444444444444444,
              "#bd3786"
             ],
             [
              0.5555555555555556,
              "#d8576b"
             ],
             [
              0.6666666666666666,
              "#ed7953"
             ],
             [
              0.7777777777777778,
              "#fb9f3a"
             ],
             [
              0.8888888888888888,
              "#fdca26"
             ],
             [
              1,
              "#f0f921"
             ]
            ],
            "type": "heatmapgl"
           }
          ],
          "histogram": [
           {
            "marker": {
             "pattern": {
              "fillmode": "overlay",
              "size": 10,
              "solidity": 0.2
             }
            },
            "type": "histogram"
           }
          ],
          "histogram2d": [
           {
            "colorbar": {
             "outlinewidth": 0,
             "ticks": ""
            },
            "colorscale": [
             [
              0,
              "#0d0887"
             ],
             [
              0.1111111111111111,
              "#46039f"
             ],
             [
              0.2222222222222222,
              "#7201a8"
             ],
             [
              0.3333333333333333,
              "#9c179e"
             ],
             [
              0.4444444444444444,
              "#bd3786"
             ],
             [
              0.5555555555555556,
              "#d8576b"
             ],
             [
              0.6666666666666666,
              "#ed7953"
             ],
             [
              0.7777777777777778,
              "#fb9f3a"
             ],
             [
              0.8888888888888888,
              "#fdca26"
             ],
             [
              1,
              "#f0f921"
             ]
            ],
            "type": "histogram2d"
           }
          ],
          "histogram2dcontour": [
           {
            "colorbar": {
             "outlinewidth": 0,
             "ticks": ""
            },
            "colorscale": [
             [
              0,
              "#0d0887"
             ],
             [
              0.1111111111111111,
              "#46039f"
             ],
             [
              0.2222222222222222,
              "#7201a8"
             ],
             [
              0.3333333333333333,
              "#9c179e"
             ],
             [
              0.4444444444444444,
              "#bd3786"
             ],
             [
              0.5555555555555556,
              "#d8576b"
             ],
             [
              0.6666666666666666,
              "#ed7953"
             ],
             [
              0.7777777777777778,
              "#fb9f3a"
             ],
             [
              0.8888888888888888,
              "#fdca26"
             ],
             [
              1,
              "#f0f921"
             ]
            ],
            "type": "histogram2dcontour"
           }
          ],
          "mesh3d": [
           {
            "colorbar": {
             "outlinewidth": 0,
             "ticks": ""
            },
            "type": "mesh3d"
           }
          ],
          "parcoords": [
           {
            "line": {
             "colorbar": {
              "outlinewidth": 0,
              "ticks": ""
             }
            },
            "type": "parcoords"
           }
          ],
          "pie": [
           {
            "automargin": true,
            "type": "pie"
           }
          ],
          "scatter": [
           {
            "fillpattern": {
             "fillmode": "overlay",
             "size": 10,
             "solidity": 0.2
            },
            "type": "scatter"
           }
          ],
          "scatter3d": [
           {
            "line": {
             "colorbar": {
              "outlinewidth": 0,
              "ticks": ""
             }
            },
            "marker": {
             "colorbar": {
              "outlinewidth": 0,
              "ticks": ""
             }
            },
            "type": "scatter3d"
           }
          ],
          "scattercarpet": [
           {
            "marker": {
             "colorbar": {
              "outlinewidth": 0,
              "ticks": ""
             }
            },
            "type": "scattercarpet"
           }
          ],
          "scattergeo": [
           {
            "marker": {
             "colorbar": {
              "outlinewidth": 0,
              "ticks": ""
             }
            },
            "type": "scattergeo"
           }
          ],
          "scattergl": [
           {
            "marker": {
             "colorbar": {
              "outlinewidth": 0,
              "ticks": ""
             }
            },
            "type": "scattergl"
           }
          ],
          "scattermapbox": [
           {
            "marker": {
             "colorbar": {
              "outlinewidth": 0,
              "ticks": ""
             }
            },
            "type": "scattermapbox"
           }
          ],
          "scatterpolar": [
           {
            "marker": {
             "colorbar": {
              "outlinewidth": 0,
              "ticks": ""
             }
            },
            "type": "scatterpolar"
           }
          ],
          "scatterpolargl": [
           {
            "marker": {
             "colorbar": {
              "outlinewidth": 0,
              "ticks": ""
             }
            },
            "type": "scatterpolargl"
           }
          ],
          "scatterternary": [
           {
            "marker": {
             "colorbar": {
              "outlinewidth": 0,
              "ticks": ""
             }
            },
            "type": "scatterternary"
           }
          ],
          "surface": [
           {
            "colorbar": {
             "outlinewidth": 0,
             "ticks": ""
            },
            "colorscale": [
             [
              0,
              "#0d0887"
             ],
             [
              0.1111111111111111,
              "#46039f"
             ],
             [
              0.2222222222222222,
              "#7201a8"
             ],
             [
              0.3333333333333333,
              "#9c179e"
             ],
             [
              0.4444444444444444,
              "#bd3786"
             ],
             [
              0.5555555555555556,
              "#d8576b"
             ],
             [
              0.6666666666666666,
              "#ed7953"
             ],
             [
              0.7777777777777778,
              "#fb9f3a"
             ],
             [
              0.8888888888888888,
              "#fdca26"
             ],
             [
              1,
              "#f0f921"
             ]
            ],
            "type": "surface"
           }
          ],
          "table": [
           {
            "cells": {
             "fill": {
              "color": "#EBF0F8"
             },
             "line": {
              "color": "white"
             }
            },
            "header": {
             "fill": {
              "color": "#C8D4E3"
             },
             "line": {
              "color": "white"
             }
            },
            "type": "table"
           }
          ]
         },
         "layout": {
          "annotationdefaults": {
           "arrowcolor": "#2a3f5f",
           "arrowhead": 0,
           "arrowwidth": 1
          },
          "autotypenumbers": "strict",
          "coloraxis": {
           "colorbar": {
            "outlinewidth": 0,
            "ticks": ""
           }
          },
          "colorscale": {
           "diverging": [
            [
             0,
             "#8e0152"
            ],
            [
             0.1,
             "#c51b7d"
            ],
            [
             0.2,
             "#de77ae"
            ],
            [
             0.3,
             "#f1b6da"
            ],
            [
             0.4,
             "#fde0ef"
            ],
            [
             0.5,
             "#f7f7f7"
            ],
            [
             0.6,
             "#e6f5d0"
            ],
            [
             0.7,
             "#b8e186"
            ],
            [
             0.8,
             "#7fbc41"
            ],
            [
             0.9,
             "#4d9221"
            ],
            [
             1,
             "#276419"
            ]
           ],
           "sequential": [
            [
             0,
             "#0d0887"
            ],
            [
             0.1111111111111111,
             "#46039f"
            ],
            [
             0.2222222222222222,
             "#7201a8"
            ],
            [
             0.3333333333333333,
             "#9c179e"
            ],
            [
             0.4444444444444444,
             "#bd3786"
            ],
            [
             0.5555555555555556,
             "#d8576b"
            ],
            [
             0.6666666666666666,
             "#ed7953"
            ],
            [
             0.7777777777777778,
             "#fb9f3a"
            ],
            [
             0.8888888888888888,
             "#fdca26"
            ],
            [
             1,
             "#f0f921"
            ]
           ],
           "sequentialminus": [
            [
             0,
             "#0d0887"
            ],
            [
             0.1111111111111111,
             "#46039f"
            ],
            [
             0.2222222222222222,
             "#7201a8"
            ],
            [
             0.3333333333333333,
             "#9c179e"
            ],
            [
             0.4444444444444444,
             "#bd3786"
            ],
            [
             0.5555555555555556,
             "#d8576b"
            ],
            [
             0.6666666666666666,
             "#ed7953"
            ],
            [
             0.7777777777777778,
             "#fb9f3a"
            ],
            [
             0.8888888888888888,
             "#fdca26"
            ],
            [
             1,
             "#f0f921"
            ]
           ]
          },
          "colorway": [
           "#636efa",
           "#EF553B",
           "#00cc96",
           "#ab63fa",
           "#FFA15A",
           "#19d3f3",
           "#FF6692",
           "#B6E880",
           "#FF97FF",
           "#FECB52"
          ],
          "font": {
           "color": "#2a3f5f"
          },
          "geo": {
           "bgcolor": "white",
           "lakecolor": "white",
           "landcolor": "#E5ECF6",
           "showlakes": true,
           "showland": true,
           "subunitcolor": "white"
          },
          "hoverlabel": {
           "align": "left"
          },
          "hovermode": "closest",
          "mapbox": {
           "style": "light"
          },
          "paper_bgcolor": "white",
          "plot_bgcolor": "#E5ECF6",
          "polar": {
           "angularaxis": {
            "gridcolor": "white",
            "linecolor": "white",
            "ticks": ""
           },
           "bgcolor": "#E5ECF6",
           "radialaxis": {
            "gridcolor": "white",
            "linecolor": "white",
            "ticks": ""
           }
          },
          "scene": {
           "xaxis": {
            "backgroundcolor": "#E5ECF6",
            "gridcolor": "white",
            "gridwidth": 2,
            "linecolor": "white",
            "showbackground": true,
            "ticks": "",
            "zerolinecolor": "white"
           },
           "yaxis": {
            "backgroundcolor": "#E5ECF6",
            "gridcolor": "white",
            "gridwidth": 2,
            "linecolor": "white",
            "showbackground": true,
            "ticks": "",
            "zerolinecolor": "white"
           },
           "zaxis": {
            "backgroundcolor": "#E5ECF6",
            "gridcolor": "white",
            "gridwidth": 2,
            "linecolor": "white",
            "showbackground": true,
            "ticks": "",
            "zerolinecolor": "white"
           }
          },
          "shapedefaults": {
           "line": {
            "color": "#2a3f5f"
           }
          },
          "ternary": {
           "aaxis": {
            "gridcolor": "white",
            "linecolor": "white",
            "ticks": ""
           },
           "baxis": {
            "gridcolor": "white",
            "linecolor": "white",
            "ticks": ""
           },
           "bgcolor": "#E5ECF6",
           "caxis": {
            "gridcolor": "white",
            "linecolor": "white",
            "ticks": ""
           }
          },
          "title": {
           "x": 0.05
          },
          "xaxis": {
           "automargin": true,
           "gridcolor": "white",
           "linecolor": "white",
           "ticks": "",
           "title": {
            "standoff": 15
           },
           "zerolinecolor": "white",
           "zerolinewidth": 2
          },
          "yaxis": {
           "automargin": true,
           "gridcolor": "white",
           "linecolor": "white",
           "ticks": "",
           "title": {
            "standoff": 15
           },
           "zerolinecolor": "white",
           "zerolinewidth": 2
          }
         }
        },
        "title": {
         "text": "Implied Volatility Smile for CLQ25"
        },
        "xaxis": {
         "title": {
          "text": "Strike Price"
         }
        },
        "yaxis": {
         "title": {
          "text": "Implied Volatility"
         }
        }
       }
      }
     },
     "metadata": {},
     "output_type": "display_data"
    },
    {
     "name": "stdout",
     "output_type": "stream",
     "text": [
      "CLU25 66.93\n",
      "CLU25 - Right Skew (Call IV > Put IV)\n"
     ]
    },
    {
     "data": {
      "application/vnd.plotly.v1+json": {
       "config": {
        "plotlyServerURL": "https://plot.ly"
       },
       "data": [
        {
         "marker": {
          "color": "blue",
          "opacity": 0.7,
          "size": 8,
          "symbol": "circle"
         },
         "mode": "markers",
         "name": "Call Options - CLU25",
         "type": "scatter",
         "x": [
          52,
          52.5,
          53,
          53.5,
          54,
          54.5,
          55,
          55.5,
          56,
          56.5,
          57,
          57.5,
          58,
          58.5,
          59,
          59.5,
          60,
          60.5,
          61,
          61.5,
          62,
          62.5,
          63,
          63.5,
          64,
          64.5,
          65,
          65.5,
          66,
          66.5,
          67,
          67.5,
          68,
          68.5,
          69,
          69.5,
          70,
          70.5,
          71,
          71.5,
          72,
          72.5,
          73,
          73.5,
          74,
          74.5,
          75,
          75.5,
          76,
          76.5,
          77,
          77.5,
          78,
          78.5,
          79,
          79.5,
          80,
          80.5,
          81,
          81.5,
          82
         ],
         "y": [
          0.2730619622177029,
          0.30772677758249456,
          0.5121767947874439,
          0.4456405655642486,
          0.33500829139322036,
          0.3384613763000608,
          0.33948124648478273,
          0.3404866724025936,
          0.3370323163096262,
          0.3358184621864427,
          0.3346203724324311,
          0.3376945672164185,
          0.3304974193402542,
          0.3292745754147808,
          0.3251418562677633,
          0.32681936004787265,
          0.31747511135320894,
          0.31864886341871335,
          0.3156729500994537,
          0.3176735466285193,
          0.3137704949024836,
          0.31310390316808256,
          0.31244582209481886,
          0.3115612598515603,
          0.2711903620173536,
          0.30826863329542875,
          0.30928496589497634,
          0.3084995165286418,
          0.30413621716431966,
          0.321286520499595,
          0.3254519193428129,
          0.2944531082067855,
          0.30362895936170636,
          0.32900020645520994,
          0.3027330944379048,
          0.32821625528567,
          0.3335822838452402,
          0.3191465036024592,
          0.3441471314664023,
          0.3276842103412982,
          0.3413838632355904,
          0.3450117319917059,
          0.3344780431753669,
          0.3563841859334314,
          0.34419748902855934,
          0.3454467578289299,
          0.35550527422444117,
          0.35493147500930267,
          0.3806415041346096,
          0.36648454825111737,
          0.36833154015973096,
          0.37254909662849495,
          0.37673100586668495,
          0.38087806015646347,
          0.384990985369308,
          0.391422969344561,
          0.400152076865375,
          0.41116001431308635,
          0.41076771772906,
          0.4237474009204708,
          0.4192585502103621
         ]
        },
        {
         "marker": {
          "color": "red",
          "opacity": 0.7,
          "size": 8,
          "symbol": "x"
         },
         "mode": "markers",
         "name": "Put Options - CLU25",
         "type": "scatter",
         "x": [
          52,
          52.5,
          53,
          53.5,
          54,
          54.5,
          55,
          55.5,
          56,
          56.5,
          57,
          57.5,
          58,
          58.5,
          59,
          59.5,
          60,
          60.5,
          61,
          61.5,
          62,
          62.5,
          63,
          63.5,
          64,
          64.5,
          65,
          65.5,
          66,
          66.5,
          67,
          67.5,
          68,
          68.5,
          69,
          69.5,
          70,
          70.5,
          71,
          71.5,
          72,
          72.5,
          73,
          73.5,
          74,
          74.5,
          75,
          75.5,
          76,
          76.5,
          77,
          77.5,
          78,
          78.5,
          79,
          79.5,
          80,
          80.5,
          81,
          81.5,
          82
         ],
         "y": [
          0.4737402696884438,
          0.46302933762490106,
          0.4524319106135189,
          0.44194634102049346,
          0.4407371181778437,
          0.42586957508343637,
          0.4247548387605912,
          0.42396674435659676,
          0.4076312331563981,
          0.40635051551147944,
          0.39027377183777556,
          0.3802585554764873,
          0.3820731654832608,
          0.3746036427430882,
          0.36943197800203914,
          0.355949634024309,
          0.35509489003455097,
          0.35628892101488063,
          0.34785019911393666,
          0.3423665857103803,
          0.3369432045406224,
          0.3632442781082092,
          0.33550474624550997,
          0.35127308002722085,
          0.31631046289806986,
          0.3147626141911771,
          0.31572586946838543,
          0.31197796018061874,
          0.3244867734541342,
          0.3129469763288255,
          0.313352766060619,
          0.31902128849346,
          0.3281127585797402,
          0.33236560367921747,
          0.3297737302407092,
          0.3377141325633943,
          0.3255840460993127,
          0.33831321583909524,
          0.3421092721767563,
          0.34500100951764073,
          0.34571229525074354,
          0.349222693504359,
          0.35402842531577744,
          0.3586337048055506,
          0.3624720795508758,
          0.36528970676835365,
          0.36801118471843935,
          0.37242969874661785,
          0.37852483907752177,
          0.38445781243319976,
          0.3900599888624552,
          0.3942306907768343,
          0.3980954296736176,
          0.3993275086608801,
          0.4055056210385578,
          0.4089744685430513,
          0.4148732540516606,
          0.4232489038557636,
          0.4288203174016227,
          0.4364765403250485,
          0.4384045159899628
         ]
        },
        {
         "line": {
          "color": "green",
          "dash": "dash"
         },
         "mode": "lines",
         "name": "Current Price (F) - CLU25",
         "type": "scatter",
         "x": [
          66.93,
          66.93
         ],
         "y": [
          0,
          0.5121767947874439
         ]
        }
       ],
       "layout": {
        "annotations": [
         {
          "align": "center",
          "bgcolor": "white",
          "bordercolor": "black",
          "borderpad": 4,
          "borderwidth": 1,
          "font": {
           "color": "black",
           "size": 12
          },
          "showarrow": false,
          "text": "Right Skew (Call IV > Put IV)",
          "x": 67,
          "y": 0.5121767947874439
         }
        ],
        "template": {
         "data": {
          "bar": [
           {
            "error_x": {
             "color": "#2a3f5f"
            },
            "error_y": {
             "color": "#2a3f5f"
            },
            "marker": {
             "line": {
              "color": "#E5ECF6",
              "width": 0.5
             },
             "pattern": {
              "fillmode": "overlay",
              "size": 10,
              "solidity": 0.2
             }
            },
            "type": "bar"
           }
          ],
          "barpolar": [
           {
            "marker": {
             "line": {
              "color": "#E5ECF6",
              "width": 0.5
             },
             "pattern": {
              "fillmode": "overlay",
              "size": 10,
              "solidity": 0.2
             }
            },
            "type": "barpolar"
           }
          ],
          "carpet": [
           {
            "aaxis": {
             "endlinecolor": "#2a3f5f",
             "gridcolor": "white",
             "linecolor": "white",
             "minorgridcolor": "white",
             "startlinecolor": "#2a3f5f"
            },
            "baxis": {
             "endlinecolor": "#2a3f5f",
             "gridcolor": "white",
             "linecolor": "white",
             "minorgridcolor": "white",
             "startlinecolor": "#2a3f5f"
            },
            "type": "carpet"
           }
          ],
          "choropleth": [
           {
            "colorbar": {
             "outlinewidth": 0,
             "ticks": ""
            },
            "type": "choropleth"
           }
          ],
          "contour": [
           {
            "colorbar": {
             "outlinewidth": 0,
             "ticks": ""
            },
            "colorscale": [
             [
              0,
              "#0d0887"
             ],
             [
              0.1111111111111111,
              "#46039f"
             ],
             [
              0.2222222222222222,
              "#7201a8"
             ],
             [
              0.3333333333333333,
              "#9c179e"
             ],
             [
              0.4444444444444444,
              "#bd3786"
             ],
             [
              0.5555555555555556,
              "#d8576b"
             ],
             [
              0.6666666666666666,
              "#ed7953"
             ],
             [
              0.7777777777777778,
              "#fb9f3a"
             ],
             [
              0.8888888888888888,
              "#fdca26"
             ],
             [
              1,
              "#f0f921"
             ]
            ],
            "type": "contour"
           }
          ],
          "contourcarpet": [
           {
            "colorbar": {
             "outlinewidth": 0,
             "ticks": ""
            },
            "type": "contourcarpet"
           }
          ],
          "heatmap": [
           {
            "colorbar": {
             "outlinewidth": 0,
             "ticks": ""
            },
            "colorscale": [
             [
              0,
              "#0d0887"
             ],
             [
              0.1111111111111111,
              "#46039f"
             ],
             [
              0.2222222222222222,
              "#7201a8"
             ],
             [
              0.3333333333333333,
              "#9c179e"
             ],
             [
              0.4444444444444444,
              "#bd3786"
             ],
             [
              0.5555555555555556,
              "#d8576b"
             ],
             [
              0.6666666666666666,
              "#ed7953"
             ],
             [
              0.7777777777777778,
              "#fb9f3a"
             ],
             [
              0.8888888888888888,
              "#fdca26"
             ],
             [
              1,
              "#f0f921"
             ]
            ],
            "type": "heatmap"
           }
          ],
          "heatmapgl": [
           {
            "colorbar": {
             "outlinewidth": 0,
             "ticks": ""
            },
            "colorscale": [
             [
              0,
              "#0d0887"
             ],
             [
              0.1111111111111111,
              "#46039f"
             ],
             [
              0.2222222222222222,
              "#7201a8"
             ],
             [
              0.3333333333333333,
              "#9c179e"
             ],
             [
              0.4444444444444444,
              "#bd3786"
             ],
             [
              0.5555555555555556,
              "#d8576b"
             ],
             [
              0.6666666666666666,
              "#ed7953"
             ],
             [
              0.7777777777777778,
              "#fb9f3a"
             ],
             [
              0.8888888888888888,
              "#fdca26"
             ],
             [
              1,
              "#f0f921"
             ]
            ],
            "type": "heatmapgl"
           }
          ],
          "histogram": [
           {
            "marker": {
             "pattern": {
              "fillmode": "overlay",
              "size": 10,
              "solidity": 0.2
             }
            },
            "type": "histogram"
           }
          ],
          "histogram2d": [
           {
            "colorbar": {
             "outlinewidth": 0,
             "ticks": ""
            },
            "colorscale": [
             [
              0,
              "#0d0887"
             ],
             [
              0.1111111111111111,
              "#46039f"
             ],
             [
              0.2222222222222222,
              "#7201a8"
             ],
             [
              0.3333333333333333,
              "#9c179e"
             ],
             [
              0.4444444444444444,
              "#bd3786"
             ],
             [
              0.5555555555555556,
              "#d8576b"
             ],
             [
              0.6666666666666666,
              "#ed7953"
             ],
             [
              0.7777777777777778,
              "#fb9f3a"
             ],
             [
              0.8888888888888888,
              "#fdca26"
             ],
             [
              1,
              "#f0f921"
             ]
            ],
            "type": "histogram2d"
           }
          ],
          "histogram2dcontour": [
           {
            "colorbar": {
             "outlinewidth": 0,
             "ticks": ""
            },
            "colorscale": [
             [
              0,
              "#0d0887"
             ],
             [
              0.1111111111111111,
              "#46039f"
             ],
             [
              0.2222222222222222,
              "#7201a8"
             ],
             [
              0.3333333333333333,
              "#9c179e"
             ],
             [
              0.4444444444444444,
              "#bd3786"
             ],
             [
              0.5555555555555556,
              "#d8576b"
             ],
             [
              0.6666666666666666,
              "#ed7953"
             ],
             [
              0.7777777777777778,
              "#fb9f3a"
             ],
             [
              0.8888888888888888,
              "#fdca26"
             ],
             [
              1,
              "#f0f921"
             ]
            ],
            "type": "histogram2dcontour"
           }
          ],
          "mesh3d": [
           {
            "colorbar": {
             "outlinewidth": 0,
             "ticks": ""
            },
            "type": "mesh3d"
           }
          ],
          "parcoords": [
           {
            "line": {
             "colorbar": {
              "outlinewidth": 0,
              "ticks": ""
             }
            },
            "type": "parcoords"
           }
          ],
          "pie": [
           {
            "automargin": true,
            "type": "pie"
           }
          ],
          "scatter": [
           {
            "fillpattern": {
             "fillmode": "overlay",
             "size": 10,
             "solidity": 0.2
            },
            "type": "scatter"
           }
          ],
          "scatter3d": [
           {
            "line": {
             "colorbar": {
              "outlinewidth": 0,
              "ticks": ""
             }
            },
            "marker": {
             "colorbar": {
              "outlinewidth": 0,
              "ticks": ""
             }
            },
            "type": "scatter3d"
           }
          ],
          "scattercarpet": [
           {
            "marker": {
             "colorbar": {
              "outlinewidth": 0,
              "ticks": ""
             }
            },
            "type": "scattercarpet"
           }
          ],
          "scattergeo": [
           {
            "marker": {
             "colorbar": {
              "outlinewidth": 0,
              "ticks": ""
             }
            },
            "type": "scattergeo"
           }
          ],
          "scattergl": [
           {
            "marker": {
             "colorbar": {
              "outlinewidth": 0,
              "ticks": ""
             }
            },
            "type": "scattergl"
           }
          ],
          "scattermapbox": [
           {
            "marker": {
             "colorbar": {
              "outlinewidth": 0,
              "ticks": ""
             }
            },
            "type": "scattermapbox"
           }
          ],
          "scatterpolar": [
           {
            "marker": {
             "colorbar": {
              "outlinewidth": 0,
              "ticks": ""
             }
            },
            "type": "scatterpolar"
           }
          ],
          "scatterpolargl": [
           {
            "marker": {
             "colorbar": {
              "outlinewidth": 0,
              "ticks": ""
             }
            },
            "type": "scatterpolargl"
           }
          ],
          "scatterternary": [
           {
            "marker": {
             "colorbar": {
              "outlinewidth": 0,
              "ticks": ""
             }
            },
            "type": "scatterternary"
           }
          ],
          "surface": [
           {
            "colorbar": {
             "outlinewidth": 0,
             "ticks": ""
            },
            "colorscale": [
             [
              0,
              "#0d0887"
             ],
             [
              0.1111111111111111,
              "#46039f"
             ],
             [
              0.2222222222222222,
              "#7201a8"
             ],
             [
              0.3333333333333333,
              "#9c179e"
             ],
             [
              0.4444444444444444,
              "#bd3786"
             ],
             [
              0.5555555555555556,
              "#d8576b"
             ],
             [
              0.6666666666666666,
              "#ed7953"
             ],
             [
              0.7777777777777778,
              "#fb9f3a"
             ],
             [
              0.8888888888888888,
              "#fdca26"
             ],
             [
              1,
              "#f0f921"
             ]
            ],
            "type": "surface"
           }
          ],
          "table": [
           {
            "cells": {
             "fill": {
              "color": "#EBF0F8"
             },
             "line": {
              "color": "white"
             }
            },
            "header": {
             "fill": {
              "color": "#C8D4E3"
             },
             "line": {
              "color": "white"
             }
            },
            "type": "table"
           }
          ]
         },
         "layout": {
          "annotationdefaults": {
           "arrowcolor": "#2a3f5f",
           "arrowhead": 0,
           "arrowwidth": 1
          },
          "autotypenumbers": "strict",
          "coloraxis": {
           "colorbar": {
            "outlinewidth": 0,
            "ticks": ""
           }
          },
          "colorscale": {
           "diverging": [
            [
             0,
             "#8e0152"
            ],
            [
             0.1,
             "#c51b7d"
            ],
            [
             0.2,
             "#de77ae"
            ],
            [
             0.3,
             "#f1b6da"
            ],
            [
             0.4,
             "#fde0ef"
            ],
            [
             0.5,
             "#f7f7f7"
            ],
            [
             0.6,
             "#e6f5d0"
            ],
            [
             0.7,
             "#b8e186"
            ],
            [
             0.8,
             "#7fbc41"
            ],
            [
             0.9,
             "#4d9221"
            ],
            [
             1,
             "#276419"
            ]
           ],
           "sequential": [
            [
             0,
             "#0d0887"
            ],
            [
             0.1111111111111111,
             "#46039f"
            ],
            [
             0.2222222222222222,
             "#7201a8"
            ],
            [
             0.3333333333333333,
             "#9c179e"
            ],
            [
             0.4444444444444444,
             "#bd3786"
            ],
            [
             0.5555555555555556,
             "#d8576b"
            ],
            [
             0.6666666666666666,
             "#ed7953"
            ],
            [
             0.7777777777777778,
             "#fb9f3a"
            ],
            [
             0.8888888888888888,
             "#fdca26"
            ],
            [
             1,
             "#f0f921"
            ]
           ],
           "sequentialminus": [
            [
             0,
             "#0d0887"
            ],
            [
             0.1111111111111111,
             "#46039f"
            ],
            [
             0.2222222222222222,
             "#7201a8"
            ],
            [
             0.3333333333333333,
             "#9c179e"
            ],
            [
             0.4444444444444444,
             "#bd3786"
            ],
            [
             0.5555555555555556,
             "#d8576b"
            ],
            [
             0.6666666666666666,
             "#ed7953"
            ],
            [
             0.7777777777777778,
             "#fb9f3a"
            ],
            [
             0.8888888888888888,
             "#fdca26"
            ],
            [
             1,
             "#f0f921"
            ]
           ]
          },
          "colorway": [
           "#636efa",
           "#EF553B",
           "#00cc96",
           "#ab63fa",
           "#FFA15A",
           "#19d3f3",
           "#FF6692",
           "#B6E880",
           "#FF97FF",
           "#FECB52"
          ],
          "font": {
           "color": "#2a3f5f"
          },
          "geo": {
           "bgcolor": "white",
           "lakecolor": "white",
           "landcolor": "#E5ECF6",
           "showlakes": true,
           "showland": true,
           "subunitcolor": "white"
          },
          "hoverlabel": {
           "align": "left"
          },
          "hovermode": "closest",
          "mapbox": {
           "style": "light"
          },
          "paper_bgcolor": "white",
          "plot_bgcolor": "#E5ECF6",
          "polar": {
           "angularaxis": {
            "gridcolor": "white",
            "linecolor": "white",
            "ticks": ""
           },
           "bgcolor": "#E5ECF6",
           "radialaxis": {
            "gridcolor": "white",
            "linecolor": "white",
            "ticks": ""
           }
          },
          "scene": {
           "xaxis": {
            "backgroundcolor": "#E5ECF6",
            "gridcolor": "white",
            "gridwidth": 2,
            "linecolor": "white",
            "showbackground": true,
            "ticks": "",
            "zerolinecolor": "white"
           },
           "yaxis": {
            "backgroundcolor": "#E5ECF6",
            "gridcolor": "white",
            "gridwidth": 2,
            "linecolor": "white",
            "showbackground": true,
            "ticks": "",
            "zerolinecolor": "white"
           },
           "zaxis": {
            "backgroundcolor": "#E5ECF6",
            "gridcolor": "white",
            "gridwidth": 2,
            "linecolor": "white",
            "showbackground": true,
            "ticks": "",
            "zerolinecolor": "white"
           }
          },
          "shapedefaults": {
           "line": {
            "color": "#2a3f5f"
           }
          },
          "ternary": {
           "aaxis": {
            "gridcolor": "white",
            "linecolor": "white",
            "ticks": ""
           },
           "baxis": {
            "gridcolor": "white",
            "linecolor": "white",
            "ticks": ""
           },
           "bgcolor": "#E5ECF6",
           "caxis": {
            "gridcolor": "white",
            "linecolor": "white",
            "ticks": ""
           }
          },
          "title": {
           "x": 0.05
          },
          "xaxis": {
           "automargin": true,
           "gridcolor": "white",
           "linecolor": "white",
           "ticks": "",
           "title": {
            "standoff": 15
           },
           "zerolinecolor": "white",
           "zerolinewidth": 2
          },
          "yaxis": {
           "automargin": true,
           "gridcolor": "white",
           "linecolor": "white",
           "ticks": "",
           "title": {
            "standoff": 15
           },
           "zerolinecolor": "white",
           "zerolinewidth": 2
          }
         }
        },
        "title": {
         "text": "Implied Volatility Smile for CLU25"
        },
        "xaxis": {
         "title": {
          "text": "Strike Price"
         }
        },
        "yaxis": {
         "title": {
          "text": "Implied Volatility"
         }
        }
       }
      }
     },
     "metadata": {},
     "output_type": "display_data"
    },
    {
     "name": "stdout",
     "output_type": "stream",
     "text": [
      "CLV25 65.6\n",
      "CLV25 - Left Skew (Put IV > Call IV)\n"
     ]
    },
    {
     "data": {
      "application/vnd.plotly.v1+json": {
       "config": {
        "plotlyServerURL": "https://plot.ly"
       },
       "data": [
        {
         "marker": {
          "color": "blue",
          "opacity": 0.7,
          "size": 8,
          "symbol": "circle"
         },
         "mode": "markers",
         "name": "Call Options - CLV25",
         "type": "scatter",
         "x": [
          50.5,
          51,
          51.5,
          52,
          52.5,
          53,
          53.5,
          54,
          55,
          55.5,
          56,
          56.5,
          57,
          57.5,
          58,
          58.5,
          59,
          59.5,
          60,
          60.5,
          61,
          61.5,
          62,
          62.5,
          63,
          63.5,
          64,
          64.5,
          65,
          65.5,
          66,
          66.5,
          67,
          67.5,
          68,
          68.5,
          69,
          69.5,
          70,
          70.5,
          71,
          71.5,
          72,
          72.5,
          73,
          73.5,
          74,
          74.5,
          75,
          75.5,
          76,
          76.5,
          77,
          77.5,
          78,
          78.5,
          79,
          79.5,
          80,
          80.5
         ],
         "y": [
          null,
          0.2834785845004134,
          0.29265324592807845,
          0.2986953044356611,
          0.30273348444367404,
          0.30139242078897605,
          0.3035741583639093,
          0.30918839900345113,
          0.3060547465860345,
          0.30709572528469214,
          0.3081210211937614,
          0.30861570288056117,
          0.30604440401363026,
          0.305099812170524,
          0.30574845720798954,
          0.3063880130157081,
          0.3048361210494445,
          0.3029084518671401,
          0.3022148021583867,
          0.30273028602504204,
          0.3038227819477907,
          0.3013912528074537,
          0.3009947353031322,
          0.31750553197643777,
          0.3031825762129792,
          0.30242091953286043,
          0.3007975531270877,
          0.31261370836496993,
          0.30205817596597506,
          0.3190182739626814,
          0.31516987544492875,
          0.2964367880909106,
          0.30134275156453194,
          0.30532776034389253,
          0.3084087234725566,
          0.3166171540213994,
          0.3085372064509734,
          0.3096740405461308,
          0.30717137776527054,
          0.3137120988248403,
          0.3336650632294619,
          0.31664865011105703,
          0.31300476693375134,
          0.3218321096901498,
          0.31819612307451567,
          0.33204583026186685,
          0.34271281475693627,
          0.33032096649693987,
          0.3388517256471407,
          0.3331892035231609,
          0.335240119665956,
          0.35126778089322824,
          0.35068108374649787,
          0.3450559157167388,
          0.3495247924308125,
          0.350767838154538,
          0.35368673386204336,
          0.35486824578556897,
          0.367991648979269,
          0.3622959186684154
         ]
        },
        {
         "marker": {
          "color": "red",
          "opacity": 0.7,
          "size": 8,
          "symbol": "x"
         },
         "mode": "markers",
         "name": "Put Options - CLV25",
         "type": "scatter",
         "x": [
          50.5,
          51,
          51.5,
          52,
          52.5,
          53,
          53.5,
          54,
          54.5,
          55,
          55.5,
          56,
          56.5,
          57,
          57.5,
          58,
          58.5,
          59,
          59.5,
          60,
          60.5,
          61,
          61.5,
          62,
          62.5,
          63,
          63.5,
          64,
          64.5,
          65,
          65.5,
          66,
          66.5,
          67,
          67.5,
          68,
          68.5,
          69,
          69.5,
          70,
          70.5,
          71,
          71.5,
          72,
          72.5,
          73,
          73.5,
          74,
          74.5,
          75,
          75.5,
          76,
          76.5,
          77,
          78,
          78.5,
          79,
          79.5,
          80,
          80.5
         ],
         "y": [
          0.4222782090346797,
          0.41387742996105226,
          0.4102026192164697,
          0.40426000614988594,
          0.3937826433906375,
          0.4017107575237264,
          0.38909669891850035,
          0.383378705300221,
          0.3814780789421795,
          0.3739804514572098,
          0.37622485853836213,
          0.3656385507994646,
          0.36153467306235965,
          0.35903003017264373,
          0.35718515413361895,
          0.3515349357259035,
          0.34839037589089,
          0.3452683795309958,
          0.3457840402376236,
          0.3462242220925259,
          0.3405052916875374,
          0.32899335478207925,
          0.3306509206469501,
          0.33326811993319644,
          0.3338086919538583,
          0.33437046391416003,
          0.3318311133018707,
          0.3508635507785562,
          0.32944407644328016,
          0.3304160306472381,
          0.3453540286995202,
          0.33072638570122437,
          0.33034401892263215,
          0.3299218426275521,
          0.33118080359437807,
          0.3331775297218165,
          0.3599483661228243,
          0.3661935967573249,
          0.3348614026911924,
          0.33674747893296936,
          0.33853692446715683,
          0.33925788005124125,
          0.3436226004224656,
          0.34400040424329215,
          0.3453856385909265,
          0.34773203224805727,
          0.3500016220332673,
          0.3532024396267821,
          0.35624805910678026,
          0.35986080447559643,
          0.36173259762757515,
          0.3635280651189238,
          0.36523589990608024,
          0.368173173779805,
          0.37512213767176733,
          0.3790713451843032,
          0.38287551092729094,
          0.38765295403027655,
          0.38837168164126284,
          0.39087345892656095
         ]
        },
        {
         "line": {
          "color": "green",
          "dash": "dash"
         },
         "mode": "lines",
         "name": "Current Price (F) - CLV25",
         "type": "scatter",
         "x": [
          65.6,
          65.6
         ],
         "y": [
          0,
          null
         ]
        }
       ],
       "layout": {
        "annotations": [
         {
          "align": "center",
          "bgcolor": "white",
          "bordercolor": "black",
          "borderpad": 4,
          "borderwidth": 1,
          "font": {
           "color": "black",
           "size": 12
          },
          "showarrow": false,
          "text": "Left Skew (Put IV > Call IV)",
          "x": 65.5,
          "y": null
         }
        ],
        "template": {
         "data": {
          "bar": [
           {
            "error_x": {
             "color": "#2a3f5f"
            },
            "error_y": {
             "color": "#2a3f5f"
            },
            "marker": {
             "line": {
              "color": "#E5ECF6",
              "width": 0.5
             },
             "pattern": {
              "fillmode": "overlay",
              "size": 10,
              "solidity": 0.2
             }
            },
            "type": "bar"
           }
          ],
          "barpolar": [
           {
            "marker": {
             "line": {
              "color": "#E5ECF6",
              "width": 0.5
             },
             "pattern": {
              "fillmode": "overlay",
              "size": 10,
              "solidity": 0.2
             }
            },
            "type": "barpolar"
           }
          ],
          "carpet": [
           {
            "aaxis": {
             "endlinecolor": "#2a3f5f",
             "gridcolor": "white",
             "linecolor": "white",
             "minorgridcolor": "white",
             "startlinecolor": "#2a3f5f"
            },
            "baxis": {
             "endlinecolor": "#2a3f5f",
             "gridcolor": "white",
             "linecolor": "white",
             "minorgridcolor": "white",
             "startlinecolor": "#2a3f5f"
            },
            "type": "carpet"
           }
          ],
          "choropleth": [
           {
            "colorbar": {
             "outlinewidth": 0,
             "ticks": ""
            },
            "type": "choropleth"
           }
          ],
          "contour": [
           {
            "colorbar": {
             "outlinewidth": 0,
             "ticks": ""
            },
            "colorscale": [
             [
              0,
              "#0d0887"
             ],
             [
              0.1111111111111111,
              "#46039f"
             ],
             [
              0.2222222222222222,
              "#7201a8"
             ],
             [
              0.3333333333333333,
              "#9c179e"
             ],
             [
              0.4444444444444444,
              "#bd3786"
             ],
             [
              0.5555555555555556,
              "#d8576b"
             ],
             [
              0.6666666666666666,
              "#ed7953"
             ],
             [
              0.7777777777777778,
              "#fb9f3a"
             ],
             [
              0.8888888888888888,
              "#fdca26"
             ],
             [
              1,
              "#f0f921"
             ]
            ],
            "type": "contour"
           }
          ],
          "contourcarpet": [
           {
            "colorbar": {
             "outlinewidth": 0,
             "ticks": ""
            },
            "type": "contourcarpet"
           }
          ],
          "heatmap": [
           {
            "colorbar": {
             "outlinewidth": 0,
             "ticks": ""
            },
            "colorscale": [
             [
              0,
              "#0d0887"
             ],
             [
              0.1111111111111111,
              "#46039f"
             ],
             [
              0.2222222222222222,
              "#7201a8"
             ],
             [
              0.3333333333333333,
              "#9c179e"
             ],
             [
              0.4444444444444444,
              "#bd3786"
             ],
             [
              0.5555555555555556,
              "#d8576b"
             ],
             [
              0.6666666666666666,
              "#ed7953"
             ],
             [
              0.7777777777777778,
              "#fb9f3a"
             ],
             [
              0.8888888888888888,
              "#fdca26"
             ],
             [
              1,
              "#f0f921"
             ]
            ],
            "type": "heatmap"
           }
          ],
          "heatmapgl": [
           {
            "colorbar": {
             "outlinewidth": 0,
             "ticks": ""
            },
            "colorscale": [
             [
              0,
              "#0d0887"
             ],
             [
              0.1111111111111111,
              "#46039f"
             ],
             [
              0.2222222222222222,
              "#7201a8"
             ],
             [
              0.3333333333333333,
              "#9c179e"
             ],
             [
              0.4444444444444444,
              "#bd3786"
             ],
             [
              0.5555555555555556,
              "#d8576b"
             ],
             [
              0.6666666666666666,
              "#ed7953"
             ],
             [
              0.7777777777777778,
              "#fb9f3a"
             ],
             [
              0.8888888888888888,
              "#fdca26"
             ],
             [
              1,
              "#f0f921"
             ]
            ],
            "type": "heatmapgl"
           }
          ],
          "histogram": [
           {
            "marker": {
             "pattern": {
              "fillmode": "overlay",
              "size": 10,
              "solidity": 0.2
             }
            },
            "type": "histogram"
           }
          ],
          "histogram2d": [
           {
            "colorbar": {
             "outlinewidth": 0,
             "ticks": ""
            },
            "colorscale": [
             [
              0,
              "#0d0887"
             ],
             [
              0.1111111111111111,
              "#46039f"
             ],
             [
              0.2222222222222222,
              "#7201a8"
             ],
             [
              0.3333333333333333,
              "#9c179e"
             ],
             [
              0.4444444444444444,
              "#bd3786"
             ],
             [
              0.5555555555555556,
              "#d8576b"
             ],
             [
              0.6666666666666666,
              "#ed7953"
             ],
             [
              0.7777777777777778,
              "#fb9f3a"
             ],
             [
              0.8888888888888888,
              "#fdca26"
             ],
             [
              1,
              "#f0f921"
             ]
            ],
            "type": "histogram2d"
           }
          ],
          "histogram2dcontour": [
           {
            "colorbar": {
             "outlinewidth": 0,
             "ticks": ""
            },
            "colorscale": [
             [
              0,
              "#0d0887"
             ],
             [
              0.1111111111111111,
              "#46039f"
             ],
             [
              0.2222222222222222,
              "#7201a8"
             ],
             [
              0.3333333333333333,
              "#9c179e"
             ],
             [
              0.4444444444444444,
              "#bd3786"
             ],
             [
              0.5555555555555556,
              "#d8576b"
             ],
             [
              0.6666666666666666,
              "#ed7953"
             ],
             [
              0.7777777777777778,
              "#fb9f3a"
             ],
             [
              0.8888888888888888,
              "#fdca26"
             ],
             [
              1,
              "#f0f921"
             ]
            ],
            "type": "histogram2dcontour"
           }
          ],
          "mesh3d": [
           {
            "colorbar": {
             "outlinewidth": 0,
             "ticks": ""
            },
            "type": "mesh3d"
           }
          ],
          "parcoords": [
           {
            "line": {
             "colorbar": {
              "outlinewidth": 0,
              "ticks": ""
             }
            },
            "type": "parcoords"
           }
          ],
          "pie": [
           {
            "automargin": true,
            "type": "pie"
           }
          ],
          "scatter": [
           {
            "fillpattern": {
             "fillmode": "overlay",
             "size": 10,
             "solidity": 0.2
            },
            "type": "scatter"
           }
          ],
          "scatter3d": [
           {
            "line": {
             "colorbar": {
              "outlinewidth": 0,
              "ticks": ""
             }
            },
            "marker": {
             "colorbar": {
              "outlinewidth": 0,
              "ticks": ""
             }
            },
            "type": "scatter3d"
           }
          ],
          "scattercarpet": [
           {
            "marker": {
             "colorbar": {
              "outlinewidth": 0,
              "ticks": ""
             }
            },
            "type": "scattercarpet"
           }
          ],
          "scattergeo": [
           {
            "marker": {
             "colorbar": {
              "outlinewidth": 0,
              "ticks": ""
             }
            },
            "type": "scattergeo"
           }
          ],
          "scattergl": [
           {
            "marker": {
             "colorbar": {
              "outlinewidth": 0,
              "ticks": ""
             }
            },
            "type": "scattergl"
           }
          ],
          "scattermapbox": [
           {
            "marker": {
             "colorbar": {
              "outlinewidth": 0,
              "ticks": ""
             }
            },
            "type": "scattermapbox"
           }
          ],
          "scatterpolar": [
           {
            "marker": {
             "colorbar": {
              "outlinewidth": 0,
              "ticks": ""
             }
            },
            "type": "scatterpolar"
           }
          ],
          "scatterpolargl": [
           {
            "marker": {
             "colorbar": {
              "outlinewidth": 0,
              "ticks": ""
             }
            },
            "type": "scatterpolargl"
           }
          ],
          "scatterternary": [
           {
            "marker": {
             "colorbar": {
              "outlinewidth": 0,
              "ticks": ""
             }
            },
            "type": "scatterternary"
           }
          ],
          "surface": [
           {
            "colorbar": {
             "outlinewidth": 0,
             "ticks": ""
            },
            "colorscale": [
             [
              0,
              "#0d0887"
             ],
             [
              0.1111111111111111,
              "#46039f"
             ],
             [
              0.2222222222222222,
              "#7201a8"
             ],
             [
              0.3333333333333333,
              "#9c179e"
             ],
             [
              0.4444444444444444,
              "#bd3786"
             ],
             [
              0.5555555555555556,
              "#d8576b"
             ],
             [
              0.6666666666666666,
              "#ed7953"
             ],
             [
              0.7777777777777778,
              "#fb9f3a"
             ],
             [
              0.8888888888888888,
              "#fdca26"
             ],
             [
              1,
              "#f0f921"
             ]
            ],
            "type": "surface"
           }
          ],
          "table": [
           {
            "cells": {
             "fill": {
              "color": "#EBF0F8"
             },
             "line": {
              "color": "white"
             }
            },
            "header": {
             "fill": {
              "color": "#C8D4E3"
             },
             "line": {
              "color": "white"
             }
            },
            "type": "table"
           }
          ]
         },
         "layout": {
          "annotationdefaults": {
           "arrowcolor": "#2a3f5f",
           "arrowhead": 0,
           "arrowwidth": 1
          },
          "autotypenumbers": "strict",
          "coloraxis": {
           "colorbar": {
            "outlinewidth": 0,
            "ticks": ""
           }
          },
          "colorscale": {
           "diverging": [
            [
             0,
             "#8e0152"
            ],
            [
             0.1,
             "#c51b7d"
            ],
            [
             0.2,
             "#de77ae"
            ],
            [
             0.3,
             "#f1b6da"
            ],
            [
             0.4,
             "#fde0ef"
            ],
            [
             0.5,
             "#f7f7f7"
            ],
            [
             0.6,
             "#e6f5d0"
            ],
            [
             0.7,
             "#b8e186"
            ],
            [
             0.8,
             "#7fbc41"
            ],
            [
             0.9,
             "#4d9221"
            ],
            [
             1,
             "#276419"
            ]
           ],
           "sequential": [
            [
             0,
             "#0d0887"
            ],
            [
             0.1111111111111111,
             "#46039f"
            ],
            [
             0.2222222222222222,
             "#7201a8"
            ],
            [
             0.3333333333333333,
             "#9c179e"
            ],
            [
             0.4444444444444444,
             "#bd3786"
            ],
            [
             0.5555555555555556,
             "#d8576b"
            ],
            [
             0.6666666666666666,
             "#ed7953"
            ],
            [
             0.7777777777777778,
             "#fb9f3a"
            ],
            [
             0.8888888888888888,
             "#fdca26"
            ],
            [
             1,
             "#f0f921"
            ]
           ],
           "sequentialminus": [
            [
             0,
             "#0d0887"
            ],
            [
             0.1111111111111111,
             "#46039f"
            ],
            [
             0.2222222222222222,
             "#7201a8"
            ],
            [
             0.3333333333333333,
             "#9c179e"
            ],
            [
             0.4444444444444444,
             "#bd3786"
            ],
            [
             0.5555555555555556,
             "#d8576b"
            ],
            [
             0.6666666666666666,
             "#ed7953"
            ],
            [
             0.7777777777777778,
             "#fb9f3a"
            ],
            [
             0.8888888888888888,
             "#fdca26"
            ],
            [
             1,
             "#f0f921"
            ]
           ]
          },
          "colorway": [
           "#636efa",
           "#EF553B",
           "#00cc96",
           "#ab63fa",
           "#FFA15A",
           "#19d3f3",
           "#FF6692",
           "#B6E880",
           "#FF97FF",
           "#FECB52"
          ],
          "font": {
           "color": "#2a3f5f"
          },
          "geo": {
           "bgcolor": "white",
           "lakecolor": "white",
           "landcolor": "#E5ECF6",
           "showlakes": true,
           "showland": true,
           "subunitcolor": "white"
          },
          "hoverlabel": {
           "align": "left"
          },
          "hovermode": "closest",
          "mapbox": {
           "style": "light"
          },
          "paper_bgcolor": "white",
          "plot_bgcolor": "#E5ECF6",
          "polar": {
           "angularaxis": {
            "gridcolor": "white",
            "linecolor": "white",
            "ticks": ""
           },
           "bgcolor": "#E5ECF6",
           "radialaxis": {
            "gridcolor": "white",
            "linecolor": "white",
            "ticks": ""
           }
          },
          "scene": {
           "xaxis": {
            "backgroundcolor": "#E5ECF6",
            "gridcolor": "white",
            "gridwidth": 2,
            "linecolor": "white",
            "showbackground": true,
            "ticks": "",
            "zerolinecolor": "white"
           },
           "yaxis": {
            "backgroundcolor": "#E5ECF6",
            "gridcolor": "white",
            "gridwidth": 2,
            "linecolor": "white",
            "showbackground": true,
            "ticks": "",
            "zerolinecolor": "white"
           },
           "zaxis": {
            "backgroundcolor": "#E5ECF6",
            "gridcolor": "white",
            "gridwidth": 2,
            "linecolor": "white",
            "showbackground": true,
            "ticks": "",
            "zerolinecolor": "white"
           }
          },
          "shapedefaults": {
           "line": {
            "color": "#2a3f5f"
           }
          },
          "ternary": {
           "aaxis": {
            "gridcolor": "white",
            "linecolor": "white",
            "ticks": ""
           },
           "baxis": {
            "gridcolor": "white",
            "linecolor": "white",
            "ticks": ""
           },
           "bgcolor": "#E5ECF6",
           "caxis": {
            "gridcolor": "white",
            "linecolor": "white",
            "ticks": ""
           }
          },
          "title": {
           "x": 0.05
          },
          "xaxis": {
           "automargin": true,
           "gridcolor": "white",
           "linecolor": "white",
           "ticks": "",
           "title": {
            "standoff": 15
           },
           "zerolinecolor": "white",
           "zerolinewidth": 2
          },
          "yaxis": {
           "automargin": true,
           "gridcolor": "white",
           "linecolor": "white",
           "ticks": "",
           "title": {
            "standoff": 15
           },
           "zerolinecolor": "white",
           "zerolinewidth": 2
          }
         }
        },
        "title": {
         "text": "Implied Volatility Smile for CLV25"
        },
        "xaxis": {
         "title": {
          "text": "Strike Price"
         }
        },
        "yaxis": {
         "title": {
          "text": "Implied Volatility"
         }
        }
       }
      }
     },
     "metadata": {},
     "output_type": "display_data"
    },
    {
     "name": "stdout",
     "output_type": "stream",
     "text": [
      "CLX25 64.74\n",
      "CLX25 - Balanced Smile\n"
     ]
    },
    {
     "data": {
      "application/vnd.plotly.v1+json": {
       "config": {
        "plotlyServerURL": "https://plot.ly"
       },
       "data": [
        {
         "marker": {
          "color": "blue",
          "opacity": 0.7,
          "size": 8,
          "symbol": "circle"
         },
         "mode": "markers",
         "name": "Call Options - CLX25",
         "type": "scatter",
         "x": [
          49.5,
          50.5,
          51,
          51.5,
          52,
          52.5,
          53,
          53.5,
          54,
          54.5,
          55,
          55.5,
          56,
          56.5,
          57,
          57.5,
          58,
          58.5,
          59,
          59.5,
          60,
          60.5,
          61,
          61.5,
          62,
          62.5,
          63,
          63.5,
          64,
          64.5,
          65,
          65.5,
          66,
          66.5,
          67,
          67.5,
          68,
          68.5,
          69,
          69.5,
          70,
          70.5,
          71,
          71.5,
          72,
          72.5,
          73,
          73.5,
          74,
          74.5,
          75,
          75.5,
          76,
          76.5,
          77,
          77.5,
          78,
          78.5,
          79,
          79.5
         ],
         "y": [
          null,
          null,
          null,
          null,
          null,
          null,
          null,
          null,
          null,
          null,
          null,
          null,
          null,
          null,
          null,
          null,
          null,
          null,
          null,
          null,
          null,
          null,
          null,
          null,
          null,
          null,
          null,
          null,
          null,
          null,
          0.2976900148741534,
          0.3047959104175375,
          0.29623905636227593,
          0.29000341092264326,
          0.29848488269120155,
          0.30031463379038303,
          0.3002943790710845,
          0.29966081983858023,
          0.2998087872791269,
          0.3007246433965643,
          0.302395021234972,
          0.30404596484672425,
          0.31400995596892756,
          0.30565431440918844,
          0.3069400325103932,
          0.30646427412088895,
          0.308600191170983,
          0.31157837850721504,
          0.3128048714453529,
          0.31517938139301543,
          0.3158318728026614,
          0.32511905263785207,
          0.3181899239969494,
          0.3198854815729262,
          0.3215644628391393,
          0.32428635336698686,
          0.32803822383846143,
          0.33070616187700613,
          0.3330819058220969,
          0.33406454172215977
         ]
        },
        {
         "marker": {
          "color": "red",
          "opacity": 0.7,
          "size": 8,
          "symbol": "x"
         },
         "mode": "markers",
         "name": "Put Options - CLX25",
         "type": "scatter",
         "x": [
          49.5,
          50,
          50.5,
          51,
          51.5,
          52,
          52.5,
          53,
          53.5,
          54,
          54.5,
          55,
          55.5,
          56,
          56.5,
          57,
          57.5,
          58,
          58.5,
          59,
          59.5,
          60,
          60.5,
          61,
          61.5,
          62,
          62.5,
          63,
          63.5,
          64,
          64.5,
          65,
          65.5,
          66,
          66.5,
          67,
          67.5,
          68,
          68.5,
          69,
          69.5,
          70,
          70.5,
          71,
          71.5,
          72,
          72.5,
          73,
          73.5,
          74,
          74.5,
          75,
          75.5,
          76,
          76.5,
          77,
          77.5,
          78,
          79
         ],
         "y": [
          0.40820694444714545,
          0.404864696512766,
          0.4015474808134324,
          0.3962633246108625,
          0.39298222070125505,
          0.3875977106243821,
          0.3822760335795861,
          0.3784179458093893,
          0.37600273678123586,
          0.3722148817480078,
          0.3712024919640735,
          0.3697068605369831,
          0.3720872524857602,
          0.36059629162103374,
          0.35769966522883556,
          0.35483262657524467,
          0.3655263582106168,
          0.35117725900454866,
          0.3500945837161327,
          0.34610396191638465,
          0.34474989214143087,
          0.343403599117228,
          0.34204443861692085,
          0.3415086689154256,
          0.34163405975106564,
          0.33969647869035907,
          0.34590497148461663,
          0.3358751893605065,
          0.3328153538346331,
          0.35329605680556714,
          0.33638108093598484,
          0.33236988838493864,
          0.3342043060911703,
          0.3337623325530961,
          0.3340365811747055,
          0.32611894044028417,
          0.3321338685561174,
          0.344513406791294,
          0.337315187964533,
          0.33653608204475594,
          0.3372884586512759,
          0.3379911062418136,
          0.339365195431546,
          0.3414170154948379,
          0.3440273765517243,
          0.34510794655727217,
          0.34529131377643946,
          0.34631672619018633,
          0.3472793042256924,
          0.34906549019998145,
          0.35162431256861343,
          0.35499348311098655,
          0.35728084337300586,
          0.3606406235800291,
          0.3609492469796206,
          0.3634393089520348,
          0.36472815712512385,
          0.3670827583971151,
          0.37268203947182627
         ]
        },
        {
         "line": {
          "color": "green",
          "dash": "dash"
         },
         "mode": "lines",
         "name": "Current Price (F) - CLX25",
         "type": "scatter",
         "x": [
          64.74,
          64.74
         ],
         "y": [
          0,
          null
         ]
        }
       ],
       "layout": {
        "annotations": [
         {
          "align": "center",
          "bgcolor": "white",
          "bordercolor": "black",
          "borderpad": 4,
          "borderwidth": 1,
          "font": {
           "color": "black",
           "size": 12
          },
          "showarrow": false,
          "text": "Balanced Smile",
          "x": 64.5,
          "y": null
         }
        ],
        "template": {
         "data": {
          "bar": [
           {
            "error_x": {
             "color": "#2a3f5f"
            },
            "error_y": {
             "color": "#2a3f5f"
            },
            "marker": {
             "line": {
              "color": "#E5ECF6",
              "width": 0.5
             },
             "pattern": {
              "fillmode": "overlay",
              "size": 10,
              "solidity": 0.2
             }
            },
            "type": "bar"
           }
          ],
          "barpolar": [
           {
            "marker": {
             "line": {
              "color": "#E5ECF6",
              "width": 0.5
             },
             "pattern": {
              "fillmode": "overlay",
              "size": 10,
              "solidity": 0.2
             }
            },
            "type": "barpolar"
           }
          ],
          "carpet": [
           {
            "aaxis": {
             "endlinecolor": "#2a3f5f",
             "gridcolor": "white",
             "linecolor": "white",
             "minorgridcolor": "white",
             "startlinecolor": "#2a3f5f"
            },
            "baxis": {
             "endlinecolor": "#2a3f5f",
             "gridcolor": "white",
             "linecolor": "white",
             "minorgridcolor": "white",
             "startlinecolor": "#2a3f5f"
            },
            "type": "carpet"
           }
          ],
          "choropleth": [
           {
            "colorbar": {
             "outlinewidth": 0,
             "ticks": ""
            },
            "type": "choropleth"
           }
          ],
          "contour": [
           {
            "colorbar": {
             "outlinewidth": 0,
             "ticks": ""
            },
            "colorscale": [
             [
              0,
              "#0d0887"
             ],
             [
              0.1111111111111111,
              "#46039f"
             ],
             [
              0.2222222222222222,
              "#7201a8"
             ],
             [
              0.3333333333333333,
              "#9c179e"
             ],
             [
              0.4444444444444444,
              "#bd3786"
             ],
             [
              0.5555555555555556,
              "#d8576b"
             ],
             [
              0.6666666666666666,
              "#ed7953"
             ],
             [
              0.7777777777777778,
              "#fb9f3a"
             ],
             [
              0.8888888888888888,
              "#fdca26"
             ],
             [
              1,
              "#f0f921"
             ]
            ],
            "type": "contour"
           }
          ],
          "contourcarpet": [
           {
            "colorbar": {
             "outlinewidth": 0,
             "ticks": ""
            },
            "type": "contourcarpet"
           }
          ],
          "heatmap": [
           {
            "colorbar": {
             "outlinewidth": 0,
             "ticks": ""
            },
            "colorscale": [
             [
              0,
              "#0d0887"
             ],
             [
              0.1111111111111111,
              "#46039f"
             ],
             [
              0.2222222222222222,
              "#7201a8"
             ],
             [
              0.3333333333333333,
              "#9c179e"
             ],
             [
              0.4444444444444444,
              "#bd3786"
             ],
             [
              0.5555555555555556,
              "#d8576b"
             ],
             [
              0.6666666666666666,
              "#ed7953"
             ],
             [
              0.7777777777777778,
              "#fb9f3a"
             ],
             [
              0.8888888888888888,
              "#fdca26"
             ],
             [
              1,
              "#f0f921"
             ]
            ],
            "type": "heatmap"
           }
          ],
          "heatmapgl": [
           {
            "colorbar": {
             "outlinewidth": 0,
             "ticks": ""
            },
            "colorscale": [
             [
              0,
              "#0d0887"
             ],
             [
              0.1111111111111111,
              "#46039f"
             ],
             [
              0.2222222222222222,
              "#7201a8"
             ],
             [
              0.3333333333333333,
              "#9c179e"
             ],
             [
              0.4444444444444444,
              "#bd3786"
             ],
             [
              0.5555555555555556,
              "#d8576b"
             ],
             [
              0.6666666666666666,
              "#ed7953"
             ],
             [
              0.7777777777777778,
              "#fb9f3a"
             ],
             [
              0.8888888888888888,
              "#fdca26"
             ],
             [
              1,
              "#f0f921"
             ]
            ],
            "type": "heatmapgl"
           }
          ],
          "histogram": [
           {
            "marker": {
             "pattern": {
              "fillmode": "overlay",
              "size": 10,
              "solidity": 0.2
             }
            },
            "type": "histogram"
           }
          ],
          "histogram2d": [
           {
            "colorbar": {
             "outlinewidth": 0,
             "ticks": ""
            },
            "colorscale": [
             [
              0,
              "#0d0887"
             ],
             [
              0.1111111111111111,
              "#46039f"
             ],
             [
              0.2222222222222222,
              "#7201a8"
             ],
             [
              0.3333333333333333,
              "#9c179e"
             ],
             [
              0.4444444444444444,
              "#bd3786"
             ],
             [
              0.5555555555555556,
              "#d8576b"
             ],
             [
              0.6666666666666666,
              "#ed7953"
             ],
             [
              0.7777777777777778,
              "#fb9f3a"
             ],
             [
              0.8888888888888888,
              "#fdca26"
             ],
             [
              1,
              "#f0f921"
             ]
            ],
            "type": "histogram2d"
           }
          ],
          "histogram2dcontour": [
           {
            "colorbar": {
             "outlinewidth": 0,
             "ticks": ""
            },
            "colorscale": [
             [
              0,
              "#0d0887"
             ],
             [
              0.1111111111111111,
              "#46039f"
             ],
             [
              0.2222222222222222,
              "#7201a8"
             ],
             [
              0.3333333333333333,
              "#9c179e"
             ],
             [
              0.4444444444444444,
              "#bd3786"
             ],
             [
              0.5555555555555556,
              "#d8576b"
             ],
             [
              0.6666666666666666,
              "#ed7953"
             ],
             [
              0.7777777777777778,
              "#fb9f3a"
             ],
             [
              0.8888888888888888,
              "#fdca26"
             ],
             [
              1,
              "#f0f921"
             ]
            ],
            "type": "histogram2dcontour"
           }
          ],
          "mesh3d": [
           {
            "colorbar": {
             "outlinewidth": 0,
             "ticks": ""
            },
            "type": "mesh3d"
           }
          ],
          "parcoords": [
           {
            "line": {
             "colorbar": {
              "outlinewidth": 0,
              "ticks": ""
             }
            },
            "type": "parcoords"
           }
          ],
          "pie": [
           {
            "automargin": true,
            "type": "pie"
           }
          ],
          "scatter": [
           {
            "fillpattern": {
             "fillmode": "overlay",
             "size": 10,
             "solidity": 0.2
            },
            "type": "scatter"
           }
          ],
          "scatter3d": [
           {
            "line": {
             "colorbar": {
              "outlinewidth": 0,
              "ticks": ""
             }
            },
            "marker": {
             "colorbar": {
              "outlinewidth": 0,
              "ticks": ""
             }
            },
            "type": "scatter3d"
           }
          ],
          "scattercarpet": [
           {
            "marker": {
             "colorbar": {
              "outlinewidth": 0,
              "ticks": ""
             }
            },
            "type": "scattercarpet"
           }
          ],
          "scattergeo": [
           {
            "marker": {
             "colorbar": {
              "outlinewidth": 0,
              "ticks": ""
             }
            },
            "type": "scattergeo"
           }
          ],
          "scattergl": [
           {
            "marker": {
             "colorbar": {
              "outlinewidth": 0,
              "ticks": ""
             }
            },
            "type": "scattergl"
           }
          ],
          "scattermapbox": [
           {
            "marker": {
             "colorbar": {
              "outlinewidth": 0,
              "ticks": ""
             }
            },
            "type": "scattermapbox"
           }
          ],
          "scatterpolar": [
           {
            "marker": {
             "colorbar": {
              "outlinewidth": 0,
              "ticks": ""
             }
            },
            "type": "scatterpolar"
           }
          ],
          "scatterpolargl": [
           {
            "marker": {
             "colorbar": {
              "outlinewidth": 0,
              "ticks": ""
             }
            },
            "type": "scatterpolargl"
           }
          ],
          "scatterternary": [
           {
            "marker": {
             "colorbar": {
              "outlinewidth": 0,
              "ticks": ""
             }
            },
            "type": "scatterternary"
           }
          ],
          "surface": [
           {
            "colorbar": {
             "outlinewidth": 0,
             "ticks": ""
            },
            "colorscale": [
             [
              0,
              "#0d0887"
             ],
             [
              0.1111111111111111,
              "#46039f"
             ],
             [
              0.2222222222222222,
              "#7201a8"
             ],
             [
              0.3333333333333333,
              "#9c179e"
             ],
             [
              0.4444444444444444,
              "#bd3786"
             ],
             [
              0.5555555555555556,
              "#d8576b"
             ],
             [
              0.6666666666666666,
              "#ed7953"
             ],
             [
              0.7777777777777778,
              "#fb9f3a"
             ],
             [
              0.8888888888888888,
              "#fdca26"
             ],
             [
              1,
              "#f0f921"
             ]
            ],
            "type": "surface"
           }
          ],
          "table": [
           {
            "cells": {
             "fill": {
              "color": "#EBF0F8"
             },
             "line": {
              "color": "white"
             }
            },
            "header": {
             "fill": {
              "color": "#C8D4E3"
             },
             "line": {
              "color": "white"
             }
            },
            "type": "table"
           }
          ]
         },
         "layout": {
          "annotationdefaults": {
           "arrowcolor": "#2a3f5f",
           "arrowhead": 0,
           "arrowwidth": 1
          },
          "autotypenumbers": "strict",
          "coloraxis": {
           "colorbar": {
            "outlinewidth": 0,
            "ticks": ""
           }
          },
          "colorscale": {
           "diverging": [
            [
             0,
             "#8e0152"
            ],
            [
             0.1,
             "#c51b7d"
            ],
            [
             0.2,
             "#de77ae"
            ],
            [
             0.3,
             "#f1b6da"
            ],
            [
             0.4,
             "#fde0ef"
            ],
            [
             0.5,
             "#f7f7f7"
            ],
            [
             0.6,
             "#e6f5d0"
            ],
            [
             0.7,
             "#b8e186"
            ],
            [
             0.8,
             "#7fbc41"
            ],
            [
             0.9,
             "#4d9221"
            ],
            [
             1,
             "#276419"
            ]
           ],
           "sequential": [
            [
             0,
             "#0d0887"
            ],
            [
             0.1111111111111111,
             "#46039f"
            ],
            [
             0.2222222222222222,
             "#7201a8"
            ],
            [
             0.3333333333333333,
             "#9c179e"
            ],
            [
             0.4444444444444444,
             "#bd3786"
            ],
            [
             0.5555555555555556,
             "#d8576b"
            ],
            [
             0.6666666666666666,
             "#ed7953"
            ],
            [
             0.7777777777777778,
             "#fb9f3a"
            ],
            [
             0.8888888888888888,
             "#fdca26"
            ],
            [
             1,
             "#f0f921"
            ]
           ],
           "sequentialminus": [
            [
             0,
             "#0d0887"
            ],
            [
             0.1111111111111111,
             "#46039f"
            ],
            [
             0.2222222222222222,
             "#7201a8"
            ],
            [
             0.3333333333333333,
             "#9c179e"
            ],
            [
             0.4444444444444444,
             "#bd3786"
            ],
            [
             0.5555555555555556,
             "#d8576b"
            ],
            [
             0.6666666666666666,
             "#ed7953"
            ],
            [
             0.7777777777777778,
             "#fb9f3a"
            ],
            [
             0.8888888888888888,
             "#fdca26"
            ],
            [
             1,
             "#f0f921"
            ]
           ]
          },
          "colorway": [
           "#636efa",
           "#EF553B",
           "#00cc96",
           "#ab63fa",
           "#FFA15A",
           "#19d3f3",
           "#FF6692",
           "#B6E880",
           "#FF97FF",
           "#FECB52"
          ],
          "font": {
           "color": "#2a3f5f"
          },
          "geo": {
           "bgcolor": "white",
           "lakecolor": "white",
           "landcolor": "#E5ECF6",
           "showlakes": true,
           "showland": true,
           "subunitcolor": "white"
          },
          "hoverlabel": {
           "align": "left"
          },
          "hovermode": "closest",
          "mapbox": {
           "style": "light"
          },
          "paper_bgcolor": "white",
          "plot_bgcolor": "#E5ECF6",
          "polar": {
           "angularaxis": {
            "gridcolor": "white",
            "linecolor": "white",
            "ticks": ""
           },
           "bgcolor": "#E5ECF6",
           "radialaxis": {
            "gridcolor": "white",
            "linecolor": "white",
            "ticks": ""
           }
          },
          "scene": {
           "xaxis": {
            "backgroundcolor": "#E5ECF6",
            "gridcolor": "white",
            "gridwidth": 2,
            "linecolor": "white",
            "showbackground": true,
            "ticks": "",
            "zerolinecolor": "white"
           },
           "yaxis": {
            "backgroundcolor": "#E5ECF6",
            "gridcolor": "white",
            "gridwidth": 2,
            "linecolor": "white",
            "showbackground": true,
            "ticks": "",
            "zerolinecolor": "white"
           },
           "zaxis": {
            "backgroundcolor": "#E5ECF6",
            "gridcolor": "white",
            "gridwidth": 2,
            "linecolor": "white",
            "showbackground": true,
            "ticks": "",
            "zerolinecolor": "white"
           }
          },
          "shapedefaults": {
           "line": {
            "color": "#2a3f5f"
           }
          },
          "ternary": {
           "aaxis": {
            "gridcolor": "white",
            "linecolor": "white",
            "ticks": ""
           },
           "baxis": {
            "gridcolor": "white",
            "linecolor": "white",
            "ticks": ""
           },
           "bgcolor": "#E5ECF6",
           "caxis": {
            "gridcolor": "white",
            "linecolor": "white",
            "ticks": ""
           }
          },
          "title": {
           "x": 0.05
          },
          "xaxis": {
           "automargin": true,
           "gridcolor": "white",
           "linecolor": "white",
           "ticks": "",
           "title": {
            "standoff": 15
           },
           "zerolinecolor": "white",
           "zerolinewidth": 2
          },
          "yaxis": {
           "automargin": true,
           "gridcolor": "white",
           "linecolor": "white",
           "ticks": "",
           "title": {
            "standoff": 15
           },
           "zerolinecolor": "white",
           "zerolinewidth": 2
          }
         }
        },
        "title": {
         "text": "Implied Volatility Smile for CLX25"
        },
        "xaxis": {
         "title": {
          "text": "Strike Price"
         }
        },
        "yaxis": {
         "title": {
          "text": "Implied Volatility"
         }
        }
       }
      }
     },
     "metadata": {},
     "output_type": "display_data"
    },
    {
     "name": "stdout",
     "output_type": "stream",
     "text": [
      "CLZ25 64.0\n",
      "CLZ25 - Balanced Smile\n"
     ]
    },
    {
     "data": {
      "application/vnd.plotly.v1+json": {
       "config": {
        "plotlyServerURL": "https://plot.ly"
       },
       "data": [
        {
         "marker": {
          "color": "blue",
          "opacity": 0.7,
          "size": 8,
          "symbol": "circle"
         },
         "mode": "markers",
         "name": "Call Options - CLZ25",
         "type": "scatter",
         "x": [
          49.5,
          50,
          50.5,
          51,
          51.5,
          52,
          52.5,
          53,
          53.5,
          54,
          54.5,
          55,
          55.5,
          56,
          56.5,
          57,
          57.5,
          58,
          58.5,
          59,
          59.5,
          60,
          60.5,
          61,
          61.5,
          62,
          62.5,
          63,
          63.5,
          64,
          64.5,
          65,
          65.5,
          66,
          66.5,
          67,
          67.5,
          68,
          68.5,
          69,
          69.5,
          70,
          70.5,
          71,
          71.5,
          72,
          72.5,
          73,
          73.5,
          74,
          74.5,
          75,
          75.5,
          76,
          76.5,
          77,
          77.5,
          78,
          78.5,
          79
         ],
         "y": [
          0.28811955967294134,
          0.29356826266916164,
          0.29395719948544347,
          0.2943394750178126,
          0.29649919769393673,
          0.2986215683084185,
          0.2983725160896674,
          0.29728459710226796,
          0.2974635438939417,
          0.2988796609164397,
          0.30027325373067937,
          0.3008912806931998,
          0.3000556223604021,
          0.2992319687065609,
          0.2984202962901868,
          0.29948247604618605,
          0.3005289135512062,
          0.2999194596061342,
          0.2986032201112466,
          0.29730531043058056,
          0.29679058881041653,
          0.31374423722855294,
          0.2784052738725276,
          0.2978294480938671,
          0.2984762608312001,
          0.3107099411164211,
          0.2936430173917609,
          0.2936314117009503,
          0.29428895996583093,
          null,
          0.29323380296133816,
          0.2922078607907817,
          0.2911953040819921,
          0.29149023493987525,
          0.2917813449519315,
          0.2978214431579451,
          0.29878947330995526,
          0.29132650207338145,
          0.2907524803237909,
          0.2908601293108089,
          0.2916375415493678,
          0.2924057347201781,
          0.2944906330416262,
          0.2948620472405325,
          0.29366984817397973,
          0.29402118733572025,
          0.2989337169168988,
          0.2954678450443327,
          0.29730719700564245,
          0.29912673249298916,
          0.3009268995981942,
          0.30112014973758244,
          0.30168754949393123,
          0.3003838966940701,
          0.30373240627056525,
          0.3088994540430449,
          0.30665461698407187,
          0.308093945571559,
          0.31499189539407974,
          0.3172875024587925
         ]
        },
        {
         "marker": {
          "color": "red",
          "opacity": 0.7,
          "size": 8,
          "symbol": "x"
         },
         "mode": "markers",
         "name": "Put Options - CLZ25",
         "type": "scatter",
         "x": [
          49,
          49.5,
          50,
          50.5,
          51,
          51.5,
          52,
          52.5,
          53,
          53.5,
          54,
          54.5,
          55,
          55.5,
          56,
          56.5,
          57,
          57.5,
          58,
          58.5,
          59,
          59.5,
          60,
          60.5,
          61,
          61.5,
          62,
          62.5,
          63,
          63.5,
          64,
          64.5,
          65,
          65.5,
          66,
          66.5,
          67,
          67.5,
          68,
          68.5,
          69,
          69.5,
          70,
          70.5,
          71,
          71.5,
          72,
          72.5,
          73,
          73.5,
          74,
          74.5,
          75,
          75.5,
          76,
          76.5,
          77,
          77.5,
          78,
          78.5
         ],
         "y": [
          0.3995492810194943,
          0.3945032638713579,
          0.38951484479850146,
          0.3858589945000914,
          0.38224857968032677,
          0.3786723333075884,
          0.3763722698419309,
          0.37406398533608365,
          0.3723478996055806,
          0.3676375174811659,
          0.3639325424316038,
          0.36122022854331054,
          0.3623088220162953,
          0.36428331762260246,
          0.3559927688469894,
          0.35509834078356334,
          0.3522260130371941,
          0.3462334505596247,
          0.3465021410938656,
          0.3444518894638311,
          0.34315935291356114,
          0.3418544624117506,
          0.3374774465009372,
          0.3403841458868479,
          0.3375873566562409,
          0.3354970915157173,
          0.33341929541554416,
          0.3326768589510184,
          0.33190221986741925,
          0.3317172658704557,
          0.3318429782796047,
          0.32945037630639457,
          0.3382487985155732,
          0.32664598103350473,
          0.3261786023443378,
          0.32630771638547285,
          0.34188633482796427,
          0.3261916508356101,
          0.32690635698417486,
          0.30557345518675827,
          0.3255015589500617,
          0.32542335992406624,
          0.3259476148248275,
          0.3263976976125795,
          0.3280637622110454,
          0.329471488635109,
          0.3290876764749834,
          0.3292191095970686,
          0.32929615931341455,
          0.3300950889377084,
          0.3315842304304443,
          0.33298398715540395,
          0.3350695538899572,
          0.3369914155678418,
          0.3394685602430499,
          0.33988094845790306,
          0.3410254834713149,
          0.34209773448291436,
          0.3431037985963912,
          0.34503262117180516
         ]
        },
        {
         "line": {
          "color": "green",
          "dash": "dash"
         },
         "mode": "lines",
         "name": "Current Price (F) - CLZ25",
         "type": "scatter",
         "x": [
          64,
          64
         ],
         "y": [
          0,
          0.3995492810194943
         ]
        }
       ],
       "layout": {
        "annotations": [
         {
          "align": "center",
          "bgcolor": "white",
          "bordercolor": "black",
          "borderpad": 4,
          "borderwidth": 1,
          "font": {
           "color": "black",
           "size": 12
          },
          "showarrow": false,
          "text": "Balanced Smile",
          "x": 64,
          "y": 0.3995492810194943
         }
        ],
        "template": {
         "data": {
          "bar": [
           {
            "error_x": {
             "color": "#2a3f5f"
            },
            "error_y": {
             "color": "#2a3f5f"
            },
            "marker": {
             "line": {
              "color": "#E5ECF6",
              "width": 0.5
             },
             "pattern": {
              "fillmode": "overlay",
              "size": 10,
              "solidity": 0.2
             }
            },
            "type": "bar"
           }
          ],
          "barpolar": [
           {
            "marker": {
             "line": {
              "color": "#E5ECF6",
              "width": 0.5
             },
             "pattern": {
              "fillmode": "overlay",
              "size": 10,
              "solidity": 0.2
             }
            },
            "type": "barpolar"
           }
          ],
          "carpet": [
           {
            "aaxis": {
             "endlinecolor": "#2a3f5f",
             "gridcolor": "white",
             "linecolor": "white",
             "minorgridcolor": "white",
             "startlinecolor": "#2a3f5f"
            },
            "baxis": {
             "endlinecolor": "#2a3f5f",
             "gridcolor": "white",
             "linecolor": "white",
             "minorgridcolor": "white",
             "startlinecolor": "#2a3f5f"
            },
            "type": "carpet"
           }
          ],
          "choropleth": [
           {
            "colorbar": {
             "outlinewidth": 0,
             "ticks": ""
            },
            "type": "choropleth"
           }
          ],
          "contour": [
           {
            "colorbar": {
             "outlinewidth": 0,
             "ticks": ""
            },
            "colorscale": [
             [
              0,
              "#0d0887"
             ],
             [
              0.1111111111111111,
              "#46039f"
             ],
             [
              0.2222222222222222,
              "#7201a8"
             ],
             [
              0.3333333333333333,
              "#9c179e"
             ],
             [
              0.4444444444444444,
              "#bd3786"
             ],
             [
              0.5555555555555556,
              "#d8576b"
             ],
             [
              0.6666666666666666,
              "#ed7953"
             ],
             [
              0.7777777777777778,
              "#fb9f3a"
             ],
             [
              0.8888888888888888,
              "#fdca26"
             ],
             [
              1,
              "#f0f921"
             ]
            ],
            "type": "contour"
           }
          ],
          "contourcarpet": [
           {
            "colorbar": {
             "outlinewidth": 0,
             "ticks": ""
            },
            "type": "contourcarpet"
           }
          ],
          "heatmap": [
           {
            "colorbar": {
             "outlinewidth": 0,
             "ticks": ""
            },
            "colorscale": [
             [
              0,
              "#0d0887"
             ],
             [
              0.1111111111111111,
              "#46039f"
             ],
             [
              0.2222222222222222,
              "#7201a8"
             ],
             [
              0.3333333333333333,
              "#9c179e"
             ],
             [
              0.4444444444444444,
              "#bd3786"
             ],
             [
              0.5555555555555556,
              "#d8576b"
             ],
             [
              0.6666666666666666,
              "#ed7953"
             ],
             [
              0.7777777777777778,
              "#fb9f3a"
             ],
             [
              0.8888888888888888,
              "#fdca26"
             ],
             [
              1,
              "#f0f921"
             ]
            ],
            "type": "heatmap"
           }
          ],
          "heatmapgl": [
           {
            "colorbar": {
             "outlinewidth": 0,
             "ticks": ""
            },
            "colorscale": [
             [
              0,
              "#0d0887"
             ],
             [
              0.1111111111111111,
              "#46039f"
             ],
             [
              0.2222222222222222,
              "#7201a8"
             ],
             [
              0.3333333333333333,
              "#9c179e"
             ],
             [
              0.4444444444444444,
              "#bd3786"
             ],
             [
              0.5555555555555556,
              "#d8576b"
             ],
             [
              0.6666666666666666,
              "#ed7953"
             ],
             [
              0.7777777777777778,
              "#fb9f3a"
             ],
             [
              0.8888888888888888,
              "#fdca26"
             ],
             [
              1,
              "#f0f921"
             ]
            ],
            "type": "heatmapgl"
           }
          ],
          "histogram": [
           {
            "marker": {
             "pattern": {
              "fillmode": "overlay",
              "size": 10,
              "solidity": 0.2
             }
            },
            "type": "histogram"
           }
          ],
          "histogram2d": [
           {
            "colorbar": {
             "outlinewidth": 0,
             "ticks": ""
            },
            "colorscale": [
             [
              0,
              "#0d0887"
             ],
             [
              0.1111111111111111,
              "#46039f"
             ],
             [
              0.2222222222222222,
              "#7201a8"
             ],
             [
              0.3333333333333333,
              "#9c179e"
             ],
             [
              0.4444444444444444,
              "#bd3786"
             ],
             [
              0.5555555555555556,
              "#d8576b"
             ],
             [
              0.6666666666666666,
              "#ed7953"
             ],
             [
              0.7777777777777778,
              "#fb9f3a"
             ],
             [
              0.8888888888888888,
              "#fdca26"
             ],
             [
              1,
              "#f0f921"
             ]
            ],
            "type": "histogram2d"
           }
          ],
          "histogram2dcontour": [
           {
            "colorbar": {
             "outlinewidth": 0,
             "ticks": ""
            },
            "colorscale": [
             [
              0,
              "#0d0887"
             ],
             [
              0.1111111111111111,
              "#46039f"
             ],
             [
              0.2222222222222222,
              "#7201a8"
             ],
             [
              0.3333333333333333,
              "#9c179e"
             ],
             [
              0.4444444444444444,
              "#bd3786"
             ],
             [
              0.5555555555555556,
              "#d8576b"
             ],
             [
              0.6666666666666666,
              "#ed7953"
             ],
             [
              0.7777777777777778,
              "#fb9f3a"
             ],
             [
              0.8888888888888888,
              "#fdca26"
             ],
             [
              1,
              "#f0f921"
             ]
            ],
            "type": "histogram2dcontour"
           }
          ],
          "mesh3d": [
           {
            "colorbar": {
             "outlinewidth": 0,
             "ticks": ""
            },
            "type": "mesh3d"
           }
          ],
          "parcoords": [
           {
            "line": {
             "colorbar": {
              "outlinewidth": 0,
              "ticks": ""
             }
            },
            "type": "parcoords"
           }
          ],
          "pie": [
           {
            "automargin": true,
            "type": "pie"
           }
          ],
          "scatter": [
           {
            "fillpattern": {
             "fillmode": "overlay",
             "size": 10,
             "solidity": 0.2
            },
            "type": "scatter"
           }
          ],
          "scatter3d": [
           {
            "line": {
             "colorbar": {
              "outlinewidth": 0,
              "ticks": ""
             }
            },
            "marker": {
             "colorbar": {
              "outlinewidth": 0,
              "ticks": ""
             }
            },
            "type": "scatter3d"
           }
          ],
          "scattercarpet": [
           {
            "marker": {
             "colorbar": {
              "outlinewidth": 0,
              "ticks": ""
             }
            },
            "type": "scattercarpet"
           }
          ],
          "scattergeo": [
           {
            "marker": {
             "colorbar": {
              "outlinewidth": 0,
              "ticks": ""
             }
            },
            "type": "scattergeo"
           }
          ],
          "scattergl": [
           {
            "marker": {
             "colorbar": {
              "outlinewidth": 0,
              "ticks": ""
             }
            },
            "type": "scattergl"
           }
          ],
          "scattermapbox": [
           {
            "marker": {
             "colorbar": {
              "outlinewidth": 0,
              "ticks": ""
             }
            },
            "type": "scattermapbox"
           }
          ],
          "scatterpolar": [
           {
            "marker": {
             "colorbar": {
              "outlinewidth": 0,
              "ticks": ""
             }
            },
            "type": "scatterpolar"
           }
          ],
          "scatterpolargl": [
           {
            "marker": {
             "colorbar": {
              "outlinewidth": 0,
              "ticks": ""
             }
            },
            "type": "scatterpolargl"
           }
          ],
          "scatterternary": [
           {
            "marker": {
             "colorbar": {
              "outlinewidth": 0,
              "ticks": ""
             }
            },
            "type": "scatterternary"
           }
          ],
          "surface": [
           {
            "colorbar": {
             "outlinewidth": 0,
             "ticks": ""
            },
            "colorscale": [
             [
              0,
              "#0d0887"
             ],
             [
              0.1111111111111111,
              "#46039f"
             ],
             [
              0.2222222222222222,
              "#7201a8"
             ],
             [
              0.3333333333333333,
              "#9c179e"
             ],
             [
              0.4444444444444444,
              "#bd3786"
             ],
             [
              0.5555555555555556,
              "#d8576b"
             ],
             [
              0.6666666666666666,
              "#ed7953"
             ],
             [
              0.7777777777777778,
              "#fb9f3a"
             ],
             [
              0.8888888888888888,
              "#fdca26"
             ],
             [
              1,
              "#f0f921"
             ]
            ],
            "type": "surface"
           }
          ],
          "table": [
           {
            "cells": {
             "fill": {
              "color": "#EBF0F8"
             },
             "line": {
              "color": "white"
             }
            },
            "header": {
             "fill": {
              "color": "#C8D4E3"
             },
             "line": {
              "color": "white"
             }
            },
            "type": "table"
           }
          ]
         },
         "layout": {
          "annotationdefaults": {
           "arrowcolor": "#2a3f5f",
           "arrowhead": 0,
           "arrowwidth": 1
          },
          "autotypenumbers": "strict",
          "coloraxis": {
           "colorbar": {
            "outlinewidth": 0,
            "ticks": ""
           }
          },
          "colorscale": {
           "diverging": [
            [
             0,
             "#8e0152"
            ],
            [
             0.1,
             "#c51b7d"
            ],
            [
             0.2,
             "#de77ae"
            ],
            [
             0.3,
             "#f1b6da"
            ],
            [
             0.4,
             "#fde0ef"
            ],
            [
             0.5,
             "#f7f7f7"
            ],
            [
             0.6,
             "#e6f5d0"
            ],
            [
             0.7,
             "#b8e186"
            ],
            [
             0.8,
             "#7fbc41"
            ],
            [
             0.9,
             "#4d9221"
            ],
            [
             1,
             "#276419"
            ]
           ],
           "sequential": [
            [
             0,
             "#0d0887"
            ],
            [
             0.1111111111111111,
             "#46039f"
            ],
            [
             0.2222222222222222,
             "#7201a8"
            ],
            [
             0.3333333333333333,
             "#9c179e"
            ],
            [
             0.4444444444444444,
             "#bd3786"
            ],
            [
             0.5555555555555556,
             "#d8576b"
            ],
            [
             0.6666666666666666,
             "#ed7953"
            ],
            [
             0.7777777777777778,
             "#fb9f3a"
            ],
            [
             0.8888888888888888,
             "#fdca26"
            ],
            [
             1,
             "#f0f921"
            ]
           ],
           "sequentialminus": [
            [
             0,
             "#0d0887"
            ],
            [
             0.1111111111111111,
             "#46039f"
            ],
            [
             0.2222222222222222,
             "#7201a8"
            ],
            [
             0.3333333333333333,
             "#9c179e"
            ],
            [
             0.4444444444444444,
             "#bd3786"
            ],
            [
             0.5555555555555556,
             "#d8576b"
            ],
            [
             0.6666666666666666,
             "#ed7953"
            ],
            [
             0.7777777777777778,
             "#fb9f3a"
            ],
            [
             0.8888888888888888,
             "#fdca26"
            ],
            [
             1,
             "#f0f921"
            ]
           ]
          },
          "colorway": [
           "#636efa",
           "#EF553B",
           "#00cc96",
           "#ab63fa",
           "#FFA15A",
           "#19d3f3",
           "#FF6692",
           "#B6E880",
           "#FF97FF",
           "#FECB52"
          ],
          "font": {
           "color": "#2a3f5f"
          },
          "geo": {
           "bgcolor": "white",
           "lakecolor": "white",
           "landcolor": "#E5ECF6",
           "showlakes": true,
           "showland": true,
           "subunitcolor": "white"
          },
          "hoverlabel": {
           "align": "left"
          },
          "hovermode": "closest",
          "mapbox": {
           "style": "light"
          },
          "paper_bgcolor": "white",
          "plot_bgcolor": "#E5ECF6",
          "polar": {
           "angularaxis": {
            "gridcolor": "white",
            "linecolor": "white",
            "ticks": ""
           },
           "bgcolor": "#E5ECF6",
           "radialaxis": {
            "gridcolor": "white",
            "linecolor": "white",
            "ticks": ""
           }
          },
          "scene": {
           "xaxis": {
            "backgroundcolor": "#E5ECF6",
            "gridcolor": "white",
            "gridwidth": 2,
            "linecolor": "white",
            "showbackground": true,
            "ticks": "",
            "zerolinecolor": "white"
           },
           "yaxis": {
            "backgroundcolor": "#E5ECF6",
            "gridcolor": "white",
            "gridwidth": 2,
            "linecolor": "white",
            "showbackground": true,
            "ticks": "",
            "zerolinecolor": "white"
           },
           "zaxis": {
            "backgroundcolor": "#E5ECF6",
            "gridcolor": "white",
            "gridwidth": 2,
            "linecolor": "white",
            "showbackground": true,
            "ticks": "",
            "zerolinecolor": "white"
           }
          },
          "shapedefaults": {
           "line": {
            "color": "#2a3f5f"
           }
          },
          "ternary": {
           "aaxis": {
            "gridcolor": "white",
            "linecolor": "white",
            "ticks": ""
           },
           "baxis": {
            "gridcolor": "white",
            "linecolor": "white",
            "ticks": ""
           },
           "bgcolor": "#E5ECF6",
           "caxis": {
            "gridcolor": "white",
            "linecolor": "white",
            "ticks": ""
           }
          },
          "title": {
           "x": 0.05
          },
          "xaxis": {
           "automargin": true,
           "gridcolor": "white",
           "linecolor": "white",
           "ticks": "",
           "title": {
            "standoff": 15
           },
           "zerolinecolor": "white",
           "zerolinewidth": 2
          },
          "yaxis": {
           "automargin": true,
           "gridcolor": "white",
           "linecolor": "white",
           "ticks": "",
           "title": {
            "standoff": 15
           },
           "zerolinecolor": "white",
           "zerolinewidth": 2
          }
         }
        },
        "title": {
         "text": "Implied Volatility Smile for CLZ25"
        },
        "xaxis": {
         "title": {
          "text": "Strike Price"
         }
        },
        "yaxis": {
         "title": {
          "text": "Implied Volatility"
         }
        }
       }
      }
     },
     "metadata": {},
     "output_type": "display_data"
    },
    {
     "name": "stdout",
     "output_type": "stream",
     "text": [
      "CLF26 63.75\n",
      "CLF26 - Balanced Smile\n"
     ]
    },
    {
     "data": {
      "application/vnd.plotly.v1+json": {
       "config": {
        "plotlyServerURL": "https://plot.ly"
       },
       "data": [
        {
         "marker": {
          "color": "blue",
          "opacity": 0.7,
          "size": 8,
          "symbol": "circle"
         },
         "mode": "markers",
         "name": "Call Options - CLF26",
         "type": "scatter",
         "x": [
          49.5,
          51,
          51.5,
          54,
          55.5,
          56,
          56.5,
          57,
          57.5,
          58,
          58.5,
          59,
          59.5,
          60,
          60.5,
          61,
          61.5,
          62,
          62.5,
          63,
          63.5,
          64,
          64.5,
          65,
          65.5,
          66,
          66.5,
          67,
          67.5,
          68,
          68.5,
          69,
          69.5,
          70,
          70.5,
          71,
          71.5,
          72,
          72.5,
          73,
          73.5,
          74,
          74.5,
          75,
          75.5,
          76,
          76.5,
          77,
          77.5,
          78,
          78.5
         ],
         "y": [
          null,
          null,
          null,
          null,
          null,
          null,
          null,
          null,
          null,
          null,
          null,
          null,
          null,
          null,
          null,
          null,
          null,
          null,
          null,
          null,
          null,
          0.28273223577761364,
          0.28120347970787235,
          0.2802901653506739,
          0.2793892036564425,
          0.27263642358099555,
          0.2799542835196244,
          0.2813892626697491,
          0.2809405641939747,
          0.2928252537397667,
          0.27931030409739477,
          0.2788163227339522,
          0.27954295186697803,
          0.2802606066698633,
          0.2815689847698638,
          0.2820405537377547,
          0.28168560831800765,
          0.2813354516402703,
          0.28167643753526395,
          0.28201337128728854,
          0.28302550046187475,
          0.2847016913672487,
          0.2863593725464408,
          0.28849977847810454,
          0.28818866757350486,
          0.28872251149902767,
          0.2892509388870857,
          0.28977337828064353,
          0.2911188158105173,
          0.2957524417689716,
          0.2970547551701108
         ]
        },
        {
         "marker": {
          "color": "red",
          "opacity": 0.7,
          "size": 8,
          "symbol": "x"
         },
         "mode": "markers",
         "name": "Put Options - CLF26",
         "type": "scatter",
         "x": [
          48.5,
          49,
          49.5,
          50,
          50.5,
          51,
          51.5,
          52,
          52.5,
          53,
          53.5,
          54,
          54.5,
          55,
          55.5,
          56,
          56.5,
          57,
          57.5,
          58,
          58.5,
          59,
          59.5,
          60,
          60.5,
          61,
          61.5,
          62,
          62.5,
          63,
          63.5,
          64,
          64.5,
          65,
          65.5,
          66,
          66.5,
          67,
          67.5,
          68,
          68.5,
          69,
          69.5,
          70,
          70.5,
          71,
          71.5,
          72,
          72.5,
          73,
          73.5,
          74,
          74.5,
          75,
          75.5,
          76,
          76.5,
          77
         ],
         "y": [
          0.3916041675384159,
          0.38810648233540945,
          0.38582214846306295,
          0.3870302832860003,
          0.3812998169132109,
          0.3790384513808568,
          0.3777745807108198,
          0.3744923682289639,
          0.3709484989671206,
          0.3674456335600304,
          0.36485753312039315,
          0.3622841591142589,
          0.3605867105186501,
          0.35888045205228125,
          0.35879917812850637,
          0.3566929708526006,
          0.35325057368235935,
          0.3505556721279892,
          0.347886258455702,
          0.34662917715206076,
          0.34536186254295187,
          0.3440655402912673,
          0.3440603601896328,
          0.34231402121465765,
          0.3390721525699417,
          0.3371116706702864,
          0.335155107024261,
          0.3338012567279844,
          0.33304396112199436,
          0.3328334559866898,
          0.33190415896546555,
          0.3315728103732154,
          0.32995253037740424,
          0.328337957201469,
          0.3272997210170801,
          0.32680970825120126,
          0.32687330020004285,
          0.32683600029850746,
          0.32784728696360327,
          0.32734834370696,
          0.32605781954139545,
          0.32538014255118625,
          0.3252817387280753,
          0.3276007518563383,
          0.32613198651298475,
          0.3270645429159704,
          0.3284905955007071,
          0.329701566350998,
          0.3295906337694271,
          0.32965503733559864,
          0.3303991347674931,
          0.3310792681041139,
          0.33167835343945856,
          0.3336258802091553,
          0.3347895369614141,
          0.33727102208850973,
          0.3389270835811696,
          0.3411338251249111
         ]
        },
        {
         "line": {
          "color": "green",
          "dash": "dash"
         },
         "mode": "lines",
         "name": "Current Price (F) - CLF26",
         "type": "scatter",
         "x": [
          63.75,
          63.75
         ],
         "y": [
          0,
          null
         ]
        }
       ],
       "layout": {
        "annotations": [
         {
          "align": "center",
          "bgcolor": "white",
          "bordercolor": "black",
          "borderpad": 4,
          "borderwidth": 1,
          "font": {
           "color": "black",
           "size": 12
          },
          "showarrow": false,
          "text": "Balanced Smile",
          "x": 63.5,
          "y": null
         }
        ],
        "template": {
         "data": {
          "bar": [
           {
            "error_x": {
             "color": "#2a3f5f"
            },
            "error_y": {
             "color": "#2a3f5f"
            },
            "marker": {
             "line": {
              "color": "#E5ECF6",
              "width": 0.5
             },
             "pattern": {
              "fillmode": "overlay",
              "size": 10,
              "solidity": 0.2
             }
            },
            "type": "bar"
           }
          ],
          "barpolar": [
           {
            "marker": {
             "line": {
              "color": "#E5ECF6",
              "width": 0.5
             },
             "pattern": {
              "fillmode": "overlay",
              "size": 10,
              "solidity": 0.2
             }
            },
            "type": "barpolar"
           }
          ],
          "carpet": [
           {
            "aaxis": {
             "endlinecolor": "#2a3f5f",
             "gridcolor": "white",
             "linecolor": "white",
             "minorgridcolor": "white",
             "startlinecolor": "#2a3f5f"
            },
            "baxis": {
             "endlinecolor": "#2a3f5f",
             "gridcolor": "white",
             "linecolor": "white",
             "minorgridcolor": "white",
             "startlinecolor": "#2a3f5f"
            },
            "type": "carpet"
           }
          ],
          "choropleth": [
           {
            "colorbar": {
             "outlinewidth": 0,
             "ticks": ""
            },
            "type": "choropleth"
           }
          ],
          "contour": [
           {
            "colorbar": {
             "outlinewidth": 0,
             "ticks": ""
            },
            "colorscale": [
             [
              0,
              "#0d0887"
             ],
             [
              0.1111111111111111,
              "#46039f"
             ],
             [
              0.2222222222222222,
              "#7201a8"
             ],
             [
              0.3333333333333333,
              "#9c179e"
             ],
             [
              0.4444444444444444,
              "#bd3786"
             ],
             [
              0.5555555555555556,
              "#d8576b"
             ],
             [
              0.6666666666666666,
              "#ed7953"
             ],
             [
              0.7777777777777778,
              "#fb9f3a"
             ],
             [
              0.8888888888888888,
              "#fdca26"
             ],
             [
              1,
              "#f0f921"
             ]
            ],
            "type": "contour"
           }
          ],
          "contourcarpet": [
           {
            "colorbar": {
             "outlinewidth": 0,
             "ticks": ""
            },
            "type": "contourcarpet"
           }
          ],
          "heatmap": [
           {
            "colorbar": {
             "outlinewidth": 0,
             "ticks": ""
            },
            "colorscale": [
             [
              0,
              "#0d0887"
             ],
             [
              0.1111111111111111,
              "#46039f"
             ],
             [
              0.2222222222222222,
              "#7201a8"
             ],
             [
              0.3333333333333333,
              "#9c179e"
             ],
             [
              0.4444444444444444,
              "#bd3786"
             ],
             [
              0.5555555555555556,
              "#d8576b"
             ],
             [
              0.6666666666666666,
              "#ed7953"
             ],
             [
              0.7777777777777778,
              "#fb9f3a"
             ],
             [
              0.8888888888888888,
              "#fdca26"
             ],
             [
              1,
              "#f0f921"
             ]
            ],
            "type": "heatmap"
           }
          ],
          "heatmapgl": [
           {
            "colorbar": {
             "outlinewidth": 0,
             "ticks": ""
            },
            "colorscale": [
             [
              0,
              "#0d0887"
             ],
             [
              0.1111111111111111,
              "#46039f"
             ],
             [
              0.2222222222222222,
              "#7201a8"
             ],
             [
              0.3333333333333333,
              "#9c179e"
             ],
             [
              0.4444444444444444,
              "#bd3786"
             ],
             [
              0.5555555555555556,
              "#d8576b"
             ],
             [
              0.6666666666666666,
              "#ed7953"
             ],
             [
              0.7777777777777778,
              "#fb9f3a"
             ],
             [
              0.8888888888888888,
              "#fdca26"
             ],
             [
              1,
              "#f0f921"
             ]
            ],
            "type": "heatmapgl"
           }
          ],
          "histogram": [
           {
            "marker": {
             "pattern": {
              "fillmode": "overlay",
              "size": 10,
              "solidity": 0.2
             }
            },
            "type": "histogram"
           }
          ],
          "histogram2d": [
           {
            "colorbar": {
             "outlinewidth": 0,
             "ticks": ""
            },
            "colorscale": [
             [
              0,
              "#0d0887"
             ],
             [
              0.1111111111111111,
              "#46039f"
             ],
             [
              0.2222222222222222,
              "#7201a8"
             ],
             [
              0.3333333333333333,
              "#9c179e"
             ],
             [
              0.4444444444444444,
              "#bd3786"
             ],
             [
              0.5555555555555556,
              "#d8576b"
             ],
             [
              0.6666666666666666,
              "#ed7953"
             ],
             [
              0.7777777777777778,
              "#fb9f3a"
             ],
             [
              0.8888888888888888,
              "#fdca26"
             ],
             [
              1,
              "#f0f921"
             ]
            ],
            "type": "histogram2d"
           }
          ],
          "histogram2dcontour": [
           {
            "colorbar": {
             "outlinewidth": 0,
             "ticks": ""
            },
            "colorscale": [
             [
              0,
              "#0d0887"
             ],
             [
              0.1111111111111111,
              "#46039f"
             ],
             [
              0.2222222222222222,
              "#7201a8"
             ],
             [
              0.3333333333333333,
              "#9c179e"
             ],
             [
              0.4444444444444444,
              "#bd3786"
             ],
             [
              0.5555555555555556,
              "#d8576b"
             ],
             [
              0.6666666666666666,
              "#ed7953"
             ],
             [
              0.7777777777777778,
              "#fb9f3a"
             ],
             [
              0.8888888888888888,
              "#fdca26"
             ],
             [
              1,
              "#f0f921"
             ]
            ],
            "type": "histogram2dcontour"
           }
          ],
          "mesh3d": [
           {
            "colorbar": {
             "outlinewidth": 0,
             "ticks": ""
            },
            "type": "mesh3d"
           }
          ],
          "parcoords": [
           {
            "line": {
             "colorbar": {
              "outlinewidth": 0,
              "ticks": ""
             }
            },
            "type": "parcoords"
           }
          ],
          "pie": [
           {
            "automargin": true,
            "type": "pie"
           }
          ],
          "scatter": [
           {
            "fillpattern": {
             "fillmode": "overlay",
             "size": 10,
             "solidity": 0.2
            },
            "type": "scatter"
           }
          ],
          "scatter3d": [
           {
            "line": {
             "colorbar": {
              "outlinewidth": 0,
              "ticks": ""
             }
            },
            "marker": {
             "colorbar": {
              "outlinewidth": 0,
              "ticks": ""
             }
            },
            "type": "scatter3d"
           }
          ],
          "scattercarpet": [
           {
            "marker": {
             "colorbar": {
              "outlinewidth": 0,
              "ticks": ""
             }
            },
            "type": "scattercarpet"
           }
          ],
          "scattergeo": [
           {
            "marker": {
             "colorbar": {
              "outlinewidth": 0,
              "ticks": ""
             }
            },
            "type": "scattergeo"
           }
          ],
          "scattergl": [
           {
            "marker": {
             "colorbar": {
              "outlinewidth": 0,
              "ticks": ""
             }
            },
            "type": "scattergl"
           }
          ],
          "scattermapbox": [
           {
            "marker": {
             "colorbar": {
              "outlinewidth": 0,
              "ticks": ""
             }
            },
            "type": "scattermapbox"
           }
          ],
          "scatterpolar": [
           {
            "marker": {
             "colorbar": {
              "outlinewidth": 0,
              "ticks": ""
             }
            },
            "type": "scatterpolar"
           }
          ],
          "scatterpolargl": [
           {
            "marker": {
             "colorbar": {
              "outlinewidth": 0,
              "ticks": ""
             }
            },
            "type": "scatterpolargl"
           }
          ],
          "scatterternary": [
           {
            "marker": {
             "colorbar": {
              "outlinewidth": 0,
              "ticks": ""
             }
            },
            "type": "scatterternary"
           }
          ],
          "surface": [
           {
            "colorbar": {
             "outlinewidth": 0,
             "ticks": ""
            },
            "colorscale": [
             [
              0,
              "#0d0887"
             ],
             [
              0.1111111111111111,
              "#46039f"
             ],
             [
              0.2222222222222222,
              "#7201a8"
             ],
             [
              0.3333333333333333,
              "#9c179e"
             ],
             [
              0.4444444444444444,
              "#bd3786"
             ],
             [
              0.5555555555555556,
              "#d8576b"
             ],
             [
              0.6666666666666666,
              "#ed7953"
             ],
             [
              0.7777777777777778,
              "#fb9f3a"
             ],
             [
              0.8888888888888888,
              "#fdca26"
             ],
             [
              1,
              "#f0f921"
             ]
            ],
            "type": "surface"
           }
          ],
          "table": [
           {
            "cells": {
             "fill": {
              "color": "#EBF0F8"
             },
             "line": {
              "color": "white"
             }
            },
            "header": {
             "fill": {
              "color": "#C8D4E3"
             },
             "line": {
              "color": "white"
             }
            },
            "type": "table"
           }
          ]
         },
         "layout": {
          "annotationdefaults": {
           "arrowcolor": "#2a3f5f",
           "arrowhead": 0,
           "arrowwidth": 1
          },
          "autotypenumbers": "strict",
          "coloraxis": {
           "colorbar": {
            "outlinewidth": 0,
            "ticks": ""
           }
          },
          "colorscale": {
           "diverging": [
            [
             0,
             "#8e0152"
            ],
            [
             0.1,
             "#c51b7d"
            ],
            [
             0.2,
             "#de77ae"
            ],
            [
             0.3,
             "#f1b6da"
            ],
            [
             0.4,
             "#fde0ef"
            ],
            [
             0.5,
             "#f7f7f7"
            ],
            [
             0.6,
             "#e6f5d0"
            ],
            [
             0.7,
             "#b8e186"
            ],
            [
             0.8,
             "#7fbc41"
            ],
            [
             0.9,
             "#4d9221"
            ],
            [
             1,
             "#276419"
            ]
           ],
           "sequential": [
            [
             0,
             "#0d0887"
            ],
            [
             0.1111111111111111,
             "#46039f"
            ],
            [
             0.2222222222222222,
             "#7201a8"
            ],
            [
             0.3333333333333333,
             "#9c179e"
            ],
            [
             0.4444444444444444,
             "#bd3786"
            ],
            [
             0.5555555555555556,
             "#d8576b"
            ],
            [
             0.6666666666666666,
             "#ed7953"
            ],
            [
             0.7777777777777778,
             "#fb9f3a"
            ],
            [
             0.8888888888888888,
             "#fdca26"
            ],
            [
             1,
             "#f0f921"
            ]
           ],
           "sequentialminus": [
            [
             0,
             "#0d0887"
            ],
            [
             0.1111111111111111,
             "#46039f"
            ],
            [
             0.2222222222222222,
             "#7201a8"
            ],
            [
             0.3333333333333333,
             "#9c179e"
            ],
            [
             0.4444444444444444,
             "#bd3786"
            ],
            [
             0.5555555555555556,
             "#d8576b"
            ],
            [
             0.6666666666666666,
             "#ed7953"
            ],
            [
             0.7777777777777778,
             "#fb9f3a"
            ],
            [
             0.8888888888888888,
             "#fdca26"
            ],
            [
             1,
             "#f0f921"
            ]
           ]
          },
          "colorway": [
           "#636efa",
           "#EF553B",
           "#00cc96",
           "#ab63fa",
           "#FFA15A",
           "#19d3f3",
           "#FF6692",
           "#B6E880",
           "#FF97FF",
           "#FECB52"
          ],
          "font": {
           "color": "#2a3f5f"
          },
          "geo": {
           "bgcolor": "white",
           "lakecolor": "white",
           "landcolor": "#E5ECF6",
           "showlakes": true,
           "showland": true,
           "subunitcolor": "white"
          },
          "hoverlabel": {
           "align": "left"
          },
          "hovermode": "closest",
          "mapbox": {
           "style": "light"
          },
          "paper_bgcolor": "white",
          "plot_bgcolor": "#E5ECF6",
          "polar": {
           "angularaxis": {
            "gridcolor": "white",
            "linecolor": "white",
            "ticks": ""
           },
           "bgcolor": "#E5ECF6",
           "radialaxis": {
            "gridcolor": "white",
            "linecolor": "white",
            "ticks": ""
           }
          },
          "scene": {
           "xaxis": {
            "backgroundcolor": "#E5ECF6",
            "gridcolor": "white",
            "gridwidth": 2,
            "linecolor": "white",
            "showbackground": true,
            "ticks": "",
            "zerolinecolor": "white"
           },
           "yaxis": {
            "backgroundcolor": "#E5ECF6",
            "gridcolor": "white",
            "gridwidth": 2,
            "linecolor": "white",
            "showbackground": true,
            "ticks": "",
            "zerolinecolor": "white"
           },
           "zaxis": {
            "backgroundcolor": "#E5ECF6",
            "gridcolor": "white",
            "gridwidth": 2,
            "linecolor": "white",
            "showbackground": true,
            "ticks": "",
            "zerolinecolor": "white"
           }
          },
          "shapedefaults": {
           "line": {
            "color": "#2a3f5f"
           }
          },
          "ternary": {
           "aaxis": {
            "gridcolor": "white",
            "linecolor": "white",
            "ticks": ""
           },
           "baxis": {
            "gridcolor": "white",
            "linecolor": "white",
            "ticks": ""
           },
           "bgcolor": "#E5ECF6",
           "caxis": {
            "gridcolor": "white",
            "linecolor": "white",
            "ticks": ""
           }
          },
          "title": {
           "x": 0.05
          },
          "xaxis": {
           "automargin": true,
           "gridcolor": "white",
           "linecolor": "white",
           "ticks": "",
           "title": {
            "standoff": 15
           },
           "zerolinecolor": "white",
           "zerolinewidth": 2
          },
          "yaxis": {
           "automargin": true,
           "gridcolor": "white",
           "linecolor": "white",
           "ticks": "",
           "title": {
            "standoff": 15
           },
           "zerolinecolor": "white",
           "zerolinewidth": 2
          }
         }
        },
        "title": {
         "text": "Implied Volatility Smile for CLF26"
        },
        "xaxis": {
         "title": {
          "text": "Strike Price"
         }
        },
        "yaxis": {
         "title": {
          "text": "Implied Volatility"
         }
        }
       }
      }
     },
     "metadata": {},
     "output_type": "display_data"
    },
    {
     "name": "stdout",
     "output_type": "stream",
     "text": [
      "CLG26 63.5\n",
      "CLG26 - Balanced Smile\n"
     ]
    },
    {
     "data": {
      "application/vnd.plotly.v1+json": {
       "config": {
        "plotlyServerURL": "https://plot.ly"
       },
       "data": [
        {
         "marker": {
          "color": "blue",
          "opacity": 0.7,
          "size": 8,
          "symbol": "circle"
         },
         "mode": "markers",
         "name": "Call Options - CLG26",
         "type": "scatter",
         "x": [
          49.5,
          50,
          51,
          52.5,
          53.5,
          54.5,
          55,
          55.5,
          56,
          56.5,
          57,
          57.5,
          58,
          58.5,
          59,
          59.5,
          60,
          60.5,
          61,
          61.5,
          62,
          62.5,
          63,
          63.5,
          64,
          64.5,
          65,
          65.5,
          66,
          66.5,
          67,
          67.5,
          68,
          68.5,
          69,
          69.5,
          70,
          70.5,
          71,
          71.5,
          72,
          72.5,
          73,
          74,
          74.5,
          75,
          75.5,
          76,
          76.5,
          77,
          77.5,
          78,
          78.5
         ],
         "y": [
          null,
          null,
          null,
          null,
          null,
          null,
          null,
          null,
          null,
          null,
          null,
          null,
          null,
          null,
          null,
          null,
          null,
          null,
          null,
          null,
          null,
          null,
          null,
          null,
          0.27268782529976826,
          0.2712969151783024,
          0.270474190393959,
          0.27020720806979653,
          0.2699439212479534,
          0.27075822716424186,
          0.2715615772366908,
          0.27061831522331375,
          0.2696038849525692,
          0.26916929601316186,
          0.2687402170698171,
          0.2688758081278179,
          0.26956453021292237,
          0.2707957930335939,
          0.2716216810025591,
          0.2706840471983301,
          0.27039374979133074,
          0.2707384158998126,
          0.27107883824215295,
          0.27298766190030116,
          0.2745422713194262,
          0.27607934060744393,
          0.276774007596062,
          0.27652230026612534,
          0.2770413135153253,
          0.2775544649739579,
          0.27882160773485626,
          0.2800752361328106,
          0.2813156503273557
         ]
        },
        {
         "marker": {
          "color": "red",
          "opacity": 0.7,
          "size": 8,
          "symbol": "x"
         },
         "mode": "markers",
         "name": "Put Options - CLG26",
         "type": "scatter",
         "x": [
          48.5,
          49,
          49.5,
          50,
          50.5,
          51,
          51.5,
          52,
          52.5,
          53,
          53.5,
          54,
          55,
          55.5,
          56,
          56.5,
          57,
          57.5,
          58,
          58.5,
          59,
          59.5,
          60,
          60.5,
          61,
          61.5,
          62,
          62.5,
          63,
          63.5,
          64,
          64.5,
          65,
          65.5,
          66,
          66.5,
          67,
          67.5,
          68,
          68.5,
          69,
          69.5,
          70,
          70.5,
          71,
          72,
          72.5,
          73,
          74.5,
          76,
          76.5
         ],
         "y": [
          0.382007554428625,
          0.37982379094165736,
          0.3776579608561104,
          0.3765407624256297,
          0.37510679550959686,
          0.3708738303789523,
          0.3675147748074394,
          0.3650219367833806,
          0.36255344916991544,
          0.36009838704569963,
          0.3584683105935316,
          0.3568309647291108,
          0.35449177590391334,
          0.3512384071103227,
          0.3486888818247994,
          0.34616283666739583,
          0.3436510990426291,
          0.34244940939118046,
          0.3405999298416969,
          0.33999216734860943,
          0.33930428496770926,
          0.3375692241946411,
          0.3345512136430247,
          0.33213921857680595,
          0.3303135984044027,
          0.32904346436580134,
          0.3277675639504336,
          0.3275748036791735,
          0.32730119977774275,
          0.32665922570322625,
          0.32460553976638185,
          0.32256031531797785,
          0.3216090816854738,
          0.320625113742769,
          0.3196095501112697,
          0.3196409693702891,
          0.32011529544949385,
          0.32045639109464796,
          0.31990159374929816,
          0.3187206281181814,
          0.3180898220110515,
          0.3174201350513372,
          0.3172600798955195,
          0.3176270060004449,
          0.3184795349742765,
          0.320397735730062,
          0.32125072852373693,
          0.3213297588001525,
          0.3225606985437574,
          0.3257918018619576,
          0.3280020420719615
         ]
        },
        {
         "line": {
          "color": "green",
          "dash": "dash"
         },
         "mode": "lines",
         "name": "Current Price (F) - CLG26",
         "type": "scatter",
         "x": [
          63.5,
          63.5
         ],
         "y": [
          0,
          null
         ]
        }
       ],
       "layout": {
        "annotations": [
         {
          "align": "center",
          "bgcolor": "white",
          "bordercolor": "black",
          "borderpad": 4,
          "borderwidth": 1,
          "font": {
           "color": "black",
           "size": 12
          },
          "showarrow": false,
          "text": "Balanced Smile",
          "x": 63.5,
          "y": null
         }
        ],
        "template": {
         "data": {
          "bar": [
           {
            "error_x": {
             "color": "#2a3f5f"
            },
            "error_y": {
             "color": "#2a3f5f"
            },
            "marker": {
             "line": {
              "color": "#E5ECF6",
              "width": 0.5
             },
             "pattern": {
              "fillmode": "overlay",
              "size": 10,
              "solidity": 0.2
             }
            },
            "type": "bar"
           }
          ],
          "barpolar": [
           {
            "marker": {
             "line": {
              "color": "#E5ECF6",
              "width": 0.5
             },
             "pattern": {
              "fillmode": "overlay",
              "size": 10,
              "solidity": 0.2
             }
            },
            "type": "barpolar"
           }
          ],
          "carpet": [
           {
            "aaxis": {
             "endlinecolor": "#2a3f5f",
             "gridcolor": "white",
             "linecolor": "white",
             "minorgridcolor": "white",
             "startlinecolor": "#2a3f5f"
            },
            "baxis": {
             "endlinecolor": "#2a3f5f",
             "gridcolor": "white",
             "linecolor": "white",
             "minorgridcolor": "white",
             "startlinecolor": "#2a3f5f"
            },
            "type": "carpet"
           }
          ],
          "choropleth": [
           {
            "colorbar": {
             "outlinewidth": 0,
             "ticks": ""
            },
            "type": "choropleth"
           }
          ],
          "contour": [
           {
            "colorbar": {
             "outlinewidth": 0,
             "ticks": ""
            },
            "colorscale": [
             [
              0,
              "#0d0887"
             ],
             [
              0.1111111111111111,
              "#46039f"
             ],
             [
              0.2222222222222222,
              "#7201a8"
             ],
             [
              0.3333333333333333,
              "#9c179e"
             ],
             [
              0.4444444444444444,
              "#bd3786"
             ],
             [
              0.5555555555555556,
              "#d8576b"
             ],
             [
              0.6666666666666666,
              "#ed7953"
             ],
             [
              0.7777777777777778,
              "#fb9f3a"
             ],
             [
              0.8888888888888888,
              "#fdca26"
             ],
             [
              1,
              "#f0f921"
             ]
            ],
            "type": "contour"
           }
          ],
          "contourcarpet": [
           {
            "colorbar": {
             "outlinewidth": 0,
             "ticks": ""
            },
            "type": "contourcarpet"
           }
          ],
          "heatmap": [
           {
            "colorbar": {
             "outlinewidth": 0,
             "ticks": ""
            },
            "colorscale": [
             [
              0,
              "#0d0887"
             ],
             [
              0.1111111111111111,
              "#46039f"
             ],
             [
              0.2222222222222222,
              "#7201a8"
             ],
             [
              0.3333333333333333,
              "#9c179e"
             ],
             [
              0.4444444444444444,
              "#bd3786"
             ],
             [
              0.5555555555555556,
              "#d8576b"
             ],
             [
              0.6666666666666666,
              "#ed7953"
             ],
             [
              0.7777777777777778,
              "#fb9f3a"
             ],
             [
              0.8888888888888888,
              "#fdca26"
             ],
             [
              1,
              "#f0f921"
             ]
            ],
            "type": "heatmap"
           }
          ],
          "heatmapgl": [
           {
            "colorbar": {
             "outlinewidth": 0,
             "ticks": ""
            },
            "colorscale": [
             [
              0,
              "#0d0887"
             ],
             [
              0.1111111111111111,
              "#46039f"
             ],
             [
              0.2222222222222222,
              "#7201a8"
             ],
             [
              0.3333333333333333,
              "#9c179e"
             ],
             [
              0.4444444444444444,
              "#bd3786"
             ],
             [
              0.5555555555555556,
              "#d8576b"
             ],
             [
              0.6666666666666666,
              "#ed7953"
             ],
             [
              0.7777777777777778,
              "#fb9f3a"
             ],
             [
              0.8888888888888888,
              "#fdca26"
             ],
             [
              1,
              "#f0f921"
             ]
            ],
            "type": "heatmapgl"
           }
          ],
          "histogram": [
           {
            "marker": {
             "pattern": {
              "fillmode": "overlay",
              "size": 10,
              "solidity": 0.2
             }
            },
            "type": "histogram"
           }
          ],
          "histogram2d": [
           {
            "colorbar": {
             "outlinewidth": 0,
             "ticks": ""
            },
            "colorscale": [
             [
              0,
              "#0d0887"
             ],
             [
              0.1111111111111111,
              "#46039f"
             ],
             [
              0.2222222222222222,
              "#7201a8"
             ],
             [
              0.3333333333333333,
              "#9c179e"
             ],
             [
              0.4444444444444444,
              "#bd3786"
             ],
             [
              0.5555555555555556,
              "#d8576b"
             ],
             [
              0.6666666666666666,
              "#ed7953"
             ],
             [
              0.7777777777777778,
              "#fb9f3a"
             ],
             [
              0.8888888888888888,
              "#fdca26"
             ],
             [
              1,
              "#f0f921"
             ]
            ],
            "type": "histogram2d"
           }
          ],
          "histogram2dcontour": [
           {
            "colorbar": {
             "outlinewidth": 0,
             "ticks": ""
            },
            "colorscale": [
             [
              0,
              "#0d0887"
             ],
             [
              0.1111111111111111,
              "#46039f"
             ],
             [
              0.2222222222222222,
              "#7201a8"
             ],
             [
              0.3333333333333333,
              "#9c179e"
             ],
             [
              0.4444444444444444,
              "#bd3786"
             ],
             [
              0.5555555555555556,
              "#d8576b"
             ],
             [
              0.6666666666666666,
              "#ed7953"
             ],
             [
              0.7777777777777778,
              "#fb9f3a"
             ],
             [
              0.8888888888888888,
              "#fdca26"
             ],
             [
              1,
              "#f0f921"
             ]
            ],
            "type": "histogram2dcontour"
           }
          ],
          "mesh3d": [
           {
            "colorbar": {
             "outlinewidth": 0,
             "ticks": ""
            },
            "type": "mesh3d"
           }
          ],
          "parcoords": [
           {
            "line": {
             "colorbar": {
              "outlinewidth": 0,
              "ticks": ""
             }
            },
            "type": "parcoords"
           }
          ],
          "pie": [
           {
            "automargin": true,
            "type": "pie"
           }
          ],
          "scatter": [
           {
            "fillpattern": {
             "fillmode": "overlay",
             "size": 10,
             "solidity": 0.2
            },
            "type": "scatter"
           }
          ],
          "scatter3d": [
           {
            "line": {
             "colorbar": {
              "outlinewidth": 0,
              "ticks": ""
             }
            },
            "marker": {
             "colorbar": {
              "outlinewidth": 0,
              "ticks": ""
             }
            },
            "type": "scatter3d"
           }
          ],
          "scattercarpet": [
           {
            "marker": {
             "colorbar": {
              "outlinewidth": 0,
              "ticks": ""
             }
            },
            "type": "scattercarpet"
           }
          ],
          "scattergeo": [
           {
            "marker": {
             "colorbar": {
              "outlinewidth": 0,
              "ticks": ""
             }
            },
            "type": "scattergeo"
           }
          ],
          "scattergl": [
           {
            "marker": {
             "colorbar": {
              "outlinewidth": 0,
              "ticks": ""
             }
            },
            "type": "scattergl"
           }
          ],
          "scattermapbox": [
           {
            "marker": {
             "colorbar": {
              "outlinewidth": 0,
              "ticks": ""
             }
            },
            "type": "scattermapbox"
           }
          ],
          "scatterpolar": [
           {
            "marker": {
             "colorbar": {
              "outlinewidth": 0,
              "ticks": ""
             }
            },
            "type": "scatterpolar"
           }
          ],
          "scatterpolargl": [
           {
            "marker": {
             "colorbar": {
              "outlinewidth": 0,
              "ticks": ""
             }
            },
            "type": "scatterpolargl"
           }
          ],
          "scatterternary": [
           {
            "marker": {
             "colorbar": {
              "outlinewidth": 0,
              "ticks": ""
             }
            },
            "type": "scatterternary"
           }
          ],
          "surface": [
           {
            "colorbar": {
             "outlinewidth": 0,
             "ticks": ""
            },
            "colorscale": [
             [
              0,
              "#0d0887"
             ],
             [
              0.1111111111111111,
              "#46039f"
             ],
             [
              0.2222222222222222,
              "#7201a8"
             ],
             [
              0.3333333333333333,
              "#9c179e"
             ],
             [
              0.4444444444444444,
              "#bd3786"
             ],
             [
              0.5555555555555556,
              "#d8576b"
             ],
             [
              0.6666666666666666,
              "#ed7953"
             ],
             [
              0.7777777777777778,
              "#fb9f3a"
             ],
             [
              0.8888888888888888,
              "#fdca26"
             ],
             [
              1,
              "#f0f921"
             ]
            ],
            "type": "surface"
           }
          ],
          "table": [
           {
            "cells": {
             "fill": {
              "color": "#EBF0F8"
             },
             "line": {
              "color": "white"
             }
            },
            "header": {
             "fill": {
              "color": "#C8D4E3"
             },
             "line": {
              "color": "white"
             }
            },
            "type": "table"
           }
          ]
         },
         "layout": {
          "annotationdefaults": {
           "arrowcolor": "#2a3f5f",
           "arrowhead": 0,
           "arrowwidth": 1
          },
          "autotypenumbers": "strict",
          "coloraxis": {
           "colorbar": {
            "outlinewidth": 0,
            "ticks": ""
           }
          },
          "colorscale": {
           "diverging": [
            [
             0,
             "#8e0152"
            ],
            [
             0.1,
             "#c51b7d"
            ],
            [
             0.2,
             "#de77ae"
            ],
            [
             0.3,
             "#f1b6da"
            ],
            [
             0.4,
             "#fde0ef"
            ],
            [
             0.5,
             "#f7f7f7"
            ],
            [
             0.6,
             "#e6f5d0"
            ],
            [
             0.7,
             "#b8e186"
            ],
            [
             0.8,
             "#7fbc41"
            ],
            [
             0.9,
             "#4d9221"
            ],
            [
             1,
             "#276419"
            ]
           ],
           "sequential": [
            [
             0,
             "#0d0887"
            ],
            [
             0.1111111111111111,
             "#46039f"
            ],
            [
             0.2222222222222222,
             "#7201a8"
            ],
            [
             0.3333333333333333,
             "#9c179e"
            ],
            [
             0.4444444444444444,
             "#bd3786"
            ],
            [
             0.5555555555555556,
             "#d8576b"
            ],
            [
             0.6666666666666666,
             "#ed7953"
            ],
            [
             0.7777777777777778,
             "#fb9f3a"
            ],
            [
             0.8888888888888888,
             "#fdca26"
            ],
            [
             1,
             "#f0f921"
            ]
           ],
           "sequentialminus": [
            [
             0,
             "#0d0887"
            ],
            [
             0.1111111111111111,
             "#46039f"
            ],
            [
             0.2222222222222222,
             "#7201a8"
            ],
            [
             0.3333333333333333,
             "#9c179e"
            ],
            [
             0.4444444444444444,
             "#bd3786"
            ],
            [
             0.5555555555555556,
             "#d8576b"
            ],
            [
             0.6666666666666666,
             "#ed7953"
            ],
            [
             0.7777777777777778,
             "#fb9f3a"
            ],
            [
             0.8888888888888888,
             "#fdca26"
            ],
            [
             1,
             "#f0f921"
            ]
           ]
          },
          "colorway": [
           "#636efa",
           "#EF553B",
           "#00cc96",
           "#ab63fa",
           "#FFA15A",
           "#19d3f3",
           "#FF6692",
           "#B6E880",
           "#FF97FF",
           "#FECB52"
          ],
          "font": {
           "color": "#2a3f5f"
          },
          "geo": {
           "bgcolor": "white",
           "lakecolor": "white",
           "landcolor": "#E5ECF6",
           "showlakes": true,
           "showland": true,
           "subunitcolor": "white"
          },
          "hoverlabel": {
           "align": "left"
          },
          "hovermode": "closest",
          "mapbox": {
           "style": "light"
          },
          "paper_bgcolor": "white",
          "plot_bgcolor": "#E5ECF6",
          "polar": {
           "angularaxis": {
            "gridcolor": "white",
            "linecolor": "white",
            "ticks": ""
           },
           "bgcolor": "#E5ECF6",
           "radialaxis": {
            "gridcolor": "white",
            "linecolor": "white",
            "ticks": ""
           }
          },
          "scene": {
           "xaxis": {
            "backgroundcolor": "#E5ECF6",
            "gridcolor": "white",
            "gridwidth": 2,
            "linecolor": "white",
            "showbackground": true,
            "ticks": "",
            "zerolinecolor": "white"
           },
           "yaxis": {
            "backgroundcolor": "#E5ECF6",
            "gridcolor": "white",
            "gridwidth": 2,
            "linecolor": "white",
            "showbackground": true,
            "ticks": "",
            "zerolinecolor": "white"
           },
           "zaxis": {
            "backgroundcolor": "#E5ECF6",
            "gridcolor": "white",
            "gridwidth": 2,
            "linecolor": "white",
            "showbackground": true,
            "ticks": "",
            "zerolinecolor": "white"
           }
          },
          "shapedefaults": {
           "line": {
            "color": "#2a3f5f"
           }
          },
          "ternary": {
           "aaxis": {
            "gridcolor": "white",
            "linecolor": "white",
            "ticks": ""
           },
           "baxis": {
            "gridcolor": "white",
            "linecolor": "white",
            "ticks": ""
           },
           "bgcolor": "#E5ECF6",
           "caxis": {
            "gridcolor": "white",
            "linecolor": "white",
            "ticks": ""
           }
          },
          "title": {
           "x": 0.05
          },
          "xaxis": {
           "automargin": true,
           "gridcolor": "white",
           "linecolor": "white",
           "ticks": "",
           "title": {
            "standoff": 15
           },
           "zerolinecolor": "white",
           "zerolinewidth": 2
          },
          "yaxis": {
           "automargin": true,
           "gridcolor": "white",
           "linecolor": "white",
           "ticks": "",
           "title": {
            "standoff": 15
           },
           "zerolinecolor": "white",
           "zerolinewidth": 2
          }
         }
        },
        "title": {
         "text": "Implied Volatility Smile for CLG26"
        },
        "xaxis": {
         "title": {
          "text": "Strike Price"
         }
        },
        "yaxis": {
         "title": {
          "text": "Implied Volatility"
         }
        }
       }
      }
     },
     "metadata": {},
     "output_type": "display_data"
    },
    {
     "name": "stdout",
     "output_type": "stream",
     "text": [
      "CLH26 63.33\n",
      "CLH26 - Left Skew (Put IV > Call IV)\n"
     ]
    },
    {
     "data": {
      "application/vnd.plotly.v1+json": {
       "config": {
        "plotlyServerURL": "https://plot.ly"
       },
       "data": [
        {
         "marker": {
          "color": "blue",
          "opacity": 0.7,
          "size": 8,
          "symbol": "circle"
         },
         "mode": "markers",
         "name": "Call Options - CLH26",
         "type": "scatter",
         "x": [
          50,
          51,
          55,
          56,
          56.5,
          57,
          57.5,
          58,
          58.5,
          59,
          59.5,
          60,
          60.5,
          61,
          61.5,
          62,
          62.5,
          63,
          63.5,
          64,
          64.5,
          65,
          65.5,
          66,
          66.5,
          67,
          67.5,
          68,
          68.5,
          69,
          69.5,
          70,
          70.5,
          71,
          71.5,
          72,
          72.5,
          73,
          73.5,
          74,
          74.5,
          75,
          75.5,
          76,
          76.5,
          77,
          77.5,
          78,
          78.5
         ],
         "y": [
          null,
          null,
          null,
          null,
          null,
          null,
          null,
          null,
          null,
          null,
          null,
          null,
          null,
          null,
          null,
          null,
          null,
          null,
          0.2653751970571921,
          0.26408759162285844,
          0.2628183127695291,
          0.2620734987872931,
          0.26184154482783145,
          0.26161289447098207,
          0.2618826372392528,
          0.26264052624716416,
          0.2618344378560916,
          0.2609211447980125,
          0.26002060660211196,
          0.25965049945757407,
          0.2597996458036843,
          0.2604577387443975,
          0.2611073514323898,
          0.26225277976519507,
          0.2614691181833033,
          0.26122870721145286,
          0.2609915391109126,
          0.26075740035857664,
          0.26109932011648873,
          0.2620068121481404,
          0.2629029035481392,
          0.26435173255664174,
          0.2657838567390176,
          0.2657940091055525,
          0.2655986569300813,
          0.26610623712905873,
          0.26660747341059626,
          0.2677959795315003,
          0.26828220211748927
         ]
        },
        {
         "marker": {
          "color": "red",
          "opacity": 0.7,
          "size": 8,
          "symbol": "x"
         },
         "mode": "markers",
         "name": "Put Options - CLH26",
         "type": "scatter",
         "x": [
          48.5,
          49,
          49.5,
          50,
          50.5,
          51,
          51.5,
          52,
          52.5,
          53,
          53.5,
          54,
          54.5,
          55,
          55.5,
          56,
          56.5,
          57,
          57.5,
          58,
          58.5,
          59,
          59.5,
          60,
          60.5,
          61,
          61.5,
          62,
          62.5,
          63,
          63.5,
          64,
          64.5,
          65,
          65.5,
          66,
          66.5,
          67,
          67.5,
          68,
          68.5,
          69,
          69.5,
          70,
          70.5,
          71,
          71.5,
          72.5,
          73,
          73.5,
          74,
          76,
          76.5,
          77.5
         ],
         "y": [
          0.3753031758309729,
          0.3741783443104974,
          0.3724744810661105,
          0.36845493682170316,
          0.3652649077006522,
          0.3628838099945335,
          0.35976172703129317,
          0.358181388714517,
          0.3558605546483342,
          0.3550431898955348,
          0.3534463605564543,
          0.35248455845607735,
          0.3503021004112064,
          0.35224416556133864,
          0.34486316504302267,
          0.34248902822061367,
          0.34072766297649126,
          0.33897854428831437,
          0.33782235859728893,
          0.3366207464834743,
          0.33593599114500605,
          0.3339069518769235,
          0.33163758593890863,
          0.32883710170224256,
          0.32712871899630425,
          0.3254041976134575,
          0.32421389442765847,
          0.32298532781560585,
          0.32222645989146986,
          0.32189251468381175,
          0.32087929400605364,
          0.3189854581037806,
          0.31708570486889964,
          0.3156842382764232,
          0.31476242784010167,
          0.3138168949794356,
          0.31381816711160126,
          0.3137382164737804,
          0.3140413909631893,
          0.31396851228531614,
          0.31235120777873926,
          0.31123987229839245,
          0.31062573723574244,
          0.3104874710102793,
          0.3103080241029704,
          0.31058007407001753,
          0.3112780432869218,
          0.31336297235182137,
          0.3136537956107509,
          0.3130933861521556,
          0.3130845325576898,
          0.3160953681439429,
          0.316951309146392,
          0.32021655424575995
         ]
        },
        {
         "line": {
          "color": "green",
          "dash": "dash"
         },
         "mode": "lines",
         "name": "Current Price (F) - CLH26",
         "type": "scatter",
         "x": [
          63.33,
          63.33
         ],
         "y": [
          0,
          null
         ]
        }
       ],
       "layout": {
        "annotations": [
         {
          "align": "center",
          "bgcolor": "white",
          "bordercolor": "black",
          "borderpad": 4,
          "borderwidth": 1,
          "font": {
           "color": "black",
           "size": 12
          },
          "showarrow": false,
          "text": "Left Skew (Put IV > Call IV)",
          "x": 63.5,
          "y": null
         }
        ],
        "template": {
         "data": {
          "bar": [
           {
            "error_x": {
             "color": "#2a3f5f"
            },
            "error_y": {
             "color": "#2a3f5f"
            },
            "marker": {
             "line": {
              "color": "#E5ECF6",
              "width": 0.5
             },
             "pattern": {
              "fillmode": "overlay",
              "size": 10,
              "solidity": 0.2
             }
            },
            "type": "bar"
           }
          ],
          "barpolar": [
           {
            "marker": {
             "line": {
              "color": "#E5ECF6",
              "width": 0.5
             },
             "pattern": {
              "fillmode": "overlay",
              "size": 10,
              "solidity": 0.2
             }
            },
            "type": "barpolar"
           }
          ],
          "carpet": [
           {
            "aaxis": {
             "endlinecolor": "#2a3f5f",
             "gridcolor": "white",
             "linecolor": "white",
             "minorgridcolor": "white",
             "startlinecolor": "#2a3f5f"
            },
            "baxis": {
             "endlinecolor": "#2a3f5f",
             "gridcolor": "white",
             "linecolor": "white",
             "minorgridcolor": "white",
             "startlinecolor": "#2a3f5f"
            },
            "type": "carpet"
           }
          ],
          "choropleth": [
           {
            "colorbar": {
             "outlinewidth": 0,
             "ticks": ""
            },
            "type": "choropleth"
           }
          ],
          "contour": [
           {
            "colorbar": {
             "outlinewidth": 0,
             "ticks": ""
            },
            "colorscale": [
             [
              0,
              "#0d0887"
             ],
             [
              0.1111111111111111,
              "#46039f"
             ],
             [
              0.2222222222222222,
              "#7201a8"
             ],
             [
              0.3333333333333333,
              "#9c179e"
             ],
             [
              0.4444444444444444,
              "#bd3786"
             ],
             [
              0.5555555555555556,
              "#d8576b"
             ],
             [
              0.6666666666666666,
              "#ed7953"
             ],
             [
              0.7777777777777778,
              "#fb9f3a"
             ],
             [
              0.8888888888888888,
              "#fdca26"
             ],
             [
              1,
              "#f0f921"
             ]
            ],
            "type": "contour"
           }
          ],
          "contourcarpet": [
           {
            "colorbar": {
             "outlinewidth": 0,
             "ticks": ""
            },
            "type": "contourcarpet"
           }
          ],
          "heatmap": [
           {
            "colorbar": {
             "outlinewidth": 0,
             "ticks": ""
            },
            "colorscale": [
             [
              0,
              "#0d0887"
             ],
             [
              0.1111111111111111,
              "#46039f"
             ],
             [
              0.2222222222222222,
              "#7201a8"
             ],
             [
              0.3333333333333333,
              "#9c179e"
             ],
             [
              0.4444444444444444,
              "#bd3786"
             ],
             [
              0.5555555555555556,
              "#d8576b"
             ],
             [
              0.6666666666666666,
              "#ed7953"
             ],
             [
              0.7777777777777778,
              "#fb9f3a"
             ],
             [
              0.8888888888888888,
              "#fdca26"
             ],
             [
              1,
              "#f0f921"
             ]
            ],
            "type": "heatmap"
           }
          ],
          "heatmapgl": [
           {
            "colorbar": {
             "outlinewidth": 0,
             "ticks": ""
            },
            "colorscale": [
             [
              0,
              "#0d0887"
             ],
             [
              0.1111111111111111,
              "#46039f"
             ],
             [
              0.2222222222222222,
              "#7201a8"
             ],
             [
              0.3333333333333333,
              "#9c179e"
             ],
             [
              0.4444444444444444,
              "#bd3786"
             ],
             [
              0.5555555555555556,
              "#d8576b"
             ],
             [
              0.6666666666666666,
              "#ed7953"
             ],
             [
              0.7777777777777778,
              "#fb9f3a"
             ],
             [
              0.8888888888888888,
              "#fdca26"
             ],
             [
              1,
              "#f0f921"
             ]
            ],
            "type": "heatmapgl"
           }
          ],
          "histogram": [
           {
            "marker": {
             "pattern": {
              "fillmode": "overlay",
              "size": 10,
              "solidity": 0.2
             }
            },
            "type": "histogram"
           }
          ],
          "histogram2d": [
           {
            "colorbar": {
             "outlinewidth": 0,
             "ticks": ""
            },
            "colorscale": [
             [
              0,
              "#0d0887"
             ],
             [
              0.1111111111111111,
              "#46039f"
             ],
             [
              0.2222222222222222,
              "#7201a8"
             ],
             [
              0.3333333333333333,
              "#9c179e"
             ],
             [
              0.4444444444444444,
              "#bd3786"
             ],
             [
              0.5555555555555556,
              "#d8576b"
             ],
             [
              0.6666666666666666,
              "#ed7953"
             ],
             [
              0.7777777777777778,
              "#fb9f3a"
             ],
             [
              0.8888888888888888,
              "#fdca26"
             ],
             [
              1,
              "#f0f921"
             ]
            ],
            "type": "histogram2d"
           }
          ],
          "histogram2dcontour": [
           {
            "colorbar": {
             "outlinewidth": 0,
             "ticks": ""
            },
            "colorscale": [
             [
              0,
              "#0d0887"
             ],
             [
              0.1111111111111111,
              "#46039f"
             ],
             [
              0.2222222222222222,
              "#7201a8"
             ],
             [
              0.3333333333333333,
              "#9c179e"
             ],
             [
              0.4444444444444444,
              "#bd3786"
             ],
             [
              0.5555555555555556,
              "#d8576b"
             ],
             [
              0.6666666666666666,
              "#ed7953"
             ],
             [
              0.7777777777777778,
              "#fb9f3a"
             ],
             [
              0.8888888888888888,
              "#fdca26"
             ],
             [
              1,
              "#f0f921"
             ]
            ],
            "type": "histogram2dcontour"
           }
          ],
          "mesh3d": [
           {
            "colorbar": {
             "outlinewidth": 0,
             "ticks": ""
            },
            "type": "mesh3d"
           }
          ],
          "parcoords": [
           {
            "line": {
             "colorbar": {
              "outlinewidth": 0,
              "ticks": ""
             }
            },
            "type": "parcoords"
           }
          ],
          "pie": [
           {
            "automargin": true,
            "type": "pie"
           }
          ],
          "scatter": [
           {
            "fillpattern": {
             "fillmode": "overlay",
             "size": 10,
             "solidity": 0.2
            },
            "type": "scatter"
           }
          ],
          "scatter3d": [
           {
            "line": {
             "colorbar": {
              "outlinewidth": 0,
              "ticks": ""
             }
            },
            "marker": {
             "colorbar": {
              "outlinewidth": 0,
              "ticks": ""
             }
            },
            "type": "scatter3d"
           }
          ],
          "scattercarpet": [
           {
            "marker": {
             "colorbar": {
              "outlinewidth": 0,
              "ticks": ""
             }
            },
            "type": "scattercarpet"
           }
          ],
          "scattergeo": [
           {
            "marker": {
             "colorbar": {
              "outlinewidth": 0,
              "ticks": ""
             }
            },
            "type": "scattergeo"
           }
          ],
          "scattergl": [
           {
            "marker": {
             "colorbar": {
              "outlinewidth": 0,
              "ticks": ""
             }
            },
            "type": "scattergl"
           }
          ],
          "scattermapbox": [
           {
            "marker": {
             "colorbar": {
              "outlinewidth": 0,
              "ticks": ""
             }
            },
            "type": "scattermapbox"
           }
          ],
          "scatterpolar": [
           {
            "marker": {
             "colorbar": {
              "outlinewidth": 0,
              "ticks": ""
             }
            },
            "type": "scatterpolar"
           }
          ],
          "scatterpolargl": [
           {
            "marker": {
             "colorbar": {
              "outlinewidth": 0,
              "ticks": ""
             }
            },
            "type": "scatterpolargl"
           }
          ],
          "scatterternary": [
           {
            "marker": {
             "colorbar": {
              "outlinewidth": 0,
              "ticks": ""
             }
            },
            "type": "scatterternary"
           }
          ],
          "surface": [
           {
            "colorbar": {
             "outlinewidth": 0,
             "ticks": ""
            },
            "colorscale": [
             [
              0,
              "#0d0887"
             ],
             [
              0.1111111111111111,
              "#46039f"
             ],
             [
              0.2222222222222222,
              "#7201a8"
             ],
             [
              0.3333333333333333,
              "#9c179e"
             ],
             [
              0.4444444444444444,
              "#bd3786"
             ],
             [
              0.5555555555555556,
              "#d8576b"
             ],
             [
              0.6666666666666666,
              "#ed7953"
             ],
             [
              0.7777777777777778,
              "#fb9f3a"
             ],
             [
              0.8888888888888888,
              "#fdca26"
             ],
             [
              1,
              "#f0f921"
             ]
            ],
            "type": "surface"
           }
          ],
          "table": [
           {
            "cells": {
             "fill": {
              "color": "#EBF0F8"
             },
             "line": {
              "color": "white"
             }
            },
            "header": {
             "fill": {
              "color": "#C8D4E3"
             },
             "line": {
              "color": "white"
             }
            },
            "type": "table"
           }
          ]
         },
         "layout": {
          "annotationdefaults": {
           "arrowcolor": "#2a3f5f",
           "arrowhead": 0,
           "arrowwidth": 1
          },
          "autotypenumbers": "strict",
          "coloraxis": {
           "colorbar": {
            "outlinewidth": 0,
            "ticks": ""
           }
          },
          "colorscale": {
           "diverging": [
            [
             0,
             "#8e0152"
            ],
            [
             0.1,
             "#c51b7d"
            ],
            [
             0.2,
             "#de77ae"
            ],
            [
             0.3,
             "#f1b6da"
            ],
            [
             0.4,
             "#fde0ef"
            ],
            [
             0.5,
             "#f7f7f7"
            ],
            [
             0.6,
             "#e6f5d0"
            ],
            [
             0.7,
             "#b8e186"
            ],
            [
             0.8,
             "#7fbc41"
            ],
            [
             0.9,
             "#4d9221"
            ],
            [
             1,
             "#276419"
            ]
           ],
           "sequential": [
            [
             0,
             "#0d0887"
            ],
            [
             0.1111111111111111,
             "#46039f"
            ],
            [
             0.2222222222222222,
             "#7201a8"
            ],
            [
             0.3333333333333333,
             "#9c179e"
            ],
            [
             0.4444444444444444,
             "#bd3786"
            ],
            [
             0.5555555555555556,
             "#d8576b"
            ],
            [
             0.6666666666666666,
             "#ed7953"
            ],
            [
             0.7777777777777778,
             "#fb9f3a"
            ],
            [
             0.8888888888888888,
             "#fdca26"
            ],
            [
             1,
             "#f0f921"
            ]
           ],
           "sequentialminus": [
            [
             0,
             "#0d0887"
            ],
            [
             0.1111111111111111,
             "#46039f"
            ],
            [
             0.2222222222222222,
             "#7201a8"
            ],
            [
             0.3333333333333333,
             "#9c179e"
            ],
            [
             0.4444444444444444,
             "#bd3786"
            ],
            [
             0.5555555555555556,
             "#d8576b"
            ],
            [
             0.6666666666666666,
             "#ed7953"
            ],
            [
             0.7777777777777778,
             "#fb9f3a"
            ],
            [
             0.8888888888888888,
             "#fdca26"
            ],
            [
             1,
             "#f0f921"
            ]
           ]
          },
          "colorway": [
           "#636efa",
           "#EF553B",
           "#00cc96",
           "#ab63fa",
           "#FFA15A",
           "#19d3f3",
           "#FF6692",
           "#B6E880",
           "#FF97FF",
           "#FECB52"
          ],
          "font": {
           "color": "#2a3f5f"
          },
          "geo": {
           "bgcolor": "white",
           "lakecolor": "white",
           "landcolor": "#E5ECF6",
           "showlakes": true,
           "showland": true,
           "subunitcolor": "white"
          },
          "hoverlabel": {
           "align": "left"
          },
          "hovermode": "closest",
          "mapbox": {
           "style": "light"
          },
          "paper_bgcolor": "white",
          "plot_bgcolor": "#E5ECF6",
          "polar": {
           "angularaxis": {
            "gridcolor": "white",
            "linecolor": "white",
            "ticks": ""
           },
           "bgcolor": "#E5ECF6",
           "radialaxis": {
            "gridcolor": "white",
            "linecolor": "white",
            "ticks": ""
           }
          },
          "scene": {
           "xaxis": {
            "backgroundcolor": "#E5ECF6",
            "gridcolor": "white",
            "gridwidth": 2,
            "linecolor": "white",
            "showbackground": true,
            "ticks": "",
            "zerolinecolor": "white"
           },
           "yaxis": {
            "backgroundcolor": "#E5ECF6",
            "gridcolor": "white",
            "gridwidth": 2,
            "linecolor": "white",
            "showbackground": true,
            "ticks": "",
            "zerolinecolor": "white"
           },
           "zaxis": {
            "backgroundcolor": "#E5ECF6",
            "gridcolor": "white",
            "gridwidth": 2,
            "linecolor": "white",
            "showbackground": true,
            "ticks": "",
            "zerolinecolor": "white"
           }
          },
          "shapedefaults": {
           "line": {
            "color": "#2a3f5f"
           }
          },
          "ternary": {
           "aaxis": {
            "gridcolor": "white",
            "linecolor": "white",
            "ticks": ""
           },
           "baxis": {
            "gridcolor": "white",
            "linecolor": "white",
            "ticks": ""
           },
           "bgcolor": "#E5ECF6",
           "caxis": {
            "gridcolor": "white",
            "linecolor": "white",
            "ticks": ""
           }
          },
          "title": {
           "x": 0.05
          },
          "xaxis": {
           "automargin": true,
           "gridcolor": "white",
           "linecolor": "white",
           "ticks": "",
           "title": {
            "standoff": 15
           },
           "zerolinecolor": "white",
           "zerolinewidth": 2
          },
          "yaxis": {
           "automargin": true,
           "gridcolor": "white",
           "linecolor": "white",
           "ticks": "",
           "title": {
            "standoff": 15
           },
           "zerolinecolor": "white",
           "zerolinewidth": 2
          }
         }
        },
        "title": {
         "text": "Implied Volatility Smile for CLH26"
        },
        "xaxis": {
         "title": {
          "text": "Strike Price"
         }
        },
        "yaxis": {
         "title": {
          "text": "Implied Volatility"
         }
        }
       }
      }
     },
     "metadata": {},
     "output_type": "display_data"
    },
    {
     "name": "stdout",
     "output_type": "stream",
     "text": [
      "CLJ26 63.2\n"
     ]
    },
    {
     "data": {
      "application/vnd.plotly.v1+json": {
       "config": {
        "plotlyServerURL": "https://plot.ly"
       },
       "data": [
        {
         "marker": {
          "color": "blue",
          "opacity": 0.7,
          "size": 8,
          "symbol": "circle"
         },
         "mode": "markers",
         "name": "Call Options - CLJ26",
         "type": "scatter",
         "x": [
          53,
          60,
          65,
          65.5,
          68,
          70,
          70.5,
          71,
          71.5,
          72,
          72.5,
          74,
          75
         ],
         "y": [
          0.2617764970017607,
          0.264056657265574,
          0.2576648347780082,
          0.25744685193153344,
          0.25575437555318337,
          0.2543963535187762,
          0.2545469940386858,
          0.25564609990426634,
          0.25563557689163857,
          0.2548758243912415,
          0.2541262225061996,
          0.2546171441760442,
          0.2563460493053616
         ]
        },
        {
         "marker": {
          "color": "red",
          "opacity": 0.7,
          "size": 8,
          "symbol": "x"
         },
         "mode": "markers",
         "name": "Put Options - CLJ26",
         "type": "scatter",
         "x": [
          48,
          49,
          50,
          52.5,
          55,
          55.5,
          56,
          57,
          58,
          59,
          60,
          63,
          65,
          67.5,
          74,
          75
         ],
         "y": [
          0.3725731027316569,
          0.369018690246856,
          0.3621088617899565,
          0.3522350243941816,
          0.3427051020865702,
          0.3404232070037485,
          0.33873210137996196,
          0.3353599295279141,
          0.33412260014403383,
          0.3358553303835012,
          0.32586490844795757,
          0.31951326648312384,
          0.3129999682500424,
          0.3099489454125663,
          0.30685300162036055,
          0.3072761509075418
         ]
        },
        {
         "line": {
          "color": "green",
          "dash": "dash"
         },
         "mode": "lines",
         "name": "Current Price (F) - CLJ26",
         "type": "scatter",
         "x": [
          63.2,
          63.2
         ],
         "y": [
          0,
          0.3725731027316569
         ]
        }
       ],
       "layout": {
        "template": {
         "data": {
          "bar": [
           {
            "error_x": {
             "color": "#2a3f5f"
            },
            "error_y": {
             "color": "#2a3f5f"
            },
            "marker": {
             "line": {
              "color": "#E5ECF6",
              "width": 0.5
             },
             "pattern": {
              "fillmode": "overlay",
              "size": 10,
              "solidity": 0.2
             }
            },
            "type": "bar"
           }
          ],
          "barpolar": [
           {
            "marker": {
             "line": {
              "color": "#E5ECF6",
              "width": 0.5
             },
             "pattern": {
              "fillmode": "overlay",
              "size": 10,
              "solidity": 0.2
             }
            },
            "type": "barpolar"
           }
          ],
          "carpet": [
           {
            "aaxis": {
             "endlinecolor": "#2a3f5f",
             "gridcolor": "white",
             "linecolor": "white",
             "minorgridcolor": "white",
             "startlinecolor": "#2a3f5f"
            },
            "baxis": {
             "endlinecolor": "#2a3f5f",
             "gridcolor": "white",
             "linecolor": "white",
             "minorgridcolor": "white",
             "startlinecolor": "#2a3f5f"
            },
            "type": "carpet"
           }
          ],
          "choropleth": [
           {
            "colorbar": {
             "outlinewidth": 0,
             "ticks": ""
            },
            "type": "choropleth"
           }
          ],
          "contour": [
           {
            "colorbar": {
             "outlinewidth": 0,
             "ticks": ""
            },
            "colorscale": [
             [
              0,
              "#0d0887"
             ],
             [
              0.1111111111111111,
              "#46039f"
             ],
             [
              0.2222222222222222,
              "#7201a8"
             ],
             [
              0.3333333333333333,
              "#9c179e"
             ],
             [
              0.4444444444444444,
              "#bd3786"
             ],
             [
              0.5555555555555556,
              "#d8576b"
             ],
             [
              0.6666666666666666,
              "#ed7953"
             ],
             [
              0.7777777777777778,
              "#fb9f3a"
             ],
             [
              0.8888888888888888,
              "#fdca26"
             ],
             [
              1,
              "#f0f921"
             ]
            ],
            "type": "contour"
           }
          ],
          "contourcarpet": [
           {
            "colorbar": {
             "outlinewidth": 0,
             "ticks": ""
            },
            "type": "contourcarpet"
           }
          ],
          "heatmap": [
           {
            "colorbar": {
             "outlinewidth": 0,
             "ticks": ""
            },
            "colorscale": [
             [
              0,
              "#0d0887"
             ],
             [
              0.1111111111111111,
              "#46039f"
             ],
             [
              0.2222222222222222,
              "#7201a8"
             ],
             [
              0.3333333333333333,
              "#9c179e"
             ],
             [
              0.4444444444444444,
              "#bd3786"
             ],
             [
              0.5555555555555556,
              "#d8576b"
             ],
             [
              0.6666666666666666,
              "#ed7953"
             ],
             [
              0.7777777777777778,
              "#fb9f3a"
             ],
             [
              0.8888888888888888,
              "#fdca26"
             ],
             [
              1,
              "#f0f921"
             ]
            ],
            "type": "heatmap"
           }
          ],
          "heatmapgl": [
           {
            "colorbar": {
             "outlinewidth": 0,
             "ticks": ""
            },
            "colorscale": [
             [
              0,
              "#0d0887"
             ],
             [
              0.1111111111111111,
              "#46039f"
             ],
             [
              0.2222222222222222,
              "#7201a8"
             ],
             [
              0.3333333333333333,
              "#9c179e"
             ],
             [
              0.4444444444444444,
              "#bd3786"
             ],
             [
              0.5555555555555556,
              "#d8576b"
             ],
             [
              0.6666666666666666,
              "#ed7953"
             ],
             [
              0.7777777777777778,
              "#fb9f3a"
             ],
             [
              0.8888888888888888,
              "#fdca26"
             ],
             [
              1,
              "#f0f921"
             ]
            ],
            "type": "heatmapgl"
           }
          ],
          "histogram": [
           {
            "marker": {
             "pattern": {
              "fillmode": "overlay",
              "size": 10,
              "solidity": 0.2
             }
            },
            "type": "histogram"
           }
          ],
          "histogram2d": [
           {
            "colorbar": {
             "outlinewidth": 0,
             "ticks": ""
            },
            "colorscale": [
             [
              0,
              "#0d0887"
             ],
             [
              0.1111111111111111,
              "#46039f"
             ],
             [
              0.2222222222222222,
              "#7201a8"
             ],
             [
              0.3333333333333333,
              "#9c179e"
             ],
             [
              0.4444444444444444,
              "#bd3786"
             ],
             [
              0.5555555555555556,
              "#d8576b"
             ],
             [
              0.6666666666666666,
              "#ed7953"
             ],
             [
              0.7777777777777778,
              "#fb9f3a"
             ],
             [
              0.8888888888888888,
              "#fdca26"
             ],
             [
              1,
              "#f0f921"
             ]
            ],
            "type": "histogram2d"
           }
          ],
          "histogram2dcontour": [
           {
            "colorbar": {
             "outlinewidth": 0,
             "ticks": ""
            },
            "colorscale": [
             [
              0,
              "#0d0887"
             ],
             [
              0.1111111111111111,
              "#46039f"
             ],
             [
              0.2222222222222222,
              "#7201a8"
             ],
             [
              0.3333333333333333,
              "#9c179e"
             ],
             [
              0.4444444444444444,
              "#bd3786"
             ],
             [
              0.5555555555555556,
              "#d8576b"
             ],
             [
              0.6666666666666666,
              "#ed7953"
             ],
             [
              0.7777777777777778,
              "#fb9f3a"
             ],
             [
              0.8888888888888888,
              "#fdca26"
             ],
             [
              1,
              "#f0f921"
             ]
            ],
            "type": "histogram2dcontour"
           }
          ],
          "mesh3d": [
           {
            "colorbar": {
             "outlinewidth": 0,
             "ticks": ""
            },
            "type": "mesh3d"
           }
          ],
          "parcoords": [
           {
            "line": {
             "colorbar": {
              "outlinewidth": 0,
              "ticks": ""
             }
            },
            "type": "parcoords"
           }
          ],
          "pie": [
           {
            "automargin": true,
            "type": "pie"
           }
          ],
          "scatter": [
           {
            "fillpattern": {
             "fillmode": "overlay",
             "size": 10,
             "solidity": 0.2
            },
            "type": "scatter"
           }
          ],
          "scatter3d": [
           {
            "line": {
             "colorbar": {
              "outlinewidth": 0,
              "ticks": ""
             }
            },
            "marker": {
             "colorbar": {
              "outlinewidth": 0,
              "ticks": ""
             }
            },
            "type": "scatter3d"
           }
          ],
          "scattercarpet": [
           {
            "marker": {
             "colorbar": {
              "outlinewidth": 0,
              "ticks": ""
             }
            },
            "type": "scattercarpet"
           }
          ],
          "scattergeo": [
           {
            "marker": {
             "colorbar": {
              "outlinewidth": 0,
              "ticks": ""
             }
            },
            "type": "scattergeo"
           }
          ],
          "scattergl": [
           {
            "marker": {
             "colorbar": {
              "outlinewidth": 0,
              "ticks": ""
             }
            },
            "type": "scattergl"
           }
          ],
          "scattermapbox": [
           {
            "marker": {
             "colorbar": {
              "outlinewidth": 0,
              "ticks": ""
             }
            },
            "type": "scattermapbox"
           }
          ],
          "scatterpolar": [
           {
            "marker": {
             "colorbar": {
              "outlinewidth": 0,
              "ticks": ""
             }
            },
            "type": "scatterpolar"
           }
          ],
          "scatterpolargl": [
           {
            "marker": {
             "colorbar": {
              "outlinewidth": 0,
              "ticks": ""
             }
            },
            "type": "scatterpolargl"
           }
          ],
          "scatterternary": [
           {
            "marker": {
             "colorbar": {
              "outlinewidth": 0,
              "ticks": ""
             }
            },
            "type": "scatterternary"
           }
          ],
          "surface": [
           {
            "colorbar": {
             "outlinewidth": 0,
             "ticks": ""
            },
            "colorscale": [
             [
              0,
              "#0d0887"
             ],
             [
              0.1111111111111111,
              "#46039f"
             ],
             [
              0.2222222222222222,
              "#7201a8"
             ],
             [
              0.3333333333333333,
              "#9c179e"
             ],
             [
              0.4444444444444444,
              "#bd3786"
             ],
             [
              0.5555555555555556,
              "#d8576b"
             ],
             [
              0.6666666666666666,
              "#ed7953"
             ],
             [
              0.7777777777777778,
              "#fb9f3a"
             ],
             [
              0.8888888888888888,
              "#fdca26"
             ],
             [
              1,
              "#f0f921"
             ]
            ],
            "type": "surface"
           }
          ],
          "table": [
           {
            "cells": {
             "fill": {
              "color": "#EBF0F8"
             },
             "line": {
              "color": "white"
             }
            },
            "header": {
             "fill": {
              "color": "#C8D4E3"
             },
             "line": {
              "color": "white"
             }
            },
            "type": "table"
           }
          ]
         },
         "layout": {
          "annotationdefaults": {
           "arrowcolor": "#2a3f5f",
           "arrowhead": 0,
           "arrowwidth": 1
          },
          "autotypenumbers": "strict",
          "coloraxis": {
           "colorbar": {
            "outlinewidth": 0,
            "ticks": ""
           }
          },
          "colorscale": {
           "diverging": [
            [
             0,
             "#8e0152"
            ],
            [
             0.1,
             "#c51b7d"
            ],
            [
             0.2,
             "#de77ae"
            ],
            [
             0.3,
             "#f1b6da"
            ],
            [
             0.4,
             "#fde0ef"
            ],
            [
             0.5,
             "#f7f7f7"
            ],
            [
             0.6,
             "#e6f5d0"
            ],
            [
             0.7,
             "#b8e186"
            ],
            [
             0.8,
             "#7fbc41"
            ],
            [
             0.9,
             "#4d9221"
            ],
            [
             1,
             "#276419"
            ]
           ],
           "sequential": [
            [
             0,
             "#0d0887"
            ],
            [
             0.1111111111111111,
             "#46039f"
            ],
            [
             0.2222222222222222,
             "#7201a8"
            ],
            [
             0.3333333333333333,
             "#9c179e"
            ],
            [
             0.4444444444444444,
             "#bd3786"
            ],
            [
             0.5555555555555556,
             "#d8576b"
            ],
            [
             0.6666666666666666,
             "#ed7953"
            ],
            [
             0.7777777777777778,
             "#fb9f3a"
            ],
            [
             0.8888888888888888,
             "#fdca26"
            ],
            [
             1,
             "#f0f921"
            ]
           ],
           "sequentialminus": [
            [
             0,
             "#0d0887"
            ],
            [
             0.1111111111111111,
             "#46039f"
            ],
            [
             0.2222222222222222,
             "#7201a8"
            ],
            [
             0.3333333333333333,
             "#9c179e"
            ],
            [
             0.4444444444444444,
             "#bd3786"
            ],
            [
             0.5555555555555556,
             "#d8576b"
            ],
            [
             0.6666666666666666,
             "#ed7953"
            ],
            [
             0.7777777777777778,
             "#fb9f3a"
            ],
            [
             0.8888888888888888,
             "#fdca26"
            ],
            [
             1,
             "#f0f921"
            ]
           ]
          },
          "colorway": [
           "#636efa",
           "#EF553B",
           "#00cc96",
           "#ab63fa",
           "#FFA15A",
           "#19d3f3",
           "#FF6692",
           "#B6E880",
           "#FF97FF",
           "#FECB52"
          ],
          "font": {
           "color": "#2a3f5f"
          },
          "geo": {
           "bgcolor": "white",
           "lakecolor": "white",
           "landcolor": "#E5ECF6",
           "showlakes": true,
           "showland": true,
           "subunitcolor": "white"
          },
          "hoverlabel": {
           "align": "left"
          },
          "hovermode": "closest",
          "mapbox": {
           "style": "light"
          },
          "paper_bgcolor": "white",
          "plot_bgcolor": "#E5ECF6",
          "polar": {
           "angularaxis": {
            "gridcolor": "white",
            "linecolor": "white",
            "ticks": ""
           },
           "bgcolor": "#E5ECF6",
           "radialaxis": {
            "gridcolor": "white",
            "linecolor": "white",
            "ticks": ""
           }
          },
          "scene": {
           "xaxis": {
            "backgroundcolor": "#E5ECF6",
            "gridcolor": "white",
            "gridwidth": 2,
            "linecolor": "white",
            "showbackground": true,
            "ticks": "",
            "zerolinecolor": "white"
           },
           "yaxis": {
            "backgroundcolor": "#E5ECF6",
            "gridcolor": "white",
            "gridwidth": 2,
            "linecolor": "white",
            "showbackground": true,
            "ticks": "",
            "zerolinecolor": "white"
           },
           "zaxis": {
            "backgroundcolor": "#E5ECF6",
            "gridcolor": "white",
            "gridwidth": 2,
            "linecolor": "white",
            "showbackground": true,
            "ticks": "",
            "zerolinecolor": "white"
           }
          },
          "shapedefaults": {
           "line": {
            "color": "#2a3f5f"
           }
          },
          "ternary": {
           "aaxis": {
            "gridcolor": "white",
            "linecolor": "white",
            "ticks": ""
           },
           "baxis": {
            "gridcolor": "white",
            "linecolor": "white",
            "ticks": ""
           },
           "bgcolor": "#E5ECF6",
           "caxis": {
            "gridcolor": "white",
            "linecolor": "white",
            "ticks": ""
           }
          },
          "title": {
           "x": 0.05
          },
          "xaxis": {
           "automargin": true,
           "gridcolor": "white",
           "linecolor": "white",
           "ticks": "",
           "title": {
            "standoff": 15
           },
           "zerolinecolor": "white",
           "zerolinewidth": 2
          },
          "yaxis": {
           "automargin": true,
           "gridcolor": "white",
           "linecolor": "white",
           "ticks": "",
           "title": {
            "standoff": 15
           },
           "zerolinecolor": "white",
           "zerolinewidth": 2
          }
         }
        },
        "title": {
         "text": "Implied Volatility Smile for CLJ26"
        },
        "xaxis": {
         "title": {
          "text": "Strike Price"
         }
        },
        "yaxis": {
         "title": {
          "text": "Implied Volatility"
         }
        }
       }
      }
     },
     "metadata": {},
     "output_type": "display_data"
    },
    {
     "name": "stdout",
     "output_type": "stream",
     "text": [
      "CLK26 63.14\n"
     ]
    },
    {
     "data": {
      "application/vnd.plotly.v1+json": {
       "config": {
        "plotlyServerURL": "https://plot.ly"
       },
       "data": [
        {
         "marker": {
          "color": "blue",
          "opacity": 0.7,
          "size": 8,
          "symbol": "circle"
         },
         "mode": "markers",
         "name": "Call Options - CLK26",
         "type": "scatter",
         "x": [
          60,
          60.5,
          63,
          65,
          70,
          72,
          75,
          75.5,
          76.5
         ],
         "y": [
          0.25704228640438975,
          0.2560587862401676,
          0.25602904575162894,
          0.25175078239663595,
          0.2478097596160018,
          0.2487913383823034,
          0.24880903817960928,
          0.24963923256756912,
          0.2513657520540411
         ]
        },
        {
         "marker": {
          "color": "red",
          "opacity": 0.7,
          "size": 8,
          "symbol": "x"
         },
         "mode": "markers",
         "name": "Put Options - CLK26",
         "type": "scatter",
         "x": [
          48,
          50,
          52.5,
          53,
          55,
          58,
          59,
          60,
          61,
          64,
          65,
          71,
          72
         ],
         "y": [
          0.36927192357625904,
          0.3573877647283521,
          0.34986621523502737,
          0.3488237293129662,
          0.339164862319036,
          0.3312446083738321,
          0.326668269306274,
          0.32256124948262177,
          0.31989998342202597,
          0.31291612580169204,
          0.30991873516956614,
          0.30167337377778164,
          0.30197947302046835
         ]
        },
        {
         "line": {
          "color": "green",
          "dash": "dash"
         },
         "mode": "lines",
         "name": "Current Price (F) - CLK26",
         "type": "scatter",
         "x": [
          63.14,
          63.14
         ],
         "y": [
          0,
          0.36927192357625904
         ]
        }
       ],
       "layout": {
        "template": {
         "data": {
          "bar": [
           {
            "error_x": {
             "color": "#2a3f5f"
            },
            "error_y": {
             "color": "#2a3f5f"
            },
            "marker": {
             "line": {
              "color": "#E5ECF6",
              "width": 0.5
             },
             "pattern": {
              "fillmode": "overlay",
              "size": 10,
              "solidity": 0.2
             }
            },
            "type": "bar"
           }
          ],
          "barpolar": [
           {
            "marker": {
             "line": {
              "color": "#E5ECF6",
              "width": 0.5
             },
             "pattern": {
              "fillmode": "overlay",
              "size": 10,
              "solidity": 0.2
             }
            },
            "type": "barpolar"
           }
          ],
          "carpet": [
           {
            "aaxis": {
             "endlinecolor": "#2a3f5f",
             "gridcolor": "white",
             "linecolor": "white",
             "minorgridcolor": "white",
             "startlinecolor": "#2a3f5f"
            },
            "baxis": {
             "endlinecolor": "#2a3f5f",
             "gridcolor": "white",
             "linecolor": "white",
             "minorgridcolor": "white",
             "startlinecolor": "#2a3f5f"
            },
            "type": "carpet"
           }
          ],
          "choropleth": [
           {
            "colorbar": {
             "outlinewidth": 0,
             "ticks": ""
            },
            "type": "choropleth"
           }
          ],
          "contour": [
           {
            "colorbar": {
             "outlinewidth": 0,
             "ticks": ""
            },
            "colorscale": [
             [
              0,
              "#0d0887"
             ],
             [
              0.1111111111111111,
              "#46039f"
             ],
             [
              0.2222222222222222,
              "#7201a8"
             ],
             [
              0.3333333333333333,
              "#9c179e"
             ],
             [
              0.4444444444444444,
              "#bd3786"
             ],
             [
              0.5555555555555556,
              "#d8576b"
             ],
             [
              0.6666666666666666,
              "#ed7953"
             ],
             [
              0.7777777777777778,
              "#fb9f3a"
             ],
             [
              0.8888888888888888,
              "#fdca26"
             ],
             [
              1,
              "#f0f921"
             ]
            ],
            "type": "contour"
           }
          ],
          "contourcarpet": [
           {
            "colorbar": {
             "outlinewidth": 0,
             "ticks": ""
            },
            "type": "contourcarpet"
           }
          ],
          "heatmap": [
           {
            "colorbar": {
             "outlinewidth": 0,
             "ticks": ""
            },
            "colorscale": [
             [
              0,
              "#0d0887"
             ],
             [
              0.1111111111111111,
              "#46039f"
             ],
             [
              0.2222222222222222,
              "#7201a8"
             ],
             [
              0.3333333333333333,
              "#9c179e"
             ],
             [
              0.4444444444444444,
              "#bd3786"
             ],
             [
              0.5555555555555556,
              "#d8576b"
             ],
             [
              0.6666666666666666,
              "#ed7953"
             ],
             [
              0.7777777777777778,
              "#fb9f3a"
             ],
             [
              0.8888888888888888,
              "#fdca26"
             ],
             [
              1,
              "#f0f921"
             ]
            ],
            "type": "heatmap"
           }
          ],
          "heatmapgl": [
           {
            "colorbar": {
             "outlinewidth": 0,
             "ticks": ""
            },
            "colorscale": [
             [
              0,
              "#0d0887"
             ],
             [
              0.1111111111111111,
              "#46039f"
             ],
             [
              0.2222222222222222,
              "#7201a8"
             ],
             [
              0.3333333333333333,
              "#9c179e"
             ],
             [
              0.4444444444444444,
              "#bd3786"
             ],
             [
              0.5555555555555556,
              "#d8576b"
             ],
             [
              0.6666666666666666,
              "#ed7953"
             ],
             [
              0.7777777777777778,
              "#fb9f3a"
             ],
             [
              0.8888888888888888,
              "#fdca26"
             ],
             [
              1,
              "#f0f921"
             ]
            ],
            "type": "heatmapgl"
           }
          ],
          "histogram": [
           {
            "marker": {
             "pattern": {
              "fillmode": "overlay",
              "size": 10,
              "solidity": 0.2
             }
            },
            "type": "histogram"
           }
          ],
          "histogram2d": [
           {
            "colorbar": {
             "outlinewidth": 0,
             "ticks": ""
            },
            "colorscale": [
             [
              0,
              "#0d0887"
             ],
             [
              0.1111111111111111,
              "#46039f"
             ],
             [
              0.2222222222222222,
              "#7201a8"
             ],
             [
              0.3333333333333333,
              "#9c179e"
             ],
             [
              0.4444444444444444,
              "#bd3786"
             ],
             [
              0.5555555555555556,
              "#d8576b"
             ],
             [
              0.6666666666666666,
              "#ed7953"
             ],
             [
              0.7777777777777778,
              "#fb9f3a"
             ],
             [
              0.8888888888888888,
              "#fdca26"
             ],
             [
              1,
              "#f0f921"
             ]
            ],
            "type": "histogram2d"
           }
          ],
          "histogram2dcontour": [
           {
            "colorbar": {
             "outlinewidth": 0,
             "ticks": ""
            },
            "colorscale": [
             [
              0,
              "#0d0887"
             ],
             [
              0.1111111111111111,
              "#46039f"
             ],
             [
              0.2222222222222222,
              "#7201a8"
             ],
             [
              0.3333333333333333,
              "#9c179e"
             ],
             [
              0.4444444444444444,
              "#bd3786"
             ],
             [
              0.5555555555555556,
              "#d8576b"
             ],
             [
              0.6666666666666666,
              "#ed7953"
             ],
             [
              0.7777777777777778,
              "#fb9f3a"
             ],
             [
              0.8888888888888888,
              "#fdca26"
             ],
             [
              1,
              "#f0f921"
             ]
            ],
            "type": "histogram2dcontour"
           }
          ],
          "mesh3d": [
           {
            "colorbar": {
             "outlinewidth": 0,
             "ticks": ""
            },
            "type": "mesh3d"
           }
          ],
          "parcoords": [
           {
            "line": {
             "colorbar": {
              "outlinewidth": 0,
              "ticks": ""
             }
            },
            "type": "parcoords"
           }
          ],
          "pie": [
           {
            "automargin": true,
            "type": "pie"
           }
          ],
          "scatter": [
           {
            "fillpattern": {
             "fillmode": "overlay",
             "size": 10,
             "solidity": 0.2
            },
            "type": "scatter"
           }
          ],
          "scatter3d": [
           {
            "line": {
             "colorbar": {
              "outlinewidth": 0,
              "ticks": ""
             }
            },
            "marker": {
             "colorbar": {
              "outlinewidth": 0,
              "ticks": ""
             }
            },
            "type": "scatter3d"
           }
          ],
          "scattercarpet": [
           {
            "marker": {
             "colorbar": {
              "outlinewidth": 0,
              "ticks": ""
             }
            },
            "type": "scattercarpet"
           }
          ],
          "scattergeo": [
           {
            "marker": {
             "colorbar": {
              "outlinewidth": 0,
              "ticks": ""
             }
            },
            "type": "scattergeo"
           }
          ],
          "scattergl": [
           {
            "marker": {
             "colorbar": {
              "outlinewidth": 0,
              "ticks": ""
             }
            },
            "type": "scattergl"
           }
          ],
          "scattermapbox": [
           {
            "marker": {
             "colorbar": {
              "outlinewidth": 0,
              "ticks": ""
             }
            },
            "type": "scattermapbox"
           }
          ],
          "scatterpolar": [
           {
            "marker": {
             "colorbar": {
              "outlinewidth": 0,
              "ticks": ""
             }
            },
            "type": "scatterpolar"
           }
          ],
          "scatterpolargl": [
           {
            "marker": {
             "colorbar": {
              "outlinewidth": 0,
              "ticks": ""
             }
            },
            "type": "scatterpolargl"
           }
          ],
          "scatterternary": [
           {
            "marker": {
             "colorbar": {
              "outlinewidth": 0,
              "ticks": ""
             }
            },
            "type": "scatterternary"
           }
          ],
          "surface": [
           {
            "colorbar": {
             "outlinewidth": 0,
             "ticks": ""
            },
            "colorscale": [
             [
              0,
              "#0d0887"
             ],
             [
              0.1111111111111111,
              "#46039f"
             ],
             [
              0.2222222222222222,
              "#7201a8"
             ],
             [
              0.3333333333333333,
              "#9c179e"
             ],
             [
              0.4444444444444444,
              "#bd3786"
             ],
             [
              0.5555555555555556,
              "#d8576b"
             ],
             [
              0.6666666666666666,
              "#ed7953"
             ],
             [
              0.7777777777777778,
              "#fb9f3a"
             ],
             [
              0.8888888888888888,
              "#fdca26"
             ],
             [
              1,
              "#f0f921"
             ]
            ],
            "type": "surface"
           }
          ],
          "table": [
           {
            "cells": {
             "fill": {
              "color": "#EBF0F8"
             },
             "line": {
              "color": "white"
             }
            },
            "header": {
             "fill": {
              "color": "#C8D4E3"
             },
             "line": {
              "color": "white"
             }
            },
            "type": "table"
           }
          ]
         },
         "layout": {
          "annotationdefaults": {
           "arrowcolor": "#2a3f5f",
           "arrowhead": 0,
           "arrowwidth": 1
          },
          "autotypenumbers": "strict",
          "coloraxis": {
           "colorbar": {
            "outlinewidth": 0,
            "ticks": ""
           }
          },
          "colorscale": {
           "diverging": [
            [
             0,
             "#8e0152"
            ],
            [
             0.1,
             "#c51b7d"
            ],
            [
             0.2,
             "#de77ae"
            ],
            [
             0.3,
             "#f1b6da"
            ],
            [
             0.4,
             "#fde0ef"
            ],
            [
             0.5,
             "#f7f7f7"
            ],
            [
             0.6,
             "#e6f5d0"
            ],
            [
             0.7,
             "#b8e186"
            ],
            [
             0.8,
             "#7fbc41"
            ],
            [
             0.9,
             "#4d9221"
            ],
            [
             1,
             "#276419"
            ]
           ],
           "sequential": [
            [
             0,
             "#0d0887"
            ],
            [
             0.1111111111111111,
             "#46039f"
            ],
            [
             0.2222222222222222,
             "#7201a8"
            ],
            [
             0.3333333333333333,
             "#9c179e"
            ],
            [
             0.4444444444444444,
             "#bd3786"
            ],
            [
             0.5555555555555556,
             "#d8576b"
            ],
            [
             0.6666666666666666,
             "#ed7953"
            ],
            [
             0.7777777777777778,
             "#fb9f3a"
            ],
            [
             0.8888888888888888,
             "#fdca26"
            ],
            [
             1,
             "#f0f921"
            ]
           ],
           "sequentialminus": [
            [
             0,
             "#0d0887"
            ],
            [
             0.1111111111111111,
             "#46039f"
            ],
            [
             0.2222222222222222,
             "#7201a8"
            ],
            [
             0.3333333333333333,
             "#9c179e"
            ],
            [
             0.4444444444444444,
             "#bd3786"
            ],
            [
             0.5555555555555556,
             "#d8576b"
            ],
            [
             0.6666666666666666,
             "#ed7953"
            ],
            [
             0.7777777777777778,
             "#fb9f3a"
            ],
            [
             0.8888888888888888,
             "#fdca26"
            ],
            [
             1,
             "#f0f921"
            ]
           ]
          },
          "colorway": [
           "#636efa",
           "#EF553B",
           "#00cc96",
           "#ab63fa",
           "#FFA15A",
           "#19d3f3",
           "#FF6692",
           "#B6E880",
           "#FF97FF",
           "#FECB52"
          ],
          "font": {
           "color": "#2a3f5f"
          },
          "geo": {
           "bgcolor": "white",
           "lakecolor": "white",
           "landcolor": "#E5ECF6",
           "showlakes": true,
           "showland": true,
           "subunitcolor": "white"
          },
          "hoverlabel": {
           "align": "left"
          },
          "hovermode": "closest",
          "mapbox": {
           "style": "light"
          },
          "paper_bgcolor": "white",
          "plot_bgcolor": "#E5ECF6",
          "polar": {
           "angularaxis": {
            "gridcolor": "white",
            "linecolor": "white",
            "ticks": ""
           },
           "bgcolor": "#E5ECF6",
           "radialaxis": {
            "gridcolor": "white",
            "linecolor": "white",
            "ticks": ""
           }
          },
          "scene": {
           "xaxis": {
            "backgroundcolor": "#E5ECF6",
            "gridcolor": "white",
            "gridwidth": 2,
            "linecolor": "white",
            "showbackground": true,
            "ticks": "",
            "zerolinecolor": "white"
           },
           "yaxis": {
            "backgroundcolor": "#E5ECF6",
            "gridcolor": "white",
            "gridwidth": 2,
            "linecolor": "white",
            "showbackground": true,
            "ticks": "",
            "zerolinecolor": "white"
           },
           "zaxis": {
            "backgroundcolor": "#E5ECF6",
            "gridcolor": "white",
            "gridwidth": 2,
            "linecolor": "white",
            "showbackground": true,
            "ticks": "",
            "zerolinecolor": "white"
           }
          },
          "shapedefaults": {
           "line": {
            "color": "#2a3f5f"
           }
          },
          "ternary": {
           "aaxis": {
            "gridcolor": "white",
            "linecolor": "white",
            "ticks": ""
           },
           "baxis": {
            "gridcolor": "white",
            "linecolor": "white",
            "ticks": ""
           },
           "bgcolor": "#E5ECF6",
           "caxis": {
            "gridcolor": "white",
            "linecolor": "white",
            "ticks": ""
           }
          },
          "title": {
           "x": 0.05
          },
          "xaxis": {
           "automargin": true,
           "gridcolor": "white",
           "linecolor": "white",
           "ticks": "",
           "title": {
            "standoff": 15
           },
           "zerolinecolor": "white",
           "zerolinewidth": 2
          },
          "yaxis": {
           "automargin": true,
           "gridcolor": "white",
           "linecolor": "white",
           "ticks": "",
           "title": {
            "standoff": 15
           },
           "zerolinecolor": "white",
           "zerolinewidth": 2
          }
         }
        },
        "title": {
         "text": "Implied Volatility Smile for CLK26"
        },
        "xaxis": {
         "title": {
          "text": "Strike Price"
         }
        },
        "yaxis": {
         "title": {
          "text": "Implied Volatility"
         }
        }
       }
      }
     },
     "metadata": {},
     "output_type": "display_data"
    }
   ],
   "source": [
    "import plotly.graph_objects as go\n",
    "import numpy as np\n",
    "\n",
    "# Loop through unique symbols\n",
    "for symbol in implied_vol_df['Symbol'].unique():\n",
    "    # Filter the data for the specific symbol\n",
    "    symbol_data = implied_vol_df[implied_vol_df['Symbol'] == symbol]\n",
    "    \n",
    "    # Get the current futures price (F) for the symbol\n",
    "    future_row = futures_df[futures_df['Contract'] == symbol]\n",
    "    F = future_row['Last Price'].values[0]  # Futures price\n",
    "    print(symbol, F)\n",
    "    \n",
    "    # Find the ATM strike (closest to F)\n",
    "    atm_strike = min(symbol_data['Strike'], key=lambda x: abs(x - F))\n",
    "    \n",
    "    # Limit strikes to ±15 from ATM\n",
    "    symbol_data = symbol_data[symbol_data['Strike'].between(atm_strike - 15, atm_strike + 15)]\n",
    "    \n",
    "    # Separate Call and Put data\n",
    "    call_data = symbol_data[symbol_data['Type'] == 'Call']\n",
    "    put_data = symbol_data[symbol_data['Type'] == 'Put']\n",
    "    \n",
    "    # Create figure\n",
    "    fig = go.Figure()\n",
    "\n",
    "    # Plot for Call Options\n",
    "    fig.add_trace(go.Scatter(x=call_data['Strike'], y=call_data['Implied Volatility'], \n",
    "                             mode='markers', name=f'Call Options - {symbol}', \n",
    "                             marker=dict(symbol='circle', color='blue', size=8, opacity=0.7)))\n",
    "\n",
    "    # Plot for Put Options\n",
    "    fig.add_trace(go.Scatter(x=put_data['Strike'], y=put_data['Implied Volatility'], \n",
    "                             mode='markers', name=f'Put Options - {symbol}', \n",
    "                             marker=dict(symbol='x', color='red', size=8, opacity=0.7)))\n",
    "\n",
    "    # Add vertical line for Current Price (F)\n",
    "    fig.add_trace(go.Scatter(x=[F, F], y=[0, max(symbol_data['Implied Volatility'])], \n",
    "                             mode='lines', name=f'Current Price (F) - {symbol}', \n",
    "                             line=dict(color='green', dash='dash')))\n",
    "\n",
    "    # Check for Skew and Smile\n",
    "    atm_call_iv = call_data[call_data['Strike'] == atm_strike]['Implied Volatility'].values\n",
    "    atm_put_iv = put_data[put_data['Strike'] == atm_strike]['Implied Volatility'].values\n",
    "\n",
    "    if len(atm_call_iv) > 0 and len(atm_put_iv) > 0:\n",
    "        atm_call_iv = atm_call_iv[0]\n",
    "        atm_put_iv = atm_put_iv[0]\n",
    "\n",
    "        if atm_put_iv > atm_call_iv:\n",
    "            skew_type = \"Left Skew (Put IV > Call IV)\"\n",
    "        elif atm_put_iv < atm_call_iv:\n",
    "            skew_type = \"Right Skew (Call IV > Put IV)\"\n",
    "        else:\n",
    "            skew_type = \"Balanced Smile\"\n",
    "        \n",
    "        print(f\"{symbol} - {skew_type}\")\n",
    "\n",
    "        # Add Skew Type Annotation to the Plot\n",
    "        fig.add_annotation(\n",
    "            x=atm_strike, \n",
    "            y=max(symbol_data['Implied Volatility']), \n",
    "            text=skew_type, \n",
    "            showarrow=False, \n",
    "            font=dict(size=12, color=\"black\"),\n",
    "            align=\"center\",\n",
    "            bordercolor=\"black\",\n",
    "            borderwidth=1,\n",
    "            borderpad=4,\n",
    "            bgcolor=\"white\",\n",
    "        )\n",
    "\n",
    "    # Update layout\n",
    "    fig.update_layout(\n",
    "        title=f'Implied Volatility Smile for {symbol}',\n",
    "        xaxis_title='Strike Price',\n",
    "        yaxis_title='Implied Volatility',\n",
    "    )\n",
    "    \n",
    "    # Show the plot\n",
    "    fig.show()\n"
   ]
  },
  {
   "cell_type": "markdown",
   "metadata": {},
   "source": []
  },
  {
   "cell_type": "code",
   "execution_count": 8,
   "metadata": {},
   "outputs": [
    {
     "data": {
      "application/vnd.plotly.v1+json": {
       "config": {
        "plotlyServerURL": "https://plot.ly"
       },
       "data": [
        {
         "hovertemplate": "Symbol=CLQ25<br>Time to Expiry=%{x}<br>Implied Volatility=%{y}<extra></extra>",
         "legendgroup": "CLQ25",
         "line": {
          "color": "#636efa",
          "dash": "solid"
         },
         "marker": {
          "symbol": "circle"
         },
         "mode": "markers+lines",
         "name": "CLQ25",
         "showlegend": true,
         "type": "scattergl",
         "x": [
          0.021917808219178082,
          0.021917808219178082,
          0.021917808219178082,
          0.021917808219178082,
          0.021917808219178082,
          0.021917808219178082,
          0.021917808219178082,
          0.021917808219178082,
          0.021917808219178082,
          0.021917808219178082,
          0.021917808219178082,
          0.021917808219178082,
          0.021917808219178082,
          0.021917808219178082,
          0.021917808219178082,
          0.021917808219178082,
          0.021917808219178082,
          0.021917808219178082,
          0.021917808219178082,
          0.021917808219178082,
          0.021917808219178082,
          0.021917808219178082,
          0.021917808219178082,
          0.021917808219178082,
          0.021917808219178082,
          0.021917808219178082,
          0.021917808219178082,
          0.021917808219178082,
          0.021917808219178082,
          0.021917808219178082,
          0.021917808219178082,
          0.021917808219178082,
          0.021917808219178082,
          0.021917808219178082,
          0.021917808219178082,
          0.021917808219178082,
          0.021917808219178082,
          0.021917808219178082,
          0.021917808219178082,
          0.021917808219178082,
          0.021917808219178082,
          0.021917808219178082,
          0.021917808219178082,
          0.021917808219178082,
          0.021917808219178082,
          0.021917808219178082,
          0.021917808219178082,
          0.021917808219178082,
          0.021917808219178082,
          0.021917808219178082,
          0.021917808219178082,
          0.021917808219178082,
          0.021917808219178082,
          0.021917808219178082,
          0.021917808219178082,
          0.021917808219178082,
          0.021917808219178082,
          0.021917808219178082,
          0.021917808219178082,
          0.021917808219178082,
          0.021917808219178082,
          0.021917808219178082,
          0.021917808219178082,
          0.021917808219178082,
          0.021917808219178082,
          0.021917808219178082,
          0.021917808219178082,
          0.021917808219178082,
          0.021917808219178082,
          0.021917808219178082,
          0.021917808219178082,
          0.021917808219178082,
          0.021917808219178082,
          0.021917808219178082,
          0.021917808219178082,
          0.021917808219178082,
          0.021917808219178082,
          0.021917808219178082,
          0.021917808219178082,
          0.021917808219178082,
          0.021917808219178082,
          0.021917808219178082,
          0.021917808219178082,
          0.021917808219178082,
          0.021917808219178082,
          0.021917808219178082,
          0.021917808219178082,
          0.021917808219178082,
          0.021917808219178082,
          0.021917808219178082,
          0.021917808219178082,
          0.021917808219178082,
          0.021917808219178082,
          0.021917808219178082,
          0.021917808219178082,
          0.021917808219178082,
          0.021917808219178082,
          0.021917808219178082,
          0.021917808219178082,
          0.021917808219178082,
          0.021917808219178082,
          0.021917808219178082,
          0.021917808219178082,
          0.021917808219178082,
          0.021917808219178082,
          0.021917808219178082,
          0.021917808219178082,
          0.021917808219178082,
          0.021917808219178082,
          0.021917808219178082,
          0.021917808219178082,
          0.021917808219178082,
          0.021917808219178082,
          0.021917808219178082,
          0.021917808219178082,
          0.021917808219178082,
          0.021917808219178082,
          0.021917808219178082,
          0.021917808219178082,
          0.021917808219178082,
          0.021917808219178082,
          0.021917808219178082,
          0.021917808219178082,
          0.021917808219178082,
          0.021917808219178082,
          0.021917808219178082,
          0.021917808219178082,
          0.021917808219178082,
          0.021917808219178082,
          0.021917808219178082,
          0.021917808219178082,
          0.021917808219178082,
          0.021917808219178082,
          0.021917808219178082,
          0.021917808219178082,
          0.021917808219178082,
          0.021917808219178082,
          0.021917808219178082,
          0.021917808219178082,
          0.021917808219178082,
          0.021917808219178082,
          0.021917808219178082,
          0.021917808219178082,
          0.021917808219178082,
          0.021917808219178082,
          0.021917808219178082,
          0.021917808219178082,
          0.021917808219178082,
          0.021917808219178082,
          0.021917808219178082,
          0.021917808219178082,
          0.021917808219178082,
          0.021917808219178082,
          0.021917808219178082,
          0.021917808219178082,
          0.021917808219178082,
          0.021917808219178082,
          0.021917808219178082,
          0.021917808219178082,
          0.021917808219178082,
          0.021917808219178082,
          0.021917808219178082,
          0.021917808219178082,
          0.021917808219178082,
          0.021917808219178082,
          0.021917808219178082,
          0.021917808219178082,
          0.021917808219178082,
          0.021917808219178082,
          0.021917808219178082,
          0.021917808219178082,
          0.021917808219178082,
          0.021917808219178082,
          0.021917808219178082,
          0.021917808219178082,
          0.021917808219178082,
          0.021917808219178082,
          0.021917808219178082,
          0.021917808219178082,
          0.021917808219178082,
          0.021917808219178082,
          0.021917808219178082,
          0.021917808219178082,
          0.021917808219178082,
          0.021917808219178082,
          0.021917808219178082,
          0.021917808219178082,
          0.021917808219178082,
          0.021917808219178082,
          0.021917808219178082,
          0.021917808219178082,
          0.021917808219178082,
          0.021917808219178082,
          0.021917808219178082,
          0.021917808219178082,
          0.021917808219178082,
          0.021917808219178082,
          0.021917808219178082,
          0.021917808219178082,
          0.021917808219178082,
          0.021917808219178082,
          0.021917808219178082,
          0.021917808219178082,
          0.021917808219178082,
          0.021917808219178082,
          0.021917808219178082,
          0.021917808219178082,
          0.021917808219178082,
          0.021917808219178082,
          0.021917808219178082,
          0.021917808219178082,
          0.021917808219178082,
          0.021917808219178082,
          0.021917808219178082,
          0.021917808219178082,
          0.021917808219178082,
          0.021917808219178082,
          0.021917808219178082,
          0.021917808219178082,
          0.021917808219178082,
          0.021917808219178082,
          0.021917808219178082,
          0.021917808219178082,
          0.021917808219178082,
          0.021917808219178082,
          0.021917808219178082,
          0.021917808219178082,
          0.021917808219178082,
          0.021917808219178082,
          0.021917808219178082,
          0.021917808219178082,
          0.021917808219178082,
          0.021917808219178082,
          0.021917808219178082,
          0.021917808219178082,
          0.021917808219178082,
          0.021917808219178082,
          0.021917808219178082,
          0.021917808219178082,
          0.021917808219178082,
          0.021917808219178082,
          0.021917808219178082,
          0.021917808219178082,
          0.021917808219178082,
          0.021917808219178082,
          0.021917808219178082,
          0.021917808219178082,
          0.021917808219178082,
          0.021917808219178082,
          0.021917808219178082,
          0.021917808219178082,
          0.021917808219178082,
          0.021917808219178082,
          0.021917808219178082,
          0.021917808219178082,
          0.021917808219178082,
          0.021917808219178082,
          0.021917808219178082,
          0.021917808219178082,
          0.021917808219178082,
          0.021917808219178082,
          0.021917808219178082,
          0.021917808219178082,
          0.021917808219178082,
          0.021917808219178082,
          0.021917808219178082,
          0.021917808219178082,
          0.021917808219178082,
          0.021917808219178082,
          0.021917808219178082,
          0.021917808219178082,
          0.021917808219178082,
          0.021917808219178082,
          0.021917808219178082,
          0.021917808219178082,
          0.021917808219178082,
          0.021917808219178082,
          0.021917808219178082,
          0.021917808219178082,
          0.021917808219178082,
          0.021917808219178082,
          0.021917808219178082,
          0.021917808219178082,
          0.021917808219178082,
          0.021917808219178082,
          0.021917808219178082,
          0.021917808219178082,
          0.021917808219178082,
          0.021917808219178082,
          0.021917808219178082,
          0.021917808219178082,
          0.021917808219178082,
          0.021917808219178082,
          0.021917808219178082,
          0.021917808219178082,
          0.021917808219178082,
          0.021917808219178082,
          0.021917808219178082,
          0.021917808219178082,
          0.021917808219178082,
          0.021917808219178082,
          0.021917808219178082,
          0.021917808219178082,
          0.021917808219178082,
          0.021917808219178082,
          0.021917808219178082,
          0.021917808219178082,
          0.021917808219178082,
          0.021917808219178082,
          0.021917808219178082,
          0.021917808219178082,
          0.021917808219178082,
          0.021917808219178082,
          0.021917808219178082,
          0.021917808219178082,
          0.021917808219178082,
          0.021917808219178082,
          0.021917808219178082,
          0.021917808219178082,
          0.021917808219178082,
          0.021917808219178082,
          0.021917808219178082,
          0.021917808219178082,
          0.021917808219178082,
          0.021917808219178082,
          0.021917808219178082,
          0.021917808219178082,
          0.021917808219178082,
          0.021917808219178082,
          0.021917808219178082,
          0.021917808219178082,
          0.021917808219178082,
          0.021917808219178082,
          0.021917808219178082,
          0.021917808219178082,
          0.021917808219178082
         ],
         "xaxis": "x",
         "y": [
          2.534014516503943,
          1.6896403735315884,
          1.617503428241708,
          1.2193868912652042,
          1.158145874880063,
          1.0982014225208971,
          1.0686988265448087,
          1.439346972082726,
          0.9819951478698631,
          0.9536758789397887,
          0.9256379357445443,
          0.9130483226458435,
          0.8833654112026962,
          0.8539667507999031,
          0.824847194193062,
          0.8114540710771617,
          0.7828103795651166,
          0.7544325522281023,
          0.726316141006234,
          0.6984568250312918,
          0.6859725431620352,
          0.6585537268539366,
          0.6463736648248342,
          0.617803541126115,
          0.5974107382181296,
          0.568127194758412,
          0.5481396614405911,
          0.5283338291440582,
          0.49973969524772777,
          0.4803291717075014,
          0.46693633924649575,
          null,
          0.422027544548306,
          0.4086686711514904,
          null,
          0.3748871856759362,
          0.39731062116711247,
          null,
          0.2944227066823517,
          0.3826447853361745,
          0.3247641514849878,
          0.36363992864572836,
          0.3048381769593214,
          0.29031745237079526,
          0.30034272038203824,
          0.30619990916816586,
          0.30788111632375254,
          0.34643862952956106,
          0.32117137109755456,
          0.3197756442673804,
          0.3311265560629531,
          0.3694023359078,
          0.34678793632752364,
          0.3782201169792918,
          0.3988781883159901,
          0.41297813273473527,
          0.403999907276914,
          0.4341812178210007,
          0.44855666815048206,
          0.45505024405566846,
          0.45084025822607715,
          0.4953957492428801,
          0.501976191020684,
          0.5085078941734981,
          0.5149911185398279,
          0.5214269068386204,
          0.5526269510415747,
          0.5567092330667812,
          0.5897850726338957,
          0.5678482541588857,
          0.5842519965028156,
          0.6005541762987117,
          0.6167561083227677,
          0.6112517253612171,
          0.6488649503211366,
          0.6432788606890929,
          0.6591492657968543,
          0.6749257802489732,
          0.6906095038258802,
          0.7062017355785947,
          0.7202235903249548,
          0.7340420285736564,
          0.7477810192121277,
          0.720623248005539,
          0.7750250187301788,
          0.7479208486827662,
          0.7614548680881619,
          0.7749138702780832,
          0.7882978674941594,
          0.801608955465411,
          0.814847181509695,
          0.828013557035333,
          0.7803346052717917,
          0.7922133343215003,
          0.8670895757232174,
          0.8157811295834132,
          0.8274715878269372,
          0.8391006740028182,
          0.957559827870965,
          0.8621772996669083,
          0.8736261586664773,
          0.8850162208316918,
          0.8963481068809587,
          0.9076224180050416,
          0.9188397600222261,
          0.9300007231232341,
          1.0174020236425483,
          0.95215578532374,
          0.9631510182494839,
          0.9740921223032684,
          0.9849796389073227,
          0.995814100818251,
          1.0065960323643335,
          1.0173258408434707,
          1.0280043988145835,
          1.0386317747239644,
          1.0492087006067625,
          1.0597355745499843,
          1.0702126977017101,
          1.0806408671759054,
          1.091020927140334,
          1.1013523265805796,
          1.1116360172265345,
          1.121872418704557,
          1.1320620911094421,
          1.1422053685962723,
          1.152302678468016,
          1.162354515698271,
          1.1723611603262736,
          1.1823229657888927,
          1.1922405544048065,
          1.2021143942912518,
          1.2119442913594347,
          1.2217313334358493,
          1.2314755717408215,
          1.241177366349245,
          1.2508371046483433,
          1.2604551513000106,
          1.2700319055008435,
          1.2795677525648452,
          1.2890630573645898,
          1.298518051223784,
          1.3079331737818378,
          1.317308722269409,
          1.3266450453397114,
          1.3350251945100977,
          1.343334135533284,
          1.3516092216088322,
          1.359850166096393,
          1.3680582179370149,
          1.3762330475840507,
          1.3843749426884453,
          1.3924842393969674,
          1.400561203777738,
          1.4086060941878722,
          1.4166191382487072,
          1.424600547976756,
          1.4325508901333217,
          1.4404700345653072,
          1.4483583590633253,
          1.4640435111272572,
          1.5027336673632528,
          1.540699632002657,
          1.5779682946327431,
          1.6145650440368018,
          1.6505138825638075,
          1.6858375613167165,
          1.720557606576978,
          1.754694463306476,
          1.7882675391167862,
          1.8212952809717156,
          1.8537952534929611,
          1.8857841375571438,
          1.9172778733282307,
          1.9482916477210694,
          1.9788399560554348,
          2.0089366417263963,
          2.038594935442221,
          2.0678274932329366,
          2.0966464281121926,
          2.1530892586496844,
          2.208010878632295,
          2.2614912192345034,
          2.3136044384654317,
          2.3644189758770575,
          2.8409835222497524,
          2.785697386719449,
          2.7317126290257363,
          2.6789696984347975,
          2.627412817887364,
          2.5276538742951833,
          2.4793574036847117,
          2.432058312202249,
          2.385716483575346,
          2.3402941048538874,
          2.295755598366799,
          2.252067384251345,
          2.2091977617168257,
          2.1671165541633797,
          2.1257960685456934,
          2.0852089183334215,
          2.04532953227773,
          2.0061341008804154,
          1.9675995772724189,
          1.9297041614448278,
          1.8924271149861223,
          1.855748693083624,
          1.8196500808980467,
          1.7841133943769234,
          1.749121354917867,
          1.7146577734739286,
          1.6807069766116247,
          1.647253908724516,
          1.6142846342223494,
          1.5817851942616648,
          1.5497423538298314,
          1.5181437933286734,
          1.4869773818729044,
          1.4562315511810373,
          1.425895198833941,
          1.3959575517419007,
          1.3664088432798516,
          1.3372384002487412,
          1.3084373402551406,
          1.279996369884173,
          1.2519067063328868,
          1.2241598806711178,
          1.1967478250390564,
          1.169662410221485,
          1.1428963168420208,
          1.1164423347604966,
          1.090292828373369,
          1.064441556519651,
          1.0388816758316044,
          1.0136070333064684,
          0.9886111595340251,
          0.9638885744547878,
          0.9394330956673796,
          0.9152395753520166,
          0.8913022309630934,
          0.9307274380183861,
          0.8441762138769288,
          0.8209774326613453,
          0.798014346560567,
          0.7747144424721815,
          0.7504202858987332,
          0.726363876068945,
          0.7570935946337026,
          0.7332607910925083,
          0.7096573667886091,
          0.6862798222839898,
          0.6631240971852294,
          0.670252500591063,
          0.6453369065817944,
          0.6478498773765854,
          0.5961887952352388,
          0.5989319770440266,
          0.5748056791029414,
          0.5834616219685607,
          0.5422360670310546,
          0.516271395754128,
          0.5202489198134982,
          0.4946293062429335,
          0.4692345050675711,
          0.4728001320090301,
          0.4358860927265624,
          0.4081981795505484,
          0.3896464213141235,
          0.3932875164033811,
          0.37437881283075447,
          0.36149483392972087,
          0.3462677021645212,
          0.34119754493643023,
          0.34150496609909975,
          0.33113649494337766,
          0.3199565312086084,
          0.31180329490895525,
          0.2837099097581676,
          0.3104680164558243,
          0.308196789811967,
          0.3081850906183407,
          0.2797647812849032,
          0.31857622199495134,
          0.23652015685828043,
          0.31117061886871183,
          0.31068726737477215,
          0.24143964559721673,
          0.32244731139988797,
          0.3266466846823272,
          null,
          0.3249646427253442,
          0.3184674579786218,
          0.32177596859939356,
          null,
          null,
          null,
          null,
          null,
          null,
          null,
          null,
          null,
          null,
          null,
          null,
          null,
          null,
          null,
          null,
          null,
          null,
          null,
          null,
          null,
          null,
          null,
          null,
          null,
          null,
          null,
          null,
          null,
          null,
          null,
          null,
          null,
          null,
          null,
          null,
          null,
          null,
          null,
          null,
          null,
          null,
          null
         ],
         "yaxis": "y"
        },
        {
         "hovertemplate": "Symbol=CLU25<br>Time to Expiry=%{x}<br>Implied Volatility=%{y}<extra></extra>",
         "legendgroup": "CLU25",
         "line": {
          "color": "#EF553B",
          "dash": "solid"
         },
         "marker": {
          "symbol": "circle"
         },
         "mode": "markers+lines",
         "name": "CLU25",
         "showlegend": true,
         "type": "scattergl",
         "x": [
          0.10136986301369863,
          0.10136986301369863,
          0.10136986301369863,
          0.10136986301369863,
          0.10136986301369863,
          0.10136986301369863,
          0.10136986301369863,
          0.10136986301369863,
          0.10136986301369863,
          0.10136986301369863,
          0.10136986301369863,
          0.10136986301369863,
          0.10136986301369863,
          0.10136986301369863,
          0.10136986301369863,
          0.10136986301369863,
          0.10136986301369863,
          0.10136986301369863,
          0.10136986301369863,
          0.10136986301369863,
          0.10136986301369863,
          0.10136986301369863,
          0.10136986301369863,
          0.10136986301369863,
          0.10136986301369863,
          0.10136986301369863,
          0.10136986301369863,
          0.10136986301369863,
          0.10136986301369863,
          0.10136986301369863,
          0.10136986301369863,
          0.10136986301369863,
          0.10136986301369863,
          0.10136986301369863,
          0.10136986301369863,
          0.10136986301369863,
          0.10136986301369863,
          0.10136986301369863,
          0.10136986301369863,
          0.10136986301369863,
          0.10136986301369863,
          0.10136986301369863,
          0.10136986301369863,
          0.10136986301369863,
          0.10136986301369863,
          0.10136986301369863,
          0.10136986301369863,
          0.10136986301369863,
          0.10136986301369863,
          0.10136986301369863,
          0.10136986301369863,
          0.10136986301369863,
          0.10136986301369863,
          0.10136986301369863,
          0.10136986301369863,
          0.10136986301369863,
          0.10136986301369863,
          0.10136986301369863,
          0.10136986301369863,
          0.10136986301369863,
          0.10136986301369863,
          0.10136986301369863,
          0.10136986301369863,
          0.10136986301369863,
          0.10136986301369863,
          0.10136986301369863,
          0.10136986301369863,
          0.10136986301369863,
          0.10136986301369863,
          0.10136986301369863,
          0.10136986301369863,
          0.10136986301369863,
          0.10136986301369863,
          0.10136986301369863,
          0.10136986301369863,
          0.10136986301369863,
          0.10136986301369863,
          0.10136986301369863,
          0.10136986301369863,
          0.10136986301369863,
          0.10136986301369863,
          0.10136986301369863,
          0.10136986301369863,
          0.10136986301369863,
          0.10136986301369863,
          0.10136986301369863,
          0.10136986301369863,
          0.10136986301369863,
          0.10136986301369863,
          0.10136986301369863,
          0.10136986301369863,
          0.10136986301369863,
          0.10136986301369863,
          0.10136986301369863,
          0.10136986301369863,
          0.10136986301369863,
          0.10136986301369863,
          0.10136986301369863,
          0.10136986301369863,
          0.10136986301369863,
          0.10136986301369863,
          0.10136986301369863,
          0.10136986301369863,
          0.10136986301369863,
          0.10136986301369863,
          0.10136986301369863,
          0.10136986301369863,
          0.10136986301369863,
          0.10136986301369863,
          0.10136986301369863,
          0.10136986301369863,
          0.10136986301369863,
          0.10136986301369863,
          0.10136986301369863,
          0.10136986301369863,
          0.10136986301369863,
          0.10136986301369863,
          0.10136986301369863,
          0.10136986301369863,
          0.10136986301369863,
          0.10136986301369863,
          0.10136986301369863,
          0.10136986301369863,
          0.10136986301369863,
          0.10136986301369863,
          0.10136986301369863,
          0.10136986301369863,
          0.10136986301369863,
          0.10136986301369863,
          0.10136986301369863,
          0.10136986301369863,
          0.10136986301369863,
          0.10136986301369863,
          0.10136986301369863,
          0.10136986301369863,
          0.10136986301369863,
          0.10136986301369863,
          0.10136986301369863,
          0.10136986301369863,
          0.10136986301369863,
          0.10136986301369863,
          0.10136986301369863,
          0.10136986301369863,
          0.10136986301369863,
          0.10136986301369863,
          0.10136986301369863,
          0.10136986301369863,
          0.10136986301369863,
          0.10136986301369863,
          0.10136986301369863,
          0.10136986301369863,
          0.10136986301369863,
          0.10136986301369863,
          0.10136986301369863,
          0.10136986301369863,
          0.10136986301369863,
          0.10136986301369863,
          0.10136986301369863,
          0.10136986301369863,
          0.10136986301369863,
          0.10136986301369863,
          0.10136986301369863,
          0.10136986301369863,
          0.10136986301369863,
          0.10136986301369863,
          0.10136986301369863,
          0.10136986301369863,
          0.10136986301369863,
          0.10136986301369863,
          0.10136986301369863,
          0.10136986301369863,
          0.10136986301369863,
          0.10136986301369863,
          0.10136986301369863,
          0.10136986301369863,
          0.10136986301369863,
          0.10136986301369863,
          0.10136986301369863,
          0.10136986301369863,
          0.10136986301369863,
          0.10136986301369863,
          0.10136986301369863,
          0.10136986301369863,
          0.10136986301369863,
          0.10136986301369863,
          0.10136986301369863,
          0.10136986301369863,
          0.10136986301369863,
          0.10136986301369863,
          0.10136986301369863,
          0.10136986301369863,
          0.10136986301369863,
          0.10136986301369863,
          0.10136986301369863,
          0.10136986301369863,
          0.10136986301369863,
          0.10136986301369863,
          0.10136986301369863,
          0.10136986301369863,
          0.10136986301369863,
          0.10136986301369863,
          0.10136986301369863,
          0.10136986301369863,
          0.10136986301369863,
          0.10136986301369863,
          0.10136986301369863,
          0.10136986301369863,
          0.10136986301369863,
          0.10136986301369863,
          0.10136986301369863,
          0.10136986301369863,
          0.10136986301369863,
          0.10136986301369863,
          0.10136986301369863,
          0.10136986301369863,
          0.10136986301369863,
          0.10136986301369863,
          0.10136986301369863,
          0.10136986301369863,
          0.10136986301369863,
          0.10136986301369863,
          0.10136986301369863,
          0.10136986301369863,
          0.10136986301369863,
          0.10136986301369863,
          0.10136986301369863,
          0.10136986301369863,
          0.10136986301369863,
          0.10136986301369863,
          0.10136986301369863,
          0.10136986301369863,
          0.10136986301369863,
          0.10136986301369863,
          0.10136986301369863,
          0.10136986301369863,
          0.10136986301369863,
          0.10136986301369863,
          0.10136986301369863,
          0.10136986301369863,
          0.10136986301369863,
          0.10136986301369863,
          0.10136986301369863,
          0.10136986301369863,
          0.10136986301369863,
          0.10136986301369863,
          0.10136986301369863,
          0.10136986301369863,
          0.10136986301369863,
          0.10136986301369863,
          0.10136986301369863,
          0.10136986301369863,
          0.10136986301369863,
          0.10136986301369863,
          0.10136986301369863,
          0.10136986301369863,
          0.10136986301369863,
          0.10136986301369863,
          0.10136986301369863,
          0.10136986301369863,
          0.10136986301369863,
          0.10136986301369863,
          0.10136986301369863,
          0.10136986301369863,
          0.10136986301369863,
          0.10136986301369863,
          0.10136986301369863,
          0.10136986301369863,
          0.10136986301369863,
          0.10136986301369863,
          0.10136986301369863,
          0.10136986301369863,
          0.10136986301369863,
          0.10136986301369863,
          0.10136986301369863,
          0.10136986301369863,
          0.10136986301369863,
          0.10136986301369863,
          0.10136986301369863,
          0.10136986301369863,
          0.10136986301369863,
          0.10136986301369863,
          0.10136986301369863,
          0.10136986301369863,
          0.10136986301369863,
          0.10136986301369863,
          0.10136986301369863,
          0.10136986301369863,
          0.10136986301369863,
          0.10136986301369863,
          0.10136986301369863,
          0.10136986301369863,
          0.10136986301369863,
          0.10136986301369863,
          0.10136986301369863,
          0.10136986301369863,
          0.10136986301369863,
          0.10136986301369863,
          0.10136986301369863,
          0.10136986301369863,
          0.10136986301369863,
          0.10136986301369863,
          0.10136986301369863,
          0.10136986301369863,
          0.10136986301369863,
          0.10136986301369863,
          0.10136986301369863,
          0.10136986301369863,
          0.10136986301369863,
          0.10136986301369863,
          0.10136986301369863,
          0.10136986301369863,
          0.10136986301369863,
          0.10136986301369863,
          0.10136986301369863,
          0.10136986301369863,
          0.10136986301369863,
          0.10136986301369863,
          0.10136986301369863,
          0.10136986301369863,
          0.10136986301369863,
          0.10136986301369863,
          0.10136986301369863,
          0.10136986301369863,
          0.10136986301369863,
          0.10136986301369863,
          0.10136986301369863,
          0.10136986301369863,
          0.10136986301369863,
          0.10136986301369863,
          0.10136986301369863,
          0.10136986301369863,
          0.10136986301369863,
          0.10136986301369863,
          0.10136986301369863,
          0.10136986301369863,
          0.10136986301369863,
          0.10136986301369863
         ],
         "xaxis": "x",
         "y": [
          null,
          null,
          null,
          null,
          null,
          null,
          null,
          null,
          null,
          null,
          null,
          null,
          null,
          0.2730619622177029,
          0.30772677758249456,
          0.5121767947874439,
          0.4456405655642486,
          0.33500829139322036,
          0.3384613763000608,
          0.33948124648478273,
          0.3404866724025936,
          0.3370323163096262,
          0.3358184621864427,
          0.3346203724324311,
          0.3376945672164185,
          0.3304974193402542,
          0.3292745754147808,
          0.3251418562677633,
          0.32681936004787265,
          0.31747511135320894,
          0.31864886341871335,
          0.3156729500994537,
          0.3176735466285193,
          0.3137704949024836,
          0.31310390316808256,
          0.31244582209481886,
          0.3115612598515603,
          0.2711903620173536,
          0.30826863329542875,
          0.30928496589497634,
          0.3084995165286418,
          0.30413621716431966,
          0.321286520499595,
          0.3254519193428129,
          0.2944531082067855,
          0.30362895936170636,
          0.32900020645520994,
          0.3027330944379048,
          0.32821625528567,
          0.3335822838452402,
          0.3191465036024592,
          0.3441471314664023,
          0.3276842103412982,
          0.3413838632355904,
          0.3450117319917059,
          0.3344780431753669,
          0.3563841859334314,
          0.34419748902855934,
          0.3454467578289299,
          0.35550527422444117,
          0.35493147500930267,
          0.3806415041346096,
          0.36648454825111737,
          0.36833154015973096,
          0.37254909662849495,
          0.37673100586668495,
          0.38087806015646347,
          0.384990985369308,
          0.391422969344561,
          0.400152076865375,
          0.41116001431308635,
          0.41076771772906,
          0.4237474009204708,
          0.4192585502103621,
          0.428651093985019,
          0.4379832501846334,
          0.4334808024856721,
          0.45303217927956096,
          0.4484949702470764,
          0.4508121026842567,
          0.4599129903485465,
          0.4655654339856185,
          0.477950452891214,
          0.4936497960312536,
          0.47915842325030134,
          0.48695012366540424,
          0.48923714608988483,
          0.4969504409830453,
          0.5154898477633014,
          0.5068270868318346,
          0.5144205653991234,
          0.5165837492738283,
          0.5402417554623162,
          0.5262230871094414,
          0.539019098027785,
          0.5410799267827827,
          0.5431277215915382,
          0.5504674156699506,
          0.5577670320117298,
          0.5597467032126269,
          0.5669801147214912,
          0.579433094675164,
          0.5813325694021702,
          0.5883053855581464,
          0.5945537710014573,
          0.5915125937430451,
          0.5977169784802603,
          0.6038895584944439,
          0.6008443864899344,
          0.6069741136754153,
          0.6130733046431499,
          0.6191417892972253,
          0.625180047377337,
          0.631188410724436,
          0.6644002968307596,
          0.6340762763427904,
          0.6400157352683683,
          0.6459264189456263,
          0.6518086215012138,
          0.6666280835041533,
          0.6545506281618577,
          0.6603673884180241,
          0.6661568163231996,
          0.6719187075802102,
          0.6776538544086821,
          0.6745230754687088,
          0.6802229040822317,
          0.6858964685661405,
          0.6915434486911931,
          0.6971652490199198,
          0.7027614568250414,
          0.6971650436995859,
          0.7020922687408184,
          0.7069975054561305,
          0.7335803355803976,
          0.7390356923360678,
          0.7215834542504146,
          0.726402632519226,
          0.7145180286822497,
          0.719327696933529,
          0.7241165667610524,
          0.7288848178965242,
          0.7336326519521695,
          0.7383601817260783,
          0.7760785657437117,
          0.7477553868186864,
          0.7524232783199856,
          0.7406979063409929,
          0.7453572257238513,
          0.7499970714262898,
          0.7546177151140893,
          0.7592193158406022,
          0.7638020322702885,
          0.7683660198596411,
          0.7729114586081539,
          0.7774384893651837,
          0.7819471598989783,
          0.7864377652109519,
          0.7748861962234633,
          0.7793693231125929,
          0.7838346729532206,
          0.7882822293087158,
          0.801520421552198,
          0.8389643143220253,
          0.8136593134539218,
          0.832435206998098,
          0.8508702651577579,
          0.8689773065245708,
          0.8548634830091391,
          0.8725958807557739,
          0.8900274776434859,
          0.9071684479411269,
          0.92402843212706,
          0.9406166782368556,
          0.894883534284276,
          0.9095669019474475,
          0.9240248983380922,
          0.9382645756239487,
          0.9522925114513243,
          0.9661149812991837,
          0.9797379821379598,
          0.993167400707258,
          1.0194663071953913,
          1.0450533022095037,
          1.0699660680094263,
          1.094239537888497,
          1.1179059658498847,
          1.3289924840716083,
          1.3026506946532301,
          1.2769445055435067,
          1.2518442249908281,
          1.2273223113849252,
          1.2033526410255466,
          1.1569754479374323,
          1.1125373092930555,
          1.0909962856699558,
          1.0698835113638658,
          1.0491826981168668,
          1.0288779000994652,
          1.008954453737892,
          0.9893984508487867,
          0.9701967248171404,
          0.9513368017415765,
          0.9328068567245427,
          0.9145956698029043,
          0.8966925921062966,
          0.8790875031328944,
          0.8617707687824305,
          0.8447332274068576,
          0.8279661517341498,
          0.8768045799611796,
          0.8590922677074706,
          0.8416484396282016,
          0.8244641317107194,
          0.8075323874023774,
          0.7908459581138106,
          0.77439775745303,
          0.7896235945511936,
          0.7734284611777211,
          0.7574575405663555,
          0.7417049568667058,
          0.7261650155295419,
          0.7412277950393046,
          0.7259111083808888,
          0.71079193700313,
          0.6958594149830261,
          0.6959162072669608,
          0.6801824654572426,
          0.6495454329734469,
          0.6492918754848395,
          0.6490416565192343,
          0.633977227002489,
          0.6190913554598302,
          0.6190410191585138,
          0.6044253855996888,
          0.6044625755750471,
          0.5901026756470384,
          0.584695360859259,
          0.5693421396924826,
          0.5621355059882316,
          0.5470782728258404,
          0.5321835326666643,
          0.5253101032725594,
          0.5185153745215842,
          0.5040213697763696,
          0.49742192352927855,
          0.49089311729678914,
          0.48437219405729237,
          0.4737402696884438,
          0.46302933762490106,
          0.4524319106135189,
          0.44194634102049346,
          0.4407371181778437,
          0.42586957508343637,
          0.4247548387605912,
          0.42396674435659676,
          0.4076312331563981,
          0.40635051551147944,
          0.39027377183777556,
          0.3802585554764873,
          0.3820731654832608,
          0.3746036427430882,
          0.36943197800203914,
          0.355949634024309,
          0.35509489003455097,
          0.35628892101488063,
          0.34785019911393666,
          0.3423665857103803,
          0.3369432045406224,
          0.3632442781082092,
          0.33550474624550997,
          0.35127308002722085,
          0.31631046289806986,
          0.3147626141911771,
          0.31572586946838543,
          0.31197796018061874,
          0.3244867734541342,
          0.3129469763288255,
          0.313352766060619,
          0.31902128849346,
          0.3281127585797402,
          0.33236560367921747,
          0.3297737302407092,
          0.3377141325633943,
          0.3255840460993127,
          0.33831321583909524,
          0.3421092721767563,
          0.34500100951764073,
          0.34571229525074354,
          0.349222693504359,
          0.35402842531577744,
          0.3586337048055506,
          0.3624720795508758,
          0.36528970676835365,
          0.36801118471843935,
          0.37242969874661785,
          0.37852483907752177,
          0.38445781243319976,
          0.3900599888624552,
          0.3942306907768343,
          0.3980954296736176,
          0.3993275086608801,
          0.4055056210385578,
          0.4089744685430513,
          0.4148732540516606,
          0.4232489038557636,
          0.4288203174016227,
          0.4364765403250485,
          0.4384045159899628,
          0.444048564397212,
          0.44959775073892483,
          0.455079821981605,
          0.47097004186976893,
          0.4760630341778481,
          0.4809647551323446,
          0.4946994225837238,
          0.49917063403956585,
          0.5018142830571671,
          0.5109051182674943,
          0.5187458219907436,
          0.5196342228692623,
          0.5273850694469663,
          0.5279194539955349,
          0.5355727535137461,
          0.5356748521255565,
          0.5432309270490472,
          0.5507445700575726,
          0.5502319379427325,
          0.5576573895995633,
          0.5650412451385174,
          0.563901450279784,
          0.5784487398639679,
          0.5866723304167839,
          null,
          null,
          null,
          null
         ],
         "yaxis": "y"
        },
        {
         "hovertemplate": "Symbol=CLV25<br>Time to Expiry=%{x}<br>Implied Volatility=%{y}<extra></extra>",
         "legendgroup": "CLV25",
         "line": {
          "color": "#00cc96",
          "dash": "solid"
         },
         "marker": {
          "symbol": "circle"
         },
         "mode": "markers+lines",
         "name": "CLV25",
         "showlegend": true,
         "type": "scattergl",
         "x": [
          0.1917808219178082,
          0.1917808219178082,
          0.1917808219178082,
          0.1917808219178082,
          0.1917808219178082,
          0.1917808219178082,
          0.1917808219178082,
          0.1917808219178082,
          0.1917808219178082,
          0.1917808219178082,
          0.1917808219178082,
          0.1917808219178082,
          0.1917808219178082,
          0.1917808219178082,
          0.1917808219178082,
          0.1917808219178082,
          0.1917808219178082,
          0.1917808219178082,
          0.1917808219178082,
          0.1917808219178082,
          0.1917808219178082,
          0.1917808219178082,
          0.1917808219178082,
          0.1917808219178082,
          0.1917808219178082,
          0.1917808219178082,
          0.1917808219178082,
          0.1917808219178082,
          0.1917808219178082,
          0.1917808219178082,
          0.1917808219178082,
          0.1917808219178082,
          0.1917808219178082,
          0.1917808219178082,
          0.1917808219178082,
          0.1917808219178082,
          0.1917808219178082,
          0.1917808219178082,
          0.1917808219178082,
          0.1917808219178082,
          0.1917808219178082,
          0.1917808219178082,
          0.1917808219178082,
          0.1917808219178082,
          0.1917808219178082,
          0.1917808219178082,
          0.1917808219178082,
          0.1917808219178082,
          0.1917808219178082,
          0.1917808219178082,
          0.1917808219178082,
          0.1917808219178082,
          0.1917808219178082,
          0.1917808219178082,
          0.1917808219178082,
          0.1917808219178082,
          0.1917808219178082,
          0.1917808219178082,
          0.1917808219178082,
          0.1917808219178082,
          0.1917808219178082,
          0.1917808219178082,
          0.1917808219178082,
          0.1917808219178082,
          0.1917808219178082,
          0.1917808219178082,
          0.1917808219178082,
          0.1917808219178082,
          0.1917808219178082,
          0.1917808219178082,
          0.1917808219178082,
          0.1917808219178082,
          0.1917808219178082,
          0.1917808219178082,
          0.1917808219178082,
          0.1917808219178082,
          0.1917808219178082,
          0.1917808219178082,
          0.1917808219178082,
          0.1917808219178082,
          0.1917808219178082,
          0.1917808219178082,
          0.1917808219178082,
          0.1917808219178082,
          0.1917808219178082,
          0.1917808219178082,
          0.1917808219178082,
          0.1917808219178082,
          0.1917808219178082,
          0.1917808219178082,
          0.1917808219178082,
          0.1917808219178082,
          0.1917808219178082,
          0.1917808219178082,
          0.1917808219178082,
          0.1917808219178082,
          0.1917808219178082,
          0.1917808219178082,
          0.1917808219178082,
          0.1917808219178082,
          0.1917808219178082,
          0.1917808219178082,
          0.1917808219178082,
          0.1917808219178082,
          0.1917808219178082,
          0.1917808219178082,
          0.1917808219178082,
          0.1917808219178082,
          0.1917808219178082,
          0.1917808219178082,
          0.1917808219178082,
          0.1917808219178082,
          0.1917808219178082,
          0.1917808219178082,
          0.1917808219178082,
          0.1917808219178082,
          0.1917808219178082,
          0.1917808219178082,
          0.1917808219178082,
          0.1917808219178082,
          0.1917808219178082,
          0.1917808219178082,
          0.1917808219178082,
          0.1917808219178082,
          0.1917808219178082,
          0.1917808219178082,
          0.1917808219178082,
          0.1917808219178082,
          0.1917808219178082,
          0.1917808219178082,
          0.1917808219178082,
          0.1917808219178082,
          0.1917808219178082,
          0.1917808219178082,
          0.1917808219178082,
          0.1917808219178082,
          0.1917808219178082,
          0.1917808219178082,
          0.1917808219178082,
          0.1917808219178082,
          0.1917808219178082,
          0.1917808219178082,
          0.1917808219178082,
          0.1917808219178082,
          0.1917808219178082,
          0.1917808219178082,
          0.1917808219178082,
          0.1917808219178082,
          0.1917808219178082,
          0.1917808219178082,
          0.1917808219178082,
          0.1917808219178082,
          0.1917808219178082,
          0.1917808219178082,
          0.1917808219178082,
          0.1917808219178082,
          0.1917808219178082,
          0.1917808219178082,
          0.1917808219178082,
          0.1917808219178082,
          0.1917808219178082,
          0.1917808219178082,
          0.1917808219178082,
          0.1917808219178082,
          0.1917808219178082,
          0.1917808219178082,
          0.1917808219178082,
          0.1917808219178082,
          0.1917808219178082,
          0.1917808219178082,
          0.1917808219178082,
          0.1917808219178082,
          0.1917808219178082,
          0.1917808219178082,
          0.1917808219178082,
          0.1917808219178082,
          0.1917808219178082,
          0.1917808219178082,
          0.1917808219178082,
          0.1917808219178082,
          0.1917808219178082,
          0.1917808219178082,
          0.1917808219178082,
          0.1917808219178082,
          0.1917808219178082,
          0.1917808219178082,
          0.1917808219178082,
          0.1917808219178082,
          0.1917808219178082,
          0.1917808219178082,
          0.1917808219178082,
          0.1917808219178082,
          0.1917808219178082,
          0.1917808219178082,
          0.1917808219178082,
          0.1917808219178082,
          0.1917808219178082,
          0.1917808219178082,
          0.1917808219178082,
          0.1917808219178082,
          0.1917808219178082,
          0.1917808219178082,
          0.1917808219178082,
          0.1917808219178082,
          0.1917808219178082,
          0.1917808219178082,
          0.1917808219178082,
          0.1917808219178082,
          0.1917808219178082,
          0.1917808219178082,
          0.1917808219178082,
          0.1917808219178082,
          0.1917808219178082,
          0.1917808219178082,
          0.1917808219178082,
          0.1917808219178082,
          0.1917808219178082,
          0.1917808219178082,
          0.1917808219178082,
          0.1917808219178082,
          0.1917808219178082,
          0.1917808219178082,
          0.1917808219178082,
          0.1917808219178082,
          0.1917808219178082,
          0.1917808219178082,
          0.1917808219178082,
          0.1917808219178082,
          0.1917808219178082,
          0.1917808219178082,
          0.1917808219178082,
          0.1917808219178082,
          0.1917808219178082,
          0.1917808219178082,
          0.1917808219178082,
          0.1917808219178082,
          0.1917808219178082,
          0.1917808219178082,
          0.1917808219178082,
          0.1917808219178082,
          0.1917808219178082,
          0.1917808219178082,
          0.1917808219178082,
          0.1917808219178082,
          0.1917808219178082,
          0.1917808219178082,
          0.1917808219178082,
          0.1917808219178082,
          0.1917808219178082,
          0.1917808219178082,
          0.1917808219178082,
          0.1917808219178082,
          0.1917808219178082,
          0.1917808219178082,
          0.1917808219178082,
          0.1917808219178082,
          0.1917808219178082,
          0.1917808219178082,
          0.1917808219178082,
          0.1917808219178082,
          0.1917808219178082,
          0.1917808219178082,
          0.1917808219178082,
          0.1917808219178082,
          0.1917808219178082,
          0.1917808219178082,
          0.1917808219178082,
          0.1917808219178082,
          0.1917808219178082,
          0.1917808219178082,
          0.1917808219178082,
          0.1917808219178082,
          0.1917808219178082,
          0.1917808219178082,
          0.1917808219178082,
          0.1917808219178082,
          0.1917808219178082,
          0.1917808219178082,
          0.1917808219178082,
          0.1917808219178082,
          0.1917808219178082,
          0.1917808219178082,
          0.1917808219178082,
          0.1917808219178082,
          0.1917808219178082,
          0.1917808219178082,
          0.1917808219178082,
          0.1917808219178082,
          0.1917808219178082,
          0.1917808219178082,
          0.1917808219178082,
          0.1917808219178082,
          0.1917808219178082,
          0.1917808219178082,
          0.1917808219178082,
          0.1917808219178082,
          0.1917808219178082,
          0.1917808219178082,
          0.1917808219178082,
          0.1917808219178082,
          0.1917808219178082,
          0.1917808219178082,
          0.1917808219178082,
          0.1917808219178082,
          0.1917808219178082,
          0.1917808219178082,
          0.1917808219178082,
          0.1917808219178082,
          0.1917808219178082,
          0.1917808219178082,
          0.1917808219178082,
          0.1917808219178082,
          0.1917808219178082,
          0.1917808219178082,
          0.1917808219178082,
          0.1917808219178082,
          0.1917808219178082,
          0.1917808219178082,
          0.1917808219178082,
          0.1917808219178082,
          0.1917808219178082,
          0.1917808219178082,
          0.1917808219178082
         ],
         "xaxis": "x",
         "y": [
          null,
          null,
          null,
          null,
          null,
          null,
          null,
          null,
          null,
          0.2834785845004134,
          0.29265324592807845,
          0.2986953044356611,
          0.30273348444367404,
          0.30139242078897605,
          0.3035741583639093,
          0.30918839900345113,
          0.3060547465860345,
          0.30709572528469214,
          0.3081210211937614,
          0.30861570288056117,
          0.30604440401363026,
          0.305099812170524,
          0.30574845720798954,
          0.3063880130157081,
          0.3048361210494445,
          0.3029084518671401,
          0.3022148021583867,
          0.30273028602504204,
          0.3038227819477907,
          0.3013912528074537,
          0.3009947353031322,
          0.31750553197643777,
          0.3031825762129792,
          0.30242091953286043,
          0.3007975531270877,
          0.31261370836496993,
          0.30205817596597506,
          0.3190182739626814,
          0.31516987544492875,
          0.2964367880909106,
          0.30134275156453194,
          0.30532776034389253,
          0.3084087234725566,
          0.3166171540213994,
          0.3085372064509734,
          0.3096740405461308,
          0.30717137776527054,
          0.3137120988248403,
          0.3336650632294619,
          0.31664865011105703,
          0.31300476693375134,
          0.3218321096901498,
          0.31819612307451567,
          0.33204583026186685,
          0.34271281475693627,
          0.33032096649693987,
          0.3388517256471407,
          0.3331892035231609,
          0.335240119665956,
          0.35126778089322824,
          0.35068108374649787,
          0.3450559157167388,
          0.3495247924308125,
          0.350767838154538,
          0.35368673386204336,
          0.35486824578556897,
          0.367991648979269,
          0.3622959186684154,
          0.37529338819452257,
          0.3696049506346745,
          0.37574083736358954,
          0.37847697956393567,
          0.382863460359268,
          0.3860411759753228,
          0.3951895413210225,
          0.39184847136467876,
          0.39595751903784027,
          0.39756996542389317,
          0.4016293929817848,
          0.40566083543325604,
          0.4096645982518848,
          0.41364177006418845,
          0.41759226783999465,
          0.42151665796519133,
          0.42541534415447263,
          0.4292887185716016,
          0.43554303941481287,
          0.43696096886704383,
          0.443153615544318,
          0.44640025019811697,
          0.4478830357577985,
          0.45322814471758033,
          0.454679209025491,
          0.4561209605063839,
          0.46139318116507533,
          0.4666362953347888,
          0.4642070532383238,
          0.4694092740978076,
          0.47458315315173166,
          0.47593657523730853,
          0.4810632457959763,
          0.4861628219074817,
          0.4874691470425019,
          0.49252305439069,
          0.4975507091464514,
          0.5062957848749207,
          0.5075284723778117,
          0.5050316962313237,
          0.5099718985572725,
          0.5148876296299842,
          0.5197786906343387,
          0.5209555866501664,
          0.5258053193823083,
          0.530631236625944,
          0.5317678272367168,
          0.5362034813264744,
          0.5403893388385841,
          0.5380836155982411,
          0.5422421646880745,
          0.5463808034319876,
          0.5569328062443853,
          0.5481870299856598,
          0.5522796714403639,
          0.5627404419542625,
          0.554040730432612,
          0.5580886547635635,
          0.562117930487512,
          0.5661287409864282,
          0.5638103794029075,
          0.5677965981884554,
          0.5717646520302997,
          0.5819906637552319,
          0.5796479676232652,
          0.577318489828528,
          0.581227819235129,
          0.5851199270635846,
          0.595205782172369,
          0.5928531131471878,
          0.590513363498884,
          0.594349202376007,
          0.5981685361844534,
          0.6019715115978362,
          0.6057582745545285,
          0.6095289694749813,
          0.6071751354252021,
          0.6109247625041848,
          0.6146586570267075,
          0.618376884124428,
          0.62576773804989,
          0.6294401390680636,
          0.6330973071390306,
          0.6304988168989696,
          0.6336951902197037,
          0.6400490787913715,
          0.644235556635509,
          0.6596940979727839,
          0.6635903582811766,
          0.6897425654167091,
          0.6932635728285664,
          0.696715013583054,
          0.7109808205323485,
          0.7249997345871122,
          0.728058533362331,
          0.7414436312191364,
          0.7532465125304773,
          0.742620893964338,
          0.7542081906450592,
          0.7656153604430471,
          0.7768480281176928,
          0.7879115655278145,
          0.7773853504898095,
          0.7882640794450764,
          0.7989856190230717,
          0.8095544431647415,
          0.830251337808829,
          0.820497981623631,
          0.8380930637088705,
          0.8552402786755819,
          0.8719622792824112,
          0.9530420452766291,
          0.9338937035537508,
          0.9152088745496801,
          0.8969647290568066,
          0.8617211376992571,
          0.8280176244222462,
          0.8117028773553816,
          0.7957265298440062,
          0.7800750474144983,
          0.8241974596177473,
          0.8086037300325823,
          0.7933142149955241,
          0.7783119444515759,
          0.7635223034396742,
          0.7483932823799975,
          0.7599140753217565,
          0.7450319800267199,
          0.7304083613622944,
          0.7417914966048368,
          0.727458547332377,
          0.7133653565174105,
          0.6995041903533361,
          0.7097092959526651,
          0.6952329062606079,
          0.680980351532952,
          0.6794905511712022,
          0.6655799369110957,
          0.6642356317826721,
          0.650650737545009,
          0.6494443238266603,
          0.636170608744075,
          0.6350918935737087,
          0.6221148631630455,
          0.6211507133013375,
          0.6084511677312602,
          0.604064718153248,
          0.5906526112969976,
          0.5774154314045765,
          0.5708030704005067,
          0.5642800554184156,
          0.5578448634522591,
          0.5451637527839553,
          0.5389385471897467,
          0.5327943281818734,
          0.520510462874382,
          0.5145623999632314,
          0.5086856349108857,
          0.5028626037880535,
          0.49101554333723946,
          0.48599952739893726,
          0.4769610421874628,
          0.4680305633606902,
          0.4592062532758993,
          0.4541128847566081,
          0.44907833136139974,
          0.4369369398655077,
          0.43562635583603215,
          0.4307694639542498,
          0.4222782090346797,
          0.41387742996105226,
          0.4102026192164697,
          0.40426000614988594,
          0.3937826433906375,
          0.4017107575237264,
          0.38909669891850035,
          0.383378705300221,
          0.3814780789421795,
          0.3739804514572098,
          0.37622485853836213,
          0.3656385507994646,
          0.36153467306235965,
          0.35903003017264373,
          0.35718515413361895,
          0.3515349357259035,
          0.34839037589089,
          0.3452683795309958,
          0.3457840402376236,
          0.3462242220925259,
          0.3405052916875374,
          0.32899335478207925,
          0.3306509206469501,
          0.33326811993319644,
          0.3338086919538583,
          0.33437046391416003,
          0.3318311133018707,
          0.3508635507785562,
          0.32944407644328016,
          0.3304160306472381,
          0.3453540286995202,
          0.33072638570122437,
          0.33034401892263215,
          0.3299218426275521,
          0.33118080359437807,
          0.3331775297218165,
          0.3599483661228243,
          0.3661935967573249,
          0.3348614026911924,
          0.33674747893296936,
          0.33853692446715683,
          0.33925788005124125,
          0.3436226004224656,
          0.34400040424329215,
          0.3453856385909265,
          0.34773203224805727,
          0.3500016220332673,
          0.3532024396267821,
          0.35624805910678026,
          0.35986080447559643,
          0.36173259762757515,
          0.3635280651189238,
          0.36523589990608024,
          0.368173173779805,
          0.37512213767176733,
          0.3790713451843032,
          0.38287551092729094,
          0.38765295403027655,
          0.38837168164126284,
          0.39087345892656095,
          0.3951445083039017,
          0.3974826471626054,
          0.4015928827386584,
          0.4056176192775923,
          0.41341877802503674,
          0.41714868393828936,
          0.4984384432971562,
          0.5081003693007835,
          0.4384392087828241,
          0.4489933680247572,
          0.4523723059892458,
          0.45570964839555894,
          null,
          0.4651640845010144,
          null,
          0.6063008802621455,
          0.49480072919515417,
          0.5001748568734957,
          0.5043984638190939,
          0.5086018654570287,
          0.5138055757622222,
          0.5170247079087145,
          0.5285397993034349,
          0.5290421252397091,
          0.5388860967670281,
          0.0010005000000000005
         ],
         "yaxis": "y"
        },
        {
         "hovertemplate": "Symbol=CLX25<br>Time to Expiry=%{x}<br>Implied Volatility=%{y}<extra></extra>",
         "legendgroup": "CLX25",
         "line": {
          "color": "#ab63fa",
          "dash": "solid"
         },
         "marker": {
          "symbol": "circle"
         },
         "mode": "markers+lines",
         "name": "CLX25",
         "showlegend": true,
         "type": "scattergl",
         "x": [
          0.27123287671232876,
          0.27123287671232876,
          0.27123287671232876,
          0.27123287671232876,
          0.27123287671232876,
          0.27123287671232876,
          0.27123287671232876,
          0.27123287671232876,
          0.27123287671232876,
          0.27123287671232876,
          0.27123287671232876,
          0.27123287671232876,
          0.27123287671232876,
          0.27123287671232876,
          0.27123287671232876,
          0.27123287671232876,
          0.27123287671232876,
          0.27123287671232876,
          0.27123287671232876,
          0.27123287671232876,
          0.27123287671232876,
          0.27123287671232876,
          0.27123287671232876,
          0.27123287671232876,
          0.27123287671232876,
          0.27123287671232876,
          0.27123287671232876,
          0.27123287671232876,
          0.27123287671232876,
          0.27123287671232876,
          0.27123287671232876,
          0.27123287671232876,
          0.27123287671232876,
          0.27123287671232876,
          0.27123287671232876,
          0.27123287671232876,
          0.27123287671232876,
          0.27123287671232876,
          0.27123287671232876,
          0.27123287671232876,
          0.27123287671232876,
          0.27123287671232876,
          0.27123287671232876,
          0.27123287671232876,
          0.27123287671232876,
          0.27123287671232876,
          0.27123287671232876,
          0.27123287671232876,
          0.27123287671232876,
          0.27123287671232876,
          0.27123287671232876,
          0.27123287671232876,
          0.27123287671232876,
          0.27123287671232876,
          0.27123287671232876,
          0.27123287671232876,
          0.27123287671232876,
          0.27123287671232876,
          0.27123287671232876,
          0.27123287671232876,
          0.27123287671232876,
          0.27123287671232876,
          0.27123287671232876,
          0.27123287671232876,
          0.27123287671232876,
          0.27123287671232876,
          0.27123287671232876,
          0.27123287671232876,
          0.27123287671232876,
          0.27123287671232876,
          0.27123287671232876,
          0.27123287671232876,
          0.27123287671232876,
          0.27123287671232876,
          0.27123287671232876,
          0.27123287671232876,
          0.27123287671232876,
          0.27123287671232876,
          0.27123287671232876,
          0.27123287671232876,
          0.27123287671232876,
          0.27123287671232876,
          0.27123287671232876,
          0.27123287671232876,
          0.27123287671232876,
          0.27123287671232876,
          0.27123287671232876,
          0.27123287671232876,
          0.27123287671232876,
          0.27123287671232876,
          0.27123287671232876,
          0.27123287671232876,
          0.27123287671232876,
          0.27123287671232876,
          0.27123287671232876,
          0.27123287671232876,
          0.27123287671232876,
          0.27123287671232876,
          0.27123287671232876,
          0.27123287671232876,
          0.27123287671232876,
          0.27123287671232876,
          0.27123287671232876,
          0.27123287671232876,
          0.27123287671232876,
          0.27123287671232876,
          0.27123287671232876,
          0.27123287671232876,
          0.27123287671232876,
          0.27123287671232876,
          0.27123287671232876,
          0.27123287671232876,
          0.27123287671232876,
          0.27123287671232876,
          0.27123287671232876,
          0.27123287671232876,
          0.27123287671232876,
          0.27123287671232876,
          0.27123287671232876,
          0.27123287671232876,
          0.27123287671232876,
          0.27123287671232876,
          0.27123287671232876,
          0.27123287671232876,
          0.27123287671232876,
          0.27123287671232876,
          0.27123287671232876,
          0.27123287671232876,
          0.27123287671232876,
          0.27123287671232876,
          0.27123287671232876,
          0.27123287671232876,
          0.27123287671232876,
          0.27123287671232876,
          0.27123287671232876,
          0.27123287671232876,
          0.27123287671232876,
          0.27123287671232876,
          0.27123287671232876,
          0.27123287671232876,
          0.27123287671232876,
          0.27123287671232876,
          0.27123287671232876,
          0.27123287671232876,
          0.27123287671232876,
          0.27123287671232876,
          0.27123287671232876,
          0.27123287671232876,
          0.27123287671232876,
          0.27123287671232876,
          0.27123287671232876,
          0.27123287671232876,
          0.27123287671232876,
          0.27123287671232876,
          0.27123287671232876,
          0.27123287671232876,
          0.27123287671232876,
          0.27123287671232876,
          0.27123287671232876,
          0.27123287671232876,
          0.27123287671232876,
          0.27123287671232876,
          0.27123287671232876,
          0.27123287671232876,
          0.27123287671232876,
          0.27123287671232876,
          0.27123287671232876,
          0.27123287671232876,
          0.27123287671232876,
          0.27123287671232876,
          0.27123287671232876,
          0.27123287671232876,
          0.27123287671232876,
          0.27123287671232876,
          0.27123287671232876,
          0.27123287671232876,
          0.27123287671232876,
          0.27123287671232876,
          0.27123287671232876,
          0.27123287671232876,
          0.27123287671232876,
          0.27123287671232876,
          0.27123287671232876,
          0.27123287671232876,
          0.27123287671232876,
          0.27123287671232876,
          0.27123287671232876,
          0.27123287671232876,
          0.27123287671232876,
          0.27123287671232876,
          0.27123287671232876,
          0.27123287671232876,
          0.27123287671232876,
          0.27123287671232876,
          0.27123287671232876,
          0.27123287671232876,
          0.27123287671232876,
          0.27123287671232876,
          0.27123287671232876,
          0.27123287671232876,
          0.27123287671232876,
          0.27123287671232876,
          0.27123287671232876,
          0.27123287671232876,
          0.27123287671232876,
          0.27123287671232876,
          0.27123287671232876,
          0.27123287671232876,
          0.27123287671232876,
          0.27123287671232876,
          0.27123287671232876,
          0.27123287671232876,
          0.27123287671232876,
          0.27123287671232876,
          0.27123287671232876,
          0.27123287671232876,
          0.27123287671232876,
          0.27123287671232876,
          0.27123287671232876,
          0.27123287671232876,
          0.27123287671232876,
          0.27123287671232876,
          0.27123287671232876,
          0.27123287671232876,
          0.27123287671232876,
          0.27123287671232876,
          0.27123287671232876,
          0.27123287671232876,
          0.27123287671232876,
          0.27123287671232876,
          0.27123287671232876,
          0.27123287671232876,
          0.27123287671232876,
          0.27123287671232876,
          0.27123287671232876,
          0.27123287671232876,
          0.27123287671232876,
          0.27123287671232876,
          0.27123287671232876,
          0.27123287671232876,
          0.27123287671232876,
          0.27123287671232876,
          0.27123287671232876,
          0.27123287671232876,
          0.27123287671232876,
          0.27123287671232876,
          0.27123287671232876,
          0.27123287671232876,
          0.27123287671232876,
          0.27123287671232876,
          0.27123287671232876,
          0.27123287671232876,
          0.27123287671232876,
          0.27123287671232876,
          0.27123287671232876,
          0.27123287671232876,
          0.27123287671232876,
          0.27123287671232876,
          0.27123287671232876,
          0.27123287671232876,
          0.27123287671232876,
          0.27123287671232876,
          0.27123287671232876,
          0.27123287671232876,
          0.27123287671232876,
          0.27123287671232876,
          0.27123287671232876,
          0.27123287671232876,
          0.27123287671232876,
          0.27123287671232876,
          0.27123287671232876,
          0.27123287671232876,
          0.27123287671232876,
          0.27123287671232876,
          0.27123287671232876,
          0.27123287671232876,
          0.27123287671232876,
          0.27123287671232876,
          0.27123287671232876,
          0.27123287671232876,
          0.27123287671232876,
          0.27123287671232876,
          0.27123287671232876,
          0.27123287671232876,
          0.27123287671232876,
          0.27123287671232876,
          0.27123287671232876,
          0.27123287671232876,
          0.27123287671232876,
          0.27123287671232876,
          0.27123287671232876,
          0.27123287671232876,
          0.27123287671232876,
          0.27123287671232876,
          0.27123287671232876,
          0.27123287671232876,
          0.27123287671232876,
          0.27123287671232876
         ],
         "xaxis": "x",
         "y": [
          null,
          null,
          null,
          null,
          null,
          null,
          null,
          null,
          null,
          null,
          null,
          null,
          null,
          null,
          null,
          null,
          null,
          null,
          null,
          null,
          null,
          null,
          null,
          null,
          null,
          null,
          null,
          null,
          null,
          null,
          null,
          null,
          null,
          null,
          null,
          null,
          null,
          null,
          0.2976900148741534,
          0.3047959104175375,
          0.29623905636227593,
          0.29000341092264326,
          0.29848488269120155,
          0.30031463379038303,
          0.3002943790710845,
          0.29966081983858023,
          0.2998087872791269,
          0.3007246433965643,
          0.302395021234972,
          0.30404596484672425,
          0.31400995596892756,
          0.30565431440918844,
          0.3069400325103932,
          0.30646427412088895,
          0.308600191170983,
          0.31157837850721504,
          0.3128048714453529,
          0.31517938139301543,
          0.3158318728026614,
          0.32511905263785207,
          0.3181899239969494,
          0.3198854815729262,
          0.3215644628391393,
          0.32428635336698686,
          0.32803822383846143,
          0.33070616187700613,
          0.3330819058220969,
          0.33406454172215977,
          0.3364710205939665,
          0.33742932931504277,
          0.3397999637028988,
          0.34356693206614275,
          0.345892404617791,
          0.35101240930624933,
          0.35749978277283156,
          0.355547701669526,
          0.3591806783182216,
          0.36278651724247046,
          0.3667904726570537,
          0.3681371230966495,
          0.36947275817072056,
          0.37285318478885104,
          0.38236555693244084,
          0.3774999601993538,
          0.380816079110012,
          0.384109560080673,
          0.3934624408274833,
          0.390629958988084,
          0.3978882447789546,
          0.3970640036670409,
          0.4002494631824297,
          0.40341430161702735,
          0.40855177107397433,
          0.4116708979059183,
          0.4147707150110226,
          0.417850697170721,
          0.42288517035111994,
          0.42465161493548964,
          0.42901167365509396,
          0.43015121434596665,
          0.4312833420262888,
          0.4355850214817574,
          0.4366929190882906,
          0.44095457762276785,
          0.4420391099207024,
          0.4462619032322469,
          0.44732348287122736,
          0.45150819412774873,
          0.4525475412336579,
          0.4566950813639278,
          0.45771278230354656,
          0.46182418838230593,
          0.4628205974847454,
          0.4668962615263544,
          0.4709515580934487,
          0.4719133312664712,
          0.4768762229231531,
          0.4808633404434434,
          0.4848312502757965,
          0.48574060768010807,
          0.48967560683223615,
          0.49359221287379174,
          0.4944698840982839,
          0.4983548420203161,
          0.502221619823638,
          0.5013807630378077,
          0.5047488952496257,
          0.5081018518611077,
          0.5114387957493711,
          0.5094717936776113,
          0.5127880551147392,
          0.5160891702369834,
          0.5193752917663641,
          0.5226465729299166,
          0.5206703994061443,
          0.5271589518080908,
          0.530381705936727,
          0.5335902930870572,
          0.5367848463286611,
          0.5347953830583403,
          0.5379713123794502,
          0.541133548583647,
          0.5442822169286927,
          0.5474174407673087,
          0.54542074430135,
          0.5485381989581792,
          0.5516425252320868,
          0.5547338394812763,
          0.5578122562837745,
          0.5558090911604221,
          0.5588703981317711,
          0.5619195482419004,
          0.5649556431994959,
          0.5679797560032551,
          0.568978662683547,
          0.5719743040929717,
          0.581816720024814,
          0.5913249360685517,
          0.6038928911057043,
          0.606858189553408,
          0.6217953854948359,
          0.6336155452901657,
          0.636179345519408,
          0.6476624183478479,
          0.6500481769277087,
          0.6612153814241941,
          0.6722015445261305,
          0.6830133981059469,
          0.6850062385794755,
          0.695540963674482,
          0.7059158353252287,
          0.7060858842724959,
          0.7148983204829973,
          0.7235858356755652,
          0.7232340439786433,
          0.7399935396588642,
          0.7563115265984989,
          0.7554915633792629,
          0.7711746144413779,
          0.8188954710402758,
          0.8029260305334975,
          0.787335173842607,
          0.8020214937693277,
          0.7861601452283199,
          0.7706449469480133,
          0.7405957849419545,
          0.7502415655633929,
          0.7357455676837347,
          0.7215389813556633,
          0.7310870140970325,
          0.7172155097413062,
          0.7036054800471396,
          0.7048017139855627,
          0.6635233180629427,
          0.6616064395047649,
          0.6484569678900751,
          0.6467084508936652,
          0.633907144282562,
          0.632314227936833,
          0.6198427395566891,
          0.618395063822429,
          0.6062362212235255,
          0.6049050754837842,
          0.600362640238922,
          0.5877361278152016,
          0.5811607073607031,
          0.5746853057329764,
          0.562522563531017,
          0.556280051610789,
          0.5501298372697179,
          0.5440677721821537,
          0.5380930545009992,
          0.5322045656170699,
          0.5263947285436564,
          0.5206587120558689,
          0.5149445827456418,
          0.5068561443875451,
          0.49825612471068365,
          0.4897685364564068,
          0.484670327075359,
          0.47638227261765903,
          0.4681993782819453,
          0.4633394377957057,
          0.4585440473589603,
          0.45380763743324126,
          0.45227187645184647,
          0.4444617619736076,
          0.4380508748037444,
          0.4302775812040169,
          0.42053794850302983,
          0.41910903280940714,
          0.41362387676566414,
          0.40820694444714545,
          0.404864696512766,
          0.4015474808134324,
          0.3962633246108625,
          0.39298222070125505,
          0.3875977106243821,
          0.3822760335795861,
          0.3784179458093893,
          0.37600273678123586,
          0.3722148817480078,
          0.3712024919640735,
          0.3697068605369831,
          0.3720872524857602,
          0.36059629162103374,
          0.35769966522883556,
          0.35483262657524467,
          0.3655263582106168,
          0.35117725900454866,
          0.3500945837161327,
          0.34610396191638465,
          0.34474989214143087,
          0.343403599117228,
          0.34204443861692085,
          0.3415086689154256,
          0.34163405975106564,
          0.33969647869035907,
          0.34590497148461663,
          0.3358751893605065,
          0.3328153538346331,
          0.35329605680556714,
          0.33638108093598484,
          0.33236988838493864,
          0.3342043060911703,
          0.3337623325530961,
          0.3340365811747055,
          0.32611894044028417,
          0.3321338685561174,
          0.344513406791294,
          0.337315187964533,
          0.33653608204475594,
          0.3372884586512759,
          0.3379911062418136,
          0.339365195431546,
          0.3414170154948379,
          0.3440273765517243,
          0.34510794655727217,
          0.34529131377643946,
          0.34631672619018633,
          0.3472793042256924,
          0.34906549019998145,
          0.35162431256861343,
          0.35499348311098655,
          0.35728084337300586,
          0.3606406235800291,
          0.3609492469796206,
          0.3634393089520348,
          0.36472815712512385,
          0.3670827583971151,
          0.37268203947182627,
          0.3790371349442991,
          0.40992758848830596,
          0.4770654886762914,
          0.5697261832779872,
          0.5093067960813565,
          0.5157375915168293,
          0.5663039738998605
         ],
         "yaxis": "y"
        },
        {
         "hovertemplate": "Symbol=CLZ25<br>Time to Expiry=%{x}<br>Implied Volatility=%{y}<extra></extra>",
         "legendgroup": "CLZ25",
         "line": {
          "color": "#FFA15A",
          "dash": "solid"
         },
         "marker": {
          "symbol": "circle"
         },
         "mode": "markers+lines",
         "name": "CLZ25",
         "showlegend": true,
         "type": "scattergl",
         "x": [
          0.3589041095890411,
          0.3589041095890411,
          0.3589041095890411,
          0.3589041095890411,
          0.3589041095890411,
          0.3589041095890411,
          0.3589041095890411,
          0.3589041095890411,
          0.3589041095890411,
          0.3589041095890411,
          0.3589041095890411,
          0.3589041095890411,
          0.3589041095890411,
          0.3589041095890411,
          0.3589041095890411,
          0.3589041095890411,
          0.3589041095890411,
          0.3589041095890411,
          0.3589041095890411,
          0.3589041095890411,
          0.3589041095890411,
          0.3589041095890411,
          0.3589041095890411,
          0.3589041095890411,
          0.3589041095890411,
          0.3589041095890411,
          0.3589041095890411,
          0.3589041095890411,
          0.3589041095890411,
          0.3589041095890411,
          0.3589041095890411,
          0.3589041095890411,
          0.3589041095890411,
          0.3589041095890411,
          0.3589041095890411,
          0.3589041095890411,
          0.3589041095890411,
          0.3589041095890411,
          0.3589041095890411,
          0.3589041095890411,
          0.3589041095890411,
          0.3589041095890411,
          0.3589041095890411,
          0.3589041095890411,
          0.3589041095890411,
          0.3589041095890411,
          0.3589041095890411,
          0.3589041095890411,
          0.3589041095890411,
          0.3589041095890411,
          0.3589041095890411,
          0.3589041095890411,
          0.3589041095890411,
          0.3589041095890411,
          0.3589041095890411,
          0.3589041095890411,
          0.3589041095890411,
          0.3589041095890411,
          0.3589041095890411,
          0.3589041095890411,
          0.3589041095890411,
          0.3589041095890411,
          0.3589041095890411,
          0.3589041095890411,
          0.3589041095890411,
          0.3589041095890411,
          0.3589041095890411,
          0.3589041095890411,
          0.3589041095890411,
          0.3589041095890411,
          0.3589041095890411,
          0.3589041095890411,
          0.3589041095890411,
          0.3589041095890411,
          0.3589041095890411,
          0.3589041095890411,
          0.3589041095890411,
          0.3589041095890411,
          0.3589041095890411,
          0.3589041095890411,
          0.3589041095890411,
          0.3589041095890411,
          0.3589041095890411,
          0.3589041095890411,
          0.3589041095890411,
          0.3589041095890411,
          0.3589041095890411,
          0.3589041095890411,
          0.3589041095890411,
          0.3589041095890411,
          0.3589041095890411,
          0.3589041095890411,
          0.3589041095890411,
          0.3589041095890411,
          0.3589041095890411,
          0.3589041095890411,
          0.3589041095890411,
          0.3589041095890411,
          0.3589041095890411,
          0.3589041095890411,
          0.3589041095890411,
          0.3589041095890411,
          0.3589041095890411,
          0.3589041095890411,
          0.3589041095890411,
          0.3589041095890411,
          0.3589041095890411,
          0.3589041095890411,
          0.3589041095890411,
          0.3589041095890411,
          0.3589041095890411,
          0.3589041095890411,
          0.3589041095890411,
          0.3589041095890411,
          0.3589041095890411,
          0.3589041095890411,
          0.3589041095890411,
          0.3589041095890411,
          0.3589041095890411,
          0.3589041095890411,
          0.3589041095890411,
          0.3589041095890411,
          0.3589041095890411,
          0.3589041095890411,
          0.3589041095890411,
          0.3589041095890411,
          0.3589041095890411,
          0.3589041095890411,
          0.3589041095890411,
          0.3589041095890411,
          0.3589041095890411,
          0.3589041095890411,
          0.3589041095890411,
          0.3589041095890411,
          0.3589041095890411,
          0.3589041095890411,
          0.3589041095890411,
          0.3589041095890411,
          0.3589041095890411,
          0.3589041095890411,
          0.3589041095890411,
          0.3589041095890411,
          0.3589041095890411,
          0.3589041095890411,
          0.3589041095890411,
          0.3589041095890411,
          0.3589041095890411,
          0.3589041095890411,
          0.3589041095890411,
          0.3589041095890411,
          0.3589041095890411,
          0.3589041095890411,
          0.3589041095890411,
          0.3589041095890411,
          0.3589041095890411,
          0.3589041095890411,
          0.3589041095890411,
          0.3589041095890411,
          0.3589041095890411,
          0.3589041095890411,
          0.3589041095890411,
          0.3589041095890411,
          0.3589041095890411,
          0.3589041095890411,
          0.3589041095890411,
          0.3589041095890411,
          0.3589041095890411,
          0.3589041095890411,
          0.3589041095890411,
          0.3589041095890411,
          0.3589041095890411,
          0.3589041095890411,
          0.3589041095890411,
          0.3589041095890411,
          0.3589041095890411,
          0.3589041095890411,
          0.3589041095890411,
          0.3589041095890411,
          0.3589041095890411,
          0.3589041095890411,
          0.3589041095890411,
          0.3589041095890411,
          0.3589041095890411,
          0.3589041095890411,
          0.3589041095890411,
          0.3589041095890411,
          0.3589041095890411,
          0.3589041095890411,
          0.3589041095890411,
          0.3589041095890411,
          0.3589041095890411,
          0.3589041095890411,
          0.3589041095890411,
          0.3589041095890411,
          0.3589041095890411,
          0.3589041095890411,
          0.3589041095890411,
          0.3589041095890411,
          0.3589041095890411,
          0.3589041095890411,
          0.3589041095890411,
          0.3589041095890411,
          0.3589041095890411,
          0.3589041095890411,
          0.3589041095890411,
          0.3589041095890411,
          0.3589041095890411,
          0.3589041095890411,
          0.3589041095890411,
          0.3589041095890411,
          0.3589041095890411,
          0.3589041095890411,
          0.3589041095890411,
          0.3589041095890411,
          0.3589041095890411,
          0.3589041095890411,
          0.3589041095890411,
          0.3589041095890411,
          0.3589041095890411,
          0.3589041095890411,
          0.3589041095890411,
          0.3589041095890411,
          0.3589041095890411,
          0.3589041095890411,
          0.3589041095890411,
          0.3589041095890411,
          0.3589041095890411,
          0.3589041095890411,
          0.3589041095890411,
          0.3589041095890411,
          0.3589041095890411,
          0.3589041095890411,
          0.3589041095890411,
          0.3589041095890411,
          0.3589041095890411,
          0.3589041095890411,
          0.3589041095890411,
          0.3589041095890411,
          0.3589041095890411,
          0.3589041095890411,
          0.3589041095890411,
          0.3589041095890411,
          0.3589041095890411,
          0.3589041095890411,
          0.3589041095890411,
          0.3589041095890411,
          0.3589041095890411,
          0.3589041095890411,
          0.3589041095890411,
          0.3589041095890411,
          0.3589041095890411,
          0.3589041095890411,
          0.3589041095890411,
          0.3589041095890411,
          0.3589041095890411,
          0.3589041095890411,
          0.3589041095890411,
          0.3589041095890411,
          0.3589041095890411,
          0.3589041095890411,
          0.3589041095890411,
          0.3589041095890411,
          0.3589041095890411,
          0.3589041095890411,
          0.3589041095890411,
          0.3589041095890411,
          0.3589041095890411,
          0.3589041095890411,
          0.3589041095890411,
          0.3589041095890411,
          0.3589041095890411,
          0.3589041095890411,
          0.3589041095890411,
          0.3589041095890411,
          0.3589041095890411,
          0.3589041095890411,
          0.3589041095890411,
          0.3589041095890411,
          0.3589041095890411,
          0.3589041095890411,
          0.3589041095890411,
          0.3589041095890411,
          0.3589041095890411,
          0.3589041095890411,
          0.3589041095890411,
          0.3589041095890411,
          0.3589041095890411,
          0.3589041095890411,
          0.3589041095890411,
          0.3589041095890411,
          0.3589041095890411,
          0.3589041095890411,
          0.3589041095890411,
          0.3589041095890411,
          0.3589041095890411,
          0.3589041095890411,
          0.3589041095890411,
          0.3589041095890411,
          0.3589041095890411,
          0.3589041095890411,
          0.3589041095890411,
          0.3589041095890411,
          0.3589041095890411,
          0.3589041095890411,
          0.3589041095890411,
          0.3589041095890411,
          0.3589041095890411,
          0.3589041095890411,
          0.3589041095890411,
          0.3589041095890411,
          0.3589041095890411,
          0.3589041095890411,
          0.3589041095890411,
          0.3589041095890411,
          0.3589041095890411,
          0.3589041095890411,
          0.3589041095890411,
          0.3589041095890411,
          0.3589041095890411,
          0.3589041095890411,
          0.3589041095890411,
          0.3589041095890411
         ],
         "xaxis": "x",
         "y": [
          0.0013478685043490075,
          0.0010024872571153616,
          0.001261675804368784,
          0.0013417405016196322,
          0.0013398172480772038,
          0.0013226360987510382,
          0.24119912849606548,
          0.25856187099286954,
          0.2672634919013537,
          0.28811955967294134,
          0.29356826266916164,
          0.29395719948544347,
          0.2943394750178126,
          0.29649919769393673,
          0.2986215683084185,
          0.2983725160896674,
          0.29728459710226796,
          0.2974635438939417,
          0.2988796609164397,
          0.30027325373067937,
          0.3008912806931998,
          0.3000556223604021,
          0.2992319687065609,
          0.2984202962901868,
          0.29948247604618605,
          0.3005289135512062,
          0.2999194596061342,
          0.2986032201112466,
          0.29730531043058056,
          0.29679058881041653,
          0.31374423722855294,
          0.2784052738725276,
          0.2978294480938671,
          0.2984762608312001,
          0.3107099411164211,
          0.2936430173917609,
          0.2936314117009503,
          0.29428895996583093,
          null,
          0.29323380296133816,
          0.2922078607907817,
          0.2911953040819921,
          0.29149023493987525,
          0.2917813449519315,
          0.2978214431579451,
          0.29878947330995526,
          0.29132650207338145,
          0.2907524803237909,
          0.2908601293108089,
          0.2916375415493678,
          0.2924057347201781,
          0.2944906330416262,
          0.2948620472405325,
          0.29366984817397973,
          0.29402118733572025,
          0.2989337169168988,
          0.2954678450443327,
          0.29730719700564245,
          0.29912673249298916,
          0.3009268995981942,
          0.30112014973758244,
          0.30168754949393123,
          0.3003838966940701,
          0.30373240627056525,
          0.3088994540430449,
          0.30665461698407187,
          0.308093945571559,
          0.31499189539407974,
          0.3172875024587925,
          0.32046798548970484,
          0.3202448219453099,
          0.3185989517005709,
          0.3206662121899096,
          0.3214874134748006,
          0.33087153345364256,
          0.32554179404000155,
          0.3311861063154934,
          0.33073646763800274,
          0.33390488445067623,
          0.33704910464838783,
          0.3401692794551007,
          0.3432658476164259,
          0.3451405194378402,
          0.34630087552423816,
          0.34922444764397786,
          0.35036003363985346,
          0.353247081084908,
          0.354357918672785,
          0.35720975311570335,
          0.36004184136219314,
          0.3698277953131113,
          0.3656480073854455,
          0.3684228716690234,
          0.3711790496198277,
          0.3739170557076969,
          0.37663710866066497,
          0.3793394769101893,
          0.3820243991758608,
          0.3863965065585791,
          0.38904294572635967,
          0.39167260323464465,
          0.3942861854509381,
          0.39841968916605264,
          0.39939865599369373,
          0.40037111033697775,
          0.4040681729377042,
          0.4050194529230704,
          0.40868188644433934,
          0.4096126007771653,
          0.4132412704781379,
          0.4141519841352571,
          0.4177479277044333,
          0.4186389335168444,
          0.42307481067069846,
          0.4266068322528884,
          0.42746074693524705,
          0.4309620094763254,
          0.4344457509455872,
          0.4352691568920865,
          0.4387231829666217,
          0.4395293829812704,
          0.4429543273345181,
          0.4463626505245219,
          0.44714012695648936,
          0.4505204032172994,
          0.4538844655597298,
          0.45463448529731654,
          0.45797132848285305,
          0.46129244489682175,
          0.46201582798691143,
          0.4653106430150823,
          0.4685902261154314,
          0.46928805328052325,
          0.4725419624280438,
          0.4757811196840518,
          0.4787814748799657,
          0.47706729121721425,
          0.47987445448705307,
          0.48266902495954184,
          0.48095595606396163,
          0.48373352456905394,
          0.48649882065429384,
          0.4892519624777152,
          0.48753574575047476,
          0.4902725589919869,
          0.4929975369125039,
          0.49571053712895974,
          0.49399177043792986,
          0.4966891902631725,
          0.49937515514331826,
          0.502049769020781,
          0.5047131342615221,
          0.5029878227722832,
          0.5056361305969419,
          0.50827345440549,
          0.5108998907789434,
          0.5091727364213479,
          0.5117845837405806,
          0.5143856607929458,
          0.5169765823703429,
          0.5195568338395548,
          0.5178245469213066,
          0.5254929750232004,
          0.53383047501213,
          0.5419963996820517,
          0.5541663593168956,
          0.5599316615469482,
          0.577841935513347,
          0.5724903237297948,
          0.5746861109059044,
          0.5845877675122101,
          0.5943230535167411,
          0.6167431764415588,
          0.6258231626617603,
          0.6347651686578306,
          0.6449755001996049,
          0.6535718452464547,
          0.6495568698210581,
          0.664213210519233,
          0.6636451203849715,
          0.6776981709493379,
          0.6769457464400386,
          0.6904498537453352,
          0.7658863036538257,
          0.7503760765570561,
          0.7352451334899124,
          0.7436166756975106,
          0.714597602524885,
          0.7229230630744211,
          0.7089862608065234,
          0.6953547182454567,
          0.6985577004104896,
          0.6846417194857868,
          0.6928272163620972,
          0.66845588085599,
          0.6552518182380506,
          0.6423004998136063,
          0.6401139628589653,
          0.6275525999489994,
          0.6255501837105245,
          0.6235855835844379,
          0.6115254738006244,
          0.6097219292491552,
          0.6079096735994233,
          0.5962646246137064,
          0.5900593285576635,
          0.583464747805561,
          0.5715548903997552,
          0.5652209763392743,
          0.5589908934805654,
          0.5475561795971491,
          0.5415641640011326,
          0.5356669455346754,
          0.5298630250691428,
          0.5241494983304685,
          0.518517282012491,
          0.518023323109811,
          0.5123450256898502,
          0.504153819001021,
          0.495984694354157,
          0.49095837865783787,
          0.4829978422919617,
          0.47813374989782215,
          0.47037099808399774,
          0.465663771086016,
          0.46102311571491333,
          0.45643905154418274,
          0.45191551254225326,
          0.45026948113218007,
          0.4444830351918684,
          0.4390400305925391,
          0.43178988719873634,
          0.4264978111504843,
          0.4212740325797077,
          0.41611845387047774,
          0.4128620815835246,
          0.4078155700867434,
          0.4046363648097951,
          0.40322454795803203,
          0.3995492810194943,
          0.3945032638713579,
          0.38951484479850146,
          0.3858589945000914,
          0.38224857968032677,
          0.3786723333075884,
          0.3763722698419309,
          0.37406398533608365,
          0.3723478996055806,
          0.3676375174811659,
          0.3639325424316038,
          0.36122022854331054,
          0.3623088220162953,
          0.36428331762260246,
          0.3559927688469894,
          0.35509834078356334,
          0.3522260130371941,
          0.3462334505596247,
          0.3465021410938656,
          0.3444518894638311,
          0.34315935291356114,
          0.3418544624117506,
          0.3374774465009372,
          0.3403841458868479,
          0.3375873566562409,
          0.3354970915157173,
          0.33341929541554416,
          0.3326768589510184,
          0.33190221986741925,
          0.3317172658704557,
          0.3318429782796047,
          0.32945037630639457,
          0.3382487985155732,
          0.32664598103350473,
          0.3261786023443378,
          0.32630771638547285,
          0.34188633482796427,
          0.3261916508356101,
          0.32690635698417486,
          0.30557345518675827,
          0.3255015589500617,
          0.32542335992406624,
          0.3259476148248275,
          0.3263976976125795,
          0.3280637622110454,
          0.329471488635109,
          0.3290876764749834,
          0.3292191095970686,
          0.32929615931341455,
          0.3300950889377084,
          0.3315842304304443,
          0.33298398715540395,
          0.3350695538899572,
          0.3369914155678418,
          0.3394685602430499,
          0.33988094845790306,
          0.3410254834713149,
          0.34209773448291436,
          0.3431037985963912,
          0.34503262117180516,
          0.3496226188261483,
          0.35125906458990896,
          0.35381248608291543,
          0.35727851930714805,
          0.35951407873414315,
          0.3617668118895277,
          0.36333768399056193,
          0.36762989905013327,
          0.3730085410895365,
          0.3740503089192017,
          0.3827180752058945,
          0.3925663780707426,
          0.39831974041319984,
          0.398165079086868,
          0.4023351496272402,
          0.40434122972006187,
          0.4062841212267586,
          0.4081713364964624,
          0.41343941958531016,
          0.4149432310032286,
          0.42846242514569644,
          0.4323398285280687,
          0.43303593929556716
         ],
         "yaxis": "y"
        },
        {
         "hovertemplate": "Symbol=CLF26<br>Time to Expiry=%{x}<br>Implied Volatility=%{y}<extra></extra>",
         "legendgroup": "CLF26",
         "line": {
          "color": "#19d3f3",
          "dash": "solid"
         },
         "marker": {
          "symbol": "circle"
         },
         "mode": "markers+lines",
         "name": "CLF26",
         "showlegend": true,
         "type": "scattergl",
         "x": [
          0.4383561643835616,
          0.4383561643835616,
          0.4383561643835616,
          0.4383561643835616,
          0.4383561643835616,
          0.4383561643835616,
          0.4383561643835616,
          0.4383561643835616,
          0.4383561643835616,
          0.4383561643835616,
          0.4383561643835616,
          0.4383561643835616,
          0.4383561643835616,
          0.4383561643835616,
          0.4383561643835616,
          0.4383561643835616,
          0.4383561643835616,
          0.4383561643835616,
          0.4383561643835616,
          0.4383561643835616,
          0.4383561643835616,
          0.4383561643835616,
          0.4383561643835616,
          0.4383561643835616,
          0.4383561643835616,
          0.4383561643835616,
          0.4383561643835616,
          0.4383561643835616,
          0.4383561643835616,
          0.4383561643835616,
          0.4383561643835616,
          0.4383561643835616,
          0.4383561643835616,
          0.4383561643835616,
          0.4383561643835616,
          0.4383561643835616,
          0.4383561643835616,
          0.4383561643835616,
          0.4383561643835616,
          0.4383561643835616,
          0.4383561643835616,
          0.4383561643835616,
          0.4383561643835616,
          0.4383561643835616,
          0.4383561643835616,
          0.4383561643835616,
          0.4383561643835616,
          0.4383561643835616,
          0.4383561643835616,
          0.4383561643835616,
          0.4383561643835616,
          0.4383561643835616,
          0.4383561643835616,
          0.4383561643835616,
          0.4383561643835616,
          0.4383561643835616,
          0.4383561643835616,
          0.4383561643835616,
          0.4383561643835616,
          0.4383561643835616,
          0.4383561643835616,
          0.4383561643835616,
          0.4383561643835616,
          0.4383561643835616,
          0.4383561643835616,
          0.4383561643835616,
          0.4383561643835616,
          0.4383561643835616,
          0.4383561643835616,
          0.4383561643835616,
          0.4383561643835616,
          0.4383561643835616,
          0.4383561643835616,
          0.4383561643835616,
          0.4383561643835616,
          0.4383561643835616,
          0.4383561643835616,
          0.4383561643835616,
          0.4383561643835616,
          0.4383561643835616,
          0.4383561643835616,
          0.4383561643835616,
          0.4383561643835616,
          0.4383561643835616,
          0.4383561643835616,
          0.4383561643835616,
          0.4383561643835616,
          0.4383561643835616,
          0.4383561643835616,
          0.4383561643835616,
          0.4383561643835616,
          0.4383561643835616,
          0.4383561643835616,
          0.4383561643835616,
          0.4383561643835616,
          0.4383561643835616,
          0.4383561643835616,
          0.4383561643835616,
          0.4383561643835616,
          0.4383561643835616,
          0.4383561643835616,
          0.4383561643835616,
          0.4383561643835616,
          0.4383561643835616,
          0.4383561643835616,
          0.4383561643835616,
          0.4383561643835616,
          0.4383561643835616,
          0.4383561643835616,
          0.4383561643835616,
          0.4383561643835616,
          0.4383561643835616,
          0.4383561643835616,
          0.4383561643835616,
          0.4383561643835616,
          0.4383561643835616,
          0.4383561643835616,
          0.4383561643835616,
          0.4383561643835616,
          0.4383561643835616,
          0.4383561643835616,
          0.4383561643835616,
          0.4383561643835616,
          0.4383561643835616,
          0.4383561643835616,
          0.4383561643835616,
          0.4383561643835616,
          0.4383561643835616,
          0.4383561643835616,
          0.4383561643835616,
          0.4383561643835616,
          0.4383561643835616,
          0.4383561643835616,
          0.4383561643835616,
          0.4383561643835616,
          0.4383561643835616,
          0.4383561643835616,
          0.4383561643835616,
          0.4383561643835616,
          0.4383561643835616,
          0.4383561643835616,
          0.4383561643835616,
          0.4383561643835616,
          0.4383561643835616,
          0.4383561643835616,
          0.4383561643835616,
          0.4383561643835616,
          0.4383561643835616,
          0.4383561643835616,
          0.4383561643835616,
          0.4383561643835616,
          0.4383561643835616,
          0.4383561643835616,
          0.4383561643835616,
          0.4383561643835616,
          0.4383561643835616,
          0.4383561643835616,
          0.4383561643835616,
          0.4383561643835616,
          0.4383561643835616,
          0.4383561643835616,
          0.4383561643835616,
          0.4383561643835616,
          0.4383561643835616,
          0.4383561643835616,
          0.4383561643835616,
          0.4383561643835616,
          0.4383561643835616,
          0.4383561643835616,
          0.4383561643835616,
          0.4383561643835616,
          0.4383561643835616,
          0.4383561643835616,
          0.4383561643835616,
          0.4383561643835616,
          0.4383561643835616,
          0.4383561643835616,
          0.4383561643835616,
          0.4383561643835616,
          0.4383561643835616,
          0.4383561643835616,
          0.4383561643835616,
          0.4383561643835616,
          0.4383561643835616,
          0.4383561643835616,
          0.4383561643835616,
          0.4383561643835616,
          0.4383561643835616,
          0.4383561643835616,
          0.4383561643835616,
          0.4383561643835616,
          0.4383561643835616,
          0.4383561643835616,
          0.4383561643835616,
          0.4383561643835616,
          0.4383561643835616,
          0.4383561643835616,
          0.4383561643835616,
          0.4383561643835616,
          0.4383561643835616,
          0.4383561643835616,
          0.4383561643835616,
          0.4383561643835616,
          0.4383561643835616,
          0.4383561643835616,
          0.4383561643835616,
          0.4383561643835616,
          0.4383561643835616,
          0.4383561643835616,
          0.4383561643835616,
          0.4383561643835616,
          0.4383561643835616,
          0.4383561643835616,
          0.4383561643835616,
          0.4383561643835616,
          0.4383561643835616,
          0.4383561643835616,
          0.4383561643835616,
          0.4383561643835616,
          0.4383561643835616,
          0.4383561643835616,
          0.4383561643835616,
          0.4383561643835616,
          0.4383561643835616,
          0.4383561643835616,
          0.4383561643835616,
          0.4383561643835616,
          0.4383561643835616,
          0.4383561643835616,
          0.4383561643835616,
          0.4383561643835616,
          0.4383561643835616,
          0.4383561643835616,
          0.4383561643835616,
          0.4383561643835616,
          0.4383561643835616,
          0.4383561643835616,
          0.4383561643835616,
          0.4383561643835616,
          0.4383561643835616,
          0.4383561643835616,
          0.4383561643835616,
          0.4383561643835616,
          0.4383561643835616,
          0.4383561643835616,
          0.4383561643835616,
          0.4383561643835616,
          0.4383561643835616,
          0.4383561643835616,
          0.4383561643835616,
          0.4383561643835616,
          0.4383561643835616,
          0.4383561643835616
         ],
         "xaxis": "x",
         "y": [
          null,
          null,
          null,
          0.001001000000000001,
          null,
          null,
          null,
          null,
          null,
          null,
          null,
          null,
          null,
          null,
          null,
          null,
          null,
          null,
          null,
          null,
          null,
          null,
          null,
          null,
          null,
          null,
          null,
          null,
          null,
          0.28273223577761364,
          0.28120347970787235,
          0.2802901653506739,
          0.2793892036564425,
          0.27263642358099555,
          0.2799542835196244,
          0.2813892626697491,
          0.2809405641939747,
          0.2928252537397667,
          0.27931030409739477,
          0.2788163227339522,
          0.27954295186697803,
          0.2802606066698633,
          0.2815689847698638,
          0.2820405537377547,
          0.28168560831800765,
          0.2813354516402703,
          0.28167643753526395,
          0.28201337128728854,
          0.28302550046187475,
          0.2847016913672487,
          0.2863593725464408,
          0.28849977847810454,
          0.28818866757350486,
          0.28872251149902767,
          0.2892509388870857,
          0.28977337828064353,
          0.2911188158105173,
          0.2957524417689716,
          0.2970547551701108,
          0.29916263673378163,
          0.30206584870832487,
          0.30413063558567566,
          0.303059020523163,
          0.30383784074649306,
          0.30460915260028104,
          0.3064731715174461,
          0.30832061429397484,
          0.3101517303083057,
          0.3119668506839153,
          0.3148501979285171,
          0.3166300587236569,
          0.3237836708716508,
          0.3222907058618432,
          0.3272298589572274,
          0.32786441880934447,
          0.32988867196391647,
          0.3309349459229256,
          0.3335561555945338,
          0.33457920004455094,
          0.3371674722345838,
          0.340724547999157,
          0.34326260645555107,
          0.3457830934800223,
          0.3467364408256439,
          0.3492268405669899,
          0.351700457384291,
          0.35415757565827244,
          0.356598375401533,
          0.35902317319673427,
          0.36295749307148056,
          0.36534700922671515,
          0.3677212362043544,
          0.37008039418627126,
          0.37242469550647095,
          0.376261515034302,
          0.3785729588576907,
          0.3797161634764286,
          0.383024224496698,
          0.3838786390301345,
          0.38472740994044874,
          0.3904148156447159,
          0.38882156252711403,
          0.3920553311266686,
          0.4008749818728107,
          0.40004268737332244,
          0.4102162978269549,
          0.41548578778338074,
          0.4185382121165646,
          0.4192416983126911,
          0.4252814760169799,
          0.42894802675113036,
          0.43257643540678364,
          0.4420086022107586,
          0.4455174752872877,
          0.4512611110922034,
          0.45066678442293917,
          0.45315962137713084,
          0.458112197618163,
          0.4590341910174325,
          0.463914021740772,
          0.46875192491815526,
          0.46720748888868785,
          0.47045387733543537,
          0.4751957206631695,
          0.4775519047087855,
          0.4798984086702895,
          0.47835003166335227,
          0.4806834129235866,
          0.49588601808637156,
          0.5032491192703519,
          0.5142038180695012,
          0.5281394965155938,
          0.5526195744968013,
          0.5644658167642406,
          0.5727445237581987,
          0.5993134585213372,
          0.600525326213608,
          0.6146926028597723,
          0.62729701643561,
          0.6395779812360066,
          0.6387207983881997,
          0.7215161955951132,
          0.6934949624614518,
          0.6979772406492964,
          0.6672663512663976,
          0.6540399409647715,
          0.6513073547146973,
          0.6385309615845819,
          0.6236655706231751,
          0.6094016946488005,
          0.597667397151404,
          0.5956919136546226,
          0.5937392331020188,
          0.5780685768643938,
          0.5715900445420876,
          0.5652276375624385,
          0.5538840696172161,
          0.5477849595650544,
          0.5244055475384009,
          0.5236461356189057,
          0.5180909567523214,
          0.5071251262768525,
          0.5024684599925409,
          0.4819846411743181,
          0.4744215780205205,
          0.47254107550058955,
          0.46515949879449026,
          0.46063055161458405,
          0.4561586135048631,
          0.45175139305303047,
          0.445484845841076,
          0.4402700308615929,
          0.4333301309066882,
          0.42822785669785024,
          0.423195927094182,
          0.4199570725332519,
          0.41504934650710884,
          0.4118989506502297,
          0.40878630755936896,
          0.40736245925957226,
          0.4057779869985327,
          0.39993755158440925,
          0.3963398721703601,
          0.3916041675384159,
          0.38810648233540945,
          0.38582214846306295,
          0.3870302832860003,
          0.3812998169132109,
          0.3790384513808568,
          0.3777745807108198,
          0.3744923682289639,
          0.3709484989671206,
          0.3674456335600304,
          0.36485753312039315,
          0.3622841591142589,
          0.3605867105186501,
          0.35888045205228125,
          0.35879917812850637,
          0.3566929708526006,
          0.35325057368235935,
          0.3505556721279892,
          0.347886258455702,
          0.34662917715206076,
          0.34536186254295187,
          0.3440655402912673,
          0.3440603601896328,
          0.34231402121465765,
          0.3390721525699417,
          0.3371116706702864,
          0.335155107024261,
          0.3338012567279844,
          0.33304396112199436,
          0.3328334559866898,
          0.33190415896546555,
          0.3315728103732154,
          0.32995253037740424,
          0.328337957201469,
          0.3272997210170801,
          0.32680970825120126,
          0.32687330020004285,
          0.32683600029850746,
          0.32784728696360327,
          0.32734834370696,
          0.32605781954139545,
          0.32538014255118625,
          0.3252817387280753,
          0.3276007518563383,
          0.32613198651298475,
          0.3270645429159704,
          0.3284905955007071,
          0.329701566350998,
          0.3295906337694271,
          0.32965503733559864,
          0.3303991347674931,
          0.3310792681041139,
          0.33167835343945856,
          0.3336258802091553,
          0.3347895369614141,
          0.33727102208850973,
          0.3389270835811696,
          0.3411338251249111,
          0.34835224240495233,
          0.37024797248073704,
          0.37324382180446686,
          0.40888839871077665,
          0.4120715289035078,
          0.39800321960127283,
          0.45251936390073094,
          0.4554549157860571,
          0.43444880327131447,
          0.45374730072322095,
          0.4575462220948186,
          0.45889425699931685
         ],
         "yaxis": "y"
        },
        {
         "hovertemplate": "Symbol=CLG26<br>Time to Expiry=%{x}<br>Implied Volatility=%{y}<extra></extra>",
         "legendgroup": "CLG26",
         "line": {
          "color": "#FF6692",
          "dash": "solid"
         },
         "marker": {
          "symbol": "circle"
         },
         "mode": "markers+lines",
         "name": "CLG26",
         "showlegend": true,
         "type": "scattergl",
         "x": [
          0.5178082191780822,
          0.5178082191780822,
          0.5178082191780822,
          0.5178082191780822,
          0.5178082191780822,
          0.5178082191780822,
          0.5178082191780822,
          0.5178082191780822,
          0.5178082191780822,
          0.5178082191780822,
          0.5178082191780822,
          0.5178082191780822,
          0.5178082191780822,
          0.5178082191780822,
          0.5178082191780822,
          0.5178082191780822,
          0.5178082191780822,
          0.5178082191780822,
          0.5178082191780822,
          0.5178082191780822,
          0.5178082191780822,
          0.5178082191780822,
          0.5178082191780822,
          0.5178082191780822,
          0.5178082191780822,
          0.5178082191780822,
          0.5178082191780822,
          0.5178082191780822,
          0.5178082191780822,
          0.5178082191780822,
          0.5178082191780822,
          0.5178082191780822,
          0.5178082191780822,
          0.5178082191780822,
          0.5178082191780822,
          0.5178082191780822,
          0.5178082191780822,
          0.5178082191780822,
          0.5178082191780822,
          0.5178082191780822,
          0.5178082191780822,
          0.5178082191780822,
          0.5178082191780822,
          0.5178082191780822,
          0.5178082191780822,
          0.5178082191780822,
          0.5178082191780822,
          0.5178082191780822,
          0.5178082191780822,
          0.5178082191780822,
          0.5178082191780822,
          0.5178082191780822,
          0.5178082191780822,
          0.5178082191780822,
          0.5178082191780822,
          0.5178082191780822,
          0.5178082191780822,
          0.5178082191780822,
          0.5178082191780822,
          0.5178082191780822,
          0.5178082191780822,
          0.5178082191780822,
          0.5178082191780822,
          0.5178082191780822,
          0.5178082191780822,
          0.5178082191780822,
          0.5178082191780822,
          0.5178082191780822,
          0.5178082191780822,
          0.5178082191780822,
          0.5178082191780822,
          0.5178082191780822,
          0.5178082191780822,
          0.5178082191780822,
          0.5178082191780822,
          0.5178082191780822,
          0.5178082191780822,
          0.5178082191780822,
          0.5178082191780822,
          0.5178082191780822,
          0.5178082191780822,
          0.5178082191780822,
          0.5178082191780822,
          0.5178082191780822,
          0.5178082191780822,
          0.5178082191780822,
          0.5178082191780822,
          0.5178082191780822,
          0.5178082191780822,
          0.5178082191780822,
          0.5178082191780822,
          0.5178082191780822,
          0.5178082191780822,
          0.5178082191780822,
          0.5178082191780822,
          0.5178082191780822,
          0.5178082191780822,
          0.5178082191780822,
          0.5178082191780822,
          0.5178082191780822,
          0.5178082191780822,
          0.5178082191780822,
          0.5178082191780822,
          0.5178082191780822,
          0.5178082191780822,
          0.5178082191780822,
          0.5178082191780822,
          0.5178082191780822,
          0.5178082191780822,
          0.5178082191780822,
          0.5178082191780822,
          0.5178082191780822,
          0.5178082191780822,
          0.5178082191780822,
          0.5178082191780822,
          0.5178082191780822,
          0.5178082191780822,
          0.5178082191780822,
          0.5178082191780822,
          0.5178082191780822,
          0.5178082191780822,
          0.5178082191780822,
          0.5178082191780822,
          0.5178082191780822,
          0.5178082191780822,
          0.5178082191780822,
          0.5178082191780822,
          0.5178082191780822,
          0.5178082191780822,
          0.5178082191780822,
          0.5178082191780822,
          0.5178082191780822,
          0.5178082191780822,
          0.5178082191780822,
          0.5178082191780822,
          0.5178082191780822,
          0.5178082191780822,
          0.5178082191780822,
          0.5178082191780822,
          0.5178082191780822,
          0.5178082191780822,
          0.5178082191780822,
          0.5178082191780822,
          0.5178082191780822,
          0.5178082191780822,
          0.5178082191780822,
          0.5178082191780822,
          0.5178082191780822,
          0.5178082191780822,
          0.5178082191780822,
          0.5178082191780822,
          0.5178082191780822,
          0.5178082191780822,
          0.5178082191780822,
          0.5178082191780822,
          0.5178082191780822,
          0.5178082191780822,
          0.5178082191780822,
          0.5178082191780822,
          0.5178082191780822,
          0.5178082191780822,
          0.5178082191780822,
          0.5178082191780822,
          0.5178082191780822,
          0.5178082191780822,
          0.5178082191780822,
          0.5178082191780822,
          0.5178082191780822,
          0.5178082191780822,
          0.5178082191780822,
          0.5178082191780822,
          0.5178082191780822,
          0.5178082191780822,
          0.5178082191780822,
          0.5178082191780822,
          0.5178082191780822,
          0.5178082191780822,
          0.5178082191780822,
          0.5178082191780822,
          0.5178082191780822,
          0.5178082191780822,
          0.5178082191780822,
          0.5178082191780822,
          0.5178082191780822,
          0.5178082191780822,
          0.5178082191780822,
          0.5178082191780822,
          0.5178082191780822,
          0.5178082191780822,
          0.5178082191780822,
          0.5178082191780822,
          0.5178082191780822,
          0.5178082191780822,
          0.5178082191780822,
          0.5178082191780822,
          0.5178082191780822,
          0.5178082191780822,
          0.5178082191780822,
          0.5178082191780822,
          0.5178082191780822,
          0.5178082191780822,
          0.5178082191780822,
          0.5178082191780822,
          0.5178082191780822,
          0.5178082191780822,
          0.5178082191780822
         ],
         "xaxis": "x",
         "y": [
          null,
          null,
          null,
          null,
          null,
          null,
          null,
          null,
          null,
          null,
          null,
          null,
          null,
          null,
          null,
          null,
          null,
          null,
          null,
          null,
          null,
          null,
          null,
          null,
          null,
          null,
          null,
          null,
          null,
          null,
          null,
          null,
          0.27268782529976826,
          0.2712969151783024,
          0.270474190393959,
          0.27020720806979653,
          0.2699439212479534,
          0.27075822716424186,
          0.2715615772366908,
          0.27061831522331375,
          0.2696038849525692,
          0.26916929601316186,
          0.2687402170698171,
          0.2688758081278179,
          0.26956453021292237,
          0.2707957930335939,
          0.2716216810025591,
          0.2706840471983301,
          0.27039374979133074,
          0.2707384158998126,
          0.27107883824215295,
          0.27298766190030116,
          0.2745422713194262,
          0.27607934060744393,
          0.276774007596062,
          0.27652230026612534,
          0.2770413135153253,
          0.2775544649739579,
          0.27882160773485626,
          0.2800752361328106,
          0.2813156503273557,
          0.28329209520763515,
          0.2852491077141276,
          0.2871868529419844,
          0.28926237938370913,
          0.29000969042512986,
          0.2907494589409139,
          0.2914818898079104,
          0.29829885771605213,
          0.2999652393680866,
          0.30260070783978166,
          0.30423428366067373,
          0.30683104673032247,
          0.309407420684927,
          0.3152115662113469,
          0.31762477781363263,
          0.31858266262562795,
          0.31953276539935627,
          0.3219014088795794,
          0.3242533464230944,
          0.3274923645005731,
          0.3297986823240802,
          0.33208905218392376,
          0.33296172783309,
          0.3352246797263813,
          0.337472397452561,
          0.3397051184787392,
          0.34192320011365485,
          0.3455102374862664,
          0.34986737898307374,
          0.36076605125851646,
          0.3637844110249135,
          0.36899937315782844,
          0.3675657147211409,
          0.36910897789601876,
          0.3728113589549927,
          0.37647054320454065,
          0.3793672836774052,
          0.38295864424145803,
          0.39282853275278845,
          0.3962772904690505,
          0.4024365129470831,
          0.41505990290297057,
          0.42092517934153545,
          0.4304445172076013,
          0.43715819651698906,
          0.4357701070803858,
          0.46442846780874514,
          0.525037967418673,
          0.5416379315135302,
          0.5656248280890475,
          0.6253926791554998,
          0.5575921558916265,
          0.5513638039984409,
          0.5452503147580069,
          0.5392477150304699,
          0.5333545561611128,
          0.5218835827540604,
          0.4915254066292507,
          0.4791539477073779,
          0.4698288972967884,
          0.45816920636686476,
          0.44943596662311514,
          0.4477278469165348,
          0.44600134963199106,
          0.441564807599971,
          0.43488971527147874,
          0.4298972490377464,
          0.42497637522389253,
          0.42012491472492436,
          0.41697492579236495,
          0.41224707280152995,
          0.40918416329799157,
          0.4061608842976255,
          0.40474253085678275,
          0.40172552207198564,
          0.3989401157460662,
          0.395465584545097,
          0.39091740640761874,
          0.38754224202754706,
          0.38420974143692777,
          0.382007554428625,
          0.37982379094165736,
          0.3776579608561104,
          0.3765407624256297,
          0.37510679550959686,
          0.3708738303789523,
          0.3675147748074394,
          0.3650219367833806,
          0.36255344916991544,
          0.36009838704569963,
          0.3584683105935316,
          0.3568309647291108,
          0.35449177590391334,
          0.3512384071103227,
          0.3486888818247994,
          0.34616283666739583,
          0.3436510990426291,
          0.34244940939118046,
          0.3405999298416969,
          0.33999216734860943,
          0.33930428496770926,
          0.3375692241946411,
          0.3345512136430247,
          0.33213921857680595,
          0.3303135984044027,
          0.32904346436580134,
          0.3277675639504336,
          0.3275748036791735,
          0.32730119977774275,
          0.32665922570322625,
          0.32460553976638185,
          0.32256031531797785,
          0.3216090816854738,
          0.320625113742769,
          0.3196095501112697,
          0.3196409693702891,
          0.32011529544949385,
          0.32045639109464796,
          0.31990159374929816,
          0.3187206281181814,
          0.3180898220110515,
          0.3174201350513372,
          0.3172600798955195,
          0.3176270060004449,
          0.3184795349742765,
          0.320397735730062,
          0.32125072852373693,
          0.3213297588001525,
          0.3225606985437574,
          0.3257918018619576,
          0.3280020420719615,
          0.336373124630318,
          0.33704946281038306,
          0.3407143608502324,
          0.35680225898705525,
          0.36268404367560614,
          0.3789671841194112,
          0.38075606518868943,
          0.38548972520270813,
          0.39282776525630425,
          0.40354998108346296,
          0.40607324860827393,
          0.41072083336169146,
          0.43024740450978616,
          0.4781063462784843
         ],
         "yaxis": "y"
        },
        {
         "hovertemplate": "Symbol=CLH26<br>Time to Expiry=%{x}<br>Implied Volatility=%{y}<extra></extra>",
         "legendgroup": "CLH26",
         "line": {
          "color": "#B6E880",
          "dash": "solid"
         },
         "marker": {
          "symbol": "circle"
         },
         "mode": "markers+lines",
         "name": "CLH26",
         "showlegend": true,
         "type": "scattergl",
         "x": [
          0.6109589041095891,
          0.6109589041095891,
          0.6109589041095891,
          0.6109589041095891,
          0.6109589041095891,
          0.6109589041095891,
          0.6109589041095891,
          0.6109589041095891,
          0.6109589041095891,
          0.6109589041095891,
          0.6109589041095891,
          0.6109589041095891,
          0.6109589041095891,
          0.6109589041095891,
          0.6109589041095891,
          0.6109589041095891,
          0.6109589041095891,
          0.6109589041095891,
          0.6109589041095891,
          0.6109589041095891,
          0.6109589041095891,
          0.6109589041095891,
          0.6109589041095891,
          0.6109589041095891,
          0.6109589041095891,
          0.6109589041095891,
          0.6109589041095891,
          0.6109589041095891,
          0.6109589041095891,
          0.6109589041095891,
          0.6109589041095891,
          0.6109589041095891,
          0.6109589041095891,
          0.6109589041095891,
          0.6109589041095891,
          0.6109589041095891,
          0.6109589041095891,
          0.6109589041095891,
          0.6109589041095891,
          0.6109589041095891,
          0.6109589041095891,
          0.6109589041095891,
          0.6109589041095891,
          0.6109589041095891,
          0.6109589041095891,
          0.6109589041095891,
          0.6109589041095891,
          0.6109589041095891,
          0.6109589041095891,
          0.6109589041095891,
          0.6109589041095891,
          0.6109589041095891,
          0.6109589041095891,
          0.6109589041095891,
          0.6109589041095891,
          0.6109589041095891,
          0.6109589041095891,
          0.6109589041095891,
          0.6109589041095891,
          0.6109589041095891,
          0.6109589041095891,
          0.6109589041095891,
          0.6109589041095891,
          0.6109589041095891,
          0.6109589041095891,
          0.6109589041095891,
          0.6109589041095891,
          0.6109589041095891,
          0.6109589041095891,
          0.6109589041095891,
          0.6109589041095891,
          0.6109589041095891,
          0.6109589041095891,
          0.6109589041095891,
          0.6109589041095891,
          0.6109589041095891,
          0.6109589041095891,
          0.6109589041095891,
          0.6109589041095891,
          0.6109589041095891,
          0.6109589041095891,
          0.6109589041095891,
          0.6109589041095891,
          0.6109589041095891,
          0.6109589041095891,
          0.6109589041095891,
          0.6109589041095891,
          0.6109589041095891,
          0.6109589041095891,
          0.6109589041095891,
          0.6109589041095891,
          0.6109589041095891,
          0.6109589041095891,
          0.6109589041095891,
          0.6109589041095891,
          0.6109589041095891,
          0.6109589041095891,
          0.6109589041095891,
          0.6109589041095891,
          0.6109589041095891,
          0.6109589041095891,
          0.6109589041095891,
          0.6109589041095891,
          0.6109589041095891,
          0.6109589041095891,
          0.6109589041095891,
          0.6109589041095891,
          0.6109589041095891,
          0.6109589041095891,
          0.6109589041095891,
          0.6109589041095891,
          0.6109589041095891,
          0.6109589041095891,
          0.6109589041095891,
          0.6109589041095891,
          0.6109589041095891,
          0.6109589041095891,
          0.6109589041095891,
          0.6109589041095891,
          0.6109589041095891,
          0.6109589041095891,
          0.6109589041095891,
          0.6109589041095891,
          0.6109589041095891,
          0.6109589041095891,
          0.6109589041095891,
          0.6109589041095891,
          0.6109589041095891,
          0.6109589041095891,
          0.6109589041095891,
          0.6109589041095891,
          0.6109589041095891,
          0.6109589041095891,
          0.6109589041095891,
          0.6109589041095891,
          0.6109589041095891,
          0.6109589041095891,
          0.6109589041095891,
          0.6109589041095891,
          0.6109589041095891,
          0.6109589041095891,
          0.6109589041095891,
          0.6109589041095891,
          0.6109589041095891,
          0.6109589041095891,
          0.6109589041095891,
          0.6109589041095891,
          0.6109589041095891,
          0.6109589041095891,
          0.6109589041095891,
          0.6109589041095891,
          0.6109589041095891,
          0.6109589041095891,
          0.6109589041095891,
          0.6109589041095891,
          0.6109589041095891,
          0.6109589041095891,
          0.6109589041095891,
          0.6109589041095891,
          0.6109589041095891,
          0.6109589041095891,
          0.6109589041095891,
          0.6109589041095891,
          0.6109589041095891,
          0.6109589041095891,
          0.6109589041095891,
          0.6109589041095891,
          0.6109589041095891,
          0.6109589041095891,
          0.6109589041095891,
          0.6109589041095891,
          0.6109589041095891,
          0.6109589041095891,
          0.6109589041095891,
          0.6109589041095891,
          0.6109589041095891,
          0.6109589041095891,
          0.6109589041095891,
          0.6109589041095891,
          0.6109589041095891,
          0.6109589041095891,
          0.6109589041095891,
          0.6109589041095891,
          0.6109589041095891,
          0.6109589041095891,
          0.6109589041095891,
          0.6109589041095891,
          0.6109589041095891,
          0.6109589041095891,
          0.6109589041095891,
          0.6109589041095891
         ],
         "xaxis": "x",
         "y": [
          null,
          null,
          null,
          null,
          null,
          null,
          null,
          null,
          null,
          null,
          null,
          null,
          null,
          null,
          null,
          null,
          null,
          null,
          null,
          null,
          null,
          0.2653751970571921,
          0.26408759162285844,
          0.2628183127695291,
          0.2620734987872931,
          0.26184154482783145,
          0.26161289447098207,
          0.2618826372392528,
          0.26264052624716416,
          0.2618344378560916,
          0.2609211447980125,
          0.26002060660211196,
          0.25965049945757407,
          0.2597996458036843,
          0.2604577387443975,
          0.2611073514323898,
          0.26225277976519507,
          0.2614691181833033,
          0.26122870721145286,
          0.2609915391109126,
          0.26075740035857664,
          0.26109932011648873,
          0.2620068121481404,
          0.2629029035481392,
          0.26435173255664174,
          0.2657838567390176,
          0.2657940091055525,
          0.2655986569300813,
          0.26610623712905873,
          0.26660747341059626,
          0.2677959795315003,
          0.26828220211748927,
          0.2701343021566216,
          0.27128468683453016,
          0.27310242701317694,
          0.2749019402991099,
          0.2770061255739003,
          0.27772035343342993,
          0.27912668049331746,
          0.2798191939648469,
          0.28299269460217125,
          0.2861084005943985,
          0.2900599848448605,
          0.2939455110131984,
          0.2963055319134671,
          0.2986470188966884,
          0.3000896137395447,
          0.3041130500571389,
          0.3080397502475921,
          0.3131503090574176,
          0.3173418006381204,
          0.32147541929220597,
          0.3235212801693353,
          0.3255534819783676,
          0.3295778070631363,
          0.3315701894239684,
          0.33551663892641426,
          0.33870959611985046,
          0.34064862414021035,
          0.3414387597752544,
          0.3449389129173144,
          0.34567541062832574,
          0.35784373220036914,
          0.35656143539414137,
          0.35986761175015525,
          0.3605334455868719,
          0.363135907898121,
          0.3695631934398679,
          0.3727237890113291,
          0.38389607596799497,
          0.3888036833929348,
          0.39178466865980466,
          0.39473534118932346,
          0.4024063570902044,
          0.4075615792510923,
          0.4103905642799315,
          0.43091282079943116,
          0.44940967369305,
          0.4802487945630067,
          0.5776687571035564,
          0.5644733400934439,
          0.5560203541274729,
          0.5497300866687219,
          0.5269763412321995,
          0.5155400396372929,
          0.5089715633218552,
          0.50357207126571,
          0.4982649049819868,
          0.49732941569723177,
          0.4842057048209654,
          0.4794419011014252,
          0.46759852194454554,
          0.4630893462457367,
          0.4586542192358839,
          0.43794952726649655,
          0.43315937643426333,
          0.42831935429467366,
          0.42355063316616637,
          0.41885274941842554,
          0.41576860633978613,
          0.41119181391780507,
          0.4081958218193893,
          0.4052421011311038,
          0.4038076979696866,
          0.4008758469736594,
          0.3946611200859764,
          0.3913434505759772,
          0.38702131185018784,
          0.38379924156366274,
          0.38165075732029474,
          0.37849139072708937,
          0.3763938493291578,
          0.3753031758309729,
          0.3741783443104974,
          0.3724744810661105,
          0.36845493682170316,
          0.3652649077006522,
          0.3628838099945335,
          0.35976172703129317,
          0.358181388714517,
          0.3558605546483342,
          0.3550431898955348,
          0.3534463605564543,
          0.35248455845607735,
          0.3503021004112064,
          0.35224416556133864,
          0.34486316504302267,
          0.34248902822061367,
          0.34072766297649126,
          0.33897854428831437,
          0.33782235859728893,
          0.3366207464834743,
          0.33593599114500605,
          0.3339069518769235,
          0.33163758593890863,
          0.32883710170224256,
          0.32712871899630425,
          0.3254041976134575,
          0.32421389442765847,
          0.32298532781560585,
          0.32222645989146986,
          0.32189251468381175,
          0.32087929400605364,
          0.3189854581037806,
          0.31708570486889964,
          0.3156842382764232,
          0.31476242784010167,
          0.3138168949794356,
          0.31381816711160126,
          0.3137382164737804,
          0.3140413909631893,
          0.31396851228531614,
          0.31235120777873926,
          0.31123987229839245,
          0.31062573723574244,
          0.3104874710102793,
          0.3103080241029704,
          0.31058007407001753,
          0.3112780432869218,
          0.31336297235182137,
          0.3136537956107509,
          0.3130933861521556,
          0.3130845325576898,
          0.3160953681439429,
          0.316951309146392,
          0.32021655424575995,
          0.32814191781017155,
          0.342263651676062,
          0.34638229610169147,
          0.35914608168914597,
          0.37998677690102284
         ],
         "yaxis": "y"
        },
        {
         "hovertemplate": "Symbol=CLJ26<br>Time to Expiry=%{x}<br>Implied Volatility=%{y}<extra></extra>",
         "legendgroup": "CLJ26",
         "line": {
          "color": "#FF97FF",
          "dash": "solid"
         },
         "marker": {
          "symbol": "circle"
         },
         "mode": "markers+lines",
         "name": "CLJ26",
         "showlegend": true,
         "type": "scattergl",
         "x": [
          0.6876712328767123,
          0.6876712328767123,
          0.6876712328767123,
          0.6876712328767123,
          0.6876712328767123,
          0.6876712328767123,
          0.6876712328767123,
          0.6876712328767123,
          0.6876712328767123,
          0.6876712328767123,
          0.6876712328767123,
          0.6876712328767123,
          0.6876712328767123,
          0.6876712328767123,
          0.6876712328767123,
          0.6876712328767123,
          0.6876712328767123,
          0.6876712328767123,
          0.6876712328767123,
          0.6876712328767123,
          0.6876712328767123,
          0.6876712328767123,
          0.6876712328767123,
          0.6876712328767123,
          0.6876712328767123,
          0.6876712328767123,
          0.6876712328767123,
          0.6876712328767123,
          0.6876712328767123,
          0.6876712328767123,
          0.6876712328767123,
          0.6876712328767123,
          0.6876712328767123,
          0.6876712328767123,
          0.6876712328767123,
          0.6876712328767123,
          0.6876712328767123,
          0.6876712328767123,
          0.6876712328767123,
          0.6876712328767123,
          0.6876712328767123,
          0.6876712328767123,
          0.6876712328767123,
          0.6876712328767123,
          0.6876712328767123,
          0.6876712328767123,
          0.6876712328767123,
          0.6876712328767123,
          0.6876712328767123,
          0.6876712328767123,
          0.6876712328767123,
          0.6876712328767123,
          0.6876712328767123,
          0.6876712328767123,
          0.6876712328767123,
          0.6876712328767123,
          0.6876712328767123,
          0.6876712328767123,
          0.6876712328767123,
          0.6876712328767123
         ],
         "xaxis": "x",
         "y": [
          0.2617764970017607,
          0.264056657265574,
          0.2576648347780082,
          0.25744685193153344,
          0.25575437555318337,
          0.2543963535187762,
          0.2545469940386858,
          0.25564609990426634,
          0.25563557689163857,
          0.2548758243912415,
          0.2541262225061996,
          0.2546171441760442,
          0.2563460493053616,
          0.2605592257365424,
          0.2623149240962753,
          0.2634146111637648,
          0.26513713804591066,
          0.26684220681281107,
          0.2675715238630044,
          0.26896028405467515,
          0.2713558932285509,
          0.27183703551183946,
          0.2748282666947331,
          0.29132504386496194,
          0.2921890097328317,
          0.30078242100719577,
          0.3252745683783627,
          0.3638542228943188,
          0.38138986317008955,
          0.44061886482328305,
          0.5099962493915998,
          0.5034048709361622,
          0.485321556342129,
          0.45541313947179685,
          0.44688251317309696,
          0.4368573637820854,
          0.4344681797653638,
          0.42647451391787616,
          0.41722709205288927,
          0.39954247690307865,
          0.39031718015662786,
          0.3871252275006355,
          0.37572270358600945,
          0.37463583317337457,
          0.3725731027316569,
          0.369018690246856,
          0.3621088617899565,
          0.3522350243941816,
          0.3427051020865702,
          0.3404232070037485,
          0.33873210137996196,
          0.3353599295279141,
          0.33412260014403383,
          0.3358553303835012,
          0.32586490844795757,
          0.31951326648312384,
          0.3129999682500424,
          0.3099489454125663,
          0.30685300162036055,
          0.3072761509075418
         ],
         "yaxis": "y"
        },
        {
         "hovertemplate": "Symbol=CLK26<br>Time to Expiry=%{x}<br>Implied Volatility=%{y}<extra></extra>",
         "legendgroup": "CLK26",
         "line": {
          "color": "#FECB52",
          "dash": "solid"
         },
         "marker": {
          "symbol": "circle"
         },
         "mode": "markers+lines",
         "name": "CLK26",
         "showlegend": true,
         "type": "scattergl",
         "x": [
          0.7698630136986301,
          0.7698630136986301,
          0.7698630136986301,
          0.7698630136986301,
          0.7698630136986301,
          0.7698630136986301,
          0.7698630136986301,
          0.7698630136986301,
          0.7698630136986301,
          0.7698630136986301,
          0.7698630136986301,
          0.7698630136986301,
          0.7698630136986301,
          0.7698630136986301,
          0.7698630136986301,
          0.7698630136986301,
          0.7698630136986301,
          0.7698630136986301,
          0.7698630136986301,
          0.7698630136986301,
          0.7698630136986301,
          0.7698630136986301,
          0.7698630136986301,
          0.7698630136986301,
          0.7698630136986301,
          0.7698630136986301,
          0.7698630136986301,
          0.7698630136986301,
          0.7698630136986301,
          0.7698630136986301,
          0.7698630136986301,
          0.7698630136986301,
          0.7698630136986301,
          0.7698630136986301,
          0.7698630136986301,
          0.7698630136986301,
          0.7698630136986301,
          0.7698630136986301
         ],
         "xaxis": "x",
         "y": [
          0.25704228640438975,
          0.2560587862401676,
          0.25602904575162894,
          0.25175078239663595,
          0.2478097596160018,
          0.2487913383823034,
          0.24880903817960928,
          0.24963923256756912,
          0.2513657520540411,
          0.25259463850803887,
          0.25474387667348036,
          0.26035136205643217,
          0.28000276649169487,
          0.3041733994276427,
          0.31053474409907017,
          0.31305747863953076,
          0.3137635028150981,
          0.3366615560098443,
          0.36804357570428126,
          0.3676386169891026,
          0.4161029999991494,
          0.4644062230609094,
          0.4080583665875248,
          0.3980228141383829,
          0.37213901196046334,
          0.36927192357625904,
          0.3573877647283521,
          0.34986621523502737,
          0.3488237293129662,
          0.339164862319036,
          0.3312446083738321,
          0.326668269306274,
          0.32256124948262177,
          0.31989998342202597,
          0.31291612580169204,
          0.30991873516956614,
          0.30167337377778164,
          0.30197947302046835
         ],
         "yaxis": "y"
        }
       ],
       "layout": {
        "legend": {
         "title": {
          "text": "Symbol"
         },
         "tracegroupgap": 0
        },
        "template": {
         "data": {
          "bar": [
           {
            "error_x": {
             "color": "#2a3f5f"
            },
            "error_y": {
             "color": "#2a3f5f"
            },
            "marker": {
             "line": {
              "color": "#E5ECF6",
              "width": 0.5
             },
             "pattern": {
              "fillmode": "overlay",
              "size": 10,
              "solidity": 0.2
             }
            },
            "type": "bar"
           }
          ],
          "barpolar": [
           {
            "marker": {
             "line": {
              "color": "#E5ECF6",
              "width": 0.5
             },
             "pattern": {
              "fillmode": "overlay",
              "size": 10,
              "solidity": 0.2
             }
            },
            "type": "barpolar"
           }
          ],
          "carpet": [
           {
            "aaxis": {
             "endlinecolor": "#2a3f5f",
             "gridcolor": "white",
             "linecolor": "white",
             "minorgridcolor": "white",
             "startlinecolor": "#2a3f5f"
            },
            "baxis": {
             "endlinecolor": "#2a3f5f",
             "gridcolor": "white",
             "linecolor": "white",
             "minorgridcolor": "white",
             "startlinecolor": "#2a3f5f"
            },
            "type": "carpet"
           }
          ],
          "choropleth": [
           {
            "colorbar": {
             "outlinewidth": 0,
             "ticks": ""
            },
            "type": "choropleth"
           }
          ],
          "contour": [
           {
            "colorbar": {
             "outlinewidth": 0,
             "ticks": ""
            },
            "colorscale": [
             [
              0,
              "#0d0887"
             ],
             [
              0.1111111111111111,
              "#46039f"
             ],
             [
              0.2222222222222222,
              "#7201a8"
             ],
             [
              0.3333333333333333,
              "#9c179e"
             ],
             [
              0.4444444444444444,
              "#bd3786"
             ],
             [
              0.5555555555555556,
              "#d8576b"
             ],
             [
              0.6666666666666666,
              "#ed7953"
             ],
             [
              0.7777777777777778,
              "#fb9f3a"
             ],
             [
              0.8888888888888888,
              "#fdca26"
             ],
             [
              1,
              "#f0f921"
             ]
            ],
            "type": "contour"
           }
          ],
          "contourcarpet": [
           {
            "colorbar": {
             "outlinewidth": 0,
             "ticks": ""
            },
            "type": "contourcarpet"
           }
          ],
          "heatmap": [
           {
            "colorbar": {
             "outlinewidth": 0,
             "ticks": ""
            },
            "colorscale": [
             [
              0,
              "#0d0887"
             ],
             [
              0.1111111111111111,
              "#46039f"
             ],
             [
              0.2222222222222222,
              "#7201a8"
             ],
             [
              0.3333333333333333,
              "#9c179e"
             ],
             [
              0.4444444444444444,
              "#bd3786"
             ],
             [
              0.5555555555555556,
              "#d8576b"
             ],
             [
              0.6666666666666666,
              "#ed7953"
             ],
             [
              0.7777777777777778,
              "#fb9f3a"
             ],
             [
              0.8888888888888888,
              "#fdca26"
             ],
             [
              1,
              "#f0f921"
             ]
            ],
            "type": "heatmap"
           }
          ],
          "heatmapgl": [
           {
            "colorbar": {
             "outlinewidth": 0,
             "ticks": ""
            },
            "colorscale": [
             [
              0,
              "#0d0887"
             ],
             [
              0.1111111111111111,
              "#46039f"
             ],
             [
              0.2222222222222222,
              "#7201a8"
             ],
             [
              0.3333333333333333,
              "#9c179e"
             ],
             [
              0.4444444444444444,
              "#bd3786"
             ],
             [
              0.5555555555555556,
              "#d8576b"
             ],
             [
              0.6666666666666666,
              "#ed7953"
             ],
             [
              0.7777777777777778,
              "#fb9f3a"
             ],
             [
              0.8888888888888888,
              "#fdca26"
             ],
             [
              1,
              "#f0f921"
             ]
            ],
            "type": "heatmapgl"
           }
          ],
          "histogram": [
           {
            "marker": {
             "pattern": {
              "fillmode": "overlay",
              "size": 10,
              "solidity": 0.2
             }
            },
            "type": "histogram"
           }
          ],
          "histogram2d": [
           {
            "colorbar": {
             "outlinewidth": 0,
             "ticks": ""
            },
            "colorscale": [
             [
              0,
              "#0d0887"
             ],
             [
              0.1111111111111111,
              "#46039f"
             ],
             [
              0.2222222222222222,
              "#7201a8"
             ],
             [
              0.3333333333333333,
              "#9c179e"
             ],
             [
              0.4444444444444444,
              "#bd3786"
             ],
             [
              0.5555555555555556,
              "#d8576b"
             ],
             [
              0.6666666666666666,
              "#ed7953"
             ],
             [
              0.7777777777777778,
              "#fb9f3a"
             ],
             [
              0.8888888888888888,
              "#fdca26"
             ],
             [
              1,
              "#f0f921"
             ]
            ],
            "type": "histogram2d"
           }
          ],
          "histogram2dcontour": [
           {
            "colorbar": {
             "outlinewidth": 0,
             "ticks": ""
            },
            "colorscale": [
             [
              0,
              "#0d0887"
             ],
             [
              0.1111111111111111,
              "#46039f"
             ],
             [
              0.2222222222222222,
              "#7201a8"
             ],
             [
              0.3333333333333333,
              "#9c179e"
             ],
             [
              0.4444444444444444,
              "#bd3786"
             ],
             [
              0.5555555555555556,
              "#d8576b"
             ],
             [
              0.6666666666666666,
              "#ed7953"
             ],
             [
              0.7777777777777778,
              "#fb9f3a"
             ],
             [
              0.8888888888888888,
              "#fdca26"
             ],
             [
              1,
              "#f0f921"
             ]
            ],
            "type": "histogram2dcontour"
           }
          ],
          "mesh3d": [
           {
            "colorbar": {
             "outlinewidth": 0,
             "ticks": ""
            },
            "type": "mesh3d"
           }
          ],
          "parcoords": [
           {
            "line": {
             "colorbar": {
              "outlinewidth": 0,
              "ticks": ""
             }
            },
            "type": "parcoords"
           }
          ],
          "pie": [
           {
            "automargin": true,
            "type": "pie"
           }
          ],
          "scatter": [
           {
            "fillpattern": {
             "fillmode": "overlay",
             "size": 10,
             "solidity": 0.2
            },
            "type": "scatter"
           }
          ],
          "scatter3d": [
           {
            "line": {
             "colorbar": {
              "outlinewidth": 0,
              "ticks": ""
             }
            },
            "marker": {
             "colorbar": {
              "outlinewidth": 0,
              "ticks": ""
             }
            },
            "type": "scatter3d"
           }
          ],
          "scattercarpet": [
           {
            "marker": {
             "colorbar": {
              "outlinewidth": 0,
              "ticks": ""
             }
            },
            "type": "scattercarpet"
           }
          ],
          "scattergeo": [
           {
            "marker": {
             "colorbar": {
              "outlinewidth": 0,
              "ticks": ""
             }
            },
            "type": "scattergeo"
           }
          ],
          "scattergl": [
           {
            "marker": {
             "colorbar": {
              "outlinewidth": 0,
              "ticks": ""
             }
            },
            "type": "scattergl"
           }
          ],
          "scattermapbox": [
           {
            "marker": {
             "colorbar": {
              "outlinewidth": 0,
              "ticks": ""
             }
            },
            "type": "scattermapbox"
           }
          ],
          "scatterpolar": [
           {
            "marker": {
             "colorbar": {
              "outlinewidth": 0,
              "ticks": ""
             }
            },
            "type": "scatterpolar"
           }
          ],
          "scatterpolargl": [
           {
            "marker": {
             "colorbar": {
              "outlinewidth": 0,
              "ticks": ""
             }
            },
            "type": "scatterpolargl"
           }
          ],
          "scatterternary": [
           {
            "marker": {
             "colorbar": {
              "outlinewidth": 0,
              "ticks": ""
             }
            },
            "type": "scatterternary"
           }
          ],
          "surface": [
           {
            "colorbar": {
             "outlinewidth": 0,
             "ticks": ""
            },
            "colorscale": [
             [
              0,
              "#0d0887"
             ],
             [
              0.1111111111111111,
              "#46039f"
             ],
             [
              0.2222222222222222,
              "#7201a8"
             ],
             [
              0.3333333333333333,
              "#9c179e"
             ],
             [
              0.4444444444444444,
              "#bd3786"
             ],
             [
              0.5555555555555556,
              "#d8576b"
             ],
             [
              0.6666666666666666,
              "#ed7953"
             ],
             [
              0.7777777777777778,
              "#fb9f3a"
             ],
             [
              0.8888888888888888,
              "#fdca26"
             ],
             [
              1,
              "#f0f921"
             ]
            ],
            "type": "surface"
           }
          ],
          "table": [
           {
            "cells": {
             "fill": {
              "color": "#EBF0F8"
             },
             "line": {
              "color": "white"
             }
            },
            "header": {
             "fill": {
              "color": "#C8D4E3"
             },
             "line": {
              "color": "white"
             }
            },
            "type": "table"
           }
          ]
         },
         "layout": {
          "annotationdefaults": {
           "arrowcolor": "#2a3f5f",
           "arrowhead": 0,
           "arrowwidth": 1
          },
          "autotypenumbers": "strict",
          "coloraxis": {
           "colorbar": {
            "outlinewidth": 0,
            "ticks": ""
           }
          },
          "colorscale": {
           "diverging": [
            [
             0,
             "#8e0152"
            ],
            [
             0.1,
             "#c51b7d"
            ],
            [
             0.2,
             "#de77ae"
            ],
            [
             0.3,
             "#f1b6da"
            ],
            [
             0.4,
             "#fde0ef"
            ],
            [
             0.5,
             "#f7f7f7"
            ],
            [
             0.6,
             "#e6f5d0"
            ],
            [
             0.7,
             "#b8e186"
            ],
            [
             0.8,
             "#7fbc41"
            ],
            [
             0.9,
             "#4d9221"
            ],
            [
             1,
             "#276419"
            ]
           ],
           "sequential": [
            [
             0,
             "#0d0887"
            ],
            [
             0.1111111111111111,
             "#46039f"
            ],
            [
             0.2222222222222222,
             "#7201a8"
            ],
            [
             0.3333333333333333,
             "#9c179e"
            ],
            [
             0.4444444444444444,
             "#bd3786"
            ],
            [
             0.5555555555555556,
             "#d8576b"
            ],
            [
             0.6666666666666666,
             "#ed7953"
            ],
            [
             0.7777777777777778,
             "#fb9f3a"
            ],
            [
             0.8888888888888888,
             "#fdca26"
            ],
            [
             1,
             "#f0f921"
            ]
           ],
           "sequentialminus": [
            [
             0,
             "#0d0887"
            ],
            [
             0.1111111111111111,
             "#46039f"
            ],
            [
             0.2222222222222222,
             "#7201a8"
            ],
            [
             0.3333333333333333,
             "#9c179e"
            ],
            [
             0.4444444444444444,
             "#bd3786"
            ],
            [
             0.5555555555555556,
             "#d8576b"
            ],
            [
             0.6666666666666666,
             "#ed7953"
            ],
            [
             0.7777777777777778,
             "#fb9f3a"
            ],
            [
             0.8888888888888888,
             "#fdca26"
            ],
            [
             1,
             "#f0f921"
            ]
           ]
          },
          "colorway": [
           "#636efa",
           "#EF553B",
           "#00cc96",
           "#ab63fa",
           "#FFA15A",
           "#19d3f3",
           "#FF6692",
           "#B6E880",
           "#FF97FF",
           "#FECB52"
          ],
          "font": {
           "color": "#2a3f5f"
          },
          "geo": {
           "bgcolor": "white",
           "lakecolor": "white",
           "landcolor": "#E5ECF6",
           "showlakes": true,
           "showland": true,
           "subunitcolor": "white"
          },
          "hoverlabel": {
           "align": "left"
          },
          "hovermode": "closest",
          "mapbox": {
           "style": "light"
          },
          "paper_bgcolor": "white",
          "plot_bgcolor": "#E5ECF6",
          "polar": {
           "angularaxis": {
            "gridcolor": "white",
            "linecolor": "white",
            "ticks": ""
           },
           "bgcolor": "#E5ECF6",
           "radialaxis": {
            "gridcolor": "white",
            "linecolor": "white",
            "ticks": ""
           }
          },
          "scene": {
           "xaxis": {
            "backgroundcolor": "#E5ECF6",
            "gridcolor": "white",
            "gridwidth": 2,
            "linecolor": "white",
            "showbackground": true,
            "ticks": "",
            "zerolinecolor": "white"
           },
           "yaxis": {
            "backgroundcolor": "#E5ECF6",
            "gridcolor": "white",
            "gridwidth": 2,
            "linecolor": "white",
            "showbackground": true,
            "ticks": "",
            "zerolinecolor": "white"
           },
           "zaxis": {
            "backgroundcolor": "#E5ECF6",
            "gridcolor": "white",
            "gridwidth": 2,
            "linecolor": "white",
            "showbackground": true,
            "ticks": "",
            "zerolinecolor": "white"
           }
          },
          "shapedefaults": {
           "line": {
            "color": "#2a3f5f"
           }
          },
          "ternary": {
           "aaxis": {
            "gridcolor": "white",
            "linecolor": "white",
            "ticks": ""
           },
           "baxis": {
            "gridcolor": "white",
            "linecolor": "white",
            "ticks": ""
           },
           "bgcolor": "#E5ECF6",
           "caxis": {
            "gridcolor": "white",
            "linecolor": "white",
            "ticks": ""
           }
          },
          "title": {
           "x": 0.05
          },
          "xaxis": {
           "automargin": true,
           "gridcolor": "white",
           "linecolor": "white",
           "ticks": "",
           "title": {
            "standoff": 15
           },
           "zerolinecolor": "white",
           "zerolinewidth": 2
          },
          "yaxis": {
           "automargin": true,
           "gridcolor": "white",
           "linecolor": "white",
           "ticks": "",
           "title": {
            "standoff": 15
           },
           "zerolinecolor": "white",
           "zerolinewidth": 2
          }
         }
        },
        "title": {
         "text": "Implied Volatility Term Structure"
        },
        "xaxis": {
         "anchor": "y",
         "domain": [
          0,
          1
         ],
         "title": {
          "text": "Time to Expiry"
         }
        },
        "yaxis": {
         "anchor": "x",
         "domain": [
          0,
          1
         ],
         "title": {
          "text": "Implied Volatility"
         }
        }
       }
      }
     },
     "metadata": {},
     "output_type": "display_data"
    }
   ],
   "source": [
    "import plotly.express as px\n",
    "\n",
    "fig = px.line(implied_vol_df, x=\"Time to Expiry\", y=\"Implied Volatility\", color=\"Symbol\",\n",
    "              markers=True, title=\"Implied Volatility Term Structure\")\n",
    "\n",
    "fig.show()\n"
   ]
  },
  {
   "cell_type": "code",
   "execution_count": 9,
   "metadata": {},
   "outputs": [
    {
     "data": {
      "application/vnd.plotly.v1+json": {
       "config": {
        "plotlyServerURL": "https://plot.ly"
       },
       "data": [
        {
         "colorbar": {
          "title": {
           "text": "Implied Volatility"
          }
         },
         "colorscale": [
          [
           0,
           "#440154"
          ],
          [
           0.1111111111111111,
           "#482878"
          ],
          [
           0.2222222222222222,
           "#3e4989"
          ],
          [
           0.3333333333333333,
           "#31688e"
          ],
          [
           0.4444444444444444,
           "#26828e"
          ],
          [
           0.5555555555555556,
           "#1f9e89"
          ],
          [
           0.6666666666666666,
           "#35b779"
          ],
          [
           0.7777777777777778,
           "#6ece58"
          ],
          [
           0.8888888888888888,
           "#b5de2b"
          ],
          [
           1,
           "#fde725"
          ]
         ],
         "opacity": 0.8,
         "type": "mesh3d",
         "x": [
          58.5,
          59,
          59.5,
          60,
          60.5,
          61,
          61.5,
          62,
          62.5,
          63,
          63.5,
          64,
          64.5,
          65,
          65.5,
          66,
          66.5,
          67,
          67.5,
          68,
          68.5,
          69,
          69.5,
          70,
          70.5,
          71,
          71.5,
          72,
          72.5,
          73,
          73.5,
          74,
          74.5,
          75,
          75.5,
          76,
          76.5,
          77,
          77.5,
          78,
          78.5,
          58.5,
          59,
          59.5,
          60,
          60.5,
          61,
          61.5,
          62,
          62.5,
          63,
          63.5,
          64,
          64.5,
          65,
          65.5,
          66,
          66.5,
          67,
          67.5,
          68,
          68.5,
          69,
          69.5,
          70,
          70.5,
          71,
          71.5,
          72,
          72.5,
          73,
          73.5,
          74,
          74.5,
          75,
          75.5,
          76,
          76.5,
          77,
          77.5,
          78,
          78.5,
          57,
          57.5,
          58,
          58.5,
          59,
          59.5,
          60,
          60.5,
          61,
          61.5,
          62,
          62.5,
          63,
          63.5,
          64,
          64.5,
          65,
          65.5,
          66,
          66.5,
          67,
          67.5,
          68,
          68.5,
          69,
          69.5,
          70,
          70.5,
          71,
          71.5,
          72,
          72.5,
          73,
          73.5,
          74,
          74.5,
          75,
          75.5,
          76,
          76.5,
          77,
          57,
          57.5,
          58,
          58.5,
          59,
          59.5,
          60,
          60.5,
          61,
          61.5,
          62,
          62.5,
          63,
          63.5,
          64,
          64.5,
          65,
          65.5,
          66,
          66.5,
          67,
          67.5,
          68,
          68.5,
          69,
          69.5,
          70,
          70.5,
          71,
          71.5,
          72,
          72.5,
          73,
          73.5,
          74,
          74.5,
          75,
          75.5,
          76,
          76.5,
          77,
          55.5,
          56,
          56.5,
          57,
          57.5,
          58,
          58.5,
          59,
          59.5,
          60,
          60.5,
          61,
          61.5,
          62,
          62.5,
          63,
          63.5,
          64,
          64.5,
          65,
          65.5,
          66,
          66.5,
          67,
          67.5,
          68,
          68.5,
          69,
          69.5,
          70,
          70.5,
          71,
          71.5,
          72,
          72.5,
          73,
          73.5,
          74,
          74.5,
          75,
          75.5,
          55.5,
          56,
          56.5,
          57,
          57.5,
          58,
          58.5,
          59,
          59.5,
          60,
          60.5,
          61,
          61.5,
          62,
          62.5,
          63,
          63.5,
          64,
          64.5,
          65,
          65.5,
          66,
          66.5,
          67,
          67.5,
          68,
          68.5,
          69,
          69.5,
          70,
          70.5,
          71,
          71.5,
          72,
          72.5,
          73,
          73.5,
          74,
          74.5,
          75,
          75.5,
          54.5,
          55,
          55.5,
          56,
          56.5,
          57,
          57.5,
          58,
          58.5,
          59,
          59.5,
          60,
          60.5,
          61,
          61.5,
          62,
          62.5,
          63,
          63.5,
          64,
          64.5,
          65,
          65.5,
          66,
          66.5,
          67,
          67.5,
          68,
          68.5,
          69,
          69.5,
          70,
          70.5,
          71,
          71.5,
          72,
          72.5,
          73,
          73.5,
          74,
          74.5,
          54.5,
          55,
          55.5,
          56,
          56.5,
          57,
          57.5,
          58,
          58.5,
          59,
          59.5,
          60,
          60.5,
          61,
          61.5,
          62,
          62.5,
          63,
          63.5,
          64,
          64.5,
          65,
          65.5,
          66,
          66.5,
          67,
          67.5,
          68,
          68.5,
          69,
          69.5,
          70,
          70.5,
          71,
          71.5,
          72,
          72.5,
          73,
          73.5,
          74,
          74.5,
          54,
          54.5,
          55,
          55.5,
          56,
          56.5,
          57,
          57.5,
          58,
          58.5,
          59,
          59.5,
          60,
          60.5,
          61,
          61.5,
          62,
          62.5,
          63,
          63.5,
          64,
          64.5,
          65,
          65.5,
          66,
          66.5,
          67,
          67.5,
          68,
          68.5,
          69,
          69.5,
          70,
          70.5,
          71,
          71.5,
          72,
          72.5,
          73,
          73.5,
          74,
          54,
          54.5,
          55,
          55.5,
          56,
          56.5,
          57,
          57.5,
          58,
          58.5,
          59,
          59.5,
          60,
          60.5,
          61,
          61.5,
          62,
          62.5,
          63,
          63.5,
          64,
          64.5,
          65,
          65.5,
          66,
          66.5,
          67,
          67.5,
          68,
          68.5,
          69,
          69.5,
          70,
          70.5,
          71,
          71.5,
          72,
          72.5,
          73,
          73.5,
          74,
          54,
          55.5,
          56,
          56.5,
          57,
          57.5,
          58,
          58.5,
          59,
          59.5,
          60,
          60.5,
          61,
          61.5,
          62,
          62.5,
          63,
          63.5,
          64,
          64.5,
          65,
          65.5,
          66,
          66.5,
          67,
          67.5,
          68,
          68.5,
          69,
          69.5,
          70,
          70.5,
          71,
          71.5,
          72,
          72.5,
          73,
          73.5,
          53.5,
          54,
          54.5,
          55,
          55.5,
          56,
          56.5,
          57,
          57.5,
          58,
          58.5,
          59,
          59.5,
          60,
          60.5,
          61,
          61.5,
          62,
          62.5,
          63,
          63.5,
          64,
          64.5,
          65,
          65.5,
          66,
          66.5,
          67,
          67.5,
          68,
          68.5,
          69,
          69.5,
          70,
          70.5,
          71,
          71.5,
          72,
          72.5,
          73,
          73.5,
          53.5,
          54.5,
          55,
          55.5,
          56,
          56.5,
          57,
          57.5,
          58,
          58.5,
          59,
          59.5,
          60,
          60.5,
          61,
          61.5,
          62,
          62.5,
          63,
          63.5,
          64,
          64.5,
          65,
          65.5,
          66,
          66.5,
          67,
          67.5,
          68,
          68.5,
          69,
          69.5,
          70,
          70.5,
          71,
          71.5,
          72,
          72.5,
          73,
          53.5,
          54,
          55,
          55.5,
          56,
          56.5,
          57,
          57.5,
          58,
          58.5,
          59,
          59.5,
          60,
          60.5,
          61,
          61.5,
          62,
          62.5,
          63,
          63.5,
          64,
          64.5,
          65,
          65.5,
          66,
          66.5,
          67,
          67.5,
          68,
          68.5,
          69,
          69.5,
          70,
          70.5,
          71,
          72,
          72.5,
          73,
          55,
          56,
          56.5,
          57,
          57.5,
          58,
          58.5,
          59,
          59.5,
          60,
          60.5,
          61,
          61.5,
          62,
          62.5,
          63,
          63.5,
          64,
          64.5,
          65,
          65.5,
          66,
          66.5,
          67,
          67.5,
          68,
          68.5,
          69,
          69.5,
          70,
          70.5,
          71,
          71.5,
          72,
          72.5,
          73,
          73.5,
          53.5,
          54,
          54.5,
          55,
          55.5,
          56,
          56.5,
          57,
          57.5,
          58,
          58.5,
          59,
          59.5,
          60,
          60.5,
          61,
          61.5,
          62,
          62.5,
          63,
          63.5,
          64,
          64.5,
          65,
          65.5,
          66,
          66.5,
          67,
          67.5,
          68,
          68.5,
          69,
          69.5,
          70,
          70.5,
          71,
          71.5,
          72.5,
          73,
          73.5,
          53,
          60,
          65,
          65.5,
          68,
          70,
          70.5,
          71,
          71.5,
          72,
          72.5,
          55,
          55.5,
          56,
          57,
          58,
          59,
          60,
          63,
          65,
          67.5,
          60,
          60.5,
          63,
          65,
          70,
          72,
          53,
          55,
          58,
          59,
          60,
          61,
          64,
          65,
          71,
          72
         ],
         "y": [
          0,
          0,
          0,
          0,
          0,
          0,
          0,
          0,
          0,
          0,
          0,
          0,
          0,
          0,
          0,
          0,
          0,
          0,
          0,
          0,
          0,
          0,
          0,
          0,
          0,
          0,
          0,
          0,
          0,
          0,
          0,
          0,
          0,
          0,
          0,
          0,
          0,
          0,
          0,
          0,
          0,
          0,
          0,
          0,
          0,
          0,
          0,
          0,
          0,
          0,
          0,
          0,
          0,
          0,
          0,
          0,
          0,
          0,
          0,
          0,
          0,
          0,
          0,
          0,
          0,
          0,
          0,
          0,
          0,
          0,
          0,
          0,
          0,
          0,
          0,
          0,
          0,
          0,
          0,
          0,
          0,
          0,
          1,
          1,
          1,
          1,
          1,
          1,
          1,
          1,
          1,
          1,
          1,
          1,
          1,
          1,
          1,
          1,
          1,
          1,
          1,
          1,
          1,
          1,
          1,
          1,
          1,
          1,
          1,
          1,
          1,
          1,
          1,
          1,
          1,
          1,
          1,
          1,
          1,
          1,
          1,
          1,
          1,
          1,
          1,
          1,
          1,
          1,
          1,
          1,
          1,
          1,
          1,
          1,
          1,
          1,
          1,
          1,
          1,
          1,
          1,
          1,
          1,
          1,
          1,
          1,
          1,
          1,
          1,
          1,
          1,
          1,
          1,
          1,
          1,
          1,
          1,
          1,
          1,
          1,
          1,
          1,
          1,
          1,
          2,
          2,
          2,
          2,
          2,
          2,
          2,
          2,
          2,
          2,
          2,
          2,
          2,
          2,
          2,
          2,
          2,
          2,
          2,
          2,
          2,
          2,
          2,
          2,
          2,
          2,
          2,
          2,
          2,
          2,
          2,
          2,
          2,
          2,
          2,
          2,
          2,
          2,
          2,
          2,
          2,
          2,
          2,
          2,
          2,
          2,
          2,
          2,
          2,
          2,
          2,
          2,
          2,
          2,
          2,
          2,
          2,
          2,
          2,
          2,
          2,
          2,
          2,
          2,
          2,
          2,
          2,
          2,
          2,
          2,
          2,
          2,
          2,
          2,
          2,
          2,
          2,
          2,
          2,
          2,
          2,
          2,
          3,
          3,
          3,
          3,
          3,
          3,
          3,
          3,
          3,
          3,
          3,
          3,
          3,
          3,
          3,
          3,
          3,
          3,
          3,
          3,
          3,
          3,
          3,
          3,
          3,
          3,
          3,
          3,
          3,
          3,
          3,
          3,
          3,
          3,
          3,
          3,
          3,
          3,
          3,
          3,
          3,
          3,
          3,
          3,
          3,
          3,
          3,
          3,
          3,
          3,
          3,
          3,
          3,
          3,
          3,
          3,
          3,
          3,
          3,
          3,
          3,
          3,
          3,
          3,
          3,
          3,
          3,
          3,
          3,
          3,
          3,
          3,
          3,
          3,
          3,
          3,
          3,
          3,
          3,
          3,
          3,
          3,
          4,
          4,
          4,
          4,
          4,
          4,
          4,
          4,
          4,
          4,
          4,
          4,
          4,
          4,
          4,
          4,
          4,
          4,
          4,
          4,
          4,
          4,
          4,
          4,
          4,
          4,
          4,
          4,
          4,
          4,
          4,
          4,
          4,
          4,
          4,
          4,
          4,
          4,
          4,
          4,
          4,
          4,
          4,
          4,
          4,
          4,
          4,
          4,
          4,
          4,
          4,
          4,
          4,
          4,
          4,
          4,
          4,
          4,
          4,
          4,
          4,
          4,
          4,
          4,
          4,
          4,
          4,
          4,
          4,
          4,
          4,
          4,
          4,
          4,
          4,
          4,
          4,
          4,
          4,
          4,
          4,
          4,
          5,
          5,
          5,
          5,
          5,
          5,
          5,
          5,
          5,
          5,
          5,
          5,
          5,
          5,
          5,
          5,
          5,
          5,
          5,
          5,
          5,
          5,
          5,
          5,
          5,
          5,
          5,
          5,
          5,
          5,
          5,
          5,
          5,
          5,
          5,
          5,
          5,
          5,
          5,
          5,
          5,
          5,
          5,
          5,
          5,
          5,
          5,
          5,
          5,
          5,
          5,
          5,
          5,
          5,
          5,
          5,
          5,
          5,
          5,
          5,
          5,
          5,
          5,
          5,
          5,
          5,
          5,
          5,
          5,
          5,
          5,
          5,
          5,
          5,
          5,
          5,
          5,
          5,
          5,
          6,
          6,
          6,
          6,
          6,
          6,
          6,
          6,
          6,
          6,
          6,
          6,
          6,
          6,
          6,
          6,
          6,
          6,
          6,
          6,
          6,
          6,
          6,
          6,
          6,
          6,
          6,
          6,
          6,
          6,
          6,
          6,
          6,
          6,
          6,
          6,
          6,
          6,
          6,
          6,
          6,
          6,
          6,
          6,
          6,
          6,
          6,
          6,
          6,
          6,
          6,
          6,
          6,
          6,
          6,
          6,
          6,
          6,
          6,
          6,
          6,
          6,
          6,
          6,
          6,
          6,
          6,
          6,
          6,
          6,
          6,
          6,
          6,
          6,
          6,
          6,
          6,
          7,
          7,
          7,
          7,
          7,
          7,
          7,
          7,
          7,
          7,
          7,
          7,
          7,
          7,
          7,
          7,
          7,
          7,
          7,
          7,
          7,
          7,
          7,
          7,
          7,
          7,
          7,
          7,
          7,
          7,
          7,
          7,
          7,
          7,
          7,
          7,
          7,
          7,
          7,
          7,
          7,
          7,
          7,
          7,
          7,
          7,
          7,
          7,
          7,
          7,
          7,
          7,
          7,
          7,
          7,
          7,
          7,
          7,
          7,
          7,
          7,
          7,
          7,
          7,
          7,
          7,
          7,
          7,
          7,
          7,
          7,
          7,
          7,
          7,
          7,
          7,
          7,
          8,
          8,
          8,
          8,
          8,
          8,
          8,
          8,
          8,
          8,
          8,
          8,
          8,
          8,
          8,
          8,
          8,
          8,
          8,
          8,
          8,
          9,
          9,
          9,
          9,
          9,
          9,
          9,
          9,
          9,
          9,
          9,
          9,
          9,
          9,
          9,
          9
         ],
         "z": [
          0.617803541126115,
          0.5974107382181296,
          0.568127194758412,
          0.5481396614405911,
          0.5283338291440582,
          0.49973969524772777,
          0.4803291717075014,
          0.46693633924649575,
          null,
          0.422027544548306,
          0.4086686711514904,
          null,
          0.3748871856759362,
          0.39731062116711247,
          null,
          0.2944227066823517,
          0.3826447853361745,
          0.3247641514849878,
          0.36363992864572836,
          0.3048381769593214,
          0.29031745237079526,
          0.30034272038203824,
          0.30619990916816586,
          0.30788111632375254,
          0.34643862952956106,
          0.32117137109755456,
          0.3197756442673804,
          0.3311265560629531,
          0.3694023359078,
          0.34678793632752364,
          0.3782201169792918,
          0.3988781883159901,
          0.41297813273473527,
          0.403999907276914,
          0.4341812178210007,
          0.44855666815048206,
          0.45505024405566846,
          0.45084025822607715,
          0.4953957492428801,
          0.501976191020684,
          0.5085078941734981,
          0.5422360670310546,
          0.516271395754128,
          0.5202489198134982,
          0.4946293062429335,
          0.4692345050675711,
          0.4728001320090301,
          0.4358860927265624,
          0.4081981795505484,
          0.3896464213141235,
          0.3932875164033811,
          0.37437881283075447,
          0.36149483392972087,
          0.3462677021645212,
          0.34119754493643023,
          0.34150496609909975,
          0.33113649494337766,
          0.3199565312086084,
          0.31180329490895525,
          0.2837099097581676,
          0.3104680164558243,
          0.308196789811967,
          0.3081850906183407,
          0.2797647812849032,
          0.31857622199495134,
          0.23652015685828043,
          0.31117061886871183,
          0.31068726737477215,
          0.24143964559721673,
          0.32244731139988797,
          0.3266466846823272,
          null,
          0.3249646427253442,
          0.3184674579786218,
          0.32177596859939356,
          null,
          null,
          null,
          null,
          null,
          null,
          null,
          0.3346203724324311,
          0.3376945672164185,
          0.3304974193402542,
          0.3292745754147808,
          0.3251418562677633,
          0.32681936004787265,
          0.31747511135320894,
          0.31864886341871335,
          0.3156729500994537,
          0.3176735466285193,
          0.3137704949024836,
          0.31310390316808256,
          0.31244582209481886,
          0.3115612598515603,
          0.2711903620173536,
          0.30826863329542875,
          0.30928496589497634,
          0.3084995165286418,
          0.30413621716431966,
          0.321286520499595,
          0.3254519193428129,
          0.2944531082067855,
          0.30362895936170636,
          0.32900020645520994,
          0.3027330944379048,
          0.32821625528567,
          0.3335822838452402,
          0.3191465036024592,
          0.3441471314664023,
          0.3276842103412982,
          0.3413838632355904,
          0.3450117319917059,
          0.3344780431753669,
          0.3563841859334314,
          0.34419748902855934,
          0.3454467578289299,
          0.35550527422444117,
          0.35493147500930267,
          0.3806415041346096,
          0.36648454825111737,
          0.36833154015973096,
          0.39027377183777556,
          0.3802585554764873,
          0.3820731654832608,
          0.3746036427430882,
          0.36943197800203914,
          0.355949634024309,
          0.35509489003455097,
          0.35628892101488063,
          0.34785019911393666,
          0.3423665857103803,
          0.3369432045406224,
          0.3632442781082092,
          0.33550474624550997,
          0.35127308002722085,
          0.31631046289806986,
          0.3147626141911771,
          0.31572586946838543,
          0.31197796018061874,
          0.3244867734541342,
          0.3129469763288255,
          0.313352766060619,
          0.31902128849346,
          0.3281127585797402,
          0.33236560367921747,
          0.3297737302407092,
          0.3377141325633943,
          0.3255840460993127,
          0.33831321583909524,
          0.3421092721767563,
          0.34500100951764073,
          0.34571229525074354,
          0.349222693504359,
          0.35402842531577744,
          0.3586337048055506,
          0.3624720795508758,
          0.36528970676835365,
          0.36801118471843935,
          0.37242969874661785,
          0.37852483907752177,
          0.38445781243319976,
          0.3900599888624552,
          0.30709572528469214,
          0.3081210211937614,
          0.30861570288056117,
          0.30604440401363026,
          0.305099812170524,
          0.30574845720798954,
          0.3063880130157081,
          0.3048361210494445,
          0.3029084518671401,
          0.3022148021583867,
          0.30273028602504204,
          0.3038227819477907,
          0.3013912528074537,
          0.3009947353031322,
          0.31750553197643777,
          0.3031825762129792,
          0.30242091953286043,
          0.3007975531270877,
          0.31261370836496993,
          0.30205817596597506,
          0.3190182739626814,
          0.31516987544492875,
          0.2964367880909106,
          0.30134275156453194,
          0.30532776034389253,
          0.3084087234725566,
          0.3166171540213994,
          0.3085372064509734,
          0.3096740405461308,
          0.30717137776527054,
          0.3137120988248403,
          0.3336650632294619,
          0.31664865011105703,
          0.31300476693375134,
          0.3218321096901498,
          0.31819612307451567,
          0.33204583026186685,
          0.34271281475693627,
          0.33032096649693987,
          0.3388517256471407,
          0.3331892035231609,
          0.37622485853836213,
          0.3656385507994646,
          0.36153467306235965,
          0.35903003017264373,
          0.35718515413361895,
          0.3515349357259035,
          0.34839037589089,
          0.3452683795309958,
          0.3457840402376236,
          0.3462242220925259,
          0.3405052916875374,
          0.32899335478207925,
          0.3306509206469501,
          0.33326811993319644,
          0.3338086919538583,
          0.33437046391416003,
          0.3318311133018707,
          0.3508635507785562,
          0.32944407644328016,
          0.3304160306472381,
          0.3453540286995202,
          0.33072638570122437,
          0.33034401892263215,
          0.3299218426275521,
          0.33118080359437807,
          0.3331775297218165,
          0.3599483661228243,
          0.3661935967573249,
          0.3348614026911924,
          0.33674747893296936,
          0.33853692446715683,
          0.33925788005124125,
          0.3436226004224656,
          0.34400040424329215,
          0.3453856385909265,
          0.34773203224805727,
          0.3500016220332673,
          0.3532024396267821,
          0.35624805910678026,
          0.35986080447559643,
          0.36173259762757515,
          null,
          null,
          null,
          null,
          null,
          null,
          null,
          null,
          null,
          null,
          null,
          null,
          null,
          null,
          null,
          null,
          null,
          null,
          null,
          null,
          null,
          0.2976900148741534,
          0.3047959104175375,
          0.29623905636227593,
          0.29000341092264326,
          0.29848488269120155,
          0.30031463379038303,
          0.3002943790710845,
          0.29966081983858023,
          0.2998087872791269,
          0.3007246433965643,
          0.302395021234972,
          0.30404596484672425,
          0.31400995596892756,
          0.30565431440918844,
          0.3069400325103932,
          0.30646427412088895,
          0.308600191170983,
          0.31157837850721504,
          0.3128048714453529,
          0.31517938139301543,
          0.3712024919640735,
          0.3697068605369831,
          0.3720872524857602,
          0.36059629162103374,
          0.35769966522883556,
          0.35483262657524467,
          0.3655263582106168,
          0.35117725900454866,
          0.3500945837161327,
          0.34610396191638465,
          0.34474989214143087,
          0.343403599117228,
          0.34204443861692085,
          0.3415086689154256,
          0.34163405975106564,
          0.33969647869035907,
          0.34590497148461663,
          0.3358751893605065,
          0.3328153538346331,
          0.35329605680556714,
          0.33638108093598484,
          0.33236988838493864,
          0.3342043060911703,
          0.3337623325530961,
          0.3340365811747055,
          0.32611894044028417,
          0.3321338685561174,
          0.344513406791294,
          0.337315187964533,
          0.33653608204475594,
          0.3372884586512759,
          0.3379911062418136,
          0.339365195431546,
          0.3414170154948379,
          0.3440273765517243,
          0.34510794655727217,
          0.34529131377643946,
          0.34631672619018633,
          0.3472793042256924,
          0.34906549019998145,
          0.35162431256861343,
          0.2988796609164397,
          0.30027325373067937,
          0.3008912806931998,
          0.3000556223604021,
          0.2992319687065609,
          0.2984202962901868,
          0.29948247604618605,
          0.3005289135512062,
          0.2999194596061342,
          0.2986032201112466,
          0.29730531043058056,
          0.29679058881041653,
          0.31374423722855294,
          0.2784052738725276,
          0.2978294480938671,
          0.2984762608312001,
          0.3107099411164211,
          0.2936430173917609,
          0.2936314117009503,
          0.29428895996583093,
          null,
          0.29323380296133816,
          0.2922078607907817,
          0.2911953040819921,
          0.29149023493987525,
          0.2917813449519315,
          0.2978214431579451,
          0.29878947330995526,
          0.29132650207338145,
          0.2907524803237909,
          0.2908601293108089,
          0.2916375415493678,
          0.2924057347201781,
          0.2944906330416262,
          0.2948620472405325,
          0.29366984817397973,
          0.29402118733572025,
          0.2989337169168988,
          0.2954678450443327,
          0.29730719700564245,
          0.29912673249298916,
          0.3639325424316038,
          0.36122022854331054,
          0.3623088220162953,
          0.36428331762260246,
          0.3559927688469894,
          0.35509834078356334,
          0.3522260130371941,
          0.3462334505596247,
          0.3465021410938656,
          0.3444518894638311,
          0.34315935291356114,
          0.3418544624117506,
          0.3374774465009372,
          0.3403841458868479,
          0.3375873566562409,
          0.3354970915157173,
          0.33341929541554416,
          0.3326768589510184,
          0.33190221986741925,
          0.3317172658704557,
          0.3318429782796047,
          0.32945037630639457,
          0.3382487985155732,
          0.32664598103350473,
          0.3261786023443378,
          0.32630771638547285,
          0.34188633482796427,
          0.3261916508356101,
          0.32690635698417486,
          0.30557345518675827,
          0.3255015589500617,
          0.32542335992406624,
          0.3259476148248275,
          0.3263976976125795,
          0.3280637622110454,
          0.329471488635109,
          0.3290876764749834,
          0.3292191095970686,
          0.32929615931341455,
          0.3300950889377084,
          0.3315842304304443,
          null,
          null,
          null,
          null,
          null,
          null,
          null,
          null,
          null,
          null,
          null,
          null,
          null,
          null,
          null,
          null,
          null,
          null,
          0.28273223577761364,
          0.28120347970787235,
          0.2802901653506739,
          0.2793892036564425,
          0.27263642358099555,
          0.2799542835196244,
          0.2813892626697491,
          0.2809405641939747,
          0.2928252537397667,
          0.27931030409739477,
          0.2788163227339522,
          0.27954295186697803,
          0.2802606066698633,
          0.2815689847698638,
          0.2820405537377547,
          0.28168560831800765,
          0.2813354516402703,
          0.28167643753526395,
          0.28201337128728854,
          0.28302550046187475,
          0.36485753312039315,
          0.3622841591142589,
          0.3605867105186501,
          0.35888045205228125,
          0.35879917812850637,
          0.3566929708526006,
          0.35325057368235935,
          0.3505556721279892,
          0.347886258455702,
          0.34662917715206076,
          0.34536186254295187,
          0.3440655402912673,
          0.3440603601896328,
          0.34231402121465765,
          0.3390721525699417,
          0.3371116706702864,
          0.335155107024261,
          0.3338012567279844,
          0.33304396112199436,
          0.3328334559866898,
          0.33190415896546555,
          0.3315728103732154,
          0.32995253037740424,
          0.328337957201469,
          0.3272997210170801,
          0.32680970825120126,
          0.32687330020004285,
          0.32683600029850746,
          0.32784728696360327,
          0.32734834370696,
          0.32605781954139545,
          0.32538014255118625,
          0.3252817387280753,
          0.3276007518563383,
          0.32613198651298475,
          0.3270645429159704,
          0.3284905955007071,
          0.329701566350998,
          0.3295906337694271,
          0.32965503733559864,
          0.3303991347674931,
          null,
          null,
          null,
          null,
          null,
          null,
          null,
          null,
          null,
          null,
          null,
          null,
          null,
          null,
          null,
          null,
          null,
          null,
          null,
          null,
          0.27268782529976826,
          0.2712969151783024,
          0.270474190393959,
          0.27020720806979653,
          0.2699439212479534,
          0.27075822716424186,
          0.2715615772366908,
          0.27061831522331375,
          0.2696038849525692,
          0.26916929601316186,
          0.2687402170698171,
          0.2688758081278179,
          0.26956453021292237,
          0.2707957930335939,
          0.2716216810025591,
          0.2706840471983301,
          0.27039374979133074,
          0.2707384158998126,
          0.27107883824215295,
          0.3584683105935316,
          0.3568309647291108,
          0.35449177590391334,
          0.3512384071103227,
          0.3486888818247994,
          0.34616283666739583,
          0.3436510990426291,
          0.34244940939118046,
          0.3405999298416969,
          0.33999216734860943,
          0.33930428496770926,
          0.3375692241946411,
          0.3345512136430247,
          0.33213921857680595,
          0.3303135984044027,
          0.32904346436580134,
          0.3277675639504336,
          0.3275748036791735,
          0.32730119977774275,
          0.32665922570322625,
          0.32460553976638185,
          0.32256031531797785,
          0.3216090816854738,
          0.320625113742769,
          0.3196095501112697,
          0.3196409693702891,
          0.32011529544949385,
          0.32045639109464796,
          0.31990159374929816,
          0.3187206281181814,
          0.3180898220110515,
          0.3174201350513372,
          0.3172600798955195,
          0.3176270060004449,
          0.3184795349742765,
          0.320397735730062,
          0.32125072852373693,
          0.3213297588001525,
          null,
          null,
          null,
          null,
          null,
          null,
          null,
          null,
          null,
          null,
          null,
          null,
          null,
          null,
          null,
          null,
          0.2653751970571921,
          0.26408759162285844,
          0.2628183127695291,
          0.2620734987872931,
          0.26184154482783145,
          0.26161289447098207,
          0.2618826372392528,
          0.26264052624716416,
          0.2618344378560916,
          0.2609211447980125,
          0.26002060660211196,
          0.25965049945757407,
          0.2597996458036843,
          0.2604577387443975,
          0.2611073514323898,
          0.26225277976519507,
          0.2614691181833033,
          0.26122870721145286,
          0.2609915391109126,
          0.26075740035857664,
          0.26109932011648873,
          0.3534463605564543,
          0.35248455845607735,
          0.3503021004112064,
          0.35224416556133864,
          0.34486316504302267,
          0.34248902822061367,
          0.34072766297649126,
          0.33897854428831437,
          0.33782235859728893,
          0.3366207464834743,
          0.33593599114500605,
          0.3339069518769235,
          0.33163758593890863,
          0.32883710170224256,
          0.32712871899630425,
          0.3254041976134575,
          0.32421389442765847,
          0.32298532781560585,
          0.32222645989146986,
          0.32189251468381175,
          0.32087929400605364,
          0.3189854581037806,
          0.31708570486889964,
          0.3156842382764232,
          0.31476242784010167,
          0.3138168949794356,
          0.31381816711160126,
          0.3137382164737804,
          0.3140413909631893,
          0.31396851228531614,
          0.31235120777873926,
          0.31123987229839245,
          0.31062573723574244,
          0.3104874710102793,
          0.3103080241029704,
          0.31058007407001753,
          0.3112780432869218,
          0.31336297235182137,
          0.3136537956107509,
          0.3130933861521556,
          0.2617764970017607,
          0.264056657265574,
          0.2576648347780082,
          0.25744685193153344,
          0.25575437555318337,
          0.2543963535187762,
          0.2545469940386858,
          0.25564609990426634,
          0.25563557689163857,
          0.2548758243912415,
          0.2541262225061996,
          0.3427051020865702,
          0.3404232070037485,
          0.33873210137996196,
          0.3353599295279141,
          0.33412260014403383,
          0.3358553303835012,
          0.32586490844795757,
          0.31951326648312384,
          0.3129999682500424,
          0.3099489454125663,
          0.25704228640438975,
          0.2560587862401676,
          0.25602904575162894,
          0.25175078239663595,
          0.2478097596160018,
          0.2487913383823034,
          0.3488237293129662,
          0.339164862319036,
          0.3312446083738321,
          0.326668269306274,
          0.32256124948262177,
          0.31989998342202597,
          0.31291612580169204,
          0.30991873516956614,
          0.30167337377778164,
          0.30197947302046835
         ]
        }
       ],
       "layout": {
        "height": 700,
        "scene": {
         "camera": {
          "eye": {
           "x": 1.5,
           "y": 1.5,
           "z": 1
          }
         },
         "xaxis": {
          "title": {
           "text": "Strike Price"
          }
         },
         "yaxis": {
          "title": {
           "text": "Contract Month"
          }
         },
         "zaxis": {
          "title": {
           "text": "Implied Volatility"
          }
         }
        },
        "template": {
         "data": {
          "bar": [
           {
            "error_x": {
             "color": "#2a3f5f"
            },
            "error_y": {
             "color": "#2a3f5f"
            },
            "marker": {
             "line": {
              "color": "#E5ECF6",
              "width": 0.5
             },
             "pattern": {
              "fillmode": "overlay",
              "size": 10,
              "solidity": 0.2
             }
            },
            "type": "bar"
           }
          ],
          "barpolar": [
           {
            "marker": {
             "line": {
              "color": "#E5ECF6",
              "width": 0.5
             },
             "pattern": {
              "fillmode": "overlay",
              "size": 10,
              "solidity": 0.2
             }
            },
            "type": "barpolar"
           }
          ],
          "carpet": [
           {
            "aaxis": {
             "endlinecolor": "#2a3f5f",
             "gridcolor": "white",
             "linecolor": "white",
             "minorgridcolor": "white",
             "startlinecolor": "#2a3f5f"
            },
            "baxis": {
             "endlinecolor": "#2a3f5f",
             "gridcolor": "white",
             "linecolor": "white",
             "minorgridcolor": "white",
             "startlinecolor": "#2a3f5f"
            },
            "type": "carpet"
           }
          ],
          "choropleth": [
           {
            "colorbar": {
             "outlinewidth": 0,
             "ticks": ""
            },
            "type": "choropleth"
           }
          ],
          "contour": [
           {
            "colorbar": {
             "outlinewidth": 0,
             "ticks": ""
            },
            "colorscale": [
             [
              0,
              "#0d0887"
             ],
             [
              0.1111111111111111,
              "#46039f"
             ],
             [
              0.2222222222222222,
              "#7201a8"
             ],
             [
              0.3333333333333333,
              "#9c179e"
             ],
             [
              0.4444444444444444,
              "#bd3786"
             ],
             [
              0.5555555555555556,
              "#d8576b"
             ],
             [
              0.6666666666666666,
              "#ed7953"
             ],
             [
              0.7777777777777778,
              "#fb9f3a"
             ],
             [
              0.8888888888888888,
              "#fdca26"
             ],
             [
              1,
              "#f0f921"
             ]
            ],
            "type": "contour"
           }
          ],
          "contourcarpet": [
           {
            "colorbar": {
             "outlinewidth": 0,
             "ticks": ""
            },
            "type": "contourcarpet"
           }
          ],
          "heatmap": [
           {
            "colorbar": {
             "outlinewidth": 0,
             "ticks": ""
            },
            "colorscale": [
             [
              0,
              "#0d0887"
             ],
             [
              0.1111111111111111,
              "#46039f"
             ],
             [
              0.2222222222222222,
              "#7201a8"
             ],
             [
              0.3333333333333333,
              "#9c179e"
             ],
             [
              0.4444444444444444,
              "#bd3786"
             ],
             [
              0.5555555555555556,
              "#d8576b"
             ],
             [
              0.6666666666666666,
              "#ed7953"
             ],
             [
              0.7777777777777778,
              "#fb9f3a"
             ],
             [
              0.8888888888888888,
              "#fdca26"
             ],
             [
              1,
              "#f0f921"
             ]
            ],
            "type": "heatmap"
           }
          ],
          "heatmapgl": [
           {
            "colorbar": {
             "outlinewidth": 0,
             "ticks": ""
            },
            "colorscale": [
             [
              0,
              "#0d0887"
             ],
             [
              0.1111111111111111,
              "#46039f"
             ],
             [
              0.2222222222222222,
              "#7201a8"
             ],
             [
              0.3333333333333333,
              "#9c179e"
             ],
             [
              0.4444444444444444,
              "#bd3786"
             ],
             [
              0.5555555555555556,
              "#d8576b"
             ],
             [
              0.6666666666666666,
              "#ed7953"
             ],
             [
              0.7777777777777778,
              "#fb9f3a"
             ],
             [
              0.8888888888888888,
              "#fdca26"
             ],
             [
              1,
              "#f0f921"
             ]
            ],
            "type": "heatmapgl"
           }
          ],
          "histogram": [
           {
            "marker": {
             "pattern": {
              "fillmode": "overlay",
              "size": 10,
              "solidity": 0.2
             }
            },
            "type": "histogram"
           }
          ],
          "histogram2d": [
           {
            "colorbar": {
             "outlinewidth": 0,
             "ticks": ""
            },
            "colorscale": [
             [
              0,
              "#0d0887"
             ],
             [
              0.1111111111111111,
              "#46039f"
             ],
             [
              0.2222222222222222,
              "#7201a8"
             ],
             [
              0.3333333333333333,
              "#9c179e"
             ],
             [
              0.4444444444444444,
              "#bd3786"
             ],
             [
              0.5555555555555556,
              "#d8576b"
             ],
             [
              0.6666666666666666,
              "#ed7953"
             ],
             [
              0.7777777777777778,
              "#fb9f3a"
             ],
             [
              0.8888888888888888,
              "#fdca26"
             ],
             [
              1,
              "#f0f921"
             ]
            ],
            "type": "histogram2d"
           }
          ],
          "histogram2dcontour": [
           {
            "colorbar": {
             "outlinewidth": 0,
             "ticks": ""
            },
            "colorscale": [
             [
              0,
              "#0d0887"
             ],
             [
              0.1111111111111111,
              "#46039f"
             ],
             [
              0.2222222222222222,
              "#7201a8"
             ],
             [
              0.3333333333333333,
              "#9c179e"
             ],
             [
              0.4444444444444444,
              "#bd3786"
             ],
             [
              0.5555555555555556,
              "#d8576b"
             ],
             [
              0.6666666666666666,
              "#ed7953"
             ],
             [
              0.7777777777777778,
              "#fb9f3a"
             ],
             [
              0.8888888888888888,
              "#fdca26"
             ],
             [
              1,
              "#f0f921"
             ]
            ],
            "type": "histogram2dcontour"
           }
          ],
          "mesh3d": [
           {
            "colorbar": {
             "outlinewidth": 0,
             "ticks": ""
            },
            "type": "mesh3d"
           }
          ],
          "parcoords": [
           {
            "line": {
             "colorbar": {
              "outlinewidth": 0,
              "ticks": ""
             }
            },
            "type": "parcoords"
           }
          ],
          "pie": [
           {
            "automargin": true,
            "type": "pie"
           }
          ],
          "scatter": [
           {
            "fillpattern": {
             "fillmode": "overlay",
             "size": 10,
             "solidity": 0.2
            },
            "type": "scatter"
           }
          ],
          "scatter3d": [
           {
            "line": {
             "colorbar": {
              "outlinewidth": 0,
              "ticks": ""
             }
            },
            "marker": {
             "colorbar": {
              "outlinewidth": 0,
              "ticks": ""
             }
            },
            "type": "scatter3d"
           }
          ],
          "scattercarpet": [
           {
            "marker": {
             "colorbar": {
              "outlinewidth": 0,
              "ticks": ""
             }
            },
            "type": "scattercarpet"
           }
          ],
          "scattergeo": [
           {
            "marker": {
             "colorbar": {
              "outlinewidth": 0,
              "ticks": ""
             }
            },
            "type": "scattergeo"
           }
          ],
          "scattergl": [
           {
            "marker": {
             "colorbar": {
              "outlinewidth": 0,
              "ticks": ""
             }
            },
            "type": "scattergl"
           }
          ],
          "scattermapbox": [
           {
            "marker": {
             "colorbar": {
              "outlinewidth": 0,
              "ticks": ""
             }
            },
            "type": "scattermapbox"
           }
          ],
          "scatterpolar": [
           {
            "marker": {
             "colorbar": {
              "outlinewidth": 0,
              "ticks": ""
             }
            },
            "type": "scatterpolar"
           }
          ],
          "scatterpolargl": [
           {
            "marker": {
             "colorbar": {
              "outlinewidth": 0,
              "ticks": ""
             }
            },
            "type": "scatterpolargl"
           }
          ],
          "scatterternary": [
           {
            "marker": {
             "colorbar": {
              "outlinewidth": 0,
              "ticks": ""
             }
            },
            "type": "scatterternary"
           }
          ],
          "surface": [
           {
            "colorbar": {
             "outlinewidth": 0,
             "ticks": ""
            },
            "colorscale": [
             [
              0,
              "#0d0887"
             ],
             [
              0.1111111111111111,
              "#46039f"
             ],
             [
              0.2222222222222222,
              "#7201a8"
             ],
             [
              0.3333333333333333,
              "#9c179e"
             ],
             [
              0.4444444444444444,
              "#bd3786"
             ],
             [
              0.5555555555555556,
              "#d8576b"
             ],
             [
              0.6666666666666666,
              "#ed7953"
             ],
             [
              0.7777777777777778,
              "#fb9f3a"
             ],
             [
              0.8888888888888888,
              "#fdca26"
             ],
             [
              1,
              "#f0f921"
             ]
            ],
            "type": "surface"
           }
          ],
          "table": [
           {
            "cells": {
             "fill": {
              "color": "#EBF0F8"
             },
             "line": {
              "color": "white"
             }
            },
            "header": {
             "fill": {
              "color": "#C8D4E3"
             },
             "line": {
              "color": "white"
             }
            },
            "type": "table"
           }
          ]
         },
         "layout": {
          "annotationdefaults": {
           "arrowcolor": "#2a3f5f",
           "arrowhead": 0,
           "arrowwidth": 1
          },
          "autotypenumbers": "strict",
          "coloraxis": {
           "colorbar": {
            "outlinewidth": 0,
            "ticks": ""
           }
          },
          "colorscale": {
           "diverging": [
            [
             0,
             "#8e0152"
            ],
            [
             0.1,
             "#c51b7d"
            ],
            [
             0.2,
             "#de77ae"
            ],
            [
             0.3,
             "#f1b6da"
            ],
            [
             0.4,
             "#fde0ef"
            ],
            [
             0.5,
             "#f7f7f7"
            ],
            [
             0.6,
             "#e6f5d0"
            ],
            [
             0.7,
             "#b8e186"
            ],
            [
             0.8,
             "#7fbc41"
            ],
            [
             0.9,
             "#4d9221"
            ],
            [
             1,
             "#276419"
            ]
           ],
           "sequential": [
            [
             0,
             "#0d0887"
            ],
            [
             0.1111111111111111,
             "#46039f"
            ],
            [
             0.2222222222222222,
             "#7201a8"
            ],
            [
             0.3333333333333333,
             "#9c179e"
            ],
            [
             0.4444444444444444,
             "#bd3786"
            ],
            [
             0.5555555555555556,
             "#d8576b"
            ],
            [
             0.6666666666666666,
             "#ed7953"
            ],
            [
             0.7777777777777778,
             "#fb9f3a"
            ],
            [
             0.8888888888888888,
             "#fdca26"
            ],
            [
             1,
             "#f0f921"
            ]
           ],
           "sequentialminus": [
            [
             0,
             "#0d0887"
            ],
            [
             0.1111111111111111,
             "#46039f"
            ],
            [
             0.2222222222222222,
             "#7201a8"
            ],
            [
             0.3333333333333333,
             "#9c179e"
            ],
            [
             0.4444444444444444,
             "#bd3786"
            ],
            [
             0.5555555555555556,
             "#d8576b"
            ],
            [
             0.6666666666666666,
             "#ed7953"
            ],
            [
             0.7777777777777778,
             "#fb9f3a"
            ],
            [
             0.8888888888888888,
             "#fdca26"
            ],
            [
             1,
             "#f0f921"
            ]
           ]
          },
          "colorway": [
           "#636efa",
           "#EF553B",
           "#00cc96",
           "#ab63fa",
           "#FFA15A",
           "#19d3f3",
           "#FF6692",
           "#B6E880",
           "#FF97FF",
           "#FECB52"
          ],
          "font": {
           "color": "#2a3f5f"
          },
          "geo": {
           "bgcolor": "white",
           "lakecolor": "white",
           "landcolor": "#E5ECF6",
           "showlakes": true,
           "showland": true,
           "subunitcolor": "white"
          },
          "hoverlabel": {
           "align": "left"
          },
          "hovermode": "closest",
          "mapbox": {
           "style": "light"
          },
          "paper_bgcolor": "white",
          "plot_bgcolor": "#E5ECF6",
          "polar": {
           "angularaxis": {
            "gridcolor": "white",
            "linecolor": "white",
            "ticks": ""
           },
           "bgcolor": "#E5ECF6",
           "radialaxis": {
            "gridcolor": "white",
            "linecolor": "white",
            "ticks": ""
           }
          },
          "scene": {
           "xaxis": {
            "backgroundcolor": "#E5ECF6",
            "gridcolor": "white",
            "gridwidth": 2,
            "linecolor": "white",
            "showbackground": true,
            "ticks": "",
            "zerolinecolor": "white"
           },
           "yaxis": {
            "backgroundcolor": "#E5ECF6",
            "gridcolor": "white",
            "gridwidth": 2,
            "linecolor": "white",
            "showbackground": true,
            "ticks": "",
            "zerolinecolor": "white"
           },
           "zaxis": {
            "backgroundcolor": "#E5ECF6",
            "gridcolor": "white",
            "gridwidth": 2,
            "linecolor": "white",
            "showbackground": true,
            "ticks": "",
            "zerolinecolor": "white"
           }
          },
          "shapedefaults": {
           "line": {
            "color": "#2a3f5f"
           }
          },
          "ternary": {
           "aaxis": {
            "gridcolor": "white",
            "linecolor": "white",
            "ticks": ""
           },
           "baxis": {
            "gridcolor": "white",
            "linecolor": "white",
            "ticks": ""
           },
           "bgcolor": "#E5ECF6",
           "caxis": {
            "gridcolor": "white",
            "linecolor": "white",
            "ticks": ""
           }
          },
          "title": {
           "x": 0.05
          },
          "xaxis": {
           "automargin": true,
           "gridcolor": "white",
           "linecolor": "white",
           "ticks": "",
           "title": {
            "standoff": 15
           },
           "zerolinecolor": "white",
           "zerolinewidth": 2
          },
          "yaxis": {
           "automargin": true,
           "gridcolor": "white",
           "linecolor": "white",
           "ticks": "",
           "title": {
            "standoff": 15
           },
           "zerolinecolor": "white",
           "zerolinewidth": 2
          }
         }
        },
        "title": {
         "text": "Implied Volatility Surface"
        },
        "width": 1000
       }
      }
     },
     "metadata": {},
     "output_type": "display_data"
    }
   ],
   "source": [
    "import plotly.graph_objects as go\n",
    "import numpy as np\n",
    "import pandas as pd\n",
    "\n",
    "# Initialize lists to store data for the surface plot\n",
    "strike_prices = []\n",
    "contract_months = []\n",
    "implied_vols = []\n",
    "\n",
    "# Loop through unique contract symbols (months)\n",
    "for symbol in implied_vol_df['Symbol'].unique():\n",
    "    # Filter the data for the specific symbol\n",
    "    symbol_data = implied_vol_df[implied_vol_df['Symbol'] == symbol]\n",
    "    \n",
    "    # Get the current futures price (F) for the symbol\n",
    "    future_row = futures_df[futures_df['Contract'] == symbol]\n",
    "    F = future_row['Last Price'].values[0]  # Futures price\n",
    "    \n",
    "    # Find the ATM strike (closest to F)\n",
    "    atm_strike = min(symbol_data['Strike'], key=lambda x: abs(x - F))\n",
    "    \n",
    "    # Limit strikes to ±15 from ATM\n",
    "    symbol_data = symbol_data[symbol_data['Strike'].between(atm_strike - 10, atm_strike + 10)]\n",
    "    \n",
    "    # Append data to lists\n",
    "    for _, row in symbol_data.iterrows():\n",
    "        strike_prices.append(row['Strike'])\n",
    "        contract_months.append(symbol)\n",
    "        implied_vols.append(row['Implied Volatility'])\n",
    "\n",
    "# Convert to NumPy arrays for surface plotting\n",
    "X = np.array(strike_prices)\n",
    "Y = np.array(contract_months)  # This is categorical; it will be converted to numerical\n",
    "Z = np.array(implied_vols)\n",
    "\n",
    "# Create the surface plot\n",
    "fig = go.Figure(data=[go.Mesh3d(\n",
    "    x=X,\n",
    "    y=pd.factorize(Y)[0],  # Convert categorical contract months to numerical indices\n",
    "    z=Z,\n",
    "    colorbar_title='Implied Volatility',\n",
    "    colorscale='Viridis',\n",
    "    opacity=0.8\n",
    ")])\n",
    "\n",
    "# Update layout for better visibility\n",
    "fig.update_layout(\n",
    "    title='Implied Volatility Surface',\n",
    "    width=1000, height=700,  # Increase figure size\n",
    "    scene=dict(\n",
    "        xaxis_title='Strike Price',\n",
    "        yaxis_title='Contract Month',\n",
    "        zaxis_title='Implied Volatility',\n",
    "        camera=dict(eye=dict(x=1.5, y=1.5, z=1.0))  # Adjust viewing angle\n",
    "    )\n",
    ")\n",
    "\n",
    "# Show the plot\n",
    "fig.show()\n"
   ]
  },
  {
   "cell_type": "code",
   "execution_count": 10,
   "metadata": {},
   "outputs": [
    {
     "name": "stdout",
     "output_type": "stream",
     "text": [
      "=== Implied Volatility from American Options ===\n",
      "     Symbol  Type  Strike  Time to Expiry  Market Price  Implied Volatility\n",
      "0     CLQ25  Call    30.0        0.021918         38.38            2.534015\n",
      "1     CLQ25  Call    40.0        0.021918         28.38            1.689640\n",
      "2     CLQ25  Call    41.0        0.021918         27.38            1.617503\n",
      "3     CLQ25  Call    47.0        0.021918         21.38            1.219387\n",
      "4     CLQ25  Call    48.0        0.021918         20.38            1.158146\n",
      "...     ...   ...     ...             ...           ...                 ...\n",
      "2359  CLK26   Put    61.0        0.769863          5.36            0.319900\n",
      "2360  CLK26   Put    64.0        0.769863          6.72            0.312916\n",
      "2361  CLK26   Put    65.0        0.769863          7.23            0.309919\n",
      "2362  CLK26   Put    71.0        0.769863         10.85            0.301673\n",
      "2363  CLK26   Put    72.0        0.769863         11.55            0.301979\n",
      "\n",
      "[2364 rows x 6 columns]\n",
      "\n",
      "=== Asian Option Adjusted IV & Price ===\n",
      "     Symbol  Type  Strike  Time to Expiry  Adjusted Asian IV  \\\n",
      "0     CLQ25  Call    30.0        0.021918           0.643640   \n",
      "1     CLQ25  Call    40.0        0.021918           0.429169   \n",
      "2     CLQ25  Call    41.0        0.021918           0.410846   \n",
      "3     CLQ25  Call    47.0        0.021918           0.309725   \n",
      "4     CLQ25  Call    48.0        0.021918           0.294169   \n",
      "...     ...   ...     ...             ...                ...   \n",
      "2359  CLK26   Put    61.0        0.769863           0.081255   \n",
      "2360  CLK26   Put    64.0        0.769863           0.079481   \n",
      "2361  CLK26   Put    65.0        0.769863           0.078719   \n",
      "2362  CLK26   Put    71.0        0.769863           0.076625   \n",
      "2363  CLK26   Put    72.0        0.769863           0.076703   \n",
      "\n",
      "      Asian Option Price  \n",
      "0              40.855554  \n",
      "1              30.425830  \n",
      "2              29.378685  \n",
      "3              23.087706  \n",
      "4              22.038392  \n",
      "...                  ...  \n",
      "2359            1.504346  \n",
      "2360            2.854808  \n",
      "2361            3.424095  \n",
      "2362            7.990794  \n",
      "2363            8.885590  \n",
      "\n",
      "[2364 rows x 6 columns]\n"
     ]
    }
   ],
   "source": [
    "import numpy as np\n",
    "import pandas as pd\n",
    "from scipy.stats import norm\n",
    "\n",
    "# Function to adjust implied volatility for Asian options\n",
    "def adjust_iv_for_asian(iv, n):\n",
    "    \"\"\"Adjusts the implied volatility for an Asian option using averaging adjustment.\"\"\"\n",
    "    return iv * np.sqrt(2 / (n + 1))\n",
    "\n",
    "# Asian option pricing (Turnbull-Wakeman approximation for arithmetic average price options)\n",
    "def asian_option_price(F, K, T, r, sigma_asian, option_type):\n",
    "    \"\"\"Computes the price of an Asian option using Turnbull-Wakeman approximation.\"\"\"\n",
    "    sigma_adj = sigma_asian * np.sqrt(3 / (2 * T))\n",
    "  # Adjusted volatility\n",
    "    d1 = (np.log(F / K) + (0.5 * sigma_adj ** 2) * T) / (sigma_adj * np.sqrt(T))\n",
    "    d2 = d1 - sigma_adj * np.sqrt(T)\n",
    "    \n",
    "    if option_type == \"Call\":  # Call option\n",
    "        return np.exp(-r * T) * (F * norm.cdf(d1) - K * norm.cdf(d2))\n",
    "    elif option_type == \"Put\":  # Put option\n",
    "        return np.exp(-r * T) * (K * norm.cdf(-d2) - F * norm.cdf(-d1))\n",
    "    else:\n",
    "        raise ValueError(\"Invalid option type: must be 'C' or 'P'\")\n",
    "\n",
    "# Assume an averaging period (e.g., 30 days for a monthly Asian option)\n",
    "n = 30  # Number of averaging periods\n",
    "risk_free_rate = 0.03  # Example risk-free rate (3%)\n",
    "\n",
    "\n",
    "# Creating a new DataFrame for Asian option calculations\n",
    "asian_option_data = []\n",
    "\n",
    "for _, row in implied_vol_df.iterrows():\n",
    "    symbol = row[\"Symbol\"]\n",
    "    option_type = row[\"Type\"]\n",
    "    K = row[\"Strike\"]\n",
    "    T = row[\"Time to Expiry\"]\n",
    "    iv = row[\"Implied Volatility\"]\n",
    "    \n",
    "    # Find the corresponding futures price for the option's underlying symbol\n",
    "    future_row = futures_df[futures_df['Contract'] == symbol]\n",
    "    if future_row.empty:\n",
    "        continue  # Skip if no matching future found\n",
    "    \n",
    "    F = future_row['Last Price'].values[0]  # Assign actual futures price\n",
    "    \n",
    "    # Adjust the implied volatility for Asian options\n",
    "    sigma_asian = adjust_iv_for_asian(iv, n)\n",
    "    \n",
    "    # Calculate the Asian option price\n",
    "    asian_price = asian_option_price(F, K, T, risk_free_rate, sigma_asian, option_type)\n",
    "    \n",
    "    # Store results\n",
    "    asian_option_data.append((symbol, option_type, K, T, sigma_asian, asian_price))\n",
    "\n",
    "\n",
    "# Convert to DataFrame\n",
    "asian_option_df = pd.DataFrame(asian_option_data, columns=[\n",
    "    \"Symbol\", \"Type\", \"Strike\", \"Time to Expiry\", \"Adjusted Asian IV\", \"Asian Option Price\"\n",
    "])\n",
    "\n",
    "# Display Results\n",
    "print(\"=== Implied Volatility from American Options ===\")\n",
    "print(implied_vol_df)\n",
    "print(\"\\n=== Asian Option Adjusted IV & Price ===\")\n",
    "print(asian_option_df)\n"
   ]
  },
  {
   "cell_type": "code",
   "execution_count": 11,
   "metadata": {},
   "outputs": [
    {
     "name": "stdout",
     "output_type": "stream",
     "text": [
      "No Asian option data found for CLK25 Put with Strike: 77.0\n"
     ]
    }
   ],
   "source": [
    "def get_asian_option_data(asian_option_df, symbol, strike, option_type):\n",
    "    \"\"\"\n",
    "    Retrieves the row of Asian options data for a given symbol, strike price, and option type.\n",
    "\n",
    "    Parameters:\n",
    "    - asian_option_df (pd.DataFrame): DataFrame containing Asian options data.\n",
    "    - symbol (str): The symbol to filter.\n",
    "    - strike (float): The strike price to filter.\n",
    "    - option_type (str): Either 'Call' or 'Put'.\n",
    "\n",
    "    Returns:\n",
    "    - DataFrame: The filtered row(s) if found, otherwise None.\n",
    "    \"\"\"\n",
    "    # Filter based on symbol, strike, and option type\n",
    "    filtered_row = asian_option_df[\n",
    "        (asian_option_df[\"Symbol\"] == symbol) &\n",
    "        (asian_option_df[\"Strike\"] == strike) &\n",
    "        (asian_option_df[\"Type\"] == option_type)\n",
    "    ]\n",
    "\n",
    "    if filtered_row.empty:\n",
    "        print(f\"No Asian option data found for {symbol} {option_type} with Strike: {strike}\")\n",
    "        return None\n",
    "\n",
    "    return filtered_row\n",
    "\n",
    "# Example usage:\n",
    "result = get_asian_option_data(asian_option_df, \"CLK25\", 77.00, \"Put\")\n",
    "if result is not None:\n",
    "    print(result)\n"
   ]
  }
 ],
 "metadata": {
  "kernelspec": {
   "display_name": "Python 3",
   "language": "python",
   "name": "python3"
  },
  "language_info": {
   "codemirror_mode": {
    "name": "ipython",
    "version": 3
   },
   "file_extension": ".py",
   "mimetype": "text/x-python",
   "name": "python",
   "nbconvert_exporter": "python",
   "pygments_lexer": "ipython3",
   "version": "3.10.9"
  }
 },
 "nbformat": 4,
 "nbformat_minor": 2
}
