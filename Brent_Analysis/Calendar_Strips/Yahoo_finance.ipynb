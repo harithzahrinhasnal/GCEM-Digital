{
 "cells": [
  {
   "cell_type": "code",
   "execution_count": null,
   "id": "af5cf90b",
   "metadata": {},
   "outputs": [
    {
     "name": "stderr",
     "output_type": "stream",
     "text": [
      "[*********************100%***********************]  1 of 1 completed\n",
      "\n",
      "1 Failed download:\n",
      "['CL=F']: CertificateVerifyError('Failed to perform, curl: (60) SSL certificate problem: unable to get local issuer certificate. See https://curl.se/libcurl/c/libcurl-errors.html first for more details.')\n",
      "[*********************100%***********************]  1 of 1 completed\n",
      "\n",
      "1 Failed download:\n",
      "['BZ=F']: CertificateVerifyError('Failed to perform, curl: (60) SSL certificate problem: unable to get local issuer certificate. See https://curl.se/libcurl/c/libcurl-errors.html first for more details.')\n"
     ]
    },
    {
     "name": "stdout",
     "output_type": "stream",
     "text": [
      "Empty DataFrame\n",
      "Columns: []\n",
      "Index: []\n",
      "Empty DataFrame\n",
      "Columns: []\n",
      "Index: []\n"
     ]
    }
   ],
   "source": [
    "import yfinance as yf\n",
    "import pandas as pd\n",
    "from curl_cffi import requests\n",
    "\n",
    "# Create a curl_cffi session that mimics Chrome\n",
    "session = requests.Session(impersonate=\"chrome\")\n",
    "\n",
    "def load_oil_data(ticker='CL=F', start_date='2020-01-01', end_date='2023-01-01'):\n",
    "    try:\n",
    "        data = yf.download(ticker, start=start_date, end=end_date, session=session)\n",
    "        if data.empty:\n",
    "            return pd.DataFrame()\n",
    "        \n",
    "        data = data.reset_index()\n",
    "        data['Date'] = pd.to_datetime(data['Date'])\n",
    "        return data\n",
    "    except Exception as e:\n",
    "        print(\"Error:\", e)\n",
    "        return pd.DataFrame()\n",
    "\n",
    "# Load WTI data\n",
    "df_wti = load_oil_data('CL=F')\n",
    "print(df_wti.head())\n"
   ]
  }
 ],
 "metadata": {
  "kernelspec": {
   "display_name": "Python 3",
   "language": "python",
   "name": "python3"
  },
  "language_info": {
   "codemirror_mode": {
    "name": "ipython",
    "version": 3
   },
   "file_extension": ".py",
   "mimetype": "text/x-python",
   "name": "python",
   "nbconvert_exporter": "python",
   "pygments_lexer": "ipython3",
   "version": "3.10.9"
  }
 },
 "nbformat": 4,
 "nbformat_minor": 5
}
